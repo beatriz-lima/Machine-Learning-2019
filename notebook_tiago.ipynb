{
 "cells": [
  {
   "cell_type": "code",
   "execution_count": null,
   "metadata": {},
   "outputs": [],
   "source": [
    "import pandas as pd\n",
    "import numpy as np\n",
    "import matplotlib.pyplot as plt\n",
    "import seaborn as sns\n",
    "\n",
    "data_raw = pd.read_csv('PetFinder_dataset.csv')\n",
    "\n",
    "#Número de linhas do ficheiro\n",
    "datalen = range(len(data_raw))"
   ]
  },
  {
   "cell_type": "code",
   "execution_count": null,
   "metadata": {},
   "outputs": [],
   "source": [
    "#############################################################################\n",
    "#### Pure Breed #####\n",
    "\n",
    "lista1 =[]\n",
    "for i in datalen:\n",
    "    if data_raw['Breed1'][i]==307 or data_raw['Breed2'][i]==307:\n",
    "        lista1.append(0)\n",
    "    elif data_raw['Breed1'][i]!=307 and data_raw['Breed2'][i]==0:\n",
    "        lista1.append(1)\n",
    "    elif data_raw['Breed1'][i]==0 and data_raw['Breed2'][i]!=307:\n",
    "        lista1.append(1)\n",
    "    elif data_raw['Breed1'][i]==data_raw['Breed2'][i]:\n",
    "        lista1.append(1)\n",
    "    else:\n",
    "        lista1.append(0)\n",
    "\n",
    "data_raw.insert(5,'PureBreed',lista1) ##INSERT IN DATAFRAME"
   ]
  },
  {
   "cell_type": "code",
   "execution_count": null,
   "metadata": {},
   "outputs": [],
   "source": [
    "############################################################################\n",
    "#### UniColor #####\n",
    "lista2 = []   ##onecolor\n",
    "lista3 = []   ##twocolors\n",
    "lista4 = []   ##threecolors\n",
    "for i in datalen:   \n",
    "    if data_raw['Color2'][i]!=0 and data_raw['Color3'][i]!=0:\n",
    "        lista2.append(0)  \n",
    "        lista3.append(0) \n",
    "        lista4.append(1) \n",
    "    elif data_raw['Color2'][i]!=0 and data_raw['Color3'][i]==0:\n",
    "        lista2.append(0)  \n",
    "        lista3.append(1) \n",
    "        lista4.append(0) \n",
    "    else:   \n",
    "        lista2.append(1)  \n",
    "        lista3.append(0) \n",
    "        lista4.append(0)\n",
    "\n",
    "data_raw.insert(10,'SingleColor',lista2) ##INSERT IN DATAFRAME\n",
    "data_raw.insert(11,'TwoColors',lista3)   ##INSERT IN DATAFRAME\n",
    "data_raw.insert(12,'ThreeColors',lista4) ##INSERT IN DATAFRAME"
   ]
  },
  {
   "cell_type": "code",
   "execution_count": null,
   "metadata": {},
   "outputs": [],
   "source": [
    "############################################################################\n",
    "#### SINGLE ANIMAL #####\n",
    "lista5 = [] \n",
    "for i in datalen:  \n",
    "    if data_raw['Quantity'][i]>1:\n",
    "        lista5.append(0)\n",
    "    else:\n",
    "        lista5.append(1)\n",
    "\n",
    "data_raw.insert(13,'SinglePet',lista5) ##INSERT IN DATAFRAME\n",
    "\n",
    "############################################################################\n",
    "#### FREE ANIMALS #####\n",
    "lista6 = [] \n",
    "for i in datalen: \n",
    "    if data_raw['Fee'][i]>0:\n",
    "        lista6.append(0)\n",
    "    else:\n",
    "        lista6.append(1)\n",
    "        \n",
    "data_raw.insert(14,'FreePet',lista6) ##INSERT IN DATAFRAME"
   ]
  },
  {
   "cell_type": "code",
   "execution_count": null,
   "metadata": {},
   "outputs": [],
   "source": [
    "############################################################################\n",
    "#### VIDEO/NO VIDEO #####\n",
    "lista7 = [] \n",
    "for i in datalen: \n",
    "    if data_raw['VideoAmt'][i]>0:\n",
    "        lista7.append(1)\n",
    "    else:\n",
    "        lista7.append(0)\n",
    "        \n",
    "data_raw.insert(15,'HasVideo',lista7) ##INSERT IN DATAFRAME \n",
    "############################################################################\n",
    "#### PHOTO/NO PHOTO #####    \n",
    "lista8 = [] \n",
    "for i in datalen: \n",
    "    if data_raw['PhotoAmt'][i]>0:\n",
    "        lista8.append(1)\n",
    "    else:\n",
    "        lista8.append(0)\n",
    "        \n",
    "data_raw.insert(16,'HasPhoto',lista8) ##INSERT IN DATAFRAME     \n",
    "############################################################################\n",
    "#### NO PHOTO NOR VIDEO/PHOTO OR VIDEO #####        \n",
    "lista9 = [] \n",
    "for i in datalen: \n",
    "    if (data_raw['PhotoAmt'][i]+data_raw['VideoAmt'][i])>0:\n",
    "        lista9.append(1)\n",
    "    else:\n",
    "        lista9.append(0)\n",
    "        \n",
    "data_raw.insert(17,'VidOrPhoto',lista9) ##INSERT IN DATAFRAME   "
   ]
  }
 ],
 "metadata": {
  "kernelspec": {
   "display_name": "Python 3",
   "language": "python",
   "name": "python3"
  },
  "language_info": {
   "codemirror_mode": {
    "name": "ipython",
    "version": 3
   },
   "file_extension": ".py",
   "mimetype": "text/x-python",
   "name": "python",
   "nbconvert_exporter": "python",
   "pygments_lexer": "ipython3",
   "version": "3.7.4"
  }
 },
 "nbformat": 4,
 "nbformat_minor": 2
}
