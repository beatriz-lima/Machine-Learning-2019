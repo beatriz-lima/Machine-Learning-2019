{
 "cells": [
  {
   "cell_type": "markdown",
   "metadata": {},
   "source": [
    "## Task 0 (Know your Data) - Exploratory Data Analysis"
   ]
  },
  {
   "cell_type": "markdown",
   "metadata": {},
   "source": [
    "## 0.1. Loading Data"
   ]
  },
  {
   "cell_type": "code",
   "execution_count": 42,
   "metadata": {},
   "outputs": [],
   "source": [
    "import pandas as pd\n",
    "import numpy as np\n",
    "import matplotlib.pyplot as plt\n",
    "import seaborn as sns; sns.set()\n",
    "import math\n",
    "import statistics\n",
    "from sklearn.model_selection import train_test_split\n",
    "from sklearn.preprocessing import LabelEncoder, OneHotEncoder\n",
    "from sklearn import neighbors,tree, preprocessing\n",
    "from sklearn.metrics import confusion_matrix, precision_recall_fscore_support, classification_report, recall_score, accuracy_score\n",
    "from sklearn.naive_bayes import GaussianNB\n",
    "import re\n",
    "from imblearn.over_sampling import RandomOverSampler\n",
    "from sklearn.svm import LinearSVC\n",
    "from sklearn.linear_model import LogisticRegression"
   ]
  },
  {
   "cell_type": "code",
   "execution_count": 43,
   "metadata": {},
   "outputs": [
    {
     "name": "stdout",
     "output_type": "stream",
     "text": [
      "<class 'pandas.core.frame.DataFrame'>\n",
      "RangeIndex: 14993 entries, 0 to 14992\n",
      "Data columns (total 24 columns):\n",
      "Type             14993 non-null int64\n",
      "Name             13736 non-null object\n",
      "Age              14993 non-null int64\n",
      "Breed1           14993 non-null int64\n",
      "Breed2           14993 non-null int64\n",
      "Gender           14993 non-null int64\n",
      "Color1           14993 non-null int64\n",
      "Color2           14993 non-null int64\n",
      "Color3           14993 non-null int64\n",
      "MaturitySize     14993 non-null int64\n",
      "FurLength        14993 non-null int64\n",
      "Vaccinated       14993 non-null int64\n",
      "Dewormed         14993 non-null int64\n",
      "Sterilized       14993 non-null int64\n",
      "Health           14993 non-null int64\n",
      "Quantity         14993 non-null int64\n",
      "Fee              14993 non-null int64\n",
      "State            14993 non-null int64\n",
      "RescuerID        14993 non-null object\n",
      "VideoAmt         14993 non-null int64\n",
      "Description      14981 non-null object\n",
      "PetID            14993 non-null object\n",
      "PhotoAmt         14993 non-null float64\n",
      "AdoptionSpeed    14993 non-null int64\n",
      "dtypes: float64(1), int64(19), object(4)\n",
      "memory usage: 2.7+ MB\n"
     ]
    }
   ],
   "source": [
    "df = pd.read_csv('PetFinder_dataset.csv')\n",
    "df.info()"
   ]
  },
  {
   "cell_type": "markdown",
   "metadata": {},
   "source": [
    "Loading colour, breed and state labels:"
   ]
  },
  {
   "cell_type": "code",
   "execution_count": 44,
   "metadata": {},
   "outputs": [],
   "source": [
    "color_labels = pd.read_csv('color_labels.csv').set_index('ColorID')\n",
    "breed_labels = pd.read_csv('breed_labels.csv').set_index('BreedID')\n",
    "state_labels = pd.read_csv('state_labels.csv').set_index('StateID')"
   ]
  },
  {
   "cell_type": "markdown",
   "metadata": {},
   "source": [
    "## 0.2. Understanding Data"
   ]
  },
  {
   "cell_type": "markdown",
   "metadata": {},
   "source": [
    "### Basic Questions"
   ]
  },
  {
   "cell_type": "markdown",
   "metadata": {},
   "source": [
    "#### How big is the dataset?\n",
    "The dataset contains 14993 entries with 24 features each.\n",
    "\n",
    "#### Is this the entire dataset?\n",
    "The original dataset from PetFinder.my contains over 150,000 animal profiles.\n",
    "\n",
    "#### Is this data representative enough?\n",
    "The dataset represents ~10% of the original data. EDA is required to best assess whether it can be considered a representative sample of the original population.\n",
    "\n",
    "#### Are there likely to be gross outliers or extraordinary sources of noise?\n",
    "EDA can shed light on this topic, by representing data distribution and irregularities that could point to errors in data.\n",
    "\n",
    "#### Are there any fields that are unique identifiers? These are the fields you might use for joining between datasets, etc.\n",
    "All animal profiles are uniquely identified by a PetID. Each PetID also has a non-unique RescuerID, and a non-unique State.\n",
    "\n",
    "#### Are the supposedly unique identifiers actually unique? What does it mean if they aren't?\n",
    "PetID.\n",
    "\n",
    "#### When data entries are blank, where does that come from?\n",
    "The only blank entries in this dataset correspond to animal profiles without an assigned name.\n",
    "\n",
    "#### How common are blank entries?\n",
    "There are ~1200 blank entries, which constitute a significant portion of the data. Given this number, and due to the fact that blank entries have meaning attributed to them, it would perhaps be best to keep this data in the dataset for analysis."
   ]
  },
  {
   "cell_type": "markdown",
   "metadata": {},
   "source": [
    "## Exploratory Data Analysis"
   ]
  },
  {
   "cell_type": "markdown",
   "metadata": {},
   "source": [
    "In order to better understand our dataset and to make decisions about feature selection, feature extraction and general cleaning of the data, we started by plotting distribution of the original features and the target."
   ]
  },
  {
   "cell_type": "markdown",
   "metadata": {},
   "source": [
    "### Target: *AdoptionSpeed*\n",
    "\n",
    "The target feature displayed a clear discrepancy in distribution, showing a significantly lower number of examples for AdoptionSpeed = 0. This imbalance should be addressed, as models tend to neglect minority classes if they don't have a large enough representation in the overall dataset, therefore compromising the classification."
   ]
  },
  {
   "cell_type": "code",
   "execution_count": 119,
   "metadata": {},
   "outputs": [
    {
     "data": {
      "text/plain": [
       "<seaborn.axisgrid.FacetGrid at 0x1a23407fd0>"
      ]
     },
     "execution_count": 119,
     "metadata": {},
     "output_type": "execute_result"
    },
    {
     "data": {
      "image/png": "[encoded data removed]",
      "text/plain": [
       "<Figure size 360x360 with 1 Axes>"
      ]
     },
     "metadata": {},
     "output_type": "display_data"
    }
   ],
   "source": [
    "ax = sns.catplot(x=\"AdoptionSpeed\",data=df, kind='count')\n",
    "(ax.set_axis_labels(\"Adoption Speed\", \"Number of Pets\"))"
   ]
  },
  {
   "cell_type": "markdown",
   "metadata": {},
   "source": [
    "### Overall correlations\n",
    "The plot bellow illustrates the absolute correlation between  each feature and the target class \"AdoptionSpeed\". All correlations are very low (<15%)"
   ]
  },
  {
   "cell_type": "code",
   "execution_count": 46,
   "metadata": {},
   "outputs": [
    {
     "data": {
      "text/plain": [
       "([<matplotlib.axis.XTick at 0x1a20d6e8d0>,\n",
       "  <matplotlib.axis.XTick at 0x1a20d735d0>,\n",
       "  <matplotlib.axis.XTick at 0x1a20d73610>,\n",
       "  <matplotlib.axis.XTick at 0x1a227a0950>,\n",
       "  <matplotlib.axis.XTick at 0x1a22738610>,\n",
       "  <matplotlib.axis.XTick at 0x1a22738b90>,\n",
       "  <matplotlib.axis.XTick at 0x1a2273f0d0>,\n",
       "  <matplotlib.axis.XTick at 0x1a2273f710>,\n",
       "  <matplotlib.axis.XTick at 0x1a2273fc90>,\n",
       "  <matplotlib.axis.XTick at 0x1a227472d0>,\n",
       "  <matplotlib.axis.XTick at 0x1a22747790>,\n",
       "  <matplotlib.axis.XTick at 0x1a22747d10>,\n",
       "  <matplotlib.axis.XTick at 0x1a22747910>,\n",
       "  <matplotlib.axis.XTick at 0x1a2273f690>,\n",
       "  <matplotlib.axis.XTick at 0x1a22738590>,\n",
       "  <matplotlib.axis.XTick at 0x1a2274e410>,\n",
       "  <matplotlib.axis.XTick at 0x1a2274eb50>,\n",
       "  <matplotlib.axis.XTick at 0x1a2274e990>,\n",
       "  <matplotlib.axis.XTick at 0x1a22756690>],\n",
       " <a list of 19 Text xticklabel objects>)"
      ]
     },
     "execution_count": 46,
     "metadata": {},
     "output_type": "execute_result"
    },
    {
     "data": {
      "image/png": "[encoded data removed]",
      "text/plain": [
       "<Figure size 1440x504 with 1 Axes>"
      ]
     },
     "metadata": {},
     "output_type": "display_data"
    }
   ],
   "source": [
    "numeric_df = df.select_dtypes(exclude=['object'])\n",
    "corr_dict = {}\n",
    "for feature in numeric_df.columns:\n",
    "    corr_dict[feature] = abs(df['AdoptionSpeed'].corr(df[feature]))\n",
    "    #print(feature, '-->', corr_dict[feature])\n",
    "    \n",
    "corr_dict.pop('AdoptionSpeed')\n",
    "plt.figure(figsize=(20,7))\n",
    "plt.bar(range(len(corr_dict)), list(corr_dict.values()), align='center')\n",
    "plt.xticks(range(len(corr_dict)), list(corr_dict.keys()))"
   ]
  },
  {
   "cell_type": "markdown",
   "metadata": {},
   "source": [
    "### PetID\n",
    "\n",
    "Since PetID is not informative of the pet profile (it acts solely as a unique identifier of the page), it would be excluded from the analysis, although it will be used as an index for the dataFrame. It can be later useful when evaluating model performance, as the respective record values can reveal if certain features were appropriately categorised."
   ]
  },
  {
   "cell_type": "code",
   "execution_count": 47,
   "metadata": {},
   "outputs": [
    {
     "data": {
      "text/html": [
       "<div>\n",
       "<style scoped>\n",
       "    .dataframe tbody tr th:only-of-type {\n",
       "        vertical-align: middle;\n",
       "    }\n",
       "\n",
       "    .dataframe tbody tr th {\n",
       "        vertical-align: top;\n",
       "    }\n",
       "\n",
       "    .dataframe thead th {\n",
       "        text-align: right;\n",
       "    }\n",
       "</style>\n",
       "<table border=\"1\" class=\"dataframe\">\n",
       "  <thead>\n",
       "    <tr style=\"text-align: right;\">\n",
       "      <th></th>\n",
       "      <th>Type</th>\n",
       "      <th>Name</th>\n",
       "      <th>Age</th>\n",
       "      <th>Breed1</th>\n",
       "      <th>Breed2</th>\n",
       "      <th>Gender</th>\n",
       "      <th>Color1</th>\n",
       "      <th>Color2</th>\n",
       "      <th>Color3</th>\n",
       "      <th>MaturitySize</th>\n",
       "      <th>...</th>\n",
       "      <th>Sterilized</th>\n",
       "      <th>Health</th>\n",
       "      <th>Quantity</th>\n",
       "      <th>Fee</th>\n",
       "      <th>State</th>\n",
       "      <th>RescuerID</th>\n",
       "      <th>VideoAmt</th>\n",
       "      <th>Description</th>\n",
       "      <th>PhotoAmt</th>\n",
       "      <th>AdoptionSpeed</th>\n",
       "    </tr>\n",
       "    <tr>\n",
       "      <th>PetID</th>\n",
       "      <th></th>\n",
       "      <th></th>\n",
       "      <th></th>\n",
       "      <th></th>\n",
       "      <th></th>\n",
       "      <th></th>\n",
       "      <th></th>\n",
       "      <th></th>\n",
       "      <th></th>\n",
       "      <th></th>\n",
       "      <th></th>\n",
       "      <th></th>\n",
       "      <th></th>\n",
       "      <th></th>\n",
       "      <th></th>\n",
       "      <th></th>\n",
       "      <th></th>\n",
       "      <th></th>\n",
       "      <th></th>\n",
       "      <th></th>\n",
       "      <th></th>\n",
       "    </tr>\n",
       "  </thead>\n",
       "  <tbody>\n",
       "    <tr>\n",
       "      <td>86e1089a3</td>\n",
       "      <td>2</td>\n",
       "      <td>Nibble</td>\n",
       "      <td>3</td>\n",
       "      <td>299</td>\n",
       "      <td>0</td>\n",
       "      <td>1</td>\n",
       "      <td>1</td>\n",
       "      <td>7</td>\n",
       "      <td>0</td>\n",
       "      <td>1</td>\n",
       "      <td>...</td>\n",
       "      <td>2</td>\n",
       "      <td>1</td>\n",
       "      <td>1</td>\n",
       "      <td>100</td>\n",
       "      <td>41326</td>\n",
       "      <td>8480853f516546f6cf33aa88cd76c379</td>\n",
       "      <td>0</td>\n",
       "      <td>Nibble is a 3+ month old ball of cuteness. He ...</td>\n",
       "      <td>1.0</td>\n",
       "      <td>2</td>\n",
       "    </tr>\n",
       "    <tr>\n",
       "      <td>6296e909a</td>\n",
       "      <td>2</td>\n",
       "      <td>No Name Yet</td>\n",
       "      <td>1</td>\n",
       "      <td>265</td>\n",
       "      <td>0</td>\n",
       "      <td>1</td>\n",
       "      <td>1</td>\n",
       "      <td>2</td>\n",
       "      <td>0</td>\n",
       "      <td>2</td>\n",
       "      <td>...</td>\n",
       "      <td>3</td>\n",
       "      <td>1</td>\n",
       "      <td>1</td>\n",
       "      <td>0</td>\n",
       "      <td>41401</td>\n",
       "      <td>3082c7125d8fb66f7dd4bff4192c8b14</td>\n",
       "      <td>0</td>\n",
       "      <td>I just found it alone yesterday near my apartm...</td>\n",
       "      <td>2.0</td>\n",
       "      <td>0</td>\n",
       "    </tr>\n",
       "    <tr>\n",
       "      <td>3422e4906</td>\n",
       "      <td>1</td>\n",
       "      <td>Brisco</td>\n",
       "      <td>1</td>\n",
       "      <td>307</td>\n",
       "      <td>0</td>\n",
       "      <td>1</td>\n",
       "      <td>2</td>\n",
       "      <td>7</td>\n",
       "      <td>0</td>\n",
       "      <td>2</td>\n",
       "      <td>...</td>\n",
       "      <td>2</td>\n",
       "      <td>1</td>\n",
       "      <td>1</td>\n",
       "      <td>0</td>\n",
       "      <td>41326</td>\n",
       "      <td>fa90fa5b1ee11c86938398b60abc32cb</td>\n",
       "      <td>0</td>\n",
       "      <td>Their pregnant mother was dumped by her irresp...</td>\n",
       "      <td>7.0</td>\n",
       "      <td>3</td>\n",
       "    </tr>\n",
       "    <tr>\n",
       "      <td>5842f1ff5</td>\n",
       "      <td>1</td>\n",
       "      <td>Miko</td>\n",
       "      <td>4</td>\n",
       "      <td>307</td>\n",
       "      <td>0</td>\n",
       "      <td>2</td>\n",
       "      <td>1</td>\n",
       "      <td>2</td>\n",
       "      <td>0</td>\n",
       "      <td>2</td>\n",
       "      <td>...</td>\n",
       "      <td>2</td>\n",
       "      <td>1</td>\n",
       "      <td>1</td>\n",
       "      <td>150</td>\n",
       "      <td>41401</td>\n",
       "      <td>9238e4f44c71a75282e62f7136c6b240</td>\n",
       "      <td>0</td>\n",
       "      <td>Good guard dog, very alert, active, obedience ...</td>\n",
       "      <td>8.0</td>\n",
       "      <td>2</td>\n",
       "    </tr>\n",
       "    <tr>\n",
       "      <td>850a43f90</td>\n",
       "      <td>1</td>\n",
       "      <td>Hunter</td>\n",
       "      <td>1</td>\n",
       "      <td>307</td>\n",
       "      <td>0</td>\n",
       "      <td>1</td>\n",
       "      <td>1</td>\n",
       "      <td>0</td>\n",
       "      <td>0</td>\n",
       "      <td>2</td>\n",
       "      <td>...</td>\n",
       "      <td>2</td>\n",
       "      <td>1</td>\n",
       "      <td>1</td>\n",
       "      <td>0</td>\n",
       "      <td>41326</td>\n",
       "      <td>95481e953f8aed9ec3d16fc4509537e8</td>\n",
       "      <td>0</td>\n",
       "      <td>This handsome yet cute boy is up for adoption....</td>\n",
       "      <td>3.0</td>\n",
       "      <td>2</td>\n",
       "    </tr>\n",
       "  </tbody>\n",
       "</table>\n",
       "<p>5 rows × 23 columns</p>\n",
       "</div>"
      ],
      "text/plain": [
       "           Type         Name  Age  Breed1  Breed2  Gender  Color1  Color2  \\\n",
       "PetID                                                                       \n",
       "86e1089a3     2       Nibble    3     299       0       1       1       7   \n",
       "6296e909a     2  No Name Yet    1     265       0       1       1       2   \n",
       "3422e4906     1       Brisco    1     307       0       1       2       7   \n",
       "5842f1ff5     1         Miko    4     307       0       2       1       2   \n",
       "850a43f90     1       Hunter    1     307       0       1       1       0   \n",
       "\n",
       "           Color3  MaturitySize  ...  Sterilized  Health  Quantity  Fee  \\\n",
       "PetID                            ...                                      \n",
       "86e1089a3       0             1  ...           2       1         1  100   \n",
       "6296e909a       0             2  ...           3       1         1    0   \n",
       "3422e4906       0             2  ...           2       1         1    0   \n",
       "5842f1ff5       0             2  ...           2       1         1  150   \n",
       "850a43f90       0             2  ...           2       1         1    0   \n",
       "\n",
       "           State                         RescuerID  VideoAmt  \\\n",
       "PetID                                                          \n",
       "86e1089a3  41326  8480853f516546f6cf33aa88cd76c379         0   \n",
       "6296e909a  41401  3082c7125d8fb66f7dd4bff4192c8b14         0   \n",
       "3422e4906  41326  fa90fa5b1ee11c86938398b60abc32cb         0   \n",
       "5842f1ff5  41401  9238e4f44c71a75282e62f7136c6b240         0   \n",
       "850a43f90  41326  95481e953f8aed9ec3d16fc4509537e8         0   \n",
       "\n",
       "                                                 Description PhotoAmt  \\\n",
       "PetID                                                                   \n",
       "86e1089a3  Nibble is a 3+ month old ball of cuteness. He ...      1.0   \n",
       "6296e909a  I just found it alone yesterday near my apartm...      2.0   \n",
       "3422e4906  Their pregnant mother was dumped by her irresp...      7.0   \n",
       "5842f1ff5  Good guard dog, very alert, active, obedience ...      8.0   \n",
       "850a43f90  This handsome yet cute boy is up for adoption....      3.0   \n",
       "\n",
       "           AdoptionSpeed  \n",
       "PetID                     \n",
       "86e1089a3              2  \n",
       "6296e909a              0  \n",
       "3422e4906              3  \n",
       "5842f1ff5              2  \n",
       "850a43f90              2  \n",
       "\n",
       "[5 rows x 23 columns]"
      ]
     },
     "execution_count": 47,
     "metadata": {},
     "output_type": "execute_result"
    }
   ],
   "source": [
    "df.set_index(\"PetID\", inplace=True) # change index to PetId\n",
    "df.head()"
   ]
  },
  {
   "cell_type": "markdown",
   "metadata": {},
   "source": [
    "### Strategy\n",
    "\n",
    "The following analysis was done to each feature:\n",
    "* Check the number of examples for each feature values.\n",
    "* Check the distribution of each feature values' among AdoptionSpeed classes.\n",
    "\n",
    "For the second step we used the following visualisation method, which returns not only a plot on the distribution but also a table of representativity percentage gain of each feature's values for each AdoptionSpeed class, relatively to AdoptionSpeed=0:"
   ]
  },
  {
   "cell_type": "code",
   "execution_count": 48,
   "metadata": {},
   "outputs": [],
   "source": [
    "# creates a stacked bar plot for any two categorical variables\n",
    "# also creates a relative frequency version of the same plot\n",
    "# and a relative gain compared to AdoptionSpeed=0 \n",
    "# frel=False to return only the absolute frequency plot\n",
    "\n",
    "def cat_distr_pairwise(cat_x,cat_y, df, frel):\n",
    "    \n",
    "    unique_cat_y = sorted(df[cat_y].unique())\n",
    "    unique_cat_x = sorted(df[cat_x].unique())\n",
    "    cat_count = pd.DataFrame(columns=unique_cat_y,index=unique_cat_x)\n",
    "    for y in unique_cat_y:\n",
    "        for x in unique_cat_x:\n",
    "            count = df[cat_y][(df[cat_x]==x) & (df[cat_y]==y)].count()\n",
    "            cat_count.at[x,y] = count \n",
    "    \n",
    "    def color(val):\n",
    "        if val < 0:\n",
    "            color = 'red'\n",
    "        elif val>0:\n",
    "            color = 'green'\n",
    "        else:\n",
    "            color='white'\n",
    "        return 'background-color: %s' % color\n",
    "    \n",
    "    if frel==False:\n",
    "        \n",
    "        #relative gain table\n",
    "        relgain = cat_count.pct_change().cumsum() * 100\n",
    "        print(\"Relative gain from AdoptionSpeed=0 (%):\")\n",
    "        display(relgain.style.applymap(color))\n",
    "        return cat_count.plot.bar(stacked=True, figsize=(10,7))\n",
    "    \n",
    "    else:\n",
    "        #relative frequency stacked bar plot\n",
    "        freq_cat_count = cat_count.divide(cat_count.sum(axis=1), axis=0)\n",
    "        \n",
    "        #relative gain table\n",
    "        relgain = freq_cat_count.pct_change().cumsum() * 100\n",
    "        print(\"Relative gain from AdoptionSpeed=0 (%):\")\n",
    "        display(relgain.style.applymap(color))\n",
    "\n",
    "        return freq_cat_count.plot.bar(stacked=True, figsize=(10,7), title=cat_y + \" relative distribution among AdoptionSpeed\")\n",
    "    "
   ]
  },
  {
   "cell_type": "markdown",
   "metadata": {},
   "source": [
    "We will now present the most important conclusions taken from this analysis."
   ]
  },
  {
   "cell_type": "markdown",
   "metadata": {},
   "source": [
    "### Type\n",
    "\n",
    "Because we are going to later create type-specific predictive models, it would be relevant to see the number of cases we have in our dataset for each animal (cat or dog)."
   ]
  },
  {
   "cell_type": "code",
   "execution_count": 49,
   "metadata": {},
   "outputs": [
    {
     "data": {
      "text/plain": [
       "<seaborn.axisgrid.FacetGrid at 0x1a25493310>"
      ]
     },
     "execution_count": 49,
     "metadata": {},
     "output_type": "execute_result"
    },
    {
     "data": {
      "image/png": "[encoded data removed]",
      "text/plain": [
       "<Figure size 360x360 with 1 Axes>"
      ]
     },
     "metadata": {},
     "output_type": "display_data"
    }
   ],
   "source": [
    "bx = sns.catplot(x=\"Type\",data=df, kind='count')\n",
    "(bx.set_axis_labels(\"Type\", \"Number of Pets\")\n",
    "    .set_xticklabels([\"Dogs\", \"Cats\"])\n",
    "    .set_titles(\"{col_name} {col_var}\")\n",
    "    .despine(left=True))  "
   ]
  },
  {
   "cell_type": "code",
   "execution_count": 50,
   "metadata": {},
   "outputs": [
    {
     "name": "stdout",
     "output_type": "stream",
     "text": [
      "Relative gain from AdoptionSpeed=0 (%):\n"
     ]
    },
    {
     "data": {
      "text/html": [
       "<style  type=\"text/css\" >\n",
       "    #T_095a9fd4_206c_11ea_957c_c869cd93ed7crow0_col0 {\n",
       "            background-color:  white;\n",
       "        }    #T_095a9fd4_206c_11ea_957c_c869cd93ed7crow0_col1 {\n",
       "            background-color:  white;\n",
       "        }    #T_095a9fd4_206c_11ea_957c_c869cd93ed7crow1_col0 {\n",
       "            background-color:  green;\n",
       "        }    #T_095a9fd4_206c_11ea_957c_c869cd93ed7crow1_col1 {\n",
       "            background-color:  red;\n",
       "        }    #T_095a9fd4_206c_11ea_957c_c869cd93ed7crow2_col0 {\n",
       "            background-color:  green;\n",
       "        }    #T_095a9fd4_206c_11ea_957c_c869cd93ed7crow2_col1 {\n",
       "            background-color:  red;\n",
       "        }    #T_095a9fd4_206c_11ea_957c_c869cd93ed7crow3_col0 {\n",
       "            background-color:  green;\n",
       "        }    #T_095a9fd4_206c_11ea_957c_c869cd93ed7crow3_col1 {\n",
       "            background-color:  red;\n",
       "        }    #T_095a9fd4_206c_11ea_957c_c869cd93ed7crow4_col0 {\n",
       "            background-color:  green;\n",
       "        }    #T_095a9fd4_206c_11ea_957c_c869cd93ed7crow4_col1 {\n",
       "            background-color:  red;\n",
       "        }</style><table id=\"T_095a9fd4_206c_11ea_957c_c869cd93ed7c\" ><thead>    <tr>        <th class=\"blank level0\" ></th>        <th class=\"col_heading level0 col0\" >1</th>        <th class=\"col_heading level0 col1\" >2</th>    </tr></thead><tbody>\n",
       "                <tr>\n",
       "                        <th id=\"T_095a9fd4_206c_11ea_957c_c869cd93ed7clevel0_row0\" class=\"row_heading level0 row0\" >0</th>\n",
       "                        <td id=\"T_095a9fd4_206c_11ea_957c_c869cd93ed7crow0_col0\" class=\"data row0 col0\" >nan</td>\n",
       "                        <td id=\"T_095a9fd4_206c_11ea_957c_c869cd93ed7crow0_col1\" class=\"data row0 col1\" >nan</td>\n",
       "            </tr>\n",
       "            <tr>\n",
       "                        <th id=\"T_095a9fd4_206c_11ea_957c_c869cd93ed7clevel0_row1\" class=\"row_heading level0 row1\" >1</th>\n",
       "                        <td id=\"T_095a9fd4_206c_11ea_957c_c869cd93ed7crow1_col0\" class=\"data row1 col0\" >12.0027</td>\n",
       "                        <td id=\"T_095a9fd4_206c_11ea_957c_c869cd93ed7crow1_col1\" class=\"data row1 col1\" >-8.50189</td>\n",
       "            </tr>\n",
       "            <tr>\n",
       "                        <th id=\"T_095a9fd4_206c_11ea_957c_c869cd93ed7clevel0_row2\" class=\"row_heading level0 row2\" >2</th>\n",
       "                        <td id=\"T_095a9fd4_206c_11ea_957c_c869cd93ed7crow2_col0\" class=\"data row2 col0\" >27.429</td>\n",
       "                        <td id=\"T_095a9fd4_206c_11ea_957c_c869cd93ed7crow2_col1\" class=\"data row2 col1\" >-21.8776</td>\n",
       "            </tr>\n",
       "            <tr>\n",
       "                        <th id=\"T_095a9fd4_206c_11ea_957c_c869cd93ed7clevel0_row3\" class=\"row_heading level0 row3\" >3</th>\n",
       "                        <td id=\"T_095a9fd4_206c_11ea_957c_c869cd93ed7crow3_col0\" class=\"data row3 col0\" >38.9943</td>\n",
       "                        <td id=\"T_095a9fd4_206c_11ea_957c_c869cd93ed7crow3_col1\" class=\"data row3 col1\" >-35.2397</td>\n",
       "            </tr>\n",
       "            <tr>\n",
       "                        <th id=\"T_095a9fd4_206c_11ea_957c_c869cd93ed7clevel0_row4\" class=\"row_heading level0 row4\" >4</th>\n",
       "                        <td id=\"T_095a9fd4_206c_11ea_957c_c869cd93ed7crow4_col0\" class=\"data row4 col0\" >35.1712</td>\n",
       "                        <td id=\"T_095a9fd4_206c_11ea_957c_c869cd93ed7crow4_col1\" class=\"data row4 col1\" >-29.5518</td>\n",
       "            </tr>\n",
       "    </tbody></table>"
      ],
      "text/plain": [
       "<pandas.io.formats.style.Styler at 0x1a217eab90>"
      ]
     },
     "metadata": {},
     "output_type": "display_data"
    },
    {
     "data": {
      "text/plain": [
       "<matplotlib.axes._subplots.AxesSubplot at 0x1a217f0ed0>"
      ]
     },
     "execution_count": 50,
     "metadata": {},
     "output_type": "execute_result"
    },
    {
     "data": {
      "image/png": "[encoded data removed]",
      "text/plain": [
       "<Figure size 720x504 with 1 Axes>"
      ]
     },
     "metadata": {},
     "output_type": "display_data"
    }
   ],
   "source": [
    "cat_distr_pairwise('AdoptionSpeed','Type', df, frel=True)"
   ]
  },
  {
   "cell_type": "markdown",
   "metadata": {},
   "source": [
    "Looking at our data, the number of examples of dogs and cats is fairly proportional, as well as their relative distribution among target classes. \n",
    "Looking at the gain table, it is clear that dogs(1) tend to get adopted later relatively to cats(2),  which we can see by the growing relative gain. In fact, the number of dogs with no adoption after 100 days (adoptionSpeed=4) is 37% higher than dogs being adopted on the same day (adoptionSpeed=0). On the other hand, we observe the opposite phenomena on cats. They tend to be adopted at ealier stages, being the number of cats with no adoption after 100 days (adoptionSpeed=4) is 29% lower than cats being adopted on the same day (adoptionSpeed=0).\n",
    "Despite this small discrepancies, we expect the resulting models' performance to be comparable.\n",
    "\n"
   ]
  },
  {
   "cell_type": "markdown",
   "metadata": {},
   "source": [
    "### Name\n",
    "Since a reasonable amount of the profiles didn't make any reference to name (empty) a first approach would be to fill those empty values with a fixed value such as \"No Name\" or similar.\n",
    "Other approach would be to transform this feature into a binary one with a 0 value for profiles with no name and a 1 value for the opposite.\n",
    "Since it was later found that some of the named profiles were filled with \"No Name\" and derivatives of this name such as \"No Name Yet\", \"V6\", \"å°è±¹çº¹\" etc., which are not proper names, we made an attempt to classify those cases as \"No name\" as well."
   ]
  },
  {
   "cell_type": "code",
   "execution_count": 51,
   "metadata": {},
   "outputs": [
    {
     "name": "stdout",
     "output_type": "stream",
     "text": [
      "A glimpse on the ignored names: ['No Name Yet', 'No Name', 'No Name', 'H3', 'Z3', 'C', 'No Name', 'No Name', 'BB', 'QQ', 'Y1', 'No Name', 'H1', 'No Name Yet', 'D9', 'Y4', 'No Name', 'Z4', 'No Name', 'Unnamed', 'BB', 'DD', 'M2', 'H6', 'D4', 'QQ', 'JJ', 'No Names', 'å°\\x8fè±¹çº¹', 'ä¼\\x98ç¾\\x8eå\\x8f¯ç¬\\x91', 'F1', 'æ©\\x98å\\xad\\x90', 'W7', '(No Name)', 'No Name Yet', 'No Name', '1F', 'Q1', '6', 'CJ', '3F', '[No Name]', 'BB', 'KD', 'No Name Yet', 'No Name Yet', 'DD', 'No Name', 'G1', 'è\\x8f\\x9cè\\x8f\\x9cã\\x80\\x82']\n"
     ]
    },
    {
     "data": {
      "image/png": "[encoded data removed]",
      "text/plain": [
       "<Figure size 1080x360 with 1 Axes>"
      ]
     },
     "metadata": {},
     "output_type": "display_data"
    }
   ],
   "source": [
    "# Create new feature - hasNames\n",
    "l = []\n",
    "ignore = []\n",
    "\n",
    "for i in df[\"Name\"]:\n",
    "    if type(i)!=str: # Some empty descriptions are type:float\n",
    "        l.append(0)\n",
    "    else:\n",
    "        if len(i)<3: #Consider that a 2 letter name is not a proper name.\n",
    "            l.append(0)\n",
    "            ignore.append(i)\n",
    "        elif re.search(\"[a-zA-Z]\", i) == None: #If name doesn't have letters, it's not a proper name.\n",
    "            l.append(0)\n",
    "            ignore.append(i)\n",
    "        elif re.search(\"unnamed|no name\",i, re.IGNORECASE) != None: \n",
    "            #If name string includes \"unnamed\" or \"no name\", it's not a proper name\n",
    "            l.append(0)\n",
    "            ignore.append(i)\n",
    "        elif len(i.split())>0:\n",
    "            l.append(1)\n",
    "\n",
    "print(\"A glimpse on the ignored names:\",ignore[:50])\n",
    "df_processed1 = df.copy()\n",
    "df_processed1.drop(\"Name\", axis=1, inplace = True)\n",
    "df_processed1.insert(1,\"hasName\",l) ##INSERT IN DATAFRAME\n",
    "\n",
    "sns.set(style=\"whitegrid\")\n",
    "ax = sns.countplot(x=\"hasName\", data=df_processed1)"
   ]
  },
  {
   "cell_type": "code",
   "execution_count": 52,
   "metadata": {},
   "outputs": [
    {
     "name": "stdout",
     "output_type": "stream",
     "text": [
      "Relative gain from AdoptionSpeed=0 (%):\n"
     ]
    },
    {
     "data": {
      "text/html": [
       "<style  type=\"text/css\" >\n",
       "    #T_09bd67ae_206c_11ea_957c_c869cd93ed7crow0_col0 {\n",
       "            background-color:  white;\n",
       "        }    #T_09bd67ae_206c_11ea_957c_c869cd93ed7crow0_col1 {\n",
       "            background-color:  white;\n",
       "        }    #T_09bd67ae_206c_11ea_957c_c869cd93ed7crow1_col0 {\n",
       "            background-color:  green;\n",
       "        }    #T_09bd67ae_206c_11ea_957c_c869cd93ed7crow1_col1 {\n",
       "            background-color:  red;\n",
       "        }    #T_09bd67ae_206c_11ea_957c_c869cd93ed7crow2_col0 {\n",
       "            background-color:  green;\n",
       "        }    #T_09bd67ae_206c_11ea_957c_c869cd93ed7crow2_col1 {\n",
       "            background-color:  red;\n",
       "        }    #T_09bd67ae_206c_11ea_957c_c869cd93ed7crow3_col0 {\n",
       "            background-color:  green;\n",
       "        }    #T_09bd67ae_206c_11ea_957c_c869cd93ed7crow3_col1 {\n",
       "            background-color:  red;\n",
       "        }    #T_09bd67ae_206c_11ea_957c_c869cd93ed7crow4_col0 {\n",
       "            background-color:  green;\n",
       "        }    #T_09bd67ae_206c_11ea_957c_c869cd93ed7crow4_col1 {\n",
       "            background-color:  red;\n",
       "        }</style><table id=\"T_09bd67ae_206c_11ea_957c_c869cd93ed7c\" ><thead>    <tr>        <th class=\"blank level0\" ></th>        <th class=\"col_heading level0 col0\" >0</th>        <th class=\"col_heading level0 col1\" >1</th>    </tr></thead><tbody>\n",
       "                <tr>\n",
       "                        <th id=\"T_09bd67ae_206c_11ea_957c_c869cd93ed7clevel0_row0\" class=\"row_heading level0 row0\" >0</th>\n",
       "                        <td id=\"T_09bd67ae_206c_11ea_957c_c869cd93ed7crow0_col0\" class=\"data row0 col0\" >nan</td>\n",
       "                        <td id=\"T_09bd67ae_206c_11ea_957c_c869cd93ed7crow0_col1\" class=\"data row0 col1\" >nan</td>\n",
       "            </tr>\n",
       "            <tr>\n",
       "                        <th id=\"T_09bd67ae_206c_11ea_957c_c869cd93ed7clevel0_row1\" class=\"row_heading level0 row1\" >1</th>\n",
       "                        <td id=\"T_09bd67ae_206c_11ea_957c_c869cd93ed7crow1_col0\" class=\"data row1 col0\" >28.3828</td>\n",
       "                        <td id=\"T_09bd67ae_206c_11ea_957c_c869cd93ed7crow1_col1\" class=\"data row1 col1\" >-2.81545</td>\n",
       "            </tr>\n",
       "            <tr>\n",
       "                        <th id=\"T_09bd67ae_206c_11ea_957c_c869cd93ed7clevel0_row2\" class=\"row_heading level0 row2\" >2</th>\n",
       "                        <td id=\"T_09bd67ae_206c_11ea_957c_c869cd93ed7crow2_col0\" class=\"data row2 col0\" >14.3321</td>\n",
       "                        <td id=\"T_09bd67ae_206c_11ea_957c_c869cd93ed7crow2_col1\" class=\"data row2 col1\" >-0.974261</td>\n",
       "            </tr>\n",
       "            <tr>\n",
       "                        <th id=\"T_09bd67ae_206c_11ea_957c_c869cd93ed7clevel0_row3\" class=\"row_heading level0 row3\" >3</th>\n",
       "                        <td id=\"T_09bd67ae_206c_11ea_957c_c869cd93ed7crow3_col0\" class=\"data row3 col0\" >9.85559</td>\n",
       "                        <td id=\"T_09bd67ae_206c_11ea_957c_c869cd93ed7crow3_col1\" class=\"data row3 col1\" >-0.479193</td>\n",
       "            </tr>\n",
       "            <tr>\n",
       "                        <th id=\"T_09bd67ae_206c_11ea_957c_c869cd93ed7clevel0_row4\" class=\"row_heading level0 row4\" >4</th>\n",
       "                        <td id=\"T_09bd67ae_206c_11ea_957c_c869cd93ed7crow4_col0\" class=\"data row4 col0\" >38.1045</td>\n",
       "                        <td id=\"T_09bd67ae_206c_11ea_957c_c869cd93ed7crow4_col1\" class=\"data row4 col1\" >-3.44873</td>\n",
       "            </tr>\n",
       "    </tbody></table>"
      ],
      "text/plain": [
       "<pandas.io.formats.style.Styler at 0x1a23f20390>"
      ]
     },
     "metadata": {},
     "output_type": "display_data"
    },
    {
     "data": {
      "text/plain": [
       "<matplotlib.axes._subplots.AxesSubplot at 0x1a23f16650>"
      ]
     },
     "execution_count": 52,
     "metadata": {},
     "output_type": "execute_result"
    },
    {
     "data": {
      "image/png": "[encoded data removed]",
      "text/plain": [
       "<Figure size 720x504 with 1 Axes>"
      ]
     },
     "metadata": {},
     "output_type": "display_data"
    }
   ],
   "source": [
    "cat_distr_pairwise('AdoptionSpeed','hasName', df_processed1, frel=True)"
   ]
  },
  {
   "cell_type": "markdown",
   "metadata": {},
   "source": [
    "As we can see from the plot above, the relative distribution of the \"noName\" feature values among \"AdoptionSpeed\" classes is very similar. This probabably means that the pet's name is not a very important factor in the adopter's decision."
   ]
  },
  {
   "cell_type": "markdown",
   "metadata": {},
   "source": [
    "### Age\n",
    "\n",
    "When looking at the Age distribution, we can see that there are peaks every 12 months. Young pets (less than 1 year old) are the most frequent."
   ]
  },
  {
   "cell_type": "code",
   "execution_count": 53,
   "metadata": {},
   "outputs": [
    {
     "data": {
      "image/png": "[encoded data removed]",
      "text/plain": [
       "<Figure size 1080x360 with 1 Axes>"
      ]
     },
     "metadata": {},
     "output_type": "display_data"
    }
   ],
   "source": [
    "a = df['Age'] # get Age array\n",
    "nr_bins = 1 + 3.322*math.log(len(a),2) # Number of bins according to Sturges rule\n",
    "sns.set(rc={'figure.figsize':(15,5)}) # set figure size\n",
    "\n",
    "# setting up the axis\n",
    "fig, ax = plt.subplots()\n",
    "ticks = [i for i in range(0,260,12)]\n",
    "ticks.pop(0)\n",
    "ax.set_xticks(ticks)\n",
    "plt.xlim([0.0,250])\n",
    "\n",
    "sns.distplot(a, bins=round(nr_bins), kde=False, axlabel=\"Age (months)\");"
   ]
  },
  {
   "cell_type": "markdown",
   "metadata": {},
   "source": [
    "The average cat is considered a kitten roughly until it reaches the age of 1 year old. The same goes for puppies. On the other hand, dogs and cats are considered Seniors roughly when they reach the age of 6 years. Of course, these are approximations, as the classification varies with the type of animal (cats or dogs), breed, size and many other factors.\n",
    "\n",
    "In this sense, we will consider these categories:\n",
    "* Baby - age 0-11 months => 0\n",
    "* Adult - age 12-71 months =>1\n",
    "* Senior - age 72-250 months =>2"
   ]
  },
  {
   "cell_type": "code",
   "execution_count": 54,
   "metadata": {},
   "outputs": [],
   "source": [
    "# Create new feature - AgeGroup\n",
    "AgeGroup = []\n",
    "for i in df[\"Age\"]:\n",
    "    if i<12:\n",
    "        AgeGroup.append(0)\n",
    "    elif i<72:\n",
    "        AgeGroup.append(1)\n",
    "    else:\n",
    "        AgeGroup.append(2)\n",
    "\n",
    "df_processed2 = df_processed1.copy()\n",
    "df_processed2.drop(\"Age\", axis=1, inplace = True)\n",
    "df_processed2.insert(2,\"AgeGroup\",AgeGroup) ##INSERT IN DATAFRAME"
   ]
  },
  {
   "cell_type": "code",
   "execution_count": 55,
   "metadata": {},
   "outputs": [
    {
     "name": "stdout",
     "output_type": "stream",
     "text": [
      "Relative gain from AdoptionSpeed=0 (%):\n"
     ]
    },
    {
     "data": {
      "text/html": [
       "<style  type=\"text/css\" >\n",
       "    #T_0a46c03a_206c_11ea_957c_c869cd93ed7crow0_col0 {\n",
       "            background-color:  white;\n",
       "        }    #T_0a46c03a_206c_11ea_957c_c869cd93ed7crow0_col1 {\n",
       "            background-color:  white;\n",
       "        }    #T_0a46c03a_206c_11ea_957c_c869cd93ed7crow0_col2 {\n",
       "            background-color:  white;\n",
       "        }    #T_0a46c03a_206c_11ea_957c_c869cd93ed7crow1_col0 {\n",
       "            background-color:  green;\n",
       "        }    #T_0a46c03a_206c_11ea_957c_c869cd93ed7crow1_col1 {\n",
       "            background-color:  red;\n",
       "        }    #T_0a46c03a_206c_11ea_957c_c869cd93ed7crow1_col2 {\n",
       "            background-color:  red;\n",
       "        }    #T_0a46c03a_206c_11ea_957c_c869cd93ed7crow2_col0 {\n",
       "            background-color:  green;\n",
       "        }    #T_0a46c03a_206c_11ea_957c_c869cd93ed7crow2_col1 {\n",
       "            background-color:  red;\n",
       "        }    #T_0a46c03a_206c_11ea_957c_c869cd93ed7crow2_col2 {\n",
       "            background-color:  green;\n",
       "        }    #T_0a46c03a_206c_11ea_957c_c869cd93ed7crow3_col0 {\n",
       "            background-color:  green;\n",
       "        }    #T_0a46c03a_206c_11ea_957c_c869cd93ed7crow3_col1 {\n",
       "            background-color:  red;\n",
       "        }    #T_0a46c03a_206c_11ea_957c_c869cd93ed7crow3_col2 {\n",
       "            background-color:  green;\n",
       "        }    #T_0a46c03a_206c_11ea_957c_c869cd93ed7crow4_col0 {\n",
       "            background-color:  red;\n",
       "        }    #T_0a46c03a_206c_11ea_957c_c869cd93ed7crow4_col1 {\n",
       "            background-color:  green;\n",
       "        }    #T_0a46c03a_206c_11ea_957c_c869cd93ed7crow4_col2 {\n",
       "            background-color:  green;\n",
       "        }</style><table id=\"T_0a46c03a_206c_11ea_957c_c869cd93ed7c\" ><thead>    <tr>        <th class=\"blank level0\" ></th>        <th class=\"col_heading level0 col0\" >0</th>        <th class=\"col_heading level0 col1\" >1</th>        <th class=\"col_heading level0 col2\" >2</th>    </tr></thead><tbody>\n",
       "                <tr>\n",
       "                        <th id=\"T_0a46c03a_206c_11ea_957c_c869cd93ed7clevel0_row0\" class=\"row_heading level0 row0\" >0</th>\n",
       "                        <td id=\"T_0a46c03a_206c_11ea_957c_c869cd93ed7crow0_col0\" class=\"data row0 col0\" >nan</td>\n",
       "                        <td id=\"T_0a46c03a_206c_11ea_957c_c869cd93ed7crow0_col1\" class=\"data row0 col1\" >nan</td>\n",
       "                        <td id=\"T_0a46c03a_206c_11ea_957c_c869cd93ed7crow0_col2\" class=\"data row0 col2\" >nan</td>\n",
       "            </tr>\n",
       "            <tr>\n",
       "                        <th id=\"T_0a46c03a_206c_11ea_957c_c869cd93ed7clevel0_row1\" class=\"row_heading level0 row1\" >1</th>\n",
       "                        <td id=\"T_0a46c03a_206c_11ea_957c_c869cd93ed7crow1_col0\" class=\"data row1 col0\" >11.4206</td>\n",
       "                        <td id=\"T_0a46c03a_206c_11ea_957c_c869cd93ed7crow1_col1\" class=\"data row1 col1\" >-27.3511</td>\n",
       "                        <td id=\"T_0a46c03a_206c_11ea_957c_c869cd93ed7crow1_col2\" class=\"data row1 col2\" >-52.4542</td>\n",
       "            </tr>\n",
       "            <tr>\n",
       "                        <th id=\"T_0a46c03a_206c_11ea_957c_c869cd93ed7clevel0_row2\" class=\"row_heading level0 row2\" >2</th>\n",
       "                        <td id=\"T_0a46c03a_206c_11ea_957c_c869cd93ed7crow2_col0\" class=\"data row2 col0\" >11.9318</td>\n",
       "                        <td id=\"T_0a46c03a_206c_11ea_957c_c869cd93ed7crow2_col1\" class=\"data row2 col1\" >-35.1685</td>\n",
       "                        <td id=\"T_0a46c03a_206c_11ea_957c_c869cd93ed7crow2_col2\" class=\"data row2 col2\" >18.4303</td>\n",
       "            </tr>\n",
       "            <tr>\n",
       "                        <th id=\"T_0a46c03a_206c_11ea_957c_c869cd93ed7clevel0_row3\" class=\"row_heading level0 row3\" >3</th>\n",
       "                        <td id=\"T_0a46c03a_206c_11ea_957c_c869cd93ed7crow3_col0\" class=\"data row3 col0\" >7.09603</td>\n",
       "                        <td id=\"T_0a46c03a_206c_11ea_957c_c869cd93ed7crow3_col1\" class=\"data row3 col1\" >-14.0861</td>\n",
       "                        <td id=\"T_0a46c03a_206c_11ea_957c_c869cd93ed7crow3_col2\" class=\"data row3 col2\" >37.1413</td>\n",
       "            </tr>\n",
       "            <tr>\n",
       "                        <th id=\"T_0a46c03a_206c_11ea_957c_c869cd93ed7clevel0_row4\" class=\"row_heading level0 row4\" >4</th>\n",
       "                        <td id=\"T_0a46c03a_206c_11ea_957c_c869cd93ed7crow4_col0\" class=\"data row4 col0\" >-10.7473</td>\n",
       "                        <td id=\"T_0a46c03a_206c_11ea_957c_c869cd93ed7crow4_col1\" class=\"data row4 col1\" >54.0975</td>\n",
       "                        <td id=\"T_0a46c03a_206c_11ea_957c_c869cd93ed7crow4_col2\" class=\"data row4 col2\" >42.645</td>\n",
       "            </tr>\n",
       "    </tbody></table>"
      ],
      "text/plain": [
       "<pandas.io.formats.style.Styler at 0x1a24003550>"
      ]
     },
     "metadata": {},
     "output_type": "display_data"
    },
    {
     "data": {
      "text/plain": [
       "<matplotlib.axes._subplots.AxesSubplot at 0x1a240cc390>"
      ]
     },
     "execution_count": 55,
     "metadata": {},
     "output_type": "execute_result"
    },
    {
     "data": {
      "image/png": "[encoded data removed]",
      "text/plain": [
       "<Figure size 720x504 with 1 Axes>"
      ]
     },
     "metadata": {},
     "output_type": "display_data"
    }
   ],
   "source": [
    "cat_distr_pairwise('AdoptionSpeed','AgeGroup', df_processed2, frel=True)"
   ]
  },
  {
   "cell_type": "markdown",
   "metadata": {},
   "source": [
    "The relative distribution of AgeGroups among AdoptionSpeed indicates that there seems to be no particular correlation between being younger and getting adopted earlier. Even without the dicretization we can observe the same phenomena: "
   ]
  },
  {
   "cell_type": "code",
   "execution_count": 56,
   "metadata": {},
   "outputs": [
    {
     "data": {
      "text/plain": [
       "<matplotlib.axes._subplots.AxesSubplot at 0x1a240ccc10>"
      ]
     },
     "execution_count": 56,
     "metadata": {},
     "output_type": "execute_result"
    },
    {
     "data": {
      "image/png": "[encoded data removed]",
      "text/plain": [
       "<Figure size 720x1080 with 1 Axes>"
      ]
     },
     "metadata": {},
     "output_type": "display_data"
    }
   ],
   "source": [
    "plt.figure(figsize=(10,15))\n",
    "plt.ylim(0, 260)\n",
    "sns.boxplot(data = df, x='AdoptionSpeed', y='Age')"
   ]
  },
  {
   "cell_type": "markdown",
   "metadata": {},
   "source": [
    "### Breed1 and Breed2\n",
    "\n",
    "According to the breeds feature labels, dogs breeds go from 1 to 240, plus 307, and cats breeds go from 241 to 306. "
   ]
  },
  {
   "cell_type": "code",
   "execution_count": 57,
   "metadata": {},
   "outputs": [
    {
     "data": {
      "image/png": "[encoded data removed]",
      "text/plain": [
       "<Figure size 1944x648 with 1 Axes>"
      ]
     },
     "metadata": {},
     "output_type": "display_data"
    },
    {
     "data": {
      "image/png": "[encoded data removed]",
      "text/plain": [
       "<Figure size 1944x648 with 1 Axes>"
      ]
     },
     "metadata": {},
     "output_type": "display_data"
    }
   ],
   "source": [
    "bx1 = sns.catplot(x=\"Breed1\",data=df, kind='count',height=9, aspect=3)\n",
    "bx2 = sns.catplot(x=\"Breed2\",data=df, kind='count',height=9, aspect=3)"
   ]
  },
  {
   "cell_type": "markdown",
   "metadata": {},
   "source": [
    "Looking at our data, and according to the breeds feature labels, we found some cats with dogs breeds assigned to them (15, 21, 25, 70, 114, 205, 218, 307).\n",
    "Therefore, and given the distribution of pets by breeds in which some breeds are poorly representated perhaps a good idea should be grouping pets by pure-race/mixed-race."
   ]
  },
  {
   "cell_type": "code",
   "execution_count": 58,
   "metadata": {},
   "outputs": [],
   "source": [
    "#Creating new feature: Pure breed\n",
    "l3 =[]\n",
    "for i in range(len(df)):\n",
    "    if df['Breed1'][i]==307 or df['Breed2'][i]==307:\n",
    "        l3.append(0)\n",
    "    elif df['Breed1'][i]!=307 and df['Breed2'][i]==0:\n",
    "        l3.append(1)\n",
    "    elif df['Breed1'][i]==0 and df['Breed2'][i]!=307:\n",
    "        l3.append(1)\n",
    "    elif df['Breed1'][i]==df['Breed2'][i]:\n",
    "        l3.append(1)\n",
    "    else:\n",
    "        l3.append(0)\n",
    "        \n",
    "df_processed2.drop(\"Breed1\",axis=1,inplace=True)\n",
    "df_processed2.drop(\"Breed2\",axis=1,inplace=True) \n",
    "df_processed2.insert(3,'PureBreed',l3) ##INSERT IN DATAFRAME"
   ]
  },
  {
   "cell_type": "code",
   "execution_count": 59,
   "metadata": {},
   "outputs": [
    {
     "name": "stdout",
     "output_type": "stream",
     "text": [
      "Relative gain from AdoptionSpeed=0 (%):\n"
     ]
    },
    {
     "data": {
      "text/html": [
       "<style  type=\"text/css\" >\n",
       "    #T_13f067da_206c_11ea_957c_c869cd93ed7crow0_col0 {\n",
       "            background-color:  white;\n",
       "        }    #T_13f067da_206c_11ea_957c_c869cd93ed7crow0_col1 {\n",
       "            background-color:  white;\n",
       "        }    #T_13f067da_206c_11ea_957c_c869cd93ed7crow1_col0 {\n",
       "            background-color:  red;\n",
       "        }    #T_13f067da_206c_11ea_957c_c869cd93ed7crow1_col1 {\n",
       "            background-color:  green;\n",
       "        }    #T_13f067da_206c_11ea_957c_c869cd93ed7crow2_col0 {\n",
       "            background-color:  green;\n",
       "        }    #T_13f067da_206c_11ea_957c_c869cd93ed7crow2_col1 {\n",
       "            background-color:  red;\n",
       "        }    #T_13f067da_206c_11ea_957c_c869cd93ed7crow3_col0 {\n",
       "            background-color:  green;\n",
       "        }    #T_13f067da_206c_11ea_957c_c869cd93ed7crow3_col1 {\n",
       "            background-color:  red;\n",
       "        }    #T_13f067da_206c_11ea_957c_c869cd93ed7crow4_col0 {\n",
       "            background-color:  green;\n",
       "        }    #T_13f067da_206c_11ea_957c_c869cd93ed7crow4_col1 {\n",
       "            background-color:  red;\n",
       "        }</style><table id=\"T_13f067da_206c_11ea_957c_c869cd93ed7c\" ><thead>    <tr>        <th class=\"blank level0\" ></th>        <th class=\"col_heading level0 col0\" >0</th>        <th class=\"col_heading level0 col1\" >1</th>    </tr></thead><tbody>\n",
       "                <tr>\n",
       "                        <th id=\"T_13f067da_206c_11ea_957c_c869cd93ed7clevel0_row0\" class=\"row_heading level0 row0\" >0</th>\n",
       "                        <td id=\"T_13f067da_206c_11ea_957c_c869cd93ed7crow0_col0\" class=\"data row0 col0\" >nan</td>\n",
       "                        <td id=\"T_13f067da_206c_11ea_957c_c869cd93ed7crow0_col1\" class=\"data row0 col1\" >nan</td>\n",
       "            </tr>\n",
       "            <tr>\n",
       "                        <th id=\"T_13f067da_206c_11ea_957c_c869cd93ed7clevel0_row1\" class=\"row_heading level0 row1\" >1</th>\n",
       "                        <td id=\"T_13f067da_206c_11ea_957c_c869cd93ed7crow1_col0\" class=\"data row1 col0\" >-3.85362</td>\n",
       "                        <td id=\"T_13f067da_206c_11ea_957c_c869cd93ed7crow1_col1\" class=\"data row1 col1\" >3.49515</td>\n",
       "            </tr>\n",
       "            <tr>\n",
       "                        <th id=\"T_13f067da_206c_11ea_957c_c869cd93ed7clevel0_row2\" class=\"row_heading level0 row2\" >2</th>\n",
       "                        <td id=\"T_13f067da_206c_11ea_957c_c869cd93ed7crow2_col0\" class=\"data row2 col0\" >15.5367</td>\n",
       "                        <td id=\"T_13f067da_206c_11ea_957c_c869cd93ed7crow2_col1\" class=\"data row2 col1\" >-12.8427</td>\n",
       "            </tr>\n",
       "            <tr>\n",
       "                        <th id=\"T_13f067da_206c_11ea_957c_c869cd93ed7clevel0_row3\" class=\"row_heading level0 row3\" >3</th>\n",
       "                        <td id=\"T_13f067da_206c_11ea_957c_c869cd93ed7crow3_col0\" class=\"data row3 col0\" >25.9202</td>\n",
       "                        <td id=\"T_13f067da_206c_11ea_957c_c869cd93ed7crow3_col1\" class=\"data row3 col1\" >-25.3278</td>\n",
       "            </tr>\n",
       "            <tr>\n",
       "                        <th id=\"T_13f067da_206c_11ea_957c_c869cd93ed7clevel0_row4\" class=\"row_heading level0 row4\" >4</th>\n",
       "                        <td id=\"T_13f067da_206c_11ea_957c_c869cd93ed7crow4_col0\" class=\"data row4 col0\" >23.972</td>\n",
       "                        <td id=\"T_13f067da_206c_11ea_957c_c869cd93ed7crow4_col1\" class=\"data row4 col1\" >-22.3732</td>\n",
       "            </tr>\n",
       "    </tbody></table>"
      ],
      "text/plain": [
       "<pandas.io.formats.style.Styler at 0x1a27dc44d0>"
      ]
     },
     "metadata": {},
     "output_type": "display_data"
    },
    {
     "data": {
      "text/plain": [
       "<matplotlib.axes._subplots.AxesSubplot at 0x1a21ad5ed0>"
      ]
     },
     "execution_count": 59,
     "metadata": {},
     "output_type": "execute_result"
    },
    {
     "data": {
      "image/png": "[encoded data removed]",
      "text/plain": [
       "<Figure size 720x504 with 1 Axes>"
      ]
     },
     "metadata": {},
     "output_type": "display_data"
    }
   ],
   "source": [
    "cat_distr_pairwise('AdoptionSpeed','PureBreed', df_processed2, frel=True)"
   ]
  },
  {
   "cell_type": "markdown",
   "metadata": {},
   "source": [
    "From the plot and relative gain table we conclude that pure breed animals (1) tend to be adopted earlier, whereas mixed breed animals (0) are adopted later."
   ]
  },
  {
   "cell_type": "markdown",
   "metadata": {},
   "source": [
    "### Quantity\n",
    "\n",
    "Number of pets represented in profile"
   ]
  },
  {
   "cell_type": "code",
   "execution_count": 60,
   "metadata": {},
   "outputs": [
    {
     "name": "stdout",
     "output_type": "stream",
     "text": [
      "There are 11565 profiles with a single pet\n",
      "There are 3428 profiles with multiple pets\n"
     ]
    },
    {
     "data": {
      "image/png": "[encoded data removed]",
      "text/plain": [
       "<Figure size 360x360 with 1 Axes>"
      ]
     },
     "metadata": {},
     "output_type": "display_data"
    }
   ],
   "source": [
    "ax3 = sns.catplot(x='Quantity', data=df, kind='count')\n",
    "(ax3.set_axis_labels(\"Quantity\", \"Number of Pets\"))\n",
    "print('There are {} profiles with a single pet'.format((list(df['Quantity'])).count(1)))\n",
    "print('There are {} profiles with multiple pets'.format(len(df['Quantity'])-list(list(df['Quantity'])).count(1)))"
   ]
  },
  {
   "cell_type": "code",
   "execution_count": 61,
   "metadata": {},
   "outputs": [
    {
     "name": "stdout",
     "output_type": "stream",
     "text": [
      "Relative gain from AdoptionSpeed=0 (%):\n"
     ]
    },
    {
     "data": {
      "text/html": [
       "<style  type=\"text/css\" >\n",
       "    #T_14971e7c_206c_11ea_957c_c869cd93ed7crow0_col0 {\n",
       "            background-color:  white;\n",
       "        }    #T_14971e7c_206c_11ea_957c_c869cd93ed7crow0_col1 {\n",
       "            background-color:  white;\n",
       "        }    #T_14971e7c_206c_11ea_957c_c869cd93ed7crow0_col2 {\n",
       "            background-color:  white;\n",
       "        }    #T_14971e7c_206c_11ea_957c_c869cd93ed7crow0_col3 {\n",
       "            background-color:  white;\n",
       "        }    #T_14971e7c_206c_11ea_957c_c869cd93ed7crow0_col4 {\n",
       "            background-color:  white;\n",
       "        }    #T_14971e7c_206c_11ea_957c_c869cd93ed7crow0_col5 {\n",
       "            background-color:  white;\n",
       "        }    #T_14971e7c_206c_11ea_957c_c869cd93ed7crow0_col6 {\n",
       "            background-color:  white;\n",
       "        }    #T_14971e7c_206c_11ea_957c_c869cd93ed7crow0_col7 {\n",
       "            background-color:  white;\n",
       "        }    #T_14971e7c_206c_11ea_957c_c869cd93ed7crow0_col8 {\n",
       "            background-color:  white;\n",
       "        }    #T_14971e7c_206c_11ea_957c_c869cd93ed7crow0_col9 {\n",
       "            background-color:  white;\n",
       "        }    #T_14971e7c_206c_11ea_957c_c869cd93ed7crow0_col10 {\n",
       "            background-color:  white;\n",
       "        }    #T_14971e7c_206c_11ea_957c_c869cd93ed7crow0_col11 {\n",
       "            background-color:  white;\n",
       "        }    #T_14971e7c_206c_11ea_957c_c869cd93ed7crow0_col12 {\n",
       "            background-color:  white;\n",
       "        }    #T_14971e7c_206c_11ea_957c_c869cd93ed7crow0_col13 {\n",
       "            background-color:  white;\n",
       "        }    #T_14971e7c_206c_11ea_957c_c869cd93ed7crow0_col14 {\n",
       "            background-color:  white;\n",
       "        }    #T_14971e7c_206c_11ea_957c_c869cd93ed7crow0_col15 {\n",
       "            background-color:  white;\n",
       "        }    #T_14971e7c_206c_11ea_957c_c869cd93ed7crow0_col16 {\n",
       "            background-color:  white;\n",
       "        }    #T_14971e7c_206c_11ea_957c_c869cd93ed7crow0_col17 {\n",
       "            background-color:  white;\n",
       "        }    #T_14971e7c_206c_11ea_957c_c869cd93ed7crow0_col18 {\n",
       "            background-color:  white;\n",
       "        }    #T_14971e7c_206c_11ea_957c_c869cd93ed7crow1_col0 {\n",
       "            background-color:  red;\n",
       "        }    #T_14971e7c_206c_11ea_957c_c869cd93ed7crow1_col1 {\n",
       "            background-color:  green;\n",
       "        }    #T_14971e7c_206c_11ea_957c_c869cd93ed7crow1_col2 {\n",
       "            background-color:  green;\n",
       "        }    #T_14971e7c_206c_11ea_957c_c869cd93ed7crow1_col3 {\n",
       "            background-color:  green;\n",
       "        }    #T_14971e7c_206c_11ea_957c_c869cd93ed7crow1_col4 {\n",
       "            background-color:  red;\n",
       "        }    #T_14971e7c_206c_11ea_957c_c869cd93ed7crow1_col5 {\n",
       "            background-color:  green;\n",
       "        }    #T_14971e7c_206c_11ea_957c_c869cd93ed7crow1_col6 {\n",
       "            background-color:  green;\n",
       "        }    #T_14971e7c_206c_11ea_957c_c869cd93ed7crow1_col7 {\n",
       "            background-color:  red;\n",
       "        }    #T_14971e7c_206c_11ea_957c_c869cd93ed7crow1_col8 {\n",
       "            background-color:  green;\n",
       "        }    #T_14971e7c_206c_11ea_957c_c869cd93ed7crow1_col9 {\n",
       "            background-color:  red;\n",
       "        }    #T_14971e7c_206c_11ea_957c_c869cd93ed7crow1_col10 {\n",
       "            background-color:  white;\n",
       "        }    #T_14971e7c_206c_11ea_957c_c869cd93ed7crow1_col11 {\n",
       "            background-color:  white;\n",
       "        }    #T_14971e7c_206c_11ea_957c_c869cd93ed7crow1_col12 {\n",
       "            background-color:  white;\n",
       "        }    #T_14971e7c_206c_11ea_957c_c869cd93ed7crow1_col13 {\n",
       "            background-color:  white;\n",
       "        }    #T_14971e7c_206c_11ea_957c_c869cd93ed7crow1_col14 {\n",
       "            background-color:  green;\n",
       "        }    #T_14971e7c_206c_11ea_957c_c869cd93ed7crow1_col15 {\n",
       "            background-color:  white;\n",
       "        }    #T_14971e7c_206c_11ea_957c_c869cd93ed7crow1_col16 {\n",
       "            background-color:  white;\n",
       "        }    #T_14971e7c_206c_11ea_957c_c869cd93ed7crow1_col17 {\n",
       "            background-color:  white;\n",
       "        }    #T_14971e7c_206c_11ea_957c_c869cd93ed7crow1_col18 {\n",
       "            background-color:  green;\n",
       "        }    #T_14971e7c_206c_11ea_957c_c869cd93ed7crow2_col0 {\n",
       "            background-color:  red;\n",
       "        }    #T_14971e7c_206c_11ea_957c_c869cd93ed7crow2_col1 {\n",
       "            background-color:  green;\n",
       "        }    #T_14971e7c_206c_11ea_957c_c869cd93ed7crow2_col2 {\n",
       "            background-color:  red;\n",
       "        }    #T_14971e7c_206c_11ea_957c_c869cd93ed7crow2_col3 {\n",
       "            background-color:  green;\n",
       "        }    #T_14971e7c_206c_11ea_957c_c869cd93ed7crow2_col4 {\n",
       "            background-color:  green;\n",
       "        }    #T_14971e7c_206c_11ea_957c_c869cd93ed7crow2_col5 {\n",
       "            background-color:  green;\n",
       "        }    #T_14971e7c_206c_11ea_957c_c869cd93ed7crow2_col6 {\n",
       "            background-color:  green;\n",
       "        }    #T_14971e7c_206c_11ea_957c_c869cd93ed7crow2_col7 {\n",
       "            background-color:  green;\n",
       "        }    #T_14971e7c_206c_11ea_957c_c869cd93ed7crow2_col8 {\n",
       "            background-color:  green;\n",
       "        }    #T_14971e7c_206c_11ea_957c_c869cd93ed7crow2_col9 {\n",
       "            background-color:  red;\n",
       "        }    #T_14971e7c_206c_11ea_957c_c869cd93ed7crow2_col10 {\n",
       "            background-color:  green;\n",
       "        }    #T_14971e7c_206c_11ea_957c_c869cd93ed7crow2_col11 {\n",
       "            background-color:  green;\n",
       "        }    #T_14971e7c_206c_11ea_957c_c869cd93ed7crow2_col12 {\n",
       "            background-color:  green;\n",
       "        }    #T_14971e7c_206c_11ea_957c_c869cd93ed7crow2_col13 {\n",
       "            background-color:  white;\n",
       "        }    #T_14971e7c_206c_11ea_957c_c869cd93ed7crow2_col14 {\n",
       "            background-color:  green;\n",
       "        }    #T_14971e7c_206c_11ea_957c_c869cd93ed7crow2_col15 {\n",
       "            background-color:  green;\n",
       "        }    #T_14971e7c_206c_11ea_957c_c869cd93ed7crow2_col16 {\n",
       "            background-color:  green;\n",
       "        }    #T_14971e7c_206c_11ea_957c_c869cd93ed7crow2_col17 {\n",
       "            background-color:  white;\n",
       "        }    #T_14971e7c_206c_11ea_957c_c869cd93ed7crow2_col18 {\n",
       "            background-color:  green;\n",
       "        }    #T_14971e7c_206c_11ea_957c_c869cd93ed7crow3_col0 {\n",
       "            background-color:  red;\n",
       "        }    #T_14971e7c_206c_11ea_957c_c869cd93ed7crow3_col1 {\n",
       "            background-color:  green;\n",
       "        }    #T_14971e7c_206c_11ea_957c_c869cd93ed7crow3_col2 {\n",
       "            background-color:  red;\n",
       "        }    #T_14971e7c_206c_11ea_957c_c869cd93ed7crow3_col3 {\n",
       "            background-color:  red;\n",
       "        }    #T_14971e7c_206c_11ea_957c_c869cd93ed7crow3_col4 {\n",
       "            background-color:  green;\n",
       "        }    #T_14971e7c_206c_11ea_957c_c869cd93ed7crow3_col5 {\n",
       "            background-color:  green;\n",
       "        }    #T_14971e7c_206c_11ea_957c_c869cd93ed7crow3_col6 {\n",
       "            background-color:  green;\n",
       "        }    #T_14971e7c_206c_11ea_957c_c869cd93ed7crow3_col7 {\n",
       "            background-color:  green;\n",
       "        }    #T_14971e7c_206c_11ea_957c_c869cd93ed7crow3_col8 {\n",
       "            background-color:  green;\n",
       "        }    #T_14971e7c_206c_11ea_957c_c869cd93ed7crow3_col9 {\n",
       "            background-color:  red;\n",
       "        }    #T_14971e7c_206c_11ea_957c_c869cd93ed7crow3_col10 {\n",
       "            background-color:  green;\n",
       "        }    #T_14971e7c_206c_11ea_957c_c869cd93ed7crow3_col11 {\n",
       "            background-color:  green;\n",
       "        }    #T_14971e7c_206c_11ea_957c_c869cd93ed7crow3_col12 {\n",
       "            background-color:  green;\n",
       "        }    #T_14971e7c_206c_11ea_957c_c869cd93ed7crow3_col13 {\n",
       "            background-color:  white;\n",
       "        }    #T_14971e7c_206c_11ea_957c_c869cd93ed7crow3_col14 {\n",
       "            background-color:  green;\n",
       "        }    #T_14971e7c_206c_11ea_957c_c869cd93ed7crow3_col15 {\n",
       "            background-color:  green;\n",
       "        }    #T_14971e7c_206c_11ea_957c_c869cd93ed7crow3_col16 {\n",
       "            background-color:  green;\n",
       "        }    #T_14971e7c_206c_11ea_957c_c869cd93ed7crow3_col17 {\n",
       "            background-color:  white;\n",
       "        }    #T_14971e7c_206c_11ea_957c_c869cd93ed7crow3_col18 {\n",
       "            background-color:  green;\n",
       "        }    #T_14971e7c_206c_11ea_957c_c869cd93ed7crow4_col0 {\n",
       "            background-color:  red;\n",
       "        }    #T_14971e7c_206c_11ea_957c_c869cd93ed7crow4_col1 {\n",
       "            background-color:  green;\n",
       "        }    #T_14971e7c_206c_11ea_957c_c869cd93ed7crow4_col2 {\n",
       "            background-color:  green;\n",
       "        }    #T_14971e7c_206c_11ea_957c_c869cd93ed7crow4_col3 {\n",
       "            background-color:  green;\n",
       "        }    #T_14971e7c_206c_11ea_957c_c869cd93ed7crow4_col4 {\n",
       "            background-color:  green;\n",
       "        }    #T_14971e7c_206c_11ea_957c_c869cd93ed7crow4_col5 {\n",
       "            background-color:  green;\n",
       "        }    #T_14971e7c_206c_11ea_957c_c869cd93ed7crow4_col6 {\n",
       "            background-color:  green;\n",
       "        }    #T_14971e7c_206c_11ea_957c_c869cd93ed7crow4_col7 {\n",
       "            background-color:  green;\n",
       "        }    #T_14971e7c_206c_11ea_957c_c869cd93ed7crow4_col8 {\n",
       "            background-color:  green;\n",
       "        }    #T_14971e7c_206c_11ea_957c_c869cd93ed7crow4_col9 {\n",
       "            background-color:  green;\n",
       "        }    #T_14971e7c_206c_11ea_957c_c869cd93ed7crow4_col10 {\n",
       "            background-color:  green;\n",
       "        }    #T_14971e7c_206c_11ea_957c_c869cd93ed7crow4_col11 {\n",
       "            background-color:  green;\n",
       "        }    #T_14971e7c_206c_11ea_957c_c869cd93ed7crow4_col12 {\n",
       "            background-color:  green;\n",
       "        }    #T_14971e7c_206c_11ea_957c_c869cd93ed7crow4_col13 {\n",
       "            background-color:  green;\n",
       "        }    #T_14971e7c_206c_11ea_957c_c869cd93ed7crow4_col14 {\n",
       "            background-color:  green;\n",
       "        }    #T_14971e7c_206c_11ea_957c_c869cd93ed7crow4_col15 {\n",
       "            background-color:  green;\n",
       "        }    #T_14971e7c_206c_11ea_957c_c869cd93ed7crow4_col16 {\n",
       "            background-color:  green;\n",
       "        }    #T_14971e7c_206c_11ea_957c_c869cd93ed7crow4_col17 {\n",
       "            background-color:  green;\n",
       "        }    #T_14971e7c_206c_11ea_957c_c869cd93ed7crow4_col18 {\n",
       "            background-color:  green;\n",
       "        }</style><table id=\"T_14971e7c_206c_11ea_957c_c869cd93ed7c\" ><thead>    <tr>        <th class=\"blank level0\" ></th>        <th class=\"col_heading level0 col0\" >1</th>        <th class=\"col_heading level0 col1\" >2</th>        <th class=\"col_heading level0 col2\" >3</th>        <th class=\"col_heading level0 col3\" >4</th>        <th class=\"col_heading level0 col4\" >5</th>        <th class=\"col_heading level0 col5\" >6</th>        <th class=\"col_heading level0 col6\" >7</th>        <th class=\"col_heading level0 col7\" >8</th>        <th class=\"col_heading level0 col8\" >9</th>        <th class=\"col_heading level0 col9\" >10</th>        <th class=\"col_heading level0 col10\" >11</th>        <th class=\"col_heading level0 col11\" >12</th>        <th class=\"col_heading level0 col12\" >13</th>        <th class=\"col_heading level0 col13\" >14</th>        <th class=\"col_heading level0 col14\" >15</th>        <th class=\"col_heading level0 col15\" >16</th>        <th class=\"col_heading level0 col16\" >17</th>        <th class=\"col_heading level0 col17\" >18</th>        <th class=\"col_heading level0 col18\" >20</th>    </tr></thead><tbody>\n",
       "                <tr>\n",
       "                        <th id=\"T_14971e7c_206c_11ea_957c_c869cd93ed7clevel0_row0\" class=\"row_heading level0 row0\" >0</th>\n",
       "                        <td id=\"T_14971e7c_206c_11ea_957c_c869cd93ed7crow0_col0\" class=\"data row0 col0\" >nan</td>\n",
       "                        <td id=\"T_14971e7c_206c_11ea_957c_c869cd93ed7crow0_col1\" class=\"data row0 col1\" >nan</td>\n",
       "                        <td id=\"T_14971e7c_206c_11ea_957c_c869cd93ed7crow0_col2\" class=\"data row0 col2\" >nan</td>\n",
       "                        <td id=\"T_14971e7c_206c_11ea_957c_c869cd93ed7crow0_col3\" class=\"data row0 col3\" >nan</td>\n",
       "                        <td id=\"T_14971e7c_206c_11ea_957c_c869cd93ed7crow0_col4\" class=\"data row0 col4\" >nan</td>\n",
       "                        <td id=\"T_14971e7c_206c_11ea_957c_c869cd93ed7crow0_col5\" class=\"data row0 col5\" >nan</td>\n",
       "                        <td id=\"T_14971e7c_206c_11ea_957c_c869cd93ed7crow0_col6\" class=\"data row0 col6\" >nan</td>\n",
       "                        <td id=\"T_14971e7c_206c_11ea_957c_c869cd93ed7crow0_col7\" class=\"data row0 col7\" >nan</td>\n",
       "                        <td id=\"T_14971e7c_206c_11ea_957c_c869cd93ed7crow0_col8\" class=\"data row0 col8\" >nan</td>\n",
       "                        <td id=\"T_14971e7c_206c_11ea_957c_c869cd93ed7crow0_col9\" class=\"data row0 col9\" >nan</td>\n",
       "                        <td id=\"T_14971e7c_206c_11ea_957c_c869cd93ed7crow0_col10\" class=\"data row0 col10\" >nan</td>\n",
       "                        <td id=\"T_14971e7c_206c_11ea_957c_c869cd93ed7crow0_col11\" class=\"data row0 col11\" >nan</td>\n",
       "                        <td id=\"T_14971e7c_206c_11ea_957c_c869cd93ed7crow0_col12\" class=\"data row0 col12\" >nan</td>\n",
       "                        <td id=\"T_14971e7c_206c_11ea_957c_c869cd93ed7crow0_col13\" class=\"data row0 col13\" >nan</td>\n",
       "                        <td id=\"T_14971e7c_206c_11ea_957c_c869cd93ed7crow0_col14\" class=\"data row0 col14\" >nan</td>\n",
       "                        <td id=\"T_14971e7c_206c_11ea_957c_c869cd93ed7crow0_col15\" class=\"data row0 col15\" >nan</td>\n",
       "                        <td id=\"T_14971e7c_206c_11ea_957c_c869cd93ed7crow0_col16\" class=\"data row0 col16\" >nan</td>\n",
       "                        <td id=\"T_14971e7c_206c_11ea_957c_c869cd93ed7crow0_col17\" class=\"data row0 col17\" >nan</td>\n",
       "                        <td id=\"T_14971e7c_206c_11ea_957c_c869cd93ed7crow0_col18\" class=\"data row0 col18\" >nan</td>\n",
       "            </tr>\n",
       "            <tr>\n",
       "                        <th id=\"T_14971e7c_206c_11ea_957c_c869cd93ed7clevel0_row1\" class=\"row_heading level0 row1\" >1</th>\n",
       "                        <td id=\"T_14971e7c_206c_11ea_957c_c869cd93ed7crow1_col0\" class=\"data row1 col0\" >-2.2292</td>\n",
       "                        <td id=\"T_14971e7c_206c_11ea_957c_c869cd93ed7crow1_col1\" class=\"data row1 col1\" >9.9399</td>\n",
       "                        <td id=\"T_14971e7c_206c_11ea_957c_c869cd93ed7crow1_col2\" class=\"data row1 col2\" >4.82201</td>\n",
       "                        <td id=\"T_14971e7c_206c_11ea_957c_c869cd93ed7crow1_col3\" class=\"data row1 col3\" >8.19019</td>\n",
       "                        <td id=\"T_14971e7c_206c_11ea_957c_c869cd93ed7crow1_col4\" class=\"data row1 col4\" >-20.3883</td>\n",
       "                        <td id=\"T_14971e7c_206c_11ea_957c_c869cd93ed7crow1_col5\" class=\"data row1 col5\" >284.79</td>\n",
       "                        <td id=\"T_14971e7c_206c_11ea_957c_c869cd93ed7crow1_col6\" class=\"data row1 col6\" >inf</td>\n",
       "                        <td id=\"T_14971e7c_206c_11ea_957c_c869cd93ed7crow1_col7\" class=\"data row1 col7\" >-53.5599</td>\n",
       "                        <td id=\"T_14971e7c_206c_11ea_957c_c869cd93ed7crow1_col8\" class=\"data row1 col8\" >inf</td>\n",
       "                        <td id=\"T_14971e7c_206c_11ea_957c_c869cd93ed7crow1_col9\" class=\"data row1 col9\" >-73.4628</td>\n",
       "                        <td id=\"T_14971e7c_206c_11ea_957c_c869cd93ed7crow1_col10\" class=\"data row1 col10\" >nan</td>\n",
       "                        <td id=\"T_14971e7c_206c_11ea_957c_c869cd93ed7crow1_col11\" class=\"data row1 col11\" >nan</td>\n",
       "                        <td id=\"T_14971e7c_206c_11ea_957c_c869cd93ed7crow1_col12\" class=\"data row1 col12\" >nan</td>\n",
       "                        <td id=\"T_14971e7c_206c_11ea_957c_c869cd93ed7crow1_col13\" class=\"data row1 col13\" >nan</td>\n",
       "                        <td id=\"T_14971e7c_206c_11ea_957c_c869cd93ed7crow1_col14\" class=\"data row1 col14\" >inf</td>\n",
       "                        <td id=\"T_14971e7c_206c_11ea_957c_c869cd93ed7crow1_col15\" class=\"data row1 col15\" >nan</td>\n",
       "                        <td id=\"T_14971e7c_206c_11ea_957c_c869cd93ed7crow1_col16\" class=\"data row1 col16\" >nan</td>\n",
       "                        <td id=\"T_14971e7c_206c_11ea_957c_c869cd93ed7crow1_col17\" class=\"data row1 col17\" >nan</td>\n",
       "                        <td id=\"T_14971e7c_206c_11ea_957c_c869cd93ed7crow1_col18\" class=\"data row1 col18\" >inf</td>\n",
       "            </tr>\n",
       "            <tr>\n",
       "                        <th id=\"T_14971e7c_206c_11ea_957c_c869cd93ed7clevel0_row2\" class=\"row_heading level0 row2\" >2</th>\n",
       "                        <td id=\"T_14971e7c_206c_11ea_957c_c869cd93ed7crow2_col0\" class=\"data row2 col0\" >-2.96626</td>\n",
       "                        <td id=\"T_14971e7c_206c_11ea_957c_c869cd93ed7crow2_col1\" class=\"data row2 col1\" >5.48541</td>\n",
       "                        <td id=\"T_14971e7c_206c_11ea_957c_c869cd93ed7crow2_col2\" class=\"data row2 col2\" >-7.49382</td>\n",
       "                        <td id=\"T_14971e7c_206c_11ea_957c_c869cd93ed7crow2_col3\" class=\"data row2 col3\" >1.34035</td>\n",
       "                        <td id=\"T_14971e7c_206c_11ea_957c_c869cd93ed7crow2_col4\" class=\"data row2 col4\" >43.6302</td>\n",
       "                        <td id=\"T_14971e7c_206c_11ea_957c_c869cd93ed7crow2_col5\" class=\"data row2 col5\" >319.398</td>\n",
       "                        <td id=\"T_14971e7c_206c_11ea_957c_c869cd93ed7crow2_col6\" class=\"data row2 col6\" >inf</td>\n",
       "                        <td id=\"T_14971e7c_206c_11ea_957c_c869cd93ed7crow2_col7\" class=\"data row2 col7\" >10.4587</td>\n",
       "                        <td id=\"T_14971e7c_206c_11ea_957c_c869cd93ed7crow2_col8\" class=\"data row2 col8\" >inf</td>\n",
       "                        <td id=\"T_14971e7c_206c_11ea_957c_c869cd93ed7crow2_col9\" class=\"data row2 col9\" >-58.6498</td>\n",
       "                        <td id=\"T_14971e7c_206c_11ea_957c_c869cd93ed7crow2_col10\" class=\"data row2 col10\" >inf</td>\n",
       "                        <td id=\"T_14971e7c_206c_11ea_957c_c869cd93ed7crow2_col11\" class=\"data row2 col11\" >inf</td>\n",
       "                        <td id=\"T_14971e7c_206c_11ea_957c_c869cd93ed7crow2_col12\" class=\"data row2 col12\" >inf</td>\n",
       "                        <td id=\"T_14971e7c_206c_11ea_957c_c869cd93ed7crow2_col13\" class=\"data row2 col13\" >nan</td>\n",
       "                        <td id=\"T_14971e7c_206c_11ea_957c_c869cd93ed7crow2_col14\" class=\"data row2 col14\" >inf</td>\n",
       "                        <td id=\"T_14971e7c_206c_11ea_957c_c869cd93ed7crow2_col15\" class=\"data row2 col15\" >inf</td>\n",
       "                        <td id=\"T_14971e7c_206c_11ea_957c_c869cd93ed7crow2_col16\" class=\"data row2 col16\" >inf</td>\n",
       "                        <td id=\"T_14971e7c_206c_11ea_957c_c869cd93ed7crow2_col17\" class=\"data row2 col17\" >nan</td>\n",
       "                        <td id=\"T_14971e7c_206c_11ea_957c_c869cd93ed7crow2_col18\" class=\"data row2 col18\" >inf</td>\n",
       "            </tr>\n",
       "            <tr>\n",
       "                        <th id=\"T_14971e7c_206c_11ea_957c_c869cd93ed7clevel0_row3\" class=\"row_heading level0 row3\" >3</th>\n",
       "                        <td id=\"T_14971e7c_206c_11ea_957c_c869cd93ed7crow3_col0\" class=\"data row3 col0\" >-3.02246</td>\n",
       "                        <td id=\"T_14971e7c_206c_11ea_957c_c869cd93ed7crow3_col1\" class=\"data row3 col1\" >10.5374</td>\n",
       "                        <td id=\"T_14971e7c_206c_11ea_957c_c869cd93ed7crow3_col2\" class=\"data row3 col2\" >-6.20593</td>\n",
       "                        <td id=\"T_14971e7c_206c_11ea_957c_c869cd93ed7crow3_col3\" class=\"data row3 col3\" >-5.51533</td>\n",
       "                        <td id=\"T_14971e7c_206c_11ea_957c_c869cd93ed7crow3_col4\" class=\"data row3 col4\" >33.0936</td>\n",
       "                        <td id=\"T_14971e7c_206c_11ea_957c_c869cd93ed7crow3_col5\" class=\"data row3 col5\" >311.695</td>\n",
       "                        <td id=\"T_14971e7c_206c_11ea_957c_c869cd93ed7crow3_col6\" class=\"data row3 col6\" >inf</td>\n",
       "                        <td id=\"T_14971e7c_206c_11ea_957c_c869cd93ed7crow3_col7\" class=\"data row3 col7\" >9.55656</td>\n",
       "                        <td id=\"T_14971e7c_206c_11ea_957c_c869cd93ed7crow3_col8\" class=\"data row3 col8\" >inf</td>\n",
       "                        <td id=\"T_14971e7c_206c_11ea_957c_c869cd93ed7crow3_col9\" class=\"data row3 col9\" >-76.0682</td>\n",
       "                        <td id=\"T_14971e7c_206c_11ea_957c_c869cd93ed7crow3_col10\" class=\"data row3 col10\" >inf</td>\n",
       "                        <td id=\"T_14971e7c_206c_11ea_957c_c869cd93ed7crow3_col11\" class=\"data row3 col11\" >inf</td>\n",
       "                        <td id=\"T_14971e7c_206c_11ea_957c_c869cd93ed7crow3_col12\" class=\"data row3 col12\" >inf</td>\n",
       "                        <td id=\"T_14971e7c_206c_11ea_957c_c869cd93ed7crow3_col13\" class=\"data row3 col13\" >nan</td>\n",
       "                        <td id=\"T_14971e7c_206c_11ea_957c_c869cd93ed7crow3_col14\" class=\"data row3 col14\" >inf</td>\n",
       "                        <td id=\"T_14971e7c_206c_11ea_957c_c869cd93ed7crow3_col15\" class=\"data row3 col15\" >inf</td>\n",
       "                        <td id=\"T_14971e7c_206c_11ea_957c_c869cd93ed7crow3_col16\" class=\"data row3 col16\" >inf</td>\n",
       "                        <td id=\"T_14971e7c_206c_11ea_957c_c869cd93ed7crow3_col17\" class=\"data row3 col17\" >nan</td>\n",
       "                        <td id=\"T_14971e7c_206c_11ea_957c_c869cd93ed7crow3_col18\" class=\"data row3 col18\" >inf</td>\n",
       "            </tr>\n",
       "            <tr>\n",
       "                        <th id=\"T_14971e7c_206c_11ea_957c_c869cd93ed7clevel0_row4\" class=\"row_heading level0 row4\" >4</th>\n",
       "                        <td id=\"T_14971e7c_206c_11ea_957c_c869cd93ed7crow4_col0\" class=\"data row4 col0\" >-9.30609</td>\n",
       "                        <td id=\"T_14971e7c_206c_11ea_957c_c869cd93ed7crow4_col1\" class=\"data row4 col1\" >18.7931</td>\n",
       "                        <td id=\"T_14971e7c_206c_11ea_957c_c869cd93ed7crow4_col2\" class=\"data row4 col2\" >8.69613</td>\n",
       "                        <td id=\"T_14971e7c_206c_11ea_957c_c869cd93ed7crow4_col3\" class=\"data row4 col3\" >43.3819</td>\n",
       "                        <td id=\"T_14971e7c_206c_11ea_957c_c869cd93ed7crow4_col4\" class=\"data row4 col4\" >87.2003</td>\n",
       "                        <td id=\"T_14971e7c_206c_11ea_957c_c869cd93ed7crow4_col5\" class=\"data row4 col5\" >346.562</td>\n",
       "                        <td id=\"T_14971e7c_206c_11ea_957c_c869cd93ed7crow4_col6\" class=\"data row4 col6\" >inf</td>\n",
       "                        <td id=\"T_14971e7c_206c_11ea_957c_c869cd93ed7crow4_col7\" class=\"data row4 col7\" >13.0908</td>\n",
       "                        <td id=\"T_14971e7c_206c_11ea_957c_c869cd93ed7crow4_col8\" class=\"data row4 col8\" >inf</td>\n",
       "                        <td id=\"T_14971e7c_206c_11ea_957c_c869cd93ed7crow4_col9\" class=\"data row4 col9\" >251.011</td>\n",
       "                        <td id=\"T_14971e7c_206c_11ea_957c_c869cd93ed7crow4_col10\" class=\"data row4 col10\" >inf</td>\n",
       "                        <td id=\"T_14971e7c_206c_11ea_957c_c869cd93ed7crow4_col11\" class=\"data row4 col11\" >inf</td>\n",
       "                        <td id=\"T_14971e7c_206c_11ea_957c_c869cd93ed7crow4_col12\" class=\"data row4 col12\" >inf</td>\n",
       "                        <td id=\"T_14971e7c_206c_11ea_957c_c869cd93ed7crow4_col13\" class=\"data row4 col13\" >inf</td>\n",
       "                        <td id=\"T_14971e7c_206c_11ea_957c_c869cd93ed7crow4_col14\" class=\"data row4 col14\" >inf</td>\n",
       "                        <td id=\"T_14971e7c_206c_11ea_957c_c869cd93ed7crow4_col15\" class=\"data row4 col15\" >inf</td>\n",
       "                        <td id=\"T_14971e7c_206c_11ea_957c_c869cd93ed7crow4_col16\" class=\"data row4 col16\" >inf</td>\n",
       "                        <td id=\"T_14971e7c_206c_11ea_957c_c869cd93ed7crow4_col17\" class=\"data row4 col17\" >inf</td>\n",
       "                        <td id=\"T_14971e7c_206c_11ea_957c_c869cd93ed7crow4_col18\" class=\"data row4 col18\" >inf</td>\n",
       "            </tr>\n",
       "    </tbody></table>"
      ],
      "text/plain": [
       "<pandas.io.formats.style.Styler at 0x1a248f68d0>"
      ]
     },
     "metadata": {},
     "output_type": "display_data"
    },
    {
     "data": {
      "image/png": "[encoded data removed]",
      "text/plain": [
       "<Figure size 720x504 with 1 Axes>"
      ]
     },
     "metadata": {},
     "output_type": "display_data"
    }
   ],
   "source": [
    "ste = cat_distr_pairwise('AdoptionSpeed','Quantity', df, frel=True)"
   ]
  },
  {
   "cell_type": "markdown",
   "metadata": {},
   "source": [
    "The \"inf\" values on the table indicate that there are no examples of a pet with AdoptionSpeed=0 for that feature instance. Therefore, all positive relative gains are 'infinite'.\n",
    "\n",
    "We can conclude that adds containing more than 5 pets could be more likely to be ignored, since those pets are adopted after a long time."
   ]
  },
  {
   "cell_type": "markdown",
   "metadata": {},
   "source": [
    "### Fee\n",
    "\n",
    "After observing the fees distribution we considered 4 categories: \n",
    "* Free => 0\n",
    "* Tens => 1\n",
    "* Hundreds => 2\n",
    "* Thousands => 3\n"
   ]
  },
  {
   "cell_type": "code",
   "execution_count": 62,
   "metadata": {},
   "outputs": [],
   "source": [
    "f=[]\n",
    "for i in df[\"Fee\"]:\n",
    "    if i==0:\n",
    "        f.append(0)\n",
    "    elif i<100:\n",
    "        f.append(1)\n",
    "    elif i<1000:\n",
    "        f.append(2)\n",
    "    else:\n",
    "        f.append(3)\n",
    "\n",
    "df_processed2.drop(\"Fee\",axis=1,inplace=True) \n",
    "df_processed2.insert(4,'Free',f) ##INSERT IN DATAFRAME"
   ]
  },
  {
   "cell_type": "code",
   "execution_count": 63,
   "metadata": {},
   "outputs": [
    {
     "name": "stdout",
     "output_type": "stream",
     "text": [
      "Relative gain from AdoptionSpeed=0 (%):\n"
     ]
    },
    {
     "data": {
      "text/html": [
       "<style  type=\"text/css\" >\n",
       "    #T_150dd800_206c_11ea_957c_c869cd93ed7crow0_col0 {\n",
       "            background-color:  white;\n",
       "        }    #T_150dd800_206c_11ea_957c_c869cd93ed7crow0_col1 {\n",
       "            background-color:  white;\n",
       "        }    #T_150dd800_206c_11ea_957c_c869cd93ed7crow0_col2 {\n",
       "            background-color:  white;\n",
       "        }    #T_150dd800_206c_11ea_957c_c869cd93ed7crow0_col3 {\n",
       "            background-color:  white;\n",
       "        }    #T_150dd800_206c_11ea_957c_c869cd93ed7crow1_col0 {\n",
       "            background-color:  red;\n",
       "        }    #T_150dd800_206c_11ea_957c_c869cd93ed7crow1_col1 {\n",
       "            background-color:  green;\n",
       "        }    #T_150dd800_206c_11ea_957c_c869cd93ed7crow1_col2 {\n",
       "            background-color:  green;\n",
       "        }    #T_150dd800_206c_11ea_957c_c869cd93ed7crow1_col3 {\n",
       "            background-color:  red;\n",
       "        }    #T_150dd800_206c_11ea_957c_c869cd93ed7crow2_col0 {\n",
       "            background-color:  red;\n",
       "        }    #T_150dd800_206c_11ea_957c_c869cd93ed7crow2_col1 {\n",
       "            background-color:  green;\n",
       "        }    #T_150dd800_206c_11ea_957c_c869cd93ed7crow2_col2 {\n",
       "            background-color:  green;\n",
       "        }    #T_150dd800_206c_11ea_957c_c869cd93ed7crow2_col3 {\n",
       "            background-color:  red;\n",
       "        }    #T_150dd800_206c_11ea_957c_c869cd93ed7crow3_col0 {\n",
       "            background-color:  red;\n",
       "        }    #T_150dd800_206c_11ea_957c_c869cd93ed7crow3_col1 {\n",
       "            background-color:  green;\n",
       "        }    #T_150dd800_206c_11ea_957c_c869cd93ed7crow3_col2 {\n",
       "            background-color:  red;\n",
       "        }    #T_150dd800_206c_11ea_957c_c869cd93ed7crow3_col3 {\n",
       "            background-color:  red;\n",
       "        }    #T_150dd800_206c_11ea_957c_c869cd93ed7crow4_col0 {\n",
       "            background-color:  red;\n",
       "        }    #T_150dd800_206c_11ea_957c_c869cd93ed7crow4_col1 {\n",
       "            background-color:  green;\n",
       "        }    #T_150dd800_206c_11ea_957c_c869cd93ed7crow4_col2 {\n",
       "            background-color:  green;\n",
       "        }    #T_150dd800_206c_11ea_957c_c869cd93ed7crow4_col3 {\n",
       "            background-color:  red;\n",
       "        }</style><table id=\"T_150dd800_206c_11ea_957c_c869cd93ed7c\" ><thead>    <tr>        <th class=\"blank level0\" ></th>        <th class=\"col_heading level0 col0\" >0</th>        <th class=\"col_heading level0 col1\" >1</th>        <th class=\"col_heading level0 col2\" >2</th>        <th class=\"col_heading level0 col3\" >3</th>    </tr></thead><tbody>\n",
       "                <tr>\n",
       "                        <th id=\"T_150dd800_206c_11ea_957c_c869cd93ed7clevel0_row0\" class=\"row_heading level0 row0\" >0</th>\n",
       "                        <td id=\"T_150dd800_206c_11ea_957c_c869cd93ed7crow0_col0\" class=\"data row0 col0\" >nan</td>\n",
       "                        <td id=\"T_150dd800_206c_11ea_957c_c869cd93ed7crow0_col1\" class=\"data row0 col1\" >nan</td>\n",
       "                        <td id=\"T_150dd800_206c_11ea_957c_c869cd93ed7crow0_col2\" class=\"data row0 col2\" >nan</td>\n",
       "                        <td id=\"T_150dd800_206c_11ea_957c_c869cd93ed7crow0_col3\" class=\"data row0 col3\" >nan</td>\n",
       "            </tr>\n",
       "            <tr>\n",
       "                        <th id=\"T_150dd800_206c_11ea_957c_c869cd93ed7clevel0_row1\" class=\"row_heading level0 row1\" >1</th>\n",
       "                        <td id=\"T_150dd800_206c_11ea_957c_c869cd93ed7crow1_col0\" class=\"data row1 col0\" >-2.95704</td>\n",
       "                        <td id=\"T_150dd800_206c_11ea_957c_c869cd93ed7crow1_col1\" class=\"data row1 col1\" >50.5987</td>\n",
       "                        <td id=\"T_150dd800_206c_11ea_957c_c869cd93ed7crow1_col2\" class=\"data row1 col2\" >3.661</td>\n",
       "                        <td id=\"T_150dd800_206c_11ea_957c_c869cd93ed7crow1_col3\" class=\"data row1 col3\" >-73.4628</td>\n",
       "            </tr>\n",
       "            <tr>\n",
       "                        <th id=\"T_150dd800_206c_11ea_957c_c869cd93ed7clevel0_row2\" class=\"row_heading level0 row2\" >2</th>\n",
       "                        <td id=\"T_150dd800_206c_11ea_957c_c869cd93ed7crow2_col0\" class=\"data row2 col0\" >-2.40591</td>\n",
       "                        <td id=\"T_150dd800_206c_11ea_957c_c869cd93ed7crow2_col1\" class=\"data row2 col1\" >45.0117</td>\n",
       "                        <td id=\"T_150dd800_206c_11ea_957c_c869cd93ed7crow2_col2\" class=\"data row2 col2\" >3.16559</td>\n",
       "                        <td id=\"T_150dd800_206c_11ea_957c_c869cd93ed7crow2_col3\" class=\"data row2 col3\" >-96.9208</td>\n",
       "            </tr>\n",
       "            <tr>\n",
       "                        <th id=\"T_150dd800_206c_11ea_957c_c869cd93ed7clevel0_row3\" class=\"row_heading level0 row3\" >3</th>\n",
       "                        <td id=\"T_150dd800_206c_11ea_957c_c869cd93ed7crow3_col0\" class=\"data row3 col0\" >-1.68287</td>\n",
       "                        <td id=\"T_150dd800_206c_11ea_957c_c869cd93ed7crow3_col1\" class=\"data row3 col1\" >41.4552</td>\n",
       "                        <td id=\"T_150dd800_206c_11ea_957c_c869cd93ed7crow3_col2\" class=\"data row3 col2\" >-1.16684</td>\n",
       "                        <td id=\"T_150dd800_206c_11ea_957c_c869cd93ed7crow3_col3\" class=\"data row3 col3\" >-134.985</td>\n",
       "            </tr>\n",
       "            <tr>\n",
       "                        <th id=\"T_150dd800_206c_11ea_957c_c869cd93ed7clevel0_row4\" class=\"row_heading level0 row4\" >4</th>\n",
       "                        <td id=\"T_150dd800_206c_11ea_957c_c869cd93ed7crow4_col0\" class=\"data row4 col0\" >-4.90487</td>\n",
       "                        <td id=\"T_150dd800_206c_11ea_957c_c869cd93ed7crow4_col1\" class=\"data row4 col1\" >54.3693</td>\n",
       "                        <td id=\"T_150dd800_206c_11ea_957c_c869cd93ed7crow4_col2\" class=\"data row4 col2\" >23.8168</td>\n",
       "                        <td id=\"T_150dd800_206c_11ea_957c_c869cd93ed7crow4_col3\" class=\"data row4 col3\" >-234.985</td>\n",
       "            </tr>\n",
       "    </tbody></table>"
      ],
      "text/plain": [
       "<pandas.io.formats.style.Styler at 0x1a24859110>"
      ]
     },
     "metadata": {},
     "output_type": "display_data"
    },
    {
     "data": {
      "image/png": "[encoded data removed]",
      "text/plain": [
       "<Figure size 720x504 with 1 Axes>"
      ]
     },
     "metadata": {},
     "output_type": "display_data"
    }
   ],
   "source": [
    "fee = cat_distr_pairwise('AdoptionSpeed','Free', df_processed2, frel=True)"
   ]
  },
  {
   "cell_type": "markdown",
   "metadata": {},
   "source": [
    "It seems that pets with fees in the order of the thousands are less likely to be adopted fast."
   ]
  },
  {
   "cell_type": "markdown",
   "metadata": {},
   "source": [
    "### RescuerID\n",
    "\n",
    "In order to extract some meaning from the 'RescuerID', we decided to create a new feature \"FrequentRescuer\" which indicates whether it is frequent for rescuers to save and advertise pets."
   ]
  },
  {
   "cell_type": "code",
   "execution_count": 64,
   "metadata": {},
   "outputs": [
    {
     "name": "stdout",
     "output_type": "stream",
     "text": [
      "There are 5595 total rescuers in the dataset\n",
      "There are 3783 rescuers with only 1 webpage entry in the dataset\n",
      "There are 1812 rescuers with more than 1 webpage entry in the dataset\n"
     ]
    },
    {
     "data": {
      "text/plain": [
       "<seaborn.axisgrid.FacetGrid at 0x1a20dc5f50>"
      ]
     },
     "execution_count": 64,
     "metadata": {},
     "output_type": "execute_result"
    },
    {
     "data": {
      "image/png": "[encoded data removed]",
      "text/plain": [
       "<Figure size 1080x360 with 1 Axes>"
      ]
     },
     "metadata": {},
     "output_type": "display_data"
    }
   ],
   "source": [
    "x = list(df['RescuerID'].unique())\n",
    "y = list(df['RescuerID'])\n",
    "z = []\n",
    "t = {}\n",
    "for i in x:\n",
    "    z.append(y.count(i))\n",
    "\n",
    "t['Rescuer'] = x\n",
    "t['entries'] = z\n",
    "\n",
    "e = pd.DataFrame(t)\n",
    "print('There are {} total rescuers in the dataset'.format(len(x)))\n",
    "print('There are {} rescuers with only 1 webpage entry in the dataset'.format(z.count(1)))\n",
    "print('There are {} rescuers with more than 1 webpage entry in the dataset'.format(len(x)-(z.count(1))))\n",
    "ax11 = sns.catplot(x='entries', data=e, kind='count', height=5, aspect=3)\n",
    "(ax11.set_axis_labels(\"Web page entries\", \"Number of Rescuers\")\n",
    "    .set_titles(\"{col_name} {col_var}\")\n",
    "    .despine(left=True))  "
   ]
  },
  {
   "cell_type": "markdown",
   "metadata": {},
   "source": [
    "According to the dataset, the number of rescuers with a single entry in the MyPet webpage is greater than the number of rescuers who save and advertise more than 1 pet. This information could be useful on later anaylsis to discover whether the number of webpage profile entries associated with a rescuer has any interference in pet's apoption or adoption speed."
   ]
  },
  {
   "cell_type": "code",
   "execution_count": 65,
   "metadata": {},
   "outputs": [],
   "source": [
    "#CREATE NEW FEATURE FREQUENTRESCUER\n",
    "\n",
    "lista2 = []\n",
    "y = list(df['RescuerID'])\n",
    "for i in df['RescuerID']:\n",
    "      if y.count(i)>1:\n",
    "          lista2.append(float(1))\n",
    "      else:\n",
    "          lista2.append(float(0))\n",
    "          \n",
    "df_processed1.insert((df.columns.get_loc(\"RescuerID\"))+1,'FrequentRescuer',lista2) ##INSERT IN DATAFRAME\n",
    "df_processed1.drop(\"RescuerID\", axis=1, inplace=True)\n",
    "\n",
    "df_processed2.insert((df.columns.get_loc(\"RescuerID\"))+1,'FrequentRescuer',lista2) ##INSERT IN DATAFRAME\n",
    "df_processed2.drop(\"RescuerID\", axis=1, inplace=True)"
   ]
  },
  {
   "cell_type": "markdown",
   "metadata": {},
   "source": [
    "### VideoAmt"
   ]
  },
  {
   "cell_type": "code",
   "execution_count": 66,
   "metadata": {},
   "outputs": [
    {
     "name": "stdout",
     "output_type": "stream",
     "text": [
      "There are 14419 profiles with 0 videos\n",
      "There are 574 profiles with more than 0 videos\n"
     ]
    },
    {
     "data": {
      "image/png": "[encoded data removed]",
      "text/plain": [
       "<Figure size 360x360 with 1 Axes>"
      ]
     },
     "metadata": {},
     "output_type": "display_data"
    }
   ],
   "source": [
    "ax2 = sns.catplot(x='VideoAmt', data=df, kind='count')\n",
    "(ax2.set_axis_labels(\"Video Amount\", \"Number of Pets\"))\n",
    "print('There are {} profiles with 0 videos'.format((list(df['VideoAmt'])).count(0)))\n",
    "print('There are {} profiles with more than 0 videos'.format(len(df['VideoAmt'])-list(list(df['VideoAmt'])).count(0)))"
   ]
  },
  {
   "cell_type": "markdown",
   "metadata": {},
   "source": [
    "Given the distribution of pets, we will consider this feature as binary: has Video (1) or does not have Video (0)."
   ]
  },
  {
   "cell_type": "code",
   "execution_count": 67,
   "metadata": {},
   "outputs": [],
   "source": [
    "hasVideo=[]\n",
    "\n",
    "for v in df['VideoAmt']:\n",
    "    if v==0:\n",
    "        hasVideo.append(0)\n",
    "    else:\n",
    "        hasVideo.append(1)\n",
    "        \n",
    "df_processed2.drop(\"VideoAmt\", axis=1,inplace=True)\n",
    "df_processed2.insert(5,\"hasVideo\",hasVideo) ##INSERT IN DATAFRAME"
   ]
  },
  {
   "cell_type": "markdown",
   "metadata": {},
   "source": [
    "### Description\n",
    "\n",
    "In order to extract some meaning from the 'Description', we decided, as a first approach, to partition this continuous feature into discrete values.\n",
    "\n",
    "Since empty descriptions (size=0) probably have a direct influence in the adoption choice, it should be a category of its own. For that reason, we exclude empty descriptions from the discretization procces.\n",
    "\n",
    "We consider that the discretization of the 'description sizes' based on the quantiles strategy is appropriate, since it is plausible to say that the ad writers define what a 'medium' size description is. In that sense, a 'medium' sized description would have the average word count. In analogy, the smallest and largest descriptions would correspond to the first and third quantiles."
   ]
  },
  {
   "cell_type": "code",
   "execution_count": 68,
   "metadata": {},
   "outputs": [
    {
     "name": "stdout",
     "output_type": "stream",
     "text": [
      "The average descripton size: 62.953645034349364\n",
      "According to this discretization, the bin edges should be:\n",
      "[array([   0.,   28.,   65., 1257.])]\n"
     ]
    },
    {
     "data": {
      "image/png": "[encoded data removed]",
      "text/plain": [
       "<Figure size 1080x360 with 1 Axes>"
      ]
     },
     "metadata": {},
     "output_type": "display_data"
    }
   ],
   "source": [
    "import matplotlib.pyplot as plt\n",
    "import math\n",
    "from sklearn import preprocessing\n",
    "import statistics \n",
    "\n",
    "l=[]\n",
    "\n",
    "# List descriptions' lengths (i.e. number of char)\n",
    "for i in df['Description']:\n",
    "    if type(i)!=str: # Some empty descriptions are type:float\n",
    "        l.append(0)\n",
    "    else:\n",
    "        l.append(len(i.split()))\n",
    "\n",
    "mean = statistics.mean(l)\n",
    "print(\"The average descripton size:\" , mean)\n",
    "\n",
    "# Histogram\n",
    "a1 = np.asarray(l)\n",
    "nr_bins = 1 + 3.322*math.log(len(l),2) # Number of bins according to Sturges rule\n",
    "a1 = pd.Series(a1)\n",
    "a1.plot.hist(grid=True, bins = round(nr_bins), rwidth=0.9, color='#607c8e')\n",
    "plt.title('Description size distribution')\n",
    "plt.xlabel('Description size (# words)')\n",
    "plt.ylabel('Counts')\n",
    "plt.grid(axis='y', alpha=0.75)\n",
    "plt.xlim([0.0,1300])\n",
    "\n",
    "# Discretization by quantile strategy:\n",
    "a2 = np.asarray(l).reshape(-1,1) # Reshape data since we are working with just one feature\n",
    "est = preprocessing.KBinsDiscretizer(n_bins=[3],encode='ordinal', strategy='quantile').fit(a2)\n",
    "decp = est.transform(a2)\n",
    "\n",
    "print(\"According to this discretization, the bin edges should be:\")\n",
    "print(est.bin_edges_) # how the data is distributed in the four bins"
   ]
  },
  {
   "cell_type": "markdown",
   "metadata": {},
   "source": [
    "Based on these results, we present a new feature 'DescriptionSize' whose possible values include:\n",
    "* 'Empty' for descriptions containing 0 words => 0\n",
    "* 'Small' for descriptions containing 1-28 words => 1\n",
    "* 'Medium' for descriptions containing 29-65 words => 2\n",
    "* 'Large' for descriptions containing 66-1257 words => 3"
   ]
  },
  {
   "cell_type": "code",
   "execution_count": 69,
   "metadata": {},
   "outputs": [],
   "source": [
    "#Create new feature 'Description size'\n",
    "d = []\n",
    "\n",
    "for i in df['Description']:\n",
    "    if type(i)!=str: # Some empty descriptions are type:float\n",
    "        d.append(0)\n",
    "    else:\n",
    "        a= len(i.split())\n",
    "        if a<29:\n",
    "            d.append(1)\n",
    "        elif a<66:\n",
    "            d.append(2)\n",
    "        else:\n",
    "            d.append(3)\n",
    "         \n",
    "df_processed1.drop(\"Description\", axis=1, inplace=True)\n",
    "df_processed1.insert(6,\"DescriptionSize\",l) ##INSERT IN DATAFRAME\n",
    "\n",
    "df_processed2.drop(\"Description\", axis=1, inplace=True)\n",
    "df_processed2.insert(6,\"DescriptionSize\",d) ##INSERT IN DATAFRAME"
   ]
  },
  {
   "cell_type": "markdown",
   "metadata": {},
   "source": [
    "### Other conclusions\n",
    "* Pets with maturity size 'Small' (1) and 'Extra Large'(4) are less likely to be in the adoption centre for a very long time (-45.0552% and -97.3772 of pets at AdoptionSpeed=4 relatively to AdoptionSpeed=1, respectively). \n",
    "* Pets with long fur(3) very rarely stay at the adoption centre for a long time (-116.814% of pets at AdoptionSpeed=4 relatively to AdoptionSpeed=1).\n",
    "* Sterilized pets tend to be adopted later (+82.13% of pets at AdoptionSpeed=4 relatively to AdoptionSpeed=1).\n",
    "* Pets with serious injuries (Health=3) are very more likely to be adopted after a long time, or not adopted at all (+182.091% of pets at AdoptionSpeed=4 relatively to AdoptionSpeed=1). \n",
    "* No pets were adopted in the same day having the add not provide a description!\n",
    "* There was no clear evidence that the distribution of the features values among AdoptionSpeed classes was biased for features Gender, Vaccinated, Dewormed, States, FrequentRescuer."
   ]
  },
  {
   "cell_type": "markdown",
   "metadata": {},
   "source": [
    "## Task 1 (Supervised Learning) - Predicting Adoption and Adoption Speed"
   ]
  },
  {
   "cell_type": "markdown",
   "metadata": {},
   "source": [
    "## 1.1. Preprocessing Data for Classification"
   ]
  },
  {
   "cell_type": "markdown",
   "metadata": {},
   "source": [
    "During our EDA we already preprocessed some of the features, for data visualization purposes. The result are two datasets:\n",
    "* **df_processed1**: which we will use to benchmark the models' performance without the discretization of features discussed earlier, since they can remove the fine grain information that might be beneficial to the learning proccess. Some data cleaning was done, namely in features PetID, Name, RescuerID and DescriptionSize (in words, instead of text Description).\n",
    "\n",
    "* **df_processed2**: which is the data set with the derived features and data cleaning. We will see if the dicretization will be helpful for the models or not."
   ]
  },
  {
   "cell_type": "markdown",
   "metadata": {},
   "source": [
    "### Features impact\n",
    "\n",
    "Now that we have preprocessed our features, one way to determine the impact of each one on prediction models is to apply a random forest. Based on that information, we will  discard some features that have low impact and are probably causing noise.\n",
    "\n",
    "Bellow we have a function that will apply a random forest model to any data set.\n",
    "Code obtained from: <https://towardsdatascience.com/running-random-forests-inspect-the-feature-importances-with-this-code-2b00dd72b92e>"
   ]
  },
  {
   "cell_type": "code",
   "execution_count": 70,
   "metadata": {},
   "outputs": [],
   "source": [
    "from sklearn.ensemble import RandomForestClassifier \n",
    "\n",
    "def random_forest(df_x, df_y, test_size):\n",
    "  X_train, X_test, y_train, y_test = train_test_split(df_x, df_y, test_size=test_size, random_state=12)\n",
    "  rf = RandomForestClassifier() \n",
    "  rf.fit(X_train, y_train) \n",
    "  score = rf.score(X_test, y_test)\n",
    "  feature_importance = pd.DataFrame(rf.feature_importances_, index = df_x.columns, columns=['importance']).sort_values('importance',ascending=False).reset_index().rename(columns = {'index':'column'})\n",
    "  return score, feature_importance"
   ]
  },
  {
   "cell_type": "markdown",
   "metadata": {},
   "source": [
    "Original features importance (df_processed1):"
   ]
  },
  {
   "cell_type": "code",
   "execution_count": 71,
   "metadata": {},
   "outputs": [
    {
     "name": "stderr",
     "output_type": "stream",
     "text": [
      "/Users/air/opt/anaconda3/lib/python3.7/site-packages/sklearn/ensemble/forest.py:245: FutureWarning: The default value of n_estimators will change from 10 in version 0.20 to 100 in 0.22.\n",
      "  \"10 in version 0.20 to 100 in 0.22.\", FutureWarning)\n"
     ]
    },
    {
     "name": "stdout",
     "output_type": "stream",
     "text": [
      "Score:  0.3841280426808936\n",
      "             column  importance\n",
      "0   DescriptionSize    0.157028\n",
      "1          PhotoAmt    0.102069\n",
      "2               Age    0.096911\n",
      "3            Breed1    0.068873\n",
      "4            Color2    0.063528\n",
      "5            Color1    0.061751\n",
      "6             State    0.053314\n",
      "7            Breed2    0.043538\n",
      "8            Gender    0.039533\n",
      "9         FurLength    0.036950\n",
      "10     MaturitySize    0.034230\n",
      "11         Quantity    0.033384\n",
      "12              Fee    0.032563\n",
      "13         Dewormed    0.029810\n",
      "14           Color3    0.029311\n",
      "15       Vaccinated    0.027829\n",
      "16       Sterilized    0.025082\n",
      "17  FrequentRescuer    0.021209\n",
      "18          hasName    0.016151\n",
      "19             Type    0.010363\n",
      "20         VideoAmt    0.009455\n",
      "21           Health    0.007118\n"
     ]
    }
   ],
   "source": [
    "score1, feature_importances1 = random_forest(\n",
    "    df_processed1[df_processed1.columns.difference(['AdoptionSpeed'])],\n",
    "    df_processed1['AdoptionSpeed'],\n",
    "    0.2)\n",
    "print(\"Score: \",score1)\n",
    "print(feature_importances1)"
   ]
  },
  {
   "cell_type": "markdown",
   "metadata": {},
   "source": [
    "Extracted features importance :"
   ]
  },
  {
   "cell_type": "code",
   "execution_count": 72,
   "metadata": {},
   "outputs": [
    {
     "name": "stderr",
     "output_type": "stream",
     "text": [
      "/Users/air/opt/anaconda3/lib/python3.7/site-packages/sklearn/ensemble/forest.py:245: FutureWarning: The default value of n_estimators will change from 10 in version 0.20 to 100 in 0.22.\n",
      "  \"10 in version 0.20 to 100 in 0.22.\", FutureWarning)\n"
     ]
    },
    {
     "name": "stdout",
     "output_type": "stream",
     "text": [
      "Score:  0.35578526175391795\n",
      "             column  importance\n",
      "0          PhotoAmt    0.155209\n",
      "1            Color1    0.093285\n",
      "2            Color2    0.091534\n",
      "3             State    0.072756\n",
      "4   DescriptionSize    0.071771\n",
      "5            Gender    0.055516\n",
      "6         FurLength    0.052980\n",
      "7          Quantity    0.046290\n",
      "8            Color3    0.043691\n",
      "9      MaturitySize    0.042336\n",
      "10         Dewormed    0.041271\n",
      "11       Vaccinated    0.038143\n",
      "12             Free    0.036049\n",
      "13       Sterilized    0.033261\n",
      "14         AgeGroup    0.024360\n",
      "15  FrequentRescuer    0.022298\n",
      "16          hasName    0.021599\n",
      "17        PureBreed    0.018405\n",
      "18             Type    0.017735\n",
      "19         hasVideo    0.011275\n",
      "20           Health    0.010234\n"
     ]
    }
   ],
   "source": [
    "score2, feature_importances2 = random_forest(\n",
    "    df_processed2[df_processed2.columns.difference(['AdoptionSpeed'])], \n",
    "    df_processed2['AdoptionSpeed'],\n",
    "    0.2)\n",
    "\n",
    "print(\"Score: \",score2) \n",
    "print(feature_importances2)"
   ]
  },
  {
   "cell_type": "markdown",
   "metadata": {},
   "source": [
    "We conclude that, after our feature extractions, some features are actually contributing less to the model then they were before:\n",
    "* DescriptionSize-in bins (DescriptionSize- nr. words)\n",
    "* AgeGroup (Age)\n",
    "* PureBreed (Breed1, Breed2)\n",
    "\n",
    "We will go back to the original features in the classifiers analysis.\n",
    "Some are doing slightly better/did not get worse so we will keep the changes:\n",
    "* hasVideo (VideoAmt)\n",
    "* Free (Fee)"
   ]
  },
  {
   "cell_type": "code",
   "execution_count": 73,
   "metadata": {},
   "outputs": [],
   "source": [
    "#APPLY CHANGES TO DATASET - REVERT TO ORIGINAL FEATURES\n",
    "#Description\n",
    "df_processed2.drop(\"DescriptionSize\", axis=1, inplace=True)\n",
    "df_processed2.insert(6,\"DescriptionSize\",df_processed1['DescriptionSize'])\n",
    "\n",
    "#AgeGroup\n",
    "df_processed2.drop(\"AgeGroup\", axis=1, inplace = True)\n",
    "df_processed2.insert(2,\"Age\",df_processed1['Age'])\n",
    "\n",
    "#PureBreed\n",
    "df_processed2.drop(\"PureBreed\", axis=1, inplace=True)\n",
    "df_processed2.insert(6,\"Breed1\",df_processed1['Breed1'])\n",
    "df_processed2.insert(6,\"Breed2\",df_processed1['Breed2'])"
   ]
  },
  {
   "cell_type": "markdown",
   "metadata": {},
   "source": [
    "### Data imbalancement\n",
    "\n",
    "As we explained in the beggining there is a clear imbalancement in the number of examples:\n",
    "- Binary classification: the number of examples of AdoptionSpeed 0+1+2+3 (Adopted) is much greater than the number of examples for AdoptionSpeed 4 (Not Adopted).\n",
    "- Multiclass classification: the number of examples of AdoptionSpeed 0 is much smaller than the rest of the Adoption Speeds.\n",
    "\n",
    "Since we are working with such a small dataset, we cannot spare any examples, and we will resort to random oversampling to balance our data."
   ]
  },
  {
   "cell_type": "markdown",
   "metadata": {},
   "source": [
    "#### Binary Classification - Random Over-Sampling"
   ]
  },
  {
   "cell_type": "code",
   "execution_count": 103,
   "metadata": {},
   "outputs": [],
   "source": [
    "#ADAPT TARGET COLUMN FOR BINARY CLASSIFICATION\n",
    "df_processed2_b = df_processed2.copy()\n",
    "df_processed2_b = df_processed2_b.rename(columns={'AdoptionSpeed': 'Adoption'})\n",
    "df_processed2_b = df_processed2_b.replace({'Adoption':[0,2,3]},1)\n",
    "df_processed2_b = df_processed2_b.replace({'Adoption':4},0)"
   ]
  },
  {
   "cell_type": "code",
   "execution_count": 118,
   "metadata": {},
   "outputs": [],
   "source": [
    "#RANDOM OVERSAMPLING\n",
    "ros_b = RandomOverSampler(sampling_strategy='minority',random_state=42)\n",
    "X_ros_b, y_ros_b = ros_b.fit_resample(df_processed2_b.iloc[:,:-1], df_processed2_b['Adoption'])\n",
    "y_ros_b.shape = (21592,1) #reshape array for concatenation\n",
    "np_processed2_b_balanced = np.concatenate((X_ros_b, y_ros_b), axis=1) #save new data\n",
    "\n",
    "# Create new df\n",
    "df_processed2_b_balanced = pd.DataFrame(data=np_processed2_b_balanced, columns=df_processed2_b.columns)"
   ]
  },
  {
   "cell_type": "markdown",
   "metadata": {},
   "source": [
    "We can see that the oversampling was succesfull because we now have the same number of examples for adopted and not adopted pets, with a total of 21592 examples."
   ]
  },
  {
   "cell_type": "code",
   "execution_count": 121,
   "metadata": {},
   "outputs": [
    {
     "data": {
      "text/plain": [
       "<seaborn.axisgrid.FacetGrid at 0x1a23480c50>"
      ]
     },
     "execution_count": 121,
     "metadata": {},
     "output_type": "execute_result"
    },
    {
     "data": {
      "image/png": "[encoded data removed]",
      "text/plain": [
       "<Figure size 360x360 with 1 Axes>"
      ]
     },
     "metadata": {},
     "output_type": "display_data"
    }
   ],
   "source": [
    "ax = sns.catplot(x=\"Adoption\",data=df_processed2_b_balanced, kind='count')\n",
    "(ax.set_axis_labels(\"Adoption\", \"Number of Pets\"))"
   ]
  },
  {
   "cell_type": "markdown",
   "metadata": {},
   "source": [
    "#### Multiclass classification - Random Over-Sampling"
   ]
  },
  {
   "cell_type": "code",
   "execution_count": 135,
   "metadata": {},
   "outputs": [],
   "source": [
    "#RANDOM OVERSAMPLING\n",
    "df_processed2_m = df_processed2.copy()\n",
    "ros_m2 = RandomOverSampler(random_state=42)\n",
    "X_ros_m, y_ros_m = ros_m.fit_resample(df_processed2_m.iloc[:,:-1], df_processed2_m['AdoptionSpeed'])\n",
    "y_ros_m.shape = (20985,1) #reshape array for concatenation\n",
    "np_processed2_m_balanced = np.concatenate((X_ros_m, y_ros_m), axis=1) #save new data\n",
    "\n",
    "# Create new df\n",
    "df_processed2_m_balanced = pd.DataFrame(data=np_processed2_m_balanced, columns=df_processed2_m.columns)"
   ]
  },
  {
   "cell_type": "markdown",
   "metadata": {},
   "source": [
    "We can see that the oversampling was succesfull because we now have the same number of examples for all Adoption Speeds, with a total of 20985 examples."
   ]
  },
  {
   "cell_type": "code",
   "execution_count": 136,
   "metadata": {},
   "outputs": [
    {
     "data": {
      "image/png": "[encoded data removed]",
      "text/plain": [
       "<Figure size 360x360 with 1 Axes>"
      ]
     },
     "metadata": {},
     "output_type": "display_data"
    }
   ],
   "source": [
    "ax = sns.catplot(x=\"AdoptionSpeed\",data=df_processed2_m_balanced, kind='count')"
   ]
  },
  {
   "cell_type": "markdown",
   "metadata": {},
   "source": [
    "##### Dogs and Cats - preprocessing"
   ]
  },
  {
   "cell_type": "code",
   "execution_count": 149,
   "metadata": {},
   "outputs": [],
   "source": [
    "# DOGS BINARY CLASSIFICATION\n",
    "df_processed2_b_dogs = df_processed2_b_balanced.copy()\n",
    "df_processed2_b_dogs = df_processed2_b_balanced[df_processed2_b_dogs['Type']==1]\n",
    "\n",
    "# DOGS MULTICLASS CLASSIFICATION\n",
    "df_processed2_m_dogs = df_processed2_m_balanced.copy()\n",
    "df_processed2_m_dogs = df_processed2_m_dogs[df_processed2_m_dogs['Type']==1]\n",
    "\n",
    "# CATS BINARY CLASSIFICATION\n",
    "df_processed2_b_cats = df_processed2_b_balanced.copy()\n",
    "df_processed2_b_cats = df_processed2_b_cats[df_processed2_b_cats['Type']==2]\n",
    "\n",
    "# CATS MULTICLASS CLASSIFICATION\n",
    "df_processed2_m_cats = df_processed2_m_balanced.copy()\n",
    "df_processed2_m_cats = df_processed2_m_cats[df_processed2_m_cats['Type']==2]"
   ]
  },
  {
   "cell_type": "markdown",
   "metadata": {},
   "source": [
    "### Pre-processing: final dataset\n",
    "We have the following dataframes to be feed the classifiers in the following phase:\n",
    "* Binary task: df_processed2_b_balanced\n",
    "* Multiclass task: df_processed2_m_balanced\n",
    "* Dogs binary task: df_processed2_b_dogs\n",
    "* Dogs multiclass task: df_processed2_m_dogs\n",
    "* Cats binary task: df_processed2_b_cats\n",
    "* Cats multiclass task: df_processed2_m_cats\n",
    "\n",
    "________________"
   ]
  },
  {
   "cell_type": "markdown",
   "metadata": {},
   "source": [
    "## 1.2. Learning Classifiers"
   ]
  },
  {
   "cell_type": "markdown",
   "metadata": {},
   "source": [
    "XXXXXXXXXX explicar estas funções"
   ]
  },
  {
   "cell_type": "code",
   "execution_count": 168,
   "metadata": {},
   "outputs": [],
   "source": [
    "###### PRINT CONFUSION MATRIXES\n",
    "def confusion (y_true,y_predict,x):\n",
    "    cm = confusion_matrix(y_true, y_predict)\n",
    "    y = np.unique(y_true)\n",
    "    f, ax = plt.subplots(figsize=(7, 5))\n",
    "    sns.heatmap(cm.T, cmap=\"coolwarm\", square=True, annot = True, fmt='d', cbar=False,\n",
    "                xticklabels=(y),\n",
    "                yticklabels=(y))\n",
    "    plt.xlabel('true label')\n",
    "    plt.ylabel('predicted label');\n",
    "    plt.title('Confusion Matrix - {} Set'.format(x))\n",
    "    \n",
    "    if len(y)==2:\n",
    "        tn, fp, fn, tp = cm.ravel()\n",
    "        print(\"True Negatives:{}\".format(tn))\n",
    "        print(\"False Positives:{}\".format(fp))\n",
    "        print(\"False Negatives:{}\".format(fn))\n",
    "        print(\"True Positives:{}\".format(tp))\n",
    "    else:\n",
    "        print(\"Not binary\")"
   ]
  },
  {
   "cell_type": "code",
   "execution_count": 169,
   "metadata": {},
   "outputs": [],
   "source": [
    "####### PRINT DATASET STATUS\n",
    "def set_dist (y,x):\n",
    "    print(\"{}\".format(x))\n",
    "    for i in np.unique(y):\n",
    "        print(\"{}: {}\".format(i,np.count_nonzero(y == i)))"
   ]
  },
  {
   "cell_type": "code",
   "execution_count": 170,
   "metadata": {},
   "outputs": [],
   "source": [
    "###### MODEL PIPELINE\n",
    "def model (intro,xtrain,ytrain,xtest,ytest,model):\n",
    "    print (\"{}\\n\".format(intro))\n",
    "    md = model.fit(xtrain,ytrain)\n",
    "    print(\"Accuracy on training set:\\n\")\n",
    "    trainscore = md.score(xtrain, ytrain)\n",
    "    print(\"{}\\n\".format(trainscore))\n",
    "    ytrainp = md.predict(xtrain)\n",
    "    print('Classification report (train):')\n",
    "    print(classification_report(ytrain,ytrainp))\n",
    "    print(\"Accuracy on test set:\\n\") \n",
    "    testscore = md.score(xtest, ytest)\n",
    "    print(\"{}\\n\".format(testscore))\n",
    "    ytestp = md.predict(xtest)\n",
    "    print('Classification report (test):')\n",
    "    print(classification_report(ytest,ytestp))\n",
    "    return ytrainp, ytestp, trainscore, testscore"
   ]
  },
  {
   "cell_type": "markdown",
   "metadata": {},
   "source": [
    "## 1.2.1 Benchmark\n",
    "Before going into training the classifiers with our altered datasets, we want to perform a benchmark of the original dataset's performance in the models (df_processed1)."
   ]
  },
  {
   "cell_type": "markdown",
   "metadata": {},
   "source": [
    "#### FEATURE ENCODING"
   ]
  },
  {
   "cell_type": "code",
   "execution_count": 156,
   "metadata": {},
   "outputs": [
    {
     "name": "stdout",
     "output_type": "stream",
     "text": [
      "A sample of the encoded features names:  ['Type_1.0' 'Type_2.0' 'Breed1_0.0' 'Breed1_1.0' 'Breed1_3.0' 'Breed1_5.0'\n",
      " 'Breed1_7.0' 'Breed1_10.0' 'Breed1_11.0' 'Breed1_15.0']\n"
     ]
    },
    {
     "name": "stderr",
     "output_type": "stream",
     "text": [
      "/Users/air/opt/anaconda3/lib/python3.7/site-packages/sklearn/preprocessing/_encoders.py:415: FutureWarning: The handling of integer data will change in version 0.22. Currently, the categories are determined based on the range [0, max(values)], while in the future they will be determined based on the unique values.\n",
      "If you want the future behaviour and silence this warning, you can specify \"categories='auto'\".\n",
      "In case you used a LabelEncoder before this OneHotEncoder to convert the categories to integers, then you can now use the OneHotEncoder directly.\n",
      "  warnings.warn(msg, FutureWarning)\n"
     ]
    }
   ],
   "source": [
    "# ENCODING THE FOLLOWING FEATURES\n",
    "## 'Type','Breed1','Breed2','Gender','Color1','Color2','Color3','MaturitySize','FurLength','Vaccinated','Dewormed','Sterilized','Health','State'\n",
    "encoder = OneHotEncoder()\n",
    "df_encoded = encoder.fit_transform(df_processed1[['Type','Breed1','Breed2','Gender','Color1','Color2','Color3','MaturitySize','FurLength','Vaccinated','Dewormed','Sterilized','Health','State']]).toarray()\n",
    "column_name = encoder.get_feature_names(['Type','Breed1','Breed2','Gender','Color1','Color2','Color3','MaturitySize','FurLength','Vaccinated','Dewormed','Sterilized','Health','State'])\n",
    "df_processed1_encoded =  pd.DataFrame(df_encoded, columns= column_name)\n",
    "\n",
    "print(\"A sample of the encoded features names: \", column_name[:10])"
   ]
  },
  {
   "cell_type": "code",
   "execution_count": 157,
   "metadata": {},
   "outputs": [],
   "source": [
    "# INSERT THE NON ENCODED FEATURES IN THE DATAFRAME AGAIN\n",
    "df_processed1_encoded.insert(0,'PetID',df_processed1.index.tolist()) ## PetID\n",
    "df_processed1_encoded.set_index(\"PetID\", inplace=True) # change index to PetId\n",
    "df_processed1_encoded.insert(2,'hasName',df_processed1['hasName']) ## hasName  \n",
    "df_processed1_encoded.insert(3,'Age',df_processed1['Age']) ## AGE  \n",
    "df_processed1_encoded.insert(4,'DescriptionSize',df_processed1['DescriptionSize']) ## DescriptionSize  \n",
    "df_processed1_encoded.insert(5,'Quantity',df_processed1['Quantity']) ## QUANTITY    \n",
    "df_processed1_encoded.insert(6,'Fee',df_processed1['Fee']) ## FEE  \n",
    "df_processed1_encoded.insert(7,'FrequentRescuer',df_processed1['FrequentRescuer']) ## FrequentRescuer  \n",
    "df_processed1_encoded.insert(8,'VideoAmt',df_processed1['VideoAmt']) ## VideoAmt  \n",
    "df_processed1_encoded.insert(9,'PhotoAmt',df_processed1['PhotoAmt']) ## PhotoAmt\n",
    "df_processed1_encoded.insert((len(df_processed1_encoded.columns)),'AdoptionSpeed',df_processed1['AdoptionSpeed']) ## AdoptionSpeed"
   ]
  },
  {
   "cell_type": "code",
   "execution_count": 158,
   "metadata": {},
   "outputs": [],
   "source": [
    "# SEPARATE EXAMPLES FROM TARGETS\n",
    "nc = df_processed1_encoded.shape[1]\n",
    "matrix = df_processed1_encoded.values # Convert dataframe to darray\n",
    "examples = matrix [:, 0:nc-1] # get features \n",
    "target = matrix [:, nc-1] # get class (last columns)           \n",
    "fnames = df_processed1_encoded.columns.values[0:nc-1] #get features names\n",
    "tname = df_processed1_encoded.columns.values[nc-1] #get target name\n",
    "\n",
    "examples = examples.astype(float)\n",
    "target = target.astype(float)"
   ]
  },
  {
   "cell_type": "code",
   "execution_count": 160,
   "metadata": {},
   "outputs": [
    {
     "name": "stdout",
     "output_type": "stream",
     "text": [
      "Number of examples and features for the train dataset:  (11244, 377)\n",
      "Number of examples and features for the test dataset:  (3749, 377)\n"
     ]
    }
   ],
   "source": [
    "# SPLIT DATAFRAME INTO TEST AND TRAIN SETS\n",
    "X_train, X_test, y_train, y_test = train_test_split(examples, target, random_state=0)\n",
    "\n",
    "print(\"Number of examples and features for the train dataset: \", X_train.shape)\n",
    "print(\"Number of examples and features for the test dataset: \", X_test.shape)"
   ]
  },
  {
   "cell_type": "markdown",
   "metadata": {},
   "source": [
    "### 1.2.1.1 Predicting Adoption (binary classification task)"
   ]
  },
  {
   "cell_type": "markdown",
   "metadata": {},
   "source": [
    "Since this is a binary task, the adoptionspeed had to be converted into a binary feature (0 - for profiles with adoptionspeed = 4; 1 for profiles with adoptionspeed < 4)"
   ]
  },
  {
   "cell_type": "code",
   "execution_count": 162,
   "metadata": {},
   "outputs": [],
   "source": [
    "y_train_binary = y_train.copy()\n",
    "y_test_binary = y_test.copy()\n",
    "\n",
    "for i in range(len(y_train_binary)):\n",
    "    if y_train_binary[i]<4:\n",
    "        y_train_binary[i]=1\n",
    "    else:\n",
    "        y_train_binary[i]=0\n",
    "\n",
    "for i in range(len(y_test_binary)):\n",
    "    if y_test_binary[i]<4:\n",
    "        y_test_binary[i]=1\n",
    "    else:\n",
    "        y_test_binary[i]=0"
   ]
  },
  {
   "cell_type": "code",
   "execution_count": 163,
   "metadata": {},
   "outputs": [
    {
     "name": "stdout",
     "output_type": "stream",
     "text": [
      "Number of positives cases in the train set is: 8078\n",
      "Number of negative cases in the train set is: 3166\n",
      "Ratio positive to negative cases in the training set: 2.5514845230574856\n"
     ]
    }
   ],
   "source": [
    "print(\"Number of positives cases in the train set is: {}\".format(np.count_nonzero(y_train_binary == 1)))\n",
    "print(\"Number of negative cases in the train set is: {}\".format(np.count_nonzero(y_train_binary == 0)))\n",
    "print(\"Ratio positive to negative cases in the training set: {}\".format((np.count_nonzero(y_train_binary == 1))/(np.count_nonzero(y_train_binary == 0))))"
   ]
  },
  {
   "cell_type": "markdown",
   "metadata": {},
   "source": [
    "#### KNN"
   ]
  },
  {
   "cell_type": "code",
   "execution_count": 164,
   "metadata": {},
   "outputs": [
    {
     "data": {
      "text/plain": [
       "KNeighborsClassifier(algorithm='auto', leaf_size=30, metric='minkowski',\n",
       "                     metric_params=None, n_jobs=None, n_neighbors=3, p=2,\n",
       "                     weights='uniform')"
      ]
     },
     "execution_count": 164,
     "metadata": {},
     "output_type": "execute_result"
    }
   ],
   "source": [
    "knn_b = neighbors.KNeighborsClassifier(n_neighbors=3) ## 3 neighbors for starters\n",
    "knn_b"
   ]
  },
  {
   "cell_type": "code",
   "execution_count": 165,
   "metadata": {},
   "outputs": [
    {
     "name": "stdout",
     "output_type": "stream",
     "text": [
      "KNN\n",
      "\n",
      "Accuracy on training set:\n",
      "\n",
      "0.8332443970117396\n",
      "\n",
      "Classification report (train):\n",
      "              precision    recall  f1-score   support\n",
      "\n",
      "         0.0       0.76      0.59      0.67      3166\n",
      "         1.0       0.85      0.93      0.89      8078\n",
      "\n",
      "    accuracy                           0.83     11244\n",
      "   macro avg       0.81      0.76      0.78     11244\n",
      "weighted avg       0.83      0.83      0.83     11244\n",
      "\n",
      "Accuracy on test set:\n",
      "\n",
      "0.6929847959455855\n",
      "\n",
      "Classification report (test):\n",
      "              precision    recall  f1-score   support\n",
      "\n",
      "         0.0       0.42      0.31      0.36      1031\n",
      "         1.0       0.76      0.84      0.80      2718\n",
      "\n",
      "    accuracy                           0.69      3749\n",
      "   macro avg       0.59      0.57      0.58      3749\n",
      "weighted avg       0.67      0.69      0.68      3749\n",
      "\n"
     ]
    }
   ],
   "source": [
    "y_train_pred_b_knn, y_test_pred_b_knn, trainscore_b_knn, testscore_b_knn = model('KNN',X_train,y_train_binary,X_test,y_test_binary,knn_b)"
   ]
  },
  {
   "cell_type": "code",
   "execution_count": 171,
   "metadata": {},
   "outputs": [
    {
     "name": "stdout",
     "output_type": "stream",
     "text": [
      "True Negatives:1866\n",
      "False Positives:1300\n",
      "False Negatives:575\n",
      "True Positives:7503\n"
     ]
    },
    {
     "data": {
      "image/png": "[encoded data removed]",
      "text/plain": [
       "<Figure size 504x360 with 1 Axes>"
      ]
     },
     "metadata": {},
     "output_type": "display_data"
    }
   ],
   "source": [
    "confusion (y_train_binary,y_train_pred_b_knn,'Train')"
   ]
  },
  {
   "cell_type": "code",
   "execution_count": 172,
   "metadata": {},
   "outputs": [
    {
     "name": "stdout",
     "output_type": "stream",
     "text": [
      "True Negatives:322\n",
      "False Positives:709\n",
      "False Negatives:442\n",
      "True Positives:2276\n"
     ]
    },
    {
     "data": {
      "image/png": "[encoded data removed]",
      "text/plain": [
       "<Figure size 504x360 with 1 Axes>"
      ]
     },
     "metadata": {},
     "output_type": "display_data"
    }
   ],
   "source": [
    "confusion (y_test_binary,y_test_pred_b_knn,'Test')"
   ]
  },
  {
   "cell_type": "markdown",
   "metadata": {},
   "source": [
    "#### NAIVE BAYES"
   ]
  },
  {
   "cell_type": "code",
   "execution_count": 173,
   "metadata": {},
   "outputs": [
    {
     "data": {
      "text/plain": [
       "GaussianNB(priors=None, var_smoothing=1e-09)"
      ]
     },
     "execution_count": 173,
     "metadata": {},
     "output_type": "execute_result"
    }
   ],
   "source": [
    "gnb_b = GaussianNB()\n",
    "gnb_b"
   ]
  },
  {
   "cell_type": "code",
   "execution_count": 174,
   "metadata": {},
   "outputs": [
    {
     "name": "stdout",
     "output_type": "stream",
     "text": [
      "GNB\n",
      "\n",
      "Accuracy on training set:\n",
      "\n",
      "0.3468516542155816\n",
      "\n",
      "Classification report (train):\n",
      "              precision    recall  f1-score   support\n",
      "\n",
      "         0.0       0.30      0.97      0.46      3166\n",
      "         1.0       0.90      0.10      0.18      8078\n",
      "\n",
      "    accuracy                           0.35     11244\n",
      "   macro avg       0.60      0.54      0.32     11244\n",
      "weighted avg       0.73      0.35      0.26     11244\n",
      "\n",
      "Accuracy on test set:\n",
      "\n",
      "0.32088556948519603\n",
      "\n",
      "Classification report (test):\n",
      "              precision    recall  f1-score   support\n",
      "\n",
      "         0.0       0.28      0.96      0.44      1031\n",
      "         1.0       0.84      0.08      0.14      2718\n",
      "\n",
      "    accuracy                           0.32      3749\n",
      "   macro avg       0.56      0.52      0.29      3749\n",
      "weighted avg       0.69      0.32      0.22      3749\n",
      "\n"
     ]
    }
   ],
   "source": [
    "y_train_pred_b_GNB, y_test_pred_b_GNB, trainscore_b_GNB, testscore_b_GNB = model('GNB',X_train,y_train_binary,X_test,y_test_binary,gnb_b)"
   ]
  },
  {
   "cell_type": "code",
   "execution_count": 175,
   "metadata": {},
   "outputs": [
    {
     "name": "stdout",
     "output_type": "stream",
     "text": [
      "True Negatives:3075\n",
      "False Positives:91\n",
      "False Negatives:7253\n",
      "True Positives:825\n"
     ]
    },
    {
     "data": {
      "image/png": "[encoded data removed]",
      "text/plain": [
       "<Figure size 504x360 with 1 Axes>"
      ]
     },
     "metadata": {},
     "output_type": "display_data"
    }
   ],
   "source": [
    "confusion (y_train_binary,y_train_pred_b_GNB,'Train')"
   ]
  },
  {
   "cell_type": "code",
   "execution_count": 176,
   "metadata": {},
   "outputs": [
    {
     "name": "stdout",
     "output_type": "stream",
     "text": [
      "True Negatives:990\n",
      "False Positives:41\n",
      "False Negatives:2505\n",
      "True Positives:213\n"
     ]
    },
    {
     "data": {
      "image/png": "[encoded data removed]",
      "text/plain": [
       "<Figure size 504x360 with 1 Axes>"
      ]
     },
     "metadata": {},
     "output_type": "display_data"
    }
   ],
   "source": [
    "confusion (y_test_binary,y_test_pred_b_GNB,'Test')"
   ]
  },
  {
   "cell_type": "markdown",
   "metadata": {},
   "source": [
    "#### DECISION TREES"
   ]
  },
  {
   "cell_type": "code",
   "execution_count": 177,
   "metadata": {},
   "outputs": [
    {
     "data": {
      "text/plain": [
       "DecisionTreeClassifier(class_weight=None, criterion='gini', max_depth=None,\n",
       "                       max_features=None, max_leaf_nodes=None,\n",
       "                       min_impurity_decrease=0.0, min_impurity_split=None,\n",
       "                       min_samples_leaf=1, min_samples_split=2,\n",
       "                       min_weight_fraction_leaf=0.0, presort=False,\n",
       "                       random_state=None, splitter='best')"
      ]
     },
     "execution_count": 177,
     "metadata": {},
     "output_type": "execute_result"
    }
   ],
   "source": [
    "dec_trees_b = tree.DecisionTreeClassifier() # criterion = \"Gini\"\n",
    "\n",
    "dec_trees_b"
   ]
  },
  {
   "cell_type": "code",
   "execution_count": 178,
   "metadata": {},
   "outputs": [
    {
     "name": "stdout",
     "output_type": "stream",
     "text": [
      "DECISION TREES\n",
      "\n",
      "Accuracy on training set:\n",
      "\n",
      "0.9997331910352187\n",
      "\n",
      "Classification report (train):\n",
      "              precision    recall  f1-score   support\n",
      "\n",
      "         0.0       1.00      1.00      1.00      3166\n",
      "         1.0       1.00      1.00      1.00      8078\n",
      "\n",
      "    accuracy                           1.00     11244\n",
      "   macro avg       1.00      1.00      1.00     11244\n",
      "weighted avg       1.00      1.00      1.00     11244\n",
      "\n",
      "Accuracy on test set:\n",
      "\n",
      "0.6937850093358229\n",
      "\n",
      "Classification report (test):\n",
      "              precision    recall  f1-score   support\n",
      "\n",
      "         0.0       0.45      0.49      0.47      1031\n",
      "         1.0       0.80      0.77      0.79      2718\n",
      "\n",
      "    accuracy                           0.69      3749\n",
      "   macro avg       0.62      0.63      0.63      3749\n",
      "weighted avg       0.70      0.69      0.70      3749\n",
      "\n"
     ]
    }
   ],
   "source": [
    "y_train_pred_b_trees, y_test_pred_b_trees, trainscore_b_trees, testscore_b_trees = model('DECISION TREES',X_train,y_train_binary,X_test,y_test_binary,dec_trees_b)"
   ]
  },
  {
   "cell_type": "code",
   "execution_count": 179,
   "metadata": {},
   "outputs": [
    {
     "name": "stdout",
     "output_type": "stream",
     "text": [
      "True Negatives:3166\n",
      "False Positives:0\n",
      "False Negatives:3\n",
      "True Positives:8075\n"
     ]
    },
    {
     "data": {
      "image/png": "[encoded data removed]",
      "text/plain": [
       "<Figure size 504x360 with 1 Axes>"
      ]
     },
     "metadata": {},
     "output_type": "display_data"
    }
   ],
   "source": [
    "confusion (y_train_binary,y_train_pred_b_trees,'Train')"
   ]
  },
  {
   "cell_type": "code",
   "execution_count": 180,
   "metadata": {},
   "outputs": [
    {
     "name": "stdout",
     "output_type": "stream",
     "text": [
      "True Negatives:502\n",
      "False Positives:529\n",
      "False Negatives:619\n",
      "True Positives:2099\n"
     ]
    },
    {
     "data": {
      "image/png": "[encoded data removed]",
      "text/plain": [
       "<Figure size 504x360 with 1 Axes>"
      ]
     },
     "metadata": {},
     "output_type": "display_data"
    }
   ],
   "source": [
    "confusion (y_test_binary,y_test_pred_b_trees,'Test')"
   ]
  },
  {
   "cell_type": "markdown",
   "metadata": {},
   "source": [
    "#### Support Vector Machines"
   ]
  },
  {
   "cell_type": "code",
   "execution_count": 181,
   "metadata": {},
   "outputs": [
    {
     "data": {
      "text/plain": [
       "LinearSVC(C=1.0, class_weight=None, dual=True, fit_intercept=True,\n",
       "          intercept_scaling=1, loss='squared_hinge', max_iter=15000,\n",
       "          multi_class='ovr', penalty='l2', random_state=None, tol=0.0001,\n",
       "          verbose=0)"
      ]
     },
     "execution_count": 181,
     "metadata": {},
     "output_type": "execute_result"
    }
   ],
   "source": [
    "lsvm_b = LinearSVC(max_iter=15000) # max_iter=1000 (default) ## Didnt converge\n",
    "lsvm_b"
   ]
  },
  {
   "cell_type": "code",
   "execution_count": 182,
   "metadata": {},
   "outputs": [
    {
     "name": "stdout",
     "output_type": "stream",
     "text": [
      "Support Vector Machine\n",
      "\n",
      "Accuracy on training set:\n",
      "\n",
      "0.7317680540732835\n",
      "\n",
      "Classification report (train):\n",
      "              precision    recall  f1-score   support\n",
      "\n",
      "         0.0       0.53      0.45      0.49      3166\n",
      "         1.0       0.80      0.84      0.82      8078\n",
      "\n",
      "    accuracy                           0.73     11244\n",
      "   macro avg       0.66      0.65      0.65     11244\n",
      "weighted avg       0.72      0.73      0.72     11244\n",
      "\n",
      "Accuracy on test set:\n",
      "\n",
      "0.7132568684982662\n",
      "\n",
      "Classification report (test):\n",
      "              precision    recall  f1-score   support\n",
      "\n",
      "         0.0       0.48      0.41      0.44      1031\n",
      "         1.0       0.79      0.83      0.81      2718\n",
      "\n",
      "    accuracy                           0.71      3749\n",
      "   macro avg       0.63      0.62      0.62      3749\n",
      "weighted avg       0.70      0.71      0.71      3749\n",
      "\n"
     ]
    },
    {
     "name": "stderr",
     "output_type": "stream",
     "text": [
      "/Users/air/opt/anaconda3/lib/python3.7/site-packages/sklearn/svm/base.py:929: ConvergenceWarning: Liblinear failed to converge, increase the number of iterations.\n",
      "  \"the number of iterations.\", ConvergenceWarning)\n"
     ]
    }
   ],
   "source": [
    "y_train_pred_b_svm, y_test_pred_b_svm, trainscore_b_svm, testscore_b_svm = model('Support Vector Machine',X_train,y_train_binary,X_test,y_test_binary,lsvm_b)"
   ]
  },
  {
   "cell_type": "code",
   "execution_count": 185,
   "metadata": {},
   "outputs": [
    {
     "name": "stdout",
     "output_type": "stream",
     "text": [
      "True Negatives:1424\n",
      "False Positives:1742\n",
      "False Negatives:1274\n",
      "True Positives:6804\n"
     ]
    },
    {
     "data": {
      "image/png": "[encoded data removed]",
      "text/plain": [
       "<Figure size 504x360 with 1 Axes>"
      ]
     },
     "metadata": {},
     "output_type": "display_data"
    }
   ],
   "source": [
    "confusion (y_train_binary,y_train_pred_b_svm,'Train')"
   ]
  },
  {
   "cell_type": "code",
   "execution_count": 186,
   "metadata": {},
   "outputs": [
    {
     "name": "stdout",
     "output_type": "stream",
     "text": [
      "True Negatives:427\n",
      "False Positives:604\n",
      "False Negatives:471\n",
      "True Positives:2247\n"
     ]
    },
    {
     "data": {
      "image/png": "[encoded data removed]",
      "text/plain": [
       "<Figure size 504x360 with 1 Axes>"
      ]
     },
     "metadata": {},
     "output_type": "display_data"
    }
   ],
   "source": [
    "confusion (y_test_binary,y_test_pred_b_svm,'Test')"
   ]
  },
  {
   "cell_type": "markdown",
   "metadata": {},
   "source": [
    "#### Logistic Regression"
   ]
  },
  {
   "cell_type": "code",
   "execution_count": 187,
   "metadata": {},
   "outputs": [
    {
     "data": {
      "text/plain": [
       "LogisticRegression(C=1.0, class_weight=None, dual=False, fit_intercept=True,\n",
       "                   intercept_scaling=1, l1_ratio=None, max_iter=4000,\n",
       "                   multi_class='warn', n_jobs=None, penalty='l2',\n",
       "                   random_state=None, solver='lbfgs', tol=0.0001, verbose=0,\n",
       "                   warm_start=False)"
      ]
     },
     "execution_count": 187,
     "metadata": {},
     "output_type": "execute_result"
    }
   ],
   "source": [
    "logreg_b = LogisticRegression(solver='lbfgs', max_iter=4000)\n",
    "logreg_b"
   ]
  },
  {
   "cell_type": "code",
   "execution_count": 188,
   "metadata": {},
   "outputs": [
    {
     "name": "stdout",
     "output_type": "stream",
     "text": [
      "Logistic Regression\n",
      "\n",
      "Accuracy on training set:\n",
      "\n",
      "0.7583600142298115\n",
      "\n",
      "Classification report (train):\n",
      "              precision    recall  f1-score   support\n",
      "\n",
      "         0.0       0.64      0.32      0.42      3166\n",
      "         1.0       0.78      0.93      0.85      8078\n",
      "\n",
      "    accuracy                           0.76     11244\n",
      "   macro avg       0.71      0.62      0.64     11244\n",
      "weighted avg       0.74      0.76      0.73     11244\n",
      "\n",
      "Accuracy on test set:\n",
      "\n",
      "0.7423312883435583\n",
      "\n",
      "Classification report (test):\n",
      "              precision    recall  f1-score   support\n",
      "\n",
      "         0.0       0.56      0.28      0.37      1031\n",
      "         1.0       0.77      0.92      0.84      2718\n",
      "\n",
      "    accuracy                           0.74      3749\n",
      "   macro avg       0.67      0.60      0.61      3749\n",
      "weighted avg       0.71      0.74      0.71      3749\n",
      "\n"
     ]
    }
   ],
   "source": [
    "y_train_pred_b_logr, y_test_pred_b_logr, trainscore_b_logr, testscore_b_logr = model('Logistic Regression',X_train,y_train_binary,X_test,y_test_binary,logreg_b)"
   ]
  },
  {
   "cell_type": "code",
   "execution_count": 189,
   "metadata": {},
   "outputs": [
    {
     "name": "stdout",
     "output_type": "stream",
     "text": [
      "True Negatives:999\n",
      "False Positives:2167\n",
      "False Negatives:550\n",
      "True Positives:7528\n"
     ]
    },
    {
     "data": {
      "image/png": "[encoded data removed]",
      "text/plain": [
       "<Figure size 504x360 with 1 Axes>"
      ]
     },
     "metadata": {},
     "output_type": "display_data"
    }
   ],
   "source": [
    "confusion (y_train_binary,y_train_pred_b_logr,'Train')"
   ]
  },
  {
   "cell_type": "code",
   "execution_count": 191,
   "metadata": {},
   "outputs": [
    {
     "name": "stdout",
     "output_type": "stream",
     "text": [
      "True Negatives:288\n",
      "False Positives:743\n",
      "False Negatives:223\n",
      "True Positives:2495\n"
     ]
    },
    {
     "data": {
      "image/png": "[encoded data removed]",
      "text/plain": [
       "<Figure size 504x360 with 1 Axes>"
      ]
     },
     "metadata": {},
     "output_type": "display_data"
    }
   ],
   "source": [
    "confusion (y_test_binary,y_test_pred_b_logr,'Test')"
   ]
  },
  {
   "cell_type": "markdown",
   "metadata": {},
   "source": [
    "Given these results we conclude that:\n",
    "* "
   ]
  },
  {
   "cell_type": "markdown",
   "metadata": {},
   "source": [
    "### 1.2.1.2 Predicting AdoptionSpeed (Multiclass classification task)"
   ]
  },
  {
   "cell_type": "code",
   "execution_count": null,
   "metadata": {},
   "outputs": [],
   "source": [
    "set_dist(y_train,'Adoption Speed - Train Set')"
   ]
  },
  {
   "cell_type": "code",
   "execution_count": null,
   "metadata": {},
   "outputs": [],
   "source": [
    "set_dist(y_test,'Adoption Speed - Test Set')"
   ]
  },
  {
   "cell_type": "markdown",
   "metadata": {},
   "source": [
    "#### KNN"
   ]
  },
  {
   "cell_type": "code",
   "execution_count": null,
   "metadata": {},
   "outputs": [],
   "source": [
    "knn_m = neighbors.KNeighborsClassifier(n_neighbors=3) ## 3 neighbors for starters\n",
    "knn_m"
   ]
  },
  {
   "cell_type": "code",
   "execution_count": null,
   "metadata": {},
   "outputs": [],
   "source": [
    "y_train_pred_m_KNN, y_test_pred_m_KNN, trainscore_m_knn, testscore_m_knn = model('KNN',X_train,y_train,X_test,y_test,knn_m)"
   ]
  },
  {
   "cell_type": "code",
   "execution_count": null,
   "metadata": {},
   "outputs": [],
   "source": [
    "confusion (y_train,y_train_pred_m_KNN,'Train')"
   ]
  },
  {
   "cell_type": "code",
   "execution_count": null,
   "metadata": {},
   "outputs": [],
   "source": [
    "confusion (y_test,y_test_pred_m_KNN,'Test')"
   ]
  },
  {
   "cell_type": "markdown",
   "metadata": {},
   "source": [
    "#### NAIVE BAYES"
   ]
  },
  {
   "cell_type": "code",
   "execution_count": null,
   "metadata": {},
   "outputs": [],
   "source": [
    "gnb_m = GaussianNB()\n",
    "gnb_m"
   ]
  },
  {
   "cell_type": "code",
   "execution_count": null,
   "metadata": {},
   "outputs": [],
   "source": [
    "y_train_pred_m_GBN, y_test_pred_m_GBB, trainscore_m_gnb, testscore_m_gnb = model('GNB',X_train,y_train,X_test,y_test,gnb_m)"
   ]
  },
  {
   "cell_type": "code",
   "execution_count": null,
   "metadata": {},
   "outputs": [],
   "source": [
    "confusion (y_train,y_train_pred_m_GBN,'Train')"
   ]
  },
  {
   "cell_type": "code",
   "execution_count": null,
   "metadata": {},
   "outputs": [],
   "source": [
    "confusion (y_test,y_test_pred_m_GBB,'Test')"
   ]
  },
  {
   "cell_type": "markdown",
   "metadata": {},
   "source": [
    "#### DECISION TREES"
   ]
  },
  {
   "cell_type": "code",
   "execution_count": null,
   "metadata": {},
   "outputs": [],
   "source": [
    "dec_trees_m = tree.DecisionTreeClassifier() # criterion = \"Gini\"\n",
    "\n",
    "dec_trees_m"
   ]
  },
  {
   "cell_type": "code",
   "execution_count": null,
   "metadata": {},
   "outputs": [],
   "source": [
    "y_train_pred_m_trees, y_test_pred_m_trees, trainscore_m_trees, testscore_m_trees = model('DECISION TREES',X_train,y_train,X_test,y_test,dec_trees_m)"
   ]
  },
  {
   "cell_type": "code",
   "execution_count": null,
   "metadata": {},
   "outputs": [],
   "source": [
    "confusion (y_train,y_train_pred_m_trees,'Train')"
   ]
  },
  {
   "cell_type": "code",
   "execution_count": null,
   "metadata": {},
   "outputs": [],
   "source": [
    "confusion (y_test,y_test_pred_m_trees,'Test')"
   ]
  },
  {
   "cell_type": "markdown",
   "metadata": {},
   "source": [
    "#### SUPPORT VECTOR MACHINES"
   ]
  },
  {
   "cell_type": "code",
   "execution_count": null,
   "metadata": {},
   "outputs": [],
   "source": [
    "lsvm_m = LinearSVC(max_iter=15000) # max_iter=1000 (default) ## Didnt coverge\n",
    "lsvm_m"
   ]
  },
  {
   "cell_type": "code",
   "execution_count": null,
   "metadata": {},
   "outputs": [],
   "source": [
    "y_train_pred_m_svm, y_test_pred_m_svm, trainscore_m_svm, testscore_m_svm = model('Support Vector Machine',X_train,y_train,X_test,y_test,lsvm_m)"
   ]
  },
  {
   "cell_type": "code",
   "execution_count": null,
   "metadata": {},
   "outputs": [],
   "source": [
    "confusion (y_train,y_train_pred_m_svm,'Train')"
   ]
  },
  {
   "cell_type": "code",
   "execution_count": null,
   "metadata": {},
   "outputs": [],
   "source": [
    "confusion (y_test,y_test_pred_m_svm,'Test')"
   ]
  },
  {
   "cell_type": "markdown",
   "metadata": {},
   "source": [
    "#### LOGISTIC REGRESSION"
   ]
  },
  {
   "cell_type": "code",
   "execution_count": null,
   "metadata": {},
   "outputs": [],
   "source": [
    "logreg_m = LogisticRegression(solver='lbfgs', max_iter=10000)\n",
    "logreg_m"
   ]
  },
  {
   "cell_type": "code",
   "execution_count": null,
   "metadata": {},
   "outputs": [],
   "source": [
    "y_train_pred_m_logr, y_test_pred_m_logr, trainscore_m_logr, testscore_m_logr = model('Logistic Regression',X_train,y_train,X_test,y_test,logreg_m)"
   ]
  },
  {
   "cell_type": "code",
   "execution_count": null,
   "metadata": {},
   "outputs": [],
   "source": [
    "confusion (y_train,y_train_pred_m_logr,'Train')"
   ]
  },
  {
   "cell_type": "code",
   "execution_count": null,
   "metadata": {},
   "outputs": [],
   "source": [
    "confusion (y_test,y_test_pred_m_logr,'Test')"
   ]
  },
  {
   "cell_type": "markdown",
   "metadata": {},
   "source": [
    "### Predicting pet-specific models"
   ]
  },
  {
   "cell_type": "markdown",
   "metadata": {},
   "source": [
    "#### DOGS (Type 1)"
   ]
  },
  {
   "cell_type": "code",
   "execution_count": null,
   "metadata": {},
   "outputs": [],
   "source": [
    "df_processed1_dogs = df_processed1.copy()\n",
    "df_processed1_dogs = df_processed1_dogs[df_processed1_dogs['Type']==1]"
   ]
  },
  {
   "cell_type": "markdown",
   "metadata": {},
   "source": [
    "##### Binary Classification"
   ]
  },
  {
   "cell_type": "code",
   "execution_count": null,
   "metadata": {},
   "outputs": [],
   "source": [
    "# ENCODING THE FOLLOWING FEATURES\n",
    "## 'Breed1','Breed2','Gender','Color1','Color2','Color3','MaturitySize','FurLength','Vaccinated','Dewormed','Sterilized','Health','State'\n",
    "encoder_dogs = OneHotEncoder()\n",
    "df_encoded_dogs = encoder_dogs.fit_transform(df_processed1_dogs[['Breed1','Breed2','Gender','Color1','Color2','Color3','MaturitySize','FurLength','Vaccinated','Dewormed','Sterilized','Health','State']]).toarray()\n",
    "column_name_dogs = encoder_dogs.get_feature_names(['Breed1','Breed2','Gender','Color1','Color2','Color3','MaturitySize','FurLength','Vaccinated','Dewormed','Sterilized','Health','State'])\n",
    "df_processed1_dogs_encoded =  pd.DataFrame(df_encoded_dogs, columns= column_name_dogs)\n",
    "\n",
    "print(column_name_dogs) #encoded features names"
   ]
  },
  {
   "cell_type": "code",
   "execution_count": null,
   "metadata": {},
   "outputs": [],
   "source": [
    "# INSERT THE NON ENCODED FEATURES IN THE DATAFRAME AGAIN\n",
    "df_processed1_dogs_encoded.insert(0,'PetID',df_processed1_dogs.index.tolist()) ## PetID\n",
    "df_processed1_dogs_encoded.set_index(\"PetID\", inplace=True) # change index to PetId\n",
    "df_processed1_dogs_encoded.insert(2,'hasName',df_processed1_dogs['hasName']) ## hasName  \n",
    "df_processed1_dogs_encoded.insert(3,'Age',df_processed1_dogs['Age']) ## AGE  \n",
    "df_processed1_dogs_encoded.insert(4,'DescriptionSize',df_processed1_dogs['DescriptionSize']) ## DescriptionSize  \n",
    "df_processed1_dogs_encoded.insert(5,'Quantity',df_processed1_dogs['Quantity']) ## QUANTITY    \n",
    "df_processed1_dogs_encoded.insert(6,'Fee',df_processed1_dogs['Fee']) ## FEE  \n",
    "df_processed1_dogs_encoded.insert(7,'FrequentRescuer',df_processed1_dogs['FrequentRescuer']) ## FrequentRescuer  \n",
    "df_processed1_dogs_encoded.insert(8,'VideoAmt',df_processed1_dogs['VideoAmt']) ## VideoAmt  \n",
    "df_processed1_dogs_encoded.insert(9,'PhotoAmt',df_processed1_dogs['PhotoAmt']) ## PhotoAmt\n",
    "df_processed1_dogs_encoded.insert((len(df_processed1_dogs_encoded.columns)),'AdoptionSpeed',df_processed1_dogs['AdoptionSpeed']) ## AdoptionSpeed\n",
    "\n",
    "print(df_processed1_dogs_encoded.columns.values) ## data frame for training"
   ]
  },
  {
   "cell_type": "markdown",
   "metadata": {},
   "source": [
    "#### CATS (Type 1)"
   ]
  },
  {
   "cell_type": "code",
   "execution_count": null,
   "metadata": {},
   "outputs": [],
   "source": [
    "df_processed1_cats = df_processed1.copy()\n",
    "\n",
    "df_processed1_cats = df_processed1_cats[df_processed1_cats['Type']==2]\n",
    "\n",
    "print(df_processed1_cats)"
   ]
  },
  {
   "cell_type": "markdown",
   "metadata": {},
   "source": [
    "##### Binary Classification"
   ]
  },
  {
   "cell_type": "code",
   "execution_count": null,
   "metadata": {},
   "outputs": [],
   "source": [
    "# ENCODING THE FOLLOWING FEATURES\n",
    "## 'Breed1','Breed2','Gender','Color1','Color2','Color3','MaturitySize','FurLength','Vaccinated','Dewormed','Sterilized','Health','State'\n",
    "encoder_cats = OneHotEncoder()\n",
    "df_encoded_cats = encoder_cats.fit_transform(df_processed1_cats[['Breed1','Breed2','Gender','Color1','Color2','Color3','MaturitySize','FurLength','Vaccinated','Dewormed','Sterilized','Health','State']]).toarray()\n",
    "column_name_cats = encoder_cats.get_feature_names(['Breed1','Breed2','Gender','Color1','Color2','Color3','MaturitySize','FurLength','Vaccinated','Dewormed','Sterilized','Health','State'])\n",
    "df_processed1_cats_encoded =  pd.DataFrame(df_encoded_cats, columns= column_name_cats)\n",
    "\n",
    "print(column_name_cats) #encoded features names"
   ]
  },
  {
   "cell_type": "code",
   "execution_count": null,
   "metadata": {},
   "outputs": [],
   "source": [
    "# INSERT THE NON ENCODED FEATURES IN THE DATAFRAME AGAIN\n",
    "df_processed1_cats_encoded.insert(0,'PetID',df_processed1_cats.index.tolist()) ## PetID\n",
    "df_processed1_cats_encoded.set_index(\"PetID\", inplace=True) # change index to PetId\n",
    "df_processed1_cats_encoded.insert(2,'hasName',df_processed1_cats['hasName']) ## hasName  \n",
    "df_processed1_cats_encoded.insert(3,'Age',df_processed1_cats['Age']) ## AGE  \n",
    "df_processed1_cats_encoded.insert(4,'DescriptionSize',df_processed1_cats['DescriptionSize']) ## DescriptionSize  \n",
    "df_processed1_cats_encoded.insert(5,'Quantity',df_processed1_cats['Quantity']) ## QUANTITY    \n",
    "df_processed1_cats_encoded.insert(6,'Fee',df_processed1_cats['Fee']) ## FEE  \n",
    "df_processed1_cats_encoded.insert(7,'FrequentRescuer',df_processed1_cats['FrequentRescuer']) ## FrequentRescuer  \n",
    "df_processed1_cats_encoded.insert(8,'VideoAmt',df_processed1_cats['VideoAmt']) ## VideoAmt  \n",
    "df_processed1_cats_encoded.insert(9,'PhotoAmt',df_processed1_cats['PhotoAmt']) ## PhotoAmt\n",
    "df_processed1_cats_encoded.insert((len(df_processed1_cats_encoded.columns)),'AdoptionSpeed',df_processed1_cats['AdoptionSpeed']) ## AdoptionSpeed\n",
    "\n",
    "print(df_processed1_cats_encoded.columns.values) ## data frame for training"
   ]
  },
  {
   "cell_type": "markdown",
   "metadata": {},
   "source": [
    "## 1.2.2 Predicting Adoption (binary classification task)"
   ]
  },
  {
   "cell_type": "markdown",
   "metadata": {},
   "source": [
    "## 1.2.3 Predicting Adoption Speed (Multiclass classification task)"
   ]
  },
  {
   "cell_type": "markdown",
   "metadata": {},
   "source": [
    "## 1.2.4 Predicting Adoption/Adoption Speed for dogs"
   ]
  },
  {
   "cell_type": "markdown",
   "metadata": {},
   "source": [
    "## 1.2.5 Predicting Adoption/Adoption Speed for cats"
   ]
  },
  {
   "cell_type": "markdown",
   "metadata": {},
   "source": [
    "## 1.3. Classification - Results and Discussion "
   ]
  },
  {
   "cell_type": "markdown",
   "metadata": {},
   "source": [
    "## Task 2 (Unsupervised Learning) - Charactering Adopted Pets and Adoption Speed"
   ]
  },
  {
   "cell_type": "markdown",
   "metadata": {},
   "source": [
    "In this task you should **use unsupervised learning algorithms and try to characterize pets that were actually adopted and their adoption speed**. You can use:\n",
    "* **Association rule mining** to find **associations between the features and the target Adoption/AdoptionSpeed**.\n",
    "* **Clustering algorithms to find similar groups of pets**. Is it possible to find groups of pets with the same/similar adoption speed.\n",
    "* **Be creative and define your own unsupervised analysis!** What would it be interesting to find out ?"
   ]
  },
  {
   "cell_type": "markdown",
   "metadata": {},
   "source": [
    "## 2.1. Preprocessing Data for Association Rule Mining"
   ]
  },
  {
   "cell_type": "markdown",
   "metadata": {},
   "source": [
    "..."
   ]
  },
  {
   "cell_type": "markdown",
   "metadata": {},
   "source": [
    "## 2.2. Finding Associations"
   ]
  },
  {
   "cell_type": "markdown",
   "metadata": {},
   "source": [
    "..."
   ]
  },
  {
   "cell_type": "markdown",
   "metadata": {},
   "source": [
    "## 2.3 Association Rules - Results and Discussion "
   ]
  },
  {
   "cell_type": "markdown",
   "metadata": {},
   "source": [
    "..."
   ]
  },
  {
   "cell_type": "markdown",
   "metadata": {},
   "source": [
    "## 2.4. Preprocessing Data for Clustering"
   ]
  },
  {
   "cell_type": "markdown",
   "metadata": {},
   "source": [
    "..."
   ]
  },
  {
   "cell_type": "markdown",
   "metadata": {},
   "source": [
    "## 2.5. Finding Groups"
   ]
  },
  {
   "cell_type": "markdown",
   "metadata": {},
   "source": [
    "..."
   ]
  },
  {
   "cell_type": "markdown",
   "metadata": {},
   "source": [
    "## 2.6. Clustering - Results and Discussion "
   ]
  },
  {
   "cell_type": "markdown",
   "metadata": {},
   "source": [
    "..."
   ]
  },
  {
   "cell_type": "markdown",
   "metadata": {},
   "source": [
    "## 3. Final Comments and Conclusions"
   ]
  },
  {
   "cell_type": "markdown",
   "metadata": {},
   "source": [
    "..."
   ]
  }
 ],
 "metadata": {
  "kernelspec": {
   "display_name": "Python 3",
   "language": "python",
   "name": "python3"
  },
  "language_info": {
   "codemirror_mode": {
    "name": "ipython",
    "version": 3
   },
   "file_extension": ".py",
   "mimetype": "text/x-python",
   "name": "python",
   "nbconvert_exporter": "python",
   "pygments_lexer": "ipython3",
   "version": "3.7.4"
  }
 },
 "nbformat": 4,
 "nbformat_minor": 4
}
