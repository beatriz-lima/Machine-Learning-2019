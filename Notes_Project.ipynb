{
 "cells": [
  {
   "cell_type": "markdown",
   "metadata": {},
   "source": [
    "## Task 0 (Know your Data) - Exploratory Data Analysis"
   ]
  },
  {
   "cell_type": "markdown",
   "metadata": {},
   "source": [
    "## 0.1. Loading Data"
   ]
  },
  {
   "cell_type": "code",
   "execution_count": 2,
   "metadata": {},
   "outputs": [],
   "source": [
    "import pandas as pd\n",
    "import numpy as np\n",
    "import matplotlib.pyplot as plt\n",
    "import seaborn as sns; sns.set()\n",
    "import math\n",
    "import statistics\n",
    "from sklearn.model_selection import train_test_split, GridSearchCV\n",
    "from sklearn.preprocessing import LabelEncoder, OneHotEncoder\n",
    "from sklearn import neighbors,tree, preprocessing\n",
    "from sklearn.metrics import confusion_matrix, precision_recall_fscore_support, classification_report, recall_score, accuracy_score\n",
    "from sklearn.naive_bayes import GaussianNB, MultinomialNB, CategoricalNB, BernoulliNB, ComplementNB\n",
    "import re\n",
    "from imblearn.over_sampling import RandomOverSampler\n",
    "from sklearn.svm import LinearSVC\n",
    "from sklearn.linear_model import LogisticRegression, Perceptron, RidgeClassifier"
   ]
  },
  {
   "cell_type": "code",
   "execution_count": 3,
   "metadata": {},
   "outputs": [
    {
     "name": "stdout",
     "output_type": "stream",
     "text": [
      "<class 'pandas.core.frame.DataFrame'>\n",
      "RangeIndex: 14993 entries, 0 to 14992\n",
      "Data columns (total 24 columns):\n",
      "Type             14993 non-null int64\n",
      "Name             13736 non-null object\n",
      "Age              14993 non-null int64\n",
      "Breed1           14993 non-null int64\n",
      "Breed2           14993 non-null int64\n",
      "Gender           14993 non-null int64\n",
      "Color1           14993 non-null int64\n",
      "Color2           14993 non-null int64\n",
      "Color3           14993 non-null int64\n",
      "MaturitySize     14993 non-null int64\n",
      "FurLength        14993 non-null int64\n",
      "Vaccinated       14993 non-null int64\n",
      "Dewormed         14993 non-null int64\n",
      "Sterilized       14993 non-null int64\n",
      "Health           14993 non-null int64\n",
      "Quantity         14993 non-null int64\n",
      "Fee              14993 non-null int64\n",
      "State            14993 non-null int64\n",
      "RescuerID        14993 non-null object\n",
      "VideoAmt         14993 non-null int64\n",
      "Description      14981 non-null object\n",
      "PetID            14993 non-null object\n",
      "PhotoAmt         14993 non-null float64\n",
      "AdoptionSpeed    14993 non-null int64\n",
      "dtypes: float64(1), int64(19), object(4)\n",
      "memory usage: 2.7+ MB\n"
     ]
    }
   ],
   "source": [
    "df = pd.read_csv('PetFinder_dataset.csv')\n",
    "df.info()"
   ]
  },
  {
   "cell_type": "markdown",
   "metadata": {},
   "source": [
    "Loading colour, breed and state labels:"
   ]
  },
  {
   "cell_type": "code",
   "execution_count": 4,
   "metadata": {},
   "outputs": [],
   "source": [
    "color_labels = pd.read_csv('color_labels.csv').set_index('ColorID')\n",
    "breed_labels = pd.read_csv('breed_labels.csv').set_index('BreedID')\n",
    "state_labels = pd.read_csv('state_labels.csv').set_index('StateID')"
   ]
  },
  {
   "cell_type": "markdown",
   "metadata": {},
   "source": [
    "## 0.2. Understanding Data"
   ]
  },
  {
   "cell_type": "markdown",
   "metadata": {},
   "source": [
    "### Basic Questions"
   ]
  },
  {
   "cell_type": "markdown",
   "metadata": {},
   "source": [
    "#### How big is the dataset?\n",
    "The dataset contains 14993 entries with 24 features each.\n",
    "\n",
    "#### Is this the entire dataset?\n",
    "The original dataset from PetFinder.my contains over 150,000 animal profiles.\n",
    "\n",
    "#### Is this data representative enough?\n",
    "The dataset represents ~10% of the original data. EDA is required to best assess whether it can be considered a representative sample of the original population.\n",
    "\n",
    "#### Are there likely to be gross outliers or extraordinary sources of noise?\n",
    "EDA can shed light on this topic, by representing data distribution and irregularities that could point to errors in data.\n",
    "\n",
    "#### Are there any fields that are unique identifiers? These are the fields you might use for joining between datasets, etc.\n",
    "All animal profiles are uniquely identified by a PetID. Each PetID also has a non-unique RescuerID, and a non-unique State.\n",
    "\n",
    "#### Are the supposedly unique identifiers actually unique? What does it mean if they aren't?\n",
    "PetID.\n",
    "\n",
    "#### When data entries are blank, where does that come from?\n",
    "The only blank entries in this dataset correspond to animal profiles without an assigned name.\n",
    "\n",
    "#### How common are blank entries?\n",
    "There are ~1200 blank entries, which constitute a significant portion of the data. Given this number, and due to the fact that blank entries have meaning attributed to them, it would perhaps be best to keep this data in the dataset for analysis."
   ]
  },
  {
   "cell_type": "markdown",
   "metadata": {},
   "source": [
    "## Exploratory Data Analysis"
   ]
  },
  {
   "cell_type": "markdown",
   "metadata": {},
   "source": [
    "In order to better understand our dataset and to make decisions about feature selection, feature extraction and general cleaning of the data, we started by plotting distribution of the original features and the target."
   ]
  },
  {
   "cell_type": "markdown",
   "metadata": {},
   "source": [
    "### Target: *AdoptionSpeed*\n",
    "\n",
    "The target feature displayed a clear discrepancy in distribution, showing a significantly lower number of examples for AdoptionSpeed = 0. This imbalance should be addressed, as models tend to neglect minority classes if they don't have a large enough representation in the overall dataset, therefore compromising the classification."
   ]
  },
  {
   "cell_type": "code",
   "execution_count": 5,
   "metadata": {},
   "outputs": [
    {
     "data": {
      "text/plain": [
       "<seaborn.axisgrid.FacetGrid at 0x2be417bb108>"
      ]
     },
     "execution_count": 5,
     "metadata": {},
     "output_type": "execute_result"
    },
    {
     "data": {
      "image/png": "[encoded data removed]",
      "text/plain": [
       "<Figure size 360x360 with 1 Axes>"
      ]
     },
     "metadata": {},
     "output_type": "display_data"
    }
   ],
   "source": [
    "ax = sns.catplot(x=\"AdoptionSpeed\",data=df, kind='count')\n",
    "(ax.set_axis_labels(\"Adoption Speed\", \"Number of Pets\"))"
   ]
  },
  {
   "cell_type": "markdown",
   "metadata": {},
   "source": [
    "### Overall correlations\n",
    "The plot bellow illustrates the absolute correlation between  each feature and the target class \"AdoptionSpeed\". All correlations are very low (<15%)"
   ]
  },
  {
   "cell_type": "code",
   "execution_count": 6,
   "metadata": {},
   "outputs": [
    {
     "data": {
      "text/plain": [
       "([<matplotlib.axis.XTick at 0x2be407b0fc8>,\n",
       "  <matplotlib.axis.XTick at 0x2be407b0608>,\n",
       "  <matplotlib.axis.XTick at 0x2be407b01c8>,\n",
       "  <matplotlib.axis.XTick at 0x2be40a50308>,\n",
       "  <matplotlib.axis.XTick at 0x2be40a50988>,\n",
       "  <matplotlib.axis.XTick at 0x2be40a55108>,\n",
       "  <matplotlib.axis.XTick at 0x2be40a55908>,\n",
       "  <matplotlib.axis.XTick at 0x2be40a59108>,\n",
       "  <matplotlib.axis.XTick at 0x2be40a598c8>,\n",
       "  <matplotlib.axis.XTick at 0x2be40a5e348>,\n",
       "  <matplotlib.axis.XTick at 0x2be40a5ee48>,\n",
       "  <matplotlib.axis.XTick at 0x2be40a59248>,\n",
       "  <matplotlib.axis.XTick at 0x2be40a508c8>,\n",
       "  <matplotlib.axis.XTick at 0x2be40a65288>,\n",
       "  <matplotlib.axis.XTick at 0x2be40a65988>,\n",
       "  <matplotlib.axis.XTick at 0x2be40a6a588>,\n",
       "  <matplotlib.axis.XTick at 0x2be40a6c148>,\n",
       "  <matplotlib.axis.XTick at 0x2be40a6cc08>,\n",
       "  <matplotlib.axis.XTick at 0x2be40a71788>],\n",
       " <a list of 19 Text xticklabel objects>)"
      ]
     },
     "execution_count": 6,
     "metadata": {},
     "output_type": "execute_result"
    },
    {
     "data": {
      "image/png": "[encoded data removed]",
      "text/plain": [
       "<Figure size 1440x504 with 1 Axes>"
      ]
     },
     "metadata": {},
     "output_type": "display_data"
    }
   ],
   "source": [
    "numeric_df = df.select_dtypes(exclude=['object'])\n",
    "corr_dict = {}\n",
    "for feature in numeric_df.columns:\n",
    "    corr_dict[feature] = abs(df['AdoptionSpeed'].corr(df[feature]))\n",
    "    #print(feature, '-->', corr_dict[feature])\n",
    "    \n",
    "corr_dict.pop('AdoptionSpeed')\n",
    "plt.figure(figsize=(20,7))\n",
    "plt.bar(range(len(corr_dict)), list(corr_dict.values()), align='center')\n",
    "plt.xticks(range(len(corr_dict)), list(corr_dict.keys()))"
   ]
  },
  {
   "cell_type": "markdown",
   "metadata": {},
   "source": [
    "### PetID\n",
    "\n",
    "Since PetID is not informative of the pet profile (it acts solely as a unique identifier of the page), it would be excluded from the analysis, although it will be used as an index for the dataFrame. It can be later useful when evaluating model performance, as the respective record values can reveal if certain features were appropriately categorised."
   ]
  },
  {
   "cell_type": "code",
   "execution_count": 7,
   "metadata": {},
   "outputs": [
    {
     "data": {
      "text/html": [
       "<div>\n",
       "<style scoped>\n",
       "    .dataframe tbody tr th:only-of-type {\n",
       "        vertical-align: middle;\n",
       "    }\n",
       "\n",
       "    .dataframe tbody tr th {\n",
       "        vertical-align: top;\n",
       "    }\n",
       "\n",
       "    .dataframe thead th {\n",
       "        text-align: right;\n",
       "    }\n",
       "</style>\n",
       "<table border=\"1\" class=\"dataframe\">\n",
       "  <thead>\n",
       "    <tr style=\"text-align: right;\">\n",
       "      <th></th>\n",
       "      <th>Type</th>\n",
       "      <th>Name</th>\n",
       "      <th>Age</th>\n",
       "      <th>Breed1</th>\n",
       "      <th>Breed2</th>\n",
       "      <th>Gender</th>\n",
       "      <th>Color1</th>\n",
       "      <th>Color2</th>\n",
       "      <th>Color3</th>\n",
       "      <th>MaturitySize</th>\n",
       "      <th>...</th>\n",
       "      <th>Sterilized</th>\n",
       "      <th>Health</th>\n",
       "      <th>Quantity</th>\n",
       "      <th>Fee</th>\n",
       "      <th>State</th>\n",
       "      <th>RescuerID</th>\n",
       "      <th>VideoAmt</th>\n",
       "      <th>Description</th>\n",
       "      <th>PhotoAmt</th>\n",
       "      <th>AdoptionSpeed</th>\n",
       "    </tr>\n",
       "    <tr>\n",
       "      <th>PetID</th>\n",
       "      <th></th>\n",
       "      <th></th>\n",
       "      <th></th>\n",
       "      <th></th>\n",
       "      <th></th>\n",
       "      <th></th>\n",
       "      <th></th>\n",
       "      <th></th>\n",
       "      <th></th>\n",
       "      <th></th>\n",
       "      <th></th>\n",
       "      <th></th>\n",
       "      <th></th>\n",
       "      <th></th>\n",
       "      <th></th>\n",
       "      <th></th>\n",
       "      <th></th>\n",
       "      <th></th>\n",
       "      <th></th>\n",
       "      <th></th>\n",
       "      <th></th>\n",
       "    </tr>\n",
       "  </thead>\n",
       "  <tbody>\n",
       "    <tr>\n",
       "      <th>86e1089a3</th>\n",
       "      <td>2</td>\n",
       "      <td>Nibble</td>\n",
       "      <td>3</td>\n",
       "      <td>299</td>\n",
       "      <td>0</td>\n",
       "      <td>1</td>\n",
       "      <td>1</td>\n",
       "      <td>7</td>\n",
       "      <td>0</td>\n",
       "      <td>1</td>\n",
       "      <td>...</td>\n",
       "      <td>2</td>\n",
       "      <td>1</td>\n",
       "      <td>1</td>\n",
       "      <td>100</td>\n",
       "      <td>41326</td>\n",
       "      <td>8480853f516546f6cf33aa88cd76c379</td>\n",
       "      <td>0</td>\n",
       "      <td>Nibble is a 3+ month old ball of cuteness. He ...</td>\n",
       "      <td>1.0</td>\n",
       "      <td>2</td>\n",
       "    </tr>\n",
       "    <tr>\n",
       "      <th>6296e909a</th>\n",
       "      <td>2</td>\n",
       "      <td>No Name Yet</td>\n",
       "      <td>1</td>\n",
       "      <td>265</td>\n",
       "      <td>0</td>\n",
       "      <td>1</td>\n",
       "      <td>1</td>\n",
       "      <td>2</td>\n",
       "      <td>0</td>\n",
       "      <td>2</td>\n",
       "      <td>...</td>\n",
       "      <td>3</td>\n",
       "      <td>1</td>\n",
       "      <td>1</td>\n",
       "      <td>0</td>\n",
       "      <td>41401</td>\n",
       "      <td>3082c7125d8fb66f7dd4bff4192c8b14</td>\n",
       "      <td>0</td>\n",
       "      <td>I just found it alone yesterday near my apartm...</td>\n",
       "      <td>2.0</td>\n",
       "      <td>0</td>\n",
       "    </tr>\n",
       "    <tr>\n",
       "      <th>3422e4906</th>\n",
       "      <td>1</td>\n",
       "      <td>Brisco</td>\n",
       "      <td>1</td>\n",
       "      <td>307</td>\n",
       "      <td>0</td>\n",
       "      <td>1</td>\n",
       "      <td>2</td>\n",
       "      <td>7</td>\n",
       "      <td>0</td>\n",
       "      <td>2</td>\n",
       "      <td>...</td>\n",
       "      <td>2</td>\n",
       "      <td>1</td>\n",
       "      <td>1</td>\n",
       "      <td>0</td>\n",
       "      <td>41326</td>\n",
       "      <td>fa90fa5b1ee11c86938398b60abc32cb</td>\n",
       "      <td>0</td>\n",
       "      <td>Their pregnant mother was dumped by her irresp...</td>\n",
       "      <td>7.0</td>\n",
       "      <td>3</td>\n",
       "    </tr>\n",
       "    <tr>\n",
       "      <th>5842f1ff5</th>\n",
       "      <td>1</td>\n",
       "      <td>Miko</td>\n",
       "      <td>4</td>\n",
       "      <td>307</td>\n",
       "      <td>0</td>\n",
       "      <td>2</td>\n",
       "      <td>1</td>\n",
       "      <td>2</td>\n",
       "      <td>0</td>\n",
       "      <td>2</td>\n",
       "      <td>...</td>\n",
       "      <td>2</td>\n",
       "      <td>1</td>\n",
       "      <td>1</td>\n",
       "      <td>150</td>\n",
       "      <td>41401</td>\n",
       "      <td>9238e4f44c71a75282e62f7136c6b240</td>\n",
       "      <td>0</td>\n",
       "      <td>Good guard dog, very alert, active, obedience ...</td>\n",
       "      <td>8.0</td>\n",
       "      <td>2</td>\n",
       "    </tr>\n",
       "    <tr>\n",
       "      <th>850a43f90</th>\n",
       "      <td>1</td>\n",
       "      <td>Hunter</td>\n",
       "      <td>1</td>\n",
       "      <td>307</td>\n",
       "      <td>0</td>\n",
       "      <td>1</td>\n",
       "      <td>1</td>\n",
       "      <td>0</td>\n",
       "      <td>0</td>\n",
       "      <td>2</td>\n",
       "      <td>...</td>\n",
       "      <td>2</td>\n",
       "      <td>1</td>\n",
       "      <td>1</td>\n",
       "      <td>0</td>\n",
       "      <td>41326</td>\n",
       "      <td>95481e953f8aed9ec3d16fc4509537e8</td>\n",
       "      <td>0</td>\n",
       "      <td>This handsome yet cute boy is up for adoption....</td>\n",
       "      <td>3.0</td>\n",
       "      <td>2</td>\n",
       "    </tr>\n",
       "  </tbody>\n",
       "</table>\n",
       "<p>5 rows × 23 columns</p>\n",
       "</div>"
      ],
      "text/plain": [
       "           Type         Name  Age  Breed1  Breed2  Gender  Color1  Color2  \\\n",
       "PetID                                                                       \n",
       "86e1089a3     2       Nibble    3     299       0       1       1       7   \n",
       "6296e909a     2  No Name Yet    1     265       0       1       1       2   \n",
       "3422e4906     1       Brisco    1     307       0       1       2       7   \n",
       "5842f1ff5     1         Miko    4     307       0       2       1       2   \n",
       "850a43f90     1       Hunter    1     307       0       1       1       0   \n",
       "\n",
       "           Color3  MaturitySize  ...  Sterilized  Health  Quantity  Fee  \\\n",
       "PetID                            ...                                      \n",
       "86e1089a3       0             1  ...           2       1         1  100   \n",
       "6296e909a       0             2  ...           3       1         1    0   \n",
       "3422e4906       0             2  ...           2       1         1    0   \n",
       "5842f1ff5       0             2  ...           2       1         1  150   \n",
       "850a43f90       0             2  ...           2       1         1    0   \n",
       "\n",
       "           State                         RescuerID  VideoAmt  \\\n",
       "PetID                                                          \n",
       "86e1089a3  41326  8480853f516546f6cf33aa88cd76c379         0   \n",
       "6296e909a  41401  3082c7125d8fb66f7dd4bff4192c8b14         0   \n",
       "3422e4906  41326  fa90fa5b1ee11c86938398b60abc32cb         0   \n",
       "5842f1ff5  41401  9238e4f44c71a75282e62f7136c6b240         0   \n",
       "850a43f90  41326  95481e953f8aed9ec3d16fc4509537e8         0   \n",
       "\n",
       "                                                 Description PhotoAmt  \\\n",
       "PetID                                                                   \n",
       "86e1089a3  Nibble is a 3+ month old ball of cuteness. He ...      1.0   \n",
       "6296e909a  I just found it alone yesterday near my apartm...      2.0   \n",
       "3422e4906  Their pregnant mother was dumped by her irresp...      7.0   \n",
       "5842f1ff5  Good guard dog, very alert, active, obedience ...      8.0   \n",
       "850a43f90  This handsome yet cute boy is up for adoption....      3.0   \n",
       "\n",
       "           AdoptionSpeed  \n",
       "PetID                     \n",
       "86e1089a3              2  \n",
       "6296e909a              0  \n",
       "3422e4906              3  \n",
       "5842f1ff5              2  \n",
       "850a43f90              2  \n",
       "\n",
       "[5 rows x 23 columns]"
      ]
     },
     "execution_count": 7,
     "metadata": {},
     "output_type": "execute_result"
    }
   ],
   "source": [
    "df.set_index(\"PetID\", inplace=True) # change index to PetId\n",
    "df.head()"
   ]
  },
  {
   "cell_type": "markdown",
   "metadata": {},
   "source": [
    "### Strategy\n",
    "\n",
    "The following analysis was done to each feature:\n",
    "* Check the number of examples for each feature values.\n",
    "* Check the distribution of each feature values' among AdoptionSpeed classes.\n",
    "\n",
    "For the second step we used the following visualisation method, which returns not only a plot on the distribution but also a table of representativity percentage gain of each feature's values for each AdoptionSpeed class, relatively to AdoptionSpeed=0:"
   ]
  },
  {
   "cell_type": "code",
   "execution_count": 8,
   "metadata": {},
   "outputs": [],
   "source": [
    "# creates a stacked bar plot for any two categorical variables\n",
    "# also creates a relative frequency version of the same plot\n",
    "# and a relative gain compared to AdoptionSpeed=0 \n",
    "# frel=False to return only the absolute frequency plot\n",
    "\n",
    "def cat_distr_pairwise(cat_x,cat_y, df, frel):\n",
    "    \n",
    "    unique_cat_y = sorted(df[cat_y].unique())\n",
    "    unique_cat_x = sorted(df[cat_x].unique())\n",
    "    cat_count = pd.DataFrame(columns=unique_cat_y,index=unique_cat_x)\n",
    "    for y in unique_cat_y:\n",
    "        for x in unique_cat_x:\n",
    "            count = df[cat_y][(df[cat_x]==x) & (df[cat_y]==y)].count()\n",
    "            cat_count.at[x,y] = count \n",
    "    \n",
    "    def color(val):\n",
    "        if val < 0:\n",
    "            color = 'red'\n",
    "        elif val>0:\n",
    "            color = 'green'\n",
    "        else:\n",
    "            color='white'\n",
    "        return 'background-color: %s' % color\n",
    "    \n",
    "    if frel==False:\n",
    "        \n",
    "        #relative gain table\n",
    "        relgain = cat_count.pct_change().cumsum() * 100\n",
    "        print(\"Relative gain from AdoptionSpeed=0 (%):\")\n",
    "        display(relgain.style.applymap(color))\n",
    "        return cat_count.plot.bar(stacked=True, figsize=(10,7))\n",
    "    \n",
    "    else:\n",
    "        #relative frequency stacked bar plot\n",
    "        freq_cat_count = cat_count.divide(cat_count.sum(axis=1), axis=0)\n",
    "        \n",
    "        #relative gain table\n",
    "        relgain = freq_cat_count.pct_change().cumsum() * 100\n",
    "        print(\"Relative gain from AdoptionSpeed=0 (%):\")\n",
    "        display(relgain.style.applymap(color))\n",
    "\n",
    "        return freq_cat_count.plot.bar(stacked=True, figsize=(10,7), title=cat_y + \" relative distribution among AdoptionSpeed\")\n",
    "    "
   ]
  },
  {
   "cell_type": "markdown",
   "metadata": {},
   "source": [
    "We will now present the most important conclusions taken from this analysis."
   ]
  },
  {
   "cell_type": "markdown",
   "metadata": {},
   "source": [
    "### Type\n",
    "\n",
    "Because we are going to later create type-specific predictive models, it would be relevant to see the number of cases we have in our dataset for each animal (cat or dog)."
   ]
  },
  {
   "cell_type": "code",
   "execution_count": 9,
   "metadata": {},
   "outputs": [
    {
     "data": {
      "text/plain": [
       "<seaborn.axisgrid.FacetGrid at 0x2be40a71e88>"
      ]
     },
     "execution_count": 9,
     "metadata": {},
     "output_type": "execute_result"
    },
    {
     "data": {
      "image/png": "[encoded data removed]",
      "text/plain": [
       "<Figure size 360x360 with 1 Axes>"
      ]
     },
     "metadata": {},
     "output_type": "display_data"
    }
   ],
   "source": [
    "bx = sns.catplot(x=\"Type\",data=df, kind='count')\n",
    "(bx.set_axis_labels(\"Type\", \"Number of Pets\")\n",
    "    .set_xticklabels([\"Dogs\", \"Cats\"])\n",
    "    .set_titles(\"{col_name} {col_var}\")\n",
    "    .despine(left=True))  "
   ]
  },
  {
   "cell_type": "code",
   "execution_count": 10,
   "metadata": {},
   "outputs": [
    {
     "name": "stdout",
     "output_type": "stream",
     "text": [
      "Relative gain from AdoptionSpeed=0 (%):\n"
     ]
    },
    {
     "data": {
      "text/html": [
       "<style  type=\"text/css\" >\n",
       "    #T_5210a9cc_22c1_11ea_9a2e_54271ebed449row0_col0 {\n",
       "            background-color:  white;\n",
       "        }    #T_5210a9cc_22c1_11ea_9a2e_54271ebed449row0_col1 {\n",
       "            background-color:  white;\n",
       "        }    #T_5210a9cc_22c1_11ea_9a2e_54271ebed449row1_col0 {\n",
       "            background-color:  green;\n",
       "        }    #T_5210a9cc_22c1_11ea_9a2e_54271ebed449row1_col1 {\n",
       "            background-color:  red;\n",
       "        }    #T_5210a9cc_22c1_11ea_9a2e_54271ebed449row2_col0 {\n",
       "            background-color:  green;\n",
       "        }    #T_5210a9cc_22c1_11ea_9a2e_54271ebed449row2_col1 {\n",
       "            background-color:  red;\n",
       "        }    #T_5210a9cc_22c1_11ea_9a2e_54271ebed449row3_col0 {\n",
       "            background-color:  green;\n",
       "        }    #T_5210a9cc_22c1_11ea_9a2e_54271ebed449row3_col1 {\n",
       "            background-color:  red;\n",
       "        }    #T_5210a9cc_22c1_11ea_9a2e_54271ebed449row4_col0 {\n",
       "            background-color:  green;\n",
       "        }    #T_5210a9cc_22c1_11ea_9a2e_54271ebed449row4_col1 {\n",
       "            background-color:  red;\n",
       "        }</style><table id=\"T_5210a9cc_22c1_11ea_9a2e_54271ebed449\" ><thead>    <tr>        <th class=\"blank level0\" ></th>        <th class=\"col_heading level0 col0\" >1</th>        <th class=\"col_heading level0 col1\" >2</th>    </tr></thead><tbody>\n",
       "                <tr>\n",
       "                        <th id=\"T_5210a9cc_22c1_11ea_9a2e_54271ebed449level0_row0\" class=\"row_heading level0 row0\" >0</th>\n",
       "                        <td id=\"T_5210a9cc_22c1_11ea_9a2e_54271ebed449row0_col0\" class=\"data row0 col0\" >nan</td>\n",
       "                        <td id=\"T_5210a9cc_22c1_11ea_9a2e_54271ebed449row0_col1\" class=\"data row0 col1\" >nan</td>\n",
       "            </tr>\n",
       "            <tr>\n",
       "                        <th id=\"T_5210a9cc_22c1_11ea_9a2e_54271ebed449level0_row1\" class=\"row_heading level0 row1\" >1</th>\n",
       "                        <td id=\"T_5210a9cc_22c1_11ea_9a2e_54271ebed449row1_col0\" class=\"data row1 col0\" >12.0027</td>\n",
       "                        <td id=\"T_5210a9cc_22c1_11ea_9a2e_54271ebed449row1_col1\" class=\"data row1 col1\" >-8.50189</td>\n",
       "            </tr>\n",
       "            <tr>\n",
       "                        <th id=\"T_5210a9cc_22c1_11ea_9a2e_54271ebed449level0_row2\" class=\"row_heading level0 row2\" >2</th>\n",
       "                        <td id=\"T_5210a9cc_22c1_11ea_9a2e_54271ebed449row2_col0\" class=\"data row2 col0\" >27.429</td>\n",
       "                        <td id=\"T_5210a9cc_22c1_11ea_9a2e_54271ebed449row2_col1\" class=\"data row2 col1\" >-21.8776</td>\n",
       "            </tr>\n",
       "            <tr>\n",
       "                        <th id=\"T_5210a9cc_22c1_11ea_9a2e_54271ebed449level0_row3\" class=\"row_heading level0 row3\" >3</th>\n",
       "                        <td id=\"T_5210a9cc_22c1_11ea_9a2e_54271ebed449row3_col0\" class=\"data row3 col0\" >38.9943</td>\n",
       "                        <td id=\"T_5210a9cc_22c1_11ea_9a2e_54271ebed449row3_col1\" class=\"data row3 col1\" >-35.2397</td>\n",
       "            </tr>\n",
       "            <tr>\n",
       "                        <th id=\"T_5210a9cc_22c1_11ea_9a2e_54271ebed449level0_row4\" class=\"row_heading level0 row4\" >4</th>\n",
       "                        <td id=\"T_5210a9cc_22c1_11ea_9a2e_54271ebed449row4_col0\" class=\"data row4 col0\" >35.1712</td>\n",
       "                        <td id=\"T_5210a9cc_22c1_11ea_9a2e_54271ebed449row4_col1\" class=\"data row4 col1\" >-29.5518</td>\n",
       "            </tr>\n",
       "    </tbody></table>"
      ],
      "text/plain": [
       "<pandas.io.formats.style.Styler at 0x2be40a92088>"
      ]
     },
     "metadata": {},
     "output_type": "display_data"
    },
    {
     "data": {
      "text/plain": [
       "<matplotlib.axes._subplots.AxesSubplot at 0x2be41880508>"
      ]
     },
     "execution_count": 10,
     "metadata": {},
     "output_type": "execute_result"
    },
    {
     "data": {
      "image/png": "[encoded data removed]",
      "text/plain": [
       "<Figure size 720x504 with 1 Axes>"
      ]
     },
     "metadata": {},
     "output_type": "display_data"
    }
   ],
   "source": [
    "cat_distr_pairwise('AdoptionSpeed','Type', df, frel=True)"
   ]
  },
  {
   "cell_type": "markdown",
   "metadata": {},
   "source": [
    "Looking at our data, the number of examples of dogs and cats is fairly proportional, as well as their relative distribution among target classes. \n",
    "Looking at the gain table, it is clear that dogs(1) tend to get adopted later relatively to cats(2),  which we can see by the growing relative gain. In fact, the number of dogs with no adoption after 100 days (adoptionSpeed=4) is 37% higher than dogs being adopted on the same day (adoptionSpeed=0). On the other hand, we observe the opposite phenomena on cats. They tend to be adopted at ealier stages, being the number of cats with no adoption after 100 days (adoptionSpeed=4) is 29% lower than cats being adopted on the same day (adoptionSpeed=0).\n",
    "Despite this small discrepancies, we expect the resulting models' performance to be comparable.\n",
    "\n"
   ]
  },
  {
   "cell_type": "markdown",
   "metadata": {},
   "source": [
    "### Name\n",
    "Since a reasonable amount of the profiles didn't make any reference to name (empty) a first approach would be to fill those empty values with a fixed value such as \"No Name\" or similar.\n",
    "Other approach would be to transform this feature into a binary one with a 0 value for profiles with no name and a 1 value for the opposite.\n",
    "Since it was later found that some of the named profiles were filled with \"No Name\" and derivatives of this name such as \"No Name Yet\", \"V6\", \"å°è±¹çº¹\" etc., which are not proper names, we made an attempt to classify those cases as \"No name\" as well."
   ]
  },
  {
   "cell_type": "code",
   "execution_count": 11,
   "metadata": {},
   "outputs": [
    {
     "name": "stdout",
     "output_type": "stream",
     "text": [
      "A glimpse on the ignored names: ['No Name Yet', 'No Name', 'No Name', 'H3', 'Z3', 'C', 'No Name', 'No Name', 'BB', 'QQ', 'Y1', 'No Name', 'H1', 'No Name Yet', 'D9', 'Y4', 'No Name', 'Z4', 'No Name', 'Unnamed', 'BB', 'DD', 'M2', 'H6', 'D4', 'QQ', 'JJ', 'No Names', 'å°\\x8fè±¹çº¹', 'ä¼\\x98ç¾\\x8eå\\x8f¯ç¬\\x91', 'F1', 'æ©\\x98å\\xad\\x90', 'W7', '(No Name)', 'No Name Yet', 'No Name', '1F', 'Q1', '6', 'CJ', '3F', '[No Name]', 'BB', 'KD', 'No Name Yet', 'No Name Yet', 'DD', 'No Name', 'G1', 'è\\x8f\\x9cè\\x8f\\x9cã\\x80\\x82']\n"
     ]
    },
    {
     "data": {
      "image/png": "[encoded data removed]",
      "text/plain": [
       "<Figure size 432x288 with 1 Axes>"
      ]
     },
     "metadata": {},
     "output_type": "display_data"
    }
   ],
   "source": [
    "# Create new feature - hasNames\n",
    "l = []\n",
    "ignore = []\n",
    "\n",
    "for i in df[\"Name\"]:\n",
    "    if type(i)!=str: # Some empty descriptions are type:float\n",
    "        l.append(0)\n",
    "    else:\n",
    "        if len(i)<3: #Consider that a 2 letter name is not a proper name.\n",
    "            l.append(0)\n",
    "            ignore.append(i)\n",
    "        elif re.search(\"[a-zA-Z]\", i) == None: #If name doesn't have letters, it's not a proper name.\n",
    "            l.append(0)\n",
    "            ignore.append(i)\n",
    "        elif re.search(\"unnamed|no name\",i, re.IGNORECASE) != None: \n",
    "            #If name string includes \"unnamed\" or \"no name\", it's not a proper name\n",
    "            l.append(0)\n",
    "            ignore.append(i)\n",
    "        elif len(i.split())>0:\n",
    "            l.append(1)\n",
    "\n",
    "print(\"A glimpse on the ignored names:\",ignore[:50])\n",
    "df_processed1 = df.copy()\n",
    "df_processed1.drop(\"Name\", axis=1, inplace = True)\n",
    "df_processed1.insert(1,\"hasName\",l) ##INSERT IN DATAFRAME\n",
    "\n",
    "sns.set(style=\"whitegrid\")\n",
    "ax = sns.countplot(x=\"hasName\", data=df_processed1)"
   ]
  },
  {
   "cell_type": "code",
   "execution_count": 12,
   "metadata": {},
   "outputs": [
    {
     "name": "stdout",
     "output_type": "stream",
     "text": [
      "Relative gain from AdoptionSpeed=0 (%):\n"
     ]
    },
    {
     "data": {
      "text/html": [
       "<style  type=\"text/css\" >\n",
       "    #T_52618d2c_22c1_11ea_a261_54271ebed449row0_col0 {\n",
       "            background-color:  white;\n",
       "        }    #T_52618d2c_22c1_11ea_a261_54271ebed449row0_col1 {\n",
       "            background-color:  white;\n",
       "        }    #T_52618d2c_22c1_11ea_a261_54271ebed449row1_col0 {\n",
       "            background-color:  green;\n",
       "        }    #T_52618d2c_22c1_11ea_a261_54271ebed449row1_col1 {\n",
       "            background-color:  red;\n",
       "        }    #T_52618d2c_22c1_11ea_a261_54271ebed449row2_col0 {\n",
       "            background-color:  green;\n",
       "        }    #T_52618d2c_22c1_11ea_a261_54271ebed449row2_col1 {\n",
       "            background-color:  red;\n",
       "        }    #T_52618d2c_22c1_11ea_a261_54271ebed449row3_col0 {\n",
       "            background-color:  green;\n",
       "        }    #T_52618d2c_22c1_11ea_a261_54271ebed449row3_col1 {\n",
       "            background-color:  red;\n",
       "        }    #T_52618d2c_22c1_11ea_a261_54271ebed449row4_col0 {\n",
       "            background-color:  green;\n",
       "        }    #T_52618d2c_22c1_11ea_a261_54271ebed449row4_col1 {\n",
       "            background-color:  red;\n",
       "        }</style><table id=\"T_52618d2c_22c1_11ea_a261_54271ebed449\" ><thead>    <tr>        <th class=\"blank level0\" ></th>        <th class=\"col_heading level0 col0\" >0</th>        <th class=\"col_heading level0 col1\" >1</th>    </tr></thead><tbody>\n",
       "                <tr>\n",
       "                        <th id=\"T_52618d2c_22c1_11ea_a261_54271ebed449level0_row0\" class=\"row_heading level0 row0\" >0</th>\n",
       "                        <td id=\"T_52618d2c_22c1_11ea_a261_54271ebed449row0_col0\" class=\"data row0 col0\" >nan</td>\n",
       "                        <td id=\"T_52618d2c_22c1_11ea_a261_54271ebed449row0_col1\" class=\"data row0 col1\" >nan</td>\n",
       "            </tr>\n",
       "            <tr>\n",
       "                        <th id=\"T_52618d2c_22c1_11ea_a261_54271ebed449level0_row1\" class=\"row_heading level0 row1\" >1</th>\n",
       "                        <td id=\"T_52618d2c_22c1_11ea_a261_54271ebed449row1_col0\" class=\"data row1 col0\" >28.3828</td>\n",
       "                        <td id=\"T_52618d2c_22c1_11ea_a261_54271ebed449row1_col1\" class=\"data row1 col1\" >-2.81545</td>\n",
       "            </tr>\n",
       "            <tr>\n",
       "                        <th id=\"T_52618d2c_22c1_11ea_a261_54271ebed449level0_row2\" class=\"row_heading level0 row2\" >2</th>\n",
       "                        <td id=\"T_52618d2c_22c1_11ea_a261_54271ebed449row2_col0\" class=\"data row2 col0\" >14.3321</td>\n",
       "                        <td id=\"T_52618d2c_22c1_11ea_a261_54271ebed449row2_col1\" class=\"data row2 col1\" >-0.974261</td>\n",
       "            </tr>\n",
       "            <tr>\n",
       "                        <th id=\"T_52618d2c_22c1_11ea_a261_54271ebed449level0_row3\" class=\"row_heading level0 row3\" >3</th>\n",
       "                        <td id=\"T_52618d2c_22c1_11ea_a261_54271ebed449row3_col0\" class=\"data row3 col0\" >9.85559</td>\n",
       "                        <td id=\"T_52618d2c_22c1_11ea_a261_54271ebed449row3_col1\" class=\"data row3 col1\" >-0.479193</td>\n",
       "            </tr>\n",
       "            <tr>\n",
       "                        <th id=\"T_52618d2c_22c1_11ea_a261_54271ebed449level0_row4\" class=\"row_heading level0 row4\" >4</th>\n",
       "                        <td id=\"T_52618d2c_22c1_11ea_a261_54271ebed449row4_col0\" class=\"data row4 col0\" >38.1045</td>\n",
       "                        <td id=\"T_52618d2c_22c1_11ea_a261_54271ebed449row4_col1\" class=\"data row4 col1\" >-3.44873</td>\n",
       "            </tr>\n",
       "    </tbody></table>"
      ],
      "text/plain": [
       "<pandas.io.formats.style.Styler at 0x2be4198e408>"
      ]
     },
     "metadata": {},
     "output_type": "display_data"
    },
    {
     "data": {
      "text/plain": [
       "<matplotlib.axes._subplots.AxesSubplot at 0x2be401d1348>"
      ]
     },
     "execution_count": 12,
     "metadata": {},
     "output_type": "execute_result"
    },
    {
     "data": {
      "image/png": "[encoded data removed]",
      "text/plain": [
       "<Figure size 720x504 with 1 Axes>"
      ]
     },
     "metadata": {},
     "output_type": "display_data"
    }
   ],
   "source": [
    "cat_distr_pairwise('AdoptionSpeed','hasName', df_processed1, frel=True)"
   ]
  },
  {
   "cell_type": "markdown",
   "metadata": {},
   "source": [
    "As we can see from the plot above, the relative distribution of the \"noName\" feature values among \"AdoptionSpeed\" classes is very similar. This probabably means that the pet's name is not a very important factor in the adopter's decision."
   ]
  },
  {
   "cell_type": "markdown",
   "metadata": {},
   "source": [
    "### Age\n",
    "\n",
    "When looking at the Age distribution, we can see that there are peaks every 12 months. Young pets (less than 1 year old) are the most frequent."
   ]
  },
  {
   "cell_type": "code",
   "execution_count": 13,
   "metadata": {},
   "outputs": [
    {
     "data": {
      "image/png": "[encoded data removed]",
      "text/plain": [
       "<Figure size 1080x360 with 1 Axes>"
      ]
     },
     "metadata": {},
     "output_type": "display_data"
    }
   ],
   "source": [
    "a = df['Age'] # get Age array\n",
    "nr_bins = 1 + 3.322*math.log(len(a),2) # Number of bins according to Sturges rule\n",
    "sns.set(rc={'figure.figsize':(15,5)}) # set figure size\n",
    "\n",
    "# setting up the axis\n",
    "fig, ax = plt.subplots()\n",
    "ticks = [i for i in range(0,260,12)]\n",
    "ticks.pop(0)\n",
    "ax.set_xticks(ticks)\n",
    "plt.xlim([0.0,250])\n",
    "\n",
    "sns.distplot(a, bins=round(nr_bins), kde=False, axlabel=\"Age (months)\");"
   ]
  },
  {
   "cell_type": "markdown",
   "metadata": {},
   "source": [
    "The average cat is considered a kitten roughly until it reaches the age of 1 year old. The same goes for puppies. On the other hand, dogs and cats are considered Seniors roughly when they reach the age of 6 years. Of course, these are approximations, as the classification varies with the type of animal (cats or dogs), breed, size and many other factors.\n",
    "\n",
    "In this sense, we will consider these categories:\n",
    "* Baby - age 0-11 months => 0\n",
    "* Adult - age 12-71 months =>1\n",
    "* Senior - age 72-250 months =>2"
   ]
  },
  {
   "cell_type": "code",
   "execution_count": 14,
   "metadata": {},
   "outputs": [],
   "source": [
    "# Create new feature - AgeGroup\n",
    "AgeGroup = []\n",
    "for i in df[\"Age\"]:\n",
    "    if i<12:\n",
    "        AgeGroup.append(0)\n",
    "    elif i<72:\n",
    "        AgeGroup.append(1)\n",
    "    else:\n",
    "        AgeGroup.append(2)\n",
    "\n",
    "df_processed2 = df_processed1.copy()\n",
    "df_processed2.drop(\"Age\", axis=1, inplace = True)\n",
    "df_processed2.insert(2,\"AgeGroup\",AgeGroup) ##INSERT IN DATAFRAME"
   ]
  },
  {
   "cell_type": "code",
   "execution_count": 15,
   "metadata": {},
   "outputs": [
    {
     "name": "stdout",
     "output_type": "stream",
     "text": [
      "Relative gain from AdoptionSpeed=0 (%):\n"
     ]
    },
    {
     "data": {
      "text/html": [
       "<style  type=\"text/css\" >\n",
       "    #T_52d0259e_22c1_11ea_8667_54271ebed449row0_col0 {\n",
       "            background-color:  white;\n",
       "        }    #T_52d0259e_22c1_11ea_8667_54271ebed449row0_col1 {\n",
       "            background-color:  white;\n",
       "        }    #T_52d0259e_22c1_11ea_8667_54271ebed449row0_col2 {\n",
       "            background-color:  white;\n",
       "        }    #T_52d0259e_22c1_11ea_8667_54271ebed449row1_col0 {\n",
       "            background-color:  green;\n",
       "        }    #T_52d0259e_22c1_11ea_8667_54271ebed449row1_col1 {\n",
       "            background-color:  red;\n",
       "        }    #T_52d0259e_22c1_11ea_8667_54271ebed449row1_col2 {\n",
       "            background-color:  red;\n",
       "        }    #T_52d0259e_22c1_11ea_8667_54271ebed449row2_col0 {\n",
       "            background-color:  green;\n",
       "        }    #T_52d0259e_22c1_11ea_8667_54271ebed449row2_col1 {\n",
       "            background-color:  red;\n",
       "        }    #T_52d0259e_22c1_11ea_8667_54271ebed449row2_col2 {\n",
       "            background-color:  green;\n",
       "        }    #T_52d0259e_22c1_11ea_8667_54271ebed449row3_col0 {\n",
       "            background-color:  green;\n",
       "        }    #T_52d0259e_22c1_11ea_8667_54271ebed449row3_col1 {\n",
       "            background-color:  red;\n",
       "        }    #T_52d0259e_22c1_11ea_8667_54271ebed449row3_col2 {\n",
       "            background-color:  green;\n",
       "        }    #T_52d0259e_22c1_11ea_8667_54271ebed449row4_col0 {\n",
       "            background-color:  red;\n",
       "        }    #T_52d0259e_22c1_11ea_8667_54271ebed449row4_col1 {\n",
       "            background-color:  green;\n",
       "        }    #T_52d0259e_22c1_11ea_8667_54271ebed449row4_col2 {\n",
       "            background-color:  green;\n",
       "        }</style><table id=\"T_52d0259e_22c1_11ea_8667_54271ebed449\" ><thead>    <tr>        <th class=\"blank level0\" ></th>        <th class=\"col_heading level0 col0\" >0</th>        <th class=\"col_heading level0 col1\" >1</th>        <th class=\"col_heading level0 col2\" >2</th>    </tr></thead><tbody>\n",
       "                <tr>\n",
       "                        <th id=\"T_52d0259e_22c1_11ea_8667_54271ebed449level0_row0\" class=\"row_heading level0 row0\" >0</th>\n",
       "                        <td id=\"T_52d0259e_22c1_11ea_8667_54271ebed449row0_col0\" class=\"data row0 col0\" >nan</td>\n",
       "                        <td id=\"T_52d0259e_22c1_11ea_8667_54271ebed449row0_col1\" class=\"data row0 col1\" >nan</td>\n",
       "                        <td id=\"T_52d0259e_22c1_11ea_8667_54271ebed449row0_col2\" class=\"data row0 col2\" >nan</td>\n",
       "            </tr>\n",
       "            <tr>\n",
       "                        <th id=\"T_52d0259e_22c1_11ea_8667_54271ebed449level0_row1\" class=\"row_heading level0 row1\" >1</th>\n",
       "                        <td id=\"T_52d0259e_22c1_11ea_8667_54271ebed449row1_col0\" class=\"data row1 col0\" >11.4206</td>\n",
       "                        <td id=\"T_52d0259e_22c1_11ea_8667_54271ebed449row1_col1\" class=\"data row1 col1\" >-27.3511</td>\n",
       "                        <td id=\"T_52d0259e_22c1_11ea_8667_54271ebed449row1_col2\" class=\"data row1 col2\" >-52.4542</td>\n",
       "            </tr>\n",
       "            <tr>\n",
       "                        <th id=\"T_52d0259e_22c1_11ea_8667_54271ebed449level0_row2\" class=\"row_heading level0 row2\" >2</th>\n",
       "                        <td id=\"T_52d0259e_22c1_11ea_8667_54271ebed449row2_col0\" class=\"data row2 col0\" >11.9318</td>\n",
       "                        <td id=\"T_52d0259e_22c1_11ea_8667_54271ebed449row2_col1\" class=\"data row2 col1\" >-35.1685</td>\n",
       "                        <td id=\"T_52d0259e_22c1_11ea_8667_54271ebed449row2_col2\" class=\"data row2 col2\" >18.4303</td>\n",
       "            </tr>\n",
       "            <tr>\n",
       "                        <th id=\"T_52d0259e_22c1_11ea_8667_54271ebed449level0_row3\" class=\"row_heading level0 row3\" >3</th>\n",
       "                        <td id=\"T_52d0259e_22c1_11ea_8667_54271ebed449row3_col0\" class=\"data row3 col0\" >7.09603</td>\n",
       "                        <td id=\"T_52d0259e_22c1_11ea_8667_54271ebed449row3_col1\" class=\"data row3 col1\" >-14.0861</td>\n",
       "                        <td id=\"T_52d0259e_22c1_11ea_8667_54271ebed449row3_col2\" class=\"data row3 col2\" >37.1413</td>\n",
       "            </tr>\n",
       "            <tr>\n",
       "                        <th id=\"T_52d0259e_22c1_11ea_8667_54271ebed449level0_row4\" class=\"row_heading level0 row4\" >4</th>\n",
       "                        <td id=\"T_52d0259e_22c1_11ea_8667_54271ebed449row4_col0\" class=\"data row4 col0\" >-10.7473</td>\n",
       "                        <td id=\"T_52d0259e_22c1_11ea_8667_54271ebed449row4_col1\" class=\"data row4 col1\" >54.0975</td>\n",
       "                        <td id=\"T_52d0259e_22c1_11ea_8667_54271ebed449row4_col2\" class=\"data row4 col2\" >42.645</td>\n",
       "            </tr>\n",
       "    </tbody></table>"
      ],
      "text/plain": [
       "<pandas.io.formats.style.Styler at 0x2be41a508c8>"
      ]
     },
     "metadata": {},
     "output_type": "display_data"
    },
    {
     "data": {
      "text/plain": [
       "<matplotlib.axes._subplots.AxesSubplot at 0x2be41d7b748>"
      ]
     },
     "execution_count": 15,
     "metadata": {},
     "output_type": "execute_result"
    },
    {
     "data": {
      "image/png": "[encoded data removed]",
      "text/plain": [
       "<Figure size 720x504 with 1 Axes>"
      ]
     },
     "metadata": {},
     "output_type": "display_data"
    }
   ],
   "source": [
    "cat_distr_pairwise('AdoptionSpeed','AgeGroup', df_processed2, frel=True)"
   ]
  },
  {
   "cell_type": "markdown",
   "metadata": {},
   "source": [
    "The relative distribution of AgeGroups among AdoptionSpeed indicates that there seems to be no particular correlation between being younger and getting adopted earlier. Even without the dicretization we can observe the same phenomena: "
   ]
  },
  {
   "cell_type": "code",
   "execution_count": 16,
   "metadata": {},
   "outputs": [
    {
     "data": {
      "text/plain": [
       "<matplotlib.axes._subplots.AxesSubplot at 0x2be41d17408>"
      ]
     },
     "execution_count": 16,
     "metadata": {},
     "output_type": "execute_result"
    },
    {
     "data": {
      "image/png": "[encoded data removed]",
      "text/plain": [
       "<Figure size 720x1080 with 1 Axes>"
      ]
     },
     "metadata": {},
     "output_type": "display_data"
    }
   ],
   "source": [
    "plt.figure(figsize=(10,15))\n",
    "plt.ylim(0, 260)\n",
    "sns.boxplot(data = df, x='AdoptionSpeed', y='Age')"
   ]
  },
  {
   "cell_type": "markdown",
   "metadata": {},
   "source": [
    "### Breed1 and Breed2\n",
    "\n",
    "According to the breeds feature labels, dogs breeds go from 1 to 240, plus 307, and cats breeds go from 241 to 306. "
   ]
  },
  {
   "cell_type": "code",
   "execution_count": 17,
   "metadata": {},
   "outputs": [
    {
     "data": {
      "image/png": "[encoded data removed]",
      "text/plain": [
       "<Figure size 1944x648 with 1 Axes>"
      ]
     },
     "metadata": {},
     "output_type": "display_data"
    },
    {
     "data": {
      "image/png": "[encoded data removed]",
      "text/plain": [
       "<Figure size 1944x648 with 1 Axes>"
      ]
     },
     "metadata": {},
     "output_type": "display_data"
    }
   ],
   "source": [
    "bx1 = sns.catplot(x=\"Breed1\",data=df, kind='count',height=9, aspect=3)\n",
    "bx2 = sns.catplot(x=\"Breed2\",data=df, kind='count',height=9, aspect=3)"
   ]
  },
  {
   "cell_type": "markdown",
   "metadata": {},
   "source": [
    "Looking at our data, and according to the breeds feature labels, we found some cats with dogs breeds assigned to them (15, 21, 25, 70, 114, 205, 218, 307).\n",
    "Therefore, and given the distribution of pets by breeds in which some breeds are poorly representated perhaps a good idea should be grouping pets by pure-race/mixed-race."
   ]
  },
  {
   "cell_type": "code",
   "execution_count": 18,
   "metadata": {},
   "outputs": [],
   "source": [
    "#Creating new feature: Pure breed\n",
    "l3 =[]\n",
    "for i in range(len(df)):\n",
    "    if df['Breed1'][i]==307 or df['Breed2'][i]==307:\n",
    "        l3.append(0)\n",
    "    elif df['Breed1'][i]!=307 and df['Breed2'][i]==0:\n",
    "        l3.append(1)\n",
    "    elif df['Breed1'][i]==0 and df['Breed2'][i]!=307:\n",
    "        l3.append(1)\n",
    "    elif df['Breed1'][i]==df['Breed2'][i]:\n",
    "        l3.append(1)\n",
    "    else:\n",
    "        l3.append(0)\n",
    "        \n",
    "df_processed2.drop(\"Breed1\",axis=1,inplace=True)\n",
    "df_processed2.drop(\"Breed2\",axis=1,inplace=True) \n",
    "df_processed2.insert(3,'PureBreed',l3) ##INSERT IN DATAFRAME"
   ]
  },
  {
   "cell_type": "code",
   "execution_count": 19,
   "metadata": {},
   "outputs": [
    {
     "name": "stdout",
     "output_type": "stream",
     "text": [
      "Relative gain from AdoptionSpeed=0 (%):\n"
     ]
    },
    {
     "data": {
      "text/html": [
       "<style  type=\"text/css\" >\n",
       "    #T_592b7402_22c1_11ea_bdf3_54271ebed449row0_col0 {\n",
       "            background-color:  white;\n",
       "        }    #T_592b7402_22c1_11ea_bdf3_54271ebed449row0_col1 {\n",
       "            background-color:  white;\n",
       "        }    #T_592b7402_22c1_11ea_bdf3_54271ebed449row1_col0 {\n",
       "            background-color:  red;\n",
       "        }    #T_592b7402_22c1_11ea_bdf3_54271ebed449row1_col1 {\n",
       "            background-color:  green;\n",
       "        }    #T_592b7402_22c1_11ea_bdf3_54271ebed449row2_col0 {\n",
       "            background-color:  green;\n",
       "        }    #T_592b7402_22c1_11ea_bdf3_54271ebed449row2_col1 {\n",
       "            background-color:  red;\n",
       "        }    #T_592b7402_22c1_11ea_bdf3_54271ebed449row3_col0 {\n",
       "            background-color:  green;\n",
       "        }    #T_592b7402_22c1_11ea_bdf3_54271ebed449row3_col1 {\n",
       "            background-color:  red;\n",
       "        }    #T_592b7402_22c1_11ea_bdf3_54271ebed449row4_col0 {\n",
       "            background-color:  green;\n",
       "        }    #T_592b7402_22c1_11ea_bdf3_54271ebed449row4_col1 {\n",
       "            background-color:  red;\n",
       "        }</style><table id=\"T_592b7402_22c1_11ea_bdf3_54271ebed449\" ><thead>    <tr>        <th class=\"blank level0\" ></th>        <th class=\"col_heading level0 col0\" >0</th>        <th class=\"col_heading level0 col1\" >1</th>    </tr></thead><tbody>\n",
       "                <tr>\n",
       "                        <th id=\"T_592b7402_22c1_11ea_bdf3_54271ebed449level0_row0\" class=\"row_heading level0 row0\" >0</th>\n",
       "                        <td id=\"T_592b7402_22c1_11ea_bdf3_54271ebed449row0_col0\" class=\"data row0 col0\" >nan</td>\n",
       "                        <td id=\"T_592b7402_22c1_11ea_bdf3_54271ebed449row0_col1\" class=\"data row0 col1\" >nan</td>\n",
       "            </tr>\n",
       "            <tr>\n",
       "                        <th id=\"T_592b7402_22c1_11ea_bdf3_54271ebed449level0_row1\" class=\"row_heading level0 row1\" >1</th>\n",
       "                        <td id=\"T_592b7402_22c1_11ea_bdf3_54271ebed449row1_col0\" class=\"data row1 col0\" >-3.85362</td>\n",
       "                        <td id=\"T_592b7402_22c1_11ea_bdf3_54271ebed449row1_col1\" class=\"data row1 col1\" >3.49515</td>\n",
       "            </tr>\n",
       "            <tr>\n",
       "                        <th id=\"T_592b7402_22c1_11ea_bdf3_54271ebed449level0_row2\" class=\"row_heading level0 row2\" >2</th>\n",
       "                        <td id=\"T_592b7402_22c1_11ea_bdf3_54271ebed449row2_col0\" class=\"data row2 col0\" >15.5367</td>\n",
       "                        <td id=\"T_592b7402_22c1_11ea_bdf3_54271ebed449row2_col1\" class=\"data row2 col1\" >-12.8427</td>\n",
       "            </tr>\n",
       "            <tr>\n",
       "                        <th id=\"T_592b7402_22c1_11ea_bdf3_54271ebed449level0_row3\" class=\"row_heading level0 row3\" >3</th>\n",
       "                        <td id=\"T_592b7402_22c1_11ea_bdf3_54271ebed449row3_col0\" class=\"data row3 col0\" >25.9202</td>\n",
       "                        <td id=\"T_592b7402_22c1_11ea_bdf3_54271ebed449row3_col1\" class=\"data row3 col1\" >-25.3278</td>\n",
       "            </tr>\n",
       "            <tr>\n",
       "                        <th id=\"T_592b7402_22c1_11ea_bdf3_54271ebed449level0_row4\" class=\"row_heading level0 row4\" >4</th>\n",
       "                        <td id=\"T_592b7402_22c1_11ea_bdf3_54271ebed449row4_col0\" class=\"data row4 col0\" >23.972</td>\n",
       "                        <td id=\"T_592b7402_22c1_11ea_bdf3_54271ebed449row4_col1\" class=\"data row4 col1\" >-22.3732</td>\n",
       "            </tr>\n",
       "    </tbody></table>"
      ],
      "text/plain": [
       "<pandas.io.formats.style.Styler at 0x2be439db588>"
      ]
     },
     "metadata": {},
     "output_type": "display_data"
    },
    {
     "data": {
      "text/plain": [
       "<matplotlib.axes._subplots.AxesSubplot at 0x2be4389cf08>"
      ]
     },
     "execution_count": 19,
     "metadata": {},
     "output_type": "execute_result"
    },
    {
     "data": {
      "image/png": "[encoded data removed]",
      "text/plain": [
       "<Figure size 720x504 with 1 Axes>"
      ]
     },
     "metadata": {},
     "output_type": "display_data"
    }
   ],
   "source": [
    "cat_distr_pairwise('AdoptionSpeed','PureBreed', df_processed2, frel=True)"
   ]
  },
  {
   "cell_type": "markdown",
   "metadata": {},
   "source": [
    "From the plot and relative gain table we conclude that pure breed animals (1) tend to be adopted earlier, whereas mixed breed animals (0) are adopted later."
   ]
  },
  {
   "cell_type": "markdown",
   "metadata": {},
   "source": [
    "### Quantity\n",
    "\n",
    "Number of pets represented in profile"
   ]
  },
  {
   "cell_type": "code",
   "execution_count": 20,
   "metadata": {},
   "outputs": [
    {
     "name": "stdout",
     "output_type": "stream",
     "text": [
      "There are 11565 profiles with a single pet\n",
      "There are 3428 profiles with multiple pets\n"
     ]
    },
    {
     "data": {
      "image/png": "[encoded data removed]",
      "text/plain": [
       "<Figure size 360x360 with 1 Axes>"
      ]
     },
     "metadata": {},
     "output_type": "display_data"
    }
   ],
   "source": [
    "ax3 = sns.catplot(x='Quantity', data=df, kind='count')\n",
    "(ax3.set_axis_labels(\"Quantity\", \"Number of Pets\"))\n",
    "print('There are {} profiles with a single pet'.format((list(df['Quantity'])).count(1)))\n",
    "print('There are {} profiles with multiple pets'.format(len(df['Quantity'])-list(list(df['Quantity'])).count(1)))"
   ]
  },
  {
   "cell_type": "code",
   "execution_count": 21,
   "metadata": {},
   "outputs": [
    {
     "name": "stdout",
     "output_type": "stream",
     "text": [
      "Relative gain from AdoptionSpeed=0 (%):\n"
     ]
    },
    {
     "data": {
      "text/html": [
       "<style  type=\"text/css\" >\n",
       "    #T_59b19ca8_22c1_11ea_8b31_54271ebed449row0_col0 {\n",
       "            background-color:  white;\n",
       "        }    #T_59b19ca8_22c1_11ea_8b31_54271ebed449row0_col1 {\n",
       "            background-color:  white;\n",
       "        }    #T_59b19ca8_22c1_11ea_8b31_54271ebed449row0_col2 {\n",
       "            background-color:  white;\n",
       "        }    #T_59b19ca8_22c1_11ea_8b31_54271ebed449row0_col3 {\n",
       "            background-color:  white;\n",
       "        }    #T_59b19ca8_22c1_11ea_8b31_54271ebed449row0_col4 {\n",
       "            background-color:  white;\n",
       "        }    #T_59b19ca8_22c1_11ea_8b31_54271ebed449row0_col5 {\n",
       "            background-color:  white;\n",
       "        }    #T_59b19ca8_22c1_11ea_8b31_54271ebed449row0_col6 {\n",
       "            background-color:  white;\n",
       "        }    #T_59b19ca8_22c1_11ea_8b31_54271ebed449row0_col7 {\n",
       "            background-color:  white;\n",
       "        }    #T_59b19ca8_22c1_11ea_8b31_54271ebed449row0_col8 {\n",
       "            background-color:  white;\n",
       "        }    #T_59b19ca8_22c1_11ea_8b31_54271ebed449row0_col9 {\n",
       "            background-color:  white;\n",
       "        }    #T_59b19ca8_22c1_11ea_8b31_54271ebed449row0_col10 {\n",
       "            background-color:  white;\n",
       "        }    #T_59b19ca8_22c1_11ea_8b31_54271ebed449row0_col11 {\n",
       "            background-color:  white;\n",
       "        }    #T_59b19ca8_22c1_11ea_8b31_54271ebed449row0_col12 {\n",
       "            background-color:  white;\n",
       "        }    #T_59b19ca8_22c1_11ea_8b31_54271ebed449row0_col13 {\n",
       "            background-color:  white;\n",
       "        }    #T_59b19ca8_22c1_11ea_8b31_54271ebed449row0_col14 {\n",
       "            background-color:  white;\n",
       "        }    #T_59b19ca8_22c1_11ea_8b31_54271ebed449row0_col15 {\n",
       "            background-color:  white;\n",
       "        }    #T_59b19ca8_22c1_11ea_8b31_54271ebed449row0_col16 {\n",
       "            background-color:  white;\n",
       "        }    #T_59b19ca8_22c1_11ea_8b31_54271ebed449row0_col17 {\n",
       "            background-color:  white;\n",
       "        }    #T_59b19ca8_22c1_11ea_8b31_54271ebed449row0_col18 {\n",
       "            background-color:  white;\n",
       "        }    #T_59b19ca8_22c1_11ea_8b31_54271ebed449row1_col0 {\n",
       "            background-color:  red;\n",
       "        }    #T_59b19ca8_22c1_11ea_8b31_54271ebed449row1_col1 {\n",
       "            background-color:  green;\n",
       "        }    #T_59b19ca8_22c1_11ea_8b31_54271ebed449row1_col2 {\n",
       "            background-color:  green;\n",
       "        }    #T_59b19ca8_22c1_11ea_8b31_54271ebed449row1_col3 {\n",
       "            background-color:  green;\n",
       "        }    #T_59b19ca8_22c1_11ea_8b31_54271ebed449row1_col4 {\n",
       "            background-color:  red;\n",
       "        }    #T_59b19ca8_22c1_11ea_8b31_54271ebed449row1_col5 {\n",
       "            background-color:  green;\n",
       "        }    #T_59b19ca8_22c1_11ea_8b31_54271ebed449row1_col6 {\n",
       "            background-color:  green;\n",
       "        }    #T_59b19ca8_22c1_11ea_8b31_54271ebed449row1_col7 {\n",
       "            background-color:  red;\n",
       "        }    #T_59b19ca8_22c1_11ea_8b31_54271ebed449row1_col8 {\n",
       "            background-color:  green;\n",
       "        }    #T_59b19ca8_22c1_11ea_8b31_54271ebed449row1_col9 {\n",
       "            background-color:  red;\n",
       "        }    #T_59b19ca8_22c1_11ea_8b31_54271ebed449row1_col10 {\n",
       "            background-color:  white;\n",
       "        }    #T_59b19ca8_22c1_11ea_8b31_54271ebed449row1_col11 {\n",
       "            background-color:  white;\n",
       "        }    #T_59b19ca8_22c1_11ea_8b31_54271ebed449row1_col12 {\n",
       "            background-color:  white;\n",
       "        }    #T_59b19ca8_22c1_11ea_8b31_54271ebed449row1_col13 {\n",
       "            background-color:  white;\n",
       "        }    #T_59b19ca8_22c1_11ea_8b31_54271ebed449row1_col14 {\n",
       "            background-color:  green;\n",
       "        }    #T_59b19ca8_22c1_11ea_8b31_54271ebed449row1_col15 {\n",
       "            background-color:  white;\n",
       "        }    #T_59b19ca8_22c1_11ea_8b31_54271ebed449row1_col16 {\n",
       "            background-color:  white;\n",
       "        }    #T_59b19ca8_22c1_11ea_8b31_54271ebed449row1_col17 {\n",
       "            background-color:  white;\n",
       "        }    #T_59b19ca8_22c1_11ea_8b31_54271ebed449row1_col18 {\n",
       "            background-color:  green;\n",
       "        }    #T_59b19ca8_22c1_11ea_8b31_54271ebed449row2_col0 {\n",
       "            background-color:  red;\n",
       "        }    #T_59b19ca8_22c1_11ea_8b31_54271ebed449row2_col1 {\n",
       "            background-color:  green;\n",
       "        }    #T_59b19ca8_22c1_11ea_8b31_54271ebed449row2_col2 {\n",
       "            background-color:  red;\n",
       "        }    #T_59b19ca8_22c1_11ea_8b31_54271ebed449row2_col3 {\n",
       "            background-color:  green;\n",
       "        }    #T_59b19ca8_22c1_11ea_8b31_54271ebed449row2_col4 {\n",
       "            background-color:  green;\n",
       "        }    #T_59b19ca8_22c1_11ea_8b31_54271ebed449row2_col5 {\n",
       "            background-color:  green;\n",
       "        }    #T_59b19ca8_22c1_11ea_8b31_54271ebed449row2_col6 {\n",
       "            background-color:  green;\n",
       "        }    #T_59b19ca8_22c1_11ea_8b31_54271ebed449row2_col7 {\n",
       "            background-color:  green;\n",
       "        }    #T_59b19ca8_22c1_11ea_8b31_54271ebed449row2_col8 {\n",
       "            background-color:  green;\n",
       "        }    #T_59b19ca8_22c1_11ea_8b31_54271ebed449row2_col9 {\n",
       "            background-color:  red;\n",
       "        }    #T_59b19ca8_22c1_11ea_8b31_54271ebed449row2_col10 {\n",
       "            background-color:  green;\n",
       "        }    #T_59b19ca8_22c1_11ea_8b31_54271ebed449row2_col11 {\n",
       "            background-color:  green;\n",
       "        }    #T_59b19ca8_22c1_11ea_8b31_54271ebed449row2_col12 {\n",
       "            background-color:  green;\n",
       "        }    #T_59b19ca8_22c1_11ea_8b31_54271ebed449row2_col13 {\n",
       "            background-color:  white;\n",
       "        }    #T_59b19ca8_22c1_11ea_8b31_54271ebed449row2_col14 {\n",
       "            background-color:  green;\n",
       "        }    #T_59b19ca8_22c1_11ea_8b31_54271ebed449row2_col15 {\n",
       "            background-color:  green;\n",
       "        }    #T_59b19ca8_22c1_11ea_8b31_54271ebed449row2_col16 {\n",
       "            background-color:  green;\n",
       "        }    #T_59b19ca8_22c1_11ea_8b31_54271ebed449row2_col17 {\n",
       "            background-color:  white;\n",
       "        }    #T_59b19ca8_22c1_11ea_8b31_54271ebed449row2_col18 {\n",
       "            background-color:  green;\n",
       "        }    #T_59b19ca8_22c1_11ea_8b31_54271ebed449row3_col0 {\n",
       "            background-color:  red;\n",
       "        }    #T_59b19ca8_22c1_11ea_8b31_54271ebed449row3_col1 {\n",
       "            background-color:  green;\n",
       "        }    #T_59b19ca8_22c1_11ea_8b31_54271ebed449row3_col2 {\n",
       "            background-color:  red;\n",
       "        }    #T_59b19ca8_22c1_11ea_8b31_54271ebed449row3_col3 {\n",
       "            background-color:  red;\n",
       "        }    #T_59b19ca8_22c1_11ea_8b31_54271ebed449row3_col4 {\n",
       "            background-color:  green;\n",
       "        }    #T_59b19ca8_22c1_11ea_8b31_54271ebed449row3_col5 {\n",
       "            background-color:  green;\n",
       "        }    #T_59b19ca8_22c1_11ea_8b31_54271ebed449row3_col6 {\n",
       "            background-color:  green;\n",
       "        }    #T_59b19ca8_22c1_11ea_8b31_54271ebed449row3_col7 {\n",
       "            background-color:  green;\n",
       "        }    #T_59b19ca8_22c1_11ea_8b31_54271ebed449row3_col8 {\n",
       "            background-color:  green;\n",
       "        }    #T_59b19ca8_22c1_11ea_8b31_54271ebed449row3_col9 {\n",
       "            background-color:  red;\n",
       "        }    #T_59b19ca8_22c1_11ea_8b31_54271ebed449row3_col10 {\n",
       "            background-color:  green;\n",
       "        }    #T_59b19ca8_22c1_11ea_8b31_54271ebed449row3_col11 {\n",
       "            background-color:  green;\n",
       "        }    #T_59b19ca8_22c1_11ea_8b31_54271ebed449row3_col12 {\n",
       "            background-color:  green;\n",
       "        }    #T_59b19ca8_22c1_11ea_8b31_54271ebed449row3_col13 {\n",
       "            background-color:  white;\n",
       "        }    #T_59b19ca8_22c1_11ea_8b31_54271ebed449row3_col14 {\n",
       "            background-color:  green;\n",
       "        }    #T_59b19ca8_22c1_11ea_8b31_54271ebed449row3_col15 {\n",
       "            background-color:  green;\n",
       "        }    #T_59b19ca8_22c1_11ea_8b31_54271ebed449row3_col16 {\n",
       "            background-color:  green;\n",
       "        }    #T_59b19ca8_22c1_11ea_8b31_54271ebed449row3_col17 {\n",
       "            background-color:  white;\n",
       "        }    #T_59b19ca8_22c1_11ea_8b31_54271ebed449row3_col18 {\n",
       "            background-color:  green;\n",
       "        }    #T_59b19ca8_22c1_11ea_8b31_54271ebed449row4_col0 {\n",
       "            background-color:  red;\n",
       "        }    #T_59b19ca8_22c1_11ea_8b31_54271ebed449row4_col1 {\n",
       "            background-color:  green;\n",
       "        }    #T_59b19ca8_22c1_11ea_8b31_54271ebed449row4_col2 {\n",
       "            background-color:  green;\n",
       "        }    #T_59b19ca8_22c1_11ea_8b31_54271ebed449row4_col3 {\n",
       "            background-color:  green;\n",
       "        }    #T_59b19ca8_22c1_11ea_8b31_54271ebed449row4_col4 {\n",
       "            background-color:  green;\n",
       "        }    #T_59b19ca8_22c1_11ea_8b31_54271ebed449row4_col5 {\n",
       "            background-color:  green;\n",
       "        }    #T_59b19ca8_22c1_11ea_8b31_54271ebed449row4_col6 {\n",
       "            background-color:  green;\n",
       "        }    #T_59b19ca8_22c1_11ea_8b31_54271ebed449row4_col7 {\n",
       "            background-color:  green;\n",
       "        }    #T_59b19ca8_22c1_11ea_8b31_54271ebed449row4_col8 {\n",
       "            background-color:  green;\n",
       "        }    #T_59b19ca8_22c1_11ea_8b31_54271ebed449row4_col9 {\n",
       "            background-color:  green;\n",
       "        }    #T_59b19ca8_22c1_11ea_8b31_54271ebed449row4_col10 {\n",
       "            background-color:  green;\n",
       "        }    #T_59b19ca8_22c1_11ea_8b31_54271ebed449row4_col11 {\n",
       "            background-color:  green;\n",
       "        }    #T_59b19ca8_22c1_11ea_8b31_54271ebed449row4_col12 {\n",
       "            background-color:  green;\n",
       "        }    #T_59b19ca8_22c1_11ea_8b31_54271ebed449row4_col13 {\n",
       "            background-color:  green;\n",
       "        }    #T_59b19ca8_22c1_11ea_8b31_54271ebed449row4_col14 {\n",
       "            background-color:  green;\n",
       "        }    #T_59b19ca8_22c1_11ea_8b31_54271ebed449row4_col15 {\n",
       "            background-color:  green;\n",
       "        }    #T_59b19ca8_22c1_11ea_8b31_54271ebed449row4_col16 {\n",
       "            background-color:  green;\n",
       "        }    #T_59b19ca8_22c1_11ea_8b31_54271ebed449row4_col17 {\n",
       "            background-color:  green;\n",
       "        }    #T_59b19ca8_22c1_11ea_8b31_54271ebed449row4_col18 {\n",
       "            background-color:  green;\n",
       "        }</style><table id=\"T_59b19ca8_22c1_11ea_8b31_54271ebed449\" ><thead>    <tr>        <th class=\"blank level0\" ></th>        <th class=\"col_heading level0 col0\" >1</th>        <th class=\"col_heading level0 col1\" >2</th>        <th class=\"col_heading level0 col2\" >3</th>        <th class=\"col_heading level0 col3\" >4</th>        <th class=\"col_heading level0 col4\" >5</th>        <th class=\"col_heading level0 col5\" >6</th>        <th class=\"col_heading level0 col6\" >7</th>        <th class=\"col_heading level0 col7\" >8</th>        <th class=\"col_heading level0 col8\" >9</th>        <th class=\"col_heading level0 col9\" >10</th>        <th class=\"col_heading level0 col10\" >11</th>        <th class=\"col_heading level0 col11\" >12</th>        <th class=\"col_heading level0 col12\" >13</th>        <th class=\"col_heading level0 col13\" >14</th>        <th class=\"col_heading level0 col14\" >15</th>        <th class=\"col_heading level0 col15\" >16</th>        <th class=\"col_heading level0 col16\" >17</th>        <th class=\"col_heading level0 col17\" >18</th>        <th class=\"col_heading level0 col18\" >20</th>    </tr></thead><tbody>\n",
       "                <tr>\n",
       "                        <th id=\"T_59b19ca8_22c1_11ea_8b31_54271ebed449level0_row0\" class=\"row_heading level0 row0\" >0</th>\n",
       "                        <td id=\"T_59b19ca8_22c1_11ea_8b31_54271ebed449row0_col0\" class=\"data row0 col0\" >nan</td>\n",
       "                        <td id=\"T_59b19ca8_22c1_11ea_8b31_54271ebed449row0_col1\" class=\"data row0 col1\" >nan</td>\n",
       "                        <td id=\"T_59b19ca8_22c1_11ea_8b31_54271ebed449row0_col2\" class=\"data row0 col2\" >nan</td>\n",
       "                        <td id=\"T_59b19ca8_22c1_11ea_8b31_54271ebed449row0_col3\" class=\"data row0 col3\" >nan</td>\n",
       "                        <td id=\"T_59b19ca8_22c1_11ea_8b31_54271ebed449row0_col4\" class=\"data row0 col4\" >nan</td>\n",
       "                        <td id=\"T_59b19ca8_22c1_11ea_8b31_54271ebed449row0_col5\" class=\"data row0 col5\" >nan</td>\n",
       "                        <td id=\"T_59b19ca8_22c1_11ea_8b31_54271ebed449row0_col6\" class=\"data row0 col6\" >nan</td>\n",
       "                        <td id=\"T_59b19ca8_22c1_11ea_8b31_54271ebed449row0_col7\" class=\"data row0 col7\" >nan</td>\n",
       "                        <td id=\"T_59b19ca8_22c1_11ea_8b31_54271ebed449row0_col8\" class=\"data row0 col8\" >nan</td>\n",
       "                        <td id=\"T_59b19ca8_22c1_11ea_8b31_54271ebed449row0_col9\" class=\"data row0 col9\" >nan</td>\n",
       "                        <td id=\"T_59b19ca8_22c1_11ea_8b31_54271ebed449row0_col10\" class=\"data row0 col10\" >nan</td>\n",
       "                        <td id=\"T_59b19ca8_22c1_11ea_8b31_54271ebed449row0_col11\" class=\"data row0 col11\" >nan</td>\n",
       "                        <td id=\"T_59b19ca8_22c1_11ea_8b31_54271ebed449row0_col12\" class=\"data row0 col12\" >nan</td>\n",
       "                        <td id=\"T_59b19ca8_22c1_11ea_8b31_54271ebed449row0_col13\" class=\"data row0 col13\" >nan</td>\n",
       "                        <td id=\"T_59b19ca8_22c1_11ea_8b31_54271ebed449row0_col14\" class=\"data row0 col14\" >nan</td>\n",
       "                        <td id=\"T_59b19ca8_22c1_11ea_8b31_54271ebed449row0_col15\" class=\"data row0 col15\" >nan</td>\n",
       "                        <td id=\"T_59b19ca8_22c1_11ea_8b31_54271ebed449row0_col16\" class=\"data row0 col16\" >nan</td>\n",
       "                        <td id=\"T_59b19ca8_22c1_11ea_8b31_54271ebed449row0_col17\" class=\"data row0 col17\" >nan</td>\n",
       "                        <td id=\"T_59b19ca8_22c1_11ea_8b31_54271ebed449row0_col18\" class=\"data row0 col18\" >nan</td>\n",
       "            </tr>\n",
       "            <tr>\n",
       "                        <th id=\"T_59b19ca8_22c1_11ea_8b31_54271ebed449level0_row1\" class=\"row_heading level0 row1\" >1</th>\n",
       "                        <td id=\"T_59b19ca8_22c1_11ea_8b31_54271ebed449row1_col0\" class=\"data row1 col0\" >-2.2292</td>\n",
       "                        <td id=\"T_59b19ca8_22c1_11ea_8b31_54271ebed449row1_col1\" class=\"data row1 col1\" >9.9399</td>\n",
       "                        <td id=\"T_59b19ca8_22c1_11ea_8b31_54271ebed449row1_col2\" class=\"data row1 col2\" >4.82201</td>\n",
       "                        <td id=\"T_59b19ca8_22c1_11ea_8b31_54271ebed449row1_col3\" class=\"data row1 col3\" >8.19019</td>\n",
       "                        <td id=\"T_59b19ca8_22c1_11ea_8b31_54271ebed449row1_col4\" class=\"data row1 col4\" >-20.3883</td>\n",
       "                        <td id=\"T_59b19ca8_22c1_11ea_8b31_54271ebed449row1_col5\" class=\"data row1 col5\" >284.79</td>\n",
       "                        <td id=\"T_59b19ca8_22c1_11ea_8b31_54271ebed449row1_col6\" class=\"data row1 col6\" >inf</td>\n",
       "                        <td id=\"T_59b19ca8_22c1_11ea_8b31_54271ebed449row1_col7\" class=\"data row1 col7\" >-53.5599</td>\n",
       "                        <td id=\"T_59b19ca8_22c1_11ea_8b31_54271ebed449row1_col8\" class=\"data row1 col8\" >inf</td>\n",
       "                        <td id=\"T_59b19ca8_22c1_11ea_8b31_54271ebed449row1_col9\" class=\"data row1 col9\" >-73.4628</td>\n",
       "                        <td id=\"T_59b19ca8_22c1_11ea_8b31_54271ebed449row1_col10\" class=\"data row1 col10\" >nan</td>\n",
       "                        <td id=\"T_59b19ca8_22c1_11ea_8b31_54271ebed449row1_col11\" class=\"data row1 col11\" >nan</td>\n",
       "                        <td id=\"T_59b19ca8_22c1_11ea_8b31_54271ebed449row1_col12\" class=\"data row1 col12\" >nan</td>\n",
       "                        <td id=\"T_59b19ca8_22c1_11ea_8b31_54271ebed449row1_col13\" class=\"data row1 col13\" >nan</td>\n",
       "                        <td id=\"T_59b19ca8_22c1_11ea_8b31_54271ebed449row1_col14\" class=\"data row1 col14\" >inf</td>\n",
       "                        <td id=\"T_59b19ca8_22c1_11ea_8b31_54271ebed449row1_col15\" class=\"data row1 col15\" >nan</td>\n",
       "                        <td id=\"T_59b19ca8_22c1_11ea_8b31_54271ebed449row1_col16\" class=\"data row1 col16\" >nan</td>\n",
       "                        <td id=\"T_59b19ca8_22c1_11ea_8b31_54271ebed449row1_col17\" class=\"data row1 col17\" >nan</td>\n",
       "                        <td id=\"T_59b19ca8_22c1_11ea_8b31_54271ebed449row1_col18\" class=\"data row1 col18\" >inf</td>\n",
       "            </tr>\n",
       "            <tr>\n",
       "                        <th id=\"T_59b19ca8_22c1_11ea_8b31_54271ebed449level0_row2\" class=\"row_heading level0 row2\" >2</th>\n",
       "                        <td id=\"T_59b19ca8_22c1_11ea_8b31_54271ebed449row2_col0\" class=\"data row2 col0\" >-2.96626</td>\n",
       "                        <td id=\"T_59b19ca8_22c1_11ea_8b31_54271ebed449row2_col1\" class=\"data row2 col1\" >5.48541</td>\n",
       "                        <td id=\"T_59b19ca8_22c1_11ea_8b31_54271ebed449row2_col2\" class=\"data row2 col2\" >-7.49382</td>\n",
       "                        <td id=\"T_59b19ca8_22c1_11ea_8b31_54271ebed449row2_col3\" class=\"data row2 col3\" >1.34035</td>\n",
       "                        <td id=\"T_59b19ca8_22c1_11ea_8b31_54271ebed449row2_col4\" class=\"data row2 col4\" >43.6302</td>\n",
       "                        <td id=\"T_59b19ca8_22c1_11ea_8b31_54271ebed449row2_col5\" class=\"data row2 col5\" >319.398</td>\n",
       "                        <td id=\"T_59b19ca8_22c1_11ea_8b31_54271ebed449row2_col6\" class=\"data row2 col6\" >inf</td>\n",
       "                        <td id=\"T_59b19ca8_22c1_11ea_8b31_54271ebed449row2_col7\" class=\"data row2 col7\" >10.4587</td>\n",
       "                        <td id=\"T_59b19ca8_22c1_11ea_8b31_54271ebed449row2_col8\" class=\"data row2 col8\" >inf</td>\n",
       "                        <td id=\"T_59b19ca8_22c1_11ea_8b31_54271ebed449row2_col9\" class=\"data row2 col9\" >-58.6498</td>\n",
       "                        <td id=\"T_59b19ca8_22c1_11ea_8b31_54271ebed449row2_col10\" class=\"data row2 col10\" >inf</td>\n",
       "                        <td id=\"T_59b19ca8_22c1_11ea_8b31_54271ebed449row2_col11\" class=\"data row2 col11\" >inf</td>\n",
       "                        <td id=\"T_59b19ca8_22c1_11ea_8b31_54271ebed449row2_col12\" class=\"data row2 col12\" >inf</td>\n",
       "                        <td id=\"T_59b19ca8_22c1_11ea_8b31_54271ebed449row2_col13\" class=\"data row2 col13\" >nan</td>\n",
       "                        <td id=\"T_59b19ca8_22c1_11ea_8b31_54271ebed449row2_col14\" class=\"data row2 col14\" >inf</td>\n",
       "                        <td id=\"T_59b19ca8_22c1_11ea_8b31_54271ebed449row2_col15\" class=\"data row2 col15\" >inf</td>\n",
       "                        <td id=\"T_59b19ca8_22c1_11ea_8b31_54271ebed449row2_col16\" class=\"data row2 col16\" >inf</td>\n",
       "                        <td id=\"T_59b19ca8_22c1_11ea_8b31_54271ebed449row2_col17\" class=\"data row2 col17\" >nan</td>\n",
       "                        <td id=\"T_59b19ca8_22c1_11ea_8b31_54271ebed449row2_col18\" class=\"data row2 col18\" >inf</td>\n",
       "            </tr>\n",
       "            <tr>\n",
       "                        <th id=\"T_59b19ca8_22c1_11ea_8b31_54271ebed449level0_row3\" class=\"row_heading level0 row3\" >3</th>\n",
       "                        <td id=\"T_59b19ca8_22c1_11ea_8b31_54271ebed449row3_col0\" class=\"data row3 col0\" >-3.02246</td>\n",
       "                        <td id=\"T_59b19ca8_22c1_11ea_8b31_54271ebed449row3_col1\" class=\"data row3 col1\" >10.5374</td>\n",
       "                        <td id=\"T_59b19ca8_22c1_11ea_8b31_54271ebed449row3_col2\" class=\"data row3 col2\" >-6.20593</td>\n",
       "                        <td id=\"T_59b19ca8_22c1_11ea_8b31_54271ebed449row3_col3\" class=\"data row3 col3\" >-5.51533</td>\n",
       "                        <td id=\"T_59b19ca8_22c1_11ea_8b31_54271ebed449row3_col4\" class=\"data row3 col4\" >33.0936</td>\n",
       "                        <td id=\"T_59b19ca8_22c1_11ea_8b31_54271ebed449row3_col5\" class=\"data row3 col5\" >311.695</td>\n",
       "                        <td id=\"T_59b19ca8_22c1_11ea_8b31_54271ebed449row3_col6\" class=\"data row3 col6\" >inf</td>\n",
       "                        <td id=\"T_59b19ca8_22c1_11ea_8b31_54271ebed449row3_col7\" class=\"data row3 col7\" >9.55656</td>\n",
       "                        <td id=\"T_59b19ca8_22c1_11ea_8b31_54271ebed449row3_col8\" class=\"data row3 col8\" >inf</td>\n",
       "                        <td id=\"T_59b19ca8_22c1_11ea_8b31_54271ebed449row3_col9\" class=\"data row3 col9\" >-76.0682</td>\n",
       "                        <td id=\"T_59b19ca8_22c1_11ea_8b31_54271ebed449row3_col10\" class=\"data row3 col10\" >inf</td>\n",
       "                        <td id=\"T_59b19ca8_22c1_11ea_8b31_54271ebed449row3_col11\" class=\"data row3 col11\" >inf</td>\n",
       "                        <td id=\"T_59b19ca8_22c1_11ea_8b31_54271ebed449row3_col12\" class=\"data row3 col12\" >inf</td>\n",
       "                        <td id=\"T_59b19ca8_22c1_11ea_8b31_54271ebed449row3_col13\" class=\"data row3 col13\" >nan</td>\n",
       "                        <td id=\"T_59b19ca8_22c1_11ea_8b31_54271ebed449row3_col14\" class=\"data row3 col14\" >inf</td>\n",
       "                        <td id=\"T_59b19ca8_22c1_11ea_8b31_54271ebed449row3_col15\" class=\"data row3 col15\" >inf</td>\n",
       "                        <td id=\"T_59b19ca8_22c1_11ea_8b31_54271ebed449row3_col16\" class=\"data row3 col16\" >inf</td>\n",
       "                        <td id=\"T_59b19ca8_22c1_11ea_8b31_54271ebed449row3_col17\" class=\"data row3 col17\" >nan</td>\n",
       "                        <td id=\"T_59b19ca8_22c1_11ea_8b31_54271ebed449row3_col18\" class=\"data row3 col18\" >inf</td>\n",
       "            </tr>\n",
       "            <tr>\n",
       "                        <th id=\"T_59b19ca8_22c1_11ea_8b31_54271ebed449level0_row4\" class=\"row_heading level0 row4\" >4</th>\n",
       "                        <td id=\"T_59b19ca8_22c1_11ea_8b31_54271ebed449row4_col0\" class=\"data row4 col0\" >-9.30609</td>\n",
       "                        <td id=\"T_59b19ca8_22c1_11ea_8b31_54271ebed449row4_col1\" class=\"data row4 col1\" >18.7931</td>\n",
       "                        <td id=\"T_59b19ca8_22c1_11ea_8b31_54271ebed449row4_col2\" class=\"data row4 col2\" >8.69613</td>\n",
       "                        <td id=\"T_59b19ca8_22c1_11ea_8b31_54271ebed449row4_col3\" class=\"data row4 col3\" >43.3819</td>\n",
       "                        <td id=\"T_59b19ca8_22c1_11ea_8b31_54271ebed449row4_col4\" class=\"data row4 col4\" >87.2003</td>\n",
       "                        <td id=\"T_59b19ca8_22c1_11ea_8b31_54271ebed449row4_col5\" class=\"data row4 col5\" >346.562</td>\n",
       "                        <td id=\"T_59b19ca8_22c1_11ea_8b31_54271ebed449row4_col6\" class=\"data row4 col6\" >inf</td>\n",
       "                        <td id=\"T_59b19ca8_22c1_11ea_8b31_54271ebed449row4_col7\" class=\"data row4 col7\" >13.0908</td>\n",
       "                        <td id=\"T_59b19ca8_22c1_11ea_8b31_54271ebed449row4_col8\" class=\"data row4 col8\" >inf</td>\n",
       "                        <td id=\"T_59b19ca8_22c1_11ea_8b31_54271ebed449row4_col9\" class=\"data row4 col9\" >251.011</td>\n",
       "                        <td id=\"T_59b19ca8_22c1_11ea_8b31_54271ebed449row4_col10\" class=\"data row4 col10\" >inf</td>\n",
       "                        <td id=\"T_59b19ca8_22c1_11ea_8b31_54271ebed449row4_col11\" class=\"data row4 col11\" >inf</td>\n",
       "                        <td id=\"T_59b19ca8_22c1_11ea_8b31_54271ebed449row4_col12\" class=\"data row4 col12\" >inf</td>\n",
       "                        <td id=\"T_59b19ca8_22c1_11ea_8b31_54271ebed449row4_col13\" class=\"data row4 col13\" >inf</td>\n",
       "                        <td id=\"T_59b19ca8_22c1_11ea_8b31_54271ebed449row4_col14\" class=\"data row4 col14\" >inf</td>\n",
       "                        <td id=\"T_59b19ca8_22c1_11ea_8b31_54271ebed449row4_col15\" class=\"data row4 col15\" >inf</td>\n",
       "                        <td id=\"T_59b19ca8_22c1_11ea_8b31_54271ebed449row4_col16\" class=\"data row4 col16\" >inf</td>\n",
       "                        <td id=\"T_59b19ca8_22c1_11ea_8b31_54271ebed449row4_col17\" class=\"data row4 col17\" >inf</td>\n",
       "                        <td id=\"T_59b19ca8_22c1_11ea_8b31_54271ebed449row4_col18\" class=\"data row4 col18\" >inf</td>\n",
       "            </tr>\n",
       "    </tbody></table>"
      ],
      "text/plain": [
       "<pandas.io.formats.style.Styler at 0x2be421a8848>"
      ]
     },
     "metadata": {},
     "output_type": "display_data"
    },
    {
     "data": {
      "image/png": "[encoded data removed]",
      "text/plain": [
       "<Figure size 720x504 with 1 Axes>"
      ]
     },
     "metadata": {},
     "output_type": "display_data"
    }
   ],
   "source": [
    "ste = cat_distr_pairwise('AdoptionSpeed','Quantity', df, frel=True)"
   ]
  },
  {
   "cell_type": "markdown",
   "metadata": {},
   "source": [
    "The \"inf\" values on the table indicate that there are no examples of a pet with AdoptionSpeed=0 for that feature instance. Therefore, all positive relative gains are 'infinite'.\n",
    "\n",
    "We can conclude that adds containing more than 5 pets could be more likely to be ignored, since those pets are adopted after a long time."
   ]
  },
  {
   "cell_type": "markdown",
   "metadata": {},
   "source": [
    "### Fee\n",
    "\n",
    "After observing the fees distribution we considered 4 categories: \n",
    "* Free => 0\n",
    "* Tens => 1\n",
    "* Hundreds => 2\n",
    "* Thousands => 3\n"
   ]
  },
  {
   "cell_type": "code",
   "execution_count": 22,
   "metadata": {},
   "outputs": [],
   "source": [
    "f=[]\n",
    "for i in df[\"Fee\"]:\n",
    "    if i==0:\n",
    "        f.append(0)\n",
    "    elif i<100:\n",
    "        f.append(1)\n",
    "    elif i<1000:\n",
    "        f.append(2)\n",
    "    else:\n",
    "        f.append(3)\n",
    "\n",
    "df_processed2.drop(\"Fee\",axis=1,inplace=True) \n",
    "df_processed2.insert(4,'Free',f) ##INSERT IN DATAFRAME"
   ]
  },
  {
   "cell_type": "code",
   "execution_count": 23,
   "metadata": {},
   "outputs": [
    {
     "name": "stdout",
     "output_type": "stream",
     "text": [
      "Relative gain from AdoptionSpeed=0 (%):\n"
     ]
    },
    {
     "data": {
      "text/html": [
       "<style  type=\"text/css\" >\n",
       "    #T_5a1e8068_22c1_11ea_8776_54271ebed449row0_col0 {\n",
       "            background-color:  white;\n",
       "        }    #T_5a1e8068_22c1_11ea_8776_54271ebed449row0_col1 {\n",
       "            background-color:  white;\n",
       "        }    #T_5a1e8068_22c1_11ea_8776_54271ebed449row0_col2 {\n",
       "            background-color:  white;\n",
       "        }    #T_5a1e8068_22c1_11ea_8776_54271ebed449row0_col3 {\n",
       "            background-color:  white;\n",
       "        }    #T_5a1e8068_22c1_11ea_8776_54271ebed449row1_col0 {\n",
       "            background-color:  red;\n",
       "        }    #T_5a1e8068_22c1_11ea_8776_54271ebed449row1_col1 {\n",
       "            background-color:  green;\n",
       "        }    #T_5a1e8068_22c1_11ea_8776_54271ebed449row1_col2 {\n",
       "            background-color:  green;\n",
       "        }    #T_5a1e8068_22c1_11ea_8776_54271ebed449row1_col3 {\n",
       "            background-color:  red;\n",
       "        }    #T_5a1e8068_22c1_11ea_8776_54271ebed449row2_col0 {\n",
       "            background-color:  red;\n",
       "        }    #T_5a1e8068_22c1_11ea_8776_54271ebed449row2_col1 {\n",
       "            background-color:  green;\n",
       "        }    #T_5a1e8068_22c1_11ea_8776_54271ebed449row2_col2 {\n",
       "            background-color:  green;\n",
       "        }    #T_5a1e8068_22c1_11ea_8776_54271ebed449row2_col3 {\n",
       "            background-color:  red;\n",
       "        }    #T_5a1e8068_22c1_11ea_8776_54271ebed449row3_col0 {\n",
       "            background-color:  red;\n",
       "        }    #T_5a1e8068_22c1_11ea_8776_54271ebed449row3_col1 {\n",
       "            background-color:  green;\n",
       "        }    #T_5a1e8068_22c1_11ea_8776_54271ebed449row3_col2 {\n",
       "            background-color:  red;\n",
       "        }    #T_5a1e8068_22c1_11ea_8776_54271ebed449row3_col3 {\n",
       "            background-color:  red;\n",
       "        }    #T_5a1e8068_22c1_11ea_8776_54271ebed449row4_col0 {\n",
       "            background-color:  red;\n",
       "        }    #T_5a1e8068_22c1_11ea_8776_54271ebed449row4_col1 {\n",
       "            background-color:  green;\n",
       "        }    #T_5a1e8068_22c1_11ea_8776_54271ebed449row4_col2 {\n",
       "            background-color:  green;\n",
       "        }    #T_5a1e8068_22c1_11ea_8776_54271ebed449row4_col3 {\n",
       "            background-color:  red;\n",
       "        }</style><table id=\"T_5a1e8068_22c1_11ea_8776_54271ebed449\" ><thead>    <tr>        <th class=\"blank level0\" ></th>        <th class=\"col_heading level0 col0\" >0</th>        <th class=\"col_heading level0 col1\" >1</th>        <th class=\"col_heading level0 col2\" >2</th>        <th class=\"col_heading level0 col3\" >3</th>    </tr></thead><tbody>\n",
       "                <tr>\n",
       "                        <th id=\"T_5a1e8068_22c1_11ea_8776_54271ebed449level0_row0\" class=\"row_heading level0 row0\" >0</th>\n",
       "                        <td id=\"T_5a1e8068_22c1_11ea_8776_54271ebed449row0_col0\" class=\"data row0 col0\" >nan</td>\n",
       "                        <td id=\"T_5a1e8068_22c1_11ea_8776_54271ebed449row0_col1\" class=\"data row0 col1\" >nan</td>\n",
       "                        <td id=\"T_5a1e8068_22c1_11ea_8776_54271ebed449row0_col2\" class=\"data row0 col2\" >nan</td>\n",
       "                        <td id=\"T_5a1e8068_22c1_11ea_8776_54271ebed449row0_col3\" class=\"data row0 col3\" >nan</td>\n",
       "            </tr>\n",
       "            <tr>\n",
       "                        <th id=\"T_5a1e8068_22c1_11ea_8776_54271ebed449level0_row1\" class=\"row_heading level0 row1\" >1</th>\n",
       "                        <td id=\"T_5a1e8068_22c1_11ea_8776_54271ebed449row1_col0\" class=\"data row1 col0\" >-2.95704</td>\n",
       "                        <td id=\"T_5a1e8068_22c1_11ea_8776_54271ebed449row1_col1\" class=\"data row1 col1\" >50.5987</td>\n",
       "                        <td id=\"T_5a1e8068_22c1_11ea_8776_54271ebed449row1_col2\" class=\"data row1 col2\" >3.661</td>\n",
       "                        <td id=\"T_5a1e8068_22c1_11ea_8776_54271ebed449row1_col3\" class=\"data row1 col3\" >-73.4628</td>\n",
       "            </tr>\n",
       "            <tr>\n",
       "                        <th id=\"T_5a1e8068_22c1_11ea_8776_54271ebed449level0_row2\" class=\"row_heading level0 row2\" >2</th>\n",
       "                        <td id=\"T_5a1e8068_22c1_11ea_8776_54271ebed449row2_col0\" class=\"data row2 col0\" >-2.40591</td>\n",
       "                        <td id=\"T_5a1e8068_22c1_11ea_8776_54271ebed449row2_col1\" class=\"data row2 col1\" >45.0117</td>\n",
       "                        <td id=\"T_5a1e8068_22c1_11ea_8776_54271ebed449row2_col2\" class=\"data row2 col2\" >3.16559</td>\n",
       "                        <td id=\"T_5a1e8068_22c1_11ea_8776_54271ebed449row2_col3\" class=\"data row2 col3\" >-96.9208</td>\n",
       "            </tr>\n",
       "            <tr>\n",
       "                        <th id=\"T_5a1e8068_22c1_11ea_8776_54271ebed449level0_row3\" class=\"row_heading level0 row3\" >3</th>\n",
       "                        <td id=\"T_5a1e8068_22c1_11ea_8776_54271ebed449row3_col0\" class=\"data row3 col0\" >-1.68287</td>\n",
       "                        <td id=\"T_5a1e8068_22c1_11ea_8776_54271ebed449row3_col1\" class=\"data row3 col1\" >41.4552</td>\n",
       "                        <td id=\"T_5a1e8068_22c1_11ea_8776_54271ebed449row3_col2\" class=\"data row3 col2\" >-1.16684</td>\n",
       "                        <td id=\"T_5a1e8068_22c1_11ea_8776_54271ebed449row3_col3\" class=\"data row3 col3\" >-134.985</td>\n",
       "            </tr>\n",
       "            <tr>\n",
       "                        <th id=\"T_5a1e8068_22c1_11ea_8776_54271ebed449level0_row4\" class=\"row_heading level0 row4\" >4</th>\n",
       "                        <td id=\"T_5a1e8068_22c1_11ea_8776_54271ebed449row4_col0\" class=\"data row4 col0\" >-4.90487</td>\n",
       "                        <td id=\"T_5a1e8068_22c1_11ea_8776_54271ebed449row4_col1\" class=\"data row4 col1\" >54.3693</td>\n",
       "                        <td id=\"T_5a1e8068_22c1_11ea_8776_54271ebed449row4_col2\" class=\"data row4 col2\" >23.8168</td>\n",
       "                        <td id=\"T_5a1e8068_22c1_11ea_8776_54271ebed449row4_col3\" class=\"data row4 col3\" >-234.985</td>\n",
       "            </tr>\n",
       "    </tbody></table>"
      ],
      "text/plain": [
       "<pandas.io.formats.style.Styler at 0x2be448e1288>"
      ]
     },
     "metadata": {},
     "output_type": "display_data"
    },
    {
     "data": {
      "image/png": "[encoded data removed]",
      "text/plain": [
       "<Figure size 720x504 with 1 Axes>"
      ]
     },
     "metadata": {},
     "output_type": "display_data"
    }
   ],
   "source": [
    "fee = cat_distr_pairwise('AdoptionSpeed','Free', df_processed2, frel=True)"
   ]
  },
  {
   "cell_type": "markdown",
   "metadata": {},
   "source": [
    "It seems that pets with fees in the order of the thousands are less likely to be adopted fast."
   ]
  },
  {
   "cell_type": "markdown",
   "metadata": {},
   "source": [
    "### RescuerID\n",
    "\n",
    "In order to extract some meaning from the 'RescuerID', we decided to create a new feature \"FrequentRescuer\" which indicates whether it is frequent for rescuers to save and advertise pets."
   ]
  },
  {
   "cell_type": "code",
   "execution_count": 24,
   "metadata": {},
   "outputs": [
    {
     "name": "stdout",
     "output_type": "stream",
     "text": [
      "There are 5595 total rescuers in the dataset\n",
      "There are 3783 rescuers with only 1 webpage entry in the dataset\n",
      "There are 1812 rescuers with more than 1 webpage entry in the dataset\n"
     ]
    },
    {
     "data": {
      "text/plain": [
       "<seaborn.axisgrid.FacetGrid at 0x2be44aae2c8>"
      ]
     },
     "execution_count": 24,
     "metadata": {},
     "output_type": "execute_result"
    },
    {
     "data": {
      "image/png": "[encoded data removed]",
      "text/plain": [
       "<Figure size 1080x360 with 1 Axes>"
      ]
     },
     "metadata": {},
     "output_type": "display_data"
    }
   ],
   "source": [
    "x = list(df['RescuerID'].unique())\n",
    "y = list(df['RescuerID'])\n",
    "z = []\n",
    "t = {}\n",
    "for i in x:\n",
    "    z.append(y.count(i))\n",
    "\n",
    "t['Rescuer'] = x\n",
    "t['entries'] = z\n",
    "\n",
    "e = pd.DataFrame(t)\n",
    "print('There are {} total rescuers in the dataset'.format(len(x)))\n",
    "print('There are {} rescuers with only 1 webpage entry in the dataset'.format(z.count(1)))\n",
    "print('There are {} rescuers with more than 1 webpage entry in the dataset'.format(len(x)-(z.count(1))))\n",
    "ax11 = sns.catplot(x='entries', data=e, kind='count', height=5, aspect=3)\n",
    "(ax11.set_axis_labels(\"Web page entries\", \"Number of Rescuers\")\n",
    "    .set_titles(\"{col_name} {col_var}\")\n",
    "    .despine(left=True))  "
   ]
  },
  {
   "cell_type": "markdown",
   "metadata": {},
   "source": [
    "According to the dataset, the number of rescuers with a single entry in the MyPet webpage is greater than the number of rescuers who save and advertise more than 1 pet. This information could be useful on later anaylsis to discover whether the number of webpage profile entries associated with a rescuer has any interference in pet's apoption or adoption speed."
   ]
  },
  {
   "cell_type": "code",
   "execution_count": 25,
   "metadata": {},
   "outputs": [],
   "source": [
    "#CREATE NEW FEATURE FREQUENTRESCUER\n",
    "\n",
    "lista2 = []\n",
    "y = list(df['RescuerID'])\n",
    "for i in df['RescuerID']:\n",
    "      if y.count(i)>1:\n",
    "          lista2.append(float(1))\n",
    "      else:\n",
    "          lista2.append(float(0))\n",
    "          \n",
    "df_processed1.insert((df.columns.get_loc(\"RescuerID\"))+1,'FrequentRescuer',lista2) ##INSERT IN DATAFRAME\n",
    "df_processed1.drop(\"RescuerID\", axis=1, inplace=True)\n",
    "\n",
    "df_processed2.insert((df.columns.get_loc(\"RescuerID\"))+1,'FrequentRescuer',lista2) ##INSERT IN DATAFRAME\n",
    "df_processed2.drop(\"RescuerID\", axis=1, inplace=True)"
   ]
  },
  {
   "cell_type": "markdown",
   "metadata": {},
   "source": [
    "### VideoAmt"
   ]
  },
  {
   "cell_type": "code",
   "execution_count": 26,
   "metadata": {},
   "outputs": [
    {
     "name": "stdout",
     "output_type": "stream",
     "text": [
      "There are 14419 profiles with 0 videos\n",
      "There are 574 profiles with more than 0 videos\n"
     ]
    },
    {
     "data": {
      "image/png": "[encoded data removed]",
      "text/plain": [
       "<Figure size 360x360 with 1 Axes>"
      ]
     },
     "metadata": {},
     "output_type": "display_data"
    }
   ],
   "source": [
    "ax2 = sns.catplot(x='VideoAmt', data=df, kind='count')\n",
    "(ax2.set_axis_labels(\"Video Amount\", \"Number of Pets\"))\n",
    "print('There are {} profiles with 0 videos'.format((list(df['VideoAmt'])).count(0)))\n",
    "print('There are {} profiles with more than 0 videos'.format(len(df['VideoAmt'])-list(list(df['VideoAmt'])).count(0)))"
   ]
  },
  {
   "cell_type": "markdown",
   "metadata": {},
   "source": [
    "Given the distribution of pets, we will consider this feature as binary: has Video (1) or does not have Video (0)."
   ]
  },
  {
   "cell_type": "code",
   "execution_count": 27,
   "metadata": {},
   "outputs": [],
   "source": [
    "hasVideo=[]\n",
    "\n",
    "for v in df['VideoAmt']:\n",
    "    if v==0:\n",
    "        hasVideo.append(0)\n",
    "    else:\n",
    "        hasVideo.append(1)\n",
    "        \n",
    "df_processed2.drop(\"VideoAmt\", axis=1,inplace=True)\n",
    "df_processed2.insert(5,\"hasVideo\",hasVideo) ##INSERT IN DATAFRAME"
   ]
  },
  {
   "cell_type": "markdown",
   "metadata": {},
   "source": [
    "### Description\n",
    "\n",
    "In order to extract some meaning from the 'Description', we decided, as a first approach, to partition this continuous feature into discrete values.\n",
    "\n",
    "Since empty descriptions (size=0) probably have a direct influence in the adoption choice, it should be a category of its own. For that reason, we exclude empty descriptions from the discretization procces.\n",
    "\n",
    "We consider that the discretization of the 'description sizes' based on the quantiles strategy is appropriate, since it is plausible to say that the ad writers define what a 'medium' size description is. In that sense, a 'medium' sized description would have the average word count. In analogy, the smallest and largest descriptions would correspond to the first and third quantiles."
   ]
  },
  {
   "cell_type": "code",
   "execution_count": 28,
   "metadata": {},
   "outputs": [
    {
     "name": "stdout",
     "output_type": "stream",
     "text": [
      "The average descripton size: 62.953645034349364\n",
      "According to this discretization, the bin edges should be:\n",
      "[array([   0.,   28.,   65., 1257.])]\n"
     ]
    },
    {
     "data": {
      "image/png": "[encoded data removed]",
      "text/plain": [
       "<Figure size 1080x360 with 1 Axes>"
      ]
     },
     "metadata": {},
     "output_type": "display_data"
    }
   ],
   "source": [
    "import matplotlib.pyplot as plt\n",
    "import math\n",
    "from sklearn import preprocessing\n",
    "import statistics \n",
    "\n",
    "l=[]\n",
    "\n",
    "# List descriptions' lengths (i.e. number of char)\n",
    "for i in df['Description']:\n",
    "    if type(i)!=str: # Some empty descriptions are type:float\n",
    "        l.append(0)\n",
    "    else:\n",
    "        l.append(len(i.split()))\n",
    "\n",
    "mean = statistics.mean(l)\n",
    "print(\"The average descripton size:\" , mean)\n",
    "\n",
    "# Histogram\n",
    "a1 = np.asarray(l)\n",
    "nr_bins = 1 + 3.322*math.log(len(l),2) # Number of bins according to Sturges rule\n",
    "a1 = pd.Series(a1)\n",
    "a1.plot.hist(grid=True, bins = round(nr_bins), rwidth=0.9, color='#607c8e')\n",
    "plt.title('Description size distribution')\n",
    "plt.xlabel('Description size (# words)')\n",
    "plt.ylabel('Counts')\n",
    "plt.grid(axis='y', alpha=0.75)\n",
    "plt.xlim([0.0,1300])\n",
    "\n",
    "# Discretization by quantile strategy:\n",
    "a2 = np.asarray(l).reshape(-1,1) # Reshape data since we are working with just one feature\n",
    "est = preprocessing.KBinsDiscretizer(n_bins=[3],encode='ordinal', strategy='quantile').fit(a2)\n",
    "decp = est.transform(a2)\n",
    "\n",
    "print(\"According to this discretization, the bin edges should be:\")\n",
    "print(est.bin_edges_) # how the data is distributed in the four bins"
   ]
  },
  {
   "cell_type": "markdown",
   "metadata": {},
   "source": [
    "Based on these results, we present a new feature 'DescriptionSize' whose possible values include:\n",
    "* 'Empty' for descriptions containing 0 words => 0\n",
    "* 'Small' for descriptions containing 1-28 words => 1\n",
    "* 'Medium' for descriptions containing 29-65 words => 2\n",
    "* 'Large' for descriptions containing 66-1257 words => 3"
   ]
  },
  {
   "cell_type": "code",
   "execution_count": 29,
   "metadata": {},
   "outputs": [],
   "source": [
    "#Create new feature 'Description size'\n",
    "d = []\n",
    "\n",
    "for i in df['Description']:\n",
    "    if type(i)!=str: # Some empty descriptions are type:float\n",
    "        d.append(0)\n",
    "    else:\n",
    "        a= len(i.split())\n",
    "        if a<29:\n",
    "            d.append(1)\n",
    "        elif a<66:\n",
    "            d.append(2)\n",
    "        else:\n",
    "            d.append(3)\n",
    "         \n",
    "df_processed1.drop(\"Description\", axis=1, inplace=True)\n",
    "df_processed1.insert(6,\"DescriptionSize\",l) ##INSERT IN DATAFRAME\n",
    "\n",
    "df_processed2.drop(\"Description\", axis=1, inplace=True)\n",
    "df_processed2.insert(6,\"DescriptionSize\",d) ##INSERT IN DATAFRAME"
   ]
  },
  {
   "cell_type": "markdown",
   "metadata": {},
   "source": [
    "### Other conclusions\n",
    "* Pets with maturity size 'Small' (1) and 'Extra Large'(4) are less likely to be in the adoption centre for a very long time (-45.0552% and -97.3772 of pets at AdoptionSpeed=4 relatively to AdoptionSpeed=1, respectively). \n",
    "* Pets with long fur(3) very rarely stay at the adoption centre for a long time (-116.814% of pets at AdoptionSpeed=4 relatively to AdoptionSpeed=1).\n",
    "* Sterilized pets tend to be adopted later (+82.13% of pets at AdoptionSpeed=4 relatively to AdoptionSpeed=1).\n",
    "* Pets with serious injuries (Health=3) are very more likely to be adopted after a long time, or not adopted at all (+182.091% of pets at AdoptionSpeed=4 relatively to AdoptionSpeed=1). \n",
    "* No pets were adopted in the same day having the add not provide a description!\n",
    "* There was no clear evidence that the distribution of the features values among AdoptionSpeed classes was biased for features Gender, Vaccinated, Dewormed, States, FrequentRescuer."
   ]
  },
  {
   "cell_type": "markdown",
   "metadata": {},
   "source": [
    "## Task 1 (Supervised Learning) - Predicting Adoption and Adoption Speed"
   ]
  },
  {
   "cell_type": "markdown",
   "metadata": {},
   "source": [
    "## 1.1. Preprocessing Data for Classification"
   ]
  },
  {
   "cell_type": "markdown",
   "metadata": {},
   "source": [
    "During our EDA we already preprocessed some of the features, for data visualization purposes. The result are two datasets:\n",
    "* **df_processed1**: which we will use to benchmark the models' performance without the discretization of features discussed earlier, since they can remove the fine grain information that might be beneficial to the learning proccess. Some data cleaning was done, namely in features PetID, Name, RescuerID and DescriptionSize (in words, instead of text Description).\n",
    "\n",
    "* **df_processed2**: which is the data set with the derived features and data cleaning. We will see if the dicretization will be helpful for the models or not."
   ]
  },
  {
   "cell_type": "markdown",
   "metadata": {},
   "source": [
    "### Features impact\n",
    "\n",
    "Now that we have preprocessed our features, one way to determine the impact of each one on prediction models is to apply a random forest. Based on that information, we will  discard some features that have low impact and are probably causing noise.\n",
    "\n",
    "Bellow we have a function that will apply a random forest model to any data set.\n",
    "Code obtained from: <https://towardsdatascience.com/running-random-forests-inspect-the-feature-importances-with-this-code-2b00dd72b92e>"
   ]
  },
  {
   "cell_type": "code",
   "execution_count": 30,
   "metadata": {},
   "outputs": [],
   "source": [
    "from sklearn.ensemble import RandomForestClassifier \n",
    "\n",
    "def random_forest(df_x, df_y, test_size):\n",
    "  X_train, X_test, y_train, y_test = train_test_split(df_x, df_y, test_size=test_size, random_state=12)\n",
    "  rf = RandomForestClassifier() \n",
    "  rf.fit(X_train, y_train) \n",
    "  score = rf.score(X_test, y_test)\n",
    "  feature_importance = pd.DataFrame(rf.feature_importances_, index = df_x.columns, columns=['importance']).sort_values('importance',ascending=False).reset_index().rename(columns = {'index':'column'})\n",
    "  return score, feature_importance"
   ]
  },
  {
   "cell_type": "markdown",
   "metadata": {},
   "source": [
    "Original features importance (df_processed1):"
   ]
  },
  {
   "cell_type": "code",
   "execution_count": 31,
   "metadata": {},
   "outputs": [
    {
     "name": "stdout",
     "output_type": "stream",
     "text": [
      "Score:  0.41180393464488163\n",
      "             column  importance\n",
      "0   DescriptionSize    0.158703\n",
      "1               Age    0.100991\n",
      "2          PhotoAmt    0.099294\n",
      "3            Breed1    0.065799\n",
      "4            Color2    0.063698\n",
      "5            Color1    0.061982\n",
      "6             State    0.052892\n",
      "7            Breed2    0.043478\n",
      "8            Gender    0.039592\n",
      "9         FurLength    0.036499\n",
      "10         Quantity    0.033220\n",
      "11           Color3    0.032527\n",
      "12              Fee    0.032130\n",
      "13     MaturitySize    0.032089\n",
      "14         Dewormed    0.029213\n",
      "15       Vaccinated    0.027122\n",
      "16       Sterilized    0.026809\n",
      "17  FrequentRescuer    0.020059\n",
      "18          hasName    0.016501\n",
      "19             Type    0.009981\n",
      "20         VideoAmt    0.009587\n",
      "21           Health    0.007835\n"
     ]
    }
   ],
   "source": [
    "score1, feature_importances1 = random_forest(\n",
    "    df_processed1[df_processed1.columns.difference(['AdoptionSpeed'])],\n",
    "    df_processed1['AdoptionSpeed'],\n",
    "    0.2)\n",
    "print(\"Score: \",score1)\n",
    "print(feature_importances1)"
   ]
  },
  {
   "cell_type": "markdown",
   "metadata": {},
   "source": [
    "Extracted features importance :"
   ]
  },
  {
   "cell_type": "code",
   "execution_count": 32,
   "metadata": {},
   "outputs": [
    {
     "name": "stdout",
     "output_type": "stream",
     "text": [
      "Score:  0.3741247082360787\n",
      "             column  importance\n",
      "0          PhotoAmt    0.152446\n",
      "1            Color2    0.092262\n",
      "2            Color1    0.092177\n",
      "3             State    0.074748\n",
      "4   DescriptionSize    0.072510\n",
      "5            Gender    0.051724\n",
      "6         FurLength    0.051629\n",
      "7      MaturitySize    0.046831\n",
      "8          Quantity    0.046251\n",
      "9            Color3    0.044970\n",
      "10         Dewormed    0.038401\n",
      "11             Free    0.034837\n",
      "12       Sterilized    0.033940\n",
      "13       Vaccinated    0.031484\n",
      "14         AgeGroup    0.025029\n",
      "15  FrequentRescuer    0.022914\n",
      "16          hasName    0.022862\n",
      "17        PureBreed    0.022574\n",
      "18             Type    0.020144\n",
      "19         hasVideo    0.011561\n",
      "20           Health    0.010706\n"
     ]
    }
   ],
   "source": [
    "score2, feature_importances2 = random_forest(\n",
    "    df_processed2[df_processed2.columns.difference(['AdoptionSpeed'])], \n",
    "    df_processed2['AdoptionSpeed'],\n",
    "    0.2)\n",
    "\n",
    "print(\"Score: \",score2) \n",
    "print(feature_importances2)"
   ]
  },
  {
   "cell_type": "markdown",
   "metadata": {},
   "source": [
    "We conclude that, after our feature extractions, some features are actually contributing less to the model then they were before:\n",
    "* DescriptionSize-in bins (DescriptionSize- nr. words)\n",
    "* AgeGroup (Age)\n",
    "* PureBreed (Breed1, Breed2)\n",
    "\n",
    "We will go back to the original features in the classifiers analysis.\n",
    "Some are doing slightly better/did not get worse so we will keep the changes:\n",
    "* hasVideo (VideoAmt)\n",
    "* Free (Fee)"
   ]
  },
  {
   "cell_type": "code",
   "execution_count": 33,
   "metadata": {},
   "outputs": [],
   "source": [
    "#APPLY CHANGES TO DATASET - REVERT TO ORIGINAL FEATURES\n",
    "#Description\n",
    "df_processed2.drop(\"DescriptionSize\", axis=1, inplace=True)\n",
    "df_processed2.insert(6,\"DescriptionSize\",df_processed1['DescriptionSize'])\n",
    "\n",
    "#AgeGroup\n",
    "df_processed2.drop(\"AgeGroup\", axis=1, inplace = True)\n",
    "df_processed2.insert(2,\"Age\",df_processed1['Age'])\n",
    "\n",
    "#PureBreed\n",
    "df_processed2.drop(\"PureBreed\", axis=1, inplace=True)\n",
    "df_processed2.insert(6,\"Breed1\",df_processed1['Breed1'])\n",
    "df_processed2.insert(6,\"Breed2\",df_processed1['Breed2'])"
   ]
  },
  {
   "cell_type": "markdown",
   "metadata": {},
   "source": [
    "### Data imbalancement\n",
    "\n",
    "As we explained in the beggining there is a clear imbalancement in the number of examples:\n",
    "- Binary classification: the number of examples of AdoptionSpeed 0+1+2+3 (Adopted) is much greater than the number of examples for AdoptionSpeed 4 (Not Adopted).\n",
    "- Multiclass classification: the number of examples of AdoptionSpeed 0 is much smaller than the rest of the Adoption Speeds.\n",
    "\n",
    "Since we are working with such a small dataset, we cannot spare any examples, and we will resort to random oversampling to balance our data."
   ]
  },
  {
   "cell_type": "markdown",
   "metadata": {},
   "source": [
    "#### Binary Classification - Random Over-Sampling"
   ]
  },
  {
   "cell_type": "code",
   "execution_count": 34,
   "metadata": {},
   "outputs": [],
   "source": [
    "#ADAPT TARGET COLUMN FOR BINARY CLASSIFICATION\n",
    "df_processed2_b = df_processed2.copy()\n",
    "df_processed2_b = df_processed2_b.rename(columns={'AdoptionSpeed': 'Adoption'})\n",
    "df_processed2_b = df_processed2_b.replace({'Adoption':[0,2,3]},1)\n",
    "df_processed2_b = df_processed2_b.replace({'Adoption':4},0)"
   ]
  },
  {
   "cell_type": "code",
   "execution_count": null,
   "metadata": {},
   "outputs": [],
   "source": [
    "#RANDOM OVERSAMPLING\n",
    "ros_b = RandomOverSampler(sampling_strategy='minority',random_state=42)\n",
    "X_ros_b, y_ros_b = ros_b.fit_resample(df_processed2_b.iloc[:,:-1], df_processed2_b['Adoption'])\n",
    "y_ros_b.shape = (21592,1) #reshape array for concatenation\n",
    "np_processed2_b_balanced = np.concatenate((X_ros_b, y_ros_b), axis=1) #save new data\n",
    "\n",
    "# Create new df\n",
    "df_processed2_b_balanced = pd.DataFrame(data=np_processed2_b_balanced, columns=df_processed2_b.columns)"
   ]
  },
  {
   "cell_type": "markdown",
   "metadata": {},
   "source": [
    "We can see that the oversampling was succesfull because we now have the same number of examples for adopted and not adopted pets, with a total of 21592 examples."
   ]
  },
  {
   "cell_type": "code",
   "execution_count": null,
   "metadata": {},
   "outputs": [],
   "source": [
    "ax = sns.catplot(x=\"Adoption\",data=df_processed2_b_balanced, kind='count')\n",
    "(ax.set_axis_labels(\"Adoption\", \"Number of Pets\"))"
   ]
  },
  {
   "cell_type": "markdown",
   "metadata": {},
   "source": [
    "#### Multiclass classification - Random Over-Sampling"
   ]
  },
  {
   "cell_type": "code",
   "execution_count": null,
   "metadata": {},
   "outputs": [],
   "source": [
    "#RANDOM OVERSAMPLING\n",
    "df_processed2_m = df_processed2.copy()\n",
    "ros_m2 = RandomOverSampler(random_state=42)\n",
    "X_ros_m, y_ros_m = ros_m.fit_resample(df_processed2_m.iloc[:,:-1], df_processed2_m['AdoptionSpeed'])\n",
    "y_ros_m.shape = (20985,1) #reshape array for concatenation\n",
    "np_processed2_m_balanced = np.concatenate((X_ros_m, y_ros_m), axis=1) #save new data\n",
    "\n",
    "# Create new df\n",
    "df_processed2_m_balanced = pd.DataFrame(data=np_processed2_m_balanced, columns=df_processed2_m.columns)"
   ]
  },
  {
   "cell_type": "markdown",
   "metadata": {},
   "source": [
    "We can see that the oversampling was succesfull because we now have the same number of examples for all Adoption Speeds, with a total of 20985 examples."
   ]
  },
  {
   "cell_type": "code",
   "execution_count": null,
   "metadata": {},
   "outputs": [],
   "source": [
    "ax = sns.catplot(x=\"AdoptionSpeed\",data=df_processed2_m_balanced, kind='count')"
   ]
  },
  {
   "cell_type": "markdown",
   "metadata": {},
   "source": [
    "##### Dogs and Cats - preprocessing"
   ]
  },
  {
   "cell_type": "code",
   "execution_count": null,
   "metadata": {},
   "outputs": [],
   "source": [
    "# DOGS BINARY CLASSIFICATION\n",
    "df_processed2_b_dogs = df_processed2_b_balanced.copy()\n",
    "df_processed2_b_dogs = df_processed2_b_balanced[df_processed2_b_dogs['Type']==1]\n",
    "\n",
    "# DOGS MULTICLASS CLASSIFICATION\n",
    "df_processed2_m_dogs = df_processed2_m_balanced.copy()\n",
    "df_processed2_m_dogs = df_processed2_m_dogs[df_processed2_m_dogs['Type']==1]\n",
    "\n",
    "# CATS BINARY CLASSIFICATION\n",
    "df_processed2_b_cats = df_processed2_b_balanced.copy()\n",
    "df_processed2_b_cats = df_processed2_b_cats[df_processed2_b_cats['Type']==2]\n",
    "\n",
    "# CATS MULTICLASS CLASSIFICATION\n",
    "df_processed2_m_cats = df_processed2_m_balanced.copy()\n",
    "df_processed2_m_cats = df_processed2_m_cats[df_processed2_m_cats['Type']==2]"
   ]
  },
  {
   "cell_type": "markdown",
   "metadata": {},
   "source": [
    "### Pre-processing: final dataset\n",
    "We have the following dataframes to be feed the classifiers in the following phase:\n",
    "* Binary task: df_processed2_b_balanced\n",
    "* Multiclass task: df_processed2_m_balanced\n",
    "* Dogs binary task: df_processed2_b_dogs\n",
    "* Dogs multiclass task: df_processed2_m_dogs\n",
    "* Cats binary task: df_processed2_b_cats\n",
    "* Cats multiclass task: df_processed2_m_cats\n",
    "\n",
    "________________"
   ]
  },
  {
   "cell_type": "markdown",
   "metadata": {},
   "source": [
    "## 1.2. Learning Classifiers"
   ]
  },
  {
   "cell_type": "markdown",
   "metadata": {},
   "source": [
    "XXXXXXXXXX explicar estas funções"
   ]
  },
  {
   "cell_type": "code",
   "execution_count": 35,
   "metadata": {},
   "outputs": [],
   "source": [
    "# creates a framework for printing confusion matrixes\n",
    "# takes true target values, predicted target values and string arguments\n",
    "# for binary task prints number of true negative, false positives, false negative and true positive cases as well\n",
    "\n",
    "def confusion (y_true,y_predict,x):\n",
    "    cm = confusion_matrix(y_true, y_predict)\n",
    "    y = np.unique(y_true)\n",
    "    f, ax = plt.subplots(figsize=(7, 5))\n",
    "    sns.heatmap(cm.T, cmap=\"coolwarm\", square=True, annot = True, fmt='d', cbar=False,\n",
    "                xticklabels=(y),\n",
    "                yticklabels=(y))\n",
    "    plt.xlabel('true label')\n",
    "    plt.ylabel('predicted label');\n",
    "    plt.title('Confusion Matrix - {} Set'.format(x))\n",
    "    \n",
    "    if len(y)==2:\n",
    "        tn, fp, fn, tp = cm.ravel()\n",
    "        print(\"True Negatives:{}\".format(tn))\n",
    "        print(\"False Positives:{}\".format(fp))\n",
    "        print(\"False Negatives:{}\".format(fn))\n",
    "        print(\"True Positives:{}\".format(tp))\n",
    "    else:\n",
    "        print(\"Not binary\")"
   ]
  },
  {
   "cell_type": "code",
   "execution_count": 36,
   "metadata": {},
   "outputs": [],
   "source": [
    "# creates a framework for model fitting, scoring and target predictions\n",
    "# takes xtrain, ytrain, xtest and ytest as arguments\n",
    "# the arguments xtrain, ytrain, xtest and ytest come for splitting the dataset into train and test sets\n",
    "# takes the classifier (model) as argument \n",
    "# prints classification reports for both train and test sets\n",
    "# returns predicted targets for both train and test sets\n",
    "# returns fitting scores (accuracy) for both train and test sets\n",
    "\n",
    "def model (intro,xtrain,ytrain,xtest,ytest,model):\n",
    "    print (\"{}\\n\".format(intro))\n",
    "    md = model.fit(xtrain,ytrain)\n",
    "    print(\"Accuracy on training set:\\n\")\n",
    "    trainscore = md.score(xtrain, ytrain)\n",
    "    print(\"{}\\n\".format(trainscore))\n",
    "    ytrainp = md.predict(xtrain)\n",
    "    print('Classification report (train):')\n",
    "    print(classification_report(ytrain,ytrainp))\n",
    "    print(\"Accuracy on test set:\\n\") \n",
    "    testscore = md.score(xtest, ytest)\n",
    "    print(\"{}\\n\".format(testscore))\n",
    "    ytestp = md.predict(xtest)\n",
    "    print('Classification report (test):')\n",
    "    print(classification_report(ytest,ytestp))\n",
    "    return ytrainp, ytestp, trainscore, testscore"
   ]
  },
  {
   "cell_type": "markdown",
   "metadata": {},
   "source": [
    "## 1.2.1 Benchmark\n",
    "Before going into training the classifiers with our altered datasets, we want to perform a benchmark of the original dataset's performance in the models (df_processed1)."
   ]
  },
  {
   "cell_type": "markdown",
   "metadata": {},
   "source": [
    "#### FEATURE ENCODING"
   ]
  },
  {
   "cell_type": "code",
   "execution_count": 37,
   "metadata": {},
   "outputs": [
    {
     "name": "stdout",
     "output_type": "stream",
     "text": [
      "A sample of the encoded features names:  ['Type_1' 'Type_2' 'Breed1_0' 'Breed1_1' 'Breed1_3' 'Breed1_5' 'Breed1_7'\n",
      " 'Breed1_10' 'Breed1_11' 'Breed1_15']\n"
     ]
    }
   ],
   "source": [
    "# ENCODING THE FOLLOWING FEATURES\n",
    "## 'Type','Breed1','Breed2','Gender','Color1','Color2','Color3','MaturitySize','FurLength','Vaccinated','Dewormed','Sterilized','Health','State'\n",
    "encoder = OneHotEncoder()\n",
    "df_encoded = encoder.fit_transform(df_processed1[['Type','Breed1','Breed2','Gender','Color1','Color2','Color3','MaturitySize','FurLength','Vaccinated','Dewormed','Sterilized','Health','State']]).toarray()\n",
    "column_name = encoder.get_feature_names(['Type','Breed1','Breed2','Gender','Color1','Color2','Color3','MaturitySize','FurLength','Vaccinated','Dewormed','Sterilized','Health','State'])\n",
    "df_processed1_encoded =  pd.DataFrame(df_encoded, columns= column_name)\n",
    "\n",
    "print(\"A sample of the encoded features names: \", column_name[:10])"
   ]
  },
  {
   "cell_type": "code",
   "execution_count": 38,
   "metadata": {},
   "outputs": [],
   "source": [
    "# INSERT THE NON ENCODED FEATURES IN THE DATAFRAME AGAIN\n",
    "df_processed1_encoded.insert(0,'PetID',df_processed1.index.tolist()) ## PetID\n",
    "df_processed1_encoded.set_index(\"PetID\", inplace=True) # change index to PetId\n",
    "df_processed1_encoded.insert(2,'hasName',df_processed1['hasName']) ## hasName  \n",
    "df_processed1_encoded.insert(3,'Age',df_processed1['Age']) ## AGE  \n",
    "df_processed1_encoded.insert(4,'DescriptionSize',df_processed1['DescriptionSize']) ## DescriptionSize  \n",
    "df_processed1_encoded.insert(5,'Quantity',df_processed1['Quantity']) ## QUANTITY    \n",
    "df_processed1_encoded.insert(6,'Fee',df_processed1['Fee']) ## FEE  \n",
    "df_processed1_encoded.insert(7,'FrequentRescuer',df_processed1['FrequentRescuer']) ## FrequentRescuer  \n",
    "df_processed1_encoded.insert(8,'VideoAmt',df_processed1['VideoAmt']) ## VideoAmt  \n",
    "df_processed1_encoded.insert(9,'PhotoAmt',df_processed1['PhotoAmt']) ## PhotoAmt\n",
    "df_processed1_encoded.insert((len(df_processed1_encoded.columns)),'AdoptionSpeed',df_processed1['AdoptionSpeed']) ## AdoptionSpeed"
   ]
  },
  {
   "cell_type": "code",
   "execution_count": 39,
   "metadata": {},
   "outputs": [],
   "source": [
    "# SEPARATE EXAMPLES FROM TARGETS\n",
    "nc = df_processed1_encoded.shape[1]\n",
    "matrix = df_processed1_encoded.values # Convert dataframe to darray\n",
    "examples = matrix [:, 0:nc-1] # get features \n",
    "target = matrix [:, nc-1] # get class (last columns)           \n",
    "fnames = df_processed1_encoded.columns.values[0:nc-1] #get features names\n",
    "tname = df_processed1_encoded.columns.values[nc-1] #get target name\n",
    "\n",
    "examples = examples.astype(float)\n",
    "target = target.astype(float)"
   ]
  },
  {
   "cell_type": "code",
   "execution_count": 40,
   "metadata": {},
   "outputs": [
    {
     "name": "stdout",
     "output_type": "stream",
     "text": [
      "Number of examples and features for the train dataset:  (11244, 377)\n",
      "Number of examples and features for the test dataset:  (3749, 377)\n"
     ]
    }
   ],
   "source": [
    "# SPLIT DATAFRAME INTO TEST AND TRAIN SETS\n",
    "X_train, X_test, y_train, y_test = train_test_split(examples, target, random_state=0)\n",
    "\n",
    "print(\"Number of examples and features for the train dataset: \", X_train.shape)\n",
    "print(\"Number of examples and features for the test dataset: \", X_test.shape)"
   ]
  },
  {
   "cell_type": "markdown",
   "metadata": {},
   "source": [
    "### 1.2.1.1 Predicting Adoption (binary classification task)"
   ]
  },
  {
   "cell_type": "markdown",
   "metadata": {},
   "source": [
    "Since this is a binary task, the adoptionspeed had to be converted into a binary feature (0 - for profiles with adoptionspeed = 4; 1 for profiles with adoptionspeed < 4)"
   ]
  },
  {
   "cell_type": "code",
   "execution_count": null,
   "metadata": {},
   "outputs": [],
   "source": [
    "y_train_binary = y_train.copy()\n",
    "y_test_binary = y_test.copy()\n",
    "\n",
    "for i in range(len(y_train_binary)):\n",
    "    if y_train_binary[i]<4:\n",
    "        y_train_binary[i]=1\n",
    "    else:\n",
    "        y_train_binary[i]=0\n",
    "\n",
    "for i in range(len(y_test_binary)):\n",
    "    if y_test_binary[i]<4:\n",
    "        y_test_binary[i]=1\n",
    "    else:\n",
    "        y_test_binary[i]=0"
   ]
  },
  {
   "cell_type": "code",
   "execution_count": null,
   "metadata": {},
   "outputs": [],
   "source": [
    "print(\"Number of positives cases in the train set is: {}\".format(np.count_nonzero(y_train_binary == 1)))\n",
    "print(\"Number of negative cases in the train set is: {}\".format(np.count_nonzero(y_train_binary == 0)))\n",
    "print(\"Ratio positive to negative cases in the training set: {}\".format((np.count_nonzero(y_train_binary == 1))/(np.count_nonzero(y_train_binary == 0))))"
   ]
  },
  {
   "cell_type": "markdown",
   "metadata": {},
   "source": [
    "#### KNN"
   ]
  },
  {
   "cell_type": "code",
   "execution_count": null,
   "metadata": {},
   "outputs": [],
   "source": [
    "knn_b = neighbors.KNeighborsClassifier(n_neighbors=3) ## 3 neighbors for starters\n",
    "knn_b"
   ]
  },
  {
   "cell_type": "code",
   "execution_count": null,
   "metadata": {},
   "outputs": [],
   "source": [
    "y_train_pred_b_knn, y_test_pred_b_knn, trainscore_b_knn, testscore_b_knn = model('KNN',X_train,y_train_binary,X_test,y_test_binary,knn_b)"
   ]
  },
  {
   "cell_type": "code",
   "execution_count": null,
   "metadata": {},
   "outputs": [],
   "source": [
    "confusion (y_train_binary,y_train_pred_b_knn,'Train')"
   ]
  },
  {
   "cell_type": "code",
   "execution_count": null,
   "metadata": {},
   "outputs": [],
   "source": [
    "confusion (y_test_binary,y_test_pred_b_knn,'Test')"
   ]
  },
  {
   "cell_type": "markdown",
   "metadata": {},
   "source": [
    "#### NAIVE BAYES"
   ]
  },
  {
   "cell_type": "code",
   "execution_count": null,
   "metadata": {},
   "outputs": [],
   "source": [
    "gnb_b = GaussianNB()\n",
    "gnb_b"
   ]
  },
  {
   "cell_type": "code",
   "execution_count": null,
   "metadata": {},
   "outputs": [],
   "source": [
    "y_train_pred_b_GNB, y_test_pred_b_GNB, trainscore_b_GNB, testscore_b_GNB = model('GNB',X_train,y_train_binary,X_test,y_test_binary,gnb_b)"
   ]
  },
  {
   "cell_type": "code",
   "execution_count": null,
   "metadata": {},
   "outputs": [],
   "source": [
    "confusion (y_train_binary,y_train_pred_b_GNB,'Train')"
   ]
  },
  {
   "cell_type": "code",
   "execution_count": null,
   "metadata": {},
   "outputs": [],
   "source": [
    "confusion (y_test_binary,y_test_pred_b_GNB,'Test')"
   ]
  },
  {
   "cell_type": "markdown",
   "metadata": {},
   "source": [
    "#### DECISION TREES"
   ]
  },
  {
   "cell_type": "code",
   "execution_count": null,
   "metadata": {},
   "outputs": [],
   "source": [
    "dec_trees_b = tree.DecisionTreeClassifier() # criterion = \"Gini\"\n",
    "\n",
    "dec_trees_b"
   ]
  },
  {
   "cell_type": "code",
   "execution_count": null,
   "metadata": {},
   "outputs": [],
   "source": [
    "y_train_pred_b_trees, y_test_pred_b_trees, trainscore_b_trees, testscore_b_trees = model('DECISION TREES',X_train,y_train_binary,X_test,y_test_binary,dec_trees_b)"
   ]
  },
  {
   "cell_type": "code",
   "execution_count": null,
   "metadata": {},
   "outputs": [],
   "source": [
    "confusion (y_train_binary,y_train_pred_b_trees,'Train')"
   ]
  },
  {
   "cell_type": "code",
   "execution_count": null,
   "metadata": {},
   "outputs": [],
   "source": [
    "confusion (y_test_binary,y_test_pred_b_trees,'Test')"
   ]
  },
  {
   "cell_type": "markdown",
   "metadata": {},
   "source": [
    "#### Support Vector Machines"
   ]
  },
  {
   "cell_type": "code",
   "execution_count": null,
   "metadata": {},
   "outputs": [],
   "source": [
    "lsvm_b = LinearSVC(max_iter=15000) # max_iter=1000 (default) ## Didnt converge\n",
    "lsvm_b"
   ]
  },
  {
   "cell_type": "code",
   "execution_count": null,
   "metadata": {},
   "outputs": [],
   "source": [
    "y_train_pred_b_svm, y_test_pred_b_svm, trainscore_b_svm, testscore_b_svm = model('Support Vector Machine',X_train,y_train_binary,X_test,y_test_binary,lsvm_b)"
   ]
  },
  {
   "cell_type": "code",
   "execution_count": null,
   "metadata": {},
   "outputs": [],
   "source": [
    "confusion (y_train_binary,y_train_pred_b_svm,'Train')"
   ]
  },
  {
   "cell_type": "code",
   "execution_count": null,
   "metadata": {},
   "outputs": [],
   "source": [
    "confusion (y_test_binary,y_test_pred_b_svm,'Test')"
   ]
  },
  {
   "cell_type": "markdown",
   "metadata": {},
   "source": [
    "#### Logistic Regression"
   ]
  },
  {
   "cell_type": "code",
   "execution_count": null,
   "metadata": {},
   "outputs": [],
   "source": [
    "logreg_b = LogisticRegression(solver='lbfgs', max_iter=4000)\n",
    "logreg_b"
   ]
  },
  {
   "cell_type": "code",
   "execution_count": null,
   "metadata": {},
   "outputs": [],
   "source": [
    "y_train_pred_b_logr, y_test_pred_b_logr, trainscore_b_logr, testscore_b_logr = model('Logistic Regression',X_train,y_train_binary,X_test,y_test_binary,logreg_b)"
   ]
  },
  {
   "cell_type": "code",
   "execution_count": null,
   "metadata": {},
   "outputs": [],
   "source": [
    "confusion (y_train_binary,y_train_pred_b_logr,'Train')"
   ]
  },
  {
   "cell_type": "code",
   "execution_count": null,
   "metadata": {},
   "outputs": [],
   "source": [
    "confusion (y_test_binary,y_test_pred_b_logr,'Test')"
   ]
  },
  {
   "cell_type": "markdown",
   "metadata": {},
   "source": [
    "Given these results we conclude that:\n",
    "* "
   ]
  },
  {
   "cell_type": "markdown",
   "metadata": {},
   "source": [
    "### 1.2.1.2 Predicting AdoptionSpeed (Multiclass classification task)"
   ]
  },
  {
   "cell_type": "markdown",
   "metadata": {},
   "source": [
    "#### KNN"
   ]
  },
  {
   "cell_type": "code",
   "execution_count": 43,
   "metadata": {},
   "outputs": [
    {
     "data": {
      "text/plain": [
       "KNeighborsClassifier(algorithm='auto', leaf_size=30, metric='minkowski',\n",
       "                     metric_params=None, n_jobs=None, n_neighbors=5, p=2,\n",
       "                     weights='uniform')"
      ]
     },
     "execution_count": 43,
     "metadata": {},
     "output_type": "execute_result"
    }
   ],
   "source": [
    "knn_m = neighbors.KNeighborsClassifier()\n",
    "knn_m"
   ]
  },
  {
   "cell_type": "code",
   "execution_count": 45,
   "metadata": {},
   "outputs": [],
   "source": [
    "# Defining and applying a grid search cross validation to find the best hyperparameters for the knn estimator \n",
    "# adequate metric, adequate p for the minkowski metric, adequate number of neighbours and weights\n",
    "knn_m_p ={'metric':['minkowski','chebyshev'],\n",
    "          'p':[1,2,3,4,5],\n",
    "          'n_neighbors':[2,4,6,8,10,20],\n",
    "          'weights':['uniform','distance']}"
   ]
  },
  {
   "cell_type": "code",
   "execution_count": 44,
   "metadata": {},
   "outputs": [
    {
     "data": {
      "text/plain": [
       "GridSearchCV(cv=None, error_score=nan,\n",
       "             estimator=KNeighborsClassifier(algorithm='auto', leaf_size=30,\n",
       "                                            metric='minkowski',\n",
       "                                            metric_params=None, n_jobs=None,\n",
       "                                            n_neighbors=5, p=2,\n",
       "                                            weights='uniform'),\n",
       "             iid='deprecated', n_jobs=None,\n",
       "             param_grid={'metric': ['minkowski', 'chebyshev'],\n",
       "                         'n_neighbors': [2, 4, 6, 8, 10, 20],\n",
       "                         'p': [1, 2, 3, 4, 5],\n",
       "                         'weights': ['uniform', 'distance']},\n",
       "             pre_dispatch='2*n_jobs', refit=True, return_train_score=False,\n",
       "             scoring=None, verbose=0)"
      ]
     },
     "execution_count": 44,
     "metadata": {},
     "output_type": "execute_result"
    }
   ],
   "source": [
    "# The scoring metric for the grid searh in the benchmark task will be the score of the estimator (runs slow)\n",
    "knn_m_grid = GridSearchCV(knn_m, knn_m_p)\n",
    "knn_m_grid.fit(X_train,y_train)"
   ]
  },
  {
   "cell_type": "code",
   "execution_count": 46,
   "metadata": {},
   "outputs": [
    {
     "data": {
      "text/plain": [
       "KNeighborsClassifier(algorithm='auto', leaf_size=30, metric='minkowski',\n",
       "                     metric_params=None, n_jobs=None, n_neighbors=20, p=1,\n",
       "                     weights='distance')"
      ]
     },
     "execution_count": 46,
     "metadata": {},
     "output_type": "execute_result"
    }
   ],
   "source": [
    "knn_m_grid.best_estimator_ #finding the best hyperparameters from the grid seach\n",
    "knn_m = knn_m_grid.best_estimator_ #assigning the parameters to the knn estimator\n",
    "knn_m"
   ]
  },
  {
   "cell_type": "code",
   "execution_count": 47,
   "metadata": {},
   "outputs": [
    {
     "name": "stdout",
     "output_type": "stream",
     "text": [
      "KNN\n",
      "\n",
      "Accuracy on training set:\n",
      "\n",
      "0.9975987193169691\n",
      "\n",
      "Classification report (train):\n",
      "              precision    recall  f1-score   support\n",
      "\n",
      "         0.0       1.00      1.00      1.00       316\n",
      "         1.0       1.00      1.00      1.00      2300\n",
      "         2.0       1.00      1.00      1.00      3011\n",
      "         3.0       1.00      0.99      1.00      2451\n",
      "         4.0       1.00      1.00      1.00      3166\n",
      "\n",
      "    accuracy                           1.00     11244\n",
      "   macro avg       1.00      1.00      1.00     11244\n",
      "weighted avg       1.00      1.00      1.00     11244\n",
      "\n",
      "Accuracy on test set:\n",
      "\n",
      "0.3590290744198453\n",
      "\n",
      "Classification report (test):\n",
      "              precision    recall  f1-score   support\n",
      "\n",
      "         0.0       0.71      0.05      0.10        94\n",
      "         1.0       0.31      0.27      0.29       790\n",
      "         2.0       0.34      0.39      0.36      1026\n",
      "         3.0       0.33      0.25      0.29       808\n",
      "         4.0       0.42      0.51      0.46      1031\n",
      "\n",
      "    accuracy                           0.36      3749\n",
      "   macro avg       0.42      0.29      0.30      3749\n",
      "weighted avg       0.36      0.36      0.35      3749\n",
      "\n"
     ]
    }
   ],
   "source": [
    "y_train_pred_m_KNN, y_test_pred_m_KNN, trainscore_m_knn, testscore_m_knn = model('KNN',X_train,y_train,X_test,y_test,knn_m)"
   ]
  },
  {
   "cell_type": "code",
   "execution_count": 48,
   "metadata": {},
   "outputs": [
    {
     "name": "stdout",
     "output_type": "stream",
     "text": [
      "Not binary\n"
     ]
    },
    {
     "data": {
      "image/png": "[encoded data removed]",
      "text/plain": [
       "<Figure size 504x360 with 1 Axes>"
      ]
     },
     "metadata": {},
     "output_type": "display_data"
    }
   ],
   "source": [
    "confusion (y_train,y_train_pred_m_KNN,'Train')"
   ]
  },
  {
   "cell_type": "code",
   "execution_count": 49,
   "metadata": {},
   "outputs": [
    {
     "name": "stdout",
     "output_type": "stream",
     "text": [
      "Not binary\n"
     ]
    },
    {
     "data": {
      "image/png": "[encoded data removed]",
      "text/plain": [
       "<Figure size 504x360 with 1 Axes>"
      ]
     },
     "metadata": {},
     "output_type": "display_data"
    }
   ],
   "source": [
    "confusion (y_test,y_test_pred_m_KNN,'Test')"
   ]
  },
  {
   "cell_type": "markdown",
   "metadata": {},
   "source": [
    "From the test set coffusion matrix we understand the model didn't care about learning how to classify the minority class (adoptionspeed = 0) focusing on the other more proeminent classes. It seems also clear that the KNN model overfitted on the training data failing to generalize accordingly."
   ]
  },
  {
   "cell_type": "markdown",
   "metadata": {},
   "source": [
    "#### NAIVE BAYES"
   ]
  },
  {
   "cell_type": "markdown",
   "metadata": {},
   "source": [
    "For the task of prediting adoption speed using probabilistic models we considered 5 distinct Naive Bayes approaches:\n",
    "* Gaussian Naive Bayes\n",
    "* Categorical Naive Bayes\n",
    "* Multinomial Naive Bayes\n",
    "* Bernoulli Naive Bayes\n",
    "* Complement Naive Bayes"
   ]
  },
  {
   "cell_type": "code",
   "execution_count": 50,
   "metadata": {},
   "outputs": [],
   "source": [
    "gnb_m = GaussianNB() # gaussian naive bayes\n",
    "cnb_m = CategoricalNB()   # categorical naive bayes\n",
    "mnb_m = MultinomialNB() # multinomial naive bayes\n",
    "bnb_m = BernoulliNB() # bernoulli naive bayes\n",
    "knb_m = ComplementNB() # Complement naive bayes"
   ]
  },
  {
   "cell_type": "code",
   "execution_count": 51,
   "metadata": {},
   "outputs": [
    {
     "name": "stdout",
     "output_type": "stream",
     "text": [
      "Gaussian Naive Bayes\n",
      "\n",
      "Accuracy on training set:\n",
      "\n",
      "0.07123799359658485\n",
      "\n",
      "Classification report (train):\n",
      "              precision    recall  f1-score   support\n",
      "\n",
      "         0.0       0.03      1.00      0.06       316\n",
      "         1.0       0.41      0.07      0.11      2300\n",
      "         2.0       0.64      0.03      0.06      3011\n",
      "         3.0       0.43      0.06      0.11      2451\n",
      "         4.0       0.66      0.03      0.06      3166\n",
      "\n",
      "    accuracy                           0.07     11244\n",
      "   macro avg       0.44      0.24      0.08     11244\n",
      "weighted avg       0.54      0.07      0.08     11244\n",
      "\n",
      "Accuracy on test set:\n",
      "\n",
      "0.05014670578821019\n",
      "\n",
      "Classification report (test):\n",
      "              precision    recall  f1-score   support\n",
      "\n",
      "         0.0       0.03      0.95      0.05        94\n",
      "         1.0       0.27      0.04      0.08       790\n",
      "         2.0       0.32      0.01      0.03      1026\n",
      "         3.0       0.31      0.04      0.06       808\n",
      "         4.0       0.46      0.02      0.04      1031\n",
      "\n",
      "    accuracy                           0.05      3749\n",
      "   macro avg       0.28      0.21      0.05      3749\n",
      "weighted avg       0.34      0.05      0.05      3749\n",
      "\n",
      "Not binary\n",
      "Not binary\n"
     ]
    },
    {
     "data": {
      "image/png": "[encoded data removed]",
      "text/plain": [
       "<Figure size 504x360 with 1 Axes>"
      ]
     },
     "metadata": {},
     "output_type": "display_data"
    },
    {
     "data": {
      "image/png": "[encoded data removed]",
      "text/plain": [
       "<Figure size 504x360 with 1 Axes>"
      ]
     },
     "metadata": {},
     "output_type": "display_data"
    }
   ],
   "source": [
    "y_train_pred_m_GBN, y_test_pred_m_GBB, trainscore_m_gnb, testscore_m_gnb = model('Gaussian Naive Bayes',X_train,y_train,X_test,y_test,gnb_m)\n",
    "confusion (y_train,y_train_pred_m_GBN,'Train')\n",
    "confusion (y_test,y_test_pred_m_GBB,'Test')"
   ]
  },
  {
   "cell_type": "code",
   "execution_count": null,
   "metadata": {},
   "outputs": [],
   "source": [
    "#y_train_pred_m_CNB, y_test_pred_m_CNB, trainscore_m_CNB, testscore_m_CNB = model('Categorical Naive Bayes',X_train,y_train,X_test,y_test,cnb_m)"
   ]
  },
  {
   "cell_type": "code",
   "execution_count": 52,
   "metadata": {},
   "outputs": [
    {
     "name": "stdout",
     "output_type": "stream",
     "text": [
      "Multinomial Naive Bayes\n",
      "\n",
      "Accuracy on training set:\n",
      "\n",
      "0.29953753112771253\n",
      "\n",
      "Classification report (train):\n",
      "              precision    recall  f1-score   support\n",
      "\n",
      "         0.0       0.20      0.11      0.14       316\n",
      "         1.0       0.27      0.17      0.20      2300\n",
      "         2.0       0.36      0.10      0.16      3011\n",
      "         3.0       0.24      0.62      0.35      2451\n",
      "         4.0       0.44      0.35      0.39      3166\n",
      "\n",
      "    accuracy                           0.30     11244\n",
      "   macro avg       0.30      0.27      0.25     11244\n",
      "weighted avg       0.33      0.30      0.28     11244\n",
      "\n",
      "Accuracy on test set:\n",
      "\n",
      "0.2856761803147506\n",
      "\n",
      "Classification report (test):\n",
      "              precision    recall  f1-score   support\n",
      "\n",
      "         0.0       0.09      0.05      0.07        94\n",
      "         1.0       0.25      0.14      0.18       790\n",
      "         2.0       0.34      0.10      0.15      1026\n",
      "         3.0       0.23      0.60      0.34       808\n",
      "         4.0       0.43      0.35      0.39      1031\n",
      "\n",
      "    accuracy                           0.29      3749\n",
      "   macro avg       0.27      0.25      0.23      3749\n",
      "weighted avg       0.32      0.29      0.26      3749\n",
      "\n",
      "Not binary\n",
      "Not binary\n"
     ]
    },
    {
     "data": {
      "image/png": "[encoded data removed]",
      "text/plain": [
       "<Figure size 504x360 with 1 Axes>"
      ]
     },
     "metadata": {},
     "output_type": "display_data"
    },
    {
     "data": {
      "image/png": "[encoded data removed]",
      "text/plain": [
       "<Figure size 504x360 with 1 Axes>"
      ]
     },
     "metadata": {},
     "output_type": "display_data"
    }
   ],
   "source": [
    "y_train_pred_m_MNB, y_test_pred_m_MNB, trainscore_m_MNB, testscore_m_MNB = model('Multinomial Naive Bayes',X_train,y_train,X_test,y_test,mnb_m)\n",
    "confusion (y_train,y_train_pred_m_MNB,'Train')\n",
    "confusion (y_test,y_test_pred_m_MNB,'Test')"
   ]
  },
  {
   "cell_type": "code",
   "execution_count": 53,
   "metadata": {},
   "outputs": [
    {
     "name": "stdout",
     "output_type": "stream",
     "text": [
      "Bernoulli Naive Bayes\n",
      "\n",
      "Accuracy on training set:\n",
      "\n",
      "0.3787797936677339\n",
      "\n",
      "Classification report (train):\n",
      "              precision    recall  f1-score   support\n",
      "\n",
      "         0.0       0.17      0.10      0.13       316\n",
      "         1.0       0.32      0.41      0.36      2300\n",
      "         2.0       0.37      0.28      0.32      3011\n",
      "         3.0       0.34      0.30      0.31      2451\n",
      "         4.0       0.47      0.54      0.50      3166\n",
      "\n",
      "    accuracy                           0.38     11244\n",
      "   macro avg       0.33      0.33      0.32     11244\n",
      "weighted avg       0.37      0.38      0.37     11244\n",
      "\n",
      "Accuracy on test set:\n",
      "\n",
      "0.34622566017604695\n",
      "\n",
      "Classification report (test):\n",
      "              precision    recall  f1-score   support\n",
      "\n",
      "         0.0       0.05      0.03      0.04        94\n",
      "         1.0       0.30      0.37      0.33       790\n",
      "         2.0       0.32      0.25      0.28      1026\n",
      "         3.0       0.32      0.28      0.30       808\n",
      "         4.0       0.44      0.50      0.46      1031\n",
      "\n",
      "    accuracy                           0.35      3749\n",
      "   macro avg       0.28      0.29      0.28      3749\n",
      "weighted avg       0.34      0.35      0.34      3749\n",
      "\n",
      "Not binary\n",
      "Not binary\n"
     ]
    },
    {
     "data": {
      "image/png": "[encoded data removed]",
      "text/plain": [
       "<Figure size 504x360 with 1 Axes>"
      ]
     },
     "metadata": {},
     "output_type": "display_data"
    },
    {
     "data": {
      "image/png": "[encoded data removed]",
      "text/plain": [
       "<Figure size 504x360 with 1 Axes>"
      ]
     },
     "metadata": {},
     "output_type": "display_data"
    }
   ],
   "source": [
    "y_train_pred_m_BNB, y_test_pred_m_BNB, trainscore_m_BNB, testscore_m_BNB = model('Bernoulli Naive Bayes',X_train,y_train,X_test,y_test,bnb_m)\n",
    "confusion (y_train,y_train_pred_m_BNB,'Train')\n",
    "confusion (y_test,y_test_pred_m_BNB,'Test')"
   ]
  },
  {
   "cell_type": "code",
   "execution_count": 54,
   "metadata": {},
   "outputs": [
    {
     "name": "stdout",
     "output_type": "stream",
     "text": [
      "Complement Naive Bayes\n",
      "\n",
      "Accuracy on training set:\n",
      "\n",
      "0.3117218071860548\n",
      "\n",
      "Classification report (train):\n",
      "              precision    recall  f1-score   support\n",
      "\n",
      "         0.0       0.29      0.03      0.06       316\n",
      "         1.0       0.28      0.18      0.22      2300\n",
      "         2.0       0.40      0.08      0.14      3011\n",
      "         3.0       0.25      0.61      0.35      2451\n",
      "         4.0       0.44      0.42      0.43      3166\n",
      "\n",
      "    accuracy                           0.31     11244\n",
      "   macro avg       0.33      0.27      0.24     11244\n",
      "weighted avg       0.35      0.31      0.28     11244\n",
      "\n",
      "Accuracy on test set:\n",
      "\n",
      "0.29581221659109097\n",
      "\n",
      "Classification report (test):\n",
      "              precision    recall  f1-score   support\n",
      "\n",
      "         0.0       0.15      0.02      0.04        94\n",
      "         1.0       0.26      0.16      0.19       790\n",
      "         2.0       0.39      0.07      0.12      1026\n",
      "         3.0       0.23      0.59      0.33       808\n",
      "         4.0       0.43      0.42      0.42      1031\n",
      "\n",
      "    accuracy                           0.30      3749\n",
      "   macro avg       0.29      0.25      0.22      3749\n",
      "weighted avg       0.33      0.30      0.26      3749\n",
      "\n",
      "Not binary\n",
      "Not binary\n"
     ]
    },
    {
     "data": {
      "image/png": "[encoded data removed]",
      "text/plain": [
       "<Figure size 504x360 with 1 Axes>"
      ]
     },
     "metadata": {},
     "output_type": "display_data"
    },
    {
     "data": {
      "image/png": "[encoded data removed]",
      "text/plain": [
       "<Figure size 504x360 with 1 Axes>"
      ]
     },
     "metadata": {},
     "output_type": "display_data"
    }
   ],
   "source": [
    "y_train_pred_m_KNB, y_test_pred_m_KNB, trainscore_m_KNB, testscore_m_KNB = model('Complement Naive Bayes',X_train,y_train,X_test,y_test,knb_m)\n",
    "confusion (y_train,y_train_pred_m_KNB,'Train')\n",
    "confusion (y_test,y_test_pred_m_KNB,'Test')"
   ]
  },
  {
   "cell_type": "markdown",
   "metadata": {},
   "source": [
    "Casdasdsadad"
   ]
  },
  {
   "cell_type": "markdown",
   "metadata": {},
   "source": [
    "#### DECISION TREES"
   ]
  },
  {
   "cell_type": "code",
   "execution_count": 68,
   "metadata": {},
   "outputs": [
    {
     "data": {
      "text/plain": [
       "DecisionTreeClassifier(ccp_alpha=0.0, class_weight=None, criterion='gini',\n",
       "                       max_depth=None, max_features=None, max_leaf_nodes=None,\n",
       "                       min_impurity_decrease=0.0, min_impurity_split=None,\n",
       "                       min_samples_leaf=1, min_samples_split=2,\n",
       "                       min_weight_fraction_leaf=0.0, presort='deprecated',\n",
       "                       random_state=None, splitter='best')"
      ]
     },
     "execution_count": 68,
     "metadata": {},
     "output_type": "execute_result"
    }
   ],
   "source": [
    "dec_trees_m = tree.DecisionTreeClassifier()\n",
    "dec_trees_m"
   ]
  },
  {
   "cell_type": "code",
   "execution_count": 57,
   "metadata": {},
   "outputs": [
    {
     "data": {
      "text/plain": [
       "GridSearchCV(cv=None, error_score=nan,\n",
       "             estimator=DecisionTreeClassifier(ccp_alpha=0.0, class_weight=None,\n",
       "                                              criterion='gini', max_depth=None,\n",
       "                                              max_features=None,\n",
       "                                              max_leaf_nodes=None,\n",
       "                                              min_impurity_decrease=0.0,\n",
       "                                              min_impurity_split=None,\n",
       "                                              min_samples_leaf=1,\n",
       "                                              min_samples_split=2,\n",
       "                                              min_weight_fraction_leaf=0.0,\n",
       "                                              presort='deprecated',\n",
       "                                              random_state=None,\n",
       "                                              splitter='best'),\n",
       "             iid='deprecated', n_jobs=None,\n",
       "             param_grid={'class_weight': [None, 'balanced'],\n",
       "                         'criterion': ['gini', 'entropy'],\n",
       "                         'min_samples_leaf': [1, 2, 3, 4, 5, 6],\n",
       "                         'min_samples_split': [2, 3, 4, 5]},\n",
       "             pre_dispatch='2*n_jobs', refit=True, return_train_score=False,\n",
       "             scoring=None, verbose=0)"
      ]
     },
     "execution_count": 57,
     "metadata": {},
     "output_type": "execute_result"
    }
   ],
   "source": [
    "# Defining and applying a grid search cross validation to find the best hyperparameters for the Decision tree estimator\n",
    "dec_trees_p ={'class_weight':[None,'balanced'],\n",
    "          'criterion':['gini','entropy'],\n",
    "          'min_samples_leaf':[1,2,3,4,5,6],\n",
    "          'min_samples_split':[2,3,4,5]}\n",
    "\n",
    "dec_trees_m_grid = GridSearchCV(dec_trees_m, dec_trees_p)\n",
    "dec_trees_m_grid.fit(X_train,y_train)"
   ]
  },
  {
   "cell_type": "code",
   "execution_count": 70,
   "metadata": {},
   "outputs": [
    {
     "data": {
      "text/plain": [
       "DecisionTreeClassifier(ccp_alpha=0.0, class_weight=None, criterion='gini',\n",
       "                       max_depth=None, max_features=None, max_leaf_nodes=None,\n",
       "                       min_impurity_decrease=0.0, min_impurity_split=None,\n",
       "                       min_samples_leaf=6, min_samples_split=3,\n",
       "                       min_weight_fraction_leaf=0.0, presort='deprecated',\n",
       "                       random_state=None, splitter='best')"
      ]
     },
     "execution_count": 70,
     "metadata": {},
     "output_type": "execute_result"
    }
   ],
   "source": [
    "dec_trees_m_grid.best_estimator_\n",
    "dec_trees_m = dec_trees_m_grid.best_estimator_\n",
    "dec_trees_m"
   ]
  },
  {
   "cell_type": "code",
   "execution_count": 71,
   "metadata": {},
   "outputs": [
    {
     "name": "stdout",
     "output_type": "stream",
     "text": [
      "DECISION TREES\n",
      "\n",
      "Accuracy on training set:\n",
      "\n",
      "0.6350942725008893\n",
      "\n",
      "Classification report (train):\n",
      "              precision    recall  f1-score   support\n",
      "\n",
      "         0.0       0.42      0.25      0.31       316\n",
      "         1.0       0.59      0.65      0.61      2300\n",
      "         2.0       0.62      0.66      0.64      3011\n",
      "         3.0       0.61      0.57      0.59      2451\n",
      "         4.0       0.72      0.70      0.71      3166\n",
      "\n",
      "    accuracy                           0.64     11244\n",
      "   macro avg       0.59      0.56      0.57     11244\n",
      "weighted avg       0.63      0.64      0.63     11244\n",
      "\n",
      "Accuracy on test set:\n",
      "\n",
      "0.3414243798346226\n",
      "\n",
      "Classification report (test):\n",
      "              precision    recall  f1-score   support\n",
      "\n",
      "         0.0       0.04      0.02      0.03        94\n",
      "         1.0       0.29      0.31      0.30       790\n",
      "         2.0       0.32      0.34      0.33      1026\n",
      "         3.0       0.28      0.26      0.27       808\n",
      "         4.0       0.46      0.46      0.46      1031\n",
      "\n",
      "    accuracy                           0.34      3749\n",
      "   macro avg       0.28      0.28      0.28      3749\n",
      "weighted avg       0.34      0.34      0.34      3749\n",
      "\n"
     ]
    }
   ],
   "source": [
    "y_train_pred_m_trees, y_test_pred_m_trees, trainscore_m_trees, testscore_m_trees = model('DECISION TREES',X_train,y_train,X_test,y_test,dec_trees_m)"
   ]
  },
  {
   "cell_type": "code",
   "execution_count": 72,
   "metadata": {},
   "outputs": [
    {
     "name": "stdout",
     "output_type": "stream",
     "text": [
      "Not binary\n"
     ]
    },
    {
     "data": {
      "image/png": "[encoded data removed]",
      "text/plain": [
       "<Figure size 504x360 with 1 Axes>"
      ]
     },
     "metadata": {},
     "output_type": "display_data"
    }
   ],
   "source": [
    "confusion (y_train,y_train_pred_m_trees,'Train')"
   ]
  },
  {
   "cell_type": "code",
   "execution_count": 73,
   "metadata": {},
   "outputs": [
    {
     "name": "stdout",
     "output_type": "stream",
     "text": [
      "Not binary\n"
     ]
    },
    {
     "data": {
      "image/png": "[encoded data removed]",
      "text/plain": [
       "<Figure size 504x360 with 1 Axes>"
      ]
     },
     "metadata": {},
     "output_type": "display_data"
    }
   ],
   "source": [
    "confusion (y_test,y_test_pred_m_trees,'Test')"
   ]
  },
  {
   "cell_type": "markdown",
   "metadata": {},
   "source": [
    "#### LINEAR MODELS"
   ]
  },
  {
   "cell_type": "markdown",
   "metadata": {},
   "source": [
    "For the linear model task of predicting pet's adoptions speeds we will test four different approaches:\n",
    "* Linear Support Vector Machines\n",
    "* Logistic Regression\n",
    "* Perceptron\n",
    "* Ridge Classifier\n",
    "\n",
    "For each of this approaches we will use grid search to find the best possible hyperparameters for each model using each estimators score as the performance metric for grid search."
   ]
  },
  {
   "cell_type": "code",
   "execution_count": 74,
   "metadata": {},
   "outputs": [],
   "source": [
    "lsvm_m = LinearSVC() # linear support vector machine\n",
    "lreg_m = LogisticRegression() # logistic regression\n",
    "per_m = Perceptron() # Perceptron\n",
    "rdcl_m =  RidgeClassifier() #Ridge Classifier"
   ]
  },
  {
   "cell_type": "code",
   "execution_count": 76,
   "metadata": {},
   "outputs": [],
   "source": [
    "# Defining and applying a grid search cross validation to find the best hyperparameters for each linear estimator\n",
    "lsvm_m_p = {'C':[0.01,0.1,1,10,100],\n",
    "            'class_weight':[None,'balanced'],\n",
    "            'loss':['hinge','squared_hinge'],\n",
    "            'max_iter':[5000],\n",
    "            'multi_class':['ovr','crammer_singer'],\n",
    "            'penalty':['l1','l2']}\n",
    "\n",
    "lreg_m_p = {'C':[0.01,0.1,1,10,100],\n",
    "            'class_weight':[None,'balanced'],\n",
    "            'max_iter':[5000],\n",
    "            'multi_class':['auto'],\n",
    "            'penalty':['none','l2'],\n",
    "            'solver':['newton-cg', 'lbfgs', 'sag', 'saga']}\n",
    "\n",
    "per_m_p = {'alpha':[0.0001,0.001,0.01,0.1,1,10],\n",
    "          'class_weight':[None,'balanced'],\n",
    "          'early_stopping':[True],\n",
    "          'max_iter': [5000],\n",
    "          'n_iter_no_change':[50],\n",
    "          'penalty':['l1','l2']}\n",
    "\n",
    "rdcl_m_p = {'alpha':[0.0001,0.001,0.01,0.1,1,10],\n",
    "          'class_weight':[None,'balanced'],\n",
    "          'max_iter': [5000],\n",
    "          'normalize':[True,False],\n",
    "          'solver':['svd', 'cholesky', 'lsqr', 'sparse_cg', 'sag', 'saga']}"
   ]
  },
  {
   "cell_type": "code",
   "execution_count": null,
   "metadata": {},
   "outputs": [],
   "source": [
    "lsvm_m_grid = GridSearchCV(lsvm_m, lsvm_m_p)\n",
    "lsvm_m_grid.fit(X_train,y_train)"
   ]
  },
  {
   "cell_type": "code",
   "execution_count": null,
   "metadata": {},
   "outputs": [],
   "source": [
    "lreg_m_grid = GridSearchCV(lreg_m, lreg_m_p)\n",
    "lreg_m_grid.fit(X_train,y_train)"
   ]
  },
  {
   "cell_type": "code",
   "execution_count": null,
   "metadata": {},
   "outputs": [],
   "source": [
    "per_m_grid = GridSearchCV(per_m, per_m_p)\n",
    "per_m_grid.fit(X_train,y_train)"
   ]
  },
  {
   "cell_type": "code",
   "execution_count": null,
   "metadata": {},
   "outputs": [],
   "source": [
    "rdcl_m_grid = GridSearchCV(rdcl_m, rdcl_m_p)\n",
    "rdcl_m_grid.fit(X_train,y_train)"
   ]
  },
  {
   "cell_type": "code",
   "execution_count": null,
   "metadata": {},
   "outputs": [],
   "source": [
    "y_train_pred_m_svm, y_test_pred_m_svm, trainscore_m_svm, testscore_m_svm = model('Support Vector Machine',X_train,y_train,X_test,y_test,lsvm_m)"
   ]
  },
  {
   "cell_type": "code",
   "execution_count": null,
   "metadata": {},
   "outputs": [],
   "source": [
    "y_train_pred_m_logr, y_test_pred_m_logr, trainscore_m_logr, testscore_m_logr = model('Logistic Regression',X_train,y_train,X_test,y_test,logreg_m)"
   ]
  },
  {
   "cell_type": "code",
   "execution_count": null,
   "metadata": {},
   "outputs": [],
   "source": [
    "confusion (y_train,y_train_pred_m_svm,'Train')\n",
    "confusion (y_train,y_train_pred_m_logr,'Train')"
   ]
  },
  {
   "cell_type": "code",
   "execution_count": null,
   "metadata": {},
   "outputs": [],
   "source": [
    "confusion (y_test,y_test_pred_m_svm,'Test')\n",
    "confusion (y_test,y_test_pred_m_logr,'Test')"
   ]
  },
  {
   "cell_type": "markdown",
   "metadata": {},
   "source": [
    "### Predicting pet-specific models"
   ]
  },
  {
   "cell_type": "markdown",
   "metadata": {},
   "source": [
    "#### DOGS (Type 1)"
   ]
  },
  {
   "cell_type": "code",
   "execution_count": null,
   "metadata": {},
   "outputs": [],
   "source": [
    "df_processed1_dogs = df_processed1.copy()\n",
    "df_processed1_dogs = df_processed1_dogs[df_processed1_dogs['Type']==1]"
   ]
  },
  {
   "cell_type": "markdown",
   "metadata": {},
   "source": [
    "##### Binary Classification"
   ]
  },
  {
   "cell_type": "code",
   "execution_count": null,
   "metadata": {},
   "outputs": [],
   "source": [
    "# ENCODING THE FOLLOWING FEATURES\n",
    "## 'Breed1','Breed2','Gender','Color1','Color2','Color3','MaturitySize','FurLength','Vaccinated','Dewormed','Sterilized','Health','State'\n",
    "encoder_dogs = OneHotEncoder()\n",
    "df_encoded_dogs = encoder_dogs.fit_transform(df_processed1_dogs[['Breed1','Breed2','Gender','Color1','Color2','Color3','MaturitySize','FurLength','Vaccinated','Dewormed','Sterilized','Health','State']]).toarray()\n",
    "column_name_dogs = encoder_dogs.get_feature_names(['Breed1','Breed2','Gender','Color1','Color2','Color3','MaturitySize','FurLength','Vaccinated','Dewormed','Sterilized','Health','State'])\n",
    "df_processed1_dogs_encoded =  pd.DataFrame(df_encoded_dogs, columns= column_name_dogs)\n",
    "\n",
    "print(column_name_dogs) #encoded features names"
   ]
  },
  {
   "cell_type": "code",
   "execution_count": null,
   "metadata": {},
   "outputs": [],
   "source": [
    "# INSERT THE NON ENCODED FEATURES IN THE DATAFRAME AGAIN\n",
    "df_processed1_dogs_encoded.insert(0,'PetID',df_processed1_dogs.index.tolist()) ## PetID\n",
    "df_processed1_dogs_encoded.set_index(\"PetID\", inplace=True) # change index to PetId\n",
    "df_processed1_dogs_encoded.insert(2,'hasName',df_processed1_dogs['hasName']) ## hasName  \n",
    "df_processed1_dogs_encoded.insert(3,'Age',df_processed1_dogs['Age']) ## AGE  \n",
    "df_processed1_dogs_encoded.insert(4,'DescriptionSize',df_processed1_dogs['DescriptionSize']) ## DescriptionSize  \n",
    "df_processed1_dogs_encoded.insert(5,'Quantity',df_processed1_dogs['Quantity']) ## QUANTITY    \n",
    "df_processed1_dogs_encoded.insert(6,'Fee',df_processed1_dogs['Fee']) ## FEE  \n",
    "df_processed1_dogs_encoded.insert(7,'FrequentRescuer',df_processed1_dogs['FrequentRescuer']) ## FrequentRescuer  \n",
    "df_processed1_dogs_encoded.insert(8,'VideoAmt',df_processed1_dogs['VideoAmt']) ## VideoAmt  \n",
    "df_processed1_dogs_encoded.insert(9,'PhotoAmt',df_processed1_dogs['PhotoAmt']) ## PhotoAmt\n",
    "df_processed1_dogs_encoded.insert((len(df_processed1_dogs_encoded.columns)),'AdoptionSpeed',df_processed1_dogs['AdoptionSpeed']) ## AdoptionSpeed\n",
    "\n",
    "print(df_processed1_dogs_encoded.columns.values) ## data frame for training"
   ]
  },
  {
   "cell_type": "markdown",
   "metadata": {},
   "source": [
    "#### CATS (Type 1)"
   ]
  },
  {
   "cell_type": "code",
   "execution_count": null,
   "metadata": {},
   "outputs": [],
   "source": [
    "df_processed1_cats = df_processed1.copy()\n",
    "\n",
    "df_processed1_cats = df_processed1_cats[df_processed1_cats['Type']==2]\n",
    "\n",
    "print(df_processed1_cats)"
   ]
  },
  {
   "cell_type": "markdown",
   "metadata": {},
   "source": [
    "##### Binary Classification"
   ]
  },
  {
   "cell_type": "code",
   "execution_count": null,
   "metadata": {},
   "outputs": [],
   "source": [
    "# ENCODING THE FOLLOWING FEATURES\n",
    "## 'Breed1','Breed2','Gender','Color1','Color2','Color3','MaturitySize','FurLength','Vaccinated','Dewormed','Sterilized','Health','State'\n",
    "encoder_cats = OneHotEncoder()\n",
    "df_encoded_cats = encoder_cats.fit_transform(df_processed1_cats[['Breed1','Breed2','Gender','Color1','Color2','Color3','MaturitySize','FurLength','Vaccinated','Dewormed','Sterilized','Health','State']]).toarray()\n",
    "column_name_cats = encoder_cats.get_feature_names(['Breed1','Breed2','Gender','Color1','Color2','Color3','MaturitySize','FurLength','Vaccinated','Dewormed','Sterilized','Health','State'])\n",
    "df_processed1_cats_encoded =  pd.DataFrame(df_encoded_cats, columns= column_name_cats)\n",
    "\n",
    "print(column_name_cats) #encoded features names"
   ]
  },
  {
   "cell_type": "code",
   "execution_count": null,
   "metadata": {},
   "outputs": [],
   "source": [
    "# INSERT THE NON ENCODED FEATURES IN THE DATAFRAME AGAIN\n",
    "df_processed1_cats_encoded.insert(0,'PetID',df_processed1_cats.index.tolist()) ## PetID\n",
    "df_processed1_cats_encoded.set_index(\"PetID\", inplace=True) # change index to PetId\n",
    "df_processed1_cats_encoded.insert(2,'hasName',df_processed1_cats['hasName']) ## hasName  \n",
    "df_processed1_cats_encoded.insert(3,'Age',df_processed1_cats['Age']) ## AGE  \n",
    "df_processed1_cats_encoded.insert(4,'DescriptionSize',df_processed1_cats['DescriptionSize']) ## DescriptionSize  \n",
    "df_processed1_cats_encoded.insert(5,'Quantity',df_processed1_cats['Quantity']) ## QUANTITY    \n",
    "df_processed1_cats_encoded.insert(6,'Fee',df_processed1_cats['Fee']) ## FEE  \n",
    "df_processed1_cats_encoded.insert(7,'FrequentRescuer',df_processed1_cats['FrequentRescuer']) ## FrequentRescuer  \n",
    "df_processed1_cats_encoded.insert(8,'VideoAmt',df_processed1_cats['VideoAmt']) ## VideoAmt  \n",
    "df_processed1_cats_encoded.insert(9,'PhotoAmt',df_processed1_cats['PhotoAmt']) ## PhotoAmt\n",
    "df_processed1_cats_encoded.insert((len(df_processed1_cats_encoded.columns)),'AdoptionSpeed',df_processed1_cats['AdoptionSpeed']) ## AdoptionSpeed\n",
    "\n",
    "print(df_processed1_cats_encoded.columns.values) ## data frame for training"
   ]
  },
  {
   "cell_type": "markdown",
   "metadata": {},
   "source": [
    "## 1.2.2 Predicting Adoption (binary classification task)"
   ]
  },
  {
   "cell_type": "markdown",
   "metadata": {},
   "source": [
    "## 1.2.3 Predicting Adoption Speed (Multiclass classification task)"
   ]
  },
  {
   "cell_type": "markdown",
   "metadata": {},
   "source": [
    "## 1.2.4 Predicting Adoption/Adoption Speed for dogs"
   ]
  },
  {
   "cell_type": "markdown",
   "metadata": {},
   "source": [
    "## 1.2.5 Predicting Adoption/Adoption Speed for cats"
   ]
  },
  {
   "cell_type": "markdown",
   "metadata": {},
   "source": [
    "## 1.3. Classification - Results and Discussion "
   ]
  },
  {
   "cell_type": "markdown",
   "metadata": {},
   "source": [
    "## Task 2 (Unsupervised Learning) - Charactering Adopted Pets and Adoption Speed"
   ]
  },
  {
   "cell_type": "markdown",
   "metadata": {},
   "source": [
    "In this task you should **use unsupervised learning algorithms and try to characterize pets that were actually adopted and their adoption speed**. You can use:\n",
    "* **Association rule mining** to find **associations between the features and the target Adoption/AdoptionSpeed**.\n",
    "* **Clustering algorithms to find similar groups of pets**. Is it possible to find groups of pets with the same/similar adoption speed.\n",
    "* **Be creative and define your own unsupervised analysis!** What would it be interesting to find out ?"
   ]
  },
  {
   "cell_type": "markdown",
   "metadata": {},
   "source": [
    "## 2.1. Preprocessing Data for Association Rule Mining"
   ]
  },
  {
   "cell_type": "markdown",
   "metadata": {},
   "source": [
    "..."
   ]
  },
  {
   "cell_type": "markdown",
   "metadata": {},
   "source": [
    "## 2.2. Finding Associations"
   ]
  },
  {
   "cell_type": "markdown",
   "metadata": {},
   "source": [
    "..."
   ]
  },
  {
   "cell_type": "markdown",
   "metadata": {},
   "source": [
    "## 2.3 Association Rules - Results and Discussion "
   ]
  },
  {
   "cell_type": "markdown",
   "metadata": {},
   "source": [
    "..."
   ]
  },
  {
   "cell_type": "markdown",
   "metadata": {},
   "source": [
    "## 2.4. Preprocessing Data for Clustering"
   ]
  },
  {
   "cell_type": "markdown",
   "metadata": {},
   "source": [
    "..."
   ]
  },
  {
   "cell_type": "markdown",
   "metadata": {},
   "source": [
    "## 2.5. Finding Groups"
   ]
  },
  {
   "cell_type": "markdown",
   "metadata": {},
   "source": [
    "..."
   ]
  },
  {
   "cell_type": "markdown",
   "metadata": {},
   "source": [
    "## 2.6. Clustering - Results and Discussion "
   ]
  },
  {
   "cell_type": "markdown",
   "metadata": {},
   "source": [
    "..."
   ]
  },
  {
   "cell_type": "markdown",
   "metadata": {},
   "source": [
    "## 3. Final Comments and Conclusions"
   ]
  },
  {
   "cell_type": "markdown",
   "metadata": {},
   "source": [
    "..."
   ]
  }
 ],
 "metadata": {
  "kernelspec": {
   "display_name": "Python 3",
   "language": "python",
   "name": "python3"
  },
  "language_info": {
   "codemirror_mode": {
    "name": "ipython",
    "version": 3
   },
   "file_extension": ".py",
   "mimetype": "text/x-python",
   "name": "python",
   "nbconvert_exporter": "python",
   "pygments_lexer": "ipython3",
   "version": "3.7.5"
  }
 },
 "nbformat": 4,
 "nbformat_minor": 4
}
