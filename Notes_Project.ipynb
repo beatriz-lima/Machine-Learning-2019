{
 "cells": [
  {
   "cell_type": "markdown",
   "metadata": {},
   "source": [
    "## Task 0 (Know your Data) - Exploratory Data Analysis"
   ]
  },
  {
   "cell_type": "markdown",
   "metadata": {},
   "source": [
    "## 0.1. Loading Data"
   ]
  },
  {
   "cell_type": "code",
   "execution_count": 4,
   "metadata": {},
   "outputs": [],
   "source": [
    "import pandas as pd\n",
    "import numpy as np\n",
    "import matplotlib.pyplot as plt\n",
    "import seaborn as sns; sns.set()\n",
    "import math\n",
    "import statistics\n",
    "from sklearn.model_selection import train_test_split\n",
    "from sklearn.preprocessing import LabelEncoder, OneHotEncoder\n",
    "from sklearn import neighbors, tree, preprocessing\n",
    "from sklearn.metrics import confusion_matrix\n",
    "from sklearn.naive_bayes import GaussianNB\n",
    "import re\n",
    "\n",
    "def int_encode_class(vect):\n",
    "    enc = LabelEncoder()\n",
    "    label_encoder = enc.fit(vect)\n",
    "    integer_classes = label_encoder.transform(label_encoder.classes_)\n",
    "    t = label_encoder.transform(vect)\n",
    "    return t\n",
    "    \n",
    "def int_encode_feature(vect):\n",
    "    return int_encode_class(vect)"
   ]
  },
  {
   "cell_type": "code",
   "execution_count": 5,
   "metadata": {},
   "outputs": [
    {
     "name": "stdout",
     "output_type": "stream",
     "text": [
      "<class 'pandas.core.frame.DataFrame'>\n",
      "RangeIndex: 14993 entries, 0 to 14992\n",
      "Data columns (total 24 columns):\n",
      "Type             14993 non-null int64\n",
      "Name             13736 non-null object\n",
      "Age              14993 non-null int64\n",
      "Breed1           14993 non-null int64\n",
      "Breed2           14993 non-null int64\n",
      "Gender           14993 non-null int64\n",
      "Color1           14993 non-null int64\n",
      "Color2           14993 non-null int64\n",
      "Color3           14993 non-null int64\n",
      "MaturitySize     14993 non-null int64\n",
      "FurLength        14993 non-null int64\n",
      "Vaccinated       14993 non-null int64\n",
      "Dewormed         14993 non-null int64\n",
      "Sterilized       14993 non-null int64\n",
      "Health           14993 non-null int64\n",
      "Quantity         14993 non-null int64\n",
      "Fee              14993 non-null int64\n",
      "State            14993 non-null int64\n",
      "RescuerID        14993 non-null object\n",
      "VideoAmt         14993 non-null int64\n",
      "Description      14981 non-null object\n",
      "PetID            14993 non-null object\n",
      "PhotoAmt         14993 non-null float64\n",
      "AdoptionSpeed    14993 non-null int64\n",
      "dtypes: float64(1), int64(19), object(4)\n",
      "memory usage: 2.7+ MB\n"
     ]
    }
   ],
   "source": [
    "df = pd.read_csv('PetFinder_dataset.csv')\n",
    "df.info()"
   ]
  },
  {
   "cell_type": "markdown",
   "metadata": {},
   "source": [
    "Loading colour, breed and state labels:"
   ]
  },
  {
   "cell_type": "code",
   "execution_count": 6,
   "metadata": {},
   "outputs": [],
   "source": [
    "color_labels = pd.read_csv('color_labels.csv').set_index('ColorID')\n",
    "breed_labels = pd.read_csv('breed_labels.csv').set_index('BreedID')\n",
    "state_labels = pd.read_csv('state_labels.csv').set_index('StateID')"
   ]
  },
  {
   "cell_type": "markdown",
   "metadata": {},
   "source": [
    "## 0.2. Understanding Data"
   ]
  },
  {
   "cell_type": "markdown",
   "metadata": {},
   "source": [
    "### Basic Questions"
   ]
  },
  {
   "cell_type": "markdown",
   "metadata": {},
   "source": [
    "#### How big is the dataset?\n",
    "The dataset contains 14993 entries with 24 features each.\n",
    "\n",
    "#### Is this the entire dataset?\n",
    "The original dataset from PetFinder.my contains over 150,000 animal profiles.\n",
    "\n",
    "#### Is this data representative enough?\n",
    "The dataset represents ~10% of the original data. EDA is required to best assess whether it can be considered a representative sample of the original population.\n",
    "\n",
    "#### Are there likely to be gross outliers or extraordinary sources of noise?\n",
    "EDA can shed light on this topic, by representing data distribution and irregularities that could point to errors in data.\n",
    "\n",
    "#### Are there any fields that are unique identifiers? These are the fields you might use for joining between datasets, etc.\n",
    "All animal profiles are uniquely identified by a PetID. Each PetID also has a non-unique RescuerID, and a non-unique State.\n",
    "\n",
    "#### Are the supposedly unique identifiers actually unique? What does it mean if they aren't?\n",
    "PetID.\n",
    "\n",
    "#### When data entries are blank, where does that come from?\n",
    "The only blank entries in this dataset correspond to animal profiles without an assigned name.\n",
    "\n",
    "#### How common are blank entries?\n",
    "There are ~1200 blank entries, which constitute a significant portion of the data. Given this number, and due to the fact that blank entries have meaning attributed to them, it would perhaps be best to keep this data in the dataset for analysis."
   ]
  },
  {
   "cell_type": "markdown",
   "metadata": {},
   "source": [
    "## Exploratory Data Analysis"
   ]
  },
  {
   "cell_type": "markdown",
   "metadata": {},
   "source": [
    "In order to better understand our dataset and to make decisions about feature selection, feature extraction and general cleaning of the data, we started by plotting distribution of the original features and the target."
   ]
  },
  {
   "cell_type": "markdown",
   "metadata": {},
   "source": [
    "### Target: *AdoptionSpeed*\n",
    "\n",
    "The target feature displayed a clear discrepancy in distribution, showing a significantly lower number of examples for AdoptionSpeed = 0. This imbalance should be addressed, as models tend to neglect minority classes if they don't have a large enough representation in the overall dataset, therefore compromising the classification."
   ]
  },
  {
   "cell_type": "code",
   "execution_count": 678,
   "metadata": {},
   "outputs": [
    {
     "data": {
      "text/plain": [
       "<seaborn.axisgrid.FacetGrid at 0x1a316320d0>"
      ]
     },
     "execution_count": 678,
     "metadata": {},
     "output_type": "execute_result"
    },
    {
     "data": {
      "image/png": "[encoded data removed]",
      "text/plain": [
       "<Figure size 360x360 with 1 Axes>"
      ]
     },
     "metadata": {},
     "output_type": "display_data"
    }
   ],
   "source": [
    "ax = sns.catplot(x=\"AdoptionSpeed\",data=df, kind='count')\n",
    "(ax.set_axis_labels(\"Adoption Speed\", \"Number of Pets\"))"
   ]
  },
  {
   "cell_type": "markdown",
   "metadata": {},
   "source": [
    "### Overall correlations\n",
    "The plot bellow illustrates the absolute correlation between  each feature and the target class \"AdoptionSpeed\". All correlations are very low (<15%)"
   ]
  },
  {
   "cell_type": "code",
   "execution_count": 679,
   "metadata": {},
   "outputs": [
    {
     "data": {
      "text/plain": [
       "([<matplotlib.axis.XTick at 0x1a25d3c190>,\n",
       "  <matplotlib.axis.XTick at 0x1a25d60650>,\n",
       "  <matplotlib.axis.XTick at 0x1a3688ef90>,\n",
       "  <matplotlib.axis.XTick at 0x1a372afe10>,\n",
       "  <matplotlib.axis.XTick at 0x1a372af790>,\n",
       "  <matplotlib.axis.XTick at 0x1a37f643d0>,\n",
       "  <matplotlib.axis.XTick at 0x1a37f64a90>,\n",
       "  <matplotlib.axis.XTick at 0x1a372af0d0>,\n",
       "  <matplotlib.axis.XTick at 0x1a37f64f10>,\n",
       "  <matplotlib.axis.XTick at 0x1a372a9850>,\n",
       "  <matplotlib.axis.XTick at 0x1a372a9a50>,\n",
       "  <matplotlib.axis.XTick at 0x1a3728d750>,\n",
       "  <matplotlib.axis.XTick at 0x1a36f8fc90>,\n",
       "  <matplotlib.axis.XTick at 0x1a36d46f50>,\n",
       "  <matplotlib.axis.XTick at 0x1a36e98490>,\n",
       "  <matplotlib.axis.XTick at 0x1a36e98ad0>,\n",
       "  <matplotlib.axis.XTick at 0x1a36e98f90>,\n",
       "  <matplotlib.axis.XTick at 0x1a3728d050>,\n",
       "  <matplotlib.axis.XTick at 0x1a36e39450>],\n",
       " <a list of 19 Text xticklabel objects>)"
      ]
     },
     "execution_count": 679,
     "metadata": {},
     "output_type": "execute_result"
    },
    {
     "data": {
      "image/png": "[encoded data removed]",
      "text/plain": [
       "<Figure size 1440x504 with 1 Axes>"
      ]
     },
     "metadata": {},
     "output_type": "display_data"
    }
   ],
   "source": [
    "numeric_df = df.select_dtypes(exclude=['object'])\n",
    "corr_dict = {}\n",
    "for feature in numeric_df.columns:\n",
    "    corr_dict[feature] = abs(df['AdoptionSpeed'].corr(df[feature]))\n",
    "    #print(feature, '-->', corr_dict[feature])\n",
    "    \n",
    "corr_dict.pop('AdoptionSpeed')\n",
    "plt.figure(figsize=(20,7))\n",
    "plt.bar(range(len(corr_dict)), list(corr_dict.values()), align='center')\n",
    "plt.xticks(range(len(corr_dict)), list(corr_dict.keys()))"
   ]
  },
  {
   "cell_type": "markdown",
   "metadata": {},
   "source": [
    "### PetID\n",
    "\n",
    "Since PetID is not informative of the pet profile (it acts solely as a unique identifier of the page), it would be excluded from the analysis, although it will be used as an index for the dataFrame. It can be later useful when evaluating model performance, as the respective record values can reveal if certain features were appropriately categorised."
   ]
  },
  {
   "cell_type": "code",
   "execution_count": 680,
   "metadata": {},
   "outputs": [
    {
     "data": {
      "text/html": [
       "<div>\n",
       "<style scoped>\n",
       "    .dataframe tbody tr th:only-of-type {\n",
       "        vertical-align: middle;\n",
       "    }\n",
       "\n",
       "    .dataframe tbody tr th {\n",
       "        vertical-align: top;\n",
       "    }\n",
       "\n",
       "    .dataframe thead th {\n",
       "        text-align: right;\n",
       "    }\n",
       "</style>\n",
       "<table border=\"1\" class=\"dataframe\">\n",
       "  <thead>\n",
       "    <tr style=\"text-align: right;\">\n",
       "      <th></th>\n",
       "      <th>Type</th>\n",
       "      <th>Name</th>\n",
       "      <th>Age</th>\n",
       "      <th>Breed1</th>\n",
       "      <th>Breed2</th>\n",
       "      <th>Gender</th>\n",
       "      <th>Color1</th>\n",
       "      <th>Color2</th>\n",
       "      <th>Color3</th>\n",
       "      <th>MaturitySize</th>\n",
       "      <th>...</th>\n",
       "      <th>Sterilized</th>\n",
       "      <th>Health</th>\n",
       "      <th>Quantity</th>\n",
       "      <th>Fee</th>\n",
       "      <th>State</th>\n",
       "      <th>RescuerID</th>\n",
       "      <th>VideoAmt</th>\n",
       "      <th>Description</th>\n",
       "      <th>PhotoAmt</th>\n",
       "      <th>AdoptionSpeed</th>\n",
       "    </tr>\n",
       "    <tr>\n",
       "      <th>PetID</th>\n",
       "      <th></th>\n",
       "      <th></th>\n",
       "      <th></th>\n",
       "      <th></th>\n",
       "      <th></th>\n",
       "      <th></th>\n",
       "      <th></th>\n",
       "      <th></th>\n",
       "      <th></th>\n",
       "      <th></th>\n",
       "      <th></th>\n",
       "      <th></th>\n",
       "      <th></th>\n",
       "      <th></th>\n",
       "      <th></th>\n",
       "      <th></th>\n",
       "      <th></th>\n",
       "      <th></th>\n",
       "      <th></th>\n",
       "      <th></th>\n",
       "      <th></th>\n",
       "    </tr>\n",
       "  </thead>\n",
       "  <tbody>\n",
       "    <tr>\n",
       "      <td>86e1089a3</td>\n",
       "      <td>2</td>\n",
       "      <td>Nibble</td>\n",
       "      <td>3</td>\n",
       "      <td>299</td>\n",
       "      <td>0</td>\n",
       "      <td>1</td>\n",
       "      <td>1</td>\n",
       "      <td>7</td>\n",
       "      <td>0</td>\n",
       "      <td>1</td>\n",
       "      <td>...</td>\n",
       "      <td>2</td>\n",
       "      <td>1</td>\n",
       "      <td>1</td>\n",
       "      <td>100</td>\n",
       "      <td>41326</td>\n",
       "      <td>8480853f516546f6cf33aa88cd76c379</td>\n",
       "      <td>0</td>\n",
       "      <td>Nibble is a 3+ month old ball of cuteness. He ...</td>\n",
       "      <td>1.0</td>\n",
       "      <td>2</td>\n",
       "    </tr>\n",
       "    <tr>\n",
       "      <td>6296e909a</td>\n",
       "      <td>2</td>\n",
       "      <td>No Name Yet</td>\n",
       "      <td>1</td>\n",
       "      <td>265</td>\n",
       "      <td>0</td>\n",
       "      <td>1</td>\n",
       "      <td>1</td>\n",
       "      <td>2</td>\n",
       "      <td>0</td>\n",
       "      <td>2</td>\n",
       "      <td>...</td>\n",
       "      <td>3</td>\n",
       "      <td>1</td>\n",
       "      <td>1</td>\n",
       "      <td>0</td>\n",
       "      <td>41401</td>\n",
       "      <td>3082c7125d8fb66f7dd4bff4192c8b14</td>\n",
       "      <td>0</td>\n",
       "      <td>I just found it alone yesterday near my apartm...</td>\n",
       "      <td>2.0</td>\n",
       "      <td>0</td>\n",
       "    </tr>\n",
       "    <tr>\n",
       "      <td>3422e4906</td>\n",
       "      <td>1</td>\n",
       "      <td>Brisco</td>\n",
       "      <td>1</td>\n",
       "      <td>307</td>\n",
       "      <td>0</td>\n",
       "      <td>1</td>\n",
       "      <td>2</td>\n",
       "      <td>7</td>\n",
       "      <td>0</td>\n",
       "      <td>2</td>\n",
       "      <td>...</td>\n",
       "      <td>2</td>\n",
       "      <td>1</td>\n",
       "      <td>1</td>\n",
       "      <td>0</td>\n",
       "      <td>41326</td>\n",
       "      <td>fa90fa5b1ee11c86938398b60abc32cb</td>\n",
       "      <td>0</td>\n",
       "      <td>Their pregnant mother was dumped by her irresp...</td>\n",
       "      <td>7.0</td>\n",
       "      <td>3</td>\n",
       "    </tr>\n",
       "    <tr>\n",
       "      <td>5842f1ff5</td>\n",
       "      <td>1</td>\n",
       "      <td>Miko</td>\n",
       "      <td>4</td>\n",
       "      <td>307</td>\n",
       "      <td>0</td>\n",
       "      <td>2</td>\n",
       "      <td>1</td>\n",
       "      <td>2</td>\n",
       "      <td>0</td>\n",
       "      <td>2</td>\n",
       "      <td>...</td>\n",
       "      <td>2</td>\n",
       "      <td>1</td>\n",
       "      <td>1</td>\n",
       "      <td>150</td>\n",
       "      <td>41401</td>\n",
       "      <td>9238e4f44c71a75282e62f7136c6b240</td>\n",
       "      <td>0</td>\n",
       "      <td>Good guard dog, very alert, active, obedience ...</td>\n",
       "      <td>8.0</td>\n",
       "      <td>2</td>\n",
       "    </tr>\n",
       "    <tr>\n",
       "      <td>850a43f90</td>\n",
       "      <td>1</td>\n",
       "      <td>Hunter</td>\n",
       "      <td>1</td>\n",
       "      <td>307</td>\n",
       "      <td>0</td>\n",
       "      <td>1</td>\n",
       "      <td>1</td>\n",
       "      <td>0</td>\n",
       "      <td>0</td>\n",
       "      <td>2</td>\n",
       "      <td>...</td>\n",
       "      <td>2</td>\n",
       "      <td>1</td>\n",
       "      <td>1</td>\n",
       "      <td>0</td>\n",
       "      <td>41326</td>\n",
       "      <td>95481e953f8aed9ec3d16fc4509537e8</td>\n",
       "      <td>0</td>\n",
       "      <td>This handsome yet cute boy is up for adoption....</td>\n",
       "      <td>3.0</td>\n",
       "      <td>2</td>\n",
       "    </tr>\n",
       "  </tbody>\n",
       "</table>\n",
       "<p>5 rows × 23 columns</p>\n",
       "</div>"
      ],
      "text/plain": [
       "           Type         Name  Age  Breed1  Breed2  Gender  Color1  Color2  \\\n",
       "PetID                                                                       \n",
       "86e1089a3     2       Nibble    3     299       0       1       1       7   \n",
       "6296e909a     2  No Name Yet    1     265       0       1       1       2   \n",
       "3422e4906     1       Brisco    1     307       0       1       2       7   \n",
       "5842f1ff5     1         Miko    4     307       0       2       1       2   \n",
       "850a43f90     1       Hunter    1     307       0       1       1       0   \n",
       "\n",
       "           Color3  MaturitySize  ...  Sterilized  Health  Quantity  Fee  \\\n",
       "PetID                            ...                                      \n",
       "86e1089a3       0             1  ...           2       1         1  100   \n",
       "6296e909a       0             2  ...           3       1         1    0   \n",
       "3422e4906       0             2  ...           2       1         1    0   \n",
       "5842f1ff5       0             2  ...           2       1         1  150   \n",
       "850a43f90       0             2  ...           2       1         1    0   \n",
       "\n",
       "           State                         RescuerID  VideoAmt  \\\n",
       "PetID                                                          \n",
       "86e1089a3  41326  8480853f516546f6cf33aa88cd76c379         0   \n",
       "6296e909a  41401  3082c7125d8fb66f7dd4bff4192c8b14         0   \n",
       "3422e4906  41326  fa90fa5b1ee11c86938398b60abc32cb         0   \n",
       "5842f1ff5  41401  9238e4f44c71a75282e62f7136c6b240         0   \n",
       "850a43f90  41326  95481e953f8aed9ec3d16fc4509537e8         0   \n",
       "\n",
       "                                                 Description PhotoAmt  \\\n",
       "PetID                                                                   \n",
       "86e1089a3  Nibble is a 3+ month old ball of cuteness. He ...      1.0   \n",
       "6296e909a  I just found it alone yesterday near my apartm...      2.0   \n",
       "3422e4906  Their pregnant mother was dumped by her irresp...      7.0   \n",
       "5842f1ff5  Good guard dog, very alert, active, obedience ...      8.0   \n",
       "850a43f90  This handsome yet cute boy is up for adoption....      3.0   \n",
       "\n",
       "           AdoptionSpeed  \n",
       "PetID                     \n",
       "86e1089a3              2  \n",
       "6296e909a              0  \n",
       "3422e4906              3  \n",
       "5842f1ff5              2  \n",
       "850a43f90              2  \n",
       "\n",
       "[5 rows x 23 columns]"
      ]
     },
     "execution_count": 680,
     "metadata": {},
     "output_type": "execute_result"
    }
   ],
   "source": [
    "df.set_index(\"PetID\", inplace=True) # change index to PetId\n",
    "df.head()"
   ]
  },
  {
   "cell_type": "markdown",
   "metadata": {},
   "source": [
    "### Strategy\n",
    "\n",
    "The following analysis was done to each feature:\n",
    "* Check the number of examples for each feature values.\n",
    "* Check the distribution of each feature values' among AdoptionSpeed classes.\n",
    "\n",
    "For the second step we used the following visualisation method, which returns not only a plot on the distribution but also a table of representativity percentage gain of each feature's values for each AdoptionSpeed class, relatively to AdoptionSpeed=0:"
   ]
  },
  {
   "cell_type": "code",
   "execution_count": 18,
   "metadata": {},
   "outputs": [],
   "source": [
    "# creates a stacked bar plot for any two categorical variables\n",
    "# also creates a relative frequency version of the same plot\n",
    "# and a relative gain compared to AdoptionSpeed=0 \n",
    "# frel=False to return only the absolute frequency plot\n",
    "\n",
    "def cat_distr_pairwise(cat_x,cat_y, df, frel):\n",
    "    \n",
    "    unique_cat_y = sorted(df[cat_y].unique())\n",
    "    unique_cat_x = sorted(df[cat_x].unique())\n",
    "    cat_count = pd.DataFrame(columns=unique_cat_y,index=unique_cat_x)\n",
    "    for y in unique_cat_y:\n",
    "        for x in unique_cat_x:\n",
    "            count = df[cat_y][(df[cat_x]==x) & (df[cat_y]==y)].count()\n",
    "            cat_count.at[x,y] = count \n",
    "    \n",
    "    def color(val):\n",
    "        if val < 0:\n",
    "            color = 'red'\n",
    "        elif val>0:\n",
    "            color = 'green'\n",
    "        else:\n",
    "            color='white'\n",
    "        return 'background-color: %s' % color\n",
    "    \n",
    "    if frel==False:\n",
    "        \n",
    "        #relative gain table\n",
    "        relgain = cat_count.pct_change().cumsum() * 100\n",
    "        print(\"Relative gain from AdoptionSpeed=0 (%):\")\n",
    "        display(relgain.style.applymap(color))\n",
    "        return cat_count.plot.bar(stacked=True, figsize=(10,7))\n",
    "    \n",
    "    else:\n",
    "        #relative frequency stacked bar plot\n",
    "        freq_cat_count = cat_count.divide(cat_count.sum(axis=1), axis=0)\n",
    "        \n",
    "        #relative gain table\n",
    "        relgain = freq_cat_count.pct_change().cumsum() * 100\n",
    "        print(\"Relative gain from AdoptionSpeed=0 (%):\")\n",
    "        display(relgain.style.applymap(color))\n",
    "\n",
    "        return freq_cat_count.plot.bar(stacked=True, figsize=(10,7), title=cat_y + \" relative distribuiton among AdoptionSpeed\")\n",
    "    "
   ]
  },
  {
   "cell_type": "markdown",
   "metadata": {},
   "source": [
    "We will now present the most important conclusions taken from this analysis."
   ]
  },
  {
   "cell_type": "markdown",
   "metadata": {},
   "source": [
    "### Type\n",
    "\n",
    "Because we are going to later create type-specific predictive models, it would be relevant to see the number of cases we have in our dataset for each animal (cat or dog)."
   ]
  },
  {
   "cell_type": "code",
   "execution_count": 681,
   "metadata": {},
   "outputs": [
    {
     "data": {
      "text/plain": [
       "<seaborn.axisgrid.FacetGrid at 0x1a37269950>"
      ]
     },
     "execution_count": 681,
     "metadata": {},
     "output_type": "execute_result"
    },
    {
     "data": {
      "image/png": "[encoded data removed]",
      "text/plain": [
       "<Figure size 360x360 with 1 Axes>"
      ]
     },
     "metadata": {},
     "output_type": "display_data"
    }
   ],
   "source": [
    "bx = sns.catplot(x=\"Type\",data=df, kind='count')\n",
    "(bx.set_axis_labels(\"Type\", \"Number of Pets\")\n",
    "    .set_xticklabels([\"Dogs\", \"Cats\"])\n",
    "    .set_titles(\"{col_name} {col_var}\")\n",
    "    .despine(left=True))  "
   ]
  },
  {
   "cell_type": "code",
   "execution_count": 20,
   "metadata": {},
   "outputs": [
    {
     "name": "stdout",
     "output_type": "stream",
     "text": [
      "Relative gain from AdoptionSpeed=0 (%):\n"
     ]
    },
    {
     "data": {
      "text/html": [
       "<style  type=\"text/css\" >\n",
       "    #T_6f35b8e4_19ae_11ea_9ee5_c869cd93ed7crow0_col0 {\n",
       "            background-color:  white;\n",
       "        }    #T_6f35b8e4_19ae_11ea_9ee5_c869cd93ed7crow0_col1 {\n",
       "            background-color:  white;\n",
       "        }    #T_6f35b8e4_19ae_11ea_9ee5_c869cd93ed7crow1_col0 {\n",
       "            background-color:  green;\n",
       "        }    #T_6f35b8e4_19ae_11ea_9ee5_c869cd93ed7crow1_col1 {\n",
       "            background-color:  red;\n",
       "        }    #T_6f35b8e4_19ae_11ea_9ee5_c869cd93ed7crow2_col0 {\n",
       "            background-color:  green;\n",
       "        }    #T_6f35b8e4_19ae_11ea_9ee5_c869cd93ed7crow2_col1 {\n",
       "            background-color:  red;\n",
       "        }    #T_6f35b8e4_19ae_11ea_9ee5_c869cd93ed7crow3_col0 {\n",
       "            background-color:  green;\n",
       "        }    #T_6f35b8e4_19ae_11ea_9ee5_c869cd93ed7crow3_col1 {\n",
       "            background-color:  red;\n",
       "        }    #T_6f35b8e4_19ae_11ea_9ee5_c869cd93ed7crow4_col0 {\n",
       "            background-color:  green;\n",
       "        }    #T_6f35b8e4_19ae_11ea_9ee5_c869cd93ed7crow4_col1 {\n",
       "            background-color:  red;\n",
       "        }</style><table id=\"T_6f35b8e4_19ae_11ea_9ee5_c869cd93ed7c\" ><thead>    <tr>        <th class=\"blank level0\" ></th>        <th class=\"col_heading level0 col0\" >1</th>        <th class=\"col_heading level0 col1\" >2</th>    </tr></thead><tbody>\n",
       "                <tr>\n",
       "                        <th id=\"T_6f35b8e4_19ae_11ea_9ee5_c869cd93ed7clevel0_row0\" class=\"row_heading level0 row0\" >0</th>\n",
       "                        <td id=\"T_6f35b8e4_19ae_11ea_9ee5_c869cd93ed7crow0_col0\" class=\"data row0 col0\" >nan</td>\n",
       "                        <td id=\"T_6f35b8e4_19ae_11ea_9ee5_c869cd93ed7crow0_col1\" class=\"data row0 col1\" >nan</td>\n",
       "            </tr>\n",
       "            <tr>\n",
       "                        <th id=\"T_6f35b8e4_19ae_11ea_9ee5_c869cd93ed7clevel0_row1\" class=\"row_heading level0 row1\" >1</th>\n",
       "                        <td id=\"T_6f35b8e4_19ae_11ea_9ee5_c869cd93ed7crow1_col0\" class=\"data row1 col0\" >12.0027</td>\n",
       "                        <td id=\"T_6f35b8e4_19ae_11ea_9ee5_c869cd93ed7crow1_col1\" class=\"data row1 col1\" >-8.50189</td>\n",
       "            </tr>\n",
       "            <tr>\n",
       "                        <th id=\"T_6f35b8e4_19ae_11ea_9ee5_c869cd93ed7clevel0_row2\" class=\"row_heading level0 row2\" >2</th>\n",
       "                        <td id=\"T_6f35b8e4_19ae_11ea_9ee5_c869cd93ed7crow2_col0\" class=\"data row2 col0\" >27.429</td>\n",
       "                        <td id=\"T_6f35b8e4_19ae_11ea_9ee5_c869cd93ed7crow2_col1\" class=\"data row2 col1\" >-21.8776</td>\n",
       "            </tr>\n",
       "            <tr>\n",
       "                        <th id=\"T_6f35b8e4_19ae_11ea_9ee5_c869cd93ed7clevel0_row3\" class=\"row_heading level0 row3\" >3</th>\n",
       "                        <td id=\"T_6f35b8e4_19ae_11ea_9ee5_c869cd93ed7crow3_col0\" class=\"data row3 col0\" >38.9943</td>\n",
       "                        <td id=\"T_6f35b8e4_19ae_11ea_9ee5_c869cd93ed7crow3_col1\" class=\"data row3 col1\" >-35.2397</td>\n",
       "            </tr>\n",
       "            <tr>\n",
       "                        <th id=\"T_6f35b8e4_19ae_11ea_9ee5_c869cd93ed7clevel0_row4\" class=\"row_heading level0 row4\" >4</th>\n",
       "                        <td id=\"T_6f35b8e4_19ae_11ea_9ee5_c869cd93ed7crow4_col0\" class=\"data row4 col0\" >35.1712</td>\n",
       "                        <td id=\"T_6f35b8e4_19ae_11ea_9ee5_c869cd93ed7crow4_col1\" class=\"data row4 col1\" >-29.5518</td>\n",
       "            </tr>\n",
       "    </tbody></table>"
      ],
      "text/plain": [
       "<pandas.io.formats.style.Styler at 0x1a1f9837d0>"
      ]
     },
     "metadata": {},
     "output_type": "display_data"
    },
    {
     "data": {
      "text/plain": [
       "<matplotlib.axes._subplots.AxesSubplot at 0x1a1f97b7d0>"
      ]
     },
     "execution_count": 20,
     "metadata": {},
     "output_type": "execute_result"
    },
    {
     "data": {
      "image/png": "[encoded data removed]",
      "text/plain": [
       "<Figure size 720x504 with 1 Axes>"
      ]
     },
     "metadata": {
      "needs_background": "light"
     },
     "output_type": "display_data"
    }
   ],
   "source": [
    "cat_distr_pairwise('AdoptionSpeed','Type', df, frel=True)"
   ]
  },
  {
   "cell_type": "markdown",
   "metadata": {},
   "source": [
    "Looking at our data, the number of examples of dogs and cats is fairly proportional, as well as their relative distribution among target classes. \n",
    "Looking at the gain table, it is clear that dogs(1) tend to get adopted later relatively to cats(2),  which we can see by the growing relative gain. In fact, the number of dogs with no adoption after 100 days (adoptionSpeed=4) is 37% higher than dogs being adopted on the same day (adoptionSpeed=0). On the other hand, we observe the opposite phenomena on cats. They tend to be adopted at ealier stages, being the number of cats with no adoption after 100 days (adoptionSpeed=4) is 29% lower than cats being adopted on the same day (adoptionSpeed=0).\n",
    "Despite this small discrepancies, we expect the resulting models' performance to be comparable.\n",
    "\n"
   ]
  },
  {
   "cell_type": "markdown",
   "metadata": {},
   "source": [
    "### Name\n",
    "Since a reasonable amount of the profiles didn't make any reference to name (empty) a first approach would be to fill those empty values with a fixed value such as \"No Name\" or similar.\n",
    "Other approach would be to transform this feature into a binary one with a 0 value for profiles with no name and a 1 value for the opposite.\n",
    "Since it was later found that some of the named profiles were filled with \"No Name\" and derivatives of this name such as \"No Name Yet\", \"V6\", \"å°è±¹çº¹\" etc., which are not proper names, we made an attempt to classify those cases as \"No name\" as well."
   ]
  },
  {
   "cell_type": "code",
   "execution_count": 27,
   "metadata": {},
   "outputs": [
    {
     "name": "stdout",
     "output_type": "stream",
     "text": [
      "A glimpse on the ignored names: ['No Name Yet', 'No Name', 'No Name', 'H3', 'Z3', 'C', 'No Name', 'No Name', 'BB', 'QQ', 'Y1', 'No Name', 'H1', 'No Name Yet', 'D9', 'Y4', 'No Name', 'Z4', 'No Name', 'Unnamed', 'BB', 'DD', 'M2', 'H6', 'D4', 'QQ', 'JJ', 'No Names', 'å°\\x8fè±¹çº¹', 'ä¼\\x98ç¾\\x8eå\\x8f¯ç¬\\x91', 'F1', 'æ©\\x98å\\xad\\x90', 'W7', '(No Name)', 'No Name Yet', 'No Name', '1F', 'Q1', '6', 'CJ', '3F', '[No Name]', 'BB', 'KD', 'No Name Yet', 'No Name Yet', 'DD', 'No Name', 'G1', 'è\\x8f\\x9cè\\x8f\\x9cã\\x80\\x82']\n"
     ]
    },
    {
     "data": {
      "image/png": "[encoded data removed]",
      "text/plain": [
       "<Figure size 432x288 with 1 Axes>"
      ]
     },
     "metadata": {},
     "output_type": "display_data"
    }
   ],
   "source": [
    "# Create new feature - hasNames\n",
    "l = []\n",
    "ignore = []\n",
    "\n",
    "for i in df[\"Name\"]:\n",
    "    if type(i)!=str: # Some empty descriptions are type:float\n",
    "        l.append(0)\n",
    "    else:\n",
    "        if len(i)<3: #Consider that a 2 letter name is not a proper name.\n",
    "            l.append(0)\n",
    "            ignore.append(i)\n",
    "        elif re.search(\"[a-zA-Z]\", i) == None: #If name doesn't have letters, it's not a proper name.\n",
    "            l.append(0)\n",
    "            ignore.append(i)\n",
    "        elif re.search(\"unnamed|no name\",i, re.IGNORECASE) != None: \n",
    "            #If name string includes \"unnamed\" or \"no name\", it's not a proper name\n",
    "            l.append(0)\n",
    "            ignore.append(i)\n",
    "        elif len(i.split())>0:\n",
    "            l.append(1)\n",
    "\n",
    "print(\"A glimpse on the ignored names:\",ignore[:50])\n",
    "df_processed1 = df.copy()\n",
    "df_processed1.drop(\"Name\", axis=1, inplace = True)\n",
    "df_processed1.insert(1,\"hasName\",l) ##INSERT IN DATAFRAME\n",
    "\n",
    "sns.set(style=\"whitegrid\")\n",
    "ax = sns.countplot(x=\"hasName\", data=df_processed1)"
   ]
  },
  {
   "cell_type": "code",
   "execution_count": 26,
   "metadata": {},
   "outputs": [
    {
     "name": "stdout",
     "output_type": "stream",
     "text": [
      "Relative gain from AdoptionSpeed=0 (%):\n"
     ]
    },
    {
     "data": {
      "text/html": [
       "<style  type=\"text/css\" >\n",
       "    #T_fc9fac58_19b3_11ea_9ee5_c869cd93ed7crow0_col0 {\n",
       "            background-color:  white;\n",
       "        }    #T_fc9fac58_19b3_11ea_9ee5_c869cd93ed7crow0_col1 {\n",
       "            background-color:  white;\n",
       "        }    #T_fc9fac58_19b3_11ea_9ee5_c869cd93ed7crow1_col0 {\n",
       "            background-color:  green;\n",
       "        }    #T_fc9fac58_19b3_11ea_9ee5_c869cd93ed7crow1_col1 {\n",
       "            background-color:  red;\n",
       "        }    #T_fc9fac58_19b3_11ea_9ee5_c869cd93ed7crow2_col0 {\n",
       "            background-color:  green;\n",
       "        }    #T_fc9fac58_19b3_11ea_9ee5_c869cd93ed7crow2_col1 {\n",
       "            background-color:  red;\n",
       "        }    #T_fc9fac58_19b3_11ea_9ee5_c869cd93ed7crow3_col0 {\n",
       "            background-color:  green;\n",
       "        }    #T_fc9fac58_19b3_11ea_9ee5_c869cd93ed7crow3_col1 {\n",
       "            background-color:  red;\n",
       "        }    #T_fc9fac58_19b3_11ea_9ee5_c869cd93ed7crow4_col0 {\n",
       "            background-color:  green;\n",
       "        }    #T_fc9fac58_19b3_11ea_9ee5_c869cd93ed7crow4_col1 {\n",
       "            background-color:  red;\n",
       "        }</style><table id=\"T_fc9fac58_19b3_11ea_9ee5_c869cd93ed7c\" ><thead>    <tr>        <th class=\"blank level0\" ></th>        <th class=\"col_heading level0 col0\" >0</th>        <th class=\"col_heading level0 col1\" >1</th>    </tr></thead><tbody>\n",
       "                <tr>\n",
       "                        <th id=\"T_fc9fac58_19b3_11ea_9ee5_c869cd93ed7clevel0_row0\" class=\"row_heading level0 row0\" >0</th>\n",
       "                        <td id=\"T_fc9fac58_19b3_11ea_9ee5_c869cd93ed7crow0_col0\" class=\"data row0 col0\" >nan</td>\n",
       "                        <td id=\"T_fc9fac58_19b3_11ea_9ee5_c869cd93ed7crow0_col1\" class=\"data row0 col1\" >nan</td>\n",
       "            </tr>\n",
       "            <tr>\n",
       "                        <th id=\"T_fc9fac58_19b3_11ea_9ee5_c869cd93ed7clevel0_row1\" class=\"row_heading level0 row1\" >1</th>\n",
       "                        <td id=\"T_fc9fac58_19b3_11ea_9ee5_c869cd93ed7crow1_col0\" class=\"data row1 col0\" >28.3828</td>\n",
       "                        <td id=\"T_fc9fac58_19b3_11ea_9ee5_c869cd93ed7crow1_col1\" class=\"data row1 col1\" >-2.81545</td>\n",
       "            </tr>\n",
       "            <tr>\n",
       "                        <th id=\"T_fc9fac58_19b3_11ea_9ee5_c869cd93ed7clevel0_row2\" class=\"row_heading level0 row2\" >2</th>\n",
       "                        <td id=\"T_fc9fac58_19b3_11ea_9ee5_c869cd93ed7crow2_col0\" class=\"data row2 col0\" >14.3321</td>\n",
       "                        <td id=\"T_fc9fac58_19b3_11ea_9ee5_c869cd93ed7crow2_col1\" class=\"data row2 col1\" >-0.974261</td>\n",
       "            </tr>\n",
       "            <tr>\n",
       "                        <th id=\"T_fc9fac58_19b3_11ea_9ee5_c869cd93ed7clevel0_row3\" class=\"row_heading level0 row3\" >3</th>\n",
       "                        <td id=\"T_fc9fac58_19b3_11ea_9ee5_c869cd93ed7crow3_col0\" class=\"data row3 col0\" >9.85559</td>\n",
       "                        <td id=\"T_fc9fac58_19b3_11ea_9ee5_c869cd93ed7crow3_col1\" class=\"data row3 col1\" >-0.479193</td>\n",
       "            </tr>\n",
       "            <tr>\n",
       "                        <th id=\"T_fc9fac58_19b3_11ea_9ee5_c869cd93ed7clevel0_row4\" class=\"row_heading level0 row4\" >4</th>\n",
       "                        <td id=\"T_fc9fac58_19b3_11ea_9ee5_c869cd93ed7crow4_col0\" class=\"data row4 col0\" >38.1045</td>\n",
       "                        <td id=\"T_fc9fac58_19b3_11ea_9ee5_c869cd93ed7crow4_col1\" class=\"data row4 col1\" >-3.44873</td>\n",
       "            </tr>\n",
       "    </tbody></table>"
      ],
      "text/plain": [
       "<pandas.io.formats.style.Styler at 0x1a1e77bfd0>"
      ]
     },
     "metadata": {},
     "output_type": "display_data"
    },
    {
     "data": {
      "text/plain": [
       "<matplotlib.axes._subplots.AxesSubplot at 0x10898d210>"
      ]
     },
     "execution_count": 26,
     "metadata": {},
     "output_type": "execute_result"
    },
    {
     "data": {
      "image/png": "[encoded data removed]",
      "text/plain": [
       "<Figure size 720x504 with 1 Axes>"
      ]
     },
     "metadata": {},
     "output_type": "display_data"
    }
   ],
   "source": [
    "cat_distr_pairwise('AdoptionSpeed','hasName', df_processed1, frel=True)"
   ]
  },
  {
   "cell_type": "markdown",
   "metadata": {},
   "source": [
    "As we can see from the plot above, the relative distribution of the \"noName\" feature values among \"AdoptionSpeed\" classes is very similar. This probabably means that the pet's name is not a very important factor in the adopter's decision."
   ]
  },
  {
   "cell_type": "markdown",
   "metadata": {},
   "source": [
    "### Age\n",
    "\n",
    "When looking at the Age distribution, we can see that there are peaks every 12 months. Young pets (less than 1 year old) are the most frequent."
   ]
  },
  {
   "cell_type": "code",
   "execution_count": 686,
   "metadata": {},
   "outputs": [
    {
     "data": {
      "image/png": "[encoded data removed]",
      "text/plain": [
       "<Figure size 1080x360 with 1 Axes>"
      ]
     },
     "metadata": {},
     "output_type": "display_data"
    }
   ],
   "source": [
    "a = df['Age'] # get Age array\n",
    "nr_bins = 1 + 3.322*math.log(len(a),2) # Number of bins according to Sturges rule\n",
    "sns.set(rc={'figure.figsize':(15,5)}) # set figure size\n",
    "\n",
    "# setting up the axis\n",
    "fig, ax = plt.subplots()\n",
    "ticks = [i for i in range(0,260,12)]\n",
    "ticks.pop(0)\n",
    "ax.set_xticks(ticks)\n",
    "plt.xlim([0.0,250])\n",
    "\n",
    "sns.distplot(a, bins=round(nr_bins), kde=False, axlabel=\"Age (months)\");"
   ]
  },
  {
   "cell_type": "markdown",
   "metadata": {},
   "source": [
    "The average cat is considered a kitten roughly until it reaches the age of 1 year old. The same goes for puppies. On the other hand, dogs and cats are considered Seniors roughly when they reach the age of 6 years. Of course, these are approximations, as the classification varies with the type of animal (cats or dogs), breed, size and many other factors.\n",
    "\n",
    "In this sense, we will consider these categories:\n",
    "* Baby - age 0-11 months => 0\n",
    "* Adult - age 12-71 months =>1\n",
    "* Senior - age 72-250 months =>2"
   ]
  },
  {
   "cell_type": "code",
   "execution_count": 28,
   "metadata": {},
   "outputs": [],
   "source": [
    "# Create new feature - AgeGroup\n",
    "AgeGroup = []\n",
    "for i in df[\"Age\"]:\n",
    "    if i<12:\n",
    "        AgeGroup.append(0)\n",
    "    elif i<72:\n",
    "        AgeGroup.append(1)\n",
    "    else:\n",
    "        AgeGroup.append(2)\n",
    "\n",
    "df_processed2 = df_processed1.copy()\n",
    "df_processed2.drop(\"Age\", axis=1, inplace = True)\n",
    "df_processed2.insert(2,\"AgeGroup\",AgeGroup) ##INSERT IN DATAFRAME"
   ]
  },
  {
   "cell_type": "code",
   "execution_count": 30,
   "metadata": {},
   "outputs": [
    {
     "name": "stdout",
     "output_type": "stream",
     "text": [
      "Relative gain from AdoptionSpeed=0 (%):\n"
     ]
    },
    {
     "data": {
      "text/html": [
       "<style  type=\"text/css\" >\n",
       "    #T_d0ad6ae8_19b5_11ea_9ee5_c869cd93ed7crow0_col0 {\n",
       "            background-color:  white;\n",
       "        }    #T_d0ad6ae8_19b5_11ea_9ee5_c869cd93ed7crow0_col1 {\n",
       "            background-color:  white;\n",
       "        }    #T_d0ad6ae8_19b5_11ea_9ee5_c869cd93ed7crow0_col2 {\n",
       "            background-color:  white;\n",
       "        }    #T_d0ad6ae8_19b5_11ea_9ee5_c869cd93ed7crow1_col0 {\n",
       "            background-color:  green;\n",
       "        }    #T_d0ad6ae8_19b5_11ea_9ee5_c869cd93ed7crow1_col1 {\n",
       "            background-color:  red;\n",
       "        }    #T_d0ad6ae8_19b5_11ea_9ee5_c869cd93ed7crow1_col2 {\n",
       "            background-color:  red;\n",
       "        }    #T_d0ad6ae8_19b5_11ea_9ee5_c869cd93ed7crow2_col0 {\n",
       "            background-color:  green;\n",
       "        }    #T_d0ad6ae8_19b5_11ea_9ee5_c869cd93ed7crow2_col1 {\n",
       "            background-color:  red;\n",
       "        }    #T_d0ad6ae8_19b5_11ea_9ee5_c869cd93ed7crow2_col2 {\n",
       "            background-color:  green;\n",
       "        }    #T_d0ad6ae8_19b5_11ea_9ee5_c869cd93ed7crow3_col0 {\n",
       "            background-color:  green;\n",
       "        }    #T_d0ad6ae8_19b5_11ea_9ee5_c869cd93ed7crow3_col1 {\n",
       "            background-color:  red;\n",
       "        }    #T_d0ad6ae8_19b5_11ea_9ee5_c869cd93ed7crow3_col2 {\n",
       "            background-color:  green;\n",
       "        }    #T_d0ad6ae8_19b5_11ea_9ee5_c869cd93ed7crow4_col0 {\n",
       "            background-color:  red;\n",
       "        }    #T_d0ad6ae8_19b5_11ea_9ee5_c869cd93ed7crow4_col1 {\n",
       "            background-color:  green;\n",
       "        }    #T_d0ad6ae8_19b5_11ea_9ee5_c869cd93ed7crow4_col2 {\n",
       "            background-color:  green;\n",
       "        }</style><table id=\"T_d0ad6ae8_19b5_11ea_9ee5_c869cd93ed7c\" ><thead>    <tr>        <th class=\"blank level0\" ></th>        <th class=\"col_heading level0 col0\" >0</th>        <th class=\"col_heading level0 col1\" >1</th>        <th class=\"col_heading level0 col2\" >2</th>    </tr></thead><tbody>\n",
       "                <tr>\n",
       "                        <th id=\"T_d0ad6ae8_19b5_11ea_9ee5_c869cd93ed7clevel0_row0\" class=\"row_heading level0 row0\" >0</th>\n",
       "                        <td id=\"T_d0ad6ae8_19b5_11ea_9ee5_c869cd93ed7crow0_col0\" class=\"data row0 col0\" >nan</td>\n",
       "                        <td id=\"T_d0ad6ae8_19b5_11ea_9ee5_c869cd93ed7crow0_col1\" class=\"data row0 col1\" >nan</td>\n",
       "                        <td id=\"T_d0ad6ae8_19b5_11ea_9ee5_c869cd93ed7crow0_col2\" class=\"data row0 col2\" >nan</td>\n",
       "            </tr>\n",
       "            <tr>\n",
       "                        <th id=\"T_d0ad6ae8_19b5_11ea_9ee5_c869cd93ed7clevel0_row1\" class=\"row_heading level0 row1\" >1</th>\n",
       "                        <td id=\"T_d0ad6ae8_19b5_11ea_9ee5_c869cd93ed7crow1_col0\" class=\"data row1 col0\" >11.4206</td>\n",
       "                        <td id=\"T_d0ad6ae8_19b5_11ea_9ee5_c869cd93ed7crow1_col1\" class=\"data row1 col1\" >-27.3511</td>\n",
       "                        <td id=\"T_d0ad6ae8_19b5_11ea_9ee5_c869cd93ed7crow1_col2\" class=\"data row1 col2\" >-52.4542</td>\n",
       "            </tr>\n",
       "            <tr>\n",
       "                        <th id=\"T_d0ad6ae8_19b5_11ea_9ee5_c869cd93ed7clevel0_row2\" class=\"row_heading level0 row2\" >2</th>\n",
       "                        <td id=\"T_d0ad6ae8_19b5_11ea_9ee5_c869cd93ed7crow2_col0\" class=\"data row2 col0\" >11.9318</td>\n",
       "                        <td id=\"T_d0ad6ae8_19b5_11ea_9ee5_c869cd93ed7crow2_col1\" class=\"data row2 col1\" >-35.1685</td>\n",
       "                        <td id=\"T_d0ad6ae8_19b5_11ea_9ee5_c869cd93ed7crow2_col2\" class=\"data row2 col2\" >18.4303</td>\n",
       "            </tr>\n",
       "            <tr>\n",
       "                        <th id=\"T_d0ad6ae8_19b5_11ea_9ee5_c869cd93ed7clevel0_row3\" class=\"row_heading level0 row3\" >3</th>\n",
       "                        <td id=\"T_d0ad6ae8_19b5_11ea_9ee5_c869cd93ed7crow3_col0\" class=\"data row3 col0\" >7.09603</td>\n",
       "                        <td id=\"T_d0ad6ae8_19b5_11ea_9ee5_c869cd93ed7crow3_col1\" class=\"data row3 col1\" >-14.0861</td>\n",
       "                        <td id=\"T_d0ad6ae8_19b5_11ea_9ee5_c869cd93ed7crow3_col2\" class=\"data row3 col2\" >37.1413</td>\n",
       "            </tr>\n",
       "            <tr>\n",
       "                        <th id=\"T_d0ad6ae8_19b5_11ea_9ee5_c869cd93ed7clevel0_row4\" class=\"row_heading level0 row4\" >4</th>\n",
       "                        <td id=\"T_d0ad6ae8_19b5_11ea_9ee5_c869cd93ed7crow4_col0\" class=\"data row4 col0\" >-10.7473</td>\n",
       "                        <td id=\"T_d0ad6ae8_19b5_11ea_9ee5_c869cd93ed7crow4_col1\" class=\"data row4 col1\" >54.0975</td>\n",
       "                        <td id=\"T_d0ad6ae8_19b5_11ea_9ee5_c869cd93ed7crow4_col2\" class=\"data row4 col2\" >42.645</td>\n",
       "            </tr>\n",
       "    </tbody></table>"
      ],
      "text/plain": [
       "<pandas.io.formats.style.Styler at 0x1a1dfff310>"
      ]
     },
     "metadata": {},
     "output_type": "display_data"
    },
    {
     "data": {
      "text/plain": [
       "<matplotlib.axes._subplots.AxesSubplot at 0x1a1f9b1690>"
      ]
     },
     "execution_count": 30,
     "metadata": {},
     "output_type": "execute_result"
    },
    {
     "data": {
      "image/png": "[encoded data removed]",
      "text/plain": [
       "<Figure size 720x504 with 1 Axes>"
      ]
     },
     "metadata": {},
     "output_type": "display_data"
    }
   ],
   "source": [
    "cat_distr_pairwise('AdoptionSpeed','AgeGroup', df_processed2, frel=True)"
   ]
  },
  {
   "cell_type": "markdown",
   "metadata": {},
   "source": [
    "The relative distribution of AgeGroups among AdoptionSpeed indicates that there seems to be no particular correlation between being younger and getting adopted earlier. Even without the dicretization we can observe the same phenomena: "
   ]
  },
  {
   "cell_type": "code",
   "execution_count": 689,
   "metadata": {},
   "outputs": [
    {
     "data": {
      "text/plain": [
       "<matplotlib.axes._subplots.AxesSubplot at 0x1a226df950>"
      ]
     },
     "execution_count": 689,
     "metadata": {},
     "output_type": "execute_result"
    },
    {
     "data": {
      "image/png": "[encoded data removed]",
      "text/plain": [
       "<Figure size 720x1080 with 1 Axes>"
      ]
     },
     "metadata": {},
     "output_type": "display_data"
    }
   ],
   "source": [
    "plt.figure(figsize=(10,15))\n",
    "plt.ylim(0, 260)\n",
    "sns.boxplot(data = df, x='AdoptionSpeed', y='Age')"
   ]
  },
  {
   "cell_type": "markdown",
   "metadata": {},
   "source": [
    "### Breed1 and Breed2\n",
    "\n",
    "According to the breeds feature labels, dogs breeds go from 1 to 240, plus 307, and cats breeds go from 241 to 306. "
   ]
  },
  {
   "cell_type": "code",
   "execution_count": 690,
   "metadata": {},
   "outputs": [
    {
     "data": {
      "image/png": "[encoded data removed]",
      "text/plain": [
       "<Figure size 1944x648 with 1 Axes>"
      ]
     },
     "metadata": {},
     "output_type": "display_data"
    },
    {
     "data": {
      "image/png": "[encoded data removed]",
      "text/plain": [
       "<Figure size 1944x648 with 1 Axes>"
      ]
     },
     "metadata": {},
     "output_type": "display_data"
    }
   ],
   "source": [
    "bx1 = sns.catplot(x=\"Breed1\",data=df, kind='count',height=9, aspect=3)\n",
    "bx2 = sns.catplot(x=\"Breed2\",data=df, kind='count',height=9, aspect=3)"
   ]
  },
  {
   "cell_type": "markdown",
   "metadata": {},
   "source": [
    "Looking at our data, and according to the breeds feature labels, we found some cats with dogs breeds assigned to them (15, 21, 25, 70, 114, 205, 218, 307).\n",
    "Therefore, and given the distribution of pets by breeds in which some breeds are poorly representated perhaps a good idea should be grouping pets by pure-race/mixed-race."
   ]
  },
  {
   "cell_type": "code",
   "execution_count": 31,
   "metadata": {},
   "outputs": [],
   "source": [
    "#Creating new feature: Pure breed\n",
    "l3 =[]\n",
    "for i in range(len(df)):\n",
    "    if df['Breed1'][i]==307 or df['Breed2'][i]==307:\n",
    "        l3.append(0)\n",
    "    elif df['Breed1'][i]!=307 and df['Breed2'][i]==0:\n",
    "        l3.append(1)\n",
    "    elif df['Breed1'][i]==0 and df['Breed2'][i]!=307:\n",
    "        l3.append(1)\n",
    "    elif df['Breed1'][i]==df['Breed2'][i]:\n",
    "        l3.append(1)\n",
    "    else:\n",
    "        l3.append(0)\n",
    "        \n",
    "df_processed2.drop(\"Breed1\",axis=1,inplace=True)\n",
    "df_processed2.drop(\"Breed2\",axis=1,inplace=True) \n",
    "df_processed2.insert(3,'PureBreed',l3) ##INSERT IN DATAFRAME"
   ]
  },
  {
   "cell_type": "code",
   "execution_count": 33,
   "metadata": {},
   "outputs": [
    {
     "name": "stdout",
     "output_type": "stream",
     "text": [
      "Relative gain from AdoptionSpeed=0 (%):\n"
     ]
    },
    {
     "data": {
      "text/html": [
       "<style  type=\"text/css\" >\n",
       "    #T_7b7c2d6a_19b6_11ea_9ee5_c869cd93ed7crow0_col0 {\n",
       "            background-color:  white;\n",
       "        }    #T_7b7c2d6a_19b6_11ea_9ee5_c869cd93ed7crow0_col1 {\n",
       "            background-color:  white;\n",
       "        }    #T_7b7c2d6a_19b6_11ea_9ee5_c869cd93ed7crow1_col0 {\n",
       "            background-color:  red;\n",
       "        }    #T_7b7c2d6a_19b6_11ea_9ee5_c869cd93ed7crow1_col1 {\n",
       "            background-color:  green;\n",
       "        }    #T_7b7c2d6a_19b6_11ea_9ee5_c869cd93ed7crow2_col0 {\n",
       "            background-color:  green;\n",
       "        }    #T_7b7c2d6a_19b6_11ea_9ee5_c869cd93ed7crow2_col1 {\n",
       "            background-color:  red;\n",
       "        }    #T_7b7c2d6a_19b6_11ea_9ee5_c869cd93ed7crow3_col0 {\n",
       "            background-color:  green;\n",
       "        }    #T_7b7c2d6a_19b6_11ea_9ee5_c869cd93ed7crow3_col1 {\n",
       "            background-color:  red;\n",
       "        }    #T_7b7c2d6a_19b6_11ea_9ee5_c869cd93ed7crow4_col0 {\n",
       "            background-color:  green;\n",
       "        }    #T_7b7c2d6a_19b6_11ea_9ee5_c869cd93ed7crow4_col1 {\n",
       "            background-color:  red;\n",
       "        }</style><table id=\"T_7b7c2d6a_19b6_11ea_9ee5_c869cd93ed7c\" ><thead>    <tr>        <th class=\"blank level0\" ></th>        <th class=\"col_heading level0 col0\" >0</th>        <th class=\"col_heading level0 col1\" >1</th>    </tr></thead><tbody>\n",
       "                <tr>\n",
       "                        <th id=\"T_7b7c2d6a_19b6_11ea_9ee5_c869cd93ed7clevel0_row0\" class=\"row_heading level0 row0\" >0</th>\n",
       "                        <td id=\"T_7b7c2d6a_19b6_11ea_9ee5_c869cd93ed7crow0_col0\" class=\"data row0 col0\" >nan</td>\n",
       "                        <td id=\"T_7b7c2d6a_19b6_11ea_9ee5_c869cd93ed7crow0_col1\" class=\"data row0 col1\" >nan</td>\n",
       "            </tr>\n",
       "            <tr>\n",
       "                        <th id=\"T_7b7c2d6a_19b6_11ea_9ee5_c869cd93ed7clevel0_row1\" class=\"row_heading level0 row1\" >1</th>\n",
       "                        <td id=\"T_7b7c2d6a_19b6_11ea_9ee5_c869cd93ed7crow1_col0\" class=\"data row1 col0\" >-3.85362</td>\n",
       "                        <td id=\"T_7b7c2d6a_19b6_11ea_9ee5_c869cd93ed7crow1_col1\" class=\"data row1 col1\" >3.49515</td>\n",
       "            </tr>\n",
       "            <tr>\n",
       "                        <th id=\"T_7b7c2d6a_19b6_11ea_9ee5_c869cd93ed7clevel0_row2\" class=\"row_heading level0 row2\" >2</th>\n",
       "                        <td id=\"T_7b7c2d6a_19b6_11ea_9ee5_c869cd93ed7crow2_col0\" class=\"data row2 col0\" >15.5367</td>\n",
       "                        <td id=\"T_7b7c2d6a_19b6_11ea_9ee5_c869cd93ed7crow2_col1\" class=\"data row2 col1\" >-12.8427</td>\n",
       "            </tr>\n",
       "            <tr>\n",
       "                        <th id=\"T_7b7c2d6a_19b6_11ea_9ee5_c869cd93ed7clevel0_row3\" class=\"row_heading level0 row3\" >3</th>\n",
       "                        <td id=\"T_7b7c2d6a_19b6_11ea_9ee5_c869cd93ed7crow3_col0\" class=\"data row3 col0\" >25.9202</td>\n",
       "                        <td id=\"T_7b7c2d6a_19b6_11ea_9ee5_c869cd93ed7crow3_col1\" class=\"data row3 col1\" >-25.3278</td>\n",
       "            </tr>\n",
       "            <tr>\n",
       "                        <th id=\"T_7b7c2d6a_19b6_11ea_9ee5_c869cd93ed7clevel0_row4\" class=\"row_heading level0 row4\" >4</th>\n",
       "                        <td id=\"T_7b7c2d6a_19b6_11ea_9ee5_c869cd93ed7crow4_col0\" class=\"data row4 col0\" >23.972</td>\n",
       "                        <td id=\"T_7b7c2d6a_19b6_11ea_9ee5_c869cd93ed7crow4_col1\" class=\"data row4 col1\" >-22.3732</td>\n",
       "            </tr>\n",
       "    </tbody></table>"
      ],
      "text/plain": [
       "<pandas.io.formats.style.Styler at 0x1a1dc66c90>"
      ]
     },
     "metadata": {},
     "output_type": "display_data"
    },
    {
     "data": {
      "text/plain": [
       "<matplotlib.axes._subplots.AxesSubplot at 0x1a1dc66710>"
      ]
     },
     "execution_count": 33,
     "metadata": {},
     "output_type": "execute_result"
    },
    {
     "data": {
      "image/png": "[encoded data removed]",
      "text/plain": [
       "<Figure size 720x504 with 1 Axes>"
      ]
     },
     "metadata": {},
     "output_type": "display_data"
    }
   ],
   "source": [
    "cat_distr_pairwise('AdoptionSpeed','PureBreed', df_processed2, frel=True)"
   ]
  },
  {
   "cell_type": "markdown",
   "metadata": {},
   "source": [
    "From the plot and relative gain table we conclude that pure breed animals (1) tend to be adopted earlier, whereas mixed breed animals (0) are adopted later."
   ]
  },
  {
   "cell_type": "markdown",
   "metadata": {},
   "source": [
    "### Color1, Color2 and Color3\n",
    "\n",
    "Each pet has at least one main color (color1) that according to the colors features label can go from black(1) to white(7). Pets can also have one or two additional colors (color2 and color3) with the same categorical values as the main color."
   ]
  },
  {
   "cell_type": "code",
   "execution_count": 35,
   "metadata": {},
   "outputs": [
    {
     "name": "stdout",
     "output_type": "stream",
     "text": [
      "Relative gain from AdoptionSpeed=0 (%):\n"
     ]
    },
    {
     "data": {
      "text/html": [
       "<style  type=\"text/css\" >\n",
       "    #T_6d5f950e_19b7_11ea_9ee5_c869cd93ed7crow0_col0 {\n",
       "            background-color:  white;\n",
       "        }    #T_6d5f950e_19b7_11ea_9ee5_c869cd93ed7crow0_col1 {\n",
       "            background-color:  white;\n",
       "        }    #T_6d5f950e_19b7_11ea_9ee5_c869cd93ed7crow0_col2 {\n",
       "            background-color:  white;\n",
       "        }    #T_6d5f950e_19b7_11ea_9ee5_c869cd93ed7crow0_col3 {\n",
       "            background-color:  white;\n",
       "        }    #T_6d5f950e_19b7_11ea_9ee5_c869cd93ed7crow0_col4 {\n",
       "            background-color:  white;\n",
       "        }    #T_6d5f950e_19b7_11ea_9ee5_c869cd93ed7crow0_col5 {\n",
       "            background-color:  white;\n",
       "        }    #T_6d5f950e_19b7_11ea_9ee5_c869cd93ed7crow0_col6 {\n",
       "            background-color:  white;\n",
       "        }    #T_6d5f950e_19b7_11ea_9ee5_c869cd93ed7crow1_col0 {\n",
       "            background-color:  green;\n",
       "        }    #T_6d5f950e_19b7_11ea_9ee5_c869cd93ed7crow1_col1 {\n",
       "            background-color:  red;\n",
       "        }    #T_6d5f950e_19b7_11ea_9ee5_c869cd93ed7crow1_col2 {\n",
       "            background-color:  red;\n",
       "        }    #T_6d5f950e_19b7_11ea_9ee5_c869cd93ed7crow1_col3 {\n",
       "            background-color:  green;\n",
       "        }    #T_6d5f950e_19b7_11ea_9ee5_c869cd93ed7crow1_col4 {\n",
       "            background-color:  red;\n",
       "        }    #T_6d5f950e_19b7_11ea_9ee5_c869cd93ed7crow1_col5 {\n",
       "            background-color:  red;\n",
       "        }    #T_6d5f950e_19b7_11ea_9ee5_c869cd93ed7crow1_col6 {\n",
       "            background-color:  green;\n",
       "        }    #T_6d5f950e_19b7_11ea_9ee5_c869cd93ed7crow2_col0 {\n",
       "            background-color:  green;\n",
       "        }    #T_6d5f950e_19b7_11ea_9ee5_c869cd93ed7crow2_col1 {\n",
       "            background-color:  red;\n",
       "        }    #T_6d5f950e_19b7_11ea_9ee5_c869cd93ed7crow2_col2 {\n",
       "            background-color:  red;\n",
       "        }    #T_6d5f950e_19b7_11ea_9ee5_c869cd93ed7crow2_col3 {\n",
       "            background-color:  green;\n",
       "        }    #T_6d5f950e_19b7_11ea_9ee5_c869cd93ed7crow2_col4 {\n",
       "            background-color:  red;\n",
       "        }    #T_6d5f950e_19b7_11ea_9ee5_c869cd93ed7crow2_col5 {\n",
       "            background-color:  red;\n",
       "        }    #T_6d5f950e_19b7_11ea_9ee5_c869cd93ed7crow2_col6 {\n",
       "            background-color:  green;\n",
       "        }    #T_6d5f950e_19b7_11ea_9ee5_c869cd93ed7crow3_col0 {\n",
       "            background-color:  green;\n",
       "        }    #T_6d5f950e_19b7_11ea_9ee5_c869cd93ed7crow3_col1 {\n",
       "            background-color:  red;\n",
       "        }    #T_6d5f950e_19b7_11ea_9ee5_c869cd93ed7crow3_col2 {\n",
       "            background-color:  red;\n",
       "        }    #T_6d5f950e_19b7_11ea_9ee5_c869cd93ed7crow3_col3 {\n",
       "            background-color:  green;\n",
       "        }    #T_6d5f950e_19b7_11ea_9ee5_c869cd93ed7crow3_col4 {\n",
       "            background-color:  red;\n",
       "        }    #T_6d5f950e_19b7_11ea_9ee5_c869cd93ed7crow3_col5 {\n",
       "            background-color:  red;\n",
       "        }    #T_6d5f950e_19b7_11ea_9ee5_c869cd93ed7crow3_col6 {\n",
       "            background-color:  green;\n",
       "        }    #T_6d5f950e_19b7_11ea_9ee5_c869cd93ed7crow4_col0 {\n",
       "            background-color:  green;\n",
       "        }    #T_6d5f950e_19b7_11ea_9ee5_c869cd93ed7crow4_col1 {\n",
       "            background-color:  red;\n",
       "        }    #T_6d5f950e_19b7_11ea_9ee5_c869cd93ed7crow4_col2 {\n",
       "            background-color:  red;\n",
       "        }    #T_6d5f950e_19b7_11ea_9ee5_c869cd93ed7crow4_col3 {\n",
       "            background-color:  green;\n",
       "        }    #T_6d5f950e_19b7_11ea_9ee5_c869cd93ed7crow4_col4 {\n",
       "            background-color:  red;\n",
       "        }    #T_6d5f950e_19b7_11ea_9ee5_c869cd93ed7crow4_col5 {\n",
       "            background-color:  red;\n",
       "        }    #T_6d5f950e_19b7_11ea_9ee5_c869cd93ed7crow4_col6 {\n",
       "            background-color:  green;\n",
       "        }</style><table id=\"T_6d5f950e_19b7_11ea_9ee5_c869cd93ed7c\" ><thead>    <tr>        <th class=\"blank level0\" ></th>        <th class=\"col_heading level0 col0\" >1</th>        <th class=\"col_heading level0 col1\" >2</th>        <th class=\"col_heading level0 col2\" >3</th>        <th class=\"col_heading level0 col3\" >4</th>        <th class=\"col_heading level0 col4\" >5</th>        <th class=\"col_heading level0 col5\" >6</th>        <th class=\"col_heading level0 col6\" >7</th>    </tr></thead><tbody>\n",
       "                <tr>\n",
       "                        <th id=\"T_6d5f950e_19b7_11ea_9ee5_c869cd93ed7clevel0_row0\" class=\"row_heading level0 row0\" >0</th>\n",
       "                        <td id=\"T_6d5f950e_19b7_11ea_9ee5_c869cd93ed7crow0_col0\" class=\"data row0 col0\" >nan</td>\n",
       "                        <td id=\"T_6d5f950e_19b7_11ea_9ee5_c869cd93ed7crow0_col1\" class=\"data row0 col1\" >nan</td>\n",
       "                        <td id=\"T_6d5f950e_19b7_11ea_9ee5_c869cd93ed7crow0_col2\" class=\"data row0 col2\" >nan</td>\n",
       "                        <td id=\"T_6d5f950e_19b7_11ea_9ee5_c869cd93ed7crow0_col3\" class=\"data row0 col3\" >nan</td>\n",
       "                        <td id=\"T_6d5f950e_19b7_11ea_9ee5_c869cd93ed7crow0_col4\" class=\"data row0 col4\" >nan</td>\n",
       "                        <td id=\"T_6d5f950e_19b7_11ea_9ee5_c869cd93ed7crow0_col5\" class=\"data row0 col5\" >nan</td>\n",
       "                        <td id=\"T_6d5f950e_19b7_11ea_9ee5_c869cd93ed7crow0_col6\" class=\"data row0 col6\" >nan</td>\n",
       "            </tr>\n",
       "            <tr>\n",
       "                        <th id=\"T_6d5f950e_19b7_11ea_9ee5_c869cd93ed7clevel0_row1\" class=\"row_heading level0 row1\" >1</th>\n",
       "                        <td id=\"T_6d5f950e_19b7_11ea_9ee5_c869cd93ed7crow1_col0\" class=\"data row1 col0\" >14.8923</td>\n",
       "                        <td id=\"T_6d5f950e_19b7_11ea_9ee5_c869cd93ed7crow1_col1\" class=\"data row1 col1\" >-23.1759</td>\n",
       "                        <td id=\"T_6d5f950e_19b7_11ea_9ee5_c869cd93ed7crow1_col2\" class=\"data row1 col2\" >-3.45944</td>\n",
       "                        <td id=\"T_6d5f950e_19b7_11ea_9ee5_c869cd93ed7crow1_col3\" class=\"data row1 col3\" >42.8927</td>\n",
       "                        <td id=\"T_6d5f950e_19b7_11ea_9ee5_c869cd93ed7crow1_col4\" class=\"data row1 col4\" >-14.1443</td>\n",
       "                        <td id=\"T_6d5f950e_19b7_11ea_9ee5_c869cd93ed7crow1_col5\" class=\"data row1 col5\" >-28.624</td>\n",
       "                        <td id=\"T_6d5f950e_19b7_11ea_9ee5_c869cd93ed7crow1_col6\" class=\"data row1 col6\" >79.6365</td>\n",
       "            </tr>\n",
       "            <tr>\n",
       "                        <th id=\"T_6d5f950e_19b7_11ea_9ee5_c869cd93ed7clevel0_row2\" class=\"row_heading level0 row2\" >2</th>\n",
       "                        <td id=\"T_6d5f950e_19b7_11ea_9ee5_c869cd93ed7crow2_col0\" class=\"data row2 col0\" >18.924</td>\n",
       "                        <td id=\"T_6d5f950e_19b7_11ea_9ee5_c869cd93ed7crow2_col1\" class=\"data row2 col1\" >-16.9725</td>\n",
       "                        <td id=\"T_6d5f950e_19b7_11ea_9ee5_c869cd93ed7crow2_col2\" class=\"data row2 col2\" >-0.0733397</td>\n",
       "                        <td id=\"T_6d5f950e_19b7_11ea_9ee5_c869cd93ed7crow2_col3\" class=\"data row2 col3\" >22.1683</td>\n",
       "                        <td id=\"T_6d5f950e_19b7_11ea_9ee5_c869cd93ed7crow2_col4\" class=\"data row2 col4\" >-31.3398</td>\n",
       "                        <td id=\"T_6d5f950e_19b7_11ea_9ee5_c869cd93ed7crow2_col5\" class=\"data row2 col5\" >-32.9466</td>\n",
       "                        <td id=\"T_6d5f950e_19b7_11ea_9ee5_c869cd93ed7crow2_col6\" class=\"data row2 col6\" >58.7879</td>\n",
       "            </tr>\n",
       "            <tr>\n",
       "                        <th id=\"T_6d5f950e_19b7_11ea_9ee5_c869cd93ed7clevel0_row3\" class=\"row_heading level0 row3\" >3</th>\n",
       "                        <td id=\"T_6d5f950e_19b7_11ea_9ee5_c869cd93ed7crow3_col0\" class=\"data row3 col0\" >18.2775</td>\n",
       "                        <td id=\"T_6d5f950e_19b7_11ea_9ee5_c869cd93ed7crow3_col1\" class=\"data row3 col1\" >-6.31663</td>\n",
       "                        <td id=\"T_6d5f950e_19b7_11ea_9ee5_c869cd93ed7crow3_col2\" class=\"data row3 col2\" >-20.0996</td>\n",
       "                        <td id=\"T_6d5f950e_19b7_11ea_9ee5_c869cd93ed7crow3_col3\" class=\"data row3 col3\" >46.0407</td>\n",
       "                        <td id=\"T_6d5f950e_19b7_11ea_9ee5_c869cd93ed7crow3_col4\" class=\"data row3 col4\" >-35.0525</td>\n",
       "                        <td id=\"T_6d5f950e_19b7_11ea_9ee5_c869cd93ed7crow3_col5\" class=\"data row3 col5\" >-48.4593</td>\n",
       "                        <td id=\"T_6d5f950e_19b7_11ea_9ee5_c869cd93ed7crow3_col6\" class=\"data row3 col6\" >43.8651</td>\n",
       "            </tr>\n",
       "            <tr>\n",
       "                        <th id=\"T_6d5f950e_19b7_11ea_9ee5_c869cd93ed7clevel0_row4\" class=\"row_heading level0 row4\" >4</th>\n",
       "                        <td id=\"T_6d5f950e_19b7_11ea_9ee5_c869cd93ed7crow4_col0\" class=\"data row4 col0\" >17.5163</td>\n",
       "                        <td id=\"T_6d5f950e_19b7_11ea_9ee5_c869cd93ed7crow4_col1\" class=\"data row4 col1\" >-3.38853</td>\n",
       "                        <td id=\"T_6d5f950e_19b7_11ea_9ee5_c869cd93ed7crow4_col2\" class=\"data row4 col2\" >-19.6601</td>\n",
       "                        <td id=\"T_6d5f950e_19b7_11ea_9ee5_c869cd93ed7crow4_col3\" class=\"data row4 col3\" >48.3254</td>\n",
       "                        <td id=\"T_6d5f950e_19b7_11ea_9ee5_c869cd93ed7crow4_col4\" class=\"data row4 col4\" >-48.1676</td>\n",
       "                        <td id=\"T_6d5f950e_19b7_11ea_9ee5_c869cd93ed7crow4_col5\" class=\"data row4 col5\" >-48.6226</td>\n",
       "                        <td id=\"T_6d5f950e_19b7_11ea_9ee5_c869cd93ed7crow4_col6\" class=\"data row4 col6\" >50.0912</td>\n",
       "            </tr>\n",
       "    </tbody></table>"
      ],
      "text/plain": [
       "<pandas.io.formats.style.Styler at 0x1a1edc0cd0>"
      ]
     },
     "metadata": {},
     "output_type": "display_data"
    },
    {
     "data": {
      "image/png": "[encoded data removed]",
      "text/plain": [
       "<Figure size 720x504 with 1 Axes>"
      ]
     },
     "metadata": {},
     "output_type": "display_data"
    }
   ],
   "source": [
    "#zx1 = sns.catplot(x=\"Color1\",col=\"Type\",data=df, kind='count',height=4, aspect=0.8)\n",
    "#(zx1.set_axis_labels(\"Color 1\", \"Number of Pets\"))\n",
    "#zx2 = sns.catplot(x=\"Color2\",col=\"Type\",data=df, kind='count',height=4, aspect=0.8)\n",
    "#(zx2.set_axis_labels(\"Color 2\", \"Number of Pets\"))\n",
    "#zx3 = sns.catplot(x=\"Color3\",col=\"Type\",data=df, kind='count',height=4, aspect=0.8)\n",
    "#(zx3.set_axis_labels(\"Color 3\", \"Number of Pets\"))\n",
    "\n",
    "color1= cat_distr_pairwise('AdoptionSpeed','Color1', df, frel=True)"
   ]
  },
  {
   "cell_type": "code",
   "execution_count": 36,
   "metadata": {},
   "outputs": [
    {
     "name": "stdout",
     "output_type": "stream",
     "text": [
      "Relative gain from AdoptionSpeed=0 (%):\n"
     ]
    },
    {
     "data": {
      "text/html": [
       "<style  type=\"text/css\" >\n",
       "    #T_71183aac_19b7_11ea_9ee5_c869cd93ed7crow0_col0 {\n",
       "            background-color:  white;\n",
       "        }    #T_71183aac_19b7_11ea_9ee5_c869cd93ed7crow0_col1 {\n",
       "            background-color:  white;\n",
       "        }    #T_71183aac_19b7_11ea_9ee5_c869cd93ed7crow0_col2 {\n",
       "            background-color:  white;\n",
       "        }    #T_71183aac_19b7_11ea_9ee5_c869cd93ed7crow0_col3 {\n",
       "            background-color:  white;\n",
       "        }    #T_71183aac_19b7_11ea_9ee5_c869cd93ed7crow0_col4 {\n",
       "            background-color:  white;\n",
       "        }    #T_71183aac_19b7_11ea_9ee5_c869cd93ed7crow0_col5 {\n",
       "            background-color:  white;\n",
       "        }    #T_71183aac_19b7_11ea_9ee5_c869cd93ed7crow0_col6 {\n",
       "            background-color:  white;\n",
       "        }    #T_71183aac_19b7_11ea_9ee5_c869cd93ed7crow1_col0 {\n",
       "            background-color:  green;\n",
       "        }    #T_71183aac_19b7_11ea_9ee5_c869cd93ed7crow1_col1 {\n",
       "            background-color:  green;\n",
       "        }    #T_71183aac_19b7_11ea_9ee5_c869cd93ed7crow1_col2 {\n",
       "            background-color:  green;\n",
       "        }    #T_71183aac_19b7_11ea_9ee5_c869cd93ed7crow1_col3 {\n",
       "            background-color:  green;\n",
       "        }    #T_71183aac_19b7_11ea_9ee5_c869cd93ed7crow1_col4 {\n",
       "            background-color:  red;\n",
       "        }    #T_71183aac_19b7_11ea_9ee5_c869cd93ed7crow1_col5 {\n",
       "            background-color:  red;\n",
       "        }    #T_71183aac_19b7_11ea_9ee5_c869cd93ed7crow1_col6 {\n",
       "            background-color:  green;\n",
       "        }    #T_71183aac_19b7_11ea_9ee5_c869cd93ed7crow2_col0 {\n",
       "            background-color:  green;\n",
       "        }    #T_71183aac_19b7_11ea_9ee5_c869cd93ed7crow2_col1 {\n",
       "            background-color:  green;\n",
       "        }    #T_71183aac_19b7_11ea_9ee5_c869cd93ed7crow2_col2 {\n",
       "            background-color:  green;\n",
       "        }    #T_71183aac_19b7_11ea_9ee5_c869cd93ed7crow2_col3 {\n",
       "            background-color:  green;\n",
       "        }    #T_71183aac_19b7_11ea_9ee5_c869cd93ed7crow2_col4 {\n",
       "            background-color:  red;\n",
       "        }    #T_71183aac_19b7_11ea_9ee5_c869cd93ed7crow2_col5 {\n",
       "            background-color:  red;\n",
       "        }    #T_71183aac_19b7_11ea_9ee5_c869cd93ed7crow2_col6 {\n",
       "            background-color:  red;\n",
       "        }    #T_71183aac_19b7_11ea_9ee5_c869cd93ed7crow3_col0 {\n",
       "            background-color:  green;\n",
       "        }    #T_71183aac_19b7_11ea_9ee5_c869cd93ed7crow3_col1 {\n",
       "            background-color:  green;\n",
       "        }    #T_71183aac_19b7_11ea_9ee5_c869cd93ed7crow3_col2 {\n",
       "            background-color:  green;\n",
       "        }    #T_71183aac_19b7_11ea_9ee5_c869cd93ed7crow3_col3 {\n",
       "            background-color:  green;\n",
       "        }    #T_71183aac_19b7_11ea_9ee5_c869cd93ed7crow3_col4 {\n",
       "            background-color:  red;\n",
       "        }    #T_71183aac_19b7_11ea_9ee5_c869cd93ed7crow3_col5 {\n",
       "            background-color:  red;\n",
       "        }    #T_71183aac_19b7_11ea_9ee5_c869cd93ed7crow3_col6 {\n",
       "            background-color:  green;\n",
       "        }    #T_71183aac_19b7_11ea_9ee5_c869cd93ed7crow4_col0 {\n",
       "            background-color:  green;\n",
       "        }    #T_71183aac_19b7_11ea_9ee5_c869cd93ed7crow4_col1 {\n",
       "            background-color:  green;\n",
       "        }    #T_71183aac_19b7_11ea_9ee5_c869cd93ed7crow4_col2 {\n",
       "            background-color:  green;\n",
       "        }    #T_71183aac_19b7_11ea_9ee5_c869cd93ed7crow4_col3 {\n",
       "            background-color:  green;\n",
       "        }    #T_71183aac_19b7_11ea_9ee5_c869cd93ed7crow4_col4 {\n",
       "            background-color:  red;\n",
       "        }    #T_71183aac_19b7_11ea_9ee5_c869cd93ed7crow4_col5 {\n",
       "            background-color:  red;\n",
       "        }    #T_71183aac_19b7_11ea_9ee5_c869cd93ed7crow4_col6 {\n",
       "            background-color:  red;\n",
       "        }</style><table id=\"T_71183aac_19b7_11ea_9ee5_c869cd93ed7c\" ><thead>    <tr>        <th class=\"blank level0\" ></th>        <th class=\"col_heading level0 col0\" >0</th>        <th class=\"col_heading level0 col1\" >2</th>        <th class=\"col_heading level0 col2\" >3</th>        <th class=\"col_heading level0 col3\" >4</th>        <th class=\"col_heading level0 col4\" >5</th>        <th class=\"col_heading level0 col5\" >6</th>        <th class=\"col_heading level0 col6\" >7</th>    </tr></thead><tbody>\n",
       "                <tr>\n",
       "                        <th id=\"T_71183aac_19b7_11ea_9ee5_c869cd93ed7clevel0_row0\" class=\"row_heading level0 row0\" >0</th>\n",
       "                        <td id=\"T_71183aac_19b7_11ea_9ee5_c869cd93ed7crow0_col0\" class=\"data row0 col0\" >nan</td>\n",
       "                        <td id=\"T_71183aac_19b7_11ea_9ee5_c869cd93ed7crow0_col1\" class=\"data row0 col1\" >nan</td>\n",
       "                        <td id=\"T_71183aac_19b7_11ea_9ee5_c869cd93ed7crow0_col2\" class=\"data row0 col2\" >nan</td>\n",
       "                        <td id=\"T_71183aac_19b7_11ea_9ee5_c869cd93ed7crow0_col3\" class=\"data row0 col3\" >nan</td>\n",
       "                        <td id=\"T_71183aac_19b7_11ea_9ee5_c869cd93ed7crow0_col4\" class=\"data row0 col4\" >nan</td>\n",
       "                        <td id=\"T_71183aac_19b7_11ea_9ee5_c869cd93ed7crow0_col5\" class=\"data row0 col5\" >nan</td>\n",
       "                        <td id=\"T_71183aac_19b7_11ea_9ee5_c869cd93ed7crow0_col6\" class=\"data row0 col6\" >nan</td>\n",
       "            </tr>\n",
       "            <tr>\n",
       "                        <th id=\"T_71183aac_19b7_11ea_9ee5_c869cd93ed7clevel0_row1\" class=\"row_heading level0 row1\" >1</th>\n",
       "                        <td id=\"T_71183aac_19b7_11ea_9ee5_c869cd93ed7crow1_col0\" class=\"data row1 col0\" >8.99214</td>\n",
       "                        <td id=\"T_71183aac_19b7_11ea_9ee5_c869cd93ed7crow1_col1\" class=\"data row1 col1\" >0.0121359</td>\n",
       "                        <td id=\"T_71183aac_19b7_11ea_9ee5_c869cd93ed7crow1_col2\" class=\"data row1 col2\" >31.8568</td>\n",
       "                        <td id=\"T_71183aac_19b7_11ea_9ee5_c869cd93ed7crow1_col3\" class=\"data row1 col3\" >19.4175</td>\n",
       "                        <td id=\"T_71183aac_19b7_11ea_9ee5_c869cd93ed7crow1_col4\" class=\"data row1 col4\" >-26.8684</td>\n",
       "                        <td id=\"T_71183aac_19b7_11ea_9ee5_c869cd93ed7crow1_col5\" class=\"data row1 col5\" >-19.7712</td>\n",
       "                        <td id=\"T_71183aac_19b7_11ea_9ee5_c869cd93ed7crow1_col6\" class=\"data row1 col6\" >1.41008</td>\n",
       "            </tr>\n",
       "            <tr>\n",
       "                        <th id=\"T_71183aac_19b7_11ea_9ee5_c869cd93ed7clevel0_row2\" class=\"row_heading level0 row2\" >2</th>\n",
       "                        <td id=\"T_71183aac_19b7_11ea_9ee5_c869cd93ed7crow2_col0\" class=\"data row2 col0\" >4.83602</td>\n",
       "                        <td id=\"T_71183aac_19b7_11ea_9ee5_c869cd93ed7crow2_col1\" class=\"data row2 col1\" >19.8391</td>\n",
       "                        <td id=\"T_71183aac_19b7_11ea_9ee5_c869cd93ed7crow2_col2\" class=\"data row2 col2\" >16.5825</td>\n",
       "                        <td id=\"T_71183aac_19b7_11ea_9ee5_c869cd93ed7crow2_col3\" class=\"data row2 col3\" >33.758</td>\n",
       "                        <td id=\"T_71183aac_19b7_11ea_9ee5_c869cd93ed7crow2_col4\" class=\"data row2 col4\" >-24.8124</td>\n",
       "                        <td id=\"T_71183aac_19b7_11ea_9ee5_c869cd93ed7crow2_col5\" class=\"data row2 col5\" >-35.575</td>\n",
       "                        <td id=\"T_71183aac_19b7_11ea_9ee5_c869cd93ed7crow2_col6\" class=\"data row2 col6\" >-4.47087</td>\n",
       "            </tr>\n",
       "            <tr>\n",
       "                        <th id=\"T_71183aac_19b7_11ea_9ee5_c869cd93ed7clevel0_row3\" class=\"row_heading level0 row3\" >3</th>\n",
       "                        <td id=\"T_71183aac_19b7_11ea_9ee5_c869cd93ed7crow3_col0\" class=\"data row3 col0\" >6.01995</td>\n",
       "                        <td id=\"T_71183aac_19b7_11ea_9ee5_c869cd93ed7crow3_col1\" class=\"data row3 col1\" >19.698</td>\n",
       "                        <td id=\"T_71183aac_19b7_11ea_9ee5_c869cd93ed7crow3_col2\" class=\"data row3 col2\" >27.0823</td>\n",
       "                        <td id=\"T_71183aac_19b7_11ea_9ee5_c869cd93ed7crow3_col3\" class=\"data row3 col3\" >22.8232</td>\n",
       "                        <td id=\"T_71183aac_19b7_11ea_9ee5_c869cd93ed7crow3_col4\" class=\"data row3 col4\" >-30.7321</td>\n",
       "                        <td id=\"T_71183aac_19b7_11ea_9ee5_c869cd93ed7crow3_col5\" class=\"data row3 col5\" >-46.7854</td>\n",
       "                        <td id=\"T_71183aac_19b7_11ea_9ee5_c869cd93ed7crow3_col6\" class=\"data row3 col6\" >0.57181</td>\n",
       "            </tr>\n",
       "            <tr>\n",
       "                        <th id=\"T_71183aac_19b7_11ea_9ee5_c869cd93ed7clevel0_row4\" class=\"row_heading level0 row4\" >4</th>\n",
       "                        <td id=\"T_71183aac_19b7_11ea_9ee5_c869cd93ed7crow4_col0\" class=\"data row4 col0\" >17.091</td>\n",
       "                        <td id=\"T_71183aac_19b7_11ea_9ee5_c869cd93ed7crow4_col1\" class=\"data row4 col1\" >14.0829</td>\n",
       "                        <td id=\"T_71183aac_19b7_11ea_9ee5_c869cd93ed7crow4_col2\" class=\"data row4 col2\" >26.9896</td>\n",
       "                        <td id=\"T_71183aac_19b7_11ea_9ee5_c869cd93ed7crow4_col3\" class=\"data row4 col3\" >45.1008</td>\n",
       "                        <td id=\"T_71183aac_19b7_11ea_9ee5_c869cd93ed7crow4_col4\" class=\"data row4 col4\" >-36.2571</td>\n",
       "                        <td id=\"T_71183aac_19b7_11ea_9ee5_c869cd93ed7crow4_col5\" class=\"data row4 col5\" >-44.8925</td>\n",
       "                        <td id=\"T_71183aac_19b7_11ea_9ee5_c869cd93ed7crow4_col6\" class=\"data row4 col6\" >-11.0396</td>\n",
       "            </tr>\n",
       "    </tbody></table>"
      ],
      "text/plain": [
       "<pandas.io.formats.style.Styler at 0x1a20ecbcd0>"
      ]
     },
     "metadata": {},
     "output_type": "display_data"
    },
    {
     "data": {
      "image/png": "[encoded data removed]",
      "text/plain": [
       "<Figure size 720x504 with 1 Axes>"
      ]
     },
     "metadata": {},
     "output_type": "display_data"
    }
   ],
   "source": [
    "color2 = cat_distr_pairwise('AdoptionSpeed','Color2', df, frel=True)"
   ]
  },
  {
   "cell_type": "code",
   "execution_count": 37,
   "metadata": {},
   "outputs": [
    {
     "name": "stdout",
     "output_type": "stream",
     "text": [
      "Relative gain from AdoptionSpeed=0 (%):\n"
     ]
    },
    {
     "data": {
      "text/html": [
       "<style  type=\"text/css\" >\n",
       "    #T_7506784a_19b7_11ea_9ee5_c869cd93ed7crow0_col0 {\n",
       "            background-color:  white;\n",
       "        }    #T_7506784a_19b7_11ea_9ee5_c869cd93ed7crow0_col1 {\n",
       "            background-color:  white;\n",
       "        }    #T_7506784a_19b7_11ea_9ee5_c869cd93ed7crow0_col2 {\n",
       "            background-color:  white;\n",
       "        }    #T_7506784a_19b7_11ea_9ee5_c869cd93ed7crow0_col3 {\n",
       "            background-color:  white;\n",
       "        }    #T_7506784a_19b7_11ea_9ee5_c869cd93ed7crow0_col4 {\n",
       "            background-color:  white;\n",
       "        }    #T_7506784a_19b7_11ea_9ee5_c869cd93ed7crow0_col5 {\n",
       "            background-color:  white;\n",
       "        }    #T_7506784a_19b7_11ea_9ee5_c869cd93ed7crow1_col0 {\n",
       "            background-color:  green;\n",
       "        }    #T_7506784a_19b7_11ea_9ee5_c869cd93ed7crow1_col1 {\n",
       "            background-color:  green;\n",
       "        }    #T_7506784a_19b7_11ea_9ee5_c869cd93ed7crow1_col2 {\n",
       "            background-color:  red;\n",
       "        }    #T_7506784a_19b7_11ea_9ee5_c869cd93ed7crow1_col3 {\n",
       "            background-color:  red;\n",
       "        }    #T_7506784a_19b7_11ea_9ee5_c869cd93ed7crow1_col4 {\n",
       "            background-color:  green;\n",
       "        }    #T_7506784a_19b7_11ea_9ee5_c869cd93ed7crow1_col5 {\n",
       "            background-color:  red;\n",
       "        }    #T_7506784a_19b7_11ea_9ee5_c869cd93ed7crow2_col0 {\n",
       "            background-color:  green;\n",
       "        }    #T_7506784a_19b7_11ea_9ee5_c869cd93ed7crow2_col1 {\n",
       "            background-color:  green;\n",
       "        }    #T_7506784a_19b7_11ea_9ee5_c869cd93ed7crow2_col2 {\n",
       "            background-color:  green;\n",
       "        }    #T_7506784a_19b7_11ea_9ee5_c869cd93ed7crow2_col3 {\n",
       "            background-color:  red;\n",
       "        }    #T_7506784a_19b7_11ea_9ee5_c869cd93ed7crow2_col4 {\n",
       "            background-color:  green;\n",
       "        }    #T_7506784a_19b7_11ea_9ee5_c869cd93ed7crow2_col5 {\n",
       "            background-color:  red;\n",
       "        }    #T_7506784a_19b7_11ea_9ee5_c869cd93ed7crow3_col0 {\n",
       "            background-color:  green;\n",
       "        }    #T_7506784a_19b7_11ea_9ee5_c869cd93ed7crow3_col1 {\n",
       "            background-color:  green;\n",
       "        }    #T_7506784a_19b7_11ea_9ee5_c869cd93ed7crow3_col2 {\n",
       "            background-color:  green;\n",
       "        }    #T_7506784a_19b7_11ea_9ee5_c869cd93ed7crow3_col3 {\n",
       "            background-color:  red;\n",
       "        }    #T_7506784a_19b7_11ea_9ee5_c869cd93ed7crow3_col4 {\n",
       "            background-color:  red;\n",
       "        }    #T_7506784a_19b7_11ea_9ee5_c869cd93ed7crow3_col5 {\n",
       "            background-color:  red;\n",
       "        }    #T_7506784a_19b7_11ea_9ee5_c869cd93ed7crow4_col0 {\n",
       "            background-color:  green;\n",
       "        }    #T_7506784a_19b7_11ea_9ee5_c869cd93ed7crow4_col1 {\n",
       "            background-color:  green;\n",
       "        }    #T_7506784a_19b7_11ea_9ee5_c869cd93ed7crow4_col2 {\n",
       "            background-color:  green;\n",
       "        }    #T_7506784a_19b7_11ea_9ee5_c869cd93ed7crow4_col3 {\n",
       "            background-color:  red;\n",
       "        }    #T_7506784a_19b7_11ea_9ee5_c869cd93ed7crow4_col4 {\n",
       "            background-color:  red;\n",
       "        }    #T_7506784a_19b7_11ea_9ee5_c869cd93ed7crow4_col5 {\n",
       "            background-color:  red;\n",
       "        }</style><table id=\"T_7506784a_19b7_11ea_9ee5_c869cd93ed7c\" ><thead>    <tr>        <th class=\"blank level0\" ></th>        <th class=\"col_heading level0 col0\" >0</th>        <th class=\"col_heading level0 col1\" >3</th>        <th class=\"col_heading level0 col2\" >4</th>        <th class=\"col_heading level0 col3\" >5</th>        <th class=\"col_heading level0 col4\" >6</th>        <th class=\"col_heading level0 col5\" >7</th>    </tr></thead><tbody>\n",
       "                <tr>\n",
       "                        <th id=\"T_7506784a_19b7_11ea_9ee5_c869cd93ed7clevel0_row0\" class=\"row_heading level0 row0\" >0</th>\n",
       "                        <td id=\"T_7506784a_19b7_11ea_9ee5_c869cd93ed7crow0_col0\" class=\"data row0 col0\" >nan</td>\n",
       "                        <td id=\"T_7506784a_19b7_11ea_9ee5_c869cd93ed7crow0_col1\" class=\"data row0 col1\" >nan</td>\n",
       "                        <td id=\"T_7506784a_19b7_11ea_9ee5_c869cd93ed7crow0_col2\" class=\"data row0 col2\" >nan</td>\n",
       "                        <td id=\"T_7506784a_19b7_11ea_9ee5_c869cd93ed7crow0_col3\" class=\"data row0 col3\" >nan</td>\n",
       "                        <td id=\"T_7506784a_19b7_11ea_9ee5_c869cd93ed7crow0_col4\" class=\"data row0 col4\" >nan</td>\n",
       "                        <td id=\"T_7506784a_19b7_11ea_9ee5_c869cd93ed7crow0_col5\" class=\"data row0 col5\" >nan</td>\n",
       "            </tr>\n",
       "            <tr>\n",
       "                        <th id=\"T_7506784a_19b7_11ea_9ee5_c869cd93ed7clevel0_row1\" class=\"row_heading level0 row1\" >1</th>\n",
       "                        <td id=\"T_7506784a_19b7_11ea_9ee5_c869cd93ed7crow1_col0\" class=\"data row1 col0\" >6.00359</td>\n",
       "                        <td id=\"T_7506784a_19b7_11ea_9ee5_c869cd93ed7crow1_col1\" class=\"data row1 col1\" >76.9148</td>\n",
       "                        <td id=\"T_7506784a_19b7_11ea_9ee5_c869cd93ed7crow1_col2\" class=\"data row1 col2\" >-23.0421</td>\n",
       "                        <td id=\"T_7506784a_19b7_11ea_9ee5_c869cd93ed7crow1_col3\" class=\"data row1 col3\" >-12.4272</td>\n",
       "                        <td id=\"T_7506784a_19b7_11ea_9ee5_c869cd93ed7crow1_col4\" class=\"data row1 col4\" >11.4563</td>\n",
       "                        <td id=\"T_7506784a_19b7_11ea_9ee5_c869cd93ed7crow1_col5\" class=\"data row1 col5\" >-16.3949</td>\n",
       "            </tr>\n",
       "            <tr>\n",
       "                        <th id=\"T_7506784a_19b7_11ea_9ee5_c869cd93ed7clevel0_row2\" class=\"row_heading level0 row2\" >2</th>\n",
       "                        <td id=\"T_7506784a_19b7_11ea_9ee5_c869cd93ed7crow2_col0\" class=\"data row2 col0\" >5.5886</td>\n",
       "                        <td id=\"T_7506784a_19b7_11ea_9ee5_c869cd93ed7crow2_col1\" class=\"data row2 col1\" >55.3703</td>\n",
       "                        <td id=\"T_7506784a_19b7_11ea_9ee5_c869cd93ed7crow2_col2\" class=\"data row2 col2\" >3.64811</td>\n",
       "                        <td id=\"T_7506784a_19b7_11ea_9ee5_c869cd93ed7crow2_col3\" class=\"data row2 col3\" >-39.751</td>\n",
       "                        <td id=\"T_7506784a_19b7_11ea_9ee5_c869cd93ed7crow2_col4\" class=\"data row2 col4\" >16.2459</td>\n",
       "                        <td id=\"T_7506784a_19b7_11ea_9ee5_c869cd93ed7crow2_col5\" class=\"data row2 col5\" >-11.3118</td>\n",
       "            </tr>\n",
       "            <tr>\n",
       "                        <th id=\"T_7506784a_19b7_11ea_9ee5_c869cd93ed7clevel0_row3\" class=\"row_heading level0 row3\" >3</th>\n",
       "                        <td id=\"T_7506784a_19b7_11ea_9ee5_c869cd93ed7crow3_col0\" class=\"data row3 col0\" >7.23526</td>\n",
       "                        <td id=\"T_7506784a_19b7_11ea_9ee5_c869cd93ed7crow3_col1\" class=\"data row3 col1\" >58.0937</td>\n",
       "                        <td id=\"T_7506784a_19b7_11ea_9ee5_c869cd93ed7crow3_col2\" class=\"data row3 col2\" >9.45575</td>\n",
       "                        <td id=\"T_7506784a_19b7_11ea_9ee5_c869cd93ed7crow3_col3\" class=\"data row3 col3\" >-15.8786</td>\n",
       "                        <td id=\"T_7506784a_19b7_11ea_9ee5_c869cd93ed7crow3_col4\" class=\"data row3 col4\" >-4.0449</td>\n",
       "                        <td id=\"T_7506784a_19b7_11ea_9ee5_c869cd93ed7crow3_col5\" class=\"data row3 col5\" >-16.913</td>\n",
       "            </tr>\n",
       "            <tr>\n",
       "                        <th id=\"T_7506784a_19b7_11ea_9ee5_c869cd93ed7clevel0_row4\" class=\"row_heading level0 row4\" >4</th>\n",
       "                        <td id=\"T_7506784a_19b7_11ea_9ee5_c869cd93ed7crow4_col0\" class=\"data row4 col0\" >5.45326</td>\n",
       "                        <td id=\"T_7506784a_19b7_11ea_9ee5_c869cd93ed7crow4_col1\" class=\"data row4 col1\" >88.2728</td>\n",
       "                        <td id=\"T_7506784a_19b7_11ea_9ee5_c869cd93ed7crow4_col2\" class=\"data row4 col2\" >51.4997</td>\n",
       "                        <td id=\"T_7506784a_19b7_11ea_9ee5_c869cd93ed7crow4_col3\" class=\"data row4 col3\" >-20.8804</td>\n",
       "                        <td id=\"T_7506784a_19b7_11ea_9ee5_c869cd93ed7crow4_col4\" class=\"data row4 col4\" >-4.35819</td>\n",
       "                        <td id=\"T_7506784a_19b7_11ea_9ee5_c869cd93ed7crow4_col5\" class=\"data row4 col5\" >-14.103</td>\n",
       "            </tr>\n",
       "    </tbody></table>"
      ],
      "text/plain": [
       "<pandas.io.formats.style.Styler at 0x1a21041490>"
      ]
     },
     "metadata": {},
     "output_type": "display_data"
    },
    {
     "data": {
      "image/png": "[encoded data removed]",
      "text/plain": [
       "<Figure size 720x504 with 1 Axes>"
      ]
     },
     "metadata": {},
     "output_type": "display_data"
    }
   ],
   "source": [
    "color3 = cat_distr_pairwise('AdoptionSpeed','Color3', df, frel=True)"
   ]
  },
  {
   "cell_type": "markdown",
   "metadata": {},
   "source": [
    "Given the number of values for each color feature one of the following approaches should be appropriate to address the Color1, Color2 and Color3 features: \n",
    "* Group pets according to the number of colors one has. Pets with only one color will be assigned a \"SingleColor\" feature and so on;\n",
    "* Group colours according to their brightness/darkness.\n",
    "\n",
    "However we will leave further considerations on the feature engineering part later on this document."
   ]
  },
  {
   "cell_type": "markdown",
   "metadata": {},
   "source": [
    "### Quantity\n",
    "\n",
    "Number of pets represented in profile"
   ]
  },
  {
   "cell_type": "code",
   "execution_count": 704,
   "metadata": {},
   "outputs": [
    {
     "name": "stdout",
     "output_type": "stream",
     "text": [
      "There are 11565 profiles with a single pet\n",
      "There are 3428 profiles with multiple pets\n"
     ]
    },
    {
     "data": {
      "image/png": "[encoded data removed]",
      "text/plain": [
       "<Figure size 360x360 with 1 Axes>"
      ]
     },
     "metadata": {},
     "output_type": "display_data"
    }
   ],
   "source": [
    "ax3 = sns.catplot(x='Quantity', data=df, kind='count')\n",
    "(ax3.set_axis_labels(\"Quantity\", \"Number of Pets\"))\n",
    "print('There are {} profiles with a single pet'.format((list(df['Quantity'])).count(1)))\n",
    "print('There are {} profiles with multiple pets'.format(len(df['Quantity'])-list(list(df['Quantity'])).count(1)))"
   ]
  },
  {
   "cell_type": "code",
   "execution_count": 44,
   "metadata": {},
   "outputs": [
    {
     "name": "stdout",
     "output_type": "stream",
     "text": [
      "Relative gain from AdoptionSpeed=0 (%):\n"
     ]
    },
    {
     "data": {
      "text/html": [
       "<style  type=\"text/css\" >\n",
       "    #T_7ffc85ce_19bb_11ea_9ee5_c869cd93ed7crow0_col0 {\n",
       "            background-color:  white;\n",
       "        }    #T_7ffc85ce_19bb_11ea_9ee5_c869cd93ed7crow0_col1 {\n",
       "            background-color:  white;\n",
       "        }    #T_7ffc85ce_19bb_11ea_9ee5_c869cd93ed7crow0_col2 {\n",
       "            background-color:  white;\n",
       "        }    #T_7ffc85ce_19bb_11ea_9ee5_c869cd93ed7crow0_col3 {\n",
       "            background-color:  white;\n",
       "        }    #T_7ffc85ce_19bb_11ea_9ee5_c869cd93ed7crow0_col4 {\n",
       "            background-color:  white;\n",
       "        }    #T_7ffc85ce_19bb_11ea_9ee5_c869cd93ed7crow0_col5 {\n",
       "            background-color:  white;\n",
       "        }    #T_7ffc85ce_19bb_11ea_9ee5_c869cd93ed7crow0_col6 {\n",
       "            background-color:  white;\n",
       "        }    #T_7ffc85ce_19bb_11ea_9ee5_c869cd93ed7crow0_col7 {\n",
       "            background-color:  white;\n",
       "        }    #T_7ffc85ce_19bb_11ea_9ee5_c869cd93ed7crow0_col8 {\n",
       "            background-color:  white;\n",
       "        }    #T_7ffc85ce_19bb_11ea_9ee5_c869cd93ed7crow0_col9 {\n",
       "            background-color:  white;\n",
       "        }    #T_7ffc85ce_19bb_11ea_9ee5_c869cd93ed7crow0_col10 {\n",
       "            background-color:  white;\n",
       "        }    #T_7ffc85ce_19bb_11ea_9ee5_c869cd93ed7crow0_col11 {\n",
       "            background-color:  white;\n",
       "        }    #T_7ffc85ce_19bb_11ea_9ee5_c869cd93ed7crow0_col12 {\n",
       "            background-color:  white;\n",
       "        }    #T_7ffc85ce_19bb_11ea_9ee5_c869cd93ed7crow0_col13 {\n",
       "            background-color:  white;\n",
       "        }    #T_7ffc85ce_19bb_11ea_9ee5_c869cd93ed7crow0_col14 {\n",
       "            background-color:  white;\n",
       "        }    #T_7ffc85ce_19bb_11ea_9ee5_c869cd93ed7crow0_col15 {\n",
       "            background-color:  white;\n",
       "        }    #T_7ffc85ce_19bb_11ea_9ee5_c869cd93ed7crow0_col16 {\n",
       "            background-color:  white;\n",
       "        }    #T_7ffc85ce_19bb_11ea_9ee5_c869cd93ed7crow0_col17 {\n",
       "            background-color:  white;\n",
       "        }    #T_7ffc85ce_19bb_11ea_9ee5_c869cd93ed7crow0_col18 {\n",
       "            background-color:  white;\n",
       "        }    #T_7ffc85ce_19bb_11ea_9ee5_c869cd93ed7crow1_col0 {\n",
       "            background-color:  red;\n",
       "        }    #T_7ffc85ce_19bb_11ea_9ee5_c869cd93ed7crow1_col1 {\n",
       "            background-color:  green;\n",
       "        }    #T_7ffc85ce_19bb_11ea_9ee5_c869cd93ed7crow1_col2 {\n",
       "            background-color:  green;\n",
       "        }    #T_7ffc85ce_19bb_11ea_9ee5_c869cd93ed7crow1_col3 {\n",
       "            background-color:  green;\n",
       "        }    #T_7ffc85ce_19bb_11ea_9ee5_c869cd93ed7crow1_col4 {\n",
       "            background-color:  red;\n",
       "        }    #T_7ffc85ce_19bb_11ea_9ee5_c869cd93ed7crow1_col5 {\n",
       "            background-color:  green;\n",
       "        }    #T_7ffc85ce_19bb_11ea_9ee5_c869cd93ed7crow1_col6 {\n",
       "            background-color:  green;\n",
       "        }    #T_7ffc85ce_19bb_11ea_9ee5_c869cd93ed7crow1_col7 {\n",
       "            background-color:  red;\n",
       "        }    #T_7ffc85ce_19bb_11ea_9ee5_c869cd93ed7crow1_col8 {\n",
       "            background-color:  green;\n",
       "        }    #T_7ffc85ce_19bb_11ea_9ee5_c869cd93ed7crow1_col9 {\n",
       "            background-color:  red;\n",
       "        }    #T_7ffc85ce_19bb_11ea_9ee5_c869cd93ed7crow1_col10 {\n",
       "            background-color:  white;\n",
       "        }    #T_7ffc85ce_19bb_11ea_9ee5_c869cd93ed7crow1_col11 {\n",
       "            background-color:  white;\n",
       "        }    #T_7ffc85ce_19bb_11ea_9ee5_c869cd93ed7crow1_col12 {\n",
       "            background-color:  white;\n",
       "        }    #T_7ffc85ce_19bb_11ea_9ee5_c869cd93ed7crow1_col13 {\n",
       "            background-color:  white;\n",
       "        }    #T_7ffc85ce_19bb_11ea_9ee5_c869cd93ed7crow1_col14 {\n",
       "            background-color:  green;\n",
       "        }    #T_7ffc85ce_19bb_11ea_9ee5_c869cd93ed7crow1_col15 {\n",
       "            background-color:  white;\n",
       "        }    #T_7ffc85ce_19bb_11ea_9ee5_c869cd93ed7crow1_col16 {\n",
       "            background-color:  white;\n",
       "        }    #T_7ffc85ce_19bb_11ea_9ee5_c869cd93ed7crow1_col17 {\n",
       "            background-color:  white;\n",
       "        }    #T_7ffc85ce_19bb_11ea_9ee5_c869cd93ed7crow1_col18 {\n",
       "            background-color:  green;\n",
       "        }    #T_7ffc85ce_19bb_11ea_9ee5_c869cd93ed7crow2_col0 {\n",
       "            background-color:  red;\n",
       "        }    #T_7ffc85ce_19bb_11ea_9ee5_c869cd93ed7crow2_col1 {\n",
       "            background-color:  green;\n",
       "        }    #T_7ffc85ce_19bb_11ea_9ee5_c869cd93ed7crow2_col2 {\n",
       "            background-color:  red;\n",
       "        }    #T_7ffc85ce_19bb_11ea_9ee5_c869cd93ed7crow2_col3 {\n",
       "            background-color:  green;\n",
       "        }    #T_7ffc85ce_19bb_11ea_9ee5_c869cd93ed7crow2_col4 {\n",
       "            background-color:  green;\n",
       "        }    #T_7ffc85ce_19bb_11ea_9ee5_c869cd93ed7crow2_col5 {\n",
       "            background-color:  green;\n",
       "        }    #T_7ffc85ce_19bb_11ea_9ee5_c869cd93ed7crow2_col6 {\n",
       "            background-color:  green;\n",
       "        }    #T_7ffc85ce_19bb_11ea_9ee5_c869cd93ed7crow2_col7 {\n",
       "            background-color:  green;\n",
       "        }    #T_7ffc85ce_19bb_11ea_9ee5_c869cd93ed7crow2_col8 {\n",
       "            background-color:  green;\n",
       "        }    #T_7ffc85ce_19bb_11ea_9ee5_c869cd93ed7crow2_col9 {\n",
       "            background-color:  red;\n",
       "        }    #T_7ffc85ce_19bb_11ea_9ee5_c869cd93ed7crow2_col10 {\n",
       "            background-color:  green;\n",
       "        }    #T_7ffc85ce_19bb_11ea_9ee5_c869cd93ed7crow2_col11 {\n",
       "            background-color:  green;\n",
       "        }    #T_7ffc85ce_19bb_11ea_9ee5_c869cd93ed7crow2_col12 {\n",
       "            background-color:  green;\n",
       "        }    #T_7ffc85ce_19bb_11ea_9ee5_c869cd93ed7crow2_col13 {\n",
       "            background-color:  white;\n",
       "        }    #T_7ffc85ce_19bb_11ea_9ee5_c869cd93ed7crow2_col14 {\n",
       "            background-color:  green;\n",
       "        }    #T_7ffc85ce_19bb_11ea_9ee5_c869cd93ed7crow2_col15 {\n",
       "            background-color:  green;\n",
       "        }    #T_7ffc85ce_19bb_11ea_9ee5_c869cd93ed7crow2_col16 {\n",
       "            background-color:  green;\n",
       "        }    #T_7ffc85ce_19bb_11ea_9ee5_c869cd93ed7crow2_col17 {\n",
       "            background-color:  white;\n",
       "        }    #T_7ffc85ce_19bb_11ea_9ee5_c869cd93ed7crow2_col18 {\n",
       "            background-color:  green;\n",
       "        }    #T_7ffc85ce_19bb_11ea_9ee5_c869cd93ed7crow3_col0 {\n",
       "            background-color:  red;\n",
       "        }    #T_7ffc85ce_19bb_11ea_9ee5_c869cd93ed7crow3_col1 {\n",
       "            background-color:  green;\n",
       "        }    #T_7ffc85ce_19bb_11ea_9ee5_c869cd93ed7crow3_col2 {\n",
       "            background-color:  red;\n",
       "        }    #T_7ffc85ce_19bb_11ea_9ee5_c869cd93ed7crow3_col3 {\n",
       "            background-color:  red;\n",
       "        }    #T_7ffc85ce_19bb_11ea_9ee5_c869cd93ed7crow3_col4 {\n",
       "            background-color:  green;\n",
       "        }    #T_7ffc85ce_19bb_11ea_9ee5_c869cd93ed7crow3_col5 {\n",
       "            background-color:  green;\n",
       "        }    #T_7ffc85ce_19bb_11ea_9ee5_c869cd93ed7crow3_col6 {\n",
       "            background-color:  green;\n",
       "        }    #T_7ffc85ce_19bb_11ea_9ee5_c869cd93ed7crow3_col7 {\n",
       "            background-color:  green;\n",
       "        }    #T_7ffc85ce_19bb_11ea_9ee5_c869cd93ed7crow3_col8 {\n",
       "            background-color:  green;\n",
       "        }    #T_7ffc85ce_19bb_11ea_9ee5_c869cd93ed7crow3_col9 {\n",
       "            background-color:  red;\n",
       "        }    #T_7ffc85ce_19bb_11ea_9ee5_c869cd93ed7crow3_col10 {\n",
       "            background-color:  green;\n",
       "        }    #T_7ffc85ce_19bb_11ea_9ee5_c869cd93ed7crow3_col11 {\n",
       "            background-color:  green;\n",
       "        }    #T_7ffc85ce_19bb_11ea_9ee5_c869cd93ed7crow3_col12 {\n",
       "            background-color:  green;\n",
       "        }    #T_7ffc85ce_19bb_11ea_9ee5_c869cd93ed7crow3_col13 {\n",
       "            background-color:  white;\n",
       "        }    #T_7ffc85ce_19bb_11ea_9ee5_c869cd93ed7crow3_col14 {\n",
       "            background-color:  green;\n",
       "        }    #T_7ffc85ce_19bb_11ea_9ee5_c869cd93ed7crow3_col15 {\n",
       "            background-color:  green;\n",
       "        }    #T_7ffc85ce_19bb_11ea_9ee5_c869cd93ed7crow3_col16 {\n",
       "            background-color:  green;\n",
       "        }    #T_7ffc85ce_19bb_11ea_9ee5_c869cd93ed7crow3_col17 {\n",
       "            background-color:  white;\n",
       "        }    #T_7ffc85ce_19bb_11ea_9ee5_c869cd93ed7crow3_col18 {\n",
       "            background-color:  green;\n",
       "        }    #T_7ffc85ce_19bb_11ea_9ee5_c869cd93ed7crow4_col0 {\n",
       "            background-color:  red;\n",
       "        }    #T_7ffc85ce_19bb_11ea_9ee5_c869cd93ed7crow4_col1 {\n",
       "            background-color:  green;\n",
       "        }    #T_7ffc85ce_19bb_11ea_9ee5_c869cd93ed7crow4_col2 {\n",
       "            background-color:  green;\n",
       "        }    #T_7ffc85ce_19bb_11ea_9ee5_c869cd93ed7crow4_col3 {\n",
       "            background-color:  green;\n",
       "        }    #T_7ffc85ce_19bb_11ea_9ee5_c869cd93ed7crow4_col4 {\n",
       "            background-color:  green;\n",
       "        }    #T_7ffc85ce_19bb_11ea_9ee5_c869cd93ed7crow4_col5 {\n",
       "            background-color:  green;\n",
       "        }    #T_7ffc85ce_19bb_11ea_9ee5_c869cd93ed7crow4_col6 {\n",
       "            background-color:  green;\n",
       "        }    #T_7ffc85ce_19bb_11ea_9ee5_c869cd93ed7crow4_col7 {\n",
       "            background-color:  green;\n",
       "        }    #T_7ffc85ce_19bb_11ea_9ee5_c869cd93ed7crow4_col8 {\n",
       "            background-color:  green;\n",
       "        }    #T_7ffc85ce_19bb_11ea_9ee5_c869cd93ed7crow4_col9 {\n",
       "            background-color:  green;\n",
       "        }    #T_7ffc85ce_19bb_11ea_9ee5_c869cd93ed7crow4_col10 {\n",
       "            background-color:  green;\n",
       "        }    #T_7ffc85ce_19bb_11ea_9ee5_c869cd93ed7crow4_col11 {\n",
       "            background-color:  green;\n",
       "        }    #T_7ffc85ce_19bb_11ea_9ee5_c869cd93ed7crow4_col12 {\n",
       "            background-color:  green;\n",
       "        }    #T_7ffc85ce_19bb_11ea_9ee5_c869cd93ed7crow4_col13 {\n",
       "            background-color:  green;\n",
       "        }    #T_7ffc85ce_19bb_11ea_9ee5_c869cd93ed7crow4_col14 {\n",
       "            background-color:  green;\n",
       "        }    #T_7ffc85ce_19bb_11ea_9ee5_c869cd93ed7crow4_col15 {\n",
       "            background-color:  green;\n",
       "        }    #T_7ffc85ce_19bb_11ea_9ee5_c869cd93ed7crow4_col16 {\n",
       "            background-color:  green;\n",
       "        }    #T_7ffc85ce_19bb_11ea_9ee5_c869cd93ed7crow4_col17 {\n",
       "            background-color:  green;\n",
       "        }    #T_7ffc85ce_19bb_11ea_9ee5_c869cd93ed7crow4_col18 {\n",
       "            background-color:  green;\n",
       "        }</style><table id=\"T_7ffc85ce_19bb_11ea_9ee5_c869cd93ed7c\" ><thead>    <tr>        <th class=\"blank level0\" ></th>        <th class=\"col_heading level0 col0\" >1</th>        <th class=\"col_heading level0 col1\" >2</th>        <th class=\"col_heading level0 col2\" >3</th>        <th class=\"col_heading level0 col3\" >4</th>        <th class=\"col_heading level0 col4\" >5</th>        <th class=\"col_heading level0 col5\" >6</th>        <th class=\"col_heading level0 col6\" >7</th>        <th class=\"col_heading level0 col7\" >8</th>        <th class=\"col_heading level0 col8\" >9</th>        <th class=\"col_heading level0 col9\" >10</th>        <th class=\"col_heading level0 col10\" >11</th>        <th class=\"col_heading level0 col11\" >12</th>        <th class=\"col_heading level0 col12\" >13</th>        <th class=\"col_heading level0 col13\" >14</th>        <th class=\"col_heading level0 col14\" >15</th>        <th class=\"col_heading level0 col15\" >16</th>        <th class=\"col_heading level0 col16\" >17</th>        <th class=\"col_heading level0 col17\" >18</th>        <th class=\"col_heading level0 col18\" >20</th>    </tr></thead><tbody>\n",
       "                <tr>\n",
       "                        <th id=\"T_7ffc85ce_19bb_11ea_9ee5_c869cd93ed7clevel0_row0\" class=\"row_heading level0 row0\" >0</th>\n",
       "                        <td id=\"T_7ffc85ce_19bb_11ea_9ee5_c869cd93ed7crow0_col0\" class=\"data row0 col0\" >nan</td>\n",
       "                        <td id=\"T_7ffc85ce_19bb_11ea_9ee5_c869cd93ed7crow0_col1\" class=\"data row0 col1\" >nan</td>\n",
       "                        <td id=\"T_7ffc85ce_19bb_11ea_9ee5_c869cd93ed7crow0_col2\" class=\"data row0 col2\" >nan</td>\n",
       "                        <td id=\"T_7ffc85ce_19bb_11ea_9ee5_c869cd93ed7crow0_col3\" class=\"data row0 col3\" >nan</td>\n",
       "                        <td id=\"T_7ffc85ce_19bb_11ea_9ee5_c869cd93ed7crow0_col4\" class=\"data row0 col4\" >nan</td>\n",
       "                        <td id=\"T_7ffc85ce_19bb_11ea_9ee5_c869cd93ed7crow0_col5\" class=\"data row0 col5\" >nan</td>\n",
       "                        <td id=\"T_7ffc85ce_19bb_11ea_9ee5_c869cd93ed7crow0_col6\" class=\"data row0 col6\" >nan</td>\n",
       "                        <td id=\"T_7ffc85ce_19bb_11ea_9ee5_c869cd93ed7crow0_col7\" class=\"data row0 col7\" >nan</td>\n",
       "                        <td id=\"T_7ffc85ce_19bb_11ea_9ee5_c869cd93ed7crow0_col8\" class=\"data row0 col8\" >nan</td>\n",
       "                        <td id=\"T_7ffc85ce_19bb_11ea_9ee5_c869cd93ed7crow0_col9\" class=\"data row0 col9\" >nan</td>\n",
       "                        <td id=\"T_7ffc85ce_19bb_11ea_9ee5_c869cd93ed7crow0_col10\" class=\"data row0 col10\" >nan</td>\n",
       "                        <td id=\"T_7ffc85ce_19bb_11ea_9ee5_c869cd93ed7crow0_col11\" class=\"data row0 col11\" >nan</td>\n",
       "                        <td id=\"T_7ffc85ce_19bb_11ea_9ee5_c869cd93ed7crow0_col12\" class=\"data row0 col12\" >nan</td>\n",
       "                        <td id=\"T_7ffc85ce_19bb_11ea_9ee5_c869cd93ed7crow0_col13\" class=\"data row0 col13\" >nan</td>\n",
       "                        <td id=\"T_7ffc85ce_19bb_11ea_9ee5_c869cd93ed7crow0_col14\" class=\"data row0 col14\" >nan</td>\n",
       "                        <td id=\"T_7ffc85ce_19bb_11ea_9ee5_c869cd93ed7crow0_col15\" class=\"data row0 col15\" >nan</td>\n",
       "                        <td id=\"T_7ffc85ce_19bb_11ea_9ee5_c869cd93ed7crow0_col16\" class=\"data row0 col16\" >nan</td>\n",
       "                        <td id=\"T_7ffc85ce_19bb_11ea_9ee5_c869cd93ed7crow0_col17\" class=\"data row0 col17\" >nan</td>\n",
       "                        <td id=\"T_7ffc85ce_19bb_11ea_9ee5_c869cd93ed7crow0_col18\" class=\"data row0 col18\" >nan</td>\n",
       "            </tr>\n",
       "            <tr>\n",
       "                        <th id=\"T_7ffc85ce_19bb_11ea_9ee5_c869cd93ed7clevel0_row1\" class=\"row_heading level0 row1\" >1</th>\n",
       "                        <td id=\"T_7ffc85ce_19bb_11ea_9ee5_c869cd93ed7crow1_col0\" class=\"data row1 col0\" >-2.2292</td>\n",
       "                        <td id=\"T_7ffc85ce_19bb_11ea_9ee5_c869cd93ed7crow1_col1\" class=\"data row1 col1\" >9.9399</td>\n",
       "                        <td id=\"T_7ffc85ce_19bb_11ea_9ee5_c869cd93ed7crow1_col2\" class=\"data row1 col2\" >4.82201</td>\n",
       "                        <td id=\"T_7ffc85ce_19bb_11ea_9ee5_c869cd93ed7crow1_col3\" class=\"data row1 col3\" >8.19019</td>\n",
       "                        <td id=\"T_7ffc85ce_19bb_11ea_9ee5_c869cd93ed7crow1_col4\" class=\"data row1 col4\" >-20.3883</td>\n",
       "                        <td id=\"T_7ffc85ce_19bb_11ea_9ee5_c869cd93ed7crow1_col5\" class=\"data row1 col5\" >284.79</td>\n",
       "                        <td id=\"T_7ffc85ce_19bb_11ea_9ee5_c869cd93ed7crow1_col6\" class=\"data row1 col6\" >inf</td>\n",
       "                        <td id=\"T_7ffc85ce_19bb_11ea_9ee5_c869cd93ed7crow1_col7\" class=\"data row1 col7\" >-53.5599</td>\n",
       "                        <td id=\"T_7ffc85ce_19bb_11ea_9ee5_c869cd93ed7crow1_col8\" class=\"data row1 col8\" >inf</td>\n",
       "                        <td id=\"T_7ffc85ce_19bb_11ea_9ee5_c869cd93ed7crow1_col9\" class=\"data row1 col9\" >-73.4628</td>\n",
       "                        <td id=\"T_7ffc85ce_19bb_11ea_9ee5_c869cd93ed7crow1_col10\" class=\"data row1 col10\" >nan</td>\n",
       "                        <td id=\"T_7ffc85ce_19bb_11ea_9ee5_c869cd93ed7crow1_col11\" class=\"data row1 col11\" >nan</td>\n",
       "                        <td id=\"T_7ffc85ce_19bb_11ea_9ee5_c869cd93ed7crow1_col12\" class=\"data row1 col12\" >nan</td>\n",
       "                        <td id=\"T_7ffc85ce_19bb_11ea_9ee5_c869cd93ed7crow1_col13\" class=\"data row1 col13\" >nan</td>\n",
       "                        <td id=\"T_7ffc85ce_19bb_11ea_9ee5_c869cd93ed7crow1_col14\" class=\"data row1 col14\" >inf</td>\n",
       "                        <td id=\"T_7ffc85ce_19bb_11ea_9ee5_c869cd93ed7crow1_col15\" class=\"data row1 col15\" >nan</td>\n",
       "                        <td id=\"T_7ffc85ce_19bb_11ea_9ee5_c869cd93ed7crow1_col16\" class=\"data row1 col16\" >nan</td>\n",
       "                        <td id=\"T_7ffc85ce_19bb_11ea_9ee5_c869cd93ed7crow1_col17\" class=\"data row1 col17\" >nan</td>\n",
       "                        <td id=\"T_7ffc85ce_19bb_11ea_9ee5_c869cd93ed7crow1_col18\" class=\"data row1 col18\" >inf</td>\n",
       "            </tr>\n",
       "            <tr>\n",
       "                        <th id=\"T_7ffc85ce_19bb_11ea_9ee5_c869cd93ed7clevel0_row2\" class=\"row_heading level0 row2\" >2</th>\n",
       "                        <td id=\"T_7ffc85ce_19bb_11ea_9ee5_c869cd93ed7crow2_col0\" class=\"data row2 col0\" >-2.96626</td>\n",
       "                        <td id=\"T_7ffc85ce_19bb_11ea_9ee5_c869cd93ed7crow2_col1\" class=\"data row2 col1\" >5.48541</td>\n",
       "                        <td id=\"T_7ffc85ce_19bb_11ea_9ee5_c869cd93ed7crow2_col2\" class=\"data row2 col2\" >-7.49382</td>\n",
       "                        <td id=\"T_7ffc85ce_19bb_11ea_9ee5_c869cd93ed7crow2_col3\" class=\"data row2 col3\" >1.34035</td>\n",
       "                        <td id=\"T_7ffc85ce_19bb_11ea_9ee5_c869cd93ed7crow2_col4\" class=\"data row2 col4\" >43.6302</td>\n",
       "                        <td id=\"T_7ffc85ce_19bb_11ea_9ee5_c869cd93ed7crow2_col5\" class=\"data row2 col5\" >319.398</td>\n",
       "                        <td id=\"T_7ffc85ce_19bb_11ea_9ee5_c869cd93ed7crow2_col6\" class=\"data row2 col6\" >inf</td>\n",
       "                        <td id=\"T_7ffc85ce_19bb_11ea_9ee5_c869cd93ed7crow2_col7\" class=\"data row2 col7\" >10.4587</td>\n",
       "                        <td id=\"T_7ffc85ce_19bb_11ea_9ee5_c869cd93ed7crow2_col8\" class=\"data row2 col8\" >inf</td>\n",
       "                        <td id=\"T_7ffc85ce_19bb_11ea_9ee5_c869cd93ed7crow2_col9\" class=\"data row2 col9\" >-58.6498</td>\n",
       "                        <td id=\"T_7ffc85ce_19bb_11ea_9ee5_c869cd93ed7crow2_col10\" class=\"data row2 col10\" >inf</td>\n",
       "                        <td id=\"T_7ffc85ce_19bb_11ea_9ee5_c869cd93ed7crow2_col11\" class=\"data row2 col11\" >inf</td>\n",
       "                        <td id=\"T_7ffc85ce_19bb_11ea_9ee5_c869cd93ed7crow2_col12\" class=\"data row2 col12\" >inf</td>\n",
       "                        <td id=\"T_7ffc85ce_19bb_11ea_9ee5_c869cd93ed7crow2_col13\" class=\"data row2 col13\" >nan</td>\n",
       "                        <td id=\"T_7ffc85ce_19bb_11ea_9ee5_c869cd93ed7crow2_col14\" class=\"data row2 col14\" >inf</td>\n",
       "                        <td id=\"T_7ffc85ce_19bb_11ea_9ee5_c869cd93ed7crow2_col15\" class=\"data row2 col15\" >inf</td>\n",
       "                        <td id=\"T_7ffc85ce_19bb_11ea_9ee5_c869cd93ed7crow2_col16\" class=\"data row2 col16\" >inf</td>\n",
       "                        <td id=\"T_7ffc85ce_19bb_11ea_9ee5_c869cd93ed7crow2_col17\" class=\"data row2 col17\" >nan</td>\n",
       "                        <td id=\"T_7ffc85ce_19bb_11ea_9ee5_c869cd93ed7crow2_col18\" class=\"data row2 col18\" >inf</td>\n",
       "            </tr>\n",
       "            <tr>\n",
       "                        <th id=\"T_7ffc85ce_19bb_11ea_9ee5_c869cd93ed7clevel0_row3\" class=\"row_heading level0 row3\" >3</th>\n",
       "                        <td id=\"T_7ffc85ce_19bb_11ea_9ee5_c869cd93ed7crow3_col0\" class=\"data row3 col0\" >-3.02246</td>\n",
       "                        <td id=\"T_7ffc85ce_19bb_11ea_9ee5_c869cd93ed7crow3_col1\" class=\"data row3 col1\" >10.5374</td>\n",
       "                        <td id=\"T_7ffc85ce_19bb_11ea_9ee5_c869cd93ed7crow3_col2\" class=\"data row3 col2\" >-6.20593</td>\n",
       "                        <td id=\"T_7ffc85ce_19bb_11ea_9ee5_c869cd93ed7crow3_col3\" class=\"data row3 col3\" >-5.51533</td>\n",
       "                        <td id=\"T_7ffc85ce_19bb_11ea_9ee5_c869cd93ed7crow3_col4\" class=\"data row3 col4\" >33.0936</td>\n",
       "                        <td id=\"T_7ffc85ce_19bb_11ea_9ee5_c869cd93ed7crow3_col5\" class=\"data row3 col5\" >311.695</td>\n",
       "                        <td id=\"T_7ffc85ce_19bb_11ea_9ee5_c869cd93ed7crow3_col6\" class=\"data row3 col6\" >inf</td>\n",
       "                        <td id=\"T_7ffc85ce_19bb_11ea_9ee5_c869cd93ed7crow3_col7\" class=\"data row3 col7\" >9.55656</td>\n",
       "                        <td id=\"T_7ffc85ce_19bb_11ea_9ee5_c869cd93ed7crow3_col8\" class=\"data row3 col8\" >inf</td>\n",
       "                        <td id=\"T_7ffc85ce_19bb_11ea_9ee5_c869cd93ed7crow3_col9\" class=\"data row3 col9\" >-76.0682</td>\n",
       "                        <td id=\"T_7ffc85ce_19bb_11ea_9ee5_c869cd93ed7crow3_col10\" class=\"data row3 col10\" >inf</td>\n",
       "                        <td id=\"T_7ffc85ce_19bb_11ea_9ee5_c869cd93ed7crow3_col11\" class=\"data row3 col11\" >inf</td>\n",
       "                        <td id=\"T_7ffc85ce_19bb_11ea_9ee5_c869cd93ed7crow3_col12\" class=\"data row3 col12\" >inf</td>\n",
       "                        <td id=\"T_7ffc85ce_19bb_11ea_9ee5_c869cd93ed7crow3_col13\" class=\"data row3 col13\" >nan</td>\n",
       "                        <td id=\"T_7ffc85ce_19bb_11ea_9ee5_c869cd93ed7crow3_col14\" class=\"data row3 col14\" >inf</td>\n",
       "                        <td id=\"T_7ffc85ce_19bb_11ea_9ee5_c869cd93ed7crow3_col15\" class=\"data row3 col15\" >inf</td>\n",
       "                        <td id=\"T_7ffc85ce_19bb_11ea_9ee5_c869cd93ed7crow3_col16\" class=\"data row3 col16\" >inf</td>\n",
       "                        <td id=\"T_7ffc85ce_19bb_11ea_9ee5_c869cd93ed7crow3_col17\" class=\"data row3 col17\" >nan</td>\n",
       "                        <td id=\"T_7ffc85ce_19bb_11ea_9ee5_c869cd93ed7crow3_col18\" class=\"data row3 col18\" >inf</td>\n",
       "            </tr>\n",
       "            <tr>\n",
       "                        <th id=\"T_7ffc85ce_19bb_11ea_9ee5_c869cd93ed7clevel0_row4\" class=\"row_heading level0 row4\" >4</th>\n",
       "                        <td id=\"T_7ffc85ce_19bb_11ea_9ee5_c869cd93ed7crow4_col0\" class=\"data row4 col0\" >-9.30609</td>\n",
       "                        <td id=\"T_7ffc85ce_19bb_11ea_9ee5_c869cd93ed7crow4_col1\" class=\"data row4 col1\" >18.7931</td>\n",
       "                        <td id=\"T_7ffc85ce_19bb_11ea_9ee5_c869cd93ed7crow4_col2\" class=\"data row4 col2\" >8.69613</td>\n",
       "                        <td id=\"T_7ffc85ce_19bb_11ea_9ee5_c869cd93ed7crow4_col3\" class=\"data row4 col3\" >43.3819</td>\n",
       "                        <td id=\"T_7ffc85ce_19bb_11ea_9ee5_c869cd93ed7crow4_col4\" class=\"data row4 col4\" >87.2003</td>\n",
       "                        <td id=\"T_7ffc85ce_19bb_11ea_9ee5_c869cd93ed7crow4_col5\" class=\"data row4 col5\" >346.562</td>\n",
       "                        <td id=\"T_7ffc85ce_19bb_11ea_9ee5_c869cd93ed7crow4_col6\" class=\"data row4 col6\" >inf</td>\n",
       "                        <td id=\"T_7ffc85ce_19bb_11ea_9ee5_c869cd93ed7crow4_col7\" class=\"data row4 col7\" >13.0908</td>\n",
       "                        <td id=\"T_7ffc85ce_19bb_11ea_9ee5_c869cd93ed7crow4_col8\" class=\"data row4 col8\" >inf</td>\n",
       "                        <td id=\"T_7ffc85ce_19bb_11ea_9ee5_c869cd93ed7crow4_col9\" class=\"data row4 col9\" >251.011</td>\n",
       "                        <td id=\"T_7ffc85ce_19bb_11ea_9ee5_c869cd93ed7crow4_col10\" class=\"data row4 col10\" >inf</td>\n",
       "                        <td id=\"T_7ffc85ce_19bb_11ea_9ee5_c869cd93ed7crow4_col11\" class=\"data row4 col11\" >inf</td>\n",
       "                        <td id=\"T_7ffc85ce_19bb_11ea_9ee5_c869cd93ed7crow4_col12\" class=\"data row4 col12\" >inf</td>\n",
       "                        <td id=\"T_7ffc85ce_19bb_11ea_9ee5_c869cd93ed7crow4_col13\" class=\"data row4 col13\" >inf</td>\n",
       "                        <td id=\"T_7ffc85ce_19bb_11ea_9ee5_c869cd93ed7crow4_col14\" class=\"data row4 col14\" >inf</td>\n",
       "                        <td id=\"T_7ffc85ce_19bb_11ea_9ee5_c869cd93ed7crow4_col15\" class=\"data row4 col15\" >inf</td>\n",
       "                        <td id=\"T_7ffc85ce_19bb_11ea_9ee5_c869cd93ed7crow4_col16\" class=\"data row4 col16\" >inf</td>\n",
       "                        <td id=\"T_7ffc85ce_19bb_11ea_9ee5_c869cd93ed7crow4_col17\" class=\"data row4 col17\" >inf</td>\n",
       "                        <td id=\"T_7ffc85ce_19bb_11ea_9ee5_c869cd93ed7crow4_col18\" class=\"data row4 col18\" >inf</td>\n",
       "            </tr>\n",
       "    </tbody></table>"
      ],
      "text/plain": [
       "<pandas.io.formats.style.Styler at 0x1a21a34a90>"
      ]
     },
     "metadata": {},
     "output_type": "display_data"
    },
    {
     "data": {
      "image/png": "[encoded data removed]",
      "text/plain": [
       "<Figure size 720x504 with 1 Axes>"
      ]
     },
     "metadata": {},
     "output_type": "display_data"
    }
   ],
   "source": [
    "ste = cat_distr_pairwise('AdoptionSpeed','Quantity', df, frel=True)"
   ]
  },
  {
   "cell_type": "markdown",
   "metadata": {},
   "source": [
    "The \"inf\" values on the table indicate that there are no examples of a pet with AdoptionSpeed=0 for that feature instance. Therefore, all positive relative gains are 'infinite'.\n",
    "\n",
    "We can conclude that adds containing more than 5 pets could be more likely to be ignored, since those pets are adopted after a long time."
   ]
  },
  {
   "cell_type": "markdown",
   "metadata": {},
   "source": [
    "### Fee\n",
    "\n",
    "After observing the fees distribution we considered 4 categories: \n",
    "* Free => 0\n",
    "* Tens => 1\n",
    "* Hundreds => 2\n",
    "* Thousands => 3\n"
   ]
  },
  {
   "cell_type": "code",
   "execution_count": 46,
   "metadata": {},
   "outputs": [],
   "source": [
    "f=[]\n",
    "for i in df[\"Fee\"]:\n",
    "    if i==0:\n",
    "        f.append(0)\n",
    "    elif i<100:\n",
    "        f.append(1)\n",
    "    elif i<1000:\n",
    "        f.append(2)\n",
    "    else:\n",
    "        f.append(3)\n",
    "\n",
    "df_processed2.drop(\"Free\",axis=1,inplace=True) \n",
    "df_processed2.insert(4,'Free',f) ##INSERT IN DATAFRAME"
   ]
  },
  {
   "cell_type": "code",
   "execution_count": 47,
   "metadata": {},
   "outputs": [
    {
     "name": "stdout",
     "output_type": "stream",
     "text": [
      "Relative gain from AdoptionSpeed=0 (%):\n"
     ]
    },
    {
     "data": {
      "text/html": [
       "<style  type=\"text/css\" >\n",
       "    #T_93e90d64_19bb_11ea_9ee5_c869cd93ed7crow0_col0 {\n",
       "            background-color:  white;\n",
       "        }    #T_93e90d64_19bb_11ea_9ee5_c869cd93ed7crow0_col1 {\n",
       "            background-color:  white;\n",
       "        }    #T_93e90d64_19bb_11ea_9ee5_c869cd93ed7crow0_col2 {\n",
       "            background-color:  white;\n",
       "        }    #T_93e90d64_19bb_11ea_9ee5_c869cd93ed7crow0_col3 {\n",
       "            background-color:  white;\n",
       "        }    #T_93e90d64_19bb_11ea_9ee5_c869cd93ed7crow1_col0 {\n",
       "            background-color:  red;\n",
       "        }    #T_93e90d64_19bb_11ea_9ee5_c869cd93ed7crow1_col1 {\n",
       "            background-color:  green;\n",
       "        }    #T_93e90d64_19bb_11ea_9ee5_c869cd93ed7crow1_col2 {\n",
       "            background-color:  green;\n",
       "        }    #T_93e90d64_19bb_11ea_9ee5_c869cd93ed7crow1_col3 {\n",
       "            background-color:  red;\n",
       "        }    #T_93e90d64_19bb_11ea_9ee5_c869cd93ed7crow2_col0 {\n",
       "            background-color:  red;\n",
       "        }    #T_93e90d64_19bb_11ea_9ee5_c869cd93ed7crow2_col1 {\n",
       "            background-color:  green;\n",
       "        }    #T_93e90d64_19bb_11ea_9ee5_c869cd93ed7crow2_col2 {\n",
       "            background-color:  green;\n",
       "        }    #T_93e90d64_19bb_11ea_9ee5_c869cd93ed7crow2_col3 {\n",
       "            background-color:  red;\n",
       "        }    #T_93e90d64_19bb_11ea_9ee5_c869cd93ed7crow3_col0 {\n",
       "            background-color:  red;\n",
       "        }    #T_93e90d64_19bb_11ea_9ee5_c869cd93ed7crow3_col1 {\n",
       "            background-color:  green;\n",
       "        }    #T_93e90d64_19bb_11ea_9ee5_c869cd93ed7crow3_col2 {\n",
       "            background-color:  red;\n",
       "        }    #T_93e90d64_19bb_11ea_9ee5_c869cd93ed7crow3_col3 {\n",
       "            background-color:  red;\n",
       "        }    #T_93e90d64_19bb_11ea_9ee5_c869cd93ed7crow4_col0 {\n",
       "            background-color:  red;\n",
       "        }    #T_93e90d64_19bb_11ea_9ee5_c869cd93ed7crow4_col1 {\n",
       "            background-color:  green;\n",
       "        }    #T_93e90d64_19bb_11ea_9ee5_c869cd93ed7crow4_col2 {\n",
       "            background-color:  green;\n",
       "        }    #T_93e90d64_19bb_11ea_9ee5_c869cd93ed7crow4_col3 {\n",
       "            background-color:  red;\n",
       "        }</style><table id=\"T_93e90d64_19bb_11ea_9ee5_c869cd93ed7c\" ><thead>    <tr>        <th class=\"blank level0\" ></th>        <th class=\"col_heading level0 col0\" >0</th>        <th class=\"col_heading level0 col1\" >1</th>        <th class=\"col_heading level0 col2\" >2</th>        <th class=\"col_heading level0 col3\" >3</th>    </tr></thead><tbody>\n",
       "                <tr>\n",
       "                        <th id=\"T_93e90d64_19bb_11ea_9ee5_c869cd93ed7clevel0_row0\" class=\"row_heading level0 row0\" >0</th>\n",
       "                        <td id=\"T_93e90d64_19bb_11ea_9ee5_c869cd93ed7crow0_col0\" class=\"data row0 col0\" >nan</td>\n",
       "                        <td id=\"T_93e90d64_19bb_11ea_9ee5_c869cd93ed7crow0_col1\" class=\"data row0 col1\" >nan</td>\n",
       "                        <td id=\"T_93e90d64_19bb_11ea_9ee5_c869cd93ed7crow0_col2\" class=\"data row0 col2\" >nan</td>\n",
       "                        <td id=\"T_93e90d64_19bb_11ea_9ee5_c869cd93ed7crow0_col3\" class=\"data row0 col3\" >nan</td>\n",
       "            </tr>\n",
       "            <tr>\n",
       "                        <th id=\"T_93e90d64_19bb_11ea_9ee5_c869cd93ed7clevel0_row1\" class=\"row_heading level0 row1\" >1</th>\n",
       "                        <td id=\"T_93e90d64_19bb_11ea_9ee5_c869cd93ed7crow1_col0\" class=\"data row1 col0\" >-2.95704</td>\n",
       "                        <td id=\"T_93e90d64_19bb_11ea_9ee5_c869cd93ed7crow1_col1\" class=\"data row1 col1\" >50.5987</td>\n",
       "                        <td id=\"T_93e90d64_19bb_11ea_9ee5_c869cd93ed7crow1_col2\" class=\"data row1 col2\" >3.661</td>\n",
       "                        <td id=\"T_93e90d64_19bb_11ea_9ee5_c869cd93ed7crow1_col3\" class=\"data row1 col3\" >-73.4628</td>\n",
       "            </tr>\n",
       "            <tr>\n",
       "                        <th id=\"T_93e90d64_19bb_11ea_9ee5_c869cd93ed7clevel0_row2\" class=\"row_heading level0 row2\" >2</th>\n",
       "                        <td id=\"T_93e90d64_19bb_11ea_9ee5_c869cd93ed7crow2_col0\" class=\"data row2 col0\" >-2.40591</td>\n",
       "                        <td id=\"T_93e90d64_19bb_11ea_9ee5_c869cd93ed7crow2_col1\" class=\"data row2 col1\" >45.0117</td>\n",
       "                        <td id=\"T_93e90d64_19bb_11ea_9ee5_c869cd93ed7crow2_col2\" class=\"data row2 col2\" >3.16559</td>\n",
       "                        <td id=\"T_93e90d64_19bb_11ea_9ee5_c869cd93ed7crow2_col3\" class=\"data row2 col3\" >-96.9208</td>\n",
       "            </tr>\n",
       "            <tr>\n",
       "                        <th id=\"T_93e90d64_19bb_11ea_9ee5_c869cd93ed7clevel0_row3\" class=\"row_heading level0 row3\" >3</th>\n",
       "                        <td id=\"T_93e90d64_19bb_11ea_9ee5_c869cd93ed7crow3_col0\" class=\"data row3 col0\" >-1.68287</td>\n",
       "                        <td id=\"T_93e90d64_19bb_11ea_9ee5_c869cd93ed7crow3_col1\" class=\"data row3 col1\" >41.4552</td>\n",
       "                        <td id=\"T_93e90d64_19bb_11ea_9ee5_c869cd93ed7crow3_col2\" class=\"data row3 col2\" >-1.16684</td>\n",
       "                        <td id=\"T_93e90d64_19bb_11ea_9ee5_c869cd93ed7crow3_col3\" class=\"data row3 col3\" >-134.985</td>\n",
       "            </tr>\n",
       "            <tr>\n",
       "                        <th id=\"T_93e90d64_19bb_11ea_9ee5_c869cd93ed7clevel0_row4\" class=\"row_heading level0 row4\" >4</th>\n",
       "                        <td id=\"T_93e90d64_19bb_11ea_9ee5_c869cd93ed7crow4_col0\" class=\"data row4 col0\" >-4.90487</td>\n",
       "                        <td id=\"T_93e90d64_19bb_11ea_9ee5_c869cd93ed7crow4_col1\" class=\"data row4 col1\" >54.3693</td>\n",
       "                        <td id=\"T_93e90d64_19bb_11ea_9ee5_c869cd93ed7crow4_col2\" class=\"data row4 col2\" >23.8168</td>\n",
       "                        <td id=\"T_93e90d64_19bb_11ea_9ee5_c869cd93ed7crow4_col3\" class=\"data row4 col3\" >-234.985</td>\n",
       "            </tr>\n",
       "    </tbody></table>"
      ],
      "text/plain": [
       "<pandas.io.formats.style.Styler at 0x1a21bc6190>"
      ]
     },
     "metadata": {},
     "output_type": "display_data"
    },
    {
     "data": {
      "image/png": "[encoded data removed]",
      "text/plain": [
       "<Figure size 720x504 with 1 Axes>"
      ]
     },
     "metadata": {},
     "output_type": "display_data"
    }
   ],
   "source": [
    "fee = cat_distr_pairwise('AdoptionSpeed','Free', df_processed2, frel=True)"
   ]
  },
  {
   "cell_type": "markdown",
   "metadata": {},
   "source": [
    "It seems that pets with fees in the order of the thousands are less likely to be adopted fast."
   ]
  },
  {
   "cell_type": "markdown",
   "metadata": {},
   "source": [
    "### RescuerID\n",
    "\n",
    "In order to extract some meaning from the 'RescuerID', we decided to create a new feature \"FrequentRescuer\" which indicates whether it is frequent for rescuers to save and advertise pets."
   ]
  },
  {
   "cell_type": "code",
   "execution_count": 52,
   "metadata": {},
   "outputs": [
    {
     "name": "stdout",
     "output_type": "stream",
     "text": [
      "There are 5595 total rescuers in the dataset\n",
      "There are 3783 rescuers with only 1 webpage entry in the dataset\n",
      "There are 1812 rescuers with more than 1 webpage entry in the dataset\n"
     ]
    },
    {
     "data": {
      "text/plain": [
       "<seaborn.axisgrid.FacetGrid at 0x1a22818790>"
      ]
     },
     "execution_count": 52,
     "metadata": {},
     "output_type": "execute_result"
    },
    {
     "data": {
      "image/png": "[encoded data removed]",
      "text/plain": [
       "<Figure size 1080x360 with 1 Axes>"
      ]
     },
     "metadata": {},
     "output_type": "display_data"
    }
   ],
   "source": [
    "x = list(df['RescuerID'].unique())\n",
    "y = list(df['RescuerID'])\n",
    "z = []\n",
    "t = {}\n",
    "for i in x:\n",
    "    z.append(y.count(i))\n",
    "\n",
    "t['Rescuer'] = x\n",
    "t['entries'] = z\n",
    "\n",
    "e = pd.DataFrame(t)\n",
    "print('There are {} total rescuers in the dataset'.format(len(x)))\n",
    "print('There are {} rescuers with only 1 webpage entry in the dataset'.format(z.count(1)))\n",
    "print('There are {} rescuers with more than 1 webpage entry in the dataset'.format(len(x)-(z.count(1))))\n",
    "ax11 = sns.catplot(x='entries', data=e, kind='count', height=5, aspect=3)\n",
    "(ax11.set_axis_labels(\"Web page entries\", \"Number of Rescuers\")\n",
    "    .set_titles(\"{col_name} {col_var}\")\n",
    "    .despine(left=True))  "
   ]
  },
  {
   "cell_type": "markdown",
   "metadata": {},
   "source": [
    "According to the dataset, the number of rescuers with a single entry in the MyPet webpage is greater than the number of rescuers who save and advertise more than 1 pet. This information could be useful on later anaylsis to discover whether the number of webpage profile entries associated with a rescuer has any interference in pet's apoption or adoption speed."
   ]
  },
  {
   "cell_type": "code",
   "execution_count": 64,
   "metadata": {},
   "outputs": [],
   "source": [
    "#CREATE NEW FEATURE FREQUENTRESCUER\n",
    "\n",
    "lista2 = []\n",
    "y = list(df['RescuerID'])\n",
    "for i in df['RescuerID']:\n",
    "      if y.count(i)>1:\n",
    "          lista2.append(float(1))\n",
    "      else:\n",
    "          lista2.append(float(0))\n",
    "          \n",
    "df_processed1.insert((df.columns.get_loc(\"RescuerID\"))+1,'FrequentRescuer',lista2) ##INSERT IN DATAFRAME\n",
    "df_processed1.drop(\"RescuerID\", axis=1)\n",
    "\n",
    "df_processed2.insert((df.columns.get_loc(\"RescuerID\"))+1,'FrequentRescuer',lista2) ##INSERT IN DATAFRAME\n",
    "df_processed2.drop(\"RescuerID\", axis=1)"
   ]
  },
  {
   "cell_type": "markdown",
   "metadata": {},
   "source": [
    "### VideoAmt"
   ]
  },
  {
   "cell_type": "code",
   "execution_count": 53,
   "metadata": {},
   "outputs": [
    {
     "name": "stdout",
     "output_type": "stream",
     "text": [
      "There are 14419 profiles with 0 videos\n",
      "There are 574 profiles with more than 0 videos\n"
     ]
    },
    {
     "data": {
      "image/png": "[encoded data removed]",
      "text/plain": [
       "<Figure size 360x360 with 1 Axes>"
      ]
     },
     "metadata": {},
     "output_type": "display_data"
    }
   ],
   "source": [
    "ax2 = sns.catplot(x='VideoAmt', data=df, kind='count')\n",
    "(ax2.set_axis_labels(\"Video Amount\", \"Number of Pets\"))\n",
    "print('There are {} profiles with 0 videos'.format((list(df['VideoAmt'])).count(0)))\n",
    "print('There are {} profiles with more than 0 videos'.format(len(df['VideoAmt'])-list(list(df['VideoAmt'])).count(0)))"
   ]
  },
  {
   "cell_type": "code",
   "execution_count": 54,
   "metadata": {},
   "outputs": [
    {
     "name": "stdout",
     "output_type": "stream",
     "text": [
      "Relative gain from AdoptionSpeed=0 (%):\n"
     ]
    },
    {
     "data": {
      "text/html": [
       "<style  type=\"text/css\" >\n",
       "    #T_36576314_19be_11ea_9ee5_c869cd93ed7crow0_col0 {\n",
       "            background-color:  white;\n",
       "        }    #T_36576314_19be_11ea_9ee5_c869cd93ed7crow0_col1 {\n",
       "            background-color:  white;\n",
       "        }    #T_36576314_19be_11ea_9ee5_c869cd93ed7crow0_col2 {\n",
       "            background-color:  white;\n",
       "        }    #T_36576314_19be_11ea_9ee5_c869cd93ed7crow0_col3 {\n",
       "            background-color:  white;\n",
       "        }    #T_36576314_19be_11ea_9ee5_c869cd93ed7crow0_col4 {\n",
       "            background-color:  white;\n",
       "        }    #T_36576314_19be_11ea_9ee5_c869cd93ed7crow0_col5 {\n",
       "            background-color:  white;\n",
       "        }    #T_36576314_19be_11ea_9ee5_c869cd93ed7crow0_col6 {\n",
       "            background-color:  white;\n",
       "        }    #T_36576314_19be_11ea_9ee5_c869cd93ed7crow0_col7 {\n",
       "            background-color:  white;\n",
       "        }    #T_36576314_19be_11ea_9ee5_c869cd93ed7crow0_col8 {\n",
       "            background-color:  white;\n",
       "        }    #T_36576314_19be_11ea_9ee5_c869cd93ed7crow1_col0 {\n",
       "            background-color:  green;\n",
       "        }    #T_36576314_19be_11ea_9ee5_c869cd93ed7crow1_col1 {\n",
       "            background-color:  red;\n",
       "        }    #T_36576314_19be_11ea_9ee5_c869cd93ed7crow1_col2 {\n",
       "            background-color:  red;\n",
       "        }    #T_36576314_19be_11ea_9ee5_c869cd93ed7crow1_col3 {\n",
       "            background-color:  red;\n",
       "        }    #T_36576314_19be_11ea_9ee5_c869cd93ed7crow1_col4 {\n",
       "            background-color:  green;\n",
       "        }    #T_36576314_19be_11ea_9ee5_c869cd93ed7crow1_col5 {\n",
       "            background-color:  green;\n",
       "        }    #T_36576314_19be_11ea_9ee5_c869cd93ed7crow1_col6 {\n",
       "            background-color:  green;\n",
       "        }    #T_36576314_19be_11ea_9ee5_c869cd93ed7crow1_col7 {\n",
       "            background-color:  white;\n",
       "        }    #T_36576314_19be_11ea_9ee5_c869cd93ed7crow1_col8 {\n",
       "            background-color:  white;\n",
       "        }    #T_36576314_19be_11ea_9ee5_c869cd93ed7crow2_col0 {\n",
       "            background-color:  green;\n",
       "        }    #T_36576314_19be_11ea_9ee5_c869cd93ed7crow2_col1 {\n",
       "            background-color:  red;\n",
       "        }    #T_36576314_19be_11ea_9ee5_c869cd93ed7crow2_col2 {\n",
       "            background-color:  green;\n",
       "        }    #T_36576314_19be_11ea_9ee5_c869cd93ed7crow2_col3 {\n",
       "            background-color:  green;\n",
       "        }    #T_36576314_19be_11ea_9ee5_c869cd93ed7crow2_col4 {\n",
       "            background-color:  green;\n",
       "        }    #T_36576314_19be_11ea_9ee5_c869cd93ed7crow2_col5 {\n",
       "            background-color:  green;\n",
       "        }    #T_36576314_19be_11ea_9ee5_c869cd93ed7crow2_col6 {\n",
       "            background-color:  green;\n",
       "        }    #T_36576314_19be_11ea_9ee5_c869cd93ed7crow2_col7 {\n",
       "            background-color:  green;\n",
       "        }    #T_36576314_19be_11ea_9ee5_c869cd93ed7crow2_col8 {\n",
       "            background-color:  white;\n",
       "        }    #T_36576314_19be_11ea_9ee5_c869cd93ed7crow3_col0 {\n",
       "            background-color:  green;\n",
       "        }    #T_36576314_19be_11ea_9ee5_c869cd93ed7crow3_col1 {\n",
       "            background-color:  red;\n",
       "        }    #T_36576314_19be_11ea_9ee5_c869cd93ed7crow3_col2 {\n",
       "            background-color:  green;\n",
       "        }    #T_36576314_19be_11ea_9ee5_c869cd93ed7crow3_col3 {\n",
       "            background-color:  green;\n",
       "        }    #T_36576314_19be_11ea_9ee5_c869cd93ed7crow3_col4 {\n",
       "            background-color:  green;\n",
       "        }    #T_36576314_19be_11ea_9ee5_c869cd93ed7crow3_col5 {\n",
       "            background-color:  green;\n",
       "        }    #T_36576314_19be_11ea_9ee5_c869cd93ed7crow3_col6 {\n",
       "            background-color:  green;\n",
       "        }    #T_36576314_19be_11ea_9ee5_c869cd93ed7crow3_col7 {\n",
       "            background-color:  green;\n",
       "        }    #T_36576314_19be_11ea_9ee5_c869cd93ed7crow3_col8 {\n",
       "            background-color:  green;\n",
       "        }    #T_36576314_19be_11ea_9ee5_c869cd93ed7crow4_col0 {\n",
       "            background-color:  green;\n",
       "        }    #T_36576314_19be_11ea_9ee5_c869cd93ed7crow4_col1 {\n",
       "            background-color:  red;\n",
       "        }    #T_36576314_19be_11ea_9ee5_c869cd93ed7crow4_col2 {\n",
       "            background-color:  red;\n",
       "        }    #T_36576314_19be_11ea_9ee5_c869cd93ed7crow4_col3 {\n",
       "            background-color:  green;\n",
       "        }    #T_36576314_19be_11ea_9ee5_c869cd93ed7crow4_col4 {\n",
       "            background-color:  green;\n",
       "        }    #T_36576314_19be_11ea_9ee5_c869cd93ed7crow4_col5 {\n",
       "            background-color:  green;\n",
       "        }    #T_36576314_19be_11ea_9ee5_c869cd93ed7crow4_col6 {\n",
       "            background-color:  green;\n",
       "        }    #T_36576314_19be_11ea_9ee5_c869cd93ed7crow4_col7 {\n",
       "            background-color:  white;\n",
       "        }    #T_36576314_19be_11ea_9ee5_c869cd93ed7crow4_col8 {\n",
       "            background-color:  green;\n",
       "        }</style><table id=\"T_36576314_19be_11ea_9ee5_c869cd93ed7c\" ><thead>    <tr>        <th class=\"blank level0\" ></th>        <th class=\"col_heading level0 col0\" >0</th>        <th class=\"col_heading level0 col1\" >1</th>        <th class=\"col_heading level0 col2\" >2</th>        <th class=\"col_heading level0 col3\" >3</th>        <th class=\"col_heading level0 col4\" >4</th>        <th class=\"col_heading level0 col5\" >5</th>        <th class=\"col_heading level0 col6\" >6</th>        <th class=\"col_heading level0 col7\" >7</th>        <th class=\"col_heading level0 col8\" >8</th>    </tr></thead><tbody>\n",
       "                <tr>\n",
       "                        <th id=\"T_36576314_19be_11ea_9ee5_c869cd93ed7clevel0_row0\" class=\"row_heading level0 row0\" >0</th>\n",
       "                        <td id=\"T_36576314_19be_11ea_9ee5_c869cd93ed7crow0_col0\" class=\"data row0 col0\" >nan</td>\n",
       "                        <td id=\"T_36576314_19be_11ea_9ee5_c869cd93ed7crow0_col1\" class=\"data row0 col1\" >nan</td>\n",
       "                        <td id=\"T_36576314_19be_11ea_9ee5_c869cd93ed7crow0_col2\" class=\"data row0 col2\" >nan</td>\n",
       "                        <td id=\"T_36576314_19be_11ea_9ee5_c869cd93ed7crow0_col3\" class=\"data row0 col3\" >nan</td>\n",
       "                        <td id=\"T_36576314_19be_11ea_9ee5_c869cd93ed7crow0_col4\" class=\"data row0 col4\" >nan</td>\n",
       "                        <td id=\"T_36576314_19be_11ea_9ee5_c869cd93ed7crow0_col5\" class=\"data row0 col5\" >nan</td>\n",
       "                        <td id=\"T_36576314_19be_11ea_9ee5_c869cd93ed7crow0_col6\" class=\"data row0 col6\" >nan</td>\n",
       "                        <td id=\"T_36576314_19be_11ea_9ee5_c869cd93ed7crow0_col7\" class=\"data row0 col7\" >nan</td>\n",
       "                        <td id=\"T_36576314_19be_11ea_9ee5_c869cd93ed7crow0_col8\" class=\"data row0 col8\" >nan</td>\n",
       "            </tr>\n",
       "            <tr>\n",
       "                        <th id=\"T_36576314_19be_11ea_9ee5_c869cd93ed7clevel0_row1\" class=\"row_heading level0 row1\" >1</th>\n",
       "                        <td id=\"T_36576314_19be_11ea_9ee5_c869cd93ed7crow1_col0\" class=\"data row1 col0\" >1.726</td>\n",
       "                        <td id=\"T_36576314_19be_11ea_9ee5_c869cd93ed7crow1_col1\" class=\"data row1 col1\" >-37.8034</td>\n",
       "                        <td id=\"T_36576314_19be_11ea_9ee5_c869cd93ed7crow1_col2\" class=\"data row1 col2\" >-24.8112</td>\n",
       "                        <td id=\"T_36576314_19be_11ea_9ee5_c869cd93ed7crow1_col3\" class=\"data row1 col3\" >-33.657</td>\n",
       "                        <td id=\"T_36576314_19be_11ea_9ee5_c869cd93ed7crow1_col4\" class=\"data row1 col4\" >inf</td>\n",
       "                        <td id=\"T_36576314_19be_11ea_9ee5_c869cd93ed7crow1_col5\" class=\"data row1 col5\" >inf</td>\n",
       "                        <td id=\"T_36576314_19be_11ea_9ee5_c869cd93ed7crow1_col6\" class=\"data row1 col6\" >inf</td>\n",
       "                        <td id=\"T_36576314_19be_11ea_9ee5_c869cd93ed7crow1_col7\" class=\"data row1 col7\" >nan</td>\n",
       "                        <td id=\"T_36576314_19be_11ea_9ee5_c869cd93ed7crow1_col8\" class=\"data row1 col8\" >nan</td>\n",
       "            </tr>\n",
       "            <tr>\n",
       "                        <th id=\"T_36576314_19be_11ea_9ee5_c869cd93ed7clevel0_row2\" class=\"row_heading level0 row2\" >2</th>\n",
       "                        <td id=\"T_36576314_19be_11ea_9ee5_c869cd93ed7crow2_col0\" class=\"data row2 col0\" >0.513799</td>\n",
       "                        <td id=\"T_36576314_19be_11ea_9ee5_c869cd93ed7crow2_col1\" class=\"data row2 col1\" >-5.13062</td>\n",
       "                        <td id=\"T_36576314_19be_11ea_9ee5_c869cd93ed7crow2_col2\" class=\"data row2 col2\" >5.76041</td>\n",
       "                        <td id=\"T_36576314_19be_11ea_9ee5_c869cd93ed7crow2_col3\" class=\"data row2 col3\" >65.3522</td>\n",
       "                        <td id=\"T_36576314_19be_11ea_9ee5_c869cd93ed7crow2_col4\" class=\"data row2 col4\" >inf</td>\n",
       "                        <td id=\"T_36576314_19be_11ea_9ee5_c869cd93ed7crow2_col5\" class=\"data row2 col5\" >inf</td>\n",
       "                        <td id=\"T_36576314_19be_11ea_9ee5_c869cd93ed7crow2_col6\" class=\"data row2 col6\" >inf</td>\n",
       "                        <td id=\"T_36576314_19be_11ea_9ee5_c869cd93ed7crow2_col7\" class=\"data row2 col7\" >inf</td>\n",
       "                        <td id=\"T_36576314_19be_11ea_9ee5_c869cd93ed7crow2_col8\" class=\"data row2 col8\" >nan</td>\n",
       "            </tr>\n",
       "            <tr>\n",
       "                        <th id=\"T_36576314_19be_11ea_9ee5_c869cd93ed7clevel0_row3\" class=\"row_heading level0 row3\" >3</th>\n",
       "                        <td id=\"T_36576314_19be_11ea_9ee5_c869cd93ed7crow3_col0\" class=\"data row3 col0\" >0.150955</td>\n",
       "                        <td id=\"T_36576314_19be_11ea_9ee5_c869cd93ed7crow3_col1\" class=\"data row3 col1\" >-1.26842</td>\n",
       "                        <td id=\"T_36576314_19be_11ea_9ee5_c869cd93ed7crow3_col2\" class=\"data row3 col2\" >29.6328</td>\n",
       "                        <td id=\"T_36576314_19be_11ea_9ee5_c869cd93ed7crow3_col3\" class=\"data row3 col3\" >32.0527</td>\n",
       "                        <td id=\"T_36576314_19be_11ea_9ee5_c869cd93ed7crow3_col4\" class=\"data row3 col4\" >inf</td>\n",
       "                        <td id=\"T_36576314_19be_11ea_9ee5_c869cd93ed7crow3_col5\" class=\"data row3 col5\" >inf</td>\n",
       "                        <td id=\"T_36576314_19be_11ea_9ee5_c869cd93ed7crow3_col6\" class=\"data row3 col6\" >inf</td>\n",
       "                        <td id=\"T_36576314_19be_11ea_9ee5_c869cd93ed7crow3_col7\" class=\"data row3 col7\" >inf</td>\n",
       "                        <td id=\"T_36576314_19be_11ea_9ee5_c869cd93ed7crow3_col8\" class=\"data row3 col8\" >inf</td>\n",
       "            </tr>\n",
       "            <tr>\n",
       "                        <th id=\"T_36576314_19be_11ea_9ee5_c869cd93ed7clevel0_row4\" class=\"row_heading level0 row4\" >4</th>\n",
       "                        <td id=\"T_36576314_19be_11ea_9ee5_c869cd93ed7crow4_col0\" class=\"data row4 col0\" >2.11754</td>\n",
       "                        <td id=\"T_36576314_19be_11ea_9ee5_c869cd93ed7crow4_col1\" class=\"data row4 col1\" >-39.2903</td>\n",
       "                        <td id=\"T_36576314_19be_11ea_9ee5_c869cd93ed7crow4_col2\" class=\"data row4 col2\" >-32.8807</td>\n",
       "                        <td id=\"T_36576314_19be_11ea_9ee5_c869cd93ed7crow4_col3\" class=\"data row4 col3\" >42.9823</td>\n",
       "                        <td id=\"T_36576314_19be_11ea_9ee5_c869cd93ed7crow4_col4\" class=\"data row4 col4\" >inf</td>\n",
       "                        <td id=\"T_36576314_19be_11ea_9ee5_c869cd93ed7crow4_col5\" class=\"data row4 col5\" >inf</td>\n",
       "                        <td id=\"T_36576314_19be_11ea_9ee5_c869cd93ed7crow4_col6\" class=\"data row4 col6\" >inf</td>\n",
       "                        <td id=\"T_36576314_19be_11ea_9ee5_c869cd93ed7crow4_col7\" class=\"data row4 col7\" >nan</td>\n",
       "                        <td id=\"T_36576314_19be_11ea_9ee5_c869cd93ed7crow4_col8\" class=\"data row4 col8\" >inf</td>\n",
       "            </tr>\n",
       "    </tbody></table>"
      ],
      "text/plain": [
       "<pandas.io.formats.style.Styler at 0x1a22c8ea10>"
      ]
     },
     "metadata": {},
     "output_type": "display_data"
    },
    {
     "data": {
      "image/png": "[encoded data removed]",
      "text/plain": [
       "<Figure size 720x504 with 1 Axes>"
      ]
     },
     "metadata": {},
     "output_type": "display_data"
    }
   ],
   "source": [
    "vid = cat_distr_pairwise('AdoptionSpeed','VideoAmt', df, frel=True)"
   ]
  },
  {
   "cell_type": "markdown",
   "metadata": {},
   "source": [
    "### Photo Amt\n",
    "\n",
    "xxxxxxxxxxxx."
   ]
  },
  {
   "cell_type": "code",
   "execution_count": 713,
   "metadata": {},
   "outputs": [
    {
     "data": {
      "text/plain": [
       "<seaborn.axisgrid.FacetGrid at 0x1a37380890>"
      ]
     },
     "execution_count": 713,
     "metadata": {},
     "output_type": "execute_result"
    },
    {
     "data": {
      "image/png": "[encoded data removed]",
      "text/plain": [
       "<Figure size 864x288 with 1 Axes>"
      ]
     },
     "metadata": {},
     "output_type": "display_data"
    }
   ],
   "source": [
    "ax1 = sns.catplot(x='PhotoAmt', data=df, kind='count',height=4, aspect=3)\n",
    "(ax1.set_axis_labels(\"Photo Amount\", \"Number of Pets\"))"
   ]
  },
  {
   "cell_type": "code",
   "execution_count": 714,
   "metadata": {},
   "outputs": [
    {
     "name": "stdout",
     "output_type": "stream",
     "text": [
      "Relative gain from AdoptionSpeed=0 (%):\n"
     ]
    },
    {
     "data": {
      "text/html": [
       "<style  type=\"text/css\" >\n",
       "    #T_1e0910bc_1952_11ea_9cdb_c869cd93ed7crow0_col0 {\n",
       "            background-color:  white;\n",
       "        }    #T_1e0910bc_1952_11ea_9cdb_c869cd93ed7crow0_col1 {\n",
       "            background-color:  white;\n",
       "        }    #T_1e0910bc_1952_11ea_9cdb_c869cd93ed7crow0_col2 {\n",
       "            background-color:  white;\n",
       "        }    #T_1e0910bc_1952_11ea_9cdb_c869cd93ed7crow0_col3 {\n",
       "            background-color:  white;\n",
       "        }    #T_1e0910bc_1952_11ea_9cdb_c869cd93ed7crow0_col4 {\n",
       "            background-color:  white;\n",
       "        }    #T_1e0910bc_1952_11ea_9cdb_c869cd93ed7crow0_col5 {\n",
       "            background-color:  white;\n",
       "        }    #T_1e0910bc_1952_11ea_9cdb_c869cd93ed7crow0_col6 {\n",
       "            background-color:  white;\n",
       "        }    #T_1e0910bc_1952_11ea_9cdb_c869cd93ed7crow0_col7 {\n",
       "            background-color:  white;\n",
       "        }    #T_1e0910bc_1952_11ea_9cdb_c869cd93ed7crow0_col8 {\n",
       "            background-color:  white;\n",
       "        }    #T_1e0910bc_1952_11ea_9cdb_c869cd93ed7crow0_col9 {\n",
       "            background-color:  white;\n",
       "        }    #T_1e0910bc_1952_11ea_9cdb_c869cd93ed7crow0_col10 {\n",
       "            background-color:  white;\n",
       "        }    #T_1e0910bc_1952_11ea_9cdb_c869cd93ed7crow0_col11 {\n",
       "            background-color:  white;\n",
       "        }    #T_1e0910bc_1952_11ea_9cdb_c869cd93ed7crow0_col12 {\n",
       "            background-color:  white;\n",
       "        }    #T_1e0910bc_1952_11ea_9cdb_c869cd93ed7crow0_col13 {\n",
       "            background-color:  white;\n",
       "        }    #T_1e0910bc_1952_11ea_9cdb_c869cd93ed7crow0_col14 {\n",
       "            background-color:  white;\n",
       "        }    #T_1e0910bc_1952_11ea_9cdb_c869cd93ed7crow0_col15 {\n",
       "            background-color:  white;\n",
       "        }    #T_1e0910bc_1952_11ea_9cdb_c869cd93ed7crow0_col16 {\n",
       "            background-color:  white;\n",
       "        }    #T_1e0910bc_1952_11ea_9cdb_c869cd93ed7crow0_col17 {\n",
       "            background-color:  white;\n",
       "        }    #T_1e0910bc_1952_11ea_9cdb_c869cd93ed7crow0_col18 {\n",
       "            background-color:  white;\n",
       "        }    #T_1e0910bc_1952_11ea_9cdb_c869cd93ed7crow0_col19 {\n",
       "            background-color:  white;\n",
       "        }    #T_1e0910bc_1952_11ea_9cdb_c869cd93ed7crow0_col20 {\n",
       "            background-color:  white;\n",
       "        }    #T_1e0910bc_1952_11ea_9cdb_c869cd93ed7crow0_col21 {\n",
       "            background-color:  white;\n",
       "        }    #T_1e0910bc_1952_11ea_9cdb_c869cd93ed7crow0_col22 {\n",
       "            background-color:  white;\n",
       "        }    #T_1e0910bc_1952_11ea_9cdb_c869cd93ed7crow0_col23 {\n",
       "            background-color:  white;\n",
       "        }    #T_1e0910bc_1952_11ea_9cdb_c869cd93ed7crow0_col24 {\n",
       "            background-color:  white;\n",
       "        }    #T_1e0910bc_1952_11ea_9cdb_c869cd93ed7crow0_col25 {\n",
       "            background-color:  white;\n",
       "        }    #T_1e0910bc_1952_11ea_9cdb_c869cd93ed7crow0_col26 {\n",
       "            background-color:  white;\n",
       "        }    #T_1e0910bc_1952_11ea_9cdb_c869cd93ed7crow0_col27 {\n",
       "            background-color:  white;\n",
       "        }    #T_1e0910bc_1952_11ea_9cdb_c869cd93ed7crow0_col28 {\n",
       "            background-color:  white;\n",
       "        }    #T_1e0910bc_1952_11ea_9cdb_c869cd93ed7crow0_col29 {\n",
       "            background-color:  white;\n",
       "        }    #T_1e0910bc_1952_11ea_9cdb_c869cd93ed7crow0_col30 {\n",
       "            background-color:  white;\n",
       "        }    #T_1e0910bc_1952_11ea_9cdb_c869cd93ed7crow1_col0 {\n",
       "            background-color:  red;\n",
       "        }    #T_1e0910bc_1952_11ea_9cdb_c869cd93ed7crow1_col1 {\n",
       "            background-color:  green;\n",
       "        }    #T_1e0910bc_1952_11ea_9cdb_c869cd93ed7crow1_col2 {\n",
       "            background-color:  red;\n",
       "        }    #T_1e0910bc_1952_11ea_9cdb_c869cd93ed7crow1_col3 {\n",
       "            background-color:  red;\n",
       "        }    #T_1e0910bc_1952_11ea_9cdb_c869cd93ed7crow1_col4 {\n",
       "            background-color:  green;\n",
       "        }    #T_1e0910bc_1952_11ea_9cdb_c869cd93ed7crow1_col5 {\n",
       "            background-color:  green;\n",
       "        }    #T_1e0910bc_1952_11ea_9cdb_c869cd93ed7crow1_col6 {\n",
       "            background-color:  green;\n",
       "        }    #T_1e0910bc_1952_11ea_9cdb_c869cd93ed7crow1_col7 {\n",
       "            background-color:  green;\n",
       "        }    #T_1e0910bc_1952_11ea_9cdb_c869cd93ed7crow1_col8 {\n",
       "            background-color:  green;\n",
       "        }    #T_1e0910bc_1952_11ea_9cdb_c869cd93ed7crow1_col9 {\n",
       "            background-color:  green;\n",
       "        }    #T_1e0910bc_1952_11ea_9cdb_c869cd93ed7crow1_col10 {\n",
       "            background-color:  red;\n",
       "        }    #T_1e0910bc_1952_11ea_9cdb_c869cd93ed7crow1_col11 {\n",
       "            background-color:  green;\n",
       "        }    #T_1e0910bc_1952_11ea_9cdb_c869cd93ed7crow1_col12 {\n",
       "            background-color:  green;\n",
       "        }    #T_1e0910bc_1952_11ea_9cdb_c869cd93ed7crow1_col13 {\n",
       "            background-color:  green;\n",
       "        }    #T_1e0910bc_1952_11ea_9cdb_c869cd93ed7crow1_col14 {\n",
       "            background-color:  green;\n",
       "        }    #T_1e0910bc_1952_11ea_9cdb_c869cd93ed7crow1_col15 {\n",
       "            background-color:  red;\n",
       "        }    #T_1e0910bc_1952_11ea_9cdb_c869cd93ed7crow1_col16 {\n",
       "            background-color:  green;\n",
       "        }    #T_1e0910bc_1952_11ea_9cdb_c869cd93ed7crow1_col17 {\n",
       "            background-color:  green;\n",
       "        }    #T_1e0910bc_1952_11ea_9cdb_c869cd93ed7crow1_col18 {\n",
       "            background-color:  white;\n",
       "        }    #T_1e0910bc_1952_11ea_9cdb_c869cd93ed7crow1_col19 {\n",
       "            background-color:  red;\n",
       "        }    #T_1e0910bc_1952_11ea_9cdb_c869cd93ed7crow1_col20 {\n",
       "            background-color:  green;\n",
       "        }    #T_1e0910bc_1952_11ea_9cdb_c869cd93ed7crow1_col21 {\n",
       "            background-color:  white;\n",
       "        }    #T_1e0910bc_1952_11ea_9cdb_c869cd93ed7crow1_col22 {\n",
       "            background-color:  white;\n",
       "        }    #T_1e0910bc_1952_11ea_9cdb_c869cd93ed7crow1_col23 {\n",
       "            background-color:  green;\n",
       "        }    #T_1e0910bc_1952_11ea_9cdb_c869cd93ed7crow1_col24 {\n",
       "            background-color:  green;\n",
       "        }    #T_1e0910bc_1952_11ea_9cdb_c869cd93ed7crow1_col25 {\n",
       "            background-color:  green;\n",
       "        }    #T_1e0910bc_1952_11ea_9cdb_c869cd93ed7crow1_col26 {\n",
       "            background-color:  green;\n",
       "        }    #T_1e0910bc_1952_11ea_9cdb_c869cd93ed7crow1_col27 {\n",
       "            background-color:  red;\n",
       "        }    #T_1e0910bc_1952_11ea_9cdb_c869cd93ed7crow1_col28 {\n",
       "            background-color:  green;\n",
       "        }    #T_1e0910bc_1952_11ea_9cdb_c869cd93ed7crow1_col29 {\n",
       "            background-color:  white;\n",
       "        }    #T_1e0910bc_1952_11ea_9cdb_c869cd93ed7crow1_col30 {\n",
       "            background-color:  green;\n",
       "        }    #T_1e0910bc_1952_11ea_9cdb_c869cd93ed7crow2_col0 {\n",
       "            background-color:  red;\n",
       "        }    #T_1e0910bc_1952_11ea_9cdb_c869cd93ed7crow2_col1 {\n",
       "            background-color:  green;\n",
       "        }    #T_1e0910bc_1952_11ea_9cdb_c869cd93ed7crow2_col2 {\n",
       "            background-color:  red;\n",
       "        }    #T_1e0910bc_1952_11ea_9cdb_c869cd93ed7crow2_col3 {\n",
       "            background-color:  red;\n",
       "        }    #T_1e0910bc_1952_11ea_9cdb_c869cd93ed7crow2_col4 {\n",
       "            background-color:  green;\n",
       "        }    #T_1e0910bc_1952_11ea_9cdb_c869cd93ed7crow2_col5 {\n",
       "            background-color:  red;\n",
       "        }    #T_1e0910bc_1952_11ea_9cdb_c869cd93ed7crow2_col6 {\n",
       "            background-color:  green;\n",
       "        }    #T_1e0910bc_1952_11ea_9cdb_c869cd93ed7crow2_col7 {\n",
       "            background-color:  green;\n",
       "        }    #T_1e0910bc_1952_11ea_9cdb_c869cd93ed7crow2_col8 {\n",
       "            background-color:  green;\n",
       "        }    #T_1e0910bc_1952_11ea_9cdb_c869cd93ed7crow2_col9 {\n",
       "            background-color:  green;\n",
       "        }    #T_1e0910bc_1952_11ea_9cdb_c869cd93ed7crow2_col10 {\n",
       "            background-color:  green;\n",
       "        }    #T_1e0910bc_1952_11ea_9cdb_c869cd93ed7crow2_col11 {\n",
       "            background-color:  green;\n",
       "        }    #T_1e0910bc_1952_11ea_9cdb_c869cd93ed7crow2_col12 {\n",
       "            background-color:  green;\n",
       "        }    #T_1e0910bc_1952_11ea_9cdb_c869cd93ed7crow2_col13 {\n",
       "            background-color:  green;\n",
       "        }    #T_1e0910bc_1952_11ea_9cdb_c869cd93ed7crow2_col14 {\n",
       "            background-color:  green;\n",
       "        }    #T_1e0910bc_1952_11ea_9cdb_c869cd93ed7crow2_col15 {\n",
       "            background-color:  green;\n",
       "        }    #T_1e0910bc_1952_11ea_9cdb_c869cd93ed7crow2_col16 {\n",
       "            background-color:  green;\n",
       "        }    #T_1e0910bc_1952_11ea_9cdb_c869cd93ed7crow2_col17 {\n",
       "            background-color:  green;\n",
       "        }    #T_1e0910bc_1952_11ea_9cdb_c869cd93ed7crow2_col18 {\n",
       "            background-color:  green;\n",
       "        }    #T_1e0910bc_1952_11ea_9cdb_c869cd93ed7crow2_col19 {\n",
       "            background-color:  red;\n",
       "        }    #T_1e0910bc_1952_11ea_9cdb_c869cd93ed7crow2_col20 {\n",
       "            background-color:  green;\n",
       "        }    #T_1e0910bc_1952_11ea_9cdb_c869cd93ed7crow2_col21 {\n",
       "            background-color:  green;\n",
       "        }    #T_1e0910bc_1952_11ea_9cdb_c869cd93ed7crow2_col22 {\n",
       "            background-color:  green;\n",
       "        }    #T_1e0910bc_1952_11ea_9cdb_c869cd93ed7crow2_col23 {\n",
       "            background-color:  green;\n",
       "        }    #T_1e0910bc_1952_11ea_9cdb_c869cd93ed7crow2_col24 {\n",
       "            background-color:  green;\n",
       "        }    #T_1e0910bc_1952_11ea_9cdb_c869cd93ed7crow2_col25 {\n",
       "            background-color:  green;\n",
       "        }    #T_1e0910bc_1952_11ea_9cdb_c869cd93ed7crow2_col26 {\n",
       "            background-color:  green;\n",
       "        }    #T_1e0910bc_1952_11ea_9cdb_c869cd93ed7crow2_col27 {\n",
       "            background-color:  red;\n",
       "        }    #T_1e0910bc_1952_11ea_9cdb_c869cd93ed7crow2_col28 {\n",
       "            background-color:  green;\n",
       "        }    #T_1e0910bc_1952_11ea_9cdb_c869cd93ed7crow2_col29 {\n",
       "            background-color:  white;\n",
       "        }    #T_1e0910bc_1952_11ea_9cdb_c869cd93ed7crow2_col30 {\n",
       "            background-color:  green;\n",
       "        }    #T_1e0910bc_1952_11ea_9cdb_c869cd93ed7crow3_col0 {\n",
       "            background-color:  red;\n",
       "        }    #T_1e0910bc_1952_11ea_9cdb_c869cd93ed7crow3_col1 {\n",
       "            background-color:  red;\n",
       "        }    #T_1e0910bc_1952_11ea_9cdb_c869cd93ed7crow3_col2 {\n",
       "            background-color:  red;\n",
       "        }    #T_1e0910bc_1952_11ea_9cdb_c869cd93ed7crow3_col3 {\n",
       "            background-color:  red;\n",
       "        }    #T_1e0910bc_1952_11ea_9cdb_c869cd93ed7crow3_col4 {\n",
       "            background-color:  green;\n",
       "        }    #T_1e0910bc_1952_11ea_9cdb_c869cd93ed7crow3_col5 {\n",
       "            background-color:  red;\n",
       "        }    #T_1e0910bc_1952_11ea_9cdb_c869cd93ed7crow3_col6 {\n",
       "            background-color:  green;\n",
       "        }    #T_1e0910bc_1952_11ea_9cdb_c869cd93ed7crow3_col7 {\n",
       "            background-color:  green;\n",
       "        }    #T_1e0910bc_1952_11ea_9cdb_c869cd93ed7crow3_col8 {\n",
       "            background-color:  green;\n",
       "        }    #T_1e0910bc_1952_11ea_9cdb_c869cd93ed7crow3_col9 {\n",
       "            background-color:  green;\n",
       "        }    #T_1e0910bc_1952_11ea_9cdb_c869cd93ed7crow3_col10 {\n",
       "            background-color:  green;\n",
       "        }    #T_1e0910bc_1952_11ea_9cdb_c869cd93ed7crow3_col11 {\n",
       "            background-color:  green;\n",
       "        }    #T_1e0910bc_1952_11ea_9cdb_c869cd93ed7crow3_col12 {\n",
       "            background-color:  green;\n",
       "        }    #T_1e0910bc_1952_11ea_9cdb_c869cd93ed7crow3_col13 {\n",
       "            background-color:  green;\n",
       "        }    #T_1e0910bc_1952_11ea_9cdb_c869cd93ed7crow3_col14 {\n",
       "            background-color:  green;\n",
       "        }    #T_1e0910bc_1952_11ea_9cdb_c869cd93ed7crow3_col15 {\n",
       "            background-color:  green;\n",
       "        }    #T_1e0910bc_1952_11ea_9cdb_c869cd93ed7crow3_col16 {\n",
       "            background-color:  green;\n",
       "        }    #T_1e0910bc_1952_11ea_9cdb_c869cd93ed7crow3_col17 {\n",
       "            background-color:  green;\n",
       "        }    #T_1e0910bc_1952_11ea_9cdb_c869cd93ed7crow3_col18 {\n",
       "            background-color:  green;\n",
       "        }    #T_1e0910bc_1952_11ea_9cdb_c869cd93ed7crow3_col19 {\n",
       "            background-color:  green;\n",
       "        }    #T_1e0910bc_1952_11ea_9cdb_c869cd93ed7crow3_col20 {\n",
       "            background-color:  green;\n",
       "        }    #T_1e0910bc_1952_11ea_9cdb_c869cd93ed7crow3_col21 {\n",
       "            background-color:  green;\n",
       "        }    #T_1e0910bc_1952_11ea_9cdb_c869cd93ed7crow3_col22 {\n",
       "            background-color:  green;\n",
       "        }    #T_1e0910bc_1952_11ea_9cdb_c869cd93ed7crow3_col23 {\n",
       "            background-color:  green;\n",
       "        }    #T_1e0910bc_1952_11ea_9cdb_c869cd93ed7crow3_col24 {\n",
       "            background-color:  green;\n",
       "        }    #T_1e0910bc_1952_11ea_9cdb_c869cd93ed7crow3_col25 {\n",
       "            background-color:  green;\n",
       "        }    #T_1e0910bc_1952_11ea_9cdb_c869cd93ed7crow3_col26 {\n",
       "            background-color:  green;\n",
       "        }    #T_1e0910bc_1952_11ea_9cdb_c869cd93ed7crow3_col27 {\n",
       "            background-color:  green;\n",
       "        }    #T_1e0910bc_1952_11ea_9cdb_c869cd93ed7crow3_col28 {\n",
       "            background-color:  green;\n",
       "        }    #T_1e0910bc_1952_11ea_9cdb_c869cd93ed7crow3_col29 {\n",
       "            background-color:  green;\n",
       "        }    #T_1e0910bc_1952_11ea_9cdb_c869cd93ed7crow3_col30 {\n",
       "            background-color:  green;\n",
       "        }    #T_1e0910bc_1952_11ea_9cdb_c869cd93ed7crow4_col0 {\n",
       "            background-color:  green;\n",
       "        }    #T_1e0910bc_1952_11ea_9cdb_c869cd93ed7crow4_col1 {\n",
       "            background-color:  green;\n",
       "        }    #T_1e0910bc_1952_11ea_9cdb_c869cd93ed7crow4_col2 {\n",
       "            background-color:  red;\n",
       "        }    #T_1e0910bc_1952_11ea_9cdb_c869cd93ed7crow4_col3 {\n",
       "            background-color:  red;\n",
       "        }    #T_1e0910bc_1952_11ea_9cdb_c869cd93ed7crow4_col4 {\n",
       "            background-color:  green;\n",
       "        }    #T_1e0910bc_1952_11ea_9cdb_c869cd93ed7crow4_col5 {\n",
       "            background-color:  red;\n",
       "        }    #T_1e0910bc_1952_11ea_9cdb_c869cd93ed7crow4_col6 {\n",
       "            background-color:  green;\n",
       "        }    #T_1e0910bc_1952_11ea_9cdb_c869cd93ed7crow4_col7 {\n",
       "            background-color:  green;\n",
       "        }    #T_1e0910bc_1952_11ea_9cdb_c869cd93ed7crow4_col8 {\n",
       "            background-color:  green;\n",
       "        }    #T_1e0910bc_1952_11ea_9cdb_c869cd93ed7crow4_col9 {\n",
       "            background-color:  green;\n",
       "        }    #T_1e0910bc_1952_11ea_9cdb_c869cd93ed7crow4_col10 {\n",
       "            background-color:  green;\n",
       "        }    #T_1e0910bc_1952_11ea_9cdb_c869cd93ed7crow4_col11 {\n",
       "            background-color:  green;\n",
       "        }    #T_1e0910bc_1952_11ea_9cdb_c869cd93ed7crow4_col12 {\n",
       "            background-color:  green;\n",
       "        }    #T_1e0910bc_1952_11ea_9cdb_c869cd93ed7crow4_col13 {\n",
       "            background-color:  green;\n",
       "        }    #T_1e0910bc_1952_11ea_9cdb_c869cd93ed7crow4_col14 {\n",
       "            background-color:  green;\n",
       "        }    #T_1e0910bc_1952_11ea_9cdb_c869cd93ed7crow4_col15 {\n",
       "            background-color:  red;\n",
       "        }    #T_1e0910bc_1952_11ea_9cdb_c869cd93ed7crow4_col16 {\n",
       "            background-color:  green;\n",
       "        }    #T_1e0910bc_1952_11ea_9cdb_c869cd93ed7crow4_col17 {\n",
       "            background-color:  green;\n",
       "        }    #T_1e0910bc_1952_11ea_9cdb_c869cd93ed7crow4_col18 {\n",
       "            background-color:  green;\n",
       "        }    #T_1e0910bc_1952_11ea_9cdb_c869cd93ed7crow4_col19 {\n",
       "            background-color:  green;\n",
       "        }    #T_1e0910bc_1952_11ea_9cdb_c869cd93ed7crow4_col20 {\n",
       "            background-color:  green;\n",
       "        }    #T_1e0910bc_1952_11ea_9cdb_c869cd93ed7crow4_col21 {\n",
       "            background-color:  green;\n",
       "        }    #T_1e0910bc_1952_11ea_9cdb_c869cd93ed7crow4_col22 {\n",
       "            background-color:  green;\n",
       "        }    #T_1e0910bc_1952_11ea_9cdb_c869cd93ed7crow4_col23 {\n",
       "            background-color:  green;\n",
       "        }    #T_1e0910bc_1952_11ea_9cdb_c869cd93ed7crow4_col24 {\n",
       "            background-color:  green;\n",
       "        }    #T_1e0910bc_1952_11ea_9cdb_c869cd93ed7crow4_col25 {\n",
       "            background-color:  green;\n",
       "        }    #T_1e0910bc_1952_11ea_9cdb_c869cd93ed7crow4_col26 {\n",
       "            background-color:  green;\n",
       "        }    #T_1e0910bc_1952_11ea_9cdb_c869cd93ed7crow4_col27 {\n",
       "            background-color:  red;\n",
       "        }    #T_1e0910bc_1952_11ea_9cdb_c869cd93ed7crow4_col28 {\n",
       "            background-color:  green;\n",
       "        }    #T_1e0910bc_1952_11ea_9cdb_c869cd93ed7crow4_col29 {\n",
       "            background-color:  green;\n",
       "        }    #T_1e0910bc_1952_11ea_9cdb_c869cd93ed7crow4_col30 {\n",
       "            background-color:  green;\n",
       "        }</style><table id=\"T_1e0910bc_1952_11ea_9cdb_c869cd93ed7c\" ><thead>    <tr>        <th class=\"blank level0\" ></th>        <th class=\"col_heading level0 col0\" >0.0</th>        <th class=\"col_heading level0 col1\" >1.0</th>        <th class=\"col_heading level0 col2\" >2.0</th>        <th class=\"col_heading level0 col3\" >3.0</th>        <th class=\"col_heading level0 col4\" >4.0</th>        <th class=\"col_heading level0 col5\" >5.0</th>        <th class=\"col_heading level0 col6\" >6.0</th>        <th class=\"col_heading level0 col7\" >7.0</th>        <th class=\"col_heading level0 col8\" >8.0</th>        <th class=\"col_heading level0 col9\" >9.0</th>        <th class=\"col_heading level0 col10\" >10.0</th>        <th class=\"col_heading level0 col11\" >11.0</th>        <th class=\"col_heading level0 col12\" >12.0</th>        <th class=\"col_heading level0 col13\" >13.0</th>        <th class=\"col_heading level0 col14\" >14.0</th>        <th class=\"col_heading level0 col15\" >15.0</th>        <th class=\"col_heading level0 col16\" >16.0</th>        <th class=\"col_heading level0 col17\" >17.0</th>        <th class=\"col_heading level0 col18\" >18.0</th>        <th class=\"col_heading level0 col19\" >19.0</th>        <th class=\"col_heading level0 col20\" >20.0</th>        <th class=\"col_heading level0 col21\" >21.0</th>        <th class=\"col_heading level0 col22\" >22.0</th>        <th class=\"col_heading level0 col23\" >23.0</th>        <th class=\"col_heading level0 col24\" >24.0</th>        <th class=\"col_heading level0 col25\" >25.0</th>        <th class=\"col_heading level0 col26\" >26.0</th>        <th class=\"col_heading level0 col27\" >27.0</th>        <th class=\"col_heading level0 col28\" >28.0</th>        <th class=\"col_heading level0 col29\" >29.0</th>        <th class=\"col_heading level0 col30\" >30.0</th>    </tr></thead><tbody>\n",
       "                <tr>\n",
       "                        <th id=\"T_1e0910bc_1952_11ea_9cdb_c869cd93ed7clevel0_row0\" class=\"row_heading level0 row0\" >0</th>\n",
       "                        <td id=\"T_1e0910bc_1952_11ea_9cdb_c869cd93ed7crow0_col0\" class=\"data row0 col0\" >nan</td>\n",
       "                        <td id=\"T_1e0910bc_1952_11ea_9cdb_c869cd93ed7crow0_col1\" class=\"data row0 col1\" >nan</td>\n",
       "                        <td id=\"T_1e0910bc_1952_11ea_9cdb_c869cd93ed7crow0_col2\" class=\"data row0 col2\" >nan</td>\n",
       "                        <td id=\"T_1e0910bc_1952_11ea_9cdb_c869cd93ed7crow0_col3\" class=\"data row0 col3\" >nan</td>\n",
       "                        <td id=\"T_1e0910bc_1952_11ea_9cdb_c869cd93ed7crow0_col4\" class=\"data row0 col4\" >nan</td>\n",
       "                        <td id=\"T_1e0910bc_1952_11ea_9cdb_c869cd93ed7crow0_col5\" class=\"data row0 col5\" >nan</td>\n",
       "                        <td id=\"T_1e0910bc_1952_11ea_9cdb_c869cd93ed7crow0_col6\" class=\"data row0 col6\" >nan</td>\n",
       "                        <td id=\"T_1e0910bc_1952_11ea_9cdb_c869cd93ed7crow0_col7\" class=\"data row0 col7\" >nan</td>\n",
       "                        <td id=\"T_1e0910bc_1952_11ea_9cdb_c869cd93ed7crow0_col8\" class=\"data row0 col8\" >nan</td>\n",
       "                        <td id=\"T_1e0910bc_1952_11ea_9cdb_c869cd93ed7crow0_col9\" class=\"data row0 col9\" >nan</td>\n",
       "                        <td id=\"T_1e0910bc_1952_11ea_9cdb_c869cd93ed7crow0_col10\" class=\"data row0 col10\" >nan</td>\n",
       "                        <td id=\"T_1e0910bc_1952_11ea_9cdb_c869cd93ed7crow0_col11\" class=\"data row0 col11\" >nan</td>\n",
       "                        <td id=\"T_1e0910bc_1952_11ea_9cdb_c869cd93ed7crow0_col12\" class=\"data row0 col12\" >nan</td>\n",
       "                        <td id=\"T_1e0910bc_1952_11ea_9cdb_c869cd93ed7crow0_col13\" class=\"data row0 col13\" >nan</td>\n",
       "                        <td id=\"T_1e0910bc_1952_11ea_9cdb_c869cd93ed7crow0_col14\" class=\"data row0 col14\" >nan</td>\n",
       "                        <td id=\"T_1e0910bc_1952_11ea_9cdb_c869cd93ed7crow0_col15\" class=\"data row0 col15\" >nan</td>\n",
       "                        <td id=\"T_1e0910bc_1952_11ea_9cdb_c869cd93ed7crow0_col16\" class=\"data row0 col16\" >nan</td>\n",
       "                        <td id=\"T_1e0910bc_1952_11ea_9cdb_c869cd93ed7crow0_col17\" class=\"data row0 col17\" >nan</td>\n",
       "                        <td id=\"T_1e0910bc_1952_11ea_9cdb_c869cd93ed7crow0_col18\" class=\"data row0 col18\" >nan</td>\n",
       "                        <td id=\"T_1e0910bc_1952_11ea_9cdb_c869cd93ed7crow0_col19\" class=\"data row0 col19\" >nan</td>\n",
       "                        <td id=\"T_1e0910bc_1952_11ea_9cdb_c869cd93ed7crow0_col20\" class=\"data row0 col20\" >nan</td>\n",
       "                        <td id=\"T_1e0910bc_1952_11ea_9cdb_c869cd93ed7crow0_col21\" class=\"data row0 col21\" >nan</td>\n",
       "                        <td id=\"T_1e0910bc_1952_11ea_9cdb_c869cd93ed7crow0_col22\" class=\"data row0 col22\" >nan</td>\n",
       "                        <td id=\"T_1e0910bc_1952_11ea_9cdb_c869cd93ed7crow0_col23\" class=\"data row0 col23\" >nan</td>\n",
       "                        <td id=\"T_1e0910bc_1952_11ea_9cdb_c869cd93ed7crow0_col24\" class=\"data row0 col24\" >nan</td>\n",
       "                        <td id=\"T_1e0910bc_1952_11ea_9cdb_c869cd93ed7crow0_col25\" class=\"data row0 col25\" >nan</td>\n",
       "                        <td id=\"T_1e0910bc_1952_11ea_9cdb_c869cd93ed7crow0_col26\" class=\"data row0 col26\" >nan</td>\n",
       "                        <td id=\"T_1e0910bc_1952_11ea_9cdb_c869cd93ed7crow0_col27\" class=\"data row0 col27\" >nan</td>\n",
       "                        <td id=\"T_1e0910bc_1952_11ea_9cdb_c869cd93ed7crow0_col28\" class=\"data row0 col28\" >nan</td>\n",
       "                        <td id=\"T_1e0910bc_1952_11ea_9cdb_c869cd93ed7crow0_col29\" class=\"data row0 col29\" >nan</td>\n",
       "                        <td id=\"T_1e0910bc_1952_11ea_9cdb_c869cd93ed7crow0_col30\" class=\"data row0 col30\" >nan</td>\n",
       "            </tr>\n",
       "            <tr>\n",
       "                        <th id=\"T_1e0910bc_1952_11ea_9cdb_c869cd93ed7clevel0_row1\" class=\"row_heading level0 row1\" >1</th>\n",
       "                        <td id=\"T_1e0910bc_1952_11ea_9cdb_c869cd93ed7crow1_col0\" class=\"data row1 col0\" >-81.2028</td>\n",
       "                        <td id=\"T_1e0910bc_1952_11ea_9cdb_c869cd93ed7crow1_col1\" class=\"data row1 col1\" >8.80259</td>\n",
       "                        <td id=\"T_1e0910bc_1952_11ea_9cdb_c869cd93ed7crow1_col2\" class=\"data row1 col2\" >-16.3918</td>\n",
       "                        <td id=\"T_1e0910bc_1952_11ea_9cdb_c869cd93ed7crow1_col3\" class=\"data row1 col3\" >-0.750809</td>\n",
       "                        <td id=\"T_1e0910bc_1952_11ea_9cdb_c869cd93ed7crow1_col4\" class=\"data row1 col4\" >25.0198</td>\n",
       "                        <td id=\"T_1e0910bc_1952_11ea_9cdb_c869cd93ed7crow1_col5\" class=\"data row1 col5\" >1.04556</td>\n",
       "                        <td id=\"T_1e0910bc_1952_11ea_9cdb_c869cd93ed7crow1_col6\" class=\"data row1 col6\" >7.03344</td>\n",
       "                        <td id=\"T_1e0910bc_1952_11ea_9cdb_c869cd93ed7crow1_col7\" class=\"data row1 col7\" >83.5491</td>\n",
       "                        <td id=\"T_1e0910bc_1952_11ea_9cdb_c869cd93ed7crow1_col8\" class=\"data row1 col8\" >28.2632</td>\n",
       "                        <td id=\"T_1e0910bc_1952_11ea_9cdb_c869cd93ed7crow1_col9\" class=\"data row1 col9\" >125.566</td>\n",
       "                        <td id=\"T_1e0910bc_1952_11ea_9cdb_c869cd93ed7crow1_col10\" class=\"data row1 col10\" >-0.485437</td>\n",
       "                        <td id=\"T_1e0910bc_1952_11ea_9cdb_c869cd93ed7crow1_col11\" class=\"data row1 col11\" >132.201</td>\n",
       "                        <td id=\"T_1e0910bc_1952_11ea_9cdb_c869cd93ed7crow1_col12\" class=\"data row1 col12\" >26.0518</td>\n",
       "                        <td id=\"T_1e0910bc_1952_11ea_9cdb_c869cd93ed7crow1_col13\" class=\"data row1 col13\" >85.7605</td>\n",
       "                        <td id=\"T_1e0910bc_1952_11ea_9cdb_c869cd93ed7crow1_col14\" class=\"data row1 col14\" >inf</td>\n",
       "                        <td id=\"T_1e0910bc_1952_11ea_9cdb_c869cd93ed7crow1_col15\" class=\"data row1 col15\" >-53.5599</td>\n",
       "                        <td id=\"T_1e0910bc_1952_11ea_9cdb_c869cd93ed7crow1_col16\" class=\"data row1 col16\" >inf</td>\n",
       "                        <td id=\"T_1e0910bc_1952_11ea_9cdb_c869cd93ed7crow1_col17\" class=\"data row1 col17\" >inf</td>\n",
       "                        <td id=\"T_1e0910bc_1952_11ea_9cdb_c869cd93ed7crow1_col18\" class=\"data row1 col18\" >nan</td>\n",
       "                        <td id=\"T_1e0910bc_1952_11ea_9cdb_c869cd93ed7crow1_col19\" class=\"data row1 col19\" >-73.4628</td>\n",
       "                        <td id=\"T_1e0910bc_1952_11ea_9cdb_c869cd93ed7crow1_col20\" class=\"data row1 col20\" >inf</td>\n",
       "                        <td id=\"T_1e0910bc_1952_11ea_9cdb_c869cd93ed7crow1_col21\" class=\"data row1 col21\" >nan</td>\n",
       "                        <td id=\"T_1e0910bc_1952_11ea_9cdb_c869cd93ed7crow1_col22\" class=\"data row1 col22\" >nan</td>\n",
       "                        <td id=\"T_1e0910bc_1952_11ea_9cdb_c869cd93ed7crow1_col23\" class=\"data row1 col23\" >inf</td>\n",
       "                        <td id=\"T_1e0910bc_1952_11ea_9cdb_c869cd93ed7crow1_col24\" class=\"data row1 col24\" >inf</td>\n",
       "                        <td id=\"T_1e0910bc_1952_11ea_9cdb_c869cd93ed7crow1_col25\" class=\"data row1 col25\" >inf</td>\n",
       "                        <td id=\"T_1e0910bc_1952_11ea_9cdb_c869cd93ed7crow1_col26\" class=\"data row1 col26\" >inf</td>\n",
       "                        <td id=\"T_1e0910bc_1952_11ea_9cdb_c869cd93ed7crow1_col27\" class=\"data row1 col27\" >-86.7314</td>\n",
       "                        <td id=\"T_1e0910bc_1952_11ea_9cdb_c869cd93ed7crow1_col28\" class=\"data row1 col28\" >inf</td>\n",
       "                        <td id=\"T_1e0910bc_1952_11ea_9cdb_c869cd93ed7crow1_col29\" class=\"data row1 col29\" >nan</td>\n",
       "                        <td id=\"T_1e0910bc_1952_11ea_9cdb_c869cd93ed7crow1_col30\" class=\"data row1 col30\" >inf</td>\n",
       "            </tr>\n",
       "            <tr>\n",
       "                        <th id=\"T_1e0910bc_1952_11ea_9cdb_c869cd93ed7clevel0_row2\" class=\"row_heading level0 row2\" >2</th>\n",
       "                        <td id=\"T_1e0910bc_1952_11ea_9cdb_c869cd93ed7crow2_col0\" class=\"data row2 col0\" >-100.158</td>\n",
       "                        <td id=\"T_1e0910bc_1952_11ea_9cdb_c869cd93ed7crow2_col1\" class=\"data row2 col1\" >6.25361</td>\n",
       "                        <td id=\"T_1e0910bc_1952_11ea_9cdb_c869cd93ed7crow2_col2\" class=\"data row2 col2\" >-19.0678</td>\n",
       "                        <td id=\"T_1e0910bc_1952_11ea_9cdb_c869cd93ed7crow2_col3\" class=\"data row2 col3\" >-9.88278</td>\n",
       "                        <td id=\"T_1e0910bc_1952_11ea_9cdb_c869cd93ed7crow2_col4\" class=\"data row2 col4\" >18.892</td>\n",
       "                        <td id=\"T_1e0910bc_1952_11ea_9cdb_c869cd93ed7crow2_col5\" class=\"data row2 col5\" >-4.78461</td>\n",
       "                        <td id=\"T_1e0910bc_1952_11ea_9cdb_c869cd93ed7crow2_col6\" class=\"data row2 col6\" >17.1021</td>\n",
       "                        <td id=\"T_1e0910bc_1952_11ea_9cdb_c869cd93ed7crow2_col7\" class=\"data row2 col7\" >122.8</td>\n",
       "                        <td id=\"T_1e0910bc_1952_11ea_9cdb_c869cd93ed7crow2_col8\" class=\"data row2 col8\" >50.9943</td>\n",
       "                        <td id=\"T_1e0910bc_1952_11ea_9cdb_c869cd93ed7crow2_col9\" class=\"data row2 col9\" >196.66</td>\n",
       "                        <td id=\"T_1e0910bc_1952_11ea_9cdb_c869cd93ed7crow2_col10\" class=\"data row2 col10\" >32.1873</td>\n",
       "                        <td id=\"T_1e0910bc_1952_11ea_9cdb_c869cd93ed7crow2_col11\" class=\"data row2 col11\" >159.042</td>\n",
       "                        <td id=\"T_1e0910bc_1952_11ea_9cdb_c869cd93ed7crow2_col12\" class=\"data row2 col12\" >30.7934</td>\n",
       "                        <td id=\"T_1e0910bc_1952_11ea_9cdb_c869cd93ed7crow2_col13\" class=\"data row2 col13\" >116.975</td>\n",
       "                        <td id=\"T_1e0910bc_1952_11ea_9cdb_c869cd93ed7crow2_col14\" class=\"data row2 col14\" >inf</td>\n",
       "                        <td id=\"T_1e0910bc_1952_11ea_9cdb_c869cd93ed7crow2_col15\" class=\"data row2 col15\" >10.4587</td>\n",
       "                        <td id=\"T_1e0910bc_1952_11ea_9cdb_c869cd93ed7crow2_col16\" class=\"data row2 col16\" >inf</td>\n",
       "                        <td id=\"T_1e0910bc_1952_11ea_9cdb_c869cd93ed7crow2_col17\" class=\"data row2 col17\" >inf</td>\n",
       "                        <td id=\"T_1e0910bc_1952_11ea_9cdb_c869cd93ed7crow2_col18\" class=\"data row2 col18\" >inf</td>\n",
       "                        <td id=\"T_1e0910bc_1952_11ea_9cdb_c869cd93ed7crow2_col19\" class=\"data row2 col19\" >-135.192</td>\n",
       "                        <td id=\"T_1e0910bc_1952_11ea_9cdb_c869cd93ed7crow2_col20\" class=\"data row2 col20\" >inf</td>\n",
       "                        <td id=\"T_1e0910bc_1952_11ea_9cdb_c869cd93ed7crow2_col21\" class=\"data row2 col21\" >inf</td>\n",
       "                        <td id=\"T_1e0910bc_1952_11ea_9cdb_c869cd93ed7crow2_col22\" class=\"data row2 col22\" >inf</td>\n",
       "                        <td id=\"T_1e0910bc_1952_11ea_9cdb_c869cd93ed7crow2_col23\" class=\"data row2 col23\" >inf</td>\n",
       "                        <td id=\"T_1e0910bc_1952_11ea_9cdb_c869cd93ed7crow2_col24\" class=\"data row2 col24\" >inf</td>\n",
       "                        <td id=\"T_1e0910bc_1952_11ea_9cdb_c869cd93ed7crow2_col25\" class=\"data row2 col25\" >inf</td>\n",
       "                        <td id=\"T_1e0910bc_1952_11ea_9cdb_c869cd93ed7crow2_col26\" class=\"data row2 col26\" >inf</td>\n",
       "                        <td id=\"T_1e0910bc_1952_11ea_9cdb_c869cd93ed7crow2_col27\" class=\"data row2 col27\" >-110.189</td>\n",
       "                        <td id=\"T_1e0910bc_1952_11ea_9cdb_c869cd93ed7crow2_col28\" class=\"data row2 col28\" >inf</td>\n",
       "                        <td id=\"T_1e0910bc_1952_11ea_9cdb_c869cd93ed7crow2_col29\" class=\"data row2 col29\" >nan</td>\n",
       "                        <td id=\"T_1e0910bc_1952_11ea_9cdb_c869cd93ed7crow2_col30\" class=\"data row2 col30\" >inf</td>\n",
       "            </tr>\n",
       "            <tr>\n",
       "                        <th id=\"T_1e0910bc_1952_11ea_9cdb_c869cd93ed7clevel0_row3\" class=\"row_heading level0 row3\" >3</th>\n",
       "                        <td id=\"T_1e0910bc_1952_11ea_9cdb_c869cd93ed7crow3_col0\" class=\"data row3 col0\" >-83.1678</td>\n",
       "                        <td id=\"T_1e0910bc_1952_11ea_9cdb_c869cd93ed7crow3_col1\" class=\"data row3 col1\" >-0.0906681</td>\n",
       "                        <td id=\"T_1e0910bc_1952_11ea_9cdb_c869cd93ed7crow3_col2\" class=\"data row3 col2\" >-26.6758</td>\n",
       "                        <td id=\"T_1e0910bc_1952_11ea_9cdb_c869cd93ed7crow3_col3\" class=\"data row3 col3\" >-19.3034</td>\n",
       "                        <td id=\"T_1e0910bc_1952_11ea_9cdb_c869cd93ed7crow3_col4\" class=\"data row3 col4\" >14.6549</td>\n",
       "                        <td id=\"T_1e0910bc_1952_11ea_9cdb_c869cd93ed7crow3_col5\" class=\"data row3 col5\" >-16.7112</td>\n",
       "                        <td id=\"T_1e0910bc_1952_11ea_9cdb_c869cd93ed7crow3_col6\" class=\"data row3 col6\" >42.3983</td>\n",
       "                        <td id=\"T_1e0910bc_1952_11ea_9cdb_c869cd93ed7crow3_col7\" class=\"data row3 col7\" >127.805</td>\n",
       "                        <td id=\"T_1e0910bc_1952_11ea_9cdb_c869cd93ed7crow3_col8\" class=\"data row3 col8\" >82.8584</td>\n",
       "                        <td id=\"T_1e0910bc_1952_11ea_9cdb_c869cd93ed7crow3_col9\" class=\"data row3 col9\" >238.461</td>\n",
       "                        <td id=\"T_1e0910bc_1952_11ea_9cdb_c869cd93ed7crow3_col10\" class=\"data row3 col10\" >91.7921</td>\n",
       "                        <td id=\"T_1e0910bc_1952_11ea_9cdb_c869cd93ed7crow3_col11\" class=\"data row3 col11\" >174.371</td>\n",
       "                        <td id=\"T_1e0910bc_1952_11ea_9cdb_c869cd93ed7crow3_col12\" class=\"data row3 col12\" >97.5447</td>\n",
       "                        <td id=\"T_1e0910bc_1952_11ea_9cdb_c869cd93ed7crow3_col13\" class=\"data row3 col13\" >187.3</td>\n",
       "                        <td id=\"T_1e0910bc_1952_11ea_9cdb_c869cd93ed7crow3_col14\" class=\"data row3 col14\" >inf</td>\n",
       "                        <td id=\"T_1e0910bc_1952_11ea_9cdb_c869cd93ed7crow3_col15\" class=\"data row3 col15\" >42.5892</td>\n",
       "                        <td id=\"T_1e0910bc_1952_11ea_9cdb_c869cd93ed7crow3_col16\" class=\"data row3 col16\" >inf</td>\n",
       "                        <td id=\"T_1e0910bc_1952_11ea_9cdb_c869cd93ed7crow3_col17\" class=\"data row3 col17\" >inf</td>\n",
       "                        <td id=\"T_1e0910bc_1952_11ea_9cdb_c869cd93ed7crow3_col18\" class=\"data row3 col18\" >inf</td>\n",
       "                        <td id=\"T_1e0910bc_1952_11ea_9cdb_c869cd93ed7crow3_col19\" class=\"data row3 col19\" >322.234</td>\n",
       "                        <td id=\"T_1e0910bc_1952_11ea_9cdb_c869cd93ed7crow3_col20\" class=\"data row3 col20\" >inf</td>\n",
       "                        <td id=\"T_1e0910bc_1952_11ea_9cdb_c869cd93ed7crow3_col21\" class=\"data row3 col21\" >inf</td>\n",
       "                        <td id=\"T_1e0910bc_1952_11ea_9cdb_c869cd93ed7crow3_col22\" class=\"data row3 col22\" >inf</td>\n",
       "                        <td id=\"T_1e0910bc_1952_11ea_9cdb_c869cd93ed7crow3_col23\" class=\"data row3 col23\" >inf</td>\n",
       "                        <td id=\"T_1e0910bc_1952_11ea_9cdb_c869cd93ed7crow3_col24\" class=\"data row3 col24\" >inf</td>\n",
       "                        <td id=\"T_1e0910bc_1952_11ea_9cdb_c869cd93ed7crow3_col25\" class=\"data row3 col25\" >inf</td>\n",
       "                        <td id=\"T_1e0910bc_1952_11ea_9cdb_c869cd93ed7crow3_col26\" class=\"data row3 col26\" >inf</td>\n",
       "                        <td id=\"T_1e0910bc_1952_11ea_9cdb_c869cd93ed7crow3_col27\" class=\"data row3 col27\" >37.5553</td>\n",
       "                        <td id=\"T_1e0910bc_1952_11ea_9cdb_c869cd93ed7crow3_col28\" class=\"data row3 col28\" >inf</td>\n",
       "                        <td id=\"T_1e0910bc_1952_11ea_9cdb_c869cd93ed7crow3_col29\" class=\"data row3 col29\" >inf</td>\n",
       "                        <td id=\"T_1e0910bc_1952_11ea_9cdb_c869cd93ed7crow3_col30\" class=\"data row3 col30\" >inf</td>\n",
       "            </tr>\n",
       "            <tr>\n",
       "                        <th id=\"T_1e0910bc_1952_11ea_9cdb_c869cd93ed7clevel0_row4\" class=\"row_heading level0 row4\" >4</th>\n",
       "                        <td id=\"T_1e0910bc_1952_11ea_9cdb_c869cd93ed7crow4_col0\" class=\"data row4 col0\" >303.291</td>\n",
       "                        <td id=\"T_1e0910bc_1952_11ea_9cdb_c869cd93ed7crow4_col1\" class=\"data row4 col1\" >32.3877</td>\n",
       "                        <td id=\"T_1e0910bc_1952_11ea_9cdb_c869cd93ed7crow4_col2\" class=\"data row4 col2\" >-9.1039</td>\n",
       "                        <td id=\"T_1e0910bc_1952_11ea_9cdb_c869cd93ed7crow4_col3\" class=\"data row4 col3\" >-4.18269</td>\n",
       "                        <td id=\"T_1e0910bc_1952_11ea_9cdb_c869cd93ed7crow4_col4\" class=\"data row4 col4\" >9.30375</td>\n",
       "                        <td id=\"T_1e0910bc_1952_11ea_9cdb_c869cd93ed7crow4_col5\" class=\"data row4 col5\" >-18.9753</td>\n",
       "                        <td id=\"T_1e0910bc_1952_11ea_9cdb_c869cd93ed7crow4_col6\" class=\"data row4 col6\" >1.95988</td>\n",
       "                        <td id=\"T_1e0910bc_1952_11ea_9cdb_c869cd93ed7crow4_col7\" class=\"data row4 col7\" >66.6299</td>\n",
       "                        <td id=\"T_1e0910bc_1952_11ea_9cdb_c869cd93ed7crow4_col8\" class=\"data row4 col8\" >28.3508</td>\n",
       "                        <td id=\"T_1e0910bc_1952_11ea_9cdb_c869cd93ed7crow4_col9\" class=\"data row4 col9\" >167.023</td>\n",
       "                        <td id=\"T_1e0910bc_1952_11ea_9cdb_c869cd93ed7crow4_col10\" class=\"data row4 col10\" >34.6738</td>\n",
       "                        <td id=\"T_1e0910bc_1952_11ea_9cdb_c869cd93ed7crow4_col11\" class=\"data row4 col11\" >124.7</td>\n",
       "                        <td id=\"T_1e0910bc_1952_11ea_9cdb_c869cd93ed7crow4_col12\" class=\"data row4 col12\" >30.8236</td>\n",
       "                        <td id=\"T_1e0910bc_1952_11ea_9cdb_c869cd93ed7crow4_col13\" class=\"data row4 col13\" >120.243</td>\n",
       "                        <td id=\"T_1e0910bc_1952_11ea_9cdb_c869cd93ed7crow4_col14\" class=\"data row4 col14\" >inf</td>\n",
       "                        <td id=\"T_1e0910bc_1952_11ea_9cdb_c869cd93ed7crow4_col15\" class=\"data row4 col15\" >-8.87913</td>\n",
       "                        <td id=\"T_1e0910bc_1952_11ea_9cdb_c869cd93ed7crow4_col16\" class=\"data row4 col16\" >inf</td>\n",
       "                        <td id=\"T_1e0910bc_1952_11ea_9cdb_c869cd93ed7crow4_col17\" class=\"data row4 col17\" >inf</td>\n",
       "                        <td id=\"T_1e0910bc_1952_11ea_9cdb_c869cd93ed7crow4_col18\" class=\"data row4 col18\" >inf</td>\n",
       "                        <td id=\"T_1e0910bc_1952_11ea_9cdb_c869cd93ed7crow4_col19\" class=\"data row4 col19\" >248.117</td>\n",
       "                        <td id=\"T_1e0910bc_1952_11ea_9cdb_c869cd93ed7crow4_col20\" class=\"data row4 col20\" >inf</td>\n",
       "                        <td id=\"T_1e0910bc_1952_11ea_9cdb_c869cd93ed7crow4_col21\" class=\"data row4 col21\" >inf</td>\n",
       "                        <td id=\"T_1e0910bc_1952_11ea_9cdb_c869cd93ed7crow4_col22\" class=\"data row4 col22\" >inf</td>\n",
       "                        <td id=\"T_1e0910bc_1952_11ea_9cdb_c869cd93ed7crow4_col23\" class=\"data row4 col23\" >inf</td>\n",
       "                        <td id=\"T_1e0910bc_1952_11ea_9cdb_c869cd93ed7crow4_col24\" class=\"data row4 col24\" >inf</td>\n",
       "                        <td id=\"T_1e0910bc_1952_11ea_9cdb_c869cd93ed7crow4_col25\" class=\"data row4 col25\" >inf</td>\n",
       "                        <td id=\"T_1e0910bc_1952_11ea_9cdb_c869cd93ed7crow4_col26\" class=\"data row4 col26\" >inf</td>\n",
       "                        <td id=\"T_1e0910bc_1952_11ea_9cdb_c869cd93ed7crow4_col27\" class=\"data row4 col27\" >-23.6193</td>\n",
       "                        <td id=\"T_1e0910bc_1952_11ea_9cdb_c869cd93ed7crow4_col28\" class=\"data row4 col28\" >inf</td>\n",
       "                        <td id=\"T_1e0910bc_1952_11ea_9cdb_c869cd93ed7crow4_col29\" class=\"data row4 col29\" >inf</td>\n",
       "                        <td id=\"T_1e0910bc_1952_11ea_9cdb_c869cd93ed7crow4_col30\" class=\"data row4 col30\" >inf</td>\n",
       "            </tr>\n",
       "    </tbody></table>"
      ],
      "text/plain": [
       "<pandas.io.formats.style.Styler at 0x1a373b7410>"
      ]
     },
     "metadata": {},
     "output_type": "display_data"
    },
    {
     "data": {
      "image/png": "[encoded data removed]",
      "text/plain": [
       "<Figure size 720x504 with 1 Axes>"
      ]
     },
     "metadata": {},
     "output_type": "display_data"
    }
   ],
   "source": [
    "pht = cat_distr_pairwise('AdoptionSpeed','PhotoAmt', df, frel=True)"
   ]
  },
  {
   "cell_type": "markdown",
   "metadata": {},
   "source": [
    "### Description\n",
    "\n",
    "In order to extract some meaning from the 'Description', we decided, as a first approach, to partition this continuous feature into discrete values.\n",
    "\n",
    "Since empty descriptions (size=0) probably have a direct influence in the adoption choice, it should be a category of its own. For that reason, we exclude empty descriptions from the discretization procces.\n",
    "\n",
    "We consider that the discretization of the 'description sizes' based on the quantiles strategy is appropriate, since it is plausible to say that the ad writers define what a 'medium' size description is. In that sense, a 'medium' sized description would have the average word count. In analogy, the smallest and largest descriptions would correspond to the first and third quantiles."
   ]
  },
  {
   "cell_type": "code",
   "execution_count": 715,
   "metadata": {},
   "outputs": [
    {
     "name": "stdout",
     "output_type": "stream",
     "text": [
      "The average descripton size: 62.953645034349364\n",
      "According to this discretization, the bin edges should be:\n",
      "[array([   0.,   28.,   65., 1257.])]\n"
     ]
    },
    {
     "data": {
      "image/png": "[encoded data removed]",
      "text/plain": [
       "<Figure size 1080x360 with 1 Axes>"
      ]
     },
     "metadata": {},
     "output_type": "display_data"
    }
   ],
   "source": [
    "import matplotlib.pyplot as plt\n",
    "import math\n",
    "from sklearn import preprocessing\n",
    "import statistics \n",
    "\n",
    "l=[]\n",
    "\n",
    "# List descriptions' lengths (i.e. number of char)\n",
    "for i in df['Description']:\n",
    "    if type(i)!=str: # Some empty descriptions are type:float\n",
    "        l.append(0)\n",
    "    else:\n",
    "        l.append(len(i.split()))\n",
    "\n",
    "mean = statistics.mean(l)\n",
    "print(\"The average descripton size:\" , mean)\n",
    "\n",
    "# Histogram\n",
    "a1 = np.asarray(l)\n",
    "nr_bins = 1 + 3.322*math.log(len(l),2) # Number of bins according to Sturges rule\n",
    "a1 = pd.Series(a1)\n",
    "a1.plot.hist(grid=True, bins = round(nr_bins), rwidth=0.9, color='#607c8e')\n",
    "plt.title('Description size distribution')\n",
    "plt.xlabel('Description size (# words)')\n",
    "plt.ylabel('Counts')\n",
    "plt.grid(axis='y', alpha=0.75)\n",
    "plt.xlim([0.0,1300])\n",
    "\n",
    "# Discretization by quantile strategy:\n",
    "a2 = np.asarray(l).reshape(-1,1) # Reshape data since we are working with just one feature\n",
    "est = preprocessing.KBinsDiscretizer(n_bins=[3],encode='ordinal', strategy='quantile').fit(a2)\n",
    "decp = est.transform(a2)\n",
    "\n",
    "print(\"According to this discretization, the bin edges should be:\")\n",
    "print(est.bin_edges_) # how the data is distributed in the four bins"
   ]
  },
  {
   "cell_type": "markdown",
   "metadata": {},
   "source": [
    "Based on these results, we present a new feature 'DescriptionSize' whose possible values include:\n",
    "* 'Empty' for descriptions containing 0 words => 0\n",
    "* 'Small' for descriptions containing 1-28 words => 1\n",
    "* 'Medium' for descriptions containing 29-65 words => 2\n",
    "* 'Large' for descriptions containing 66-1257 words => 3"
   ]
  },
  {
   "cell_type": "code",
   "execution_count": 60,
   "metadata": {},
   "outputs": [],
   "source": [
    "#Create new feature 'Description size'\n",
    "d = []\n",
    "\n",
    "for i in df['Description']:\n",
    "    if type(i)!=str: # Some empty descriptions are type:float\n",
    "        d.append(0)\n",
    "    else:\n",
    "        a= len(i.split())\n",
    "        if a<29:\n",
    "            d.append(1)\n",
    "        elif a<66:\n",
    "            d.append(2)\n",
    "        else:\n",
    "            d.append(3)\n",
    "         \n",
    "df_processed1.drop(\"Description\", axis=1)\n",
    "df_processed1.insert(6,\"DescriptionSize\",l) ##INSERT IN DATAFRAME\n",
    "\n",
    "df_processed2.drop(\"Description\", axis=1)\n",
    "df_processed2.insert(6,\"DescriptionSize\",d) ##INSERT IN DATAFRAME"
   ]
  },
  {
   "cell_type": "markdown",
   "metadata": {},
   "source": [
    "### Other conclusions\n",
    "* Pets with maturity size 'Small' (1) and 'Extra Large'(4) are less likely to be in the adoption centre for a very long time (-45.0552% and -97.3772 of pets at AdoptionSpeed=4 relatively to AdoptionSpeed=1, respectively). \n",
    "* Pets with long fur(3) very rarely stay at the adoption centre for a long time (-116.814% of pets at AdoptionSpeed=4 relatively to AdoptionSpeed=1).\n",
    "* Sterilized pets tend to be adopted later (+82.13% of pets at AdoptionSpeed=4 relatively to AdoptionSpeed=1).\n",
    "* Pets with serious injuries (Health=3) are very more likely to be adopted after a long time, or not adopted at all (+182.091% of pets at AdoptionSpeed=4 relatively to AdoptionSpeed=1). \n",
    "* No pets were adopted in the same day having the add not provide a description!\n",
    "* There was no clear evidence that the distribution of the features values among AdoptionSpeed classes was biased for features Gender, Vaccinated, Dewormed, States, FrequentRescuer."
   ]
  },
  {
   "cell_type": "markdown",
   "metadata": {},
   "source": [
    "## Task 1 (Supervised Learning) - Predicting Adoption and Adoption Speed"
   ]
  },
  {
   "cell_type": "markdown",
   "metadata": {},
   "source": [
    "## 1.1. Preprocessing Data for Classification"
   ]
  },
  {
   "cell_type": "markdown",
   "metadata": {},
   "source": [
    "During our EDA we already preprocessed some of the features, for data visualization purposes. The result are two datasets:\n",
    "* **df_processed1**: which we will use to benchmark the models' performance without the discretization of features discussed earlier, since they can remove the fine grain information that might be beneficial to the learning proccess. Some data cleaning was done, namely in features PetID, Name, RescuerID and DescriptionSize (in words, instead of text Description).\n",
    "\n",
    "* **df_processed2**: which is the data set with the derived features and data cleaning. We will see if the dicretization will be helpful for the models or not."
   ]
  },
  {
   "cell_type": "markdown",
   "metadata": {},
   "source": [
    "### Data imbalancement\n",
    "XXXXXX\n",
    "-- use df_processed2 for this. df_processed1 is just for benchmarking."
   ]
  },
  {
   "cell_type": "markdown",
   "metadata": {},
   "source": [
    "## 1.2. Learning Classifiers"
   ]
  },
  {
   "cell_type": "markdown",
   "metadata": {},
   "source": [
    "#### ENCODING"
   ]
  },
  {
   "cell_type": "markdown",
   "metadata": {},
   "source": [
    "Although most of the features are represented by numerical features they have a categorical meaning. Therefore and encoding was made for the following features:"
   ]
  },
  {
   "cell_type": "code",
   "execution_count": null,
   "metadata": {},
   "outputs": [],
   "source": [
    "# ENCODING THE FOLLOWING FEATURES\n",
    "## TYPE, GENDER, MaturitySize,FurLength,Vaccinated,Dewormed,Sterilized,Health,State\n",
    "encoder = OneHotEncoder()\n",
    "df_encoded = encoder.fit_transform(df[['Type','Gender','Color1','Color2','Color3','MaturitySize','FurLength','Vaccinated','Dewormed','Sterilized','Health','State']]).toarray()\n",
    "column_name = encoder.get_feature_names(['Type','Gender','Color1','Color2','Color3','MaturitySize','FurLength','Vaccinated','Dewormed','Sterilized','Health','State'])\n",
    "one_hot_encoded_frame =  pd.DataFrame(df_encoded, columns= column_name)\n",
    "\n",
    "print(column_name) #encoded features names\n",
    "\n",
    "print(one_hot_encoded_frame) #encoded dataframe without the non encoded features"
   ]
  },
  {
   "cell_type": "code",
   "execution_count": null,
   "metadata": {},
   "outputs": [],
   "source": [
    "# INSERT THE NON ENCODED FEATURES IN THE DATAFRAME AGAIN\n",
    "one_hot_encoded_frame.insert(2,'Name_cnt',df['Name_cnt']) ## NAME_CNT  \n",
    "one_hot_encoded_frame.insert(3,'Age',df['Age']) ## AGE  \n",
    "one_hot_encoded_frame.insert(4,'PureBreed',df['PureBreed']) ## PUREBREED    \n",
    "one_hot_encoded_frame.insert(47,'Quantity',df['Quantity']) ## QUANTITY    \n",
    "one_hot_encoded_frame.insert(48,'Fee',df['Fee']) ## FEE  \n",
    "one_hot_encoded_frame.insert(63,'FrequentRescuer',df['FrequentRescuer']) ## FrequentRescuer  \n",
    "one_hot_encoded_frame.insert(64,'VideoAmt',df['VideoAmt']) ## VideoAmt  \n",
    "one_hot_encoded_frame.insert(65,'DescriptionLength',df['DescriptionLength']) ## DescriptionLength  \n",
    "one_hot_encoded_frame.insert(66,'PhotoAmt',df['PhotoAmt']) ## PhotoAmt\n",
    "one_hot_encoded_frame.insert(67,'AdoptionSpeed',df['AdoptionSpeed']) ## AdoptionSpeed\n",
    "\n",
    "print(one_hot_encoded_frame) ## data frame for training"
   ]
  },
  {
   "cell_type": "code",
   "execution_count": null,
   "metadata": {},
   "outputs": [],
   "source": [
    "nc = one_hot_encoded_frame.shape[1]\n",
    "matrix = one_hot_encoded_frame.values # Convert dataframe to darray\n",
    "examples = matrix [:, 0:nc-1] # get features \n",
    "target = matrix [:, nc-1] # get class (last columns)           \n",
    "fnames = one_hot_encoded_frame.columns.values[0:nc-1] #get features names\n",
    "tname = one_hot_encoded_frame.columns.values[nc-1] #get target name\n"
   ]
  },
  {
   "cell_type": "markdown",
   "metadata": {},
   "source": [
    "### Predicting Adoption (binary classification task)"
   ]
  },
  {
   "cell_type": "markdown",
   "metadata": {},
   "source": [
    "Since this is a binary task, the adoptionspeed had to be converted into a binary feature (0 - for profiles with adoptionspeed = 4; 1 for profiles with adoptionspeed < 4)"
   ]
  },
  {
   "cell_type": "markdown",
   "metadata": {},
   "source": [
    "* DATA BALANCEMENT"
   ]
  },
  {
   "cell_type": "code",
   "execution_count": null,
   "metadata": {},
   "outputs": [],
   "source": [
    "ex1 = examples\n",
    "tgt1 = target \n",
    "fn1 = fnames\n",
    "tn1 = tname\n",
    "\n",
    "## change target feature to be binary\n",
    "for i in range(len(tgt1)):\n",
    "    if tgt1[i] < 4:\n",
    "        tgt1[i]=float(1)\n",
    "    else:\n",
    "        tgt1[i]=float(0)\n",
    "\n",
    "tn1 = 'Adoption' ##change target feature name\n",
    "\n",
    "ex1 = ex1.astype(float)\n",
    "\n",
    "print(tn1)\n",
    "print(ex1)"
   ]
  },
  {
   "cell_type": "code",
   "execution_count": null,
   "metadata": {},
   "outputs": [],
   "source": [
    "## split data frame into test and train sets\n",
    "X_train_b, X_test_b, y_train_b, y_test_b = train_test_split(ex1, tgt1, random_state=0)\n",
    "\n",
    "print(X_train_b.shape)\n",
    "print(X_test_b.shape)"
   ]
  },
  {
   "cell_type": "code",
   "execution_count": null,
   "metadata": {},
   "outputs": [],
   "source": [
    "print(\"Number of positives cases in the train set is: {}\".format(np.count_nonzero(y_train_b == 1)))\n",
    "print(\"Number of negative cases in the train set is: {}\".format(np.count_nonzero(y_train_b == 0)))\n",
    "print(\"Ratio positive to negative cases in the training set: {}\".format((np.count_nonzero(y_train_b == 1))/(np.count_nonzero(y_train_b == 0))))"
   ]
  },
  {
   "cell_type": "code",
   "execution_count": null,
   "metadata": {},
   "outputs": [],
   "source": [
    "print(\"Number of positives cases in the test set is: {}\".format(np.count_nonzero(y_test_b == 1)))\n",
    "print(\"Number of negative cases in the test set is: {}\".format(np.count_nonzero(y_test_b == 0)))\n",
    "print(\"Ratio positive to negative cases in the test set: {}\".format((np.count_nonzero(y_test_b == 1))/(np.count_nonzero(y_test_b == 0))))"
   ]
  },
  {
   "cell_type": "markdown",
   "metadata": {},
   "source": [
    "#### 1. KNN"
   ]
  },
  {
   "cell_type": "code",
   "execution_count": null,
   "metadata": {},
   "outputs": [],
   "source": [
    "knn_b = neighbors.KNeighborsClassifier(n_neighbors=3) ## 3 neighbors for starters\n",
    "knn_b"
   ]
  },
  {
   "cell_type": "code",
   "execution_count": null,
   "metadata": {},
   "outputs": [],
   "source": [
    "knn_b = knn_b.fit(X_train_b, y_train_b)\n",
    "\n",
    "y_train_pred_b_knn = knn_b.predict(X_train_b)\n",
    "\n",
    "print(\"Accuracy on training set:\",  knn_b.score(X_train_b, y_train_b))"
   ]
  },
  {
   "cell_type": "code",
   "execution_count": null,
   "metadata": {},
   "outputs": [],
   "source": [
    "print(classification_report(y_train_b,y_train_pred_b_knn))"
   ]
  },
  {
   "cell_type": "code",
   "execution_count": null,
   "metadata": {},
   "outputs": [],
   "source": [
    "cm_test = confusion_matrix(y_train_b, y_train_pred_b_knn)\n",
    "\n",
    "annot_kws={'fontsize':20, \n",
    "           'fontstyle':'italic',  \n",
    "           'color':\"w\",\n",
    "           'alpha':1, \n",
    "           'rotation':\"horizontal\",\n",
    "           'verticalalignment':'center'}\n",
    "\n",
    "f, ax = plt.subplots(figsize=(7, 5))\n",
    "sns.heatmap(cm_test.T, cmap=\"coolwarm\", square=True, annot = True, fmt='d', annot_kws = annot_kws, cbar=False,\n",
    "            xticklabels=(0,1),\n",
    "            yticklabels=(0,1))\n",
    "plt.xlabel('true label')\n",
    "plt.ylabel('predicted label');\n",
    "plt.title('Confusion Matrix - Train Set')"
   ]
  },
  {
   "cell_type": "code",
   "execution_count": null,
   "metadata": {},
   "outputs": [],
   "source": [
    "y_test_pred_b_knn = knn_b.predict(X_test_b)\n",
    "\n",
    "print(\"Accuracy on test set:\",  knn_b.score(X_test_b, y_test_b))"
   ]
  },
  {
   "cell_type": "code",
   "execution_count": null,
   "metadata": {},
   "outputs": [],
   "source": [
    "print(classification_report(y_test_b,y_test_pred_b_knn))"
   ]
  },
  {
   "cell_type": "code",
   "execution_count": null,
   "metadata": {},
   "outputs": [],
   "source": [
    "cm_test = confusion_matrix(y_test_b, y_test_pred_b_knn)\n",
    "\n",
    "annot_kws={'fontsize':20, \n",
    "           'fontstyle':'italic',  \n",
    "           'color':\"w\",\n",
    "           'alpha':1, \n",
    "           'rotation':\"horizontal\",\n",
    "           'verticalalignment':'center'}\n",
    "\n",
    "f, ax = plt.subplots(figsize=(7, 5))\n",
    "sns.heatmap(cm_test.T, cmap=\"coolwarm\", square=True, annot = True, fmt='d', annot_kws = annot_kws, cbar=False,\n",
    "            xticklabels=(0,1),\n",
    "            yticklabels=(0,1))\n",
    "plt.xlabel('true label')\n",
    "plt.ylabel('predicted label');\n",
    "plt.title('Confusion Matrix - Test Set')"
   ]
  },
  {
   "cell_type": "markdown",
   "metadata": {},
   "source": [
    "#### 2. NAIVE BAYES"
   ]
  },
  {
   "cell_type": "code",
   "execution_count": null,
   "metadata": {},
   "outputs": [],
   "source": [
    "gnb_b = GaussianNB()\n",
    "gnb_b"
   ]
  },
  {
   "cell_type": "code",
   "execution_count": null,
   "metadata": {},
   "outputs": [],
   "source": [
    "gnb_b = GaussianNB()\n",
    "\n",
    "#Train NAIVE BAYES ON THE TRAIN SET\n",
    "gnb_b = gnb_b.fit(X_train_b, y_train_b)\n",
    "\n",
    "print(\"Accuracy on training set:\",  gnb_b.score(X_train_b, y_train_b))\n",
    "\n",
    "# predictions for train set\n",
    "y_train_pred_b_GNB = gnb_b.predict(X_train_b)"
   ]
  },
  {
   "cell_type": "code",
   "execution_count": null,
   "metadata": {},
   "outputs": [],
   "source": [
    "print(classification_report(y_train_b,y_train_pred_b_GNB))"
   ]
  },
  {
   "cell_type": "code",
   "execution_count": null,
   "metadata": {},
   "outputs": [],
   "source": [
    "cm_test = confusion_matrix(y_train_b, y_train_pred_b_GNB)\n",
    "\n",
    "sns.heatmap(cm_test.T, square=True, annot=True, fmt='d', cbar=False,\n",
    "            xticklabels=(0,1),\n",
    "            yticklabels=(0,1))\n",
    "plt.xlabel('true label')\n",
    "plt.ylabel('predicted label');\n",
    "plt.title('Confusion Matrix - Train Set')"
   ]
  },
  {
   "cell_type": "code",
   "execution_count": null,
   "metadata": {},
   "outputs": [],
   "source": [
    "# predictions for test set\n",
    "y_test_pred_b_GNB = gnb_b.predict(X_test_b)\n",
    "\n",
    "print(\"Accuracy on test set:\",  gnb_b.score(X_test_b, y_test_b))"
   ]
  },
  {
   "cell_type": "code",
   "execution_count": null,
   "metadata": {},
   "outputs": [],
   "source": [
    "print(classification_report(y_test_b,y_test_pred_b_GNB))"
   ]
  },
  {
   "cell_type": "code",
   "execution_count": null,
   "metadata": {},
   "outputs": [],
   "source": [
    "cm_test = confusion_matrix(y_test_b, y_test_pred_b_GNB)\n",
    "\n",
    "sns.heatmap(cm_test.T, square=True, annot=True, fmt='d', cbar=False,\n",
    "            xticklabels=(0,1),\n",
    "            yticklabels=(0,1))\n",
    "plt.xlabel('true label')\n",
    "plt.ylabel('predicted label');\n",
    "plt.title('Confusion Matrix - Test Set')"
   ]
  },
  {
   "cell_type": "markdown",
   "metadata": {},
   "source": [
    "#### 3. DECISION TREES"
   ]
  },
  {
   "cell_type": "code",
   "execution_count": null,
   "metadata": {},
   "outputs": [],
   "source": [
    "dtc_Gini = tree.DecisionTreeClassifier() # criterion = \"Gini\"\n",
    "\n",
    "dtc_Gini = dtc_Gini.fit(ex1, tgt1)\n",
    "\n",
    "dtc_Gini"
   ]
  },
  {
   "cell_type": "code",
   "execution_count": null,
   "metadata": {},
   "outputs": [],
   "source": [
    "dot_data = tree.export_graphviz(dtc_Gini, out_file=\"pets.dot\",\n",
    "                                feature_names=fn1,\n",
    "                                class_names=tn1,\n",
    "                                filled=True, rounded=True,\n",
    "                                special_characters=True)"
   ]
  },
  {
   "cell_type": "markdown",
   "metadata": {},
   "source": [
    "#### 4. LOGISTIC REGRESSION"
   ]
  },
  {
   "cell_type": "code",
   "execution_count": null,
   "metadata": {},
   "outputs": [],
   "source": [
    "logreg = LogisticRegression(solver='liblinear').fit(X_train_b, y_train_b)"
   ]
  },
  {
   "cell_type": "markdown",
   "metadata": {},
   "source": [
    "## 1.3. Classification - Results and Discussion "
   ]
  },
  {
   "cell_type": "markdown",
   "metadata": {},
   "source": [
    "### Predicting AdoptionSpeed (Multiclass classification task)"
   ]
  },
  {
   "cell_type": "markdown",
   "metadata": {},
   "source": [
    "*** Data balancement ***"
   ]
  },
  {
   "cell_type": "code",
   "execution_count": null,
   "metadata": {},
   "outputs": [],
   "source": [
    "X_train_m, X_test_m, y_train_m, y_test_m = train_test_split(examples, df['AdoptionSpeed'], random_state=0) ### data split"
   ]
  },
  {
   "cell_type": "code",
   "execution_count": null,
   "metadata": {},
   "outputs": [],
   "source": [
    "print(\"Number 0 adoption speed cases in the train set is: {}\".format(np.count_nonzero(y_train_m == 0)))\n",
    "print(\"Number 1 adoption speed cases in the train set is: {}\".format(np.count_nonzero(y_train_m == 1)))\n",
    "print(\"Number 2 adoption speed cases in the train set is: {}\".format(np.count_nonzero(y_train_m == 2)))\n",
    "print(\"Number 3 adoption speed cases in the train set is: {}\".format(np.count_nonzero(y_train_m == 3)))\n",
    "print(\"Number 4 adoption speed cases in the train set is: {}\".format(np.count_nonzero(y_train_m == 4)))"
   ]
  },
  {
   "cell_type": "code",
   "execution_count": null,
   "metadata": {},
   "outputs": [],
   "source": [
    "print(\"Number 0 adoption speed cases in the test set is: {}\".format(np.count_nonzero(y_test_m == 0)))\n",
    "print(\"Number 1 adoption speed cases in the test set is: {}\".format(np.count_nonzero(y_test_m == 1)))\n",
    "print(\"Number 2 adoption speed cases in the test set is: {}\".format(np.count_nonzero(y_test_m == 2)))\n",
    "print(\"Number 3 adoption speed cases in the test set is: {}\".format(np.count_nonzero(y_test_m == 3)))\n",
    "print(\"Number 4 adoption speed cases in the test set is: {}\".format(np.count_nonzero(y_test_m == 4)))"
   ]
  },
  {
   "cell_type": "markdown",
   "metadata": {},
   "source": [
    "#### 1. KNN"
   ]
  },
  {
   "cell_type": "code",
   "execution_count": null,
   "metadata": {},
   "outputs": [],
   "source": [
    "knn_m = neighbors.KNeighborsClassifier(n_neighbors=3) ## 3 neighbors for starters\n",
    "knn_m"
   ]
  },
  {
   "cell_type": "code",
   "execution_count": null,
   "metadata": {},
   "outputs": [],
   "source": [
    "knn_m = knn_m.fit(X_train_m, y_train_m)\n",
    "\n",
    "y_train_pred_m_KNN = knn_m.predict(X_train_m)\n",
    "\n",
    "print(\"Accuracy on training set:\",  knn_m.score(X_train_m, y_train_m))"
   ]
  },
  {
   "cell_type": "code",
   "execution_count": null,
   "metadata": {},
   "outputs": [],
   "source": [
    "print(classification_report(y_train_m,y_train_pred_m_KNN))"
   ]
  },
  {
   "cell_type": "code",
   "execution_count": null,
   "metadata": {},
   "outputs": [],
   "source": [
    "cm_test = confusion_matrix(y_train_m, y_train_pred_m_KNN)\n",
    "\n",
    "annot_kws={'fontsize':15, \n",
    "           'fontstyle':'italic',  \n",
    "           'color':\"w\",\n",
    "           'alpha':1, \n",
    "           'rotation':\"horizontal\",\n",
    "           'verticalalignment':'center'}\n",
    "\n",
    "f, ax = plt.subplots(figsize=(7, 5))\n",
    "sns.heatmap(cm_test.T, cmap=\"coolwarm\", square=True, annot = True, fmt='d', annot_kws = annot_kws, cbar=False,\n",
    "            xticklabels=(0,1,2,3,4),\n",
    "            yticklabels=(0,1,2,3,4))\n",
    "plt.xlabel('true label')\n",
    "plt.ylabel('predicted label');\n",
    "plt.title('Confusion Matrix - Train Set')"
   ]
  },
  {
   "cell_type": "code",
   "execution_count": null,
   "metadata": {},
   "outputs": [],
   "source": [
    "y_test_pred_m_KNN = knn_m.predict(X_test_m)\n",
    "\n",
    "print(\"Accuracy on test set:\",  knn_m.score(X_test_m, y_test_m))"
   ]
  },
  {
   "cell_type": "code",
   "execution_count": null,
   "metadata": {},
   "outputs": [],
   "source": [
    "print(classification_report(y_test_m,y_test_pred_m_KNN))"
   ]
  },
  {
   "cell_type": "code",
   "execution_count": null,
   "metadata": {},
   "outputs": [],
   "source": [
    "cm_test = confusion_matrix(y_test_m, y_test_pred_m_KNN)\n",
    "\n",
    "annot_kws={'fontsize':15, \n",
    "           'fontstyle':'italic',  \n",
    "           'color':\"w\",\n",
    "           'alpha':1, \n",
    "           'rotation':\"horizontal\",\n",
    "           'verticalalignment':'center'}\n",
    "\n",
    "f, ax = plt.subplots(figsize=(7, 5))\n",
    "sns.heatmap(cm_test.T, cmap=\"coolwarm\", square=True, annot = True, fmt='d', annot_kws = annot_kws, cbar=False,\n",
    "            xticklabels=(0,1,2,3,4),\n",
    "            yticklabels=(0,1,2,3,4))\n",
    "plt.xlabel('true label')\n",
    "plt.ylabel('predicted label');\n",
    "plt.title('Confusion Matrix - Test Set')"
   ]
  },
  {
   "cell_type": "markdown",
   "metadata": {},
   "source": [
    "#### 2. NAIVE BAYES"
   ]
  },
  {
   "cell_type": "code",
   "execution_count": null,
   "metadata": {},
   "outputs": [],
   "source": [
    "gnb_m = GaussianNB()\n",
    "gnb_m"
   ]
  },
  {
   "cell_type": "code",
   "execution_count": null,
   "metadata": {},
   "outputs": [],
   "source": [
    "gnb_m = GaussianNB()\n",
    "\n",
    "#Train NAIVE BAYES ON THE TRAIN SET\n",
    "gnb_m = gnb_m.fit(X_train_m, y_train_m)\n",
    "\n",
    "# predictions for train set\n",
    "y_train_pred_m_GBN = gnb_m.predict(X_train_m)\n",
    "\n",
    "print(\"Accuracy on training set:\",  gnb_m.score(X_train_m, y_train_m))"
   ]
  },
  {
   "cell_type": "code",
   "execution_count": null,
   "metadata": {},
   "outputs": [],
   "source": [
    "print(classification_report(y_train_m,y_train_pred_m_GBN))"
   ]
  },
  {
   "cell_type": "code",
   "execution_count": null,
   "metadata": {},
   "outputs": [],
   "source": [
    "cm_test = confusion_matrix(y_train_m, y_train_pred_m_GBN)\n",
    "\n",
    "sns.heatmap(cm_test.T, square=True, annot=True, fmt='d', cbar=False,\n",
    "            xticklabels=(0,1,2,3,4),\n",
    "            yticklabels=(0,1,2,3,4))\n",
    "plt.xlabel('true label')\n",
    "plt.ylabel('predicted label');\n",
    "plt.title('Confusion Matrix - Train Set')"
   ]
  },
  {
   "cell_type": "code",
   "execution_count": null,
   "metadata": {},
   "outputs": [],
   "source": [
    "# predictions for test set\n",
    "y_test_pred_m_GBB = gnb_m.predict(X_test_m)\n",
    "\n",
    "print(\"Accuracy on test set:\",  gnb_m.score(X_test_m, y_test_m))"
   ]
  },
  {
   "cell_type": "code",
   "execution_count": null,
   "metadata": {},
   "outputs": [],
   "source": [
    "print(classification_report(y_test_m,y_test_pred_m_GBB))"
   ]
  },
  {
   "cell_type": "code",
   "execution_count": null,
   "metadata": {},
   "outputs": [],
   "source": [
    "cm_test = confusion_matrix(y_test_m, y_test_pred_m_GBB)\n",
    "\n",
    "sns.heatmap(cm_test.T, square=True, annot=True, fmt='d', cbar=False,\n",
    "            xticklabels=(0,1,2,3,4),\n",
    "            yticklabels=(0,1,2,3,4))\n",
    "plt.xlabel('true label')\n",
    "plt.ylabel('predicted label');\n",
    "plt.title('Confusion Matrix - Test Set')"
   ]
  },
  {
   "cell_type": "markdown",
   "metadata": {},
   "source": [
    "#### 3. DECISION TREES"
   ]
  },
  {
   "cell_type": "markdown",
   "metadata": {},
   "source": [
    "#### 3. LOGISTIC REGRESSION"
   ]
  },
  {
   "cell_type": "markdown",
   "metadata": {},
   "source": [
    "## Task 2 (Unsupervised Learning) - Charactering Adopted Pets and Adoption Speed"
   ]
  },
  {
   "cell_type": "markdown",
   "metadata": {},
   "source": [
    "In this task you should **use unsupervised learning algorithms and try to characterize pets that were actually adopted and their adoption speed**. You can use:\n",
    "* **Association rule mining** to find **associations between the features and the target Adoption/AdoptionSpeed**.\n",
    "* **Clustering algorithms to find similar groups of pets**. Is it possible to find groups of pets with the same/similar adoption speed.\n",
    "* **Be creative and define your own unsupervised analysis!** What would it be interesting to find out ?"
   ]
  },
  {
   "cell_type": "markdown",
   "metadata": {},
   "source": [
    "## 2.1. Preprocessing Data for Association Rule Mining"
   ]
  },
  {
   "cell_type": "markdown",
   "metadata": {},
   "source": [
    "..."
   ]
  },
  {
   "cell_type": "markdown",
   "metadata": {},
   "source": [
    "## 2.2. Finding Associations"
   ]
  },
  {
   "cell_type": "markdown",
   "metadata": {},
   "source": [
    "..."
   ]
  },
  {
   "cell_type": "markdown",
   "metadata": {},
   "source": [
    "## 2.3 Association Rules - Results and Discussion "
   ]
  },
  {
   "cell_type": "markdown",
   "metadata": {},
   "source": [
    "..."
   ]
  },
  {
   "cell_type": "markdown",
   "metadata": {},
   "source": [
    "## 2.4. Preprocessing Data for Clustering"
   ]
  },
  {
   "cell_type": "markdown",
   "metadata": {},
   "source": [
    "..."
   ]
  },
  {
   "cell_type": "markdown",
   "metadata": {},
   "source": [
    "## 2.5. Finding Groups"
   ]
  },
  {
   "cell_type": "markdown",
   "metadata": {},
   "source": [
    "..."
   ]
  },
  {
   "cell_type": "markdown",
   "metadata": {},
   "source": [
    "## 2.6. Clustering - Results and Discussion "
   ]
  },
  {
   "cell_type": "markdown",
   "metadata": {},
   "source": [
    "..."
   ]
  },
  {
   "cell_type": "markdown",
   "metadata": {},
   "source": [
    "## 3. Final Comments and Conclusions"
   ]
  },
  {
   "cell_type": "markdown",
   "metadata": {},
   "source": [
    "..."
   ]
  }
 ],
 "metadata": {
  "kernelspec": {
   "display_name": "Python 3",
   "language": "python",
   "name": "python3"
  },
  "language_info": {
   "codemirror_mode": {
    "name": "ipython",
    "version": 3
   },
   "file_extension": ".py",
   "mimetype": "text/x-python",
   "name": "python",
   "nbconvert_exporter": "python",
   "pygments_lexer": "ipython3",
   "version": "3.7.4"
  }
 },
 "nbformat": 4,
 "nbformat_minor": 4
}
