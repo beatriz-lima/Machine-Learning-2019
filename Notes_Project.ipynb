{
 "cells": [
  {
   "cell_type": "markdown",
   "metadata": {},
   "source": [
    "# ML Project  - Learning about Pet Adoption using PetFinder.my Dataset\n",
    "\n",
    "Beatriz Lima 49377, David Almeida 54120, Tiago Pereira 49174\n",
    "___________________"
   ]
  },
  {
   "cell_type": "markdown",
   "metadata": {},
   "source": [
    "## Table of Contents\n",
    "\n"
   ]
  },
  {
   "cell_type": "markdown",
   "metadata": {},
   "source": [
    "#### Task 0 (Know your Data) - Exploratory Data Analysis\n",
    "  * 0.1. Loading Data\n",
    "  * 0.2. Understanding Data\n",
    "    + Basic Questions\n",
    "    + Exploratory Data Analysis\n",
    "\n",
    "#### Task 1 (Supervised Learning) - Predicting Adoption and Adoption Speed\n",
    "  * 1.1. Preprocessing Data for Classification\n",
    "    + Features impact\n",
    "    + Data imbalance\n",
    "    + Feature Encoding\n",
    "    \n",
    "    \n",
    "  * 1.2. Learning Classifiers\n",
    "    + 1.2.1 Benchmark\n",
    "        - 1.2.1.1 Predicting Adoption (binary classification task)\n",
    "        - 1.2.1.2 Predicting AdoptionSpeed (multiclass classification task) \n",
    "    + 1.2.2 Predicting Adoption (binary classification task)\n",
    "    + 1.2.3 Predicting Adoption Speed (Multiclass classification task)\n",
    "    + 1.2.4 Predicting Adoption/Adoption Speed for dogs\n",
    "        - 1.2.4.1 Binary Classification\n",
    "        - 1.2.4.2 Multiclass Classficiation\n",
    "    + 1.2.5 Predicting Adoption/Adoption Speed for cats\n",
    "        - 1.2.5.1 Binary Classification\n",
    "        - 1.2.5.2 Multiclass Classficiation\n",
    "   \n",
    "   * 1.3. Classification - Results and Discussion \n",
    "   \n",
    "#### Task 2 (Unsupervised Learning) - Charactering Adopted Pets and Adoption Speed\n",
    "\n",
    "   * Associoation Rule Mining:\n",
    "   \n",
    "       + 2.1. Preprocessing Data for Association Rule Mining\n",
    "       + 2.2. Finding Associations\n",
    "           + Binary Classification\n",
    "           + Multiclass Classficiation\n",
    "       + 2.3 Association Rules - Results and Discussion\n",
    "   \n",
    "   * Clustering:\n",
    "      + 2.4. Preprocessing Data for Clustering\n",
    "      + 2.5. Finding Groups\n",
    "          - Binary Analysis\n",
    "          - Multiclass Analysis\n",
    "      + 2.6. Clustering - Results and Discussion\n",
    "    \n",
    "#### Task 3 - Final Comments and Conclusions\n",
    " "
   ]
  },
  {
   "cell_type": "markdown",
   "metadata": {},
   "source": [
    "## Task 0 (Know your Data) - Exploratory Data Analysis"
   ]
  },
  {
   "cell_type": "markdown",
   "metadata": {},
   "source": [
    "## 0.1. Loading Data"
   ]
  },
  {
   "cell_type": "code",
   "execution_count": 2,
   "metadata": {},
   "outputs": [],
   "source": [
    "import pandas as pd\n",
    "import numpy as np\n",
    "import matplotlib.pyplot as plt\n",
    "import seaborn as sns; sns.set()\n",
    "import math\n",
    "import statistics\n",
    "from sklearn.model_selection import train_test_split, GridSearchCV, cross_validate, cross_val_score, cross_val_predict\n",
    "from sklearn.preprocessing import LabelEncoder, OneHotEncoder\n",
    "from sklearn import neighbors,tree, preprocessing\n",
    "from sklearn.metrics import confusion_matrix, precision_recall_fscore_support, classification_report, recall_score, accuracy_score\n",
    "import sklearn.naive_bayes\n",
    "#from sklearn.naive_bayes import GaussianNB, MultinomialNB, BernoulliNB, ComplementNB ,CategoricalNB\n",
    "from sklearn.ensemble import RandomForestClassifier\n",
    "import re\n",
    "from imblearn.over_sampling import RandomOverSampler\n",
    "from sklearn.svm import LinearSVC, SVC\n",
    "from sklearn.linear_model import LogisticRegression, Perceptron, RidgeClassifier\n",
    "from IPython.display import Image  \n",
    "from sklearn import tree\n",
    "import pydotplus"
   ]
  },
  {
   "cell_type": "code",
   "execution_count": 3,
   "metadata": {},
   "outputs": [
    {
     "name": "stdout",
     "output_type": "stream",
     "text": [
      "<class 'pandas.core.frame.DataFrame'>\n",
      "RangeIndex: 14993 entries, 0 to 14992\n",
      "Data columns (total 24 columns):\n",
      "Type             14993 non-null int64\n",
      "Name             13736 non-null object\n",
      "Age              14993 non-null int64\n",
      "Breed1           14993 non-null int64\n",
      "Breed2           14993 non-null int64\n",
      "Gender           14993 non-null int64\n",
      "Color1           14993 non-null int64\n",
      "Color2           14993 non-null int64\n",
      "Color3           14993 non-null int64\n",
      "MaturitySize     14993 non-null int64\n",
      "FurLength        14993 non-null int64\n",
      "Vaccinated       14993 non-null int64\n",
      "Dewormed         14993 non-null int64\n",
      "Sterilized       14993 non-null int64\n",
      "Health           14993 non-null int64\n",
      "Quantity         14993 non-null int64\n",
      "Fee              14993 non-null int64\n",
      "State            14993 non-null int64\n",
      "RescuerID        14993 non-null object\n",
      "VideoAmt         14993 non-null int64\n",
      "Description      14981 non-null object\n",
      "PetID            14993 non-null object\n",
      "PhotoAmt         14993 non-null float64\n",
      "AdoptionSpeed    14993 non-null int64\n",
      "dtypes: float64(1), int64(19), object(4)\n",
      "memory usage: 2.7+ MB\n"
     ]
    }
   ],
   "source": [
    "df = pd.read_csv('PetFinder_dataset.csv')\n",
    "df.info()"
   ]
  },
  {
   "cell_type": "markdown",
   "metadata": {},
   "source": [
    "Loading colour, breed and state labels:"
   ]
  },
  {
   "cell_type": "code",
   "execution_count": null,
   "metadata": {},
   "outputs": [],
   "source": [
    "color_labels = pd.read_csv('color_labels.csv').set_index('ColorID')\n",
    "breed_labels = pd.read_csv('breed_labels.csv').set_index('BreedID')\n",
    "state_labels = pd.read_csv('state_labels.csv').set_index('StateID')"
   ]
  },
  {
   "cell_type": "markdown",
   "metadata": {},
   "source": [
    "## 0.2. Understanding Data"
   ]
  },
  {
   "cell_type": "markdown",
   "metadata": {},
   "source": [
    "### Basic Questions"
   ]
  },
  {
   "cell_type": "markdown",
   "metadata": {},
   "source": [
    "#### How big is the dataset?\n",
    "The dataset contains 14993 entries with 24 features each.\n",
    "\n",
    "#### Is this the entire dataset?\n",
    "The original dataset from PetFinder.my contains over 150,000 animal profiles.\n",
    "\n",
    "#### Is this data representative enough?\n",
    "The dataset represents ~10% of the original data. EDA is required to best assess whether it can be considered a representative sample of the original population.\n",
    "\n",
    "#### Are there likely to be gross outliers or extraordinary sources of noise?\n",
    "EDA can shed light on this topic, by representing data distribution and irregularities that could point to errors in data.\n",
    "\n",
    "#### Are there any fields that are unique identifiers? These are the fields you might use for joining between datasets, etc.\n",
    "All animal profiles are uniquely identified by a PetID. Each PetID also has a non-unique RescuerID, and a non-unique State.\n",
    "\n",
    "#### When data entries are blank, where does that come from?\n",
    "Some animal profiles have no assigned name. There are also some features which have a default value set for cases in which that feature is not specified or applicable to the data entry.\n",
    "\n",
    "#### How common are blank entries?\n",
    "There are ~1200 blank name entries, which constitute a significant portion of the data. It would perhaps be best to keep this data in the dataset for analysis. Other features with default value entries should also be kept, because, like a profile without a name, unspecified animal characteristics have a meaning relevant to our objectives."
   ]
  },
  {
   "cell_type": "markdown",
   "metadata": {},
   "source": [
    "## Exploratory Data Analysis"
   ]
  },
  {
   "cell_type": "markdown",
   "metadata": {},
   "source": [
    "In order to better understand our dataset and to make decisions about feature selection, feature extraction and general cleaning of the data, we started by plotting distribution of the original features and the target."
   ]
  },
  {
   "cell_type": "markdown",
   "metadata": {},
   "source": [
    "### Target: *AdoptionSpeed*\n",
    "\n",
    "The target feature displayed a clear discrepancy in distribution, showing a significantly lower number of examples for `AdoptionSpeed = 0`. This imbalance should be addressed, as models tend to neglect minority classes if they don't have a large enough representation in the overall dataset, therefore compromising the classification."
   ]
  },
  {
   "cell_type": "code",
   "execution_count": null,
   "metadata": {},
   "outputs": [],
   "source": [
    "ax = sns.catplot(x=\"AdoptionSpeed\",data=df, kind='count')\n",
    "(ax.set_axis_labels(\"Adoption Speed\", \"Number of Pets\"))"
   ]
  },
  {
   "cell_type": "markdown",
   "metadata": {},
   "source": [
    "### Overall correlations\n",
    "The plot bellow illustrates the absolute correlation between  each feature and the target class `AdoptionSpeed`. All correlations are very low (<15%)"
   ]
  },
  {
   "cell_type": "code",
   "execution_count": null,
   "metadata": {},
   "outputs": [],
   "source": [
    "numeric_df = df.select_dtypes(exclude=['object'])\n",
    "corr_dict = {}\n",
    "for feature in numeric_df.columns:\n",
    "    corr_dict[feature] = abs(df['AdoptionSpeed'].corr(df[feature]))\n",
    "    #print(feature, '-->', corr_dict[feature])\n",
    "    \n",
    "corr_dict.pop('AdoptionSpeed')\n",
    "plt.figure(figsize=(20,7))\n",
    "plt.bar(range(len(corr_dict)), list(corr_dict.values()), align='center')\n",
    "plt.xticks(range(len(corr_dict)), list(corr_dict.keys()))"
   ]
  },
  {
   "cell_type": "markdown",
   "metadata": {},
   "source": [
    "### PetID\n",
    "\n",
    "Since PetID is not informative of the pet profile (it acts solely as a unique identifier of the page), it would be excluded from the analysis, although it will be used as an index for the dataFrame. It can be later useful when evaluating model performance, as the respective record values can reveal if certain features were appropriately categorised."
   ]
  },
  {
   "cell_type": "code",
   "execution_count": 4,
   "metadata": {},
   "outputs": [
    {
     "data": {
      "text/html": [
       "<div>\n",
       "<style scoped>\n",
       "    .dataframe tbody tr th:only-of-type {\n",
       "        vertical-align: middle;\n",
       "    }\n",
       "\n",
       "    .dataframe tbody tr th {\n",
       "        vertical-align: top;\n",
       "    }\n",
       "\n",
       "    .dataframe thead th {\n",
       "        text-align: right;\n",
       "    }\n",
       "</style>\n",
       "<table border=\"1\" class=\"dataframe\">\n",
       "  <thead>\n",
       "    <tr style=\"text-align: right;\">\n",
       "      <th></th>\n",
       "      <th>Type</th>\n",
       "      <th>Name</th>\n",
       "      <th>Age</th>\n",
       "      <th>Breed1</th>\n",
       "      <th>Breed2</th>\n",
       "      <th>Gender</th>\n",
       "      <th>Color1</th>\n",
       "      <th>Color2</th>\n",
       "      <th>Color3</th>\n",
       "      <th>MaturitySize</th>\n",
       "      <th>...</th>\n",
       "      <th>Sterilized</th>\n",
       "      <th>Health</th>\n",
       "      <th>Quantity</th>\n",
       "      <th>Fee</th>\n",
       "      <th>State</th>\n",
       "      <th>RescuerID</th>\n",
       "      <th>VideoAmt</th>\n",
       "      <th>Description</th>\n",
       "      <th>PhotoAmt</th>\n",
       "      <th>AdoptionSpeed</th>\n",
       "    </tr>\n",
       "    <tr>\n",
       "      <th>PetID</th>\n",
       "      <th></th>\n",
       "      <th></th>\n",
       "      <th></th>\n",
       "      <th></th>\n",
       "      <th></th>\n",
       "      <th></th>\n",
       "      <th></th>\n",
       "      <th></th>\n",
       "      <th></th>\n",
       "      <th></th>\n",
       "      <th></th>\n",
       "      <th></th>\n",
       "      <th></th>\n",
       "      <th></th>\n",
       "      <th></th>\n",
       "      <th></th>\n",
       "      <th></th>\n",
       "      <th></th>\n",
       "      <th></th>\n",
       "      <th></th>\n",
       "      <th></th>\n",
       "    </tr>\n",
       "  </thead>\n",
       "  <tbody>\n",
       "    <tr>\n",
       "      <td>86e1089a3</td>\n",
       "      <td>2</td>\n",
       "      <td>Nibble</td>\n",
       "      <td>3</td>\n",
       "      <td>299</td>\n",
       "      <td>0</td>\n",
       "      <td>1</td>\n",
       "      <td>1</td>\n",
       "      <td>7</td>\n",
       "      <td>0</td>\n",
       "      <td>1</td>\n",
       "      <td>...</td>\n",
       "      <td>2</td>\n",
       "      <td>1</td>\n",
       "      <td>1</td>\n",
       "      <td>100</td>\n",
       "      <td>41326</td>\n",
       "      <td>8480853f516546f6cf33aa88cd76c379</td>\n",
       "      <td>0</td>\n",
       "      <td>Nibble is a 3+ month old ball of cuteness. He ...</td>\n",
       "      <td>1.0</td>\n",
       "      <td>2</td>\n",
       "    </tr>\n",
       "    <tr>\n",
       "      <td>6296e909a</td>\n",
       "      <td>2</td>\n",
       "      <td>No Name Yet</td>\n",
       "      <td>1</td>\n",
       "      <td>265</td>\n",
       "      <td>0</td>\n",
       "      <td>1</td>\n",
       "      <td>1</td>\n",
       "      <td>2</td>\n",
       "      <td>0</td>\n",
       "      <td>2</td>\n",
       "      <td>...</td>\n",
       "      <td>3</td>\n",
       "      <td>1</td>\n",
       "      <td>1</td>\n",
       "      <td>0</td>\n",
       "      <td>41401</td>\n",
       "      <td>3082c7125d8fb66f7dd4bff4192c8b14</td>\n",
       "      <td>0</td>\n",
       "      <td>I just found it alone yesterday near my apartm...</td>\n",
       "      <td>2.0</td>\n",
       "      <td>0</td>\n",
       "    </tr>\n",
       "    <tr>\n",
       "      <td>3422e4906</td>\n",
       "      <td>1</td>\n",
       "      <td>Brisco</td>\n",
       "      <td>1</td>\n",
       "      <td>307</td>\n",
       "      <td>0</td>\n",
       "      <td>1</td>\n",
       "      <td>2</td>\n",
       "      <td>7</td>\n",
       "      <td>0</td>\n",
       "      <td>2</td>\n",
       "      <td>...</td>\n",
       "      <td>2</td>\n",
       "      <td>1</td>\n",
       "      <td>1</td>\n",
       "      <td>0</td>\n",
       "      <td>41326</td>\n",
       "      <td>fa90fa5b1ee11c86938398b60abc32cb</td>\n",
       "      <td>0</td>\n",
       "      <td>Their pregnant mother was dumped by her irresp...</td>\n",
       "      <td>7.0</td>\n",
       "      <td>3</td>\n",
       "    </tr>\n",
       "    <tr>\n",
       "      <td>5842f1ff5</td>\n",
       "      <td>1</td>\n",
       "      <td>Miko</td>\n",
       "      <td>4</td>\n",
       "      <td>307</td>\n",
       "      <td>0</td>\n",
       "      <td>2</td>\n",
       "      <td>1</td>\n",
       "      <td>2</td>\n",
       "      <td>0</td>\n",
       "      <td>2</td>\n",
       "      <td>...</td>\n",
       "      <td>2</td>\n",
       "      <td>1</td>\n",
       "      <td>1</td>\n",
       "      <td>150</td>\n",
       "      <td>41401</td>\n",
       "      <td>9238e4f44c71a75282e62f7136c6b240</td>\n",
       "      <td>0</td>\n",
       "      <td>Good guard dog, very alert, active, obedience ...</td>\n",
       "      <td>8.0</td>\n",
       "      <td>2</td>\n",
       "    </tr>\n",
       "    <tr>\n",
       "      <td>850a43f90</td>\n",
       "      <td>1</td>\n",
       "      <td>Hunter</td>\n",
       "      <td>1</td>\n",
       "      <td>307</td>\n",
       "      <td>0</td>\n",
       "      <td>1</td>\n",
       "      <td>1</td>\n",
       "      <td>0</td>\n",
       "      <td>0</td>\n",
       "      <td>2</td>\n",
       "      <td>...</td>\n",
       "      <td>2</td>\n",
       "      <td>1</td>\n",
       "      <td>1</td>\n",
       "      <td>0</td>\n",
       "      <td>41326</td>\n",
       "      <td>95481e953f8aed9ec3d16fc4509537e8</td>\n",
       "      <td>0</td>\n",
       "      <td>This handsome yet cute boy is up for adoption....</td>\n",
       "      <td>3.0</td>\n",
       "      <td>2</td>\n",
       "    </tr>\n",
       "  </tbody>\n",
       "</table>\n",
       "<p>5 rows × 23 columns</p>\n",
       "</div>"
      ],
      "text/plain": [
       "           Type         Name  Age  Breed1  Breed2  Gender  Color1  Color2  \\\n",
       "PetID                                                                       \n",
       "86e1089a3     2       Nibble    3     299       0       1       1       7   \n",
       "6296e909a     2  No Name Yet    1     265       0       1       1       2   \n",
       "3422e4906     1       Brisco    1     307       0       1       2       7   \n",
       "5842f1ff5     1         Miko    4     307       0       2       1       2   \n",
       "850a43f90     1       Hunter    1     307       0       1       1       0   \n",
       "\n",
       "           Color3  MaturitySize  ...  Sterilized  Health  Quantity  Fee  \\\n",
       "PetID                            ...                                      \n",
       "86e1089a3       0             1  ...           2       1         1  100   \n",
       "6296e909a       0             2  ...           3       1         1    0   \n",
       "3422e4906       0             2  ...           2       1         1    0   \n",
       "5842f1ff5       0             2  ...           2       1         1  150   \n",
       "850a43f90       0             2  ...           2       1         1    0   \n",
       "\n",
       "           State                         RescuerID  VideoAmt  \\\n",
       "PetID                                                          \n",
       "86e1089a3  41326  8480853f516546f6cf33aa88cd76c379         0   \n",
       "6296e909a  41401  3082c7125d8fb66f7dd4bff4192c8b14         0   \n",
       "3422e4906  41326  fa90fa5b1ee11c86938398b60abc32cb         0   \n",
       "5842f1ff5  41401  9238e4f44c71a75282e62f7136c6b240         0   \n",
       "850a43f90  41326  95481e953f8aed9ec3d16fc4509537e8         0   \n",
       "\n",
       "                                                 Description PhotoAmt  \\\n",
       "PetID                                                                   \n",
       "86e1089a3  Nibble is a 3+ month old ball of cuteness. He ...      1.0   \n",
       "6296e909a  I just found it alone yesterday near my apartm...      2.0   \n",
       "3422e4906  Their pregnant mother was dumped by her irresp...      7.0   \n",
       "5842f1ff5  Good guard dog, very alert, active, obedience ...      8.0   \n",
       "850a43f90  This handsome yet cute boy is up for adoption....      3.0   \n",
       "\n",
       "           AdoptionSpeed  \n",
       "PetID                     \n",
       "86e1089a3              2  \n",
       "6296e909a              0  \n",
       "3422e4906              3  \n",
       "5842f1ff5              2  \n",
       "850a43f90              2  \n",
       "\n",
       "[5 rows x 23 columns]"
      ]
     },
     "execution_count": 4,
     "metadata": {},
     "output_type": "execute_result"
    }
   ],
   "source": [
    "df.set_index(\"PetID\", inplace=True) # change index to PetId\n",
    "df.head()"
   ]
  },
  {
   "cell_type": "markdown",
   "metadata": {},
   "source": [
    "### Strategy\n",
    "\n",
    "The following analysis was done to each feature:\n",
    "* Check the number of examples for each feature values.\n",
    "* Check the distribution of each feature values' among AdoptionSpeed classes.\n",
    "\n",
    "For the second step we used the following visualisation method, which returns not only a plot on the distribution but also a table of representativity percentage gain of each feature's values for each `AdoptionSpeed` class, relative to `AdoptionSpeed = 0`:"
   ]
  },
  {
   "cell_type": "code",
   "execution_count": null,
   "metadata": {},
   "outputs": [],
   "source": [
    "# creates a stacked bar plot for any two categorical variables\n",
    "# also creates a relative frequency version of the same plot\n",
    "# and a relative gain compared to AdoptionSpeed=0 \n",
    "# frel=False to return only the absolute frequency plot\n",
    "\n",
    "def cat_distr_pairwise(cat_x,cat_y, df, frel):\n",
    "    \n",
    "    unique_cat_y = sorted(df[cat_y].unique()) #ordered list of categories in variable y\n",
    "    unique_cat_x = sorted(df[cat_x].unique()) #ordered list of categories in variable x\n",
    "    cat_count = pd.DataFrame(columns=unique_cat_y,index=unique_cat_x) #DataFrame of x categories by y categories\n",
    "    for y in unique_cat_y: #count each type of y category...\n",
    "        for x in unique_cat_x: #... for each type of x category (e.g.: all dogs' adoption speed, then all cats' adoption speed)\n",
    "            count = df[cat_y][(df[cat_x]==x) & (df[cat_y]==y)].count() \n",
    "            cat_count.at[x,y] = count \n",
    "    \n",
    "    def color(val):\n",
    "        if val < 0:\n",
    "            color = 'red'\n",
    "        elif val>0:\n",
    "            color = 'green'\n",
    "        else:\n",
    "            color='white'\n",
    "        return 'background-color: %s' % color\n",
    "    \n",
    "    if frel==False:\n",
    "        \n",
    "        #relative gain table\n",
    "        relgain = cat_count.pct_change().cumsum() * 100\n",
    "        print(\"Relative gain from AdoptionSpeed=0 (%):\")\n",
    "        display(relgain.style.applymap(color))\n",
    "        # alternative: display(relgain.style.bar(align='zero', color=['#d65f5f', '#5fba7d'])\n",
    "        return cat_count.plot.bar(stacked=True, figsize=(10,7))\n",
    "    \n",
    "    else:\n",
    "        #relative frequency stacked bar plot\n",
    "        freq_cat_count = cat_count.divide(cat_count.sum(axis=1), axis=0)\n",
    "        \n",
    "        #relative gain table\n",
    "        relgain = freq_cat_count.pct_change().cumsum() * 100\n",
    "        print(\"Relative gain from AdoptionSpeed=0 (%):\")\n",
    "        display(relgain.style.applymap(color))\n",
    "        # alternative: display(relgain.style.bar(align='zero', color=['#d65f5f', '#5fba7d'])\n",
    "\n",
    "        return freq_cat_count.plot.bar(stacked=True, figsize=(10,7), title=cat_y + \" relative distribution among AdoptionSpeed\")\n",
    "    "
   ]
  },
  {
   "cell_type": "markdown",
   "metadata": {},
   "source": [
    "We will now present the most important conclusions taken from this analysis."
   ]
  },
  {
   "cell_type": "markdown",
   "metadata": {},
   "source": [
    "### Type\n",
    "\n",
    "Because we are going to later create type-specific predictive models, it would be relevant to see the number of cases we have in our dataset for each animal (cat or dog)."
   ]
  },
  {
   "cell_type": "code",
   "execution_count": null,
   "metadata": {},
   "outputs": [],
   "source": [
    "bx = sns.catplot(x=\"Type\",data=df, kind='count')\n",
    "(bx.set_axis_labels(\"Type\", \"Number of Pets\")\n",
    "    .set_xticklabels([\"Dogs\", \"Cats\"])\n",
    "    .set_titles(\"{col_name} {col_var}\")\n",
    "    .despine(left=True))  "
   ]
  },
  {
   "cell_type": "code",
   "execution_count": null,
   "metadata": {},
   "outputs": [],
   "source": [
    "cat_distr_pairwise('AdoptionSpeed','Type', df, frel=True)"
   ]
  },
  {
   "cell_type": "markdown",
   "metadata": {},
   "source": [
    "Looking at our data, the number of examples of dogs and cats is fairly proportional, as well as their relative distribution among target classes. \n",
    "Looking at the gain table, it is clear that dogs (1) tend to get adopted later relative to cats (2), which we can see by the growing relative gain. In fact, the number of dogs with no adoption after 100 days (`AdoptionSpeed = 4`) is 37% higher than dogs being adopted on the same day (`AdoptionSpeed = 0`). On the other hand, we observe the opposite phenomena on cats. They tend to be adopted at ealier stages, being the number of cats with no adoption after 100 days (`AdoptionSpeed = 4`) is 29% lower than cats being adopted on the same day (`AdoptionSpeed = 0`).\n",
    "Despite this small discrepancies, we expect the resulting models' performance to be comparable.\n",
    "\n"
   ]
  },
  {
   "cell_type": "markdown",
   "metadata": {},
   "source": [
    "### Name\n",
    "Since a reasonable amount of the profiles didn't make any reference to name (empty) a first approach would be to fill those empty values with a fixed value such as \"No Name\" or similar.\n",
    "Other approach would be to transform this feature into a binary one with a 0 value for profiles with no name and a 1 value for the opposite.\n",
    "Since it was later found that some of the named profiles were filled with \"No Name\" and derivatives of this name such as \"No Name Yet\", \"V6\", \"å°è±¹çº¹\" etc., which are not proper names, we made an attempt to classify those cases as \"No name\" as well."
   ]
  },
  {
   "cell_type": "code",
   "execution_count": 5,
   "metadata": {},
   "outputs": [
    {
     "name": "stdout",
     "output_type": "stream",
     "text": [
      "A glimpse on the ignored names: ['No Name Yet', 'No Name', 'No Name', 'H3', 'Z3', 'C', 'No Name', 'No Name', 'BB', 'QQ', 'Y1', 'No Name', 'H1', 'No Name Yet', 'D9', 'Y4', 'No Name', 'Z4', 'No Name', 'Unnamed', 'BB', 'DD', 'M2', 'H6', 'D4', 'QQ', 'JJ', 'No Names', 'å°\\x8fè±¹çº¹', 'ä¼\\x98ç¾\\x8eå\\x8f¯ç¬\\x91', 'F1', 'æ©\\x98å\\xad\\x90', 'W7', '(No Name)', 'No Name Yet', 'No Name', '1F', 'Q1', '6', 'CJ', '3F', '[No Name]', 'BB', 'KD', 'No Name Yet', 'No Name Yet', 'DD', 'No Name', 'G1', 'è\\x8f\\x9cè\\x8f\\x9cã\\x80\\x82']\n"
     ]
    },
    {
     "data": {
      "image/png": "[encoded data removed]",
      "text/plain": [
       "<Figure size 432x288 with 1 Axes>"
      ]
     },
     "metadata": {},
     "output_type": "display_data"
    }
   ],
   "source": [
    "# Create new feature - hasNames\n",
    "l = []\n",
    "ignore = []\n",
    "\n",
    "for i in df[\"Name\"]:\n",
    "    if type(i)!=str: # Some empty descriptions are type:float\n",
    "        l.append(0)\n",
    "    else:\n",
    "        if len(i)<3: #Consider that a 2 letter name is not a proper name.\n",
    "            l.append(0)\n",
    "            ignore.append(i)\n",
    "        elif re.search(\"[a-zA-Z]\", i) == None: #If name doesn't have letters, it's not a proper name.\n",
    "            l.append(0)\n",
    "            ignore.append(i)\n",
    "        elif re.search(\"unnamed|no name\",i, re.IGNORECASE) != None: \n",
    "            #If name string includes \"unnamed\" or \"no name\", it's not a proper name\n",
    "            l.append(0)\n",
    "            ignore.append(i)\n",
    "        elif len(i.split())>0:\n",
    "            l.append(1)\n",
    "\n",
    "print(\"A glimpse on the ignored names:\",ignore[:50])\n",
    "df_processed1 = df.copy()\n",
    "df_processed1.drop(\"Name\", axis=1, inplace = True)\n",
    "df_processed1.insert(1,\"hasName\",l) ##INSERT IN DATAFRAME\n",
    "\n",
    "sns.set(style=\"whitegrid\")\n",
    "ax = sns.countplot(x=\"hasName\", data=df_processed1)"
   ]
  },
  {
   "cell_type": "code",
   "execution_count": null,
   "metadata": {},
   "outputs": [],
   "source": [
    "cat_distr_pairwise('AdoptionSpeed','hasName', df_processed1, frel=True)"
   ]
  },
  {
   "cell_type": "markdown",
   "metadata": {},
   "source": [
    "As we can see from the plot above, the relative distribution of the \"noName\" feature values among `AdoptionSpeed` classes is very similar. This probabably means that the pet's name is not a very important factor in the adopter's decision."
   ]
  },
  {
   "cell_type": "markdown",
   "metadata": {},
   "source": [
    "### Age\n",
    "\n",
    "When looking at `Age` distribution, we can see that there are peaks every 12 months. Young pets (less than 1 year old) are the most frequent."
   ]
  },
  {
   "cell_type": "code",
   "execution_count": 6,
   "metadata": {},
   "outputs": [
    {
     "data": {
      "image/png": "[encoded data removed]",
      "text/plain": [
       "<Figure size 1080x360 with 1 Axes>"
      ]
     },
     "metadata": {},
     "output_type": "display_data"
    }
   ],
   "source": [
    "a = df['Age'] # get Age array\n",
    "nr_bins = 1 + 3.322*math.log(len(a),2) # Number of bins according to Sturges rule\n",
    "sns.set(rc={'figure.figsize':(15,5)}) # set figure size\n",
    "\n",
    "# setting up the axis\n",
    "fig, ax = plt.subplots()\n",
    "ticks = [i for i in range(0,260,12)]\n",
    "ticks.pop(0)\n",
    "ax.set_xticks(ticks)\n",
    "plt.xlim([0.0,250])\n",
    "\n",
    "sns.distplot(a, bins=round(nr_bins), kde=False, axlabel=\"Age (months)\");"
   ]
  },
  {
   "cell_type": "markdown",
   "metadata": {},
   "source": [
    "The average cat is considered a kitten roughly until it reaches the age of 1 year old. The same goes for puppies. On the other hand, dogs and cats are considered Seniors roughly when they reach the age of 6 years. Of course, these are approximations, as the classification varies with the type of animal (cats or dogs), breed, size and many other factors.\n",
    "\n",
    "In this sense, we will consider these categories:\n",
    "* Baby - age 0-11 months => 0\n",
    "* Adult - age 12-71 months =>1\n",
    "* Senior - age 72-250 months =>2"
   ]
  },
  {
   "cell_type": "code",
   "execution_count": 7,
   "metadata": {},
   "outputs": [],
   "source": [
    "# Create new feature - AgeGroup\n",
    "AgeGroup = []\n",
    "for i in df[\"Age\"]:\n",
    "    if i<12:\n",
    "        AgeGroup.append(0)\n",
    "    elif i<72:\n",
    "        AgeGroup.append(1)\n",
    "    else:\n",
    "        AgeGroup.append(2)\n",
    "\n",
    "df_processed2 = df_processed1.copy()\n",
    "df_processed2.drop(\"Age\", axis=1, inplace = True)\n",
    "df_processed2.insert(2,\"AgeGroup\",AgeGroup) ##INSERT IN DATAFRAME"
   ]
  },
  {
   "cell_type": "code",
   "execution_count": null,
   "metadata": {},
   "outputs": [],
   "source": [
    "cat_distr_pairwise('AdoptionSpeed','AgeGroup', df_processed2, frel=True)"
   ]
  },
  {
   "cell_type": "markdown",
   "metadata": {},
   "source": [
    "The relative distribution of `AgeGroup` among `AdoptionSpeed` indicates that there seems to be no particular correlation between being younger and getting adopted earlier. Even without the dicretization we can observe the same phenomena: "
   ]
  },
  {
   "cell_type": "code",
   "execution_count": null,
   "metadata": {},
   "outputs": [],
   "source": [
    "plt.figure(figsize=(10,15))\n",
    "plt.ylim(0, 260)\n",
    "sns.boxplot(data = df, x='AdoptionSpeed', y='Age')"
   ]
  },
  {
   "cell_type": "markdown",
   "metadata": {},
   "source": [
    "### Breed1 and Breed2\n",
    "\n",
    "According to the breeds feature labels, dogs breeds go from 1 to 240, plus 307, and cats breeds go from 241 to 306. "
   ]
  },
  {
   "cell_type": "code",
   "execution_count": null,
   "metadata": {},
   "outputs": [],
   "source": [
    "bx1 = sns.catplot(x=\"Breed1\",data=df, kind='count',height=9, aspect=3)\n",
    "bx2 = sns.catplot(x=\"Breed2\",data=df, kind='count',height=9, aspect=3)"
   ]
  },
  {
   "cell_type": "markdown",
   "metadata": {},
   "source": [
    "Looking at our data, and according to the breeds feature labels, we found some cats with dogs breeds assigned to them (15, 21, 25, 70, 114, 205, 218, 307).\n",
    "Therefore, and given the distribution of pets by breeds in which some breeds are poorly representated perhaps a good idea should be grouping pets by pure-race/mixed-race."
   ]
  },
  {
   "cell_type": "code",
   "execution_count": 8,
   "metadata": {},
   "outputs": [],
   "source": [
    "#Creating new feature: Pure breed\n",
    "l3 =[]\n",
    "for i in range(len(df)):\n",
    "    if df['Breed1'][i]==307 or df['Breed2'][i]==307:\n",
    "        l3.append(0)\n",
    "    elif df['Breed1'][i]!=307 and df['Breed2'][i]==0:\n",
    "        l3.append(1)\n",
    "    elif df['Breed1'][i]==0 and df['Breed2'][i]!=307:\n",
    "        l3.append(1)\n",
    "    elif df['Breed1'][i]==df['Breed2'][i]:\n",
    "        l3.append(1)\n",
    "    else:\n",
    "        l3.append(0)\n",
    "        \n",
    "df_processed2.drop(\"Breed1\",axis=1,inplace=True)\n",
    "df_processed2.drop(\"Breed2\",axis=1,inplace=True) \n",
    "df_processed2.insert(3,'PureBreed',l3) ##INSERT IN DATAFRAME"
   ]
  },
  {
   "cell_type": "code",
   "execution_count": null,
   "metadata": {},
   "outputs": [],
   "source": [
    "cat_distr_pairwise('AdoptionSpeed','PureBreed', df_processed2, frel=True)"
   ]
  },
  {
   "cell_type": "markdown",
   "metadata": {},
   "source": [
    "From the plot and relative gain table we conclude that pure breed animals (1) tend to be adopted earlier, whereas mixed breed animals (0) are adopted later."
   ]
  },
  {
   "cell_type": "markdown",
   "metadata": {},
   "source": [
    "### Quantity\n",
    "\n",
    "Number of pets represented in profile"
   ]
  },
  {
   "cell_type": "code",
   "execution_count": null,
   "metadata": {},
   "outputs": [],
   "source": [
    "ax3 = sns.catplot(x='Quantity', data=df, kind='count')\n",
    "(ax3.set_axis_labels(\"Quantity\", \"Number of Pets\"))\n",
    "print('There are {} profiles with a single pet'.format((list(df['Quantity'])).count(1)))\n",
    "print('There are {} profiles with multiple pets'.format(len(df['Quantity'])-list(list(df['Quantity'])).count(1)))"
   ]
  },
  {
   "cell_type": "code",
   "execution_count": null,
   "metadata": {},
   "outputs": [],
   "source": [
    "ste = cat_distr_pairwise('AdoptionSpeed','Quantity', df, frel=True)"
   ]
  },
  {
   "cell_type": "markdown",
   "metadata": {},
   "source": [
    "The \"inf\" values on the table indicate that there are no examples of a pet with `AdoptionSpeed = 0` for that feature instance. Therefore, all positive relative gains are 'infinite'.\n",
    "\n",
    "We can conclude that adds containing more than 5 pets could be more likely to be ignored, since those pets are adopted after a long time."
   ]
  },
  {
   "cell_type": "markdown",
   "metadata": {},
   "source": [
    "### Fee\n",
    "\n",
    "After observing the fees' distribution we considered 4 categories: \n",
    "* Free => 0\n",
    "* Tens => 1\n",
    "* Hundreds => 2\n",
    "* Thousands => 3\n"
   ]
  },
  {
   "cell_type": "code",
   "execution_count": 9,
   "metadata": {},
   "outputs": [],
   "source": [
    "f=[]\n",
    "for i in df[\"Fee\"]:\n",
    "    if i==0:\n",
    "        f.append(0)\n",
    "    elif i<100:\n",
    "        f.append(1)\n",
    "    elif i<1000:\n",
    "        f.append(2)\n",
    "    else:\n",
    "        f.append(3)\n",
    "\n",
    "df_processed2.drop(\"Fee\",axis=1,inplace=True) \n",
    "df_processed2.insert(4,'Free',f) ##INSERT IN DATAFRAME"
   ]
  },
  {
   "cell_type": "code",
   "execution_count": null,
   "metadata": {},
   "outputs": [],
   "source": [
    "fee = cat_distr_pairwise('AdoptionSpeed','Free', df_processed2, frel=True)"
   ]
  },
  {
   "cell_type": "markdown",
   "metadata": {},
   "source": [
    "It seems that pets with fees in the order of the thousands are less likely to be adopted fast."
   ]
  },
  {
   "cell_type": "markdown",
   "metadata": {},
   "source": [
    "### RescuerID\n",
    "\n",
    "In order to extract some meaning from the `RescuerID`, we decided to create a new feature `FrequentRescuer` which indicates whether it is frequent for rescuers to save and advertise pets. After visiting *www.PetFinder.my*, we noticed pet profiles include links to other profiles by the same rescuer. In this way, it is plausible that users, while browsing the website, will look at related profiles more often than profiles by different users, thereby influencing adoption rates."
   ]
  },
  {
   "cell_type": "code",
   "execution_count": 10,
   "metadata": {},
   "outputs": [
    {
     "name": "stdout",
     "output_type": "stream",
     "text": [
      "There are 5595 total rescuers in the dataset\n",
      "There are 3783 rescuers with only 1 webpage entry in the dataset\n",
      "There are 1812 rescuers with more than 1 webpage entry in the dataset\n"
     ]
    },
    {
     "data": {
      "text/plain": [
       "<seaborn.axisgrid.FacetGrid at 0x1a201e9f90>"
      ]
     },
     "execution_count": 10,
     "metadata": {},
     "output_type": "execute_result"
    },
    {
     "data": {
      "image/png": "[encoded data removed]",
      "text/plain": [
       "<Figure size 1080x360 with 1 Axes>"
      ]
     },
     "metadata": {},
     "output_type": "display_data"
    }
   ],
   "source": [
    "x = list(df['RescuerID'].unique())\n",
    "y = list(df['RescuerID'])\n",
    "z = []\n",
    "t = {}\n",
    "for i in x:\n",
    "    z.append(y.count(i))\n",
    "\n",
    "t['Rescuer'] = x\n",
    "t['entries'] = z\n",
    "\n",
    "e = pd.DataFrame(t)\n",
    "print('There are {} total rescuers in the dataset'.format(len(x)))\n",
    "print('There are {} rescuers with only 1 webpage entry in the dataset'.format(z.count(1)))\n",
    "print('There are {} rescuers with more than 1 webpage entry in the dataset'.format(len(x)-(z.count(1))))\n",
    "ax11 = sns.catplot(x='entries', data=e, kind='count', height=5, aspect=3)\n",
    "(ax11.set_axis_labels(\"Web page entries\", \"Number of Rescuers\")\n",
    "    .set_titles(\"{col_name} {col_var}\")\n",
    "    .despine(left=True))  "
   ]
  },
  {
   "cell_type": "markdown",
   "metadata": {},
   "source": [
    "According to the dataset, the number of rescuers with a single entry in the PetFinder webpage is greater than the number of rescuers who save and advertise more than 1 pet. This information could be useful on later anaylsis to discover whether the number of webpage profile entries associated with a rescuer has any effect in pet adoption/adoption speed.\n",
    "\n",
    "An important aspect of this analysis is that, given we have access to around ~10% of the global dataset, it is possible that many ID's described as non-frequent may be mislabeled (if other instances of the ID are present in the remaining ~90% of data)."
   ]
  },
  {
   "cell_type": "code",
   "execution_count": 11,
   "metadata": {},
   "outputs": [],
   "source": [
    "#CREATE NEW FEATURE FREQUENTRESCUER\n",
    "\n",
    "lista2 = []\n",
    "y = list(df['RescuerID'])\n",
    "for i in df['RescuerID']:\n",
    "      if y.count(i)>1:\n",
    "          lista2.append(float(1))\n",
    "      else:\n",
    "          lista2.append(float(0))\n",
    "          \n",
    "df_processed1.insert((df.columns.get_loc(\"RescuerID\"))+1,'FrequentRescuer',lista2) ##INSERT IN DATAFRAME\n",
    "df_processed1.drop(\"RescuerID\", axis=1, inplace=True)\n",
    "\n",
    "df_processed2.insert((df.columns.get_loc(\"RescuerID\"))+1,'FrequentRescuer',lista2) ##INSERT IN DATAFRAME\n",
    "df_processed2.drop(\"RescuerID\", axis=1, inplace=True)"
   ]
  },
  {
   "cell_type": "markdown",
   "metadata": {},
   "source": [
    "### VideoAmt"
   ]
  },
  {
   "cell_type": "code",
   "execution_count": null,
   "metadata": {},
   "outputs": [],
   "source": [
    "ax2 = sns.catplot(x='VideoAmt', data=df, kind='count')\n",
    "(ax2.set_axis_labels(\"Video Amount\", \"Number of Pets\"))\n",
    "print('There are {} profiles with 0 videos'.format((list(df['VideoAmt'])).count(0)))\n",
    "print('There are {} profiles with more than 0 videos'.format(len(df['VideoAmt'])-list(list(df['VideoAmt'])).count(0)))"
   ]
  },
  {
   "cell_type": "markdown",
   "metadata": {},
   "source": [
    "Given the distribution of pets, we will consider this feature as binary: has Video (1) or does not have Video (0)."
   ]
  },
  {
   "cell_type": "code",
   "execution_count": 12,
   "metadata": {},
   "outputs": [],
   "source": [
    "hasVideo=[]\n",
    "\n",
    "for v in df['VideoAmt']:\n",
    "    if v==0:\n",
    "        hasVideo.append(0)\n",
    "    else:\n",
    "        hasVideo.append(1)\n",
    "        \n",
    "df_processed2.drop(\"VideoAmt\", axis=1,inplace=True)\n",
    "df_processed2.insert(5,\"hasVideo\",hasVideo) ##INSERT IN DATAFRAME"
   ]
  },
  {
   "cell_type": "markdown",
   "metadata": {},
   "source": [
    "### Description\n",
    "\n",
    "In order to extract some meaning from the `Description`, we decided, as a first approach, to partition this continuous feature into discrete values.\n",
    "\n",
    "Since empty descriptions (`size=0`) probably have a direct influence in the adoption choice, it should be a category of its own. For that reason, we exclude empty descriptions from the discretization process.\n",
    "\n",
    "We consider that the discretization of the 'description sizes' based on the quantiles strategy is appropriate, since it is plausible to say that the ad writers define what a 'medium'-sized description is. In that sense, a 'medium'-sized description would have the average word count. Analogously, the smallest and largest descriptions would correspond to the first and third quantiles."
   ]
  },
  {
   "cell_type": "code",
   "execution_count": 13,
   "metadata": {},
   "outputs": [
    {
     "name": "stdout",
     "output_type": "stream",
     "text": [
      "The average descripton size: 62.953645034349364\n",
      "According to this discretization, the bin edges should be:\n",
      "[array([   0.,   28.,   65., 1257.])]\n"
     ]
    },
    {
     "data": {
      "image/png": "[encoded data removed]",
      "text/plain": [
       "<Figure size 1080x360 with 1 Axes>"
      ]
     },
     "metadata": {},
     "output_type": "display_data"
    }
   ],
   "source": [
    "import matplotlib.pyplot as plt\n",
    "import math\n",
    "from sklearn import preprocessing\n",
    "import statistics \n",
    "\n",
    "l=[]\n",
    "\n",
    "# List descriptions' lengths (i.e. number of char)\n",
    "for i in df['Description']:\n",
    "    if type(i)!=str: # Some empty descriptions are type:float\n",
    "        l.append(0)\n",
    "    else:\n",
    "        l.append(len(i.split()))\n",
    "\n",
    "mean = statistics.mean(l)\n",
    "print(\"The average descripton size:\" , mean)\n",
    "\n",
    "# Histogram\n",
    "a1 = np.asarray(l)\n",
    "nr_bins = 1 + 3.322*math.log(len(l),2) # Number of bins according to Sturges rule\n",
    "a1 = pd.Series(a1)\n",
    "a1.plot.hist(grid=True, bins = round(nr_bins), rwidth=0.9, color='#607c8e')\n",
    "plt.title('Description size distribution')\n",
    "plt.xlabel('Description size (# words)')\n",
    "plt.ylabel('Counts')\n",
    "plt.grid(axis='y', alpha=0.75)\n",
    "plt.xlim([0.0,1300])\n",
    "\n",
    "# Discretization by quantile strategy:\n",
    "a2 = np.asarray(l).reshape(-1,1) # Reshape data since we are working with just one feature\n",
    "est = preprocessing.KBinsDiscretizer(n_bins=[3],encode='ordinal', strategy='quantile').fit(a2)\n",
    "decp = est.transform(a2)\n",
    "\n",
    "print(\"According to this discretization, the bin edges should be:\")\n",
    "print(est.bin_edges_) # how the data is distributed in the four bins"
   ]
  },
  {
   "cell_type": "markdown",
   "metadata": {},
   "source": [
    "Based on these results, we present a new feature 'DescriptionSize' whose possible values include:\n",
    "* `Empty` for descriptions containing 0 words => 0\n",
    "* `Small` for descriptions containing 1-28 words => 1\n",
    "* `Medium` for descriptions containing 29-65 words => 2\n",
    "* `Large` for descriptions containing 66-1257 words => 3"
   ]
  },
  {
   "cell_type": "code",
   "execution_count": 14,
   "metadata": {},
   "outputs": [],
   "source": [
    "#Create new feature 'Description size'\n",
    "d = []\n",
    "\n",
    "for i in df['Description']:\n",
    "    if type(i)!=str: # Some empty descriptions are type:float\n",
    "        d.append(0)\n",
    "    else:\n",
    "        a= len(i.split())\n",
    "        if a<29:\n",
    "            d.append(1)\n",
    "        elif a<66:\n",
    "            d.append(2)\n",
    "        else:\n",
    "            d.append(3)    \n",
    "            \n",
    "df_processed1.drop(\"Description\", axis=1, inplace=True)\n",
    "df_processed1.insert(6,\"DescriptionSize\",l) ##INSERT IN DATAFRAME\n",
    "\n",
    "df_processed2.drop(\"Description\", axis=1, inplace=True)\n",
    "df_processed2.insert(6,\"DescriptionSize\",d) ##INSERT IN DATAFRAME"
   ]
  },
  {
   "cell_type": "markdown",
   "metadata": {},
   "source": [
    "### Other conclusions\n",
    "* Pets with maturity size `Small` (1) and `Extra Large`(4) are less likely to be in the adoption centre for a very long time (-45.0552% and -97.3772 of pets at `AdoptionSpeed = 4` relatively to `AdoptionSpeed = 1`, respectively). \n",
    "* Pets with long fur (3) very rarely stay at the adoption centre for a long time (-116.814% of pets at `AdoptionSpeed = 4` relatively to `AdoptionSpeed = 1`).\n",
    "* Sterilized pets tend to be adopted later (+82.13% of pets at `AdoptionSpeed = 4` relatively to `AdoptionSpeed = 1`).\n",
    "* Pets with serious injuries (`Health = 3`) are very more likely to be adopted after a long time, or not adopted at all (+182.091% of pets at `AdoptionSpeed = 4` relatively to `AdoptionSpeed = 1`). \n",
    "* No pets were adopted in the same day having the add not provide a description!\n",
    "* There was no clear evidence that the distribution of the features values among `AdoptionSpeed` classes was biased for features `Gender`, `Vaccinated`, `Dewormed`, `State`, `FrequentRescuer`."
   ]
  },
  {
   "cell_type": "markdown",
   "metadata": {},
   "source": [
    "## Task 1 (Supervised Learning) - Predicting Adoption and Adoption Speed"
   ]
  },
  {
   "cell_type": "markdown",
   "metadata": {},
   "source": [
    "## 1.1. Preprocessing Data for Classification"
   ]
  },
  {
   "cell_type": "markdown",
   "metadata": {},
   "source": [
    "During our EDA we already preprocessed some of the features, for data visualization purposes. The result are two datasets:\n",
    "* **df_processed1**: which we will use to benchmark the models' performance without the discretization of features discussed earlier, since they can remove the fine grain information that might be beneficial to the learning proccess. Some data cleaning was done, namely in features `PetID`, `Name`, `RescuerID` and `DescriptionSize` (in words, instead of text `Description`).\n",
    "\n",
    "* **df_processed2**: which is the data set with the derived features and data cleaning. We will see if the dicretization will be helpful for the models or not."
   ]
  },
  {
   "cell_type": "markdown",
   "metadata": {},
   "source": [
    "### Features impact\n",
    "\n",
    "Now that we have preprocessed our features, one way to determine the impact of each one on prediction models is to apply a random forest. Based on that information, we will  discard some features that have low impact and are probably causing noise.\n",
    "\n",
    "Bellow we have a function that will apply a random forest model to any data set.\n",
    "Code obtained from: <https://towardsdatascience.com/running-random-forests-inspect-the-feature-importances-with-this-code-2b00dd72b92e>\n",
    "\n",
    "Random forest algorithms seek to maximise impurity decreases from node to node in each tree. Features are considered more important the more they decrease impurity in datasets amongst the entire random tree population that was generated."
   ]
  },
  {
   "cell_type": "code",
   "execution_count": 15,
   "metadata": {},
   "outputs": [],
   "source": [
    "def random_forest(df_x, df_y, test_size):\n",
    "    X_train, X_test, y_train, y_test = train_test_split(df_x, df_y, test_size=test_size, random_state=12)\n",
    "    rf = RandomForestClassifier() \n",
    "    rf.fit(X_train, y_train) \n",
    "    score = rf.score(X_test, y_test)\n",
    "    feature_importance = pd.DataFrame(rf.feature_importances_, index = df_x.columns, columns=['importance']).sort_values('importance',ascending=False).reset_index().rename(columns = {'index':'column'})\n",
    "    return score, feature_importance"
   ]
  },
  {
   "cell_type": "markdown",
   "metadata": {},
   "source": [
    "#### Original features importance (df_processed1)"
   ]
  },
  {
   "cell_type": "code",
   "execution_count": 16,
   "metadata": {
    "scrolled": true
   },
   "outputs": [
    {
     "name": "stderr",
     "output_type": "stream",
     "text": [
      "/Users/air/anaconda3/lib/python3.7/site-packages/sklearn/ensemble/forest.py:245: FutureWarning: The default value of n_estimators will change from 10 in version 0.20 to 100 in 0.22.\n",
      "  \"10 in version 0.20 to 100 in 0.22.\", FutureWarning)\n"
     ]
    },
    {
     "name": "stdout",
     "output_type": "stream",
     "text": [
      "Score:  0.3687895965321774\n",
      "             column  importance\n",
      "0   DescriptionSize    0.157876\n",
      "1               Age    0.106214\n",
      "2          PhotoAmt    0.098852\n",
      "3            Color2    0.064265\n",
      "4            Breed1    0.063187\n",
      "5            Color1    0.060539\n",
      "6             State    0.049873\n",
      "7            Breed2    0.044285\n",
      "8            Gender    0.038926\n",
      "9         FurLength    0.035579\n",
      "10     MaturitySize    0.033582\n",
      "11         Quantity    0.033392\n",
      "12              Fee    0.032417\n",
      "13           Color3    0.030186\n",
      "14       Vaccinated    0.029492\n",
      "15       Sterilized    0.027633\n",
      "16         Dewormed    0.027467\n",
      "17  FrequentRescuer    0.021656\n",
      "18          hasName    0.016351\n",
      "19             Type    0.010763\n",
      "20         VideoAmt    0.009512\n",
      "21           Health    0.007952\n"
     ]
    }
   ],
   "source": [
    "score1, feature_importances1 = random_forest(\n",
    "    df_processed1[df_processed1.columns.difference(['AdoptionSpeed'])],\n",
    "    df_processed1['AdoptionSpeed'],\n",
    "    0.2)\n",
    "print(\"Score: \",score1)\n",
    "print(feature_importances1)"
   ]
  },
  {
   "cell_type": "markdown",
   "metadata": {},
   "source": [
    "According to our exploratory analysis, the feature `DescriptionSize` was expected to have high impact, since we found that no pets lacking a Description were adopted on the same day. Additionally, `hasName`, `Vaccinated`, `FrequentRescuer`, `Dewormed` were expected to have a low impact, which is concordant to the random forest results.\n",
    "\n",
    "On the other hand, our exploratory analysis defined that `Quantity` and `Fee` would be discriminatory features, whereas `Age` wouldn't. The random forest results show that those features' impact is not as expected."
   ]
  },
  {
   "cell_type": "markdown",
   "metadata": {},
   "source": [
    "#### Extracted features importance (df_processed2)"
   ]
  },
  {
   "cell_type": "code",
   "execution_count": 17,
   "metadata": {
    "scrolled": true
   },
   "outputs": [
    {
     "name": "stderr",
     "output_type": "stream",
     "text": [
      "/Users/air/anaconda3/lib/python3.7/site-packages/sklearn/ensemble/forest.py:245: FutureWarning: The default value of n_estimators will change from 10 in version 0.20 to 100 in 0.22.\n",
      "  \"10 in version 0.20 to 100 in 0.22.\", FutureWarning)\n"
     ]
    },
    {
     "name": "stdout",
     "output_type": "stream",
     "text": [
      "Score:  0.3567855951983995\n",
      "             column  importance\n",
      "0          PhotoAmt    0.154515\n",
      "1            Color2    0.091672\n",
      "2            Color1    0.090944\n",
      "3             State    0.077082\n",
      "4   DescriptionSize    0.068832\n",
      "5         FurLength    0.051298\n",
      "6      MaturitySize    0.047519\n",
      "7            Gender    0.046751\n",
      "8            Color3    0.045368\n",
      "9          Quantity    0.044773\n",
      "10         Dewormed    0.042706\n",
      "11       Vaccinated    0.038364\n",
      "12             Free    0.035534\n",
      "13       Sterilized    0.030739\n",
      "14         AgeGroup    0.026929\n",
      "15  FrequentRescuer    0.024596\n",
      "16          hasName    0.022905\n",
      "17        PureBreed    0.020036\n",
      "18             Type    0.016041\n",
      "19         hasVideo    0.012041\n",
      "20           Health    0.011355\n"
     ]
    }
   ],
   "source": [
    "score2, feature_importances2 = random_forest(\n",
    "    df_processed2[df_processed2.columns.difference(['AdoptionSpeed'])], \n",
    "    df_processed2['AdoptionSpeed'],\n",
    "    0.2)\n",
    "\n",
    "print(\"Score: \",score2) \n",
    "print(feature_importances2)"
   ]
  },
  {
   "cell_type": "markdown",
   "metadata": {},
   "source": [
    "We conclude that, after the features' extraction, some features are actually contributing less to the model then they were before:\n",
    "* `DescriptionSize` in bins ( vs `DescriptionSize` in number of words)\n",
    "* `AgeGroup` ( vs `Age`)\n",
    "* `PureBreed` ( vs `Breed1`, `Breed2`)\n",
    "\n",
    "We will go back to the original features in respect to the classification analysis.\n",
    "Some features are doing slightly better/did not get worse so we will keep the changes:\n",
    "* `hasVideo` (`VideoAmt`)\n",
    "* `Free` (`Fee`)"
   ]
  },
  {
   "cell_type": "code",
   "execution_count": 18,
   "metadata": {},
   "outputs": [],
   "source": [
    "#APPLY CHANGES TO DATASET - REVERT TO ORIGINAL FEATURES\n",
    "#Description\n",
    "df_processed2.drop(\"DescriptionSize\", axis=1, inplace=True)\n",
    "df_processed2.insert(6,\"DescriptionSize\",df_processed1['DescriptionSize'])\n",
    "\n",
    "#AgeGroup\n",
    "df_processed2.drop(\"AgeGroup\", axis=1, inplace = True)\n",
    "df_processed2.insert(2,\"Age\",df_processed1['Age'])\n",
    "\n",
    "#PureBreed\n",
    "df_processed2.drop(\"PureBreed\", axis=1, inplace=True)\n",
    "df_processed2.insert(6,\"Breed1\",df_processed1['Breed1'])\n",
    "df_processed2.insert(6,\"Breed2\",df_processed1['Breed2'])"
   ]
  },
  {
   "cell_type": "markdown",
   "metadata": {},
   "source": [
    "### Data imbalance\n",
    "\n",
    "As we explained in the beggining there is a clear imbalance in the number of examples:\n",
    "- Binary classification: the number of examples of `AdoptionSpeed < 4` (*Adopted*) is much greater than the number of examples for `AdoptionSpeed = 4` (*Not Adopted*).\n",
    "- Multiclass classification: the number of examples of `AdoptionSpeed = 0` is much smaller than the rest of the target classes.\n",
    "\n",
    "Since we are working with such a small dataset, we cannot spare any examples, and we will resort to random oversampling to balance our data."
   ]
  },
  {
   "cell_type": "markdown",
   "metadata": {},
   "source": [
    "#### Binary Classification - Random Oversampling"
   ]
  },
  {
   "cell_type": "code",
   "execution_count": 19,
   "metadata": {},
   "outputs": [],
   "source": [
    "#ADAPT TARGET COLUMN FOR BINARY CLASSIFICATION\n",
    "df_processed2_b = df_processed2.copy()\n",
    "df_processed2_b = df_processed2_b.rename(columns={'AdoptionSpeed': 'Adoption'})\n",
    "df_processed2_b = df_processed2_b.replace({'Adoption':[0,2,3]},1)\n",
    "df_processed2_b = df_processed2_b.replace({'Adoption':4},0)"
   ]
  },
  {
   "cell_type": "code",
   "execution_count": 20,
   "metadata": {},
   "outputs": [],
   "source": [
    "#RANDOM OVERSAMPLING\n",
    "ros_b = RandomOverSampler(sampling_strategy='minority',random_state=42) #create oversampling class\n",
    "X_ros_b, y_ros_b = ros_b.fit_resample(df_processed2_b.iloc[:,:-1], df_processed2_b['Adoption']) #resample the oversampled dataset\n",
    "\n",
    "# y_ros_b is a np array in some versions and a pd dataframe/series in others \n",
    "# An object-type check must be applied in order to further proccess the data\n",
    "\n",
    "if ( isinstance(y_ros_b, pd.DataFrame) or isinstance(y_ros_b, pd.Series) ):\n",
    "    df_processed2_b_balanced = X_ros_b.join(y_ros_b)\n",
    "    \n",
    "else:\n",
    "    y_ros_b.shape = (21592,1) #reshape array for concatenation\n",
    "    np_processed2_b_balanced = np.concatenate((X_ros_b, y_ros_b), axis=1) #save new data\n",
    "    df_processed2_b_balanced = pd.DataFrame(data=np_processed2_b_balanced, columns=df_processed2_b.columns)"
   ]
  },
  {
   "cell_type": "code",
   "execution_count": null,
   "metadata": {},
   "outputs": [],
   "source": [
    "ax = sns.catplot(x=\"Adoption\",data=df_processed2_b_balanced, kind='count')\n",
    "(ax.set_axis_labels(\"Adoption\", \"Number of Pets\"))"
   ]
  },
  {
   "cell_type": "markdown",
   "metadata": {},
   "source": [
    "We can see that the oversampling was successful because we now have the same number of examples for adopted and not adopted pets, with a total of 21592 examples.\n",
    "\n",
    "We will be using `df_processed2_b_balanced` as the **balanced, binary task general dataset**."
   ]
  },
  {
   "cell_type": "markdown",
   "metadata": {},
   "source": [
    "#### Multiclass classification - Random Over-Sampling"
   ]
  },
  {
   "cell_type": "markdown",
   "metadata": {},
   "source": [
    "We can see that the oversampling was successful because we now have the same number of examples for all `AdoptionSpeed`, with a total of 20985 examples."
   ]
  },
  {
   "cell_type": "code",
   "execution_count": 21,
   "metadata": {},
   "outputs": [],
   "source": [
    "#RANDOM OVERSAMPLING\n",
    "df_processed2_m = df_processed2.copy()\n",
    "ros_m = RandomOverSampler(random_state=42)\n",
    "X_ros_m, y_ros_m = ros_m.fit_resample(df_processed2_m.iloc[:,:-1], df_processed2_m['AdoptionSpeed'])\n",
    "\n",
    "# y_ros_b is a np array in some versions and a pd dataframe in others. \n",
    "# An object-type check must be applied in order to further proccess the data\n",
    "\n",
    "if ( isinstance(y_ros_b, pd.DataFrame) or isinstance(y_ros_b, pd.Series) ):\n",
    "    df_processed2_m_balanced = X_ros_m.join(y_ros_m)\n",
    "    \n",
    "else:\n",
    "    y_ros_m.shape = (20985,1) #reshape array for concatenation\n",
    "    np_processed2_m_balanced = np.concatenate((X_ros_m, y_ros_m), axis=1) #save new data\n",
    "    df_processed2_m_balanced = pd.DataFrame(data=np_processed2_m_balanced, columns=df_processed2_m.columns)"
   ]
  },
  {
   "cell_type": "code",
   "execution_count": 22,
   "metadata": {},
   "outputs": [
    {
     "data": {
      "image/png": "[encoded data removed]",
      "text/plain": [
       "<Figure size 360x360 with 1 Axes>"
      ]
     },
     "metadata": {},
     "output_type": "display_data"
    }
   ],
   "source": [
    "ax = sns.catplot(x=\"AdoptionSpeed\",data=df_processed2_m_balanced, kind='count')"
   ]
  },
  {
   "cell_type": "markdown",
   "metadata": {},
   "source": [
    "##### Dogs and Cats - preprocessing"
   ]
  },
  {
   "cell_type": "code",
   "execution_count": 23,
   "metadata": {},
   "outputs": [],
   "source": [
    "# DOGS BINARY CLASSIFICATION\n",
    "df_processed2_b_balanced_dogs = df_processed2_b_balanced.copy()\n",
    "df_processed2_b_balanced_dogs = df_processed2_b_balanced_dogs[df_processed2_b_balanced_dogs['Type']==1]\n",
    "\n",
    "# DOGS MULTICLASS CLASSIFICATION\n",
    "df_processed2_m_balanced_dogs = df_processed2_m_balanced.copy()\n",
    "df_processed2_m_balanced_dogs = df_processed2_m_balanced_dogs[df_processed2_m_balanced_dogs['Type']==1]\n",
    "\n",
    "# CATS BINARY CLASSIFICATION\n",
    "df_processed2_b_balanced_cats = df_processed2_b_balanced.copy()\n",
    "df_processed2_b_balanced_cats = df_processed2_b_balanced_cats[df_processed2_b_balanced_cats['Type']==2]\n",
    "\n",
    "# CATS MULTICLASS CLASSIFICATION\n",
    "df_processed2_m_balanced_cats = df_processed2_m_balanced.copy()\n",
    "df_processed2_m_balanced_cats = df_processed2_m_balanced_cats[df_processed2_m_balanced_cats['Type']==2]"
   ]
  },
  {
   "cell_type": "markdown",
   "metadata": {},
   "source": [
    "### Feature encoding"
   ]
  },
  {
   "cell_type": "markdown",
   "metadata": {},
   "source": [
    "Data encoding is a necessary step for categorical features. Our machine learning algorithms must receive numerical inputs, and as such, data organised in categories must be converted appropriately. We observe two distinct types of categorical features in our dataset:\n",
    "\n",
    "1) ordinal categorical data, that is, data organised in classes which have a natural order to them;\n",
    "\n",
    "2) nominal categorical data, that is, data organised in classes which are distinct and unordered.\n",
    "\n",
    "Of the first kind, we observe features such as `MaturitySize`, `FurLength` and `Health`. These benefit from label encoding, also known as ordinal encoding, which converts each class to a numerical value that preserves the order in the category. However, the existence of a default value `0` for unspecified fields makes analysis of these features easier if considering them nominal data.\n",
    "\n",
    "The remaining categorical features fit the second type. For these, one hot encoding is a good option. With this method, each class in the category becomes its own binary feature (it either exists or it doesn't in each data entry), therefore eliminating any underlying assumptions of order or distance between classes. This method tends to lose usefulness in cases of high cardinality features; tree-based models are more prone to overfit, as nodes will split in many possible values for each class in each category."
   ]
  },
  {
   "cell_type": "code",
   "execution_count": 24,
   "metadata": {},
   "outputs": [],
   "source": [
    "# This function allows the encoding of the features of a given dataset\n",
    "# Inputs: \n",
    "  # df: the dataframe we want to enconde\n",
    "  # enc_features: list of features we want to encode\n",
    "  # nonenc_features: list of features we don't want to encode\n",
    "# Output: encoded dataset\n",
    "\n",
    "def encode(df, enc_features, nonenc_features, binary):\n",
    "    encoder = OneHotEncoder()\n",
    "    df_encoded = encoder.fit_transform(df[enc_features]).toarray()\n",
    "    column_name = encoder.get_feature_names(enc_features)\n",
    "    df_result =  pd.DataFrame(df_encoded, columns= column_name)\n",
    "    \n",
    "    # INSERT THE PETID AS INDEX\n",
    "    df_result.insert(0,'PetID',df.index.tolist())\n",
    "    df_result.set_index(\"PetID\", inplace=True) # change index to PetId\n",
    "    \n",
    "    # INSERT THE NON ENCODED FEATURES IN THE DATAFRAME AGAIN\n",
    "    count=2\n",
    "    for i in nonenc_features:\n",
    "        df_result.insert(count,i,df[i]) \n",
    "        count+=1\n",
    "        \n",
    "    # INSERT THE TARGET CLASS\n",
    "    if binary:\n",
    "        df_result.insert((len(df_result.columns)),'Adoption',df['Adoption']) ## Adoption (binary)\n",
    "    else:\n",
    "        df_result.insert((len(df_result.columns)),'AdoptionSpeed',df['AdoptionSpeed']) ## AdoptionSpeed\n",
    "    \n",
    "    return df_result"
   ]
  },
  {
   "cell_type": "code",
   "execution_count": 25,
   "metadata": {},
   "outputs": [
    {
     "name": "stderr",
     "output_type": "stream",
     "text": [
      "/Users/air/anaconda3/lib/python3.7/site-packages/sklearn/preprocessing/_encoders.py:415: FutureWarning: The handling of integer data will change in version 0.22. Currently, the categories are determined based on the range [0, max(values)], while in the future they will be determined based on the unique values.\n",
      "If you want the future behaviour and silence this warning, you can specify \"categories='auto'\".\n",
      "In case you used a LabelEncoder before this OneHotEncoder to convert the categories to integers, then you can now use the OneHotEncoder directly.\n",
      "  warnings.warn(msg, FutureWarning)\n",
      "/Users/air/anaconda3/lib/python3.7/site-packages/sklearn/preprocessing/_encoders.py:415: FutureWarning: The handling of integer data will change in version 0.22. Currently, the categories are determined based on the range [0, max(values)], while in the future they will be determined based on the unique values.\n",
      "If you want the future behaviour and silence this warning, you can specify \"categories='auto'\".\n",
      "In case you used a LabelEncoder before this OneHotEncoder to convert the categories to integers, then you can now use the OneHotEncoder directly.\n",
      "  warnings.warn(msg, FutureWarning)\n",
      "/Users/air/anaconda3/lib/python3.7/site-packages/sklearn/preprocessing/_encoders.py:415: FutureWarning: The handling of integer data will change in version 0.22. Currently, the categories are determined based on the range [0, max(values)], while in the future they will be determined based on the unique values.\n",
      "If you want the future behaviour and silence this warning, you can specify \"categories='auto'\".\n",
      "In case you used a LabelEncoder before this OneHotEncoder to convert the categories to integers, then you can now use the OneHotEncoder directly.\n",
      "  warnings.warn(msg, FutureWarning)\n",
      "/Users/air/anaconda3/lib/python3.7/site-packages/sklearn/preprocessing/_encoders.py:415: FutureWarning: The handling of integer data will change in version 0.22. Currently, the categories are determined based on the range [0, max(values)], while in the future they will be determined based on the unique values.\n",
      "If you want the future behaviour and silence this warning, you can specify \"categories='auto'\".\n",
      "In case you used a LabelEncoder before this OneHotEncoder to convert the categories to integers, then you can now use the OneHotEncoder directly.\n",
      "  warnings.warn(msg, FutureWarning)\n",
      "/Users/air/anaconda3/lib/python3.7/site-packages/sklearn/preprocessing/_encoders.py:415: FutureWarning: The handling of integer data will change in version 0.22. Currently, the categories are determined based on the range [0, max(values)], while in the future they will be determined based on the unique values.\n",
      "If you want the future behaviour and silence this warning, you can specify \"categories='auto'\".\n",
      "In case you used a LabelEncoder before this OneHotEncoder to convert the categories to integers, then you can now use the OneHotEncoder directly.\n",
      "  warnings.warn(msg, FutureWarning)\n",
      "/Users/air/anaconda3/lib/python3.7/site-packages/sklearn/preprocessing/_encoders.py:415: FutureWarning: The handling of integer data will change in version 0.22. Currently, the categories are determined based on the range [0, max(values)], while in the future they will be determined based on the unique values.\n",
      "If you want the future behaviour and silence this warning, you can specify \"categories='auto'\".\n",
      "In case you used a LabelEncoder before this OneHotEncoder to convert the categories to integers, then you can now use the OneHotEncoder directly.\n",
      "  warnings.warn(msg, FutureWarning)\n",
      "/Users/air/anaconda3/lib/python3.7/site-packages/sklearn/preprocessing/_encoders.py:415: FutureWarning: The handling of integer data will change in version 0.22. Currently, the categories are determined based on the range [0, max(values)], while in the future they will be determined based on the unique values.\n",
      "If you want the future behaviour and silence this warning, you can specify \"categories='auto'\".\n",
      "In case you used a LabelEncoder before this OneHotEncoder to convert the categories to integers, then you can now use the OneHotEncoder directly.\n",
      "  warnings.warn(msg, FutureWarning)\n"
     ]
    }
   ],
   "source": [
    "### ENCODING FEATURES\n",
    "\n",
    "#df_processed1\n",
    "enc_features1 = ['Type','Breed1','Breed2','Gender','Color1','Color2','Color3','MaturitySize','FurLength','Vaccinated','Dewormed','Sterilized','Health','State']\n",
    "nenc_features1 = ['hasName','Age','DescriptionSize','Quantity','Fee','FrequentRescuer','VideoAmt','PhotoAmt']\n",
    "df_processed1_encoded = encode(df_processed1, enc_features1, nenc_features1, False)\n",
    "df_processed1_encoded.to_csv(r'C:\\Users\\david\\Documents\\GitHub\\Machine-Learning-2019\\df_processed1_m_encoded.csv', index_label='PetID')\n",
    "\n",
    "#df_processed2_b_balanced\n",
    "nenc_features2 = ['hasName','Age','DescriptionSize','Quantity','Free','FrequentRescuer','hasVideo','PhotoAmt']\n",
    "df_processed2_b_balanced_encoded = encode(df_processed2_b_balanced, enc_features1, nenc_features2, True)\n",
    "df_processed2_b_balanced_encoded.to_csv(r'C:\\Users\\david\\Documents\\GitHub\\Machine-Learning-2019\\df_processed2_b_balanced_encoded.csv', index_label='PetID')\n",
    "\n",
    "#df_processed2_m_balanced\n",
    "df_processed2_m_balanced_encoded = encode(df_processed2_m_balanced, enc_features1, nenc_features2, False)\n",
    "df_processed2_m_balanced_encoded.to_csv(r'C:\\Users\\david\\Documents\\GitHub\\Machine-Learning-2019\\df_processed2_m_balanced_encoded.csv', index_label='PetID')\n",
    "\n",
    "#df_processed2_b_balanced_dogs\n",
    "enc_features2 = ['Breed1','Breed2','Gender','Color1','Color2','Color3','MaturitySize','FurLength','Vaccinated','Dewormed','Sterilized','Health','State']\n",
    "df_processed2_b_balanced_dogs_encoded = encode(df_processed2_b_balanced_dogs, enc_features2, nenc_features2, True)\n",
    "\n",
    "#df_processed2_b_balanced_cats\n",
    "df_processed2_b_balanced_cats_encoded = encode(df_processed2_b_balanced_cats, enc_features2, nenc_features2, True)\n",
    "\n",
    "#df_processed2_m_balanced_dogs\n",
    "df_processed2_m_balanced_dogs_encoded = encode(df_processed2_m_balanced_dogs, enc_features2, nenc_features2, False)\n",
    "\n",
    "#df_processed2_m_balanced_cats\n",
    "df_processed2_m_balanced_cats_encoded = encode(df_processed2_m_balanced_cats, enc_features2, nenc_features2, False)"
   ]
  },
  {
   "cell_type": "markdown",
   "metadata": {},
   "source": [
    "### Pre-processing: final dataset\n",
    "We have the following dataframes to feed the classifiers in the following phase:\n",
    "* Binary task: `df_processed2_b_balanced_encoded`\n",
    "* Multiclass task: `df_processed2_m_balanced_encoded`\n",
    "* Dogs binary task: `df_processed2_b_dogs_encoded`\n",
    "* Dogs multiclass task: `df_processed2_m_dogs_encoded`\n",
    "* Cats binary task: `df_processed2_b_cats_encoded`\n",
    "* Cats multiclass task: `df_processed2_m_cats_encoded`\n",
    "\n",
    "Remember the (non-encoded) features chosen for these datasets:"
   ]
  },
  {
   "cell_type": "code",
   "execution_count": 26,
   "metadata": {},
   "outputs": [
    {
     "name": "stdout",
     "output_type": "stream",
     "text": [
      "['Type', 'hasName', 'Age', 'Free', 'hasVideo', 'DescriptionSize', 'Breed2', 'Breed1', 'Gender', 'Color1', 'Color2', 'Color3', 'MaturitySize', 'FurLength', 'Vaccinated', 'Dewormed', 'Sterilized', 'Health', 'Quantity', 'State', 'FrequentRescuer', 'PhotoAmt', 'Adoption']\n"
     ]
    }
   ],
   "source": [
    "print(list(df_processed2_b_balanced.columns))"
   ]
  },
  {
   "cell_type": "markdown",
   "metadata": {},
   "source": [
    "## 1.2. Learning Classifiers"
   ]
  },
  {
   "cell_type": "code",
   "execution_count": 27,
   "metadata": {},
   "outputs": [],
   "source": [
    "# creates a framework for printing confusion matrices side by side\n",
    "# X for some informative string\n",
    "# y_train for the training set targets\n",
    "# y_train_predict for the target predictions by the model\n",
    "# y_test for the test set targets \n",
    "# y_test_predict for the test predictions by the model\n",
    "\n",
    "def confusion (X,y_train,y_train_predict,y_test,y_test_predict):\n",
    "    print('{}'.format(X))\n",
    "    \n",
    "    cm_train = confusion_matrix(y_train, y_train_predict)\n",
    "    cm_test = confusion_matrix(y_test, y_test_predict)\n",
    "    \n",
    "    y = np.unique(y_train)\n",
    "    z = np.unique(y_test)\n",
    "    \n",
    "    f, ax = plt.subplots(1,2) # defines two matrix plots, one for the training set and the other for the test set\n",
    "    sns.heatmap(cm_train.T, square=True, annot = True, fmt='d', cbar=False,\n",
    "                xticklabels=(y),\n",
    "                yticklabels=(y),\n",
    "                ax=ax[0]) # first plot\n",
    "    ax[0].set_xlabel('True class')\n",
    "    ax[0].set_ylabel('Predicted class')\n",
    "    ax[0].set_title('Confusion Matrix - Training Set')\n",
    "\n",
    "    sns.heatmap(cm_test.T, square=True, annot = True, fmt='d', cbar=False,\n",
    "                xticklabels=(z),\n",
    "                yticklabels=(z),\n",
    "                ax=ax[1]) # second plot\n",
    "    ax[1].set_xlabel('True class')\n",
    "    ax[1].set_ylabel('Predicted class')\n",
    "    ax[1].set_title('Confusion Matrix - Test Set')"
   ]
  },
  {
   "cell_type": "code",
   "execution_count": 28,
   "metadata": {},
   "outputs": [],
   "source": [
    "# creates a framework for model fitting, scoring and target predictions\n",
    "# takes xtrain, ytrain, xtest and ytest as arguments\n",
    "# the arguments xtrain, ytrain, xtest and ytest come from splitting the dataset into training and test sets\n",
    "# takes the classifier (model) as argument \n",
    "# prints classification reports for both training and test sets\n",
    "# returns predicted targets for both training and test sets\n",
    "# returns fitting scores (accuracy) for both training and test sets\n",
    "\n",
    "def model (intro,xtrain,ytrain,xtest,ytest,md):\n",
    "    #print (\"{}\\n\".format(intro))\n",
    "    #md = model.fit(xtrain,ytrain)\n",
    "    print(\"Accuracy on training set:\\n\")\n",
    "    trainscore = md.score(xtrain, ytrain)\n",
    "    print(\"{}\\n\".format(trainscore))\n",
    "    ytrainp = md.predict(xtrain)\n",
    "    print('Classification report (training):')\n",
    "    print(classification_report(ytrain,ytrainp))\n",
    "    print(\"Accuracy on test set:\\n\") \n",
    "    testscore = md.score(xtest, ytest)\n",
    "    print(\"{}\\n\".format(testscore))\n",
    "    ytestp = md.predict(xtest)\n",
    "    print('Classification report (test):')\n",
    "    print(classification_report(ytest,ytestp))\n",
    "    return ytrainp, ytestp, trainscore, testscore"
   ]
  },
  {
   "cell_type": "code",
   "execution_count": 29,
   "metadata": {},
   "outputs": [],
   "source": [
    "# separates examples from targets and optionally splits it into training and testing\n",
    "def separate_split(df,split):\n",
    "    nc = df.shape[1]\n",
    "    matrix = df.values # Convert dataframe to darray\n",
    "    examples = matrix [:, 0:nc-1] # get features \n",
    "    target = matrix [:, nc-1] # get class (last columns)           \n",
    "    fnames = df.columns.values[0:nc-1] #get features names\n",
    "    tname = df.columns.values[nc-1] #get target name\n",
    "    examples = examples.astype(float)\n",
    "    target = target.astype(float)\n",
    "    if not split:\n",
    "        return examples, target, fnames, tname\n",
    "    else:\n",
    "        X_train, X_test, y_train, y_test = train_test_split(examples, target, random_state=0)\n",
    "        print(\"Number of examples and features for the training dataset: \", X_train.shape)\n",
    "        print(\"Number of examples and features for the test dataset: \", X_test.shape)\n",
    "        return X_train, X_test, y_train, y_test"
   ]
  },
  {
   "cell_type": "code",
   "execution_count": 30,
   "metadata": {},
   "outputs": [],
   "source": [
    "# conducts k-fold cross-validation for a certain model\n",
    "def crossvalidation(model,examples,target,classes):\n",
    "    \n",
    "    # 5-fold cross validation to return estimators and their individual scores\n",
    "    scores_list = cross_validate(model,examples,target,cv=5,return_train_score=True,return_estimator=True)\n",
    "    train_test_df = pd.DataFrame({'Training score': scores_list['train_score'],\n",
    "                                  'Test score': scores_list['test_score']},index=list(range(5)))\n",
    "    fig, ax = plt.subplots(1,2)\n",
    "    sns.set_style(\"whitegrid\")\n",
    "    train_test_df.plot(x = 'Training score',\n",
    "                       y = 'Test score',\n",
    "                       kind = 'scatter',\n",
    "                       ax = ax[0])\n",
    "    \n",
    "    for train, test in train_test_df.iterrows():\n",
    "        ax[0].annotate(train, test)     \n",
    "    ax[0].set_title('Cross-Validation Estimator Scores')\n",
    "    \n",
    "    # prediction for confusion matrix\n",
    "    target_pred = cross_val_predict(model, examples, target, cv=5)\n",
    "    conf_mat = confusion_matrix(target, target_pred,labels=classes)\n",
    "    print('Test set results:')\n",
    "    print(classification_report(target, target_pred))\n",
    "    \n",
    "    # scores for the 5 estimators\n",
    "    scores = cross_val_score(model, examples, target, cv=5)\n",
    "    print('Accuracy: %0.2f (+/- %0.2f)' % (scores.mean(), scores.std() * 2))\n",
    "    \n",
    "    # confusion matrix heatmap\n",
    "    sns.heatmap(conf_mat.T, square=True, annot=True, fmt='d', cbar=False, cmap=\"Blues\", ax=ax[1])\n",
    "    ax[1].set_xlabel('True class')\n",
    "    ax[1].set_ylabel('Predicted class')\n",
    "    ax[1].set_title('Confusion Matrix - Cross-Validation')\n",
    "    return target_pred, conf_mat, scores, scores_list"
   ]
  },
  {
   "cell_type": "markdown",
   "metadata": {},
   "source": [
    "### 1.2.1 Benchmark\n",
    "Before going into training the classifiers with our altered datasets, we want to perform a benchmark of the original dataset's performance in the models (`df_processed1`)."
   ]
  },
  {
   "cell_type": "code",
   "execution_count": 31,
   "metadata": {},
   "outputs": [
    {
     "name": "stdout",
     "output_type": "stream",
     "text": [
      "Number of examples and features for the training dataset:  (11244, 377)\n",
      "Number of examples and features for the test dataset:  (3749, 377)\n"
     ]
    }
   ],
   "source": [
    "X_train, X_test, y_train, y_test = separate_split(df_processed1_encoded,True)\n",
    "examples_binary, target_binary, fnames_binary, tname_binary = separate_split(df_processed1_encoded,False)"
   ]
  },
  {
   "cell_type": "markdown",
   "metadata": {},
   "source": [
    "#### 1.2.1.1 Predicting Adoption (binary classification task)"
   ]
  },
  {
   "cell_type": "markdown",
   "metadata": {},
   "source": [
    "Since this is a binary task, `AdoptionSpeed` has to be converted into a binary target class (`0` for profiles with `AdoptionSpeed = 4` and `1` for profiles with `AdoptionSpeed < 4`)"
   ]
  },
  {
   "cell_type": "code",
   "execution_count": 32,
   "metadata": {},
   "outputs": [],
   "source": [
    "# This function converts an array of multiclass targets into binary classes\n",
    "def binarize(table_y):\n",
    "    for i in range(len(table_y)):\n",
    "        if table_y[i]<4:\n",
    "            table_y[i]=1\n",
    "        else:\n",
    "            table_y[i]=0\n",
    "    return table_y"
   ]
  },
  {
   "cell_type": "code",
   "execution_count": 33,
   "metadata": {},
   "outputs": [
    {
     "name": "stdout",
     "output_type": "stream",
     "text": [
      "Number of positives cases in the dataset is: 10796\n",
      "Number of negative cases in the dataset is: 4197\n",
      "Ratio of positive to negative cases in the dataset: 2.5723135573028353\n"
     ]
    }
   ],
   "source": [
    "y_train_binary = binarize(y_train)\n",
    "y_test_binary = binarize(y_test)\n",
    "target_binary = binarize(target_binary)\n",
    "print(\"Number of positives cases in the dataset is: {}\".format(np.count_nonzero(target_binary == 1)))\n",
    "print(\"Number of negative cases in the dataset is: {}\".format(np.count_nonzero(target_binary == 0)))\n",
    "print(\"Ratio of positive to negative cases in the dataset: {}\".format((np.count_nonzero(target_binary == 1))/(np.count_nonzero(target_binary == 0))))"
   ]
  },
  {
   "cell_type": "markdown",
   "metadata": {},
   "source": [
    "Different types of machine learning algorithms will be used to solve the task, as a way to see which will be the most appropriate. Model hyperparameters (if applicable) can be determined manually or via automatic methods, such as grid search.\n",
    "\n",
    "In order to optimise the model, the grid search method does an exhaustive assessment of best hyperparameters for the estimator. The grid search will go through all possible hyperparameter combinations and evaluate each model using a few metrics for scoring.\n",
    "\n",
    "5-fold cross-validation is the default model evaluation in this case. The training data is split in 5 equally-sized subsets (hence, the \"5-fold\"), and the model will be trained 5 times, each time leaving a different subset out, to be a test set. The performance of the model is the average of the performance over all (5) different test sets. Below, there is an image explaining the process.\n",
    "\n",
    "<img src=https://scikit-learn.org/stable/_images/grid_search_cross_validation.png width=\"500\">\n",
    "\n",
    "Classification reports can be broken down in 4 columns of precision, recall, score and support:\n",
    "\n",
    "* 1 row for each target class;\n",
    "* 1 row for the overall accuracy.\n",
    "\n",
    "Since the scoring is F1 macro:\n",
    "* 1 row for macro averages;\n",
    "* 1 row for weighted averages."
   ]
  },
  {
   "cell_type": "markdown",
   "metadata": {},
   "source": [
    "Overall, the pipeline consists of:\n",
    "\n",
    "1) Initialise an estimator;\n",
    "\n",
    "2) Fit the training data (train the model) to the estimator and test it (via test split), using k-fold cross-validation;\n",
    "\n",
    "3) Score model using various metrics and discuss results.\n",
    "\n",
    "In the case of grid search-applicable algorithms, k-fold cross validation is conducted to select the best estimator, and an additional k-fold cross-validation step is done to isolate its scores and results for further analysis."
   ]
  },
  {
   "cell_type": "markdown",
   "metadata": {},
   "source": [
    "##### Distance-based Models - K-Nearest Neighbours"
   ]
  },
  {
   "cell_type": "code",
   "execution_count": 34,
   "metadata": {},
   "outputs": [],
   "source": [
    "## This function is a pipeline for training and testing knn models\n",
    "# on binary or multiclass analysis\n",
    "# args:\n",
    "# binary = (boolean) whether the analysis is binary or not\n",
    "\n",
    "def knn(examples,target,binary):\n",
    "    # Initialising the estimator\n",
    "    knn = neighbors.KNeighborsClassifier() # 5 neighbours by default\n",
    "    \n",
    "    #Grid search (hyperparameter tuning) and k-fold cross-validation fitting/scoring\n",
    "    # Defining and applying a grid search cross validation to find the best hyperparameters for the knn estimator \n",
    "    # adequate metric, adequate p for the minkowski metric, adequate number of neighbours and weights\n",
    "    if binary:\n",
    "        knn_p = {'metric': ['minkowski','chebyshev'],\n",
    "                          'p': [1,2,3,4,5],\n",
    "                          'n_neighbors': [2,3,4,5,6,7], # even and odd number of neighbours\n",
    "                          'weights': ['uniform','distance']}\n",
    "    else:\n",
    "        knn_p = {'metric': ['minkowski','chebyshev'],\n",
    "                      'p': [1,2,3,4,5],\n",
    "                      'n_neighbors': [2,4,6,8,10,20], \n",
    "                      'weights': ['uniform','distance']}\n",
    "    \n",
    "    # There are 2 * 5 * 6 * 2 = 120 different combinations of hyperparameters, meaning that the grid search \n",
    "    # will create all these different versions of the model, which are then fit to the training data. \n",
    "    # Since each model goes through 5-fold cross-validation, there are 120 * 5 = 600 fits in total.\n",
    "    \n",
    "    # The scoring metric for the grid searh in the benchmark task will be the score of the estimator (runs slow)\n",
    "    knn_grid = GridSearchCV(knn, # creates all 120 versions of the KNN model\n",
    "                            knn_p, \n",
    "                            scoring='f1_macro',\n",
    "                            cv=5,\n",
    "                            verbose=10,\n",
    "                            n_jobs = 1) # CHANGE TO n_jobs = -1 TO USE MAXIMUM PARALLEL PROCESSES (INCREASE SPEED)\n",
    "    knn_grid.fit(examples,target) # 5-fold cross-validation fitting (120 * 5 fits) for KNN models\n",
    "    \n",
    "    # Picking and revalidating the best estimator\n",
    "    knn_best = knn_grid.best_estimator_ # assigning the parameters to the KNN estimator\n",
    "    print('Best estimator:\\n\\n{}'.format(knn_best))\n",
    "    \n",
    "    # Print scores\n",
    "    if binary:\n",
    "        a = [0,1]\n",
    "    else:\n",
    "        a = [0,1,2,3,4]\n",
    "        \n",
    "    (y_pred_knn, \n",
    "     conf_mat_knn, \n",
    "     knn_scores, \n",
    "     knn_scores_list) = crossvalidation(knn_best,\n",
    "                                        examples,\n",
    "                                        target,\n",
    "                                        a)"
   ]
  },
  {
   "cell_type": "code",
   "execution_count": 35,
   "metadata": {},
   "outputs": [
    {
     "name": "stdout",
     "output_type": "stream",
     "text": [
      "Fitting 5 folds for each of 120 candidates, totalling 600 fits\n",
      "[CV] metric=minkowski, n_neighbors=2, p=1, weights=uniform ...........\n"
     ]
    },
    {
     "name": "stderr",
     "output_type": "stream",
     "text": [
      "[Parallel(n_jobs=1)]: Using backend SequentialBackend with 1 concurrent workers.\n"
     ]
    },
    {
     "name": "stdout",
     "output_type": "stream",
     "text": [
      "[CV]  metric=minkowski, n_neighbors=2, p=1, weights=uniform, score=0.586, total=   4.0s\n",
      "[CV] metric=minkowski, n_neighbors=2, p=1, weights=uniform ...........\n"
     ]
    },
    {
     "name": "stderr",
     "output_type": "stream",
     "text": [
      "[Parallel(n_jobs=1)]: Done   1 out of   1 | elapsed:    4.0s remaining:    0.0s\n"
     ]
    },
    {
     "name": "stdout",
     "output_type": "stream",
     "text": [
      "[CV]  metric=minkowski, n_neighbors=2, p=1, weights=uniform, score=0.587, total=   3.9s\n",
      "[CV] metric=minkowski, n_neighbors=2, p=1, weights=uniform ...........\n"
     ]
    },
    {
     "name": "stderr",
     "output_type": "stream",
     "text": [
      "[Parallel(n_jobs=1)]: Done   2 out of   2 | elapsed:    7.9s remaining:    0.0s\n"
     ]
    },
    {
     "name": "stdout",
     "output_type": "stream",
     "text": [
      "[CV]  metric=minkowski, n_neighbors=2, p=1, weights=uniform, score=0.596, total=   4.2s\n",
      "[CV] metric=minkowski, n_neighbors=2, p=1, weights=uniform ...........\n"
     ]
    },
    {
     "name": "stderr",
     "output_type": "stream",
     "text": [
      "[Parallel(n_jobs=1)]: Done   3 out of   3 | elapsed:   12.1s remaining:    0.0s\n"
     ]
    },
    {
     "name": "stdout",
     "output_type": "stream",
     "text": [
      "[CV]  metric=minkowski, n_neighbors=2, p=1, weights=uniform, score=0.589, total=   4.5s\n",
      "[CV] metric=minkowski, n_neighbors=2, p=1, weights=uniform ...........\n"
     ]
    },
    {
     "name": "stderr",
     "output_type": "stream",
     "text": [
      "[Parallel(n_jobs=1)]: Done   4 out of   4 | elapsed:   16.7s remaining:    0.0s\n"
     ]
    },
    {
     "name": "stdout",
     "output_type": "stream",
     "text": [
      "[CV]  metric=minkowski, n_neighbors=2, p=1, weights=uniform, score=0.596, total=   4.1s\n",
      "[CV] metric=minkowski, n_neighbors=2, p=1, weights=distance ..........\n"
     ]
    },
    {
     "name": "stderr",
     "output_type": "stream",
     "text": [
      "[Parallel(n_jobs=1)]: Done   5 out of   5 | elapsed:   20.8s remaining:    0.0s\n"
     ]
    },
    {
     "name": "stdout",
     "output_type": "stream",
     "text": [
      "[CV]  metric=minkowski, n_neighbors=2, p=1, weights=distance, score=0.608, total=   4.2s\n",
      "[CV] metric=minkowski, n_neighbors=2, p=1, weights=distance ..........\n"
     ]
    },
    {
     "name": "stderr",
     "output_type": "stream",
     "text": [
      "[Parallel(n_jobs=1)]: Done   6 out of   6 | elapsed:   25.1s remaining:    0.0s\n"
     ]
    },
    {
     "name": "stdout",
     "output_type": "stream",
     "text": [
      "[CV]  metric=minkowski, n_neighbors=2, p=1, weights=distance, score=0.591, total=   4.1s\n",
      "[CV] metric=minkowski, n_neighbors=2, p=1, weights=distance ..........\n"
     ]
    },
    {
     "name": "stderr",
     "output_type": "stream",
     "text": [
      "[Parallel(n_jobs=1)]: Done   7 out of   7 | elapsed:   29.2s remaining:    0.0s\n"
     ]
    },
    {
     "name": "stdout",
     "output_type": "stream",
     "text": [
      "[CV]  metric=minkowski, n_neighbors=2, p=1, weights=distance, score=0.605, total=   4.2s\n",
      "[CV] metric=minkowski, n_neighbors=2, p=1, weights=distance ..........\n"
     ]
    },
    {
     "name": "stderr",
     "output_type": "stream",
     "text": [
      "[Parallel(n_jobs=1)]: Done   8 out of   8 | elapsed:   33.4s remaining:    0.0s\n"
     ]
    },
    {
     "name": "stdout",
     "output_type": "stream",
     "text": [
      "[CV]  metric=minkowski, n_neighbors=2, p=1, weights=distance, score=0.605, total=   4.3s\n",
      "[CV] metric=minkowski, n_neighbors=2, p=1, weights=distance ..........\n"
     ]
    },
    {
     "name": "stderr",
     "output_type": "stream",
     "text": [
      "[Parallel(n_jobs=1)]: Done   9 out of   9 | elapsed:   37.7s remaining:    0.0s\n"
     ]
    },
    {
     "name": "stdout",
     "output_type": "stream",
     "text": [
      "[CV]  metric=minkowski, n_neighbors=2, p=1, weights=distance, score=0.612, total=   4.7s\n",
      "[CV] metric=minkowski, n_neighbors=2, p=2, weights=uniform ...........\n",
      "[CV]  metric=minkowski, n_neighbors=2, p=2, weights=uniform, score=0.582, total=   3.1s\n",
      "[CV] metric=minkowski, n_neighbors=2, p=2, weights=uniform ...........\n",
      "[CV]  metric=minkowski, n_neighbors=2, p=2, weights=uniform, score=0.570, total=   2.8s\n",
      "[CV] metric=minkowski, n_neighbors=2, p=2, weights=uniform ...........\n",
      "[CV]  metric=minkowski, n_neighbors=2, p=2, weights=uniform, score=0.578, total=   3.0s\n",
      "[CV] metric=minkowski, n_neighbors=2, p=2, weights=uniform ...........\n",
      "[CV]  metric=minkowski, n_neighbors=2, p=2, weights=uniform, score=0.574, total=   2.4s\n",
      "[CV] metric=minkowski, n_neighbors=2, p=2, weights=uniform ...........\n",
      "[CV]  metric=minkowski, n_neighbors=2, p=2, weights=uniform, score=0.574, total=   2.3s\n",
      "[CV] metric=minkowski, n_neighbors=2, p=2, weights=distance ..........\n",
      "[CV]  metric=minkowski, n_neighbors=2, p=2, weights=distance, score=0.596, total=   2.3s\n",
      "[CV] metric=minkowski, n_neighbors=2, p=2, weights=distance ..........\n",
      "[CV]  metric=minkowski, n_neighbors=2, p=2, weights=distance, score=0.578, total=   2.7s\n",
      "[CV] metric=minkowski, n_neighbors=2, p=2, weights=distance ..........\n",
      "[CV]  metric=minkowski, n_neighbors=2, p=2, weights=distance, score=0.586, total=   2.7s\n",
      "[CV] metric=minkowski, n_neighbors=2, p=2, weights=distance ..........\n",
      "[CV]  metric=minkowski, n_neighbors=2, p=2, weights=distance, score=0.585, total=   2.7s\n",
      "[CV] metric=minkowski, n_neighbors=2, p=2, weights=distance ..........\n",
      "[CV]  metric=minkowski, n_neighbors=2, p=2, weights=distance, score=0.590, total=   2.4s\n",
      "[CV] metric=minkowski, n_neighbors=2, p=3, weights=uniform ...........\n",
      "[CV]  metric=minkowski, n_neighbors=2, p=3, weights=uniform, score=0.579, total=   7.3s\n",
      "[CV] metric=minkowski, n_neighbors=2, p=3, weights=uniform ...........\n",
      "[CV]  metric=minkowski, n_neighbors=2, p=3, weights=uniform, score=0.569, total=   6.7s\n",
      "[CV] metric=minkowski, n_neighbors=2, p=3, weights=uniform ...........\n",
      "[CV]  metric=minkowski, n_neighbors=2, p=3, weights=uniform, score=0.573, total=   6.1s\n",
      "[CV] metric=minkowski, n_neighbors=2, p=3, weights=uniform ...........\n",
      "[CV]  metric=minkowski, n_neighbors=2, p=3, weights=uniform, score=0.560, total=   6.7s\n",
      "[CV] metric=minkowski, n_neighbors=2, p=3, weights=uniform ...........\n",
      "[CV]  metric=minkowski, n_neighbors=2, p=3, weights=uniform, score=0.578, total=   6.8s\n",
      "[CV] metric=minkowski, n_neighbors=2, p=3, weights=distance ..........\n",
      "[CV]  metric=minkowski, n_neighbors=2, p=3, weights=distance, score=0.584, total=   6.6s\n",
      "[CV] metric=minkowski, n_neighbors=2, p=3, weights=distance ..........\n",
      "[CV]  metric=minkowski, n_neighbors=2, p=3, weights=distance, score=0.568, total=   6.2s\n",
      "[CV] metric=minkowski, n_neighbors=2, p=3, weights=distance ..........\n",
      "[CV]  metric=minkowski, n_neighbors=2, p=3, weights=distance, score=0.586, total=   6.8s\n",
      "[CV] metric=minkowski, n_neighbors=2, p=3, weights=distance ..........\n",
      "[CV]  metric=minkowski, n_neighbors=2, p=3, weights=distance, score=0.580, total=   6.9s\n",
      "[CV] metric=minkowski, n_neighbors=2, p=3, weights=distance ..........\n",
      "[CV]  metric=minkowski, n_neighbors=2, p=3, weights=distance, score=0.586, total=   6.9s\n",
      "[CV] metric=minkowski, n_neighbors=2, p=4, weights=uniform ...........\n",
      "[CV]  metric=minkowski, n_neighbors=2, p=4, weights=uniform, score=0.573, total=   6.1s\n",
      "[CV] metric=minkowski, n_neighbors=2, p=4, weights=uniform ...........\n",
      "[CV]  metric=minkowski, n_neighbors=2, p=4, weights=uniform, score=0.565, total=   5.6s\n",
      "[CV] metric=minkowski, n_neighbors=2, p=4, weights=uniform ...........\n",
      "[CV]  metric=minkowski, n_neighbors=2, p=4, weights=uniform, score=0.571, total=   5.2s\n",
      "[CV] metric=minkowski, n_neighbors=2, p=4, weights=uniform ...........\n",
      "[CV]  metric=minkowski, n_neighbors=2, p=4, weights=uniform, score=0.563, total=   5.3s\n",
      "[CV] metric=minkowski, n_neighbors=2, p=4, weights=uniform ...........\n",
      "[CV]  metric=minkowski, n_neighbors=2, p=4, weights=uniform, score=0.575, total=   5.2s\n",
      "[CV] metric=minkowski, n_neighbors=2, p=4, weights=distance ..........\n",
      "[CV]  metric=minkowski, n_neighbors=2, p=4, weights=distance, score=0.574, total=   5.1s\n",
      "[CV] metric=minkowski, n_neighbors=2, p=4, weights=distance ..........\n",
      "[CV]  metric=minkowski, n_neighbors=2, p=4, weights=distance, score=0.566, total=   5.4s\n",
      "[CV] metric=minkowski, n_neighbors=2, p=4, weights=distance ..........\n",
      "[CV]  metric=minkowski, n_neighbors=2, p=4, weights=distance, score=0.581, total=   5.1s\n",
      "[CV] metric=minkowski, n_neighbors=2, p=4, weights=distance ..........\n",
      "[CV]  metric=minkowski, n_neighbors=2, p=4, weights=distance, score=0.579, total=   4.8s\n",
      "[CV] metric=minkowski, n_neighbors=2, p=4, weights=distance ..........\n",
      "[CV]  metric=minkowski, n_neighbors=2, p=4, weights=distance, score=0.587, total=   5.4s\n",
      "[CV] metric=minkowski, n_neighbors=2, p=5, weights=uniform ...........\n",
      "[CV]  metric=minkowski, n_neighbors=2, p=5, weights=uniform, score=0.572, total=   5.3s\n",
      "[CV] metric=minkowski, n_neighbors=2, p=5, weights=uniform ...........\n",
      "[CV]  metric=minkowski, n_neighbors=2, p=5, weights=uniform, score=0.566, total=   5.0s\n",
      "[CV] metric=minkowski, n_neighbors=2, p=5, weights=uniform ...........\n",
      "[CV]  metric=minkowski, n_neighbors=2, p=5, weights=uniform, score=0.570, total=   4.8s\n",
      "[CV] metric=minkowski, n_neighbors=2, p=5, weights=uniform ...........\n",
      "[CV]  metric=minkowski, n_neighbors=2, p=5, weights=uniform, score=0.563, total=   4.8s\n",
      "[CV] metric=minkowski, n_neighbors=2, p=5, weights=uniform ...........\n",
      "[CV]  metric=minkowski, n_neighbors=2, p=5, weights=uniform, score=0.575, total=   5.0s\n",
      "[CV] metric=minkowski, n_neighbors=2, p=5, weights=distance ..........\n",
      "[CV]  metric=minkowski, n_neighbors=2, p=5, weights=distance, score=0.573, total=   5.6s\n",
      "[CV] metric=minkowski, n_neighbors=2, p=5, weights=distance ..........\n",
      "[CV]  metric=minkowski, n_neighbors=2, p=5, weights=distance, score=0.566, total=   4.8s\n",
      "[CV] metric=minkowski, n_neighbors=2, p=5, weights=distance ..........\n",
      "[CV]  metric=minkowski, n_neighbors=2, p=5, weights=distance, score=0.580, total=   5.2s\n",
      "[CV] metric=minkowski, n_neighbors=2, p=5, weights=distance ..........\n",
      "[CV]  metric=minkowski, n_neighbors=2, p=5, weights=distance, score=0.579, total=   5.0s\n",
      "[CV] metric=minkowski, n_neighbors=2, p=5, weights=distance ..........\n",
      "[CV]  metric=minkowski, n_neighbors=2, p=5, weights=distance, score=0.585, total=   5.1s\n",
      "[CV] metric=minkowski, n_neighbors=3, p=1, weights=uniform ...........\n",
      "[CV]  metric=minkowski, n_neighbors=3, p=1, weights=uniform, score=0.610, total=   4.1s\n",
      "[CV] metric=minkowski, n_neighbors=3, p=1, weights=uniform ...........\n",
      "[CV]  metric=minkowski, n_neighbors=3, p=1, weights=uniform, score=0.588, total=   3.9s\n",
      "[CV] metric=minkowski, n_neighbors=3, p=1, weights=uniform ...........\n",
      "[CV]  metric=minkowski, n_neighbors=3, p=1, weights=uniform, score=0.592, total=   3.9s\n",
      "[CV] metric=minkowski, n_neighbors=3, p=1, weights=uniform ...........\n",
      "[CV]  metric=minkowski, n_neighbors=3, p=1, weights=uniform, score=0.596, total=   3.9s\n",
      "[CV] metric=minkowski, n_neighbors=3, p=1, weights=uniform ...........\n",
      "[CV]  metric=minkowski, n_neighbors=3, p=1, weights=uniform, score=0.595, total=   3.9s\n",
      "[CV] metric=minkowski, n_neighbors=3, p=1, weights=distance ..........\n",
      "[CV]  metric=minkowski, n_neighbors=3, p=1, weights=distance, score=0.617, total=   3.9s\n",
      "[CV] metric=minkowski, n_neighbors=3, p=1, weights=distance ..........\n",
      "[CV]  metric=minkowski, n_neighbors=3, p=1, weights=distance, score=0.594, total=   3.9s\n",
      "[CV] metric=minkowski, n_neighbors=3, p=1, weights=distance ..........\n",
      "[CV]  metric=minkowski, n_neighbors=3, p=1, weights=distance, score=0.600, total=   4.0s\n",
      "[CV] metric=minkowski, n_neighbors=3, p=1, weights=distance ..........\n",
      "[CV]  metric=minkowski, n_neighbors=3, p=1, weights=distance, score=0.603, total=   3.8s\n",
      "[CV] metric=minkowski, n_neighbors=3, p=1, weights=distance ..........\n",
      "[CV]  metric=minkowski, n_neighbors=3, p=1, weights=distance, score=0.604, total=   3.8s\n",
      "[CV] metric=minkowski, n_neighbors=3, p=2, weights=uniform ...........\n",
      "[CV]  metric=minkowski, n_neighbors=3, p=2, weights=uniform, score=0.598, total=   2.5s\n",
      "[CV] metric=minkowski, n_neighbors=3, p=2, weights=uniform ...........\n"
     ]
    },
    {
     "name": "stdout",
     "output_type": "stream",
     "text": [
      "[CV]  metric=minkowski, n_neighbors=3, p=2, weights=uniform, score=0.580, total=   2.6s\n",
      "[CV] metric=minkowski, n_neighbors=3, p=2, weights=uniform ...........\n",
      "[CV]  metric=minkowski, n_neighbors=3, p=2, weights=uniform, score=0.591, total=   2.7s\n",
      "[CV] metric=minkowski, n_neighbors=3, p=2, weights=uniform ...........\n",
      "[CV]  metric=minkowski, n_neighbors=3, p=2, weights=uniform, score=0.583, total=   2.6s\n",
      "[CV] metric=minkowski, n_neighbors=3, p=2, weights=uniform ...........\n",
      "[CV]  metric=minkowski, n_neighbors=3, p=2, weights=uniform, score=0.581, total=   3.0s\n",
      "[CV] metric=minkowski, n_neighbors=3, p=2, weights=distance ..........\n",
      "[CV]  metric=minkowski, n_neighbors=3, p=2, weights=distance, score=0.597, total=   2.9s\n",
      "[CV] metric=minkowski, n_neighbors=3, p=2, weights=distance ..........\n",
      "[CV]  metric=minkowski, n_neighbors=3, p=2, weights=distance, score=0.583, total=   2.4s\n",
      "[CV] metric=minkowski, n_neighbors=3, p=2, weights=distance ..........\n",
      "[CV]  metric=minkowski, n_neighbors=3, p=2, weights=distance, score=0.594, total=   2.5s\n",
      "[CV] metric=minkowski, n_neighbors=3, p=2, weights=distance ..........\n",
      "[CV]  metric=minkowski, n_neighbors=3, p=2, weights=distance, score=0.585, total=   2.5s\n",
      "[CV] metric=minkowski, n_neighbors=3, p=2, weights=distance ..........\n",
      "[CV]  metric=minkowski, n_neighbors=3, p=2, weights=distance, score=0.582, total=   2.9s\n",
      "[CV] metric=minkowski, n_neighbors=3, p=3, weights=uniform ...........\n",
      "[CV]  metric=minkowski, n_neighbors=3, p=3, weights=uniform, score=0.585, total=   7.0s\n",
      "[CV] metric=minkowski, n_neighbors=3, p=3, weights=uniform ...........\n",
      "[CV]  metric=minkowski, n_neighbors=3, p=3, weights=uniform, score=0.573, total=   6.7s\n",
      "[CV] metric=minkowski, n_neighbors=3, p=3, weights=uniform ...........\n",
      "[CV]  metric=minkowski, n_neighbors=3, p=3, weights=uniform, score=0.584, total=   6.9s\n",
      "[CV] metric=minkowski, n_neighbors=3, p=3, weights=uniform ...........\n",
      "[CV]  metric=minkowski, n_neighbors=3, p=3, weights=uniform, score=0.577, total=   6.4s\n",
      "[CV] metric=minkowski, n_neighbors=3, p=3, weights=uniform ...........\n",
      "[CV]  metric=minkowski, n_neighbors=3, p=3, weights=uniform, score=0.583, total=   7.0s\n",
      "[CV] metric=minkowski, n_neighbors=3, p=3, weights=distance ..........\n",
      "[CV]  metric=minkowski, n_neighbors=3, p=3, weights=distance, score=0.584, total=   7.1s\n",
      "[CV] metric=minkowski, n_neighbors=3, p=3, weights=distance ..........\n",
      "[CV]  metric=minkowski, n_neighbors=3, p=3, weights=distance, score=0.574, total=   6.7s\n",
      "[CV] metric=minkowski, n_neighbors=3, p=3, weights=distance ..........\n",
      "[CV]  metric=minkowski, n_neighbors=3, p=3, weights=distance, score=0.585, total=   7.2s\n",
      "[CV] metric=minkowski, n_neighbors=3, p=3, weights=distance ..........\n",
      "[CV]  metric=minkowski, n_neighbors=3, p=3, weights=distance, score=0.580, total=   6.9s\n",
      "[CV] metric=minkowski, n_neighbors=3, p=3, weights=distance ..........\n",
      "[CV]  metric=minkowski, n_neighbors=3, p=3, weights=distance, score=0.584, total=   7.2s\n",
      "[CV] metric=minkowski, n_neighbors=3, p=4, weights=uniform ...........\n",
      "[CV]  metric=minkowski, n_neighbors=3, p=4, weights=uniform, score=0.575, total=   6.2s\n",
      "[CV] metric=minkowski, n_neighbors=3, p=4, weights=uniform ...........\n",
      "[CV]  metric=minkowski, n_neighbors=3, p=4, weights=uniform, score=0.569, total=   6.5s\n",
      "[CV] metric=minkowski, n_neighbors=3, p=4, weights=uniform ...........\n",
      "[CV]  metric=minkowski, n_neighbors=3, p=4, weights=uniform, score=0.581, total=   6.0s\n",
      "[CV] metric=minkowski, n_neighbors=3, p=4, weights=uniform ...........\n",
      "[CV]  metric=minkowski, n_neighbors=3, p=4, weights=uniform, score=0.577, total=   5.2s\n",
      "[CV] metric=minkowski, n_neighbors=3, p=4, weights=uniform ...........\n",
      "[CV]  metric=minkowski, n_neighbors=3, p=4, weights=uniform, score=0.580, total=   6.0s\n",
      "[CV] metric=minkowski, n_neighbors=3, p=4, weights=distance ..........\n",
      "[CV]  metric=minkowski, n_neighbors=3, p=4, weights=distance, score=0.573, total=   5.7s\n",
      "[CV] metric=minkowski, n_neighbors=3, p=4, weights=distance ..........\n",
      "[CV]  metric=minkowski, n_neighbors=3, p=4, weights=distance, score=0.569, total=   5.5s\n",
      "[CV] metric=minkowski, n_neighbors=3, p=4, weights=distance ..........\n",
      "[CV]  metric=minkowski, n_neighbors=3, p=4, weights=distance, score=0.582, total=   5.7s\n",
      "[CV] metric=minkowski, n_neighbors=3, p=4, weights=distance ..........\n",
      "[CV]  metric=minkowski, n_neighbors=3, p=4, weights=distance, score=0.580, total=   5.1s\n",
      "[CV] metric=minkowski, n_neighbors=3, p=4, weights=distance ..........\n",
      "[CV]  metric=minkowski, n_neighbors=3, p=4, weights=distance, score=0.582, total=   5.1s\n",
      "[CV] metric=minkowski, n_neighbors=3, p=5, weights=uniform ...........\n",
      "[CV]  metric=minkowski, n_neighbors=3, p=5, weights=uniform, score=0.574, total=   5.2s\n",
      "[CV] metric=minkowski, n_neighbors=3, p=5, weights=uniform ...........\n",
      "[CV]  metric=minkowski, n_neighbors=3, p=5, weights=uniform, score=0.571, total=   5.2s\n",
      "[CV] metric=minkowski, n_neighbors=3, p=5, weights=uniform ...........\n",
      "[CV]  metric=minkowski, n_neighbors=3, p=5, weights=uniform, score=0.581, total=   5.5s\n",
      "[CV] metric=minkowski, n_neighbors=3, p=5, weights=uniform ...........\n",
      "[CV]  metric=minkowski, n_neighbors=3, p=5, weights=uniform, score=0.577, total=   5.6s\n",
      "[CV] metric=minkowski, n_neighbors=3, p=5, weights=uniform ...........\n",
      "[CV]  metric=minkowski, n_neighbors=3, p=5, weights=uniform, score=0.579, total=   5.1s\n",
      "[CV] metric=minkowski, n_neighbors=3, p=5, weights=distance ..........\n",
      "[CV]  metric=minkowski, n_neighbors=3, p=5, weights=distance, score=0.572, total=   5.7s\n",
      "[CV] metric=minkowski, n_neighbors=3, p=5, weights=distance ..........\n",
      "[CV]  metric=minkowski, n_neighbors=3, p=5, weights=distance, score=0.571, total=   6.3s\n",
      "[CV] metric=minkowski, n_neighbors=3, p=5, weights=distance ..........\n",
      "[CV]  metric=minkowski, n_neighbors=3, p=5, weights=distance, score=0.580, total=   6.0s\n",
      "[CV] metric=minkowski, n_neighbors=3, p=5, weights=distance ..........\n",
      "[CV]  metric=minkowski, n_neighbors=3, p=5, weights=distance, score=0.580, total=   5.9s\n",
      "[CV] metric=minkowski, n_neighbors=3, p=5, weights=distance ..........\n",
      "[CV]  metric=minkowski, n_neighbors=3, p=5, weights=distance, score=0.582, total=   5.9s\n",
      "[CV] metric=minkowski, n_neighbors=4, p=1, weights=uniform ...........\n",
      "[CV]  metric=minkowski, n_neighbors=4, p=1, weights=uniform, score=0.620, total=   5.0s\n",
      "[CV] metric=minkowski, n_neighbors=4, p=1, weights=uniform ...........\n",
      "[CV]  metric=minkowski, n_neighbors=4, p=1, weights=uniform, score=0.603, total=   4.8s\n",
      "[CV] metric=minkowski, n_neighbors=4, p=1, weights=uniform ...........\n"
     ]
    },
    {
     "ename": "KeyboardInterrupt",
     "evalue": "",
     "output_type": "error",
     "traceback": [
      "\u001b[0;31m---------------------------------------------------------------------------\u001b[0m",
      "\u001b[0;31mKeyboardInterrupt\u001b[0m                         Traceback (most recent call last)",
      "\u001b[0;32m<ipython-input-35-0906db19689c>\u001b[0m in \u001b[0;36m<module>\u001b[0;34m\u001b[0m\n\u001b[0;32m----> 1\u001b[0;31m \u001b[0mknn\u001b[0m\u001b[0;34m(\u001b[0m\u001b[0mexamples_binary\u001b[0m\u001b[0;34m,\u001b[0m\u001b[0mtarget_binary\u001b[0m\u001b[0;34m,\u001b[0m\u001b[0;32mTrue\u001b[0m\u001b[0;34m)\u001b[0m\u001b[0;34m\u001b[0m\u001b[0;34m\u001b[0m\u001b[0m\n\u001b[0m",
      "\u001b[0;32m<ipython-input-34-c250e393d5d0>\u001b[0m in \u001b[0;36mknn\u001b[0;34m(examples, target, binary)\u001b[0m\n\u001b[1;32m     33\u001b[0m                             \u001b[0mverbose\u001b[0m\u001b[0;34m=\u001b[0m\u001b[0;36m10\u001b[0m\u001b[0;34m,\u001b[0m\u001b[0;34m\u001b[0m\u001b[0;34m\u001b[0m\u001b[0m\n\u001b[1;32m     34\u001b[0m                             n_jobs = 1) # CHANGE TO n_jobs = -1 TO USE MAXIMUM PARALLEL PROCESSES (INCREASE SPEED)\n\u001b[0;32m---> 35\u001b[0;31m     \u001b[0mknn_grid\u001b[0m\u001b[0;34m.\u001b[0m\u001b[0mfit\u001b[0m\u001b[0;34m(\u001b[0m\u001b[0mexamples\u001b[0m\u001b[0;34m,\u001b[0m\u001b[0mtarget\u001b[0m\u001b[0;34m)\u001b[0m \u001b[0;31m# 5-fold cross-validation fitting (120 * 5 fits) for KNN models\u001b[0m\u001b[0;34m\u001b[0m\u001b[0;34m\u001b[0m\u001b[0m\n\u001b[0m\u001b[1;32m     36\u001b[0m \u001b[0;34m\u001b[0m\u001b[0m\n\u001b[1;32m     37\u001b[0m     \u001b[0;31m# Picking and revalidating the best estimator\u001b[0m\u001b[0;34m\u001b[0m\u001b[0;34m\u001b[0m\u001b[0;34m\u001b[0m\u001b[0m\n",
      "\u001b[0;32m~/anaconda3/lib/python3.7/site-packages/sklearn/model_selection/_search.py\u001b[0m in \u001b[0;36mfit\u001b[0;34m(self, X, y, groups, **fit_params)\u001b[0m\n\u001b[1;32m    686\u001b[0m                 \u001b[0;32mreturn\u001b[0m \u001b[0mresults\u001b[0m\u001b[0;34m\u001b[0m\u001b[0;34m\u001b[0m\u001b[0m\n\u001b[1;32m    687\u001b[0m \u001b[0;34m\u001b[0m\u001b[0m\n\u001b[0;32m--> 688\u001b[0;31m             \u001b[0mself\u001b[0m\u001b[0;34m.\u001b[0m\u001b[0m_run_search\u001b[0m\u001b[0;34m(\u001b[0m\u001b[0mevaluate_candidates\u001b[0m\u001b[0;34m)\u001b[0m\u001b[0;34m\u001b[0m\u001b[0;34m\u001b[0m\u001b[0m\n\u001b[0m\u001b[1;32m    689\u001b[0m \u001b[0;34m\u001b[0m\u001b[0m\n\u001b[1;32m    690\u001b[0m         \u001b[0;31m# For multi-metric evaluation, store the best_index_, best_params_ and\u001b[0m\u001b[0;34m\u001b[0m\u001b[0;34m\u001b[0m\u001b[0;34m\u001b[0m\u001b[0m\n",
      "\u001b[0;32m~/anaconda3/lib/python3.7/site-packages/sklearn/model_selection/_search.py\u001b[0m in \u001b[0;36m_run_search\u001b[0;34m(self, evaluate_candidates)\u001b[0m\n\u001b[1;32m   1147\u001b[0m     \u001b[0;32mdef\u001b[0m \u001b[0m_run_search\u001b[0m\u001b[0;34m(\u001b[0m\u001b[0mself\u001b[0m\u001b[0;34m,\u001b[0m \u001b[0mevaluate_candidates\u001b[0m\u001b[0;34m)\u001b[0m\u001b[0;34m:\u001b[0m\u001b[0;34m\u001b[0m\u001b[0;34m\u001b[0m\u001b[0m\n\u001b[1;32m   1148\u001b[0m         \u001b[0;34m\"\"\"Search all candidates in param_grid\"\"\"\u001b[0m\u001b[0;34m\u001b[0m\u001b[0;34m\u001b[0m\u001b[0m\n\u001b[0;32m-> 1149\u001b[0;31m         \u001b[0mevaluate_candidates\u001b[0m\u001b[0;34m(\u001b[0m\u001b[0mParameterGrid\u001b[0m\u001b[0;34m(\u001b[0m\u001b[0mself\u001b[0m\u001b[0;34m.\u001b[0m\u001b[0mparam_grid\u001b[0m\u001b[0;34m)\u001b[0m\u001b[0;34m)\u001b[0m\u001b[0;34m\u001b[0m\u001b[0;34m\u001b[0m\u001b[0m\n\u001b[0m\u001b[1;32m   1150\u001b[0m \u001b[0;34m\u001b[0m\u001b[0m\n\u001b[1;32m   1151\u001b[0m \u001b[0;34m\u001b[0m\u001b[0m\n",
      "\u001b[0;32m~/anaconda3/lib/python3.7/site-packages/sklearn/model_selection/_search.py\u001b[0m in \u001b[0;36mevaluate_candidates\u001b[0;34m(candidate_params)\u001b[0m\n\u001b[1;32m    665\u001b[0m                                \u001b[0;32mfor\u001b[0m \u001b[0mparameters\u001b[0m\u001b[0;34m,\u001b[0m \u001b[0;34m(\u001b[0m\u001b[0mtrain\u001b[0m\u001b[0;34m,\u001b[0m \u001b[0mtest\u001b[0m\u001b[0;34m)\u001b[0m\u001b[0;34m\u001b[0m\u001b[0;34m\u001b[0m\u001b[0m\n\u001b[1;32m    666\u001b[0m                                in product(candidate_params,\n\u001b[0;32m--> 667\u001b[0;31m                                           cv.split(X, y, groups)))\n\u001b[0m\u001b[1;32m    668\u001b[0m \u001b[0;34m\u001b[0m\u001b[0m\n\u001b[1;32m    669\u001b[0m                 \u001b[0;32mif\u001b[0m \u001b[0mlen\u001b[0m\u001b[0;34m(\u001b[0m\u001b[0mout\u001b[0m\u001b[0;34m)\u001b[0m \u001b[0;34m<\u001b[0m \u001b[0;36m1\u001b[0m\u001b[0;34m:\u001b[0m\u001b[0;34m\u001b[0m\u001b[0;34m\u001b[0m\u001b[0m\n",
      "\u001b[0;32m~/anaconda3/lib/python3.7/site-packages/joblib/parallel.py\u001b[0m in \u001b[0;36m__call__\u001b[0;34m(self, iterable)\u001b[0m\n\u001b[1;32m    922\u001b[0m                 \u001b[0mself\u001b[0m\u001b[0;34m.\u001b[0m\u001b[0m_iterating\u001b[0m \u001b[0;34m=\u001b[0m \u001b[0mself\u001b[0m\u001b[0;34m.\u001b[0m\u001b[0m_original_iterator\u001b[0m \u001b[0;32mis\u001b[0m \u001b[0;32mnot\u001b[0m \u001b[0;32mNone\u001b[0m\u001b[0;34m\u001b[0m\u001b[0;34m\u001b[0m\u001b[0m\n\u001b[1;32m    923\u001b[0m \u001b[0;34m\u001b[0m\u001b[0m\n\u001b[0;32m--> 924\u001b[0;31m             \u001b[0;32mwhile\u001b[0m \u001b[0mself\u001b[0m\u001b[0;34m.\u001b[0m\u001b[0mdispatch_one_batch\u001b[0m\u001b[0;34m(\u001b[0m\u001b[0miterator\u001b[0m\u001b[0;34m)\u001b[0m\u001b[0;34m:\u001b[0m\u001b[0;34m\u001b[0m\u001b[0;34m\u001b[0m\u001b[0m\n\u001b[0m\u001b[1;32m    925\u001b[0m                 \u001b[0;32mpass\u001b[0m\u001b[0;34m\u001b[0m\u001b[0;34m\u001b[0m\u001b[0m\n\u001b[1;32m    926\u001b[0m \u001b[0;34m\u001b[0m\u001b[0m\n",
      "\u001b[0;32m~/anaconda3/lib/python3.7/site-packages/joblib/parallel.py\u001b[0m in \u001b[0;36mdispatch_one_batch\u001b[0;34m(self, iterator)\u001b[0m\n\u001b[1;32m    757\u001b[0m                 \u001b[0;32mreturn\u001b[0m \u001b[0;32mFalse\u001b[0m\u001b[0;34m\u001b[0m\u001b[0;34m\u001b[0m\u001b[0m\n\u001b[1;32m    758\u001b[0m             \u001b[0;32melse\u001b[0m\u001b[0;34m:\u001b[0m\u001b[0;34m\u001b[0m\u001b[0;34m\u001b[0m\u001b[0m\n\u001b[0;32m--> 759\u001b[0;31m                 \u001b[0mself\u001b[0m\u001b[0;34m.\u001b[0m\u001b[0m_dispatch\u001b[0m\u001b[0;34m(\u001b[0m\u001b[0mtasks\u001b[0m\u001b[0;34m)\u001b[0m\u001b[0;34m\u001b[0m\u001b[0;34m\u001b[0m\u001b[0m\n\u001b[0m\u001b[1;32m    760\u001b[0m                 \u001b[0;32mreturn\u001b[0m \u001b[0;32mTrue\u001b[0m\u001b[0;34m\u001b[0m\u001b[0;34m\u001b[0m\u001b[0m\n\u001b[1;32m    761\u001b[0m \u001b[0;34m\u001b[0m\u001b[0m\n",
      "\u001b[0;32m~/anaconda3/lib/python3.7/site-packages/joblib/parallel.py\u001b[0m in \u001b[0;36m_dispatch\u001b[0;34m(self, batch)\u001b[0m\n\u001b[1;32m    714\u001b[0m         \u001b[0;32mwith\u001b[0m \u001b[0mself\u001b[0m\u001b[0;34m.\u001b[0m\u001b[0m_lock\u001b[0m\u001b[0;34m:\u001b[0m\u001b[0;34m\u001b[0m\u001b[0;34m\u001b[0m\u001b[0m\n\u001b[1;32m    715\u001b[0m             \u001b[0mjob_idx\u001b[0m \u001b[0;34m=\u001b[0m \u001b[0mlen\u001b[0m\u001b[0;34m(\u001b[0m\u001b[0mself\u001b[0m\u001b[0;34m.\u001b[0m\u001b[0m_jobs\u001b[0m\u001b[0;34m)\u001b[0m\u001b[0;34m\u001b[0m\u001b[0;34m\u001b[0m\u001b[0m\n\u001b[0;32m--> 716\u001b[0;31m             \u001b[0mjob\u001b[0m \u001b[0;34m=\u001b[0m \u001b[0mself\u001b[0m\u001b[0;34m.\u001b[0m\u001b[0m_backend\u001b[0m\u001b[0;34m.\u001b[0m\u001b[0mapply_async\u001b[0m\u001b[0;34m(\u001b[0m\u001b[0mbatch\u001b[0m\u001b[0;34m,\u001b[0m \u001b[0mcallback\u001b[0m\u001b[0;34m=\u001b[0m\u001b[0mcb\u001b[0m\u001b[0;34m)\u001b[0m\u001b[0;34m\u001b[0m\u001b[0;34m\u001b[0m\u001b[0m\n\u001b[0m\u001b[1;32m    717\u001b[0m             \u001b[0;31m# A job can complete so quickly than its callback is\u001b[0m\u001b[0;34m\u001b[0m\u001b[0;34m\u001b[0m\u001b[0;34m\u001b[0m\u001b[0m\n\u001b[1;32m    718\u001b[0m             \u001b[0;31m# called before we get here, causing self._jobs to\u001b[0m\u001b[0;34m\u001b[0m\u001b[0;34m\u001b[0m\u001b[0;34m\u001b[0m\u001b[0m\n",
      "\u001b[0;32m~/anaconda3/lib/python3.7/site-packages/joblib/_parallel_backends.py\u001b[0m in \u001b[0;36mapply_async\u001b[0;34m(self, func, callback)\u001b[0m\n\u001b[1;32m    180\u001b[0m     \u001b[0;32mdef\u001b[0m \u001b[0mapply_async\u001b[0m\u001b[0;34m(\u001b[0m\u001b[0mself\u001b[0m\u001b[0;34m,\u001b[0m \u001b[0mfunc\u001b[0m\u001b[0;34m,\u001b[0m \u001b[0mcallback\u001b[0m\u001b[0;34m=\u001b[0m\u001b[0;32mNone\u001b[0m\u001b[0;34m)\u001b[0m\u001b[0;34m:\u001b[0m\u001b[0;34m\u001b[0m\u001b[0;34m\u001b[0m\u001b[0m\n\u001b[1;32m    181\u001b[0m         \u001b[0;34m\"\"\"Schedule a func to be run\"\"\"\u001b[0m\u001b[0;34m\u001b[0m\u001b[0;34m\u001b[0m\u001b[0m\n\u001b[0;32m--> 182\u001b[0;31m         \u001b[0mresult\u001b[0m \u001b[0;34m=\u001b[0m \u001b[0mImmediateResult\u001b[0m\u001b[0;34m(\u001b[0m\u001b[0mfunc\u001b[0m\u001b[0;34m)\u001b[0m\u001b[0;34m\u001b[0m\u001b[0;34m\u001b[0m\u001b[0m\n\u001b[0m\u001b[1;32m    183\u001b[0m         \u001b[0;32mif\u001b[0m \u001b[0mcallback\u001b[0m\u001b[0;34m:\u001b[0m\u001b[0;34m\u001b[0m\u001b[0;34m\u001b[0m\u001b[0m\n\u001b[1;32m    184\u001b[0m             \u001b[0mcallback\u001b[0m\u001b[0;34m(\u001b[0m\u001b[0mresult\u001b[0m\u001b[0;34m)\u001b[0m\u001b[0;34m\u001b[0m\u001b[0;34m\u001b[0m\u001b[0m\n",
      "\u001b[0;32m~/anaconda3/lib/python3.7/site-packages/joblib/_parallel_backends.py\u001b[0m in \u001b[0;36m__init__\u001b[0;34m(self, batch)\u001b[0m\n\u001b[1;32m    547\u001b[0m         \u001b[0;31m# Don't delay the application, to avoid keeping the input\u001b[0m\u001b[0;34m\u001b[0m\u001b[0;34m\u001b[0m\u001b[0;34m\u001b[0m\u001b[0m\n\u001b[1;32m    548\u001b[0m         \u001b[0;31m# arguments in memory\u001b[0m\u001b[0;34m\u001b[0m\u001b[0;34m\u001b[0m\u001b[0;34m\u001b[0m\u001b[0m\n\u001b[0;32m--> 549\u001b[0;31m         \u001b[0mself\u001b[0m\u001b[0;34m.\u001b[0m\u001b[0mresults\u001b[0m \u001b[0;34m=\u001b[0m \u001b[0mbatch\u001b[0m\u001b[0;34m(\u001b[0m\u001b[0;34m)\u001b[0m\u001b[0;34m\u001b[0m\u001b[0;34m\u001b[0m\u001b[0m\n\u001b[0m\u001b[1;32m    550\u001b[0m \u001b[0;34m\u001b[0m\u001b[0m\n\u001b[1;32m    551\u001b[0m     \u001b[0;32mdef\u001b[0m \u001b[0mget\u001b[0m\u001b[0;34m(\u001b[0m\u001b[0mself\u001b[0m\u001b[0;34m)\u001b[0m\u001b[0;34m:\u001b[0m\u001b[0;34m\u001b[0m\u001b[0;34m\u001b[0m\u001b[0m\n",
      "\u001b[0;32m~/anaconda3/lib/python3.7/site-packages/joblib/parallel.py\u001b[0m in \u001b[0;36m__call__\u001b[0;34m(self)\u001b[0m\n\u001b[1;32m    223\u001b[0m         \u001b[0;32mwith\u001b[0m \u001b[0mparallel_backend\u001b[0m\u001b[0;34m(\u001b[0m\u001b[0mself\u001b[0m\u001b[0;34m.\u001b[0m\u001b[0m_backend\u001b[0m\u001b[0;34m,\u001b[0m \u001b[0mn_jobs\u001b[0m\u001b[0;34m=\u001b[0m\u001b[0mself\u001b[0m\u001b[0;34m.\u001b[0m\u001b[0m_n_jobs\u001b[0m\u001b[0;34m)\u001b[0m\u001b[0;34m:\u001b[0m\u001b[0;34m\u001b[0m\u001b[0;34m\u001b[0m\u001b[0m\n\u001b[1;32m    224\u001b[0m             return [func(*args, **kwargs)\n\u001b[0;32m--> 225\u001b[0;31m                     for func, args, kwargs in self.items]\n\u001b[0m\u001b[1;32m    226\u001b[0m \u001b[0;34m\u001b[0m\u001b[0m\n\u001b[1;32m    227\u001b[0m     \u001b[0;32mdef\u001b[0m \u001b[0m__len__\u001b[0m\u001b[0;34m(\u001b[0m\u001b[0mself\u001b[0m\u001b[0;34m)\u001b[0m\u001b[0;34m:\u001b[0m\u001b[0;34m\u001b[0m\u001b[0;34m\u001b[0m\u001b[0m\n",
      "\u001b[0;32m~/anaconda3/lib/python3.7/site-packages/joblib/parallel.py\u001b[0m in \u001b[0;36m<listcomp>\u001b[0;34m(.0)\u001b[0m\n\u001b[1;32m    223\u001b[0m         \u001b[0;32mwith\u001b[0m \u001b[0mparallel_backend\u001b[0m\u001b[0;34m(\u001b[0m\u001b[0mself\u001b[0m\u001b[0;34m.\u001b[0m\u001b[0m_backend\u001b[0m\u001b[0;34m,\u001b[0m \u001b[0mn_jobs\u001b[0m\u001b[0;34m=\u001b[0m\u001b[0mself\u001b[0m\u001b[0;34m.\u001b[0m\u001b[0m_n_jobs\u001b[0m\u001b[0;34m)\u001b[0m\u001b[0;34m:\u001b[0m\u001b[0;34m\u001b[0m\u001b[0;34m\u001b[0m\u001b[0m\n\u001b[1;32m    224\u001b[0m             return [func(*args, **kwargs)\n\u001b[0;32m--> 225\u001b[0;31m                     for func, args, kwargs in self.items]\n\u001b[0m\u001b[1;32m    226\u001b[0m \u001b[0;34m\u001b[0m\u001b[0m\n\u001b[1;32m    227\u001b[0m     \u001b[0;32mdef\u001b[0m \u001b[0m__len__\u001b[0m\u001b[0;34m(\u001b[0m\u001b[0mself\u001b[0m\u001b[0;34m)\u001b[0m\u001b[0;34m:\u001b[0m\u001b[0;34m\u001b[0m\u001b[0;34m\u001b[0m\u001b[0m\n",
      "\u001b[0;32m~/anaconda3/lib/python3.7/site-packages/sklearn/model_selection/_validation.py\u001b[0m in \u001b[0;36m_fit_and_score\u001b[0;34m(estimator, X, y, scorer, train, test, verbose, parameters, fit_params, return_train_score, return_parameters, return_n_test_samples, return_times, return_estimator, error_score)\u001b[0m\n\u001b[1;32m    554\u001b[0m         \u001b[0mfit_time\u001b[0m \u001b[0;34m=\u001b[0m \u001b[0mtime\u001b[0m\u001b[0;34m.\u001b[0m\u001b[0mtime\u001b[0m\u001b[0;34m(\u001b[0m\u001b[0;34m)\u001b[0m \u001b[0;34m-\u001b[0m \u001b[0mstart_time\u001b[0m\u001b[0;34m\u001b[0m\u001b[0;34m\u001b[0m\u001b[0m\n\u001b[1;32m    555\u001b[0m         \u001b[0;31m# _score will return dict if is_multimetric is True\u001b[0m\u001b[0;34m\u001b[0m\u001b[0;34m\u001b[0m\u001b[0;34m\u001b[0m\u001b[0m\n\u001b[0;32m--> 556\u001b[0;31m         \u001b[0mtest_scores\u001b[0m \u001b[0;34m=\u001b[0m \u001b[0m_score\u001b[0m\u001b[0;34m(\u001b[0m\u001b[0mestimator\u001b[0m\u001b[0;34m,\u001b[0m \u001b[0mX_test\u001b[0m\u001b[0;34m,\u001b[0m \u001b[0my_test\u001b[0m\u001b[0;34m,\u001b[0m \u001b[0mscorer\u001b[0m\u001b[0;34m,\u001b[0m \u001b[0mis_multimetric\u001b[0m\u001b[0;34m)\u001b[0m\u001b[0;34m\u001b[0m\u001b[0;34m\u001b[0m\u001b[0m\n\u001b[0m\u001b[1;32m    557\u001b[0m         \u001b[0mscore_time\u001b[0m \u001b[0;34m=\u001b[0m \u001b[0mtime\u001b[0m\u001b[0;34m.\u001b[0m\u001b[0mtime\u001b[0m\u001b[0;34m(\u001b[0m\u001b[0;34m)\u001b[0m \u001b[0;34m-\u001b[0m \u001b[0mstart_time\u001b[0m \u001b[0;34m-\u001b[0m \u001b[0mfit_time\u001b[0m\u001b[0;34m\u001b[0m\u001b[0;34m\u001b[0m\u001b[0m\n\u001b[1;32m    558\u001b[0m         \u001b[0;32mif\u001b[0m \u001b[0mreturn_train_score\u001b[0m\u001b[0;34m:\u001b[0m\u001b[0;34m\u001b[0m\u001b[0;34m\u001b[0m\u001b[0m\n",
      "\u001b[0;32m~/anaconda3/lib/python3.7/site-packages/sklearn/model_selection/_validation.py\u001b[0m in \u001b[0;36m_score\u001b[0;34m(estimator, X_test, y_test, scorer, is_multimetric)\u001b[0m\n\u001b[1;32m    597\u001b[0m     \"\"\"\n\u001b[1;32m    598\u001b[0m     \u001b[0;32mif\u001b[0m \u001b[0mis_multimetric\u001b[0m\u001b[0;34m:\u001b[0m\u001b[0;34m\u001b[0m\u001b[0;34m\u001b[0m\u001b[0m\n\u001b[0;32m--> 599\u001b[0;31m         \u001b[0;32mreturn\u001b[0m \u001b[0m_multimetric_score\u001b[0m\u001b[0;34m(\u001b[0m\u001b[0mestimator\u001b[0m\u001b[0;34m,\u001b[0m \u001b[0mX_test\u001b[0m\u001b[0;34m,\u001b[0m \u001b[0my_test\u001b[0m\u001b[0;34m,\u001b[0m \u001b[0mscorer\u001b[0m\u001b[0;34m)\u001b[0m\u001b[0;34m\u001b[0m\u001b[0;34m\u001b[0m\u001b[0m\n\u001b[0m\u001b[1;32m    600\u001b[0m     \u001b[0;32melse\u001b[0m\u001b[0;34m:\u001b[0m\u001b[0;34m\u001b[0m\u001b[0;34m\u001b[0m\u001b[0m\n\u001b[1;32m    601\u001b[0m         \u001b[0;32mif\u001b[0m \u001b[0my_test\u001b[0m \u001b[0;32mis\u001b[0m \u001b[0;32mNone\u001b[0m\u001b[0;34m:\u001b[0m\u001b[0;34m\u001b[0m\u001b[0;34m\u001b[0m\u001b[0m\n",
      "\u001b[0;32m~/anaconda3/lib/python3.7/site-packages/sklearn/model_selection/_validation.py\u001b[0m in \u001b[0;36m_multimetric_score\u001b[0;34m(estimator, X_test, y_test, scorers)\u001b[0m\n\u001b[1;32m    627\u001b[0m             \u001b[0mscore\u001b[0m \u001b[0;34m=\u001b[0m \u001b[0mscorer\u001b[0m\u001b[0;34m(\u001b[0m\u001b[0mestimator\u001b[0m\u001b[0;34m,\u001b[0m \u001b[0mX_test\u001b[0m\u001b[0;34m)\u001b[0m\u001b[0;34m\u001b[0m\u001b[0;34m\u001b[0m\u001b[0m\n\u001b[1;32m    628\u001b[0m         \u001b[0;32melse\u001b[0m\u001b[0;34m:\u001b[0m\u001b[0;34m\u001b[0m\u001b[0;34m\u001b[0m\u001b[0m\n\u001b[0;32m--> 629\u001b[0;31m             \u001b[0mscore\u001b[0m \u001b[0;34m=\u001b[0m \u001b[0mscorer\u001b[0m\u001b[0;34m(\u001b[0m\u001b[0mestimator\u001b[0m\u001b[0;34m,\u001b[0m \u001b[0mX_test\u001b[0m\u001b[0;34m,\u001b[0m \u001b[0my_test\u001b[0m\u001b[0;34m)\u001b[0m\u001b[0;34m\u001b[0m\u001b[0;34m\u001b[0m\u001b[0m\n\u001b[0m\u001b[1;32m    630\u001b[0m \u001b[0;34m\u001b[0m\u001b[0m\n\u001b[1;32m    631\u001b[0m         \u001b[0;32mif\u001b[0m \u001b[0mhasattr\u001b[0m\u001b[0;34m(\u001b[0m\u001b[0mscore\u001b[0m\u001b[0;34m,\u001b[0m \u001b[0;34m'item'\u001b[0m\u001b[0;34m)\u001b[0m\u001b[0;34m:\u001b[0m\u001b[0;34m\u001b[0m\u001b[0;34m\u001b[0m\u001b[0m\n",
      "\u001b[0;32m~/anaconda3/lib/python3.7/site-packages/sklearn/metrics/scorer.py\u001b[0m in \u001b[0;36m__call__\u001b[0;34m(self, estimator, X, y_true, sample_weight)\u001b[0m\n\u001b[1;32m     88\u001b[0m         \"\"\"\n\u001b[1;32m     89\u001b[0m \u001b[0;34m\u001b[0m\u001b[0m\n\u001b[0;32m---> 90\u001b[0;31m         \u001b[0my_pred\u001b[0m \u001b[0;34m=\u001b[0m \u001b[0mestimator\u001b[0m\u001b[0;34m.\u001b[0m\u001b[0mpredict\u001b[0m\u001b[0;34m(\u001b[0m\u001b[0mX\u001b[0m\u001b[0;34m)\u001b[0m\u001b[0;34m\u001b[0m\u001b[0;34m\u001b[0m\u001b[0m\n\u001b[0m\u001b[1;32m     91\u001b[0m         \u001b[0;32mif\u001b[0m \u001b[0msample_weight\u001b[0m \u001b[0;32mis\u001b[0m \u001b[0;32mnot\u001b[0m \u001b[0;32mNone\u001b[0m\u001b[0;34m:\u001b[0m\u001b[0;34m\u001b[0m\u001b[0;34m\u001b[0m\u001b[0m\n\u001b[1;32m     92\u001b[0m             return self._sign * self._score_func(y_true, y_pred,\n",
      "\u001b[0;32m~/anaconda3/lib/python3.7/site-packages/sklearn/neighbors/classification.py\u001b[0m in \u001b[0;36mpredict\u001b[0;34m(self, X)\u001b[0m\n\u001b[1;32m    147\u001b[0m         \u001b[0mX\u001b[0m \u001b[0;34m=\u001b[0m \u001b[0mcheck_array\u001b[0m\u001b[0;34m(\u001b[0m\u001b[0mX\u001b[0m\u001b[0;34m,\u001b[0m \u001b[0maccept_sparse\u001b[0m\u001b[0;34m=\u001b[0m\u001b[0;34m'csr'\u001b[0m\u001b[0;34m)\u001b[0m\u001b[0;34m\u001b[0m\u001b[0;34m\u001b[0m\u001b[0m\n\u001b[1;32m    148\u001b[0m \u001b[0;34m\u001b[0m\u001b[0m\n\u001b[0;32m--> 149\u001b[0;31m         \u001b[0mneigh_dist\u001b[0m\u001b[0;34m,\u001b[0m \u001b[0mneigh_ind\u001b[0m \u001b[0;34m=\u001b[0m \u001b[0mself\u001b[0m\u001b[0;34m.\u001b[0m\u001b[0mkneighbors\u001b[0m\u001b[0;34m(\u001b[0m\u001b[0mX\u001b[0m\u001b[0;34m)\u001b[0m\u001b[0;34m\u001b[0m\u001b[0;34m\u001b[0m\u001b[0m\n\u001b[0m\u001b[1;32m    150\u001b[0m         \u001b[0mclasses_\u001b[0m \u001b[0;34m=\u001b[0m \u001b[0mself\u001b[0m\u001b[0;34m.\u001b[0m\u001b[0mclasses_\u001b[0m\u001b[0;34m\u001b[0m\u001b[0;34m\u001b[0m\u001b[0m\n\u001b[1;32m    151\u001b[0m         \u001b[0m_y\u001b[0m \u001b[0;34m=\u001b[0m \u001b[0mself\u001b[0m\u001b[0;34m.\u001b[0m\u001b[0m_y\u001b[0m\u001b[0;34m\u001b[0m\u001b[0;34m\u001b[0m\u001b[0m\n",
      "\u001b[0;32m~/anaconda3/lib/python3.7/site-packages/sklearn/neighbors/base.py\u001b[0m in \u001b[0;36mkneighbors\u001b[0;34m(self, X, n_neighbors, return_distance)\u001b[0m\n\u001b[1;32m    452\u001b[0m                 delayed_query(\n\u001b[1;32m    453\u001b[0m                     self._tree, X[s], n_neighbors, return_distance)\n\u001b[0;32m--> 454\u001b[0;31m                 \u001b[0;32mfor\u001b[0m \u001b[0ms\u001b[0m \u001b[0;32min\u001b[0m \u001b[0mgen_even_slices\u001b[0m\u001b[0;34m(\u001b[0m\u001b[0mX\u001b[0m\u001b[0;34m.\u001b[0m\u001b[0mshape\u001b[0m\u001b[0;34m[\u001b[0m\u001b[0;36m0\u001b[0m\u001b[0;34m]\u001b[0m\u001b[0;34m,\u001b[0m \u001b[0mn_jobs\u001b[0m\u001b[0;34m)\u001b[0m\u001b[0;34m\u001b[0m\u001b[0;34m\u001b[0m\u001b[0m\n\u001b[0m\u001b[1;32m    455\u001b[0m             )\n\u001b[1;32m    456\u001b[0m         \u001b[0;32melse\u001b[0m\u001b[0;34m:\u001b[0m\u001b[0;34m\u001b[0m\u001b[0;34m\u001b[0m\u001b[0m\n",
      "\u001b[0;32m~/anaconda3/lib/python3.7/site-packages/joblib/parallel.py\u001b[0m in \u001b[0;36m__call__\u001b[0;34m(self, iterable)\u001b[0m\n\u001b[1;32m    919\u001b[0m             \u001b[0;31m# remaining jobs.\u001b[0m\u001b[0;34m\u001b[0m\u001b[0;34m\u001b[0m\u001b[0;34m\u001b[0m\u001b[0m\n\u001b[1;32m    920\u001b[0m             \u001b[0mself\u001b[0m\u001b[0;34m.\u001b[0m\u001b[0m_iterating\u001b[0m \u001b[0;34m=\u001b[0m \u001b[0;32mFalse\u001b[0m\u001b[0;34m\u001b[0m\u001b[0;34m\u001b[0m\u001b[0m\n\u001b[0;32m--> 921\u001b[0;31m             \u001b[0;32mif\u001b[0m \u001b[0mself\u001b[0m\u001b[0;34m.\u001b[0m\u001b[0mdispatch_one_batch\u001b[0m\u001b[0;34m(\u001b[0m\u001b[0miterator\u001b[0m\u001b[0;34m)\u001b[0m\u001b[0;34m:\u001b[0m\u001b[0;34m\u001b[0m\u001b[0;34m\u001b[0m\u001b[0m\n\u001b[0m\u001b[1;32m    922\u001b[0m                 \u001b[0mself\u001b[0m\u001b[0;34m.\u001b[0m\u001b[0m_iterating\u001b[0m \u001b[0;34m=\u001b[0m \u001b[0mself\u001b[0m\u001b[0;34m.\u001b[0m\u001b[0m_original_iterator\u001b[0m \u001b[0;32mis\u001b[0m \u001b[0;32mnot\u001b[0m \u001b[0;32mNone\u001b[0m\u001b[0;34m\u001b[0m\u001b[0;34m\u001b[0m\u001b[0m\n\u001b[1;32m    923\u001b[0m \u001b[0;34m\u001b[0m\u001b[0m\n",
      "\u001b[0;32m~/anaconda3/lib/python3.7/site-packages/joblib/parallel.py\u001b[0m in \u001b[0;36mdispatch_one_batch\u001b[0;34m(self, iterator)\u001b[0m\n\u001b[1;32m    757\u001b[0m                 \u001b[0;32mreturn\u001b[0m \u001b[0;32mFalse\u001b[0m\u001b[0;34m\u001b[0m\u001b[0;34m\u001b[0m\u001b[0m\n\u001b[1;32m    758\u001b[0m             \u001b[0;32melse\u001b[0m\u001b[0;34m:\u001b[0m\u001b[0;34m\u001b[0m\u001b[0;34m\u001b[0m\u001b[0m\n\u001b[0;32m--> 759\u001b[0;31m                 \u001b[0mself\u001b[0m\u001b[0;34m.\u001b[0m\u001b[0m_dispatch\u001b[0m\u001b[0;34m(\u001b[0m\u001b[0mtasks\u001b[0m\u001b[0;34m)\u001b[0m\u001b[0;34m\u001b[0m\u001b[0;34m\u001b[0m\u001b[0m\n\u001b[0m\u001b[1;32m    760\u001b[0m                 \u001b[0;32mreturn\u001b[0m \u001b[0;32mTrue\u001b[0m\u001b[0;34m\u001b[0m\u001b[0;34m\u001b[0m\u001b[0m\n\u001b[1;32m    761\u001b[0m \u001b[0;34m\u001b[0m\u001b[0m\n",
      "\u001b[0;32m~/anaconda3/lib/python3.7/site-packages/joblib/parallel.py\u001b[0m in \u001b[0;36m_dispatch\u001b[0;34m(self, batch)\u001b[0m\n\u001b[1;32m    714\u001b[0m         \u001b[0;32mwith\u001b[0m \u001b[0mself\u001b[0m\u001b[0;34m.\u001b[0m\u001b[0m_lock\u001b[0m\u001b[0;34m:\u001b[0m\u001b[0;34m\u001b[0m\u001b[0;34m\u001b[0m\u001b[0m\n\u001b[1;32m    715\u001b[0m             \u001b[0mjob_idx\u001b[0m \u001b[0;34m=\u001b[0m \u001b[0mlen\u001b[0m\u001b[0;34m(\u001b[0m\u001b[0mself\u001b[0m\u001b[0;34m.\u001b[0m\u001b[0m_jobs\u001b[0m\u001b[0;34m)\u001b[0m\u001b[0;34m\u001b[0m\u001b[0;34m\u001b[0m\u001b[0m\n\u001b[0;32m--> 716\u001b[0;31m             \u001b[0mjob\u001b[0m \u001b[0;34m=\u001b[0m \u001b[0mself\u001b[0m\u001b[0;34m.\u001b[0m\u001b[0m_backend\u001b[0m\u001b[0;34m.\u001b[0m\u001b[0mapply_async\u001b[0m\u001b[0;34m(\u001b[0m\u001b[0mbatch\u001b[0m\u001b[0;34m,\u001b[0m \u001b[0mcallback\u001b[0m\u001b[0;34m=\u001b[0m\u001b[0mcb\u001b[0m\u001b[0;34m)\u001b[0m\u001b[0;34m\u001b[0m\u001b[0;34m\u001b[0m\u001b[0m\n\u001b[0m\u001b[1;32m    717\u001b[0m             \u001b[0;31m# A job can complete so quickly than its callback is\u001b[0m\u001b[0;34m\u001b[0m\u001b[0;34m\u001b[0m\u001b[0;34m\u001b[0m\u001b[0m\n\u001b[1;32m    718\u001b[0m             \u001b[0;31m# called before we get here, causing self._jobs to\u001b[0m\u001b[0;34m\u001b[0m\u001b[0;34m\u001b[0m\u001b[0;34m\u001b[0m\u001b[0m\n",
      "\u001b[0;32m~/anaconda3/lib/python3.7/site-packages/joblib/_parallel_backends.py\u001b[0m in \u001b[0;36mapply_async\u001b[0;34m(self, func, callback)\u001b[0m\n\u001b[1;32m    180\u001b[0m     \u001b[0;32mdef\u001b[0m \u001b[0mapply_async\u001b[0m\u001b[0;34m(\u001b[0m\u001b[0mself\u001b[0m\u001b[0;34m,\u001b[0m \u001b[0mfunc\u001b[0m\u001b[0;34m,\u001b[0m \u001b[0mcallback\u001b[0m\u001b[0;34m=\u001b[0m\u001b[0;32mNone\u001b[0m\u001b[0;34m)\u001b[0m\u001b[0;34m:\u001b[0m\u001b[0;34m\u001b[0m\u001b[0;34m\u001b[0m\u001b[0m\n\u001b[1;32m    181\u001b[0m         \u001b[0;34m\"\"\"Schedule a func to be run\"\"\"\u001b[0m\u001b[0;34m\u001b[0m\u001b[0;34m\u001b[0m\u001b[0m\n\u001b[0;32m--> 182\u001b[0;31m         \u001b[0mresult\u001b[0m \u001b[0;34m=\u001b[0m \u001b[0mImmediateResult\u001b[0m\u001b[0;34m(\u001b[0m\u001b[0mfunc\u001b[0m\u001b[0;34m)\u001b[0m\u001b[0;34m\u001b[0m\u001b[0;34m\u001b[0m\u001b[0m\n\u001b[0m\u001b[1;32m    183\u001b[0m         \u001b[0;32mif\u001b[0m \u001b[0mcallback\u001b[0m\u001b[0;34m:\u001b[0m\u001b[0;34m\u001b[0m\u001b[0;34m\u001b[0m\u001b[0m\n\u001b[1;32m    184\u001b[0m             \u001b[0mcallback\u001b[0m\u001b[0;34m(\u001b[0m\u001b[0mresult\u001b[0m\u001b[0;34m)\u001b[0m\u001b[0;34m\u001b[0m\u001b[0;34m\u001b[0m\u001b[0m\n",
      "\u001b[0;32m~/anaconda3/lib/python3.7/site-packages/joblib/_parallel_backends.py\u001b[0m in \u001b[0;36m__init__\u001b[0;34m(self, batch)\u001b[0m\n\u001b[1;32m    547\u001b[0m         \u001b[0;31m# Don't delay the application, to avoid keeping the input\u001b[0m\u001b[0;34m\u001b[0m\u001b[0;34m\u001b[0m\u001b[0;34m\u001b[0m\u001b[0m\n\u001b[1;32m    548\u001b[0m         \u001b[0;31m# arguments in memory\u001b[0m\u001b[0;34m\u001b[0m\u001b[0;34m\u001b[0m\u001b[0;34m\u001b[0m\u001b[0m\n\u001b[0;32m--> 549\u001b[0;31m         \u001b[0mself\u001b[0m\u001b[0;34m.\u001b[0m\u001b[0mresults\u001b[0m \u001b[0;34m=\u001b[0m \u001b[0mbatch\u001b[0m\u001b[0;34m(\u001b[0m\u001b[0;34m)\u001b[0m\u001b[0;34m\u001b[0m\u001b[0;34m\u001b[0m\u001b[0m\n\u001b[0m\u001b[1;32m    550\u001b[0m \u001b[0;34m\u001b[0m\u001b[0m\n\u001b[1;32m    551\u001b[0m     \u001b[0;32mdef\u001b[0m \u001b[0mget\u001b[0m\u001b[0;34m(\u001b[0m\u001b[0mself\u001b[0m\u001b[0;34m)\u001b[0m\u001b[0;34m:\u001b[0m\u001b[0;34m\u001b[0m\u001b[0;34m\u001b[0m\u001b[0m\n",
      "\u001b[0;32m~/anaconda3/lib/python3.7/site-packages/joblib/parallel.py\u001b[0m in \u001b[0;36m__call__\u001b[0;34m(self)\u001b[0m\n\u001b[1;32m    223\u001b[0m         \u001b[0;32mwith\u001b[0m \u001b[0mparallel_backend\u001b[0m\u001b[0;34m(\u001b[0m\u001b[0mself\u001b[0m\u001b[0;34m.\u001b[0m\u001b[0m_backend\u001b[0m\u001b[0;34m,\u001b[0m \u001b[0mn_jobs\u001b[0m\u001b[0;34m=\u001b[0m\u001b[0mself\u001b[0m\u001b[0;34m.\u001b[0m\u001b[0m_n_jobs\u001b[0m\u001b[0;34m)\u001b[0m\u001b[0;34m:\u001b[0m\u001b[0;34m\u001b[0m\u001b[0;34m\u001b[0m\u001b[0m\n\u001b[1;32m    224\u001b[0m             return [func(*args, **kwargs)\n\u001b[0;32m--> 225\u001b[0;31m                     for func, args, kwargs in self.items]\n\u001b[0m\u001b[1;32m    226\u001b[0m \u001b[0;34m\u001b[0m\u001b[0m\n\u001b[1;32m    227\u001b[0m     \u001b[0;32mdef\u001b[0m \u001b[0m__len__\u001b[0m\u001b[0;34m(\u001b[0m\u001b[0mself\u001b[0m\u001b[0;34m)\u001b[0m\u001b[0;34m:\u001b[0m\u001b[0;34m\u001b[0m\u001b[0;34m\u001b[0m\u001b[0m\n",
      "\u001b[0;32m~/anaconda3/lib/python3.7/site-packages/joblib/parallel.py\u001b[0m in \u001b[0;36m<listcomp>\u001b[0;34m(.0)\u001b[0m\n\u001b[1;32m    223\u001b[0m         \u001b[0;32mwith\u001b[0m \u001b[0mparallel_backend\u001b[0m\u001b[0;34m(\u001b[0m\u001b[0mself\u001b[0m\u001b[0;34m.\u001b[0m\u001b[0m_backend\u001b[0m\u001b[0;34m,\u001b[0m \u001b[0mn_jobs\u001b[0m\u001b[0;34m=\u001b[0m\u001b[0mself\u001b[0m\u001b[0;34m.\u001b[0m\u001b[0m_n_jobs\u001b[0m\u001b[0;34m)\u001b[0m\u001b[0;34m:\u001b[0m\u001b[0;34m\u001b[0m\u001b[0;34m\u001b[0m\u001b[0m\n\u001b[1;32m    224\u001b[0m             return [func(*args, **kwargs)\n\u001b[0;32m--> 225\u001b[0;31m                     for func, args, kwargs in self.items]\n\u001b[0m\u001b[1;32m    226\u001b[0m \u001b[0;34m\u001b[0m\u001b[0m\n\u001b[1;32m    227\u001b[0m     \u001b[0;32mdef\u001b[0m \u001b[0m__len__\u001b[0m\u001b[0;34m(\u001b[0m\u001b[0mself\u001b[0m\u001b[0;34m)\u001b[0m\u001b[0;34m:\u001b[0m\u001b[0;34m\u001b[0m\u001b[0;34m\u001b[0m\u001b[0m\n",
      "\u001b[0;32m~/anaconda3/lib/python3.7/site-packages/sklearn/neighbors/base.py\u001b[0m in \u001b[0;36m_tree_query_parallel_helper\u001b[0;34m(tree, data, n_neighbors, return_distance)\u001b[0m\n\u001b[1;32m    289\u001b[0m     \u001b[0munder\u001b[0m \u001b[0mPyPy\u001b[0m\u001b[0;34m.\u001b[0m\u001b[0;34m\u001b[0m\u001b[0;34m\u001b[0m\u001b[0m\n\u001b[1;32m    290\u001b[0m     \"\"\"\n\u001b[0;32m--> 291\u001b[0;31m     \u001b[0;32mreturn\u001b[0m \u001b[0mtree\u001b[0m\u001b[0;34m.\u001b[0m\u001b[0mquery\u001b[0m\u001b[0;34m(\u001b[0m\u001b[0mdata\u001b[0m\u001b[0;34m,\u001b[0m \u001b[0mn_neighbors\u001b[0m\u001b[0;34m,\u001b[0m \u001b[0mreturn_distance\u001b[0m\u001b[0;34m)\u001b[0m\u001b[0;34m\u001b[0m\u001b[0;34m\u001b[0m\u001b[0m\n\u001b[0m\u001b[1;32m    292\u001b[0m \u001b[0;34m\u001b[0m\u001b[0m\n\u001b[1;32m    293\u001b[0m \u001b[0;34m\u001b[0m\u001b[0m\n",
      "\u001b[0;31mKeyboardInterrupt\u001b[0m: "
     ]
    }
   ],
   "source": [
    "knn(examples_binary,target_binary,True)"
   ]
  },
  {
   "cell_type": "markdown",
   "metadata": {},
   "source": [
    "Running the grid search algorithm, the best hyperparameters found were the `metric = 'minkowski'` with `p = 1`, meaning distance is measured as the Manhattan distance, with 4 neighbours. Odd numbers are recommended in KNN algorithms to ensure easy majorities in neighbour classes, but it seems an even number scored highest in our selection of numbers. `weights = 'uniform'` attributes equal weight in determining class prediction to every considered neighbour.\n",
    "\n",
    "It's clear that the algorithm is weak in predicting `Adoption=0`, suggesting the imbalance in the dataset is compromising analysis and model performance."
   ]
  },
  {
   "cell_type": "markdown",
   "metadata": {},
   "source": [
    "##### Probabilistic Models - Naïve Bayes"
   ]
  },
  {
   "cell_type": "markdown",
   "metadata": {},
   "source": [
    "The Naïve Bayes algorithm has many different variations, such as:\n",
    "\n",
    "1) *Gaussian*, best used in continuous numerical datasets (presumes a normal distribution of values);\n",
    "    \n",
    "2) *Multinomial*, when features represent frequency counts/number of occurrences;\n",
    "    \n",
    "3) *Bernoulli*, for datasets with binary categories;\n",
    "    \n",
    "4) *Complement*, which is designed for imbalanced datasets.\n",
    "\n",
    "An important aspect to consider in Naïve Bayes models is the underlying assumption that all features are independent from each other."
   ]
  },
  {
   "cell_type": "code",
   "execution_count": null,
   "metadata": {},
   "outputs": [],
   "source": [
    "## This function is a pipeline for training and testing naive bayes Bernoulli models\n",
    "# on binary or multiclass analysis\n",
    "# args:\n",
    "# binary = (boolean) whether the analysis is binary or not\n",
    "\n",
    "def bernoulli(examples,target,binary):\n",
    "    \n",
    "    # Initialising the estimator\n",
    "    bnb = BernoulliNB()\n",
    "    \n",
    "    # Print scores\n",
    "    if binary:\n",
    "        a = [0,1]\n",
    "    else:\n",
    "        a = [0,1,2,3,4]\n",
    "    \n",
    "    # K-fold cross-validation fitting/scoring\n",
    "    (y_pred_bnb, \n",
    "     conf_mat_bnb, \n",
    "     bnb_scores, \n",
    "     bnb_scores_list) = crossvalidation(bnb,\n",
    "                                        examples,\n",
    "                                        target,\n",
    "                                        a)"
   ]
  },
  {
   "cell_type": "code",
   "execution_count": null,
   "metadata": {},
   "outputs": [],
   "source": [
    "bernoulli(examples_binary,target_binary,True)"
   ]
  },
  {
   "cell_type": "markdown",
   "metadata": {},
   "source": [
    "The benchmark tests of Bernoulli Naïve Bayes reveal the following points: prediction of `Adoption=0` is very weak in comparison to `Adoption=1`, most likely due to the imbalance in the used dataset (F1 score of 0.45 and a clearly high number of false `Adoption=1` predictions)."
   ]
  },
  {
   "cell_type": "markdown",
   "metadata": {},
   "source": [
    "##### Tree Models - Decision Tree"
   ]
  },
  {
   "cell_type": "code",
   "execution_count": null,
   "metadata": {},
   "outputs": [],
   "source": [
    "# This function is a pipeline for training and testing tree models\n",
    "# on binary or multiclass analysis\n",
    "# args:\n",
    "# binary = (boolean) whether the analysis is binary or not\n",
    "# tree_vis = (boolean) whether we want to output a visual representation of the tree\n",
    "\n",
    "def decision_tree (examples, target, binary, tree_vis, fnames):\n",
    "    \n",
    "    # Initialising the estimator\n",
    "    dec_tree = tree.DecisionTreeClassifier()\n",
    "    \n",
    "    # Grid search (hyperparameter tuning) and k-fold cross-validation fitting/scoring\n",
    "    # The grid search will test the Gini index criterion versus the information gain criterion.\n",
    "    if binary:\n",
    "        dec_tree_p = {'criterion': ['gini','entropy']}\n",
    "    else:\n",
    "        dec_tree_p  ={'class_weight':[None,'balanced'],\n",
    "                             'criterion':['gini','entropy'],\n",
    "                             'max_features':[None,'auto','log2'],\n",
    "                             'min_samples_leaf':[1,2,3,4,5,6],\n",
    "                             'min_samples_split':[2,3,4,5]}\n",
    "\n",
    "    dec_tree_grid = GridSearchCV(dec_tree, \n",
    "                                dec_tree_p, \n",
    "                                scoring='f1_macro',\n",
    "                                cv=5,\n",
    "                                n_jobs = 1) # creates all 2 versions of the decision tree model\n",
    "\n",
    "    dec_tree_grid.fit(examples,target)\n",
    "\n",
    "    # Picking and revalidating the best estimator\n",
    "    # assigning the parameters to the decision tree estimator\n",
    "    dec_tree_best = dec_tree_grid.best_estimator_ \n",
    "    print('Best estimator:\\n\\n{}'.format(dec_tree_best))\n",
    "\n",
    "    # Print scores\n",
    "    if binary:\n",
    "        a = [0,1]\n",
    "    else:\n",
    "        a = [0,1,2,3,4]\n",
    "    \n",
    "    (y_pred_dec_tree, \n",
    "    conf_mat_dec_tree, \n",
    "    dec_tree_scores, \n",
    "    dec_tree_scores_list) = crossvalidation(dec_tree_best,\n",
    "                                            examples,\n",
    "                                            target,\n",
    "                                            a)\n",
    "    if tree_vis:\n",
    "        dot_data = tree.export_graphviz(dec_tree_best, \n",
    "                                        feature_names = fnames,\n",
    "                                        out_file = None,\n",
    "                                        filled = True, \n",
    "                                        rounded = True,\n",
    "                                        special_characters = True)\n",
    "\n",
    "        graph = pydotplus.graph_from_dot_data(dot_data)\n",
    "        Image(graph.create_png())"
   ]
  },
  {
   "cell_type": "code",
   "execution_count": null,
   "metadata": {},
   "outputs": [],
   "source": [
    "decision_tree(examples_binary, target_binary, True, True, fnames_binary)"
   ]
  },
  {
   "cell_type": "markdown",
   "metadata": {},
   "source": [
    "We can see the decision tree model is highly complex. This is an expected result, as one hot encoding creates many binary features, which lead to large decision trees that split in many different ways. The best feature according to this model was `Age`."
   ]
  },
  {
   "cell_type": "markdown",
   "metadata": {},
   "source": [
    "##### Linear Models - Support Vector Machines"
   ]
  },
  {
   "cell_type": "code",
   "execution_count": null,
   "metadata": {},
   "outputs": [],
   "source": [
    "# This function is a pipeline for training and testing linear SVM\n",
    "# on binary or multiclass analysis\n",
    "# args:\n",
    "# binary = (boolean) whether the analysis is binary or not\n",
    "\n",
    "def lsvm(eaxmples, target, binary):\n",
    "    \n",
    "    # Initialising the estimator\n",
    "    lsvm = LinearSVC(max_iter = 15000, dual = False) # max_iter=1000 (default) didn't converge: dual = False recommended for large datasets\n",
    "    \n",
    "    # Grid search (hyperparameter tuning) and k-fold cross-validation fitting/scoring\n",
    "    if(binary):\n",
    "        lsvm_p = {'penalty': ['l1','l2']}\n",
    "    else:\n",
    "        lsvm_p =  {'C':[0.0001,0.001,0.01,0.1,1,10,100],\n",
    "                'class_weight':[None,'balanced'],\n",
    "                'max_iter':[10000],\n",
    "                'penalty':['l1','l2']}\n",
    "        \n",
    "    lsvm_grid = GridSearchCV(lsvm, \n",
    "                             lsvm_p, \n",
    "                             scoring='f1_macro',\n",
    "                             cv=5,\n",
    "                             verbose=10,\n",
    "                             n_jobs = 1) # creates all 2 versions of the decision tree model\n",
    "    \n",
    "    lsvm_grid.fit(examples,target)\n",
    "    \n",
    "    # Picking and revalidating the best estimator\n",
    "    lsvm_best = lsvm_grid.best_estimator_ # assigning the parameters to the linear SVM estimator\n",
    "    print('Best estimator:\\n\\n{}'.format(lsvm_best))\n",
    "    \n",
    "    # Print scores\n",
    "    if binary:\n",
    "        a = [0,1]\n",
    "    else:\n",
    "        a = [0,1,2,3,4]\n",
    "    \n",
    "    (y_pred_lsvm, \n",
    "     conf_mat_lsvm, \n",
    "     lsvm_scores, \n",
    "     lsvm_scores_list) = crossvalidation(lsvm_best,\n",
    "                                        examples,\n",
    "                                        target,\n",
    "                                        a)\n",
    "    "
   ]
  },
  {
   "cell_type": "code",
   "execution_count": null,
   "metadata": {},
   "outputs": [],
   "source": [
    "lsvm(examples_binary, target_binary, True)"
   ]
  },
  {
   "cell_type": "markdown",
   "metadata": {},
   "source": [
    "The linear model's performance may have benefitted from one hot encoding, seeing as though most examples can only occupy two possible coordinates in each of their spacial dimensions (features) and that could ease linear separability.\n",
    "\n",
    "The imbalance remains a problem to address, given poor accuracy in prediction of `Adoption=0`."
   ]
  },
  {
   "cell_type": "markdown",
   "metadata": {},
   "source": [
    "#### Overall conclusions\n",
    "\n",
    "Assuming the models are in fact learning correctly, the most evident problem in the dataset is the imbalance. However, it's also *very likely the models are not learning appropriately at all*.\n",
    "\n",
    "Given that we have approximately a 2.6 : 1 ratio of `Adoption=1` to `Adoption=0`, even if the models were always guessing `Adoption=1`, they would still be 2.6 times more likely to guess right and inflate accuracy results, meaning the model is ignoring the minority class and getting good scores based on the poorly prepared dataset."
   ]
  },
  {
   "cell_type": "markdown",
   "metadata": {},
   "source": [
    "#### 1.2.1.2 Predicting AdoptionSpeed (multiclass classification task) "
   ]
  },
  {
   "cell_type": "code",
   "execution_count": null,
   "metadata": {},
   "outputs": [],
   "source": [
    "examples_bench_multi, target_bench_multi, fnames_bench_multi, tname_bench_multi = separate_split(df_processed1_encoded,False)"
   ]
  },
  {
   "cell_type": "code",
   "execution_count": null,
   "metadata": {},
   "outputs": [],
   "source": [
    "print(\"Number of Adoption=0 examples in the dataset: {}\".format(np.count_nonzero(target_bench_multi == 0)))\n",
    "print(\"Number of Adoption=1 examples in the dataset: {}\".format(np.count_nonzero(target_bench_multi == 1)))\n",
    "print(\"Number of Adoption=2 examples in the dataset: {}\".format(np.count_nonzero(target_bench_multi == 2)))\n",
    "print(\"Number of Adoption=3 examples in the dataset: {}\".format(np.count_nonzero(target_bench_multi == 3)))\n",
    "print(\"Number of Adoption=4 examples in the dataset: {}\".format(np.count_nonzero(target_bench_multi == 4)))\n",
    "print(\"Ratio of least representative class to most representative class in the dataset: {}\".format((np.count_nonzero(target_bench_multi == 0))/(np.count_nonzero(target_bench_multi == 4))))"
   ]
  },
  {
   "cell_type": "markdown",
   "metadata": {},
   "source": [
    "##### Distance-based Models - K-Nearest Neighbours"
   ]
  },
  {
   "cell_type": "code",
   "execution_count": null,
   "metadata": {},
   "outputs": [],
   "source": [
    "knn(examples_bench_multi,target_bench_multi,False)"
   ]
  },
  {
   "cell_type": "markdown",
   "metadata": {},
   "source": [
    "Given the imbalanced dataset and using GridSearchCV to find the best possible hyperparameters parameters for the K-Nearest Neighbours algorithm, it was found that 4 neighbours and a minkowski distance of p=1 (Manhattan) were the best possible hyperparameters for an f1_macro scoring metric.\n",
    "The results on the minority class are very poor not only regarding precision but also the ability to identify correctly the relevant examples (recall). \n",
    "\n",
    "The class imbalance seems to be having a great influence on the model's ability to lear the minority class. The most representative classes show a somewhat increasing performance with increasing number of learning examples and a similar performance regarding precision and recall.\n",
    "\n",
    "The most representative class (adoptionspeed=4) is the one in which this model shows better performance both regarding precision and recall.\n",
    "\n",
    "The overall performance of this model is compromised by the low performance on the minority class which hints that balancing the dataset will probably provide better results. \n",
    "\n",
    "It also seems clear that the model is overfitting the dataset since training scores are generally 3 times higher than the test set scores for the same model."
   ]
  },
  {
   "cell_type": "markdown",
   "metadata": {},
   "source": [
    "##### Probabilistic Models - Naïve Bayes"
   ]
  },
  {
   "cell_type": "code",
   "execution_count": null,
   "metadata": {},
   "outputs": [],
   "source": [
    "bernoulli(examples_bench_multi,target_bench_multi,False)"
   ]
  },
  {
   "cell_type": "markdown",
   "metadata": {},
   "source": [
    "For each fold the performance on the training set is similar to the one on the test set and around 0.36/0.37. This clearly suggests the model is underfitting the data. \n",
    "\n",
    "Performance on the minority class is very poor even when compared with the performance of the model on the other classes, with few examples being correctly classified. \n",
    "\n",
    "The most representative class (adoptionspeed=4) is the one in which this model shows better performance both regarding precision and recall.\n",
    "\n",
    "The poor performance on the minority class is also degrading the overall performance of the model."
   ]
  },
  {
   "cell_type": "markdown",
   "metadata": {},
   "source": [
    "##### Tree Models - Decision Trees"
   ]
  },
  {
   "cell_type": "code",
   "execution_count": null,
   "metadata": {},
   "outputs": [],
   "source": [
    "decision_tree(examples_bench_multi, target_bench_multi, False, True, fnames_bench_multi)"
   ]
  },
  {
   "cell_type": "markdown",
   "metadata": {},
   "source": [
    "Given the imbalanced dataset and using GridSearchCV to find the best possible hyperparameters for the Decision Tree, it was found that a minimum number of samples required for a split of 2, a minimum number of samples required to be at a leaf node of 1 and a entropy measure, to be optimal regarding a f1_macro scoring metric.\n",
    "\n",
    "The most representative class (adoptionspeed=4) is the one in which this model shows better performance both regarding precision and recall.\n",
    "\n",
    "The overall performance of this model is compromised by the low performance on the minority class which hints that balancing the dataset will provide better results. \n",
    "\n",
    "It also seems clear that the model is overfitting the dataset since training scores are generally 3 times higher than the test set scores for the same model."
   ]
  },
  {
   "cell_type": "markdown",
   "metadata": {},
   "source": [
    "##### Linear Models  - Support Vector Machines"
   ]
  },
  {
   "cell_type": "code",
   "execution_count": null,
   "metadata": {},
   "outputs": [],
   "source": [
    "lsvm(examples_bench_multi,target_bench_multi,False)"
   ]
  },
  {
   "cell_type": "markdown",
   "metadata": {},
   "source": [
    "Given the imbalanced dataset and using GridSearchCV to find the best possible hyperparameters for the Linear Support Vector Machine, it was found that a regularization parameter (C) of 0.1 and a l2 penalty norm were optimal, despite de inability of the algoritm to converge, despite the high number of iterations 10000. This might suggest that the data is not entirely linearly separable and that using a kernell algoritm would increase performance, or at least converge towards a solution.\n",
    "\n",
    "The most representative class (adoptionspeed=4) is the one in which this model shows better performance both regarding precision and recall.\n",
    "\n",
    "The overall performance of this model is compromised by the low performance on the minority class which hints that balancing the dataset will provide better results. \n",
    "\n",
    "Its also seems clear that the model is underfitting the dataset."
   ]
  },
  {
   "cell_type": "markdown",
   "metadata": {},
   "source": [
    "##### Rule Models"
   ]
  },
  {
   "cell_type": "markdown",
   "metadata": {},
   "source": [
    "##### Benchmark conclusions"
   ]
  },
  {
   "cell_type": "markdown",
   "metadata": {},
   "source": [
    "Both Decision trees and K-Nearest Neighbours provided almost perfect results on the training sets but performed considerably worst on the test set Both this models seem to be overfitting the training examples and failing to generalize over unseen examples. On the other hand, both Linear Support Vector Machines and Bernoulli Naive Bayes show considerable underfitting of the data with training scores below 0.40. \n",
    "\n",
    "Regarding individiual class performances none of the models showed great ability to provide the minority class (adoptionspeed=0) which underlines the need of oversampling the dataset to provide the algorithms with stronger evidence of that class. \n",
    "\n",
    "From all the tested approaches, the Bernoulli Naive Bayes model was the one that showcased better results in both AdoptionSpeed=1 and Linear Support Vector Machines the best for AdoptionSpeed=4 classes with higher precision and recall scores. On the other hand the K-Nearest Neighbours model performed better in both AdoptionSpeed=2 and AdoptionSpeed=3.\n",
    "\n",
    "All the models showcase similar low overall performance."
   ]
  },
  {
   "cell_type": "markdown",
   "metadata": {},
   "source": [
    "## 1.2.2 Predicting Adoption (binary classification task)"
   ]
  },
  {
   "cell_type": "markdown",
   "metadata": {},
   "source": [
    "Using the dataset `df_processed2_b_balanced_encoded` (binary target, balanced examples and encoded features), we will run the same algorithms as in the previous section, **1.2.1.**"
   ]
  },
  {
   "cell_type": "code",
   "execution_count": null,
   "metadata": {},
   "outputs": [],
   "source": [
    "X_train, X_test, y_train, y_test = separate_split(df_processed2_b_balanced_encoded,True)\n",
    "examples_binary, target_binary, fnames_binary, tname_binary = separate_split(df_processed2_b_balanced_encoded,False)"
   ]
  },
  {
   "cell_type": "code",
   "execution_count": null,
   "metadata": {},
   "outputs": [],
   "source": [
    "print(\"Number of positives cases in the dataset is: {}\".format(np.count_nonzero(target_binary == 1)))\n",
    "print(\"Number of negative cases in the dataset is: {}\".format(np.count_nonzero(target_binary == 0)))\n",
    "print(\"Ratio of positive to negative cases in the dataset: {}\".format((np.count_nonzero(target_binary == 1))/(np.count_nonzero(target_binary == 0))))"
   ]
  },
  {
   "cell_type": "markdown",
   "metadata": {},
   "source": [
    "##### Distance-based Models - K-Nearest Neighbours"
   ]
  },
  {
   "cell_type": "code",
   "execution_count": null,
   "metadata": {},
   "outputs": [],
   "source": [
    "knn(examples_binary, target_binary,True)"
   ]
  },
  {
   "cell_type": "markdown",
   "metadata": {},
   "source": [
    "The grid search algorithm has returned a different set of hyperparameters, with `n_neighbors` reduced to `2`. This might be related to the oversampling of the minority class. With rarer occurences of the minority class, the benchmark model might have had to increase the number of neighbours to increase the odds of finding `Adoption=0` and therefore improve prediction. The random oversampling ensures a greater number of negative cases in the overall landscape, driving the number of neighbours to decrease. The distance measure is now Euclidian (`p = 2`), and `weights` takes distance into consideration (possibly because with only two neighbours, using distance is more effective for breaking ties which become more often).\n",
    "\n",
    "The results have improved significantly from the benchmark tests. Both training and test accuracies have improved, as well as prediction of both classes. The most significant increase was for prediction of `Adoption=0`, for which prediction accuracy almost doubled, once again suggesting oversampling the dataset was a good choice. "
   ]
  },
  {
   "cell_type": "markdown",
   "metadata": {},
   "source": [
    "##### Probabilistic Models - Bernoulli Naïve Bayes"
   ]
  },
  {
   "cell_type": "code",
   "execution_count": null,
   "metadata": {},
   "outputs": [],
   "source": [
    "bernoulli(examples_binary, target_binary,True)"
   ]
  },
  {
   "cell_type": "markdown",
   "metadata": {},
   "source": [
    "Overall accuracy was reduced considerably (from ~72% to ~65%). This can be seen in the noticeable decrease in performance for prediction of `Adoption=1`. However, as a positive point, this version of the model is significantly better at predicting `Adoption=0` (an F1 score increase of 0.19, from 0.45 to 0.64). It is also much more even in the prediction success in both classes, whereas the previous one showed a significant discrepancy in prediction of the minority class. We can see that oversampling was a good option for this dataset to mitigate minority class problems.\n",
    "\n",
    "Perhaps a probabilistic model is not suited to this dataset, as the exploratory data analysis revealed very few correlations between features (and, therefore, pet profiles) and odds of adoption."
   ]
  },
  {
   "cell_type": "markdown",
   "metadata": {},
   "source": [
    "***Tree Models - Decision Tree***"
   ]
  },
  {
   "cell_type": "code",
   "execution_count": null,
   "metadata": {},
   "outputs": [],
   "source": [
    "decision_tree(examples_binary,target_binary,True,True,fnames_binary)"
   ]
  },
  {
   "cell_type": "code",
   "execution_count": null,
   "metadata": {},
   "outputs": [],
   "source": []
  },
  {
   "cell_type": "markdown",
   "metadata": {},
   "source": [
    "***Linear Models - Support Vector Machines***"
   ]
  },
  {
   "cell_type": "code",
   "execution_count": null,
   "metadata": {},
   "outputs": [],
   "source": [
    "lsvm(examples_binary, target_binary,True)"
   ]
  },
  {
   "cell_type": "code",
   "execution_count": null,
   "metadata": {},
   "outputs": [],
   "source": []
  },
  {
   "cell_type": "markdown",
   "metadata": {},
   "source": [
    "#### Overall conclusions"
   ]
  },
  {
   "cell_type": "markdown",
   "metadata": {},
   "source": [
    "## 1.2.3 Predicting Adoption Speed (Multiclass classification task)"
   ]
  },
  {
   "cell_type": "markdown",
   "metadata": {},
   "source": [
    "Using the dataset `df_processed2_m_balanced_encoded` (multiclass target, balanced examples and encoded features), we will run the same algorithms as in the previous section, **1.2.1.**"
   ]
  },
  {
   "cell_type": "code",
   "execution_count": null,
   "metadata": {},
   "outputs": [],
   "source": [
    "examples_multi, target_multi, fnames_multi, tname_multi = separate_split(df_processed2_m_balanced_encoded,False)"
   ]
  },
  {
   "cell_type": "code",
   "execution_count": null,
   "metadata": {},
   "outputs": [],
   "source": [
    "print(\"Number of Adoption=0 examples in the dataset: {}\".format(np.count_nonzero(target_multi == 0)))\n",
    "print(\"Number of Adoption=1 examples in the dataset: {}\".format(np.count_nonzero(target_multi == 1)))\n",
    "print(\"Number of Adoption=2 examples in the dataset: {}\".format(np.count_nonzero(target_multi == 2)))\n",
    "print(\"Number of Adoption=3 examples in the dataset: {}\".format(np.count_nonzero(target_multi == 3)))\n",
    "print(\"Number of Adoption=4 examples in the dataset: {}\".format(np.count_nonzero(target_multi == 4)))"
   ]
  },
  {
   "cell_type": "markdown",
   "metadata": {},
   "source": [
    "##### ***Distance-based Models - K-Nearest Neighbours***"
   ]
  },
  {
   "cell_type": "code",
   "execution_count": null,
   "metadata": {},
   "outputs": [],
   "source": [
    "knn(examples_multi, target_multi,False)"
   ]
  },
  {
   "cell_type": "markdown",
   "metadata": {},
   "source": [
    "When Compared to the results for the K-Neighbours used on the benchmark section for the multiclass task, and as expected, the results on the former minority class (AdoptionSpeed = 0) greatly improved with an almost perfect score in that particular class. \n",
    "\n",
    "However, this results may be somewhat a consequence of the oversampling made (all the examples on the adoptionspeed = 0  class where theoretically replicated 10x times) which granted the existence of many of the same examples closer together and in both the training and test sets. This is confirmed by the reduction from 4 to 2, on the number of neighbours considered by gridsearchcv to be optimal.\n",
    "\n",
    "Despite the overall improvement the model still seems to be slightly overfitting the data from the other classes as it fails to properly generalise. This lack of generelization affects the overall performance of the model."
   ]
  },
  {
   "cell_type": "markdown",
   "metadata": {},
   "source": [
    "##### ***Probabilistic Models - Naïve Bayes***"
   ]
  },
  {
   "cell_type": "code",
   "execution_count": null,
   "metadata": {},
   "outputs": [],
   "source": [
    "bernoulli(examples_multi, target_multi,False)"
   ]
  },
  {
   "cell_type": "markdown",
   "metadata": {},
   "source": [
    "The Bernoulli Naive Bayes on the balanced dataset show slightly worse overall results (0.36 on the imbalanced set vs 0.34 on the balanced one).\n",
    "\n",
    "The performance on the other classes aside from AdoptionSpeed=0 and AdoptionSpeed=3 an has decreased which might indicate that either this model is not the most approriate for this balanced task or that the chosen approach was not the most suitable to take the best out of the model.\n",
    "\n",
    "Other relevant information is that the model still underfits the training data."
   ]
  },
  {
   "cell_type": "markdown",
   "metadata": {},
   "source": [
    "##### ***Tree Models - Decision Tree***"
   ]
  },
  {
   "cell_type": "code",
   "execution_count": null,
   "metadata": {},
   "outputs": [],
   "source": [
    "decision_tree(examples_multi,target_multi,False,False,fnames_multi)"
   ]
  },
  {
   "cell_type": "markdown",
   "metadata": {},
   "source": [
    "When Compared to the results for the Decision Tree used on the benchmark section for the multiclass task, and as somewhat expected, the performance across different classes improved specially adoptionspeed=0.\n",
    "\n",
    "Despite the overall improvement the model still seems to be overfitting the data from the all classes besides adoptionspeed=0 as it fails to properly generalise.\n",
    "\n",
    "This model shows similar overall results as the K-Nearest Neighbours."
   ]
  },
  {
   "cell_type": "markdown",
   "metadata": {},
   "source": [
    "##### ***Linear Models***"
   ]
  },
  {
   "cell_type": "code",
   "execution_count": null,
   "metadata": {},
   "outputs": [],
   "source": [
    "lsvm(examples_multi,target_multi,False)"
   ]
  },
  {
   "cell_type": "markdown",
   "metadata": {},
   "source": [
    "The Linear Support Vector Machines on the balanced dataset shows the same global performance (0.36) but worse performance in all classes besides AdoptionSpeed=0, which greatly improved, and AdoptionSpeed=3, which slightly improved. This might indicate that either this model is not the most approriate for this balanced task or that the chosen approach was not the most suitable to take the best out of the model.\n",
    "\n",
    "Other relevant information is that the model still underfits the training data and that convergence wasn't achieved despite the high number of interations."
   ]
  },
  {
   "cell_type": "markdown",
   "metadata": {},
   "source": [
    "##### Rule Models"
   ]
  },
  {
   "cell_type": "markdown",
   "metadata": {},
   "source": [
    "##### ***Multi class classification - Conclusions***"
   ]
  },
  {
   "cell_type": "markdown",
   "metadata": {},
   "source": [
    "## 1.2.4 Predicting Adoption/Adoption Speed for dogs\n",
    "\n",
    "For this pet-type-specific analysis we will only test the classification model that had the best performance on the previous tasks, namely the decision tree."
   ]
  },
  {
   "cell_type": "markdown",
   "metadata": {},
   "source": [
    "### Binary Classification"
   ]
  },
  {
   "cell_type": "code",
   "execution_count": null,
   "metadata": {},
   "outputs": [],
   "source": [
    "X_train_b_dogs, X_test_b_dogs, y_train_b_dogs, y_test_b_dogs = separate_split(df_processed2_b_balanced_dogs_encoded,True)\n",
    "examples_b_dogs, target_b_dogs, fnames_b_dogs, tname_b_dogs = separate_split(df_processed2_b_balanced_dogs_encoded,False)"
   ]
  },
  {
   "cell_type": "code",
   "execution_count": null,
   "metadata": {},
   "outputs": [],
   "source": [
    "print(\"Number of positives cases in the dataset is: {}\".format(np.count_nonzero(target_b_dogs == 1)))\n",
    "print(\"Number of negative cases in the dataset is: {}\".format(np.count_nonzero(target_b_dogs == 0)))\n",
    "print(\"Ratio of positive to negative cases in the dataset: {}\".format((np.count_nonzero(target_b_dogs == 1))/(np.count_nonzero(target_b_dogs == 0))))"
   ]
  },
  {
   "cell_type": "markdown",
   "metadata": {},
   "source": [
    "***Tree Models - Decision Tree***"
   ]
  },
  {
   "cell_type": "code",
   "execution_count": null,
   "metadata": {},
   "outputs": [],
   "source": [
    "decision_tree(examples_b_dogs,target_b_dogs,True,False,fnames_b_dogs)"
   ]
  },
  {
   "cell_type": "markdown",
   "metadata": {},
   "source": [
    "We conclude that the results for the dogs' dataset were very similar to the dataset containing both types of pets, in terms of precision, recall, accuracy and F1 score. "
   ]
  },
  {
   "cell_type": "markdown",
   "metadata": {},
   "source": [
    "### Multiclass Classification"
   ]
  },
  {
   "cell_type": "code",
   "execution_count": null,
   "metadata": {},
   "outputs": [],
   "source": [
    "X_train_m_dogs, X_test_m_dogs, y_train_m_dogs, y_test_m_dogs = separate_split(df_processed2_m_balanced_dogs_encoded,True)\n",
    "examples_m_dogs, target_m_dogs, fnames_m_dogs, tname_m_dogs = separate_split(df_processed2_m_balanced_dogs_encoded,False)"
   ]
  },
  {
   "cell_type": "code",
   "execution_count": null,
   "metadata": {},
   "outputs": [],
   "source": [
    "print(\"Number of positives cases in the dataset is: {}\".format(np.count_nonzero(target_m_dogs == 1)))\n",
    "print(\"Number of negative cases in the dataset is: {}\".format(np.count_nonzero(target_m_dogs == 0)))\n",
    "print(\"Ratio of positive to negative cases in the dataset: {}\".format((np.count_nonzero(target_m_dogs == 1))/(np.count_nonzero(target_m_dogs == 0))))"
   ]
  },
  {
   "cell_type": "code",
   "execution_count": null,
   "metadata": {},
   "outputs": [],
   "source": [
    "decision_tree(examples_m_dogs, target_m_dogs,False,False,fnames_m_dogs)"
   ]
  },
  {
   "cell_type": "markdown",
   "metadata": {},
   "source": [
    "## 1.2.5 Predicting Adoption/Adoption Speed for cats\n",
    "For this pet-type-specific analysis we will only test the classification model that had the best performance on the previous tasks, namely the decision tree."
   ]
  },
  {
   "cell_type": "markdown",
   "metadata": {},
   "source": [
    "### Binary Classification"
   ]
  },
  {
   "cell_type": "code",
   "execution_count": null,
   "metadata": {},
   "outputs": [],
   "source": [
    "X_train_b_cats, X_test_b_cats, y_train_b_cats, y_test_b_cats = separate_split(df_processed2_b_balanced_cats_encoded,True)\n",
    "examples_b_cats, target_b_cats, fnames_b_cats, tname_b_cats = separate_split(df_processed2_b_balanced_cats_encoded,False)"
   ]
  },
  {
   "cell_type": "code",
   "execution_count": null,
   "metadata": {},
   "outputs": [],
   "source": [
    "print(\"Number of positives cases in the dataset is: {}\".format(np.count_nonzero(target_b_cats == 1)))\n",
    "print(\"Number of negative cases in the dataset is: {}\".format(np.count_nonzero(target_b_cats == 0)))\n",
    "print(\"Ratio of positive to negative cases in the dataset: {}\".format((np.count_nonzero(target_b_cats == 1))/(np.count_nonzero(target_b_cats == 0))))"
   ]
  },
  {
   "cell_type": "markdown",
   "metadata": {},
   "source": [
    "***Tree Models - Decision Tree***"
   ]
  },
  {
   "cell_type": "code",
   "execution_count": null,
   "metadata": {},
   "outputs": [],
   "source": [
    "decision_tree(examples_b_cats,target_b_cats,True,False,fnames_b_cats)"
   ]
  },
  {
   "cell_type": "markdown",
   "metadata": {},
   "source": [
    "### Multiclass Classification"
   ]
  },
  {
   "cell_type": "code",
   "execution_count": null,
   "metadata": {},
   "outputs": [],
   "source": [
    "X_train_m_cats, X_test_m_cats, y_train_m_cats, y_test_m_cats = separate_split(df_processed2_m_balanced_cats_encoded,True)\n",
    "examples_m_cats, target_m_cats, fnames_m_cats, tname_m_cats = separate_split(df_processed2_m_balanced_cats_encoded,False)"
   ]
  },
  {
   "cell_type": "code",
   "execution_count": null,
   "metadata": {},
   "outputs": [],
   "source": [
    "print(\"Number of positives cases in the dataset is: {}\".format(np.count_nonzero(target_m_cats == 1)))\n",
    "print(\"Number of negative cases in the dataset is: {}\".format(np.count_nonzero(target_m_cats == 0)))\n",
    "print(\"Ratio of positive to negative cases in the dataset: {}\".format((np.count_nonzero(target_m_cats == 1))/(np.count_nonzero(target_m_cats == 0))))"
   ]
  },
  {
   "cell_type": "code",
   "execution_count": null,
   "metadata": {},
   "outputs": [],
   "source": [
    "decision_tree(examples_m_cats, target_m_cats,False,False,fnames_m_cats)"
   ]
  },
  {
   "cell_type": "markdown",
   "metadata": {},
   "source": [
    "## 1.3. Classification - Results and Discussion "
   ]
  },
  {
   "cell_type": "markdown",
   "metadata": {},
   "source": [
    "## Task 2 (Unsupervised Learning) - Charactering Adopted Pets and Adoption Speed"
   ]
  },
  {
   "cell_type": "markdown",
   "metadata": {},
   "source": [
    "In this task you should **use unsupervised learning algorithms and try to characterize pets that were actually adopted and their adoption speed**. You can use:\n",
    "* **Association rule mining** to find **associations between the features and the target Adoption/AdoptionSpeed**.\n",
    "* **Clustering algorithms to find similar groups of pets**. Is it possible to find groups of pets with the same/similar adoption speed.\n",
    "* **Be creative and define your own unsupervised analysis!** What would it be interesting to find out ?"
   ]
  },
  {
   "cell_type": "markdown",
   "metadata": {},
   "source": [
    "## 2.1. Preprocessing Data for Association Rule Mining\n",
    "\n",
    "In order to perform Association Rule Mining, we need to transform our dataset in such a way that each line is a transaction, consisting of a list of features and their respective value.\n",
    "\n",
    "E.g. transaction1 = [ `hasName` = 1, `type` = 2, `Age` = 35, (...) ]\n",
    "\n",
    "We will use the balanced datasets for this task."
   ]
  },
  {
   "cell_type": "code",
   "execution_count": 175,
   "metadata": {},
   "outputs": [],
   "source": [
    "# This function encodes the previous dataset form into a Association Rule Mining friendly dataset\n",
    "# which is a binary database\n",
    "from mlxtend.preprocessing import TransactionEncoder\n",
    "from mlxtend.frequent_patterns import apriori\n",
    "from mlxtend.frequent_patterns import association_rules\n",
    "\n",
    "def t_encoder(df):\n",
    "    transactions=[] #list of transactions\n",
    "    t=[] #list for each transaction\n",
    "    s='' #string for building each item in the transaction\n",
    "\n",
    "    rows = len(df.index) # nr of rows\n",
    "\n",
    "    for i in range(rows):\n",
    "        transactions.append(t)\n",
    "        t=[]\n",
    "        for c in list(df):\n",
    "            s = c + \"=\" + str(df[c][i]) # build item strings\n",
    "            t.append(s) # attach each item to the respective transaction\n",
    "\n",
    "    transactions.pop(0) #eliminate first empty element\n",
    "\n",
    "    #Compute binary database\n",
    "    te = TransactionEncoder()\n",
    "    te_ary = te.fit(transactions).transform(transactions)\n",
    "    binary_database = pd.DataFrame(te_ary, columns=te.columns_)\n",
    "    \n",
    "    return binary_database"
   ]
  },
  {
   "cell_type": "code",
   "execution_count": 176,
   "metadata": {},
   "outputs": [],
   "source": [
    "t_binary = t_encoder(df_processed2_b_balanced)\n",
    "t_multiclass = t_encoder(df_processed2_m_balanced)"
   ]
  },
  {
   "cell_type": "markdown",
   "metadata": {},
   "source": [
    "## 2.2. Finding Associations"
   ]
  },
  {
   "cell_type": "markdown",
   "metadata": {},
   "source": [
    "Since we are interested in exploring the associations between features and the target class, we will filter the dataset in order to obtain rules having `Adoption` or `AdoptionSpeed` as a consequent."
   ]
  },
  {
   "cell_type": "code",
   "execution_count": 200,
   "metadata": {},
   "outputs": [],
   "source": [
    "def rules(transactions, min_support, metric, min_treshold, binary):\n",
    "    #Compute itemsets with min_support indicated\n",
    "    frequent_itemsets = apriori(transactions, min_support=min_support,use_colnames=True)\n",
    "    \n",
    "    # Generate association rules with confidence indicated\n",
    "    rules = association_rules(frequent_itemsets, metric=metric, min_threshold=min_treshold)  \n",
    "    \n",
    "    # Transform consequents to string in order to filter\n",
    "    rules[\"consequents\"] = rules[\"consequents\"].apply(lambda x: ' '.join(list(x))).astype(\"unicode\")\n",
    "    \n",
    "    #Find consequents containing \"Adoption\" or \"AdoptionSpeed\"\n",
    "    count=-1\n",
    "    indexes=[]\n",
    "    \n",
    "    if binary:\n",
    "        for i in rules[\"consequents\"]:\n",
    "            count+=1\n",
    "            for j in i.split(' '):\n",
    "                if j==\"Adoption=1.0\" or j==\"Adoption=0.0\":\n",
    "                    indexes.append(count) # save indexes from rows containing Adoption as consequent\n",
    "    else:\n",
    "        for i in rules[\"consequents\"]:\n",
    "            count+=1\n",
    "            for j in i.split(' '):\n",
    "                if j==\"AdoptionSpeed=0.0\" or j==\"AdoptionSpeed=1.0\" or j==\"AdoptionSpeed=2.0\" or j==\"AdoptionSpeed=3.0\" or j==\"AdoptionSpeed=4.0\":\n",
    "                    indexes.append(count) # save indexes from rows containing AdoptionSpeed as consequent\n",
    "\n",
    "    new_rules = pd.DataFrame(columns=rules.columns)\n",
    "    \n",
    "    for i in indexes: # create new dataset containing the rules of interest only \n",
    "        new_rules = new_rules.append(rules.iloc[i])\n",
    "    \n",
    "    return frequent_itemsets, rules, new_rules"
   ]
  },
  {
   "cell_type": "markdown",
   "metadata": {},
   "source": [
    "### Binary classification\n",
    "\n",
    "* talk about lift and parameters"
   ]
  },
  {
   "cell_type": "code",
   "execution_count": 183,
   "metadata": {},
   "outputs": [],
   "source": [
    "frequent_itemsets_b, rules_b, new_rules_b = rules(t_binary,0.45,\"lift\",1.0,True)"
   ]
  },
  {
   "cell_type": "code",
   "execution_count": 184,
   "metadata": {},
   "outputs": [
    {
     "name": "stdout",
     "output_type": "stream",
     "text": [
      "In total we have  240  frequent itemsets.\n",
      "In total we have found  1102  association rules.\n"
     ]
    }
   ],
   "source": [
    "print(\"In total we have \", frequent_itemsets_b.shape[0], \" frequent itemsets.\")\n",
    "print(\"In total we have found \", rules_b.shape[0], \" association rules.\")"
   ]
  },
  {
   "cell_type": "code",
   "execution_count": 185,
   "metadata": {},
   "outputs": [
    {
     "data": {
      "text/html": [
       "<div>\n",
       "<style scoped>\n",
       "    .dataframe tbody tr th:only-of-type {\n",
       "        vertical-align: middle;\n",
       "    }\n",
       "\n",
       "    .dataframe tbody tr th {\n",
       "        vertical-align: top;\n",
       "    }\n",
       "\n",
       "    .dataframe thead th {\n",
       "        text-align: right;\n",
       "    }\n",
       "</style>\n",
       "<table border=\"1\" class=\"dataframe\">\n",
       "  <thead>\n",
       "    <tr style=\"text-align: right;\">\n",
       "      <th></th>\n",
       "      <th>antecedents</th>\n",
       "      <th>consequents</th>\n",
       "      <th>antecedent support</th>\n",
       "      <th>consequent support</th>\n",
       "      <th>support</th>\n",
       "      <th>confidence</th>\n",
       "      <th>lift</th>\n",
       "      <th>leverage</th>\n",
       "      <th>conviction</th>\n",
       "    </tr>\n",
       "  </thead>\n",
       "  <tbody>\n",
       "    <tr>\n",
       "      <td>1</td>\n",
       "      <td>(hasVideo=0.0)</td>\n",
       "      <td>Adoption=0.0</td>\n",
       "      <td>0.964661</td>\n",
       "      <td>0.499977</td>\n",
       "      <td>0.485619</td>\n",
       "      <td>0.503409</td>\n",
       "      <td>1.006864</td>\n",
       "      <td>0.003311</td>\n",
       "      <td>1.006911</td>\n",
       "    </tr>\n",
       "    <tr>\n",
       "      <td>3</td>\n",
       "      <td>(Health=1.0)</td>\n",
       "      <td>Adoption=1.0</td>\n",
       "      <td>0.962345</td>\n",
       "      <td>0.500023</td>\n",
       "      <td>0.484739</td>\n",
       "      <td>0.503706</td>\n",
       "      <td>1.007365</td>\n",
       "      <td>0.003544</td>\n",
       "      <td>1.007420</td>\n",
       "    </tr>\n",
       "    <tr>\n",
       "      <td>79</td>\n",
       "      <td>(hasVideo=0.0)</td>\n",
       "      <td>Health=1.0 Adoption=0.0</td>\n",
       "      <td>0.964661</td>\n",
       "      <td>0.477606</td>\n",
       "      <td>0.463943</td>\n",
       "      <td>0.480939</td>\n",
       "      <td>1.006978</td>\n",
       "      <td>0.003215</td>\n",
       "      <td>1.006421</td>\n",
       "    </tr>\n",
       "    <tr>\n",
       "      <td>81</td>\n",
       "      <td>(Health=1.0, hasVideo=0.0)</td>\n",
       "      <td>Adoption=1.0</td>\n",
       "      <td>0.928257</td>\n",
       "      <td>0.500023</td>\n",
       "      <td>0.464314</td>\n",
       "      <td>0.500200</td>\n",
       "      <td>1.000353</td>\n",
       "      <td>0.000164</td>\n",
       "      <td>1.000353</td>\n",
       "    </tr>\n",
       "    <tr>\n",
       "      <td>83</td>\n",
       "      <td>(Health=1.0)</td>\n",
       "      <td>Adoption=1.0 hasVideo=0.0</td>\n",
       "      <td>0.962345</td>\n",
       "      <td>0.479042</td>\n",
       "      <td>0.464314</td>\n",
       "      <td>0.482481</td>\n",
       "      <td>1.007179</td>\n",
       "      <td>0.003310</td>\n",
       "      <td>1.006646</td>\n",
       "    </tr>\n",
       "  </tbody>\n",
       "</table>\n",
       "</div>"
      ],
      "text/plain": [
       "                   antecedents                consequents  antecedent support  \\\n",
       "1               (hasVideo=0.0)               Adoption=0.0            0.964661   \n",
       "3                 (Health=1.0)               Adoption=1.0            0.962345   \n",
       "79              (hasVideo=0.0)    Health=1.0 Adoption=0.0            0.964661   \n",
       "81  (Health=1.0, hasVideo=0.0)               Adoption=1.0            0.928257   \n",
       "83                (Health=1.0)  Adoption=1.0 hasVideo=0.0            0.962345   \n",
       "\n",
       "    consequent support   support  confidence      lift  leverage  conviction  \n",
       "1             0.499977  0.485619    0.503409  1.006864  0.003311    1.006911  \n",
       "3             0.500023  0.484739    0.503706  1.007365  0.003544    1.007420  \n",
       "79            0.477606  0.463943    0.480939  1.006978  0.003215    1.006421  \n",
       "81            0.500023  0.464314    0.500200  1.000353  0.000164    1.000353  \n",
       "83            0.479042  0.464314    0.482481  1.007179  0.003310    1.006646  "
      ]
     },
     "execution_count": 185,
     "metadata": {},
     "output_type": "execute_result"
    }
   ],
   "source": [
    "new_rules_b"
   ]
  },
  {
   "cell_type": "markdown",
   "metadata": {},
   "source": [
    "### Multiclass classification"
   ]
  },
  {
   "cell_type": "code",
   "execution_count": 203,
   "metadata": {},
   "outputs": [],
   "source": [
    "frequent_itemsets_m, rules_m, new_rules_m = rules(t_multiclass,0.45,\"lift\",1.0,False)"
   ]
  },
  {
   "cell_type": "code",
   "execution_count": 204,
   "metadata": {},
   "outputs": [
    {
     "name": "stdout",
     "output_type": "stream",
     "text": [
      "In total we have found  251  frequent itemsets.\n",
      "In total we have found  1282  association rules.\n"
     ]
    }
   ],
   "source": [
    "print(\"In total we have found \", frequent_itemsets_m.shape[0], \" frequent itemsets.\")\n",
    "print(\"In total we have found \", rules_m.shape[0], \" association rules.\")"
   ]
  },
  {
   "cell_type": "code",
   "execution_count": 205,
   "metadata": {},
   "outputs": [
    {
     "data": {
      "text/html": [
       "<div>\n",
       "<style scoped>\n",
       "    .dataframe tbody tr th:only-of-type {\n",
       "        vertical-align: middle;\n",
       "    }\n",
       "\n",
       "    .dataframe tbody tr th {\n",
       "        vertical-align: top;\n",
       "    }\n",
       "\n",
       "    .dataframe thead th {\n",
       "        text-align: right;\n",
       "    }\n",
       "</style>\n",
       "<table border=\"1\" class=\"dataframe\">\n",
       "  <thead>\n",
       "    <tr style=\"text-align: right;\">\n",
       "      <th></th>\n",
       "      <th>support</th>\n",
       "      <th>itemsets</th>\n",
       "    </tr>\n",
       "  </thead>\n",
       "  <tbody>\n",
       "    <tr>\n",
       "      <td>0</td>\n",
       "      <td>0.697579</td>\n",
       "      <td>(Breed2=0.0)</td>\n",
       "    </tr>\n",
       "    <tr>\n",
       "      <td>1</td>\n",
       "      <td>0.482749</td>\n",
       "      <td>(Color1=1.0)</td>\n",
       "    </tr>\n",
       "    <tr>\n",
       "      <td>2</td>\n",
       "      <td>0.699581</td>\n",
       "      <td>(Color3=0.0)</td>\n",
       "    </tr>\n",
       "    <tr>\n",
       "      <td>3</td>\n",
       "      <td>0.548132</td>\n",
       "      <td>(Dewormed=1.0)</td>\n",
       "    </tr>\n",
       "    <tr>\n",
       "      <td>4</td>\n",
       "      <td>0.850886</td>\n",
       "      <td>(Free=0.0)</td>\n",
       "    </tr>\n",
       "    <tr>\n",
       "      <td>...</td>\n",
       "      <td>...</td>\n",
       "      <td>...</td>\n",
       "    </tr>\n",
       "    <tr>\n",
       "      <td>246</td>\n",
       "      <td>0.530833</td>\n",
       "      <td>(Free=0.0, hasName=1.0, hasVideo=0.0, Health=1...</td>\n",
       "    </tr>\n",
       "    <tr>\n",
       "      <td>247</td>\n",
       "      <td>0.471550</td>\n",
       "      <td>(Free=0.0, hasName=1.0, hasVideo=0.0, Maturity...</td>\n",
       "    </tr>\n",
       "    <tr>\n",
       "      <td>248</td>\n",
       "      <td>0.544605</td>\n",
       "      <td>(Free=0.0, hasName=1.0, hasVideo=0.0, Quantity...</td>\n",
       "    </tr>\n",
       "    <tr>\n",
       "      <td>249</td>\n",
       "      <td>0.474171</td>\n",
       "      <td>(Free=0.0, Sterilized=2.0, hasName=1.0, hasVid...</td>\n",
       "    </tr>\n",
       "    <tr>\n",
       "      <td>250</td>\n",
       "      <td>0.510913</td>\n",
       "      <td>(hasName=1.0, hasVideo=0.0, Quantity=1.0, Heal...</td>\n",
       "    </tr>\n",
       "  </tbody>\n",
       "</table>\n",
       "<p>251 rows × 2 columns</p>\n",
       "</div>"
      ],
      "text/plain": [
       "      support                                           itemsets\n",
       "0    0.697579                                       (Breed2=0.0)\n",
       "1    0.482749                                       (Color1=1.0)\n",
       "2    0.699581                                       (Color3=0.0)\n",
       "3    0.548132                                     (Dewormed=1.0)\n",
       "4    0.850886                                         (Free=0.0)\n",
       "..        ...                                                ...\n",
       "246  0.530833  (Free=0.0, hasName=1.0, hasVideo=0.0, Health=1...\n",
       "247  0.471550  (Free=0.0, hasName=1.0, hasVideo=0.0, Maturity...\n",
       "248  0.544605  (Free=0.0, hasName=1.0, hasVideo=0.0, Quantity...\n",
       "249  0.474171  (Free=0.0, Sterilized=2.0, hasName=1.0, hasVid...\n",
       "250  0.510913  (hasName=1.0, hasVideo=0.0, Quantity=1.0, Heal...\n",
       "\n",
       "[251 rows x 2 columns]"
      ]
     },
     "execution_count": 205,
     "metadata": {},
     "output_type": "execute_result"
    }
   ],
   "source": [
    "frequent_itemsets_m"
   ]
  },
  {
   "cell_type": "code",
   "execution_count": 206,
   "metadata": {},
   "outputs": [
    {
     "data": {
      "text/html": [
       "<div>\n",
       "<style scoped>\n",
       "    .dataframe tbody tr th:only-of-type {\n",
       "        vertical-align: middle;\n",
       "    }\n",
       "\n",
       "    .dataframe tbody tr th {\n",
       "        vertical-align: top;\n",
       "    }\n",
       "\n",
       "    .dataframe thead th {\n",
       "        text-align: right;\n",
       "    }\n",
       "</style>\n",
       "<table border=\"1\" class=\"dataframe\">\n",
       "  <thead>\n",
       "    <tr style=\"text-align: right;\">\n",
       "      <th></th>\n",
       "      <th>antecedents</th>\n",
       "      <th>consequents</th>\n",
       "      <th>antecedent support</th>\n",
       "      <th>consequent support</th>\n",
       "      <th>support</th>\n",
       "      <th>confidence</th>\n",
       "      <th>lift</th>\n",
       "      <th>leverage</th>\n",
       "      <th>conviction</th>\n",
       "    </tr>\n",
       "  </thead>\n",
       "  <tbody>\n",
       "    <tr>\n",
       "      <td>0</td>\n",
       "      <td>(Color3=0.0)</td>\n",
       "      <td>Breed2=0.0</td>\n",
       "      <td>0.699581</td>\n",
       "      <td>0.697579</td>\n",
       "      <td>0.496759</td>\n",
       "      <td>0.710082</td>\n",
       "      <td>1.017923</td>\n",
       "      <td>0.008747</td>\n",
       "      <td>1.043125</td>\n",
       "    </tr>\n",
       "    <tr>\n",
       "      <td>1</td>\n",
       "      <td>(Breed2=0.0)</td>\n",
       "      <td>Color3=0.0</td>\n",
       "      <td>0.697579</td>\n",
       "      <td>0.699581</td>\n",
       "      <td>0.496759</td>\n",
       "      <td>0.712119</td>\n",
       "      <td>1.017923</td>\n",
       "      <td>0.008747</td>\n",
       "      <td>1.043555</td>\n",
       "    </tr>\n",
       "    <tr>\n",
       "      <td>2</td>\n",
       "      <td>(Breed2=0.0)</td>\n",
       "      <td>Free=0.0</td>\n",
       "      <td>0.697579</td>\n",
       "      <td>0.850886</td>\n",
       "      <td>0.601887</td>\n",
       "      <td>0.862823</td>\n",
       "      <td>1.014028</td>\n",
       "      <td>0.008327</td>\n",
       "      <td>1.087014</td>\n",
       "    </tr>\n",
       "    <tr>\n",
       "      <td>3</td>\n",
       "      <td>(Free=0.0)</td>\n",
       "      <td>Breed2=0.0</td>\n",
       "      <td>0.850886</td>\n",
       "      <td>0.697579</td>\n",
       "      <td>0.601887</td>\n",
       "      <td>0.707365</td>\n",
       "      <td>1.014028</td>\n",
       "      <td>0.008327</td>\n",
       "      <td>1.033440</td>\n",
       "    </tr>\n",
       "    <tr>\n",
       "      <td>4</td>\n",
       "      <td>(Quantity=1.0)</td>\n",
       "      <td>Breed2=0.0</td>\n",
       "      <td>0.777259</td>\n",
       "      <td>0.697579</td>\n",
       "      <td>0.554947</td>\n",
       "      <td>0.713979</td>\n",
       "      <td>1.023510</td>\n",
       "      <td>0.012747</td>\n",
       "      <td>1.057339</td>\n",
       "    </tr>\n",
       "    <tr>\n",
       "      <td>...</td>\n",
       "      <td>...</td>\n",
       "      <td>...</td>\n",
       "      <td>...</td>\n",
       "      <td>...</td>\n",
       "      <td>...</td>\n",
       "      <td>...</td>\n",
       "      <td>...</td>\n",
       "      <td>...</td>\n",
       "      <td>...</td>\n",
       "    </tr>\n",
       "    <tr>\n",
       "      <td>1277</td>\n",
       "      <td>(Health=1.0, FrequentRescuer=1.0)</td>\n",
       "      <td>hasName=1.0 Quantity=1.0 hasVideo=0.0</td>\n",
       "      <td>0.719596</td>\n",
       "      <td>0.682282</td>\n",
       "      <td>0.510913</td>\n",
       "      <td>0.710000</td>\n",
       "      <td>1.040626</td>\n",
       "      <td>0.019946</td>\n",
       "      <td>1.095580</td>\n",
       "    </tr>\n",
       "    <tr>\n",
       "      <td>1278</td>\n",
       "      <td>(hasName=1.0)</td>\n",
       "      <td>Quantity=1.0 Health=1.0 hasVideo=0.0 FrequentR...</td>\n",
       "      <td>0.893872</td>\n",
       "      <td>0.551754</td>\n",
       "      <td>0.510913</td>\n",
       "      <td>0.571573</td>\n",
       "      <td>1.035921</td>\n",
       "      <td>0.017716</td>\n",
       "      <td>1.046261</td>\n",
       "    </tr>\n",
       "    <tr>\n",
       "      <td>1279</td>\n",
       "      <td>(Quantity=1.0)</td>\n",
       "      <td>hasName=1.0 Health=1.0 hasVideo=0.0 FrequentRe...</td>\n",
       "      <td>0.777259</td>\n",
       "      <td>0.630671</td>\n",
       "      <td>0.510913</td>\n",
       "      <td>0.657327</td>\n",
       "      <td>1.042266</td>\n",
       "      <td>0.020718</td>\n",
       "      <td>1.077788</td>\n",
       "    </tr>\n",
       "    <tr>\n",
       "      <td>1280</td>\n",
       "      <td>(Health=1.0)</td>\n",
       "      <td>hasName=1.0 Quantity=1.0 hasVideo=0.0 Frequent...</td>\n",
       "      <td>0.964211</td>\n",
       "      <td>0.526735</td>\n",
       "      <td>0.510913</td>\n",
       "      <td>0.529877</td>\n",
       "      <td>1.005966</td>\n",
       "      <td>0.003030</td>\n",
       "      <td>1.006684</td>\n",
       "    </tr>\n",
       "    <tr>\n",
       "      <td>1281</td>\n",
       "      <td>(FrequentRescuer=1.0)</td>\n",
       "      <td>hasName=1.0 Quantity=1.0 Health=1.0 hasVideo=0.0</td>\n",
       "      <td>0.740850</td>\n",
       "      <td>0.656214</td>\n",
       "      <td>0.510913</td>\n",
       "      <td>0.689631</td>\n",
       "      <td>1.050923</td>\n",
       "      <td>0.024757</td>\n",
       "      <td>1.107667</td>\n",
       "    </tr>\n",
       "  </tbody>\n",
       "</table>\n",
       "<p>1282 rows × 9 columns</p>\n",
       "</div>"
      ],
      "text/plain": [
       "                            antecedents  \\\n",
       "0                          (Color3=0.0)   \n",
       "1                          (Breed2=0.0)   \n",
       "2                          (Breed2=0.0)   \n",
       "3                            (Free=0.0)   \n",
       "4                        (Quantity=1.0)   \n",
       "...                                 ...   \n",
       "1277  (Health=1.0, FrequentRescuer=1.0)   \n",
       "1278                      (hasName=1.0)   \n",
       "1279                     (Quantity=1.0)   \n",
       "1280                       (Health=1.0)   \n",
       "1281              (FrequentRescuer=1.0)   \n",
       "\n",
       "                                            consequents  antecedent support  \\\n",
       "0                                            Breed2=0.0            0.699581   \n",
       "1                                            Color3=0.0            0.697579   \n",
       "2                                              Free=0.0            0.697579   \n",
       "3                                            Breed2=0.0            0.850886   \n",
       "4                                            Breed2=0.0            0.777259   \n",
       "...                                                 ...                 ...   \n",
       "1277              hasName=1.0 Quantity=1.0 hasVideo=0.0            0.719596   \n",
       "1278  Quantity=1.0 Health=1.0 hasVideo=0.0 FrequentR...            0.893872   \n",
       "1279  hasName=1.0 Health=1.0 hasVideo=0.0 FrequentRe...            0.777259   \n",
       "1280  hasName=1.0 Quantity=1.0 hasVideo=0.0 Frequent...            0.964211   \n",
       "1281   hasName=1.0 Quantity=1.0 Health=1.0 hasVideo=0.0            0.740850   \n",
       "\n",
       "      consequent support   support  confidence      lift  leverage  conviction  \n",
       "0               0.697579  0.496759    0.710082  1.017923  0.008747    1.043125  \n",
       "1               0.699581  0.496759    0.712119  1.017923  0.008747    1.043555  \n",
       "2               0.850886  0.601887    0.862823  1.014028  0.008327    1.087014  \n",
       "3               0.697579  0.601887    0.707365  1.014028  0.008327    1.033440  \n",
       "4               0.697579  0.554947    0.713979  1.023510  0.012747    1.057339  \n",
       "...                  ...       ...         ...       ...       ...         ...  \n",
       "1277            0.682282  0.510913    0.710000  1.040626  0.019946    1.095580  \n",
       "1278            0.551754  0.510913    0.571573  1.035921  0.017716    1.046261  \n",
       "1279            0.630671  0.510913    0.657327  1.042266  0.020718    1.077788  \n",
       "1280            0.526735  0.510913    0.529877  1.005966  0.003030    1.006684  \n",
       "1281            0.656214  0.510913    0.689631  1.050923  0.024757    1.107667  \n",
       "\n",
       "[1282 rows x 9 columns]"
      ]
     },
     "execution_count": 206,
     "metadata": {},
     "output_type": "execute_result"
    }
   ],
   "source": [
    "rules_m"
   ]
  },
  {
   "cell_type": "code",
   "execution_count": 207,
   "metadata": {},
   "outputs": [
    {
     "data": {
      "text/html": [
       "<div>\n",
       "<style scoped>\n",
       "    .dataframe tbody tr th:only-of-type {\n",
       "        vertical-align: middle;\n",
       "    }\n",
       "\n",
       "    .dataframe tbody tr th {\n",
       "        vertical-align: top;\n",
       "    }\n",
       "\n",
       "    .dataframe thead th {\n",
       "        text-align: right;\n",
       "    }\n",
       "</style>\n",
       "<table border=\"1\" class=\"dataframe\">\n",
       "  <thead>\n",
       "    <tr style=\"text-align: right;\">\n",
       "      <th></th>\n",
       "      <th>antecedents</th>\n",
       "      <th>consequents</th>\n",
       "      <th>antecedent support</th>\n",
       "      <th>consequent support</th>\n",
       "      <th>support</th>\n",
       "      <th>confidence</th>\n",
       "      <th>lift</th>\n",
       "      <th>leverage</th>\n",
       "      <th>conviction</th>\n",
       "    </tr>\n",
       "  </thead>\n",
       "  <tbody>\n",
       "  </tbody>\n",
       "</table>\n",
       "</div>"
      ],
      "text/plain": [
       "Empty DataFrame\n",
       "Columns: [antecedents, consequents, antecedent support, consequent support, support, confidence, lift, leverage, conviction]\n",
       "Index: []"
      ]
     },
     "execution_count": 207,
     "metadata": {},
     "output_type": "execute_result"
    }
   ],
   "source": [
    "new_rules_m"
   ]
  },
  {
   "cell_type": "markdown",
   "metadata": {},
   "source": [
    "## 2.3 Association Rules - Results and Discussion "
   ]
  },
  {
   "cell_type": "markdown",
   "metadata": {},
   "source": [
    "..."
   ]
  },
  {
   "cell_type": "markdown",
   "metadata": {},
   "source": [
    "## 2.4. Preprocessing Data for Clustering\n",
    "\n",
    "For this task we will use the same processed dataset as we used for the Binary and Multiclass Classification tasks, df_processed2_b_balanced_encoded and df_processed2_m_balanced_encoded. k-Means uses distance computation as a metric in its algorithm, and hence cannot handle categorical variable directly. That is the reason why we use the encoded datasets."
   ]
  },
  {
   "cell_type": "code",
   "execution_count": null,
   "metadata": {},
   "outputs": [],
   "source": [
    "# SPLIT THE DATASET\n",
    "nc_b = df_processed2_b_balanced_encoded.shape[1] # number of columns\n",
    "table_X_b = df_processed2_b_balanced_encoded.iloc[:, 0:nc_b-1] # get features ignoring AdoptionSpeed\n",
    "table_y_b = df_processed2_b_balanced_encoded.iloc[:, nc_b-1] # get class (last columns) \n",
    "\n",
    "nc_m = df_processed2_m_balanced_encoded.shape[1] # number of columns\n",
    "table_X_m = df_processed2_m_balanced_encoded.iloc[:, 0:nc_m-1] # get features ignoring AdoptionSpeed\n",
    "table_y_m = df_processed2_m_balanced_encoded.iloc[:, nc_m-1] # get class (last columns) "
   ]
  },
  {
   "cell_type": "markdown",
   "metadata": {},
   "source": [
    "Each dimension has the same weight in the k-means algorithm, but since our data has dimensions in different scales (some are binary, ranging from 1 to 0 while others are continuous, ranging from 0 to 250 - `Age`) we will proceed to standardizing the data, in order to avoid distortion on the relative near-ness of observations."
   ]
  },
  {
   "cell_type": "code",
   "execution_count": null,
   "metadata": {},
   "outputs": [],
   "source": [
    "# STANDARDIZING THE DATA\n",
    "from sklearn.preprocessing import StandardScaler\n",
    "scaler = StandardScaler()\n",
    "data_scaled_b = scaler.fit_transform(table_X_b)\n",
    "data_scaled_m = scaler.fit_transform(table_X_m)"
   ]
  },
  {
   "cell_type": "markdown",
   "metadata": {},
   "source": [
    "## 2.5. Finding Groups"
   ]
  },
  {
   "cell_type": "markdown",
   "metadata": {},
   "source": [
    "In order to find out if it's possible to find groups of pets with the same/similar adoption speed, we will look at the k=2 and k=5 clusters obtained from k-Means and determine whether they coincide with the AdoptionSpeed groups."
   ]
  },
  {
   "cell_type": "code",
   "execution_count": null,
   "metadata": {},
   "outputs": [],
   "source": [
    "from sklearn.cluster import KMeans\n",
    "kmeans_b = KMeans(n_clusters=2, random_state=0)\n",
    "kmeans_m = KMeans(n_clusters=5, random_state=0)"
   ]
  },
  {
   "cell_type": "code",
   "execution_count": null,
   "metadata": {},
   "outputs": [],
   "source": [
    "# Train K-means\n",
    "kmeans_b = kmeans_b.fit(data_scaled_b)\n",
    "kmeans_m = kmeans_m.fit(data_scaled_m)"
   ]
  },
  {
   "cell_type": "code",
   "execution_count": null,
   "metadata": {},
   "outputs": [],
   "source": [
    "# This function produces a confusion matrix with the percentual membership\n",
    "# (of the points in each cluster) to a given feature\n",
    "\n",
    "def df_confusion(cluster, table_a):\n",
    "    df = pd.DataFrame(set(table_a))\n",
    "    df = df.set_index(0)\n",
    "\n",
    "    for i in set(cluster): df[i] = 0 \n",
    "    i=0\n",
    "    while i < len(cluster):\n",
    "        df.loc[table_a[i], cluster[i]]+=1\n",
    "        i += 1\n",
    "    for i in set(df.columns): \n",
    "        Total = df[i].sum()\n",
    "        for j in set(df.index):\n",
    "            df.loc[j, i] = (df.loc[j, i] / Total)\n",
    "    return df"
   ]
  },
  {
   "cell_type": "markdown",
   "metadata": {},
   "source": [
    "### 2.5.1 Binary analysis"
   ]
  },
  {
   "cell_type": "code",
   "execution_count": null,
   "metadata": {},
   "outputs": [],
   "source": [
    "# Compare membership for binary dataset\n",
    "df1 = df_confusion(kmeans_b.labels_, table_y_b)\n",
    "ax = sns.heatmap(df1, annot=True)\n",
    "ax.set_xlabel('kmeans label')\n",
    "ax.set_ylabel('true label')"
   ]
  },
  {
   "cell_type": "markdown",
   "metadata": {},
   "source": [
    "### 2.5.1 Multiclass analysis"
   ]
  },
  {
   "cell_type": "code",
   "execution_count": null,
   "metadata": {},
   "outputs": [],
   "source": [
    "# Compare membership for multiclass dataset\n",
    "df2 = df_confusion(kmeans_m.labels_, table_y_m)\n",
    "ax = sns.heatmap(df2, annot=True)\n",
    "ax.set_xlabel('kmeans label')\n",
    "ax.set_ylabel('true label')"
   ]
  },
  {
   "cell_type": "markdown",
   "metadata": {},
   "source": [
    "## 2.6. Clustering - Results and Discussion "
   ]
  },
  {
   "cell_type": "markdown",
   "metadata": {},
   "source": [
    "In respect to the Binary analysis, we can see in the confusion matrix that the negative examples are evenly distributed through both clusters obtained from k-means, and the same happens for the positive examples. Thus, we conclude that the groups obtained from k-means do not coincide with the groups from the target class. \n",
    "\n",
    "In the Multiclass analysis, the confusion matrix indicates that none of the clusters hold more than 30% of examples from any AdoptionSpeed class, thus we conclude that there is no evident agreement between the predicted clusters and the real target groups.\n",
    "\n",
    "These poor results can be explained due to the complexity and high dimensionality of the dataset, because when we have so many features (378) distance interpretation isn’t so obvious. An additional step employing Principal Component Analysis to reduce dimensionality might've helped get more productive results. "
   ]
  },
  {
   "cell_type": "markdown",
   "metadata": {},
   "source": [
    "## 3. Final Comments and Conclusions"
   ]
  },
  {
   "cell_type": "markdown",
   "metadata": {},
   "source": [
    "..."
   ]
  }
 ],
 "metadata": {
  "kernelspec": {
   "display_name": "Python 3",
   "language": "python",
   "name": "python3"
  },
  "language_info": {
   "codemirror_mode": {
    "name": "ipython",
    "version": 3
   },
   "file_extension": ".py",
   "mimetype": "text/x-python",
   "name": "python",
   "nbconvert_exporter": "python",
   "pygments_lexer": "ipython3",
   "version": "3.7.3"
  }
 },
 "nbformat": 4,
 "nbformat_minor": 4
}
